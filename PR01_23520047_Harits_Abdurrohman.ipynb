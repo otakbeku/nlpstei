{
 "cells": [
  {
   "cell_type": "markdown",
   "id": "found-breathing",
   "metadata": {},
   "source": [
    "# PR-01 Penggunaan Library NLTK/Spacy\n",
    "---\n",
    "Harits Abdurrohman (23520057)\n",
    "\n",
    "Pemrosesan Bahasa Alami (IF6082)\n",
    "\n",
    "\n",
    "Pada tugas ini saya menggunakan teks di bawah sebagai data yang akan diolah menggunakan library NLTK\n",
    "\n",
    "> *Photo editing or most likely known as photo manipulation is a process of transforming or altering an image (photograph) by using methods in image processing. The photo manipulation itself existed after the early invention of photographs around the 1820s. Back in that years, photo manipulation can be achieved in the printing process or during development. In 1840 Hippolyte Bayard, one of the famous pioneers in the history of photography makes the first photo manipulation known as ‘Self Portrait as a Drowned Man’. In his photo, Bayard portraits himself while pretends committed suicide. Another well-known photo manipulation in the early year of the photograph (around 1860s) is a photo of Abraham Lincoln that was altered using the portrait of John C. Calhoun as his body and Mathew Brady as his head Many famous photo manipulation in the 18th century is done by retouching. By the time, photo manipulation becomes popular. In the 20th century, digitalization of photo manipulation comes with Paintbox in Quantel computers, later replaced in the market by other editing software like Adobe Photoshop. An existing photo manipulation software recently brings innovation in entertainment, journalism, the fashion industry, ethics until politics. Including in radiologist terms of enhancing the image.*\n",
    "\n",
    "## Import library yang dibutuhkan"
   ]
  },
  {
   "cell_type": "code",
   "execution_count": 1,
   "id": "regional-pension",
   "metadata": {},
   "outputs": [],
   "source": [
    "from nltk.tokenize import regexp_tokenize, wordpunct_tokenize, blankline_tokenize, LineTokenizer, casual_tokenize, TreebankWordTokenizer, word_tokenize, sent_tokenize\n",
    "from nltk.stem import PorterStemmer, SnowballStemmer, LancasterStemmer, WordNetLemmatizer\n",
    "from nltk.tag.stanford import StanfordNERTagger\n",
    "import nltk"
   ]
  },
  {
   "cell_type": "code",
   "execution_count": 2,
   "id": "improved-equality",
   "metadata": {},
   "outputs": [],
   "source": [
    "text = '''Photo editing or most likely known as photo manipulation is a process of transforming or altering an image (photograph) by using methods in image processing.\\n The photo manipulation itself existed after the early invention of photographs around the 1820s.\\n Back in that years, photo manipulation can be achieved in the printing process or during development.\\n In 1840 Hippolyte Bayard, one of the famous pioneers in the history of photography makes the first photo manipulation known as ‘Self Portrait as a Drowned Man’.\\n In his photo, Bayard portraits himself while pretends committed suicide.\\n Another well-known photo manipulation in the early year of the photograph (around 1860s) is a photo of Abraham Lincoln that was altered using the portrait of John C. Calhoun as his body and Mathew Brady as his head Many famous photo manipulation in the 18th century is done by retouching.\\n By the time, photo manipulation becomes popular. In the 20th century, digitalization of photo manipulation comes with Paintbox in Quantel computers, later replaced in the market by other editing software like Adobe Photoshop.\\n An existing photo manipulation software recently brings innovation in entertainment, journalism, the fashion industry, ethics until politics.\\n Including in radiologist terms of enhancing the image'''"
   ]
  },
  {
   "cell_type": "code",
   "execution_count": 3,
   "id": "literary-nickel",
   "metadata": {},
   "outputs": [
    {
     "data": {
      "text/plain": [
       "'Photo editing or most likely known as photo manipulation is a process of transforming or altering an image (photograph) by using methods in image processing.\\n The photo manipulation itself existed after the early invention of photographs around the 1820s.\\n Back in that years, photo manipulation can be achieved in the printing process or during development.\\n In 1840 Hippolyte Bayard, one of the famous pioneers in the history of photography makes the first photo manipulation known as ‘Self Portrait as a Drowned Man’.\\n In his photo, Bayard portraits himself while pretends committed suicide.\\n Another well-known photo manipulation in the early year of the photograph (around 1860s) is a photo of Abraham Lincoln that was altered using the portrait of John C. Calhoun as his body and Mathew Brady as his head Many famous photo manipulation in the 18th century is done by retouching.\\n By the time, photo manipulation becomes popular. In the 20th century, digitalization of photo manipulation comes with Paintbox in Quantel computers, later replaced in the market by other editing software like Adobe Photoshop.\\n An existing photo manipulation software recently brings innovation in entertainment, journalism, the fashion industry, ethics until politics.\\n Including in radiologist terms of enhancing the image'"
      ]
     },
     "execution_count": 3,
     "metadata": {},
     "output_type": "execute_result"
    }
   ],
   "source": [
    "text"
   ]
  },
  {
   "cell_type": "markdown",
   "id": "reported-prevention",
   "metadata": {},
   "source": [
    "##  Sentence splitter"
   ]
  },
  {
   "cell_type": "code",
   "execution_count": 4,
   "id": "multiple-german",
   "metadata": {},
   "outputs": [
    {
     "data": {
      "text/plain": [
       "['Photo editing or most likely known as photo manipulation is a process of transforming or altering an image (photograph) by using methods in image processing.',\n",
       " 'The photo manipulation itself existed after the early invention of photographs around the 1820s.',\n",
       " 'Back in that years, photo manipulation can be achieved in the printing process or during development.',\n",
       " 'In 1840 Hippolyte Bayard, one of the famous pioneers in the history of photography makes the first photo manipulation known as ‘Self Portrait as a Drowned Man’.',\n",
       " 'In his photo, Bayard portraits himself while pretends committed suicide.',\n",
       " 'Another well-known photo manipulation in the early year of the photograph (around 1860s) is a photo of Abraham Lincoln that was altered using the portrait of John C. Calhoun as his body and Mathew Brady as his head Many famous photo manipulation in the 18th century is done by retouching.',\n",
       " 'By the time, photo manipulation becomes popular.',\n",
       " 'In the 20th century, digitalization of photo manipulation comes with Paintbox in Quantel computers, later replaced in the market by other editing software like Adobe Photoshop.',\n",
       " 'An existing photo manipulation software recently brings innovation in entertainment, journalism, the fashion industry, ethics until politics.',\n",
       " 'Including in radiologist terms of enhancing the image']"
      ]
     },
     "execution_count": 4,
     "metadata": {},
     "output_type": "execute_result"
    }
   ],
   "source": [
    "# Menggunakan modul NLTK untuk sentence splitter\n",
    "text_split = sent_tokenize(text)\n",
    "text_split"
   ]
  },
  {
   "cell_type": "code",
   "execution_count": 5,
   "id": "brilliant-caution",
   "metadata": {},
   "outputs": [
    {
     "data": {
      "text/plain": [
       "['Photo editing or most likely known as photo manipulation is a process of transforming or altering an image (photograph) by using methods in image processing',\n",
       " '\\n The photo manipulation itself existed after the early invention of photographs around the 1820s',\n",
       " '\\n Back in that years, photo manipulation can be achieved in the printing process or during development',\n",
       " '\\n In 1840 Hippolyte Bayard, one of the famous pioneers in the history of photography makes the first photo manipulation known as ‘Self Portrait as a Drowned Man’',\n",
       " '\\n In his photo, Bayard portraits himself while pretends committed suicide',\n",
       " '\\n Another well-known photo manipulation in the early year of the photograph (around 1860s) is a photo of Abraham Lincoln that was altered using the portrait of John C',\n",
       " ' Calhoun as his body and Mathew Brady as his head Many famous photo manipulation in the 18th century is done by retouching',\n",
       " '\\n By the time, photo manipulation becomes popular',\n",
       " ' In the 20th century, digitalization of photo manipulation comes with Paintbox in Quantel computers, later replaced in the market by other editing software like Adobe Photoshop',\n",
       " '\\n An existing photo manipulation software recently brings innovation in entertainment, journalism, the fashion industry, ethics until politics',\n",
       " '\\n Including in radiologist terms of enhancing the image']"
      ]
     },
     "execution_count": 5,
     "metadata": {},
     "output_type": "execute_result"
    }
   ],
   "source": [
    "# Menggunakan modul built-in python\n",
    "text.split('.')"
   ]
  },
  {
   "cell_type": "markdown",
   "id": "manufactured-chick",
   "metadata": {},
   "source": [
    "## Tokenization\n",
    "\n",
    "NLTK menyediakan beberapa tokenizer. `Word_tokenize` merupakan yang paling populer. Ada bentuk tokenizer lain, yaitu Regular-Expression Tokenizer. Selain itu ada (yang dirangkum pada tugas ini) `casual_tokens`,`TreebankWordTokenizer` (berbasis Penn Treebank), . Berikut adalah contoh yang menggunakan `word_tokenize`"
   ]
  },
  {
   "cell_type": "code",
   "execution_count": 6,
   "id": "atlantic-worship",
   "metadata": {},
   "outputs": [
    {
     "data": {
      "text/plain": [
       "['Photo',\n",
       " 'editing',\n",
       " 'or',\n",
       " 'most',\n",
       " 'likely',\n",
       " 'known',\n",
       " 'as',\n",
       " 'photo',\n",
       " 'manipulation',\n",
       " 'is',\n",
       " 'a',\n",
       " 'process',\n",
       " 'of',\n",
       " 'transforming',\n",
       " 'or',\n",
       " 'altering',\n",
       " 'an',\n",
       " 'image',\n",
       " '(',\n",
       " 'photograph']"
      ]
     },
     "execution_count": 6,
     "metadata": {},
     "output_type": "execute_result"
    }
   ],
   "source": [
    "text_tokens = word_tokenize(text)\n",
    "text_tokens[:20] # menampilkan 20 token pertama\n",
    "# Tokenizer ini menghasilkan token yang sama dengan TreebankWordTokenizer"
   ]
  },
  {
   "cell_type": "code",
   "execution_count": 7,
   "id": "tribal-significance",
   "metadata": {},
   "outputs": [
    {
     "data": {
      "text/plain": [
       "['Photo',\n",
       " 'editing',\n",
       " 'or',\n",
       " 'most',\n",
       " 'likely',\n",
       " 'known',\n",
       " 'as',\n",
       " 'photo',\n",
       " 'manipulation',\n",
       " 'is',\n",
       " 'a',\n",
       " 'process',\n",
       " 'of',\n",
       " 'transforming',\n",
       " 'or',\n",
       " 'altering',\n",
       " 'an',\n",
       " 'image',\n",
       " '(',\n",
       " 'photograph']"
      ]
     },
     "execution_count": 7,
     "metadata": {},
     "output_type": "execute_result"
    }
   ],
   "source": [
    "# Menggunakan TreebankWordTokenizer\n",
    "# TreebankWordTokenizer menghasilkan token yang masih menyisakan special character seperti tanda kurung\n",
    "tbt_tokens = TreebankWordTokenizer().tokenize(text)\n",
    "tbt_tokens[:20]"
   ]
  },
  {
   "cell_type": "markdown",
   "id": "moral-cooking",
   "metadata": {},
   "source": [
    "Contoh menggunakan modul lain"
   ]
  },
  {
   "cell_type": "code",
   "execution_count": 8,
   "id": "fewer-probe",
   "metadata": {},
   "outputs": [],
   "source": [
    "# Contoh menggunakan Regular Expression\n",
    "# Mengambil dari https://www.nltk.org/api/nltk.tokenize.html\n",
    "regex_tokens = regexp_tokenize(text, pattern='\\w+|\\$[\\d\\.]+|\\S+') # Menggunakan regexp_tokenize\n",
    "wordpunct_tokens = wordpunct_tokenize(text) # Menggunakan wordpunct_tokenize\n",
    "blankline_tokens = blankline_tokenize(text) # Menggunakan blankline_tokenize\n",
    "linetokenizer_tokens = LineTokenizer(blanklines='keep').tokenize(text) # Menggunakan LineTokenizer\n",
    "casual_tokens = casual_tokenize(text) # menggunakan casual_tokenize\n"
   ]
  },
  {
   "cell_type": "code",
   "execution_count": 9,
   "id": "ambient-weight",
   "metadata": {},
   "outputs": [
    {
     "data": {
      "text/plain": [
       "['Photo',\n",
       " 'editing',\n",
       " 'or',\n",
       " 'most',\n",
       " 'likely',\n",
       " 'known',\n",
       " 'as',\n",
       " 'photo',\n",
       " 'manipulation',\n",
       " 'is',\n",
       " 'a',\n",
       " 'process',\n",
       " 'of',\n",
       " 'transforming',\n",
       " 'or',\n",
       " 'altering',\n",
       " 'an',\n",
       " 'image',\n",
       " '(photograph)',\n",
       " 'by']"
      ]
     },
     "execution_count": 9,
     "metadata": {},
     "output_type": "execute_result"
    }
   ],
   "source": [
    "# Menggunaakn regexp_tokenize\n",
    "# Tokenizer ini menggunakan pattern yang telah ditentukan sebelumnya\n",
    "regex_tokens[:20]"
   ]
  },
  {
   "cell_type": "code",
   "execution_count": 10,
   "id": "cooperative-prophet",
   "metadata": {},
   "outputs": [
    {
     "data": {
      "text/plain": [
       "['Photo',\n",
       " 'editing',\n",
       " 'or',\n",
       " 'most',\n",
       " 'likely',\n",
       " 'known',\n",
       " 'as',\n",
       " 'photo',\n",
       " 'manipulation',\n",
       " 'is',\n",
       " 'a',\n",
       " 'process',\n",
       " 'of',\n",
       " 'transforming',\n",
       " 'or',\n",
       " 'altering',\n",
       " 'an',\n",
       " 'image',\n",
       " '(',\n",
       " 'photograph']"
      ]
     },
     "execution_count": 10,
     "metadata": {},
     "output_type": "execute_result"
    }
   ],
   "source": [
    "# Menggunaakn wordpunct_tokenize\n",
    "# Pattern yang digunakan adalah '\\w+|[^\\w\\s]+'\n",
    "# Hasil dari tokenisasi ini dinilai lebih baik dibandingkan dengan word_tokenize. (sumber: https://stackoverflow.com/questions/50240029/nltk-wordpunct-tokenize-vs-word-tokenize)\n",
    "wordpunct_tokens[:20]"
   ]
  },
  {
   "cell_type": "code",
   "execution_count": 11,
   "id": "arabic-integration",
   "metadata": {},
   "outputs": [
    {
     "data": {
      "text/plain": [
       "['Photo editing or most likely known as photo manipulation is a process of transforming or altering an image (photograph) by using methods in image processing.\\n The photo manipulation itself existed after the early invention of photographs around the 1820s.\\n Back in that years, photo manipulation can be achieved in the printing process or during development.\\n In 1840 Hippolyte Bayard, one of the famous pioneers in the history of photography makes the first photo manipulation known as ‘Self Portrait as a Drowned Man’.\\n In his photo, Bayard portraits himself while pretends committed suicide.\\n Another well-known photo manipulation in the early year of the photograph (around 1860s) is a photo of Abraham Lincoln that was altered using the portrait of John C. Calhoun as his body and Mathew Brady as his head Many famous photo manipulation in the 18th century is done by retouching.\\n By the time, photo manipulation becomes popular. In the 20th century, digitalization of photo manipulation comes with Paintbox in Quantel computers, later replaced in the market by other editing software like Adobe Photoshop.\\n An existing photo manipulation software recently brings innovation in entertainment, journalism, the fashion industry, ethics until politics.\\n Including in radiologist terms of enhancing the image']"
      ]
     },
     "execution_count": 11,
     "metadata": {},
     "output_type": "execute_result"
    }
   ],
   "source": [
    "# Menggunakan blankline_tokenize\n",
    "# Pattern yang digunakan pada tokenizer ini berupa '\\s*\\n\\s*\\n\\s*'\n",
    "# pada tugas ini karena text input tidak memiliki pattern yang sesuai, maka tokenizer tidak bisa melakukan tokenisasi dengan baik\n",
    "blankline_tokens[:20]"
   ]
  },
  {
   "cell_type": "code",
   "execution_count": 12,
   "id": "distant-springfield",
   "metadata": {},
   "outputs": [
    {
     "data": {
      "text/plain": [
       "['Photo editing or most likely known as photo manipulation is a process of transforming or altering an image (photograph) by using methods in image processing.',\n",
       " ' The photo manipulation itself existed after the early invention of photographs around the 1820s.',\n",
       " ' Back in that years, photo manipulation can be achieved in the printing process or during development.',\n",
       " ' In 1840 Hippolyte Bayard, one of the famous pioneers in the history of photography makes the first photo manipulation known as ‘Self Portrait as a Drowned Man’.',\n",
       " ' In his photo, Bayard portraits himself while pretends committed suicide.',\n",
       " ' Another well-known photo manipulation in the early year of the photograph (around 1860s) is a photo of Abraham Lincoln that was altered using the portrait of John C. Calhoun as his body and Mathew Brady as his head Many famous photo manipulation in the 18th century is done by retouching.',\n",
       " ' By the time, photo manipulation becomes popular. In the 20th century, digitalization of photo manipulation comes with Paintbox in Quantel computers, later replaced in the market by other editing software like Adobe Photoshop.',\n",
       " ' An existing photo manipulation software recently brings innovation in entertainment, journalism, the fashion industry, ethics until politics.',\n",
       " ' Including in radiologist terms of enhancing the image']"
      ]
     },
     "execution_count": 12,
     "metadata": {},
     "output_type": "execute_result"
    }
   ],
   "source": [
    "# Menggunakan LineTokenizer\n",
    "# Mirip dengan text.split('\\n')\n",
    "linetokenizer_tokens[:20]"
   ]
  },
  {
   "cell_type": "code",
   "execution_count": 13,
   "id": "super-foster",
   "metadata": {},
   "outputs": [
    {
     "data": {
      "text/plain": [
       "['Photo',\n",
       " 'editing',\n",
       " 'or',\n",
       " 'most',\n",
       " 'likely',\n",
       " 'known',\n",
       " 'as',\n",
       " 'photo',\n",
       " 'manipulation',\n",
       " 'is',\n",
       " 'a',\n",
       " 'process',\n",
       " 'of',\n",
       " 'transforming',\n",
       " 'or',\n",
       " 'altering',\n",
       " 'an',\n",
       " 'image',\n",
       " '(',\n",
       " 'photograph']"
      ]
     },
     "execution_count": 13,
     "metadata": {},
     "output_type": "execute_result"
    }
   ],
   "source": [
    "# menggunakan casual_tokenize\n",
    "# Berbasis dari fungsi TweetTokenizer (sumber: https://tedboy.github.io/nlps/_modules/nltk/tokenize/casual.html#casual_tokenize)\n",
    "# Bisa beradaptasi/fleksibel terhadap domain baru (sumber: https://www.kite.com/python/docs/nltk.tokenize.casual )\n",
    "casual_tokens[:20]"
   ]
  },
  {
   "cell_type": "markdown",
   "id": "separated-capital",
   "metadata": {},
   "source": [
    "## Stemming\n",
    "\n",
    "Stemmer yang disediakan oleh NLTK ini cukup beragam (sumber: https://www.nltk.org/howto/stem.html dan https://www.kite.com/python/docs/nltk.stem) namun modul yang akan dirangkum pada tugas ini antara lain:\n",
    "\n",
    "1. porter: algoritme stemming yang paling populer. Dibuat pada tahun 1980 oleh Martin Porter. Cara algoritme ini bekerja dijelaskan pada [tautan ini](https://snowballstem.org/algorithms/porter/stemmer.html)\n",
    "2. snowball: Merupakan lanjutan dari porter yang dibuat oleh Martin Porter juga. Ada improvisasi dari algoritme sebelumnya sehingga kadang disebut dengan Porter2. Cara algoritme ini bekerja dijelaskan pada [tautan ini](https://snowballstem.org/algorithms/english/stemmer.html)\n",
    "3. lancaster: lancaster sedikit berbeda dengan porter dan snowball karena algoritme ini jauh lebih agresif sehingga kadang menghasilkan stem yang sedikit berbeda.\n",
    "\n",
    "Input yang digunakan menggunakan hasil tokenisasi dari `wordpunct_tokenize`. Di bawah ini merupakan fungsi untuk menampilkan perubahan token setelah di*stemming*"
   ]
  },
  {
   "cell_type": "code",
   "execution_count": 14,
   "id": "enhanced-terrace",
   "metadata": {},
   "outputs": [],
   "source": [
    "def display_stemming_diff(tokens, stems, limits=20):\n",
    "    [print(f'{token} -> {stemmed}') for (token, stemmed) in zip(tokens[:20], stems[:20])]"
   ]
  },
  {
   "cell_type": "code",
   "execution_count": 15,
   "id": "british-excess",
   "metadata": {},
   "outputs": [
    {
     "data": {
      "text/plain": [
       "['photo',\n",
       " 'edit',\n",
       " 'or',\n",
       " 'most',\n",
       " 'like',\n",
       " 'known',\n",
       " 'a',\n",
       " 'photo',\n",
       " 'manipul',\n",
       " 'i',\n",
       " 'a',\n",
       " 'process',\n",
       " 'of',\n",
       " 'transform',\n",
       " 'or',\n",
       " 'alter',\n",
       " 'an',\n",
       " 'imag',\n",
       " '(',\n",
       " 'photograph']"
      ]
     },
     "execution_count": 15,
     "metadata": {},
     "output_type": "execute_result"
    }
   ],
   "source": [
    "input_tokens = wordpunct_tokens.copy()\n",
    "\n",
    "porter_stemmer = PorterStemmer(mode=PorterStemmer.ORIGINAL_ALGORITHM)\n",
    "porter_results = [porter_stemmer.stem(token) for token in input_tokens]\n",
    "# sekilas hasil dari porter stemmer\n",
    "porter_results[:20]"
   ]
  },
  {
   "cell_type": "code",
   "execution_count": 16,
   "id": "working-cabin",
   "metadata": {
    "scrolled": true
   },
   "outputs": [
    {
     "name": "stdout",
     "output_type": "stream",
     "text": [
      "Photo -> photo\n",
      "editing -> edit\n",
      "or -> or\n",
      "most -> most\n",
      "likely -> like\n",
      "known -> known\n",
      "as -> a\n",
      "photo -> photo\n",
      "manipulation -> manipul\n",
      "is -> i\n",
      "a -> a\n",
      "process -> process\n",
      "of -> of\n",
      "transforming -> transform\n",
      "or -> or\n",
      "altering -> alter\n",
      "an -> an\n",
      "image -> imag\n",
      "( -> (\n",
      "photograph -> photograph\n"
     ]
    }
   ],
   "source": [
    "# Perubahan token setelah stemming menggunakan algoritme Porter\n",
    "display_stemming_diff(input_tokens, porter_results)"
   ]
  },
  {
   "cell_type": "code",
   "execution_count": 17,
   "id": "grand-contact",
   "metadata": {},
   "outputs": [
    {
     "data": {
      "text/plain": [
       "['photo',\n",
       " 'edit',\n",
       " 'or',\n",
       " 'most',\n",
       " 'like',\n",
       " 'known',\n",
       " 'as',\n",
       " 'photo',\n",
       " 'manipul',\n",
       " 'is',\n",
       " 'a',\n",
       " 'process',\n",
       " 'of',\n",
       " 'transform',\n",
       " 'or',\n",
       " 'alter',\n",
       " 'an',\n",
       " 'imag',\n",
       " '(',\n",
       " 'photograph']"
      ]
     },
     "execution_count": 17,
     "metadata": {},
     "output_type": "execute_result"
    }
   ],
   "source": [
    "snowball_stemmer = SnowballStemmer('english')\n",
    "snowball_results = [snowball_stemmer.stem(token) for token in input_tokens]\n",
    "# sekilas hasil dari Snowball stemmer\n",
    "snowball_results[:20]"
   ]
  },
  {
   "cell_type": "code",
   "execution_count": 18,
   "id": "presidential-thumb",
   "metadata": {},
   "outputs": [
    {
     "name": "stdout",
     "output_type": "stream",
     "text": [
      "Photo -> photo\n",
      "editing -> edit\n",
      "or -> or\n",
      "most -> most\n",
      "likely -> like\n",
      "known -> known\n",
      "as -> as\n",
      "photo -> photo\n",
      "manipulation -> manipul\n",
      "is -> is\n",
      "a -> a\n",
      "process -> process\n",
      "of -> of\n",
      "transforming -> transform\n",
      "or -> or\n",
      "altering -> alter\n",
      "an -> an\n",
      "image -> imag\n",
      "( -> (\n",
      "photograph -> photograph\n"
     ]
    }
   ],
   "source": [
    "# Perubahan token setelah stemming menggunakan algoritme Snowball\n",
    "display_stemming_diff(input_tokens, snowball_results)"
   ]
  },
  {
   "cell_type": "code",
   "execution_count": 19,
   "id": "private-chick",
   "metadata": {},
   "outputs": [],
   "source": [
    "## Lemmatization"
   ]
  },
  {
   "cell_type": "code",
   "execution_count": 20,
   "id": "modular-brake",
   "metadata": {},
   "outputs": [
    {
     "data": {
      "text/plain": [
       "['photo',\n",
       " 'edit',\n",
       " 'or',\n",
       " 'most',\n",
       " 'lik',\n",
       " 'known',\n",
       " 'as',\n",
       " 'photo',\n",
       " 'manip',\n",
       " 'is',\n",
       " 'a',\n",
       " 'process',\n",
       " 'of',\n",
       " 'transform',\n",
       " 'or',\n",
       " 'alt',\n",
       " 'an',\n",
       " 'im',\n",
       " '(',\n",
       " 'photograph']"
      ]
     },
     "execution_count": 20,
     "metadata": {},
     "output_type": "execute_result"
    }
   ],
   "source": [
    "lancester_stemmer = LancasterStemmer()\n",
    "lancester_results = [lancester_stemmer.stem(token) for token in input_tokens]\n",
    "# sekilas hasil dari Snowball stemmer\n",
    "lancester_results[:20]"
   ]
  },
  {
   "cell_type": "code",
   "execution_count": 21,
   "id": "married-patient",
   "metadata": {},
   "outputs": [
    {
     "name": "stdout",
     "output_type": "stream",
     "text": [
      "Photo -> photo\n",
      "editing -> edit\n",
      "or -> or\n",
      "most -> most\n",
      "likely -> lik\n",
      "known -> known\n",
      "as -> as\n",
      "photo -> photo\n",
      "manipulation -> manip\n",
      "is -> is\n",
      "a -> a\n",
      "process -> process\n",
      "of -> of\n",
      "transforming -> transform\n",
      "or -> or\n",
      "altering -> alt\n",
      "an -> an\n",
      "image -> im\n",
      "( -> (\n",
      "photograph -> photograph\n"
     ]
    }
   ],
   "source": [
    "# Perubahan token setelah stemming menggunakan algoritme Lancester\n",
    "display_stemming_diff(input_tokens, lancester_results)"
   ]
  },
  {
   "cell_type": "markdown",
   "id": "northern-repeat",
   "metadata": {},
   "source": [
    "## Entity Masking\n",
    "\n",
    "Entity masking ada proses mengubah suatu kata menjadi label/kategori dari entitas. Sebagai contoh, nama orang akan diganti menjadi label 'PEOPLE' atau NOUN. Nltk tidak secara langsung menyediakan fungsi ini, maka pendekatan yang bisa dilakukan adalah menggunakan fungsi NER atau Named Entity Recognition. NER ini membantu untuk mengenali apakah kata tersebut merupakan entitas atau bukan. Pada tugas ini NER yang digunakan adalah [model NER dari Stanford](https://nlp.stanford.edu/software/CRF-NER.shtml).\n"
   ]
  },
  {
   "cell_type": "code",
   "execution_count": 22,
   "id": "powerful-robertson",
   "metadata": {},
   "outputs": [
    {
     "data": {
      "text/plain": [
       "'Photo editing or most likely known as photo manipulation is a process of transforming or altering an image ( photograph ) by using methods in image processing . The photo manipulation itself existed after the early invention of photographs around the 1820s . Back in that years , photo manipulation can be achieved in the printing process or during development . In 1840 PERSON PERSON , one of the famous pioneers in the history of photography makes the first photo manipulation known as ‘ Self Portrait as a Drowned Man ’ . In his photo , PERSON portraits himself while pretends committed suicide . Another well-known photo manipulation in the early year of the photograph ( around 1860s ) is a photo of PERSON PERSON that was altered using the portrait of PERSON PERSON PERSON as his body and PERSON PERSON as his head Many famous photo manipulation in the 18th century is done by retouching . By the time , photo manipulation becomes popular . In the 20th century , digitalization of photo manipulation comes with Paintbox in ORGANIZATION computers , later replaced in the market by other editing software like Adobe Photoshop . An existing photo manipulation software recently brings innovation in entertainment , journalism , the fashion industry , ethics until politics . Including in radiologist terms of enhancing the image '"
      ]
     },
     "execution_count": 22,
     "metadata": {},
     "output_type": "execute_result"
    }
   ],
   "source": [
    "def display_entity_masked_sentence(tagged_sentences):\n",
    "    new_text = ''\n",
    "    for sentence in tagged_sentences:\n",
    "        for word in sentence:\n",
    "            if word[1] == 'O':\n",
    "                new_text += word[0]+' '\n",
    "            else:\n",
    "                new_text += word[1]+' '\n",
    "    return new_text\n",
    "\n",
    "\n",
    "JAR_NER = \"stanford-ner-2020-11-17/stanford-ner.jar\"\n",
    "MODEL_NER = \"stanford-ner-2020-11-17/classifiers/english.all.3class.distsim.crf.ser.gz\"\n",
    "sn = StanfordNERTagger(MODEL_NER, JAR_NER)\n",
    "\n",
    "masked_sentences = nltk.sent_tokenize(text) # Memisahkan antar kalimat\n",
    "masked_sentences = [nltk.word_tokenize(sent) for sent in masked_sentences] # Melakukan tokenisasi\n",
    "masked_sentences = [sn.tag(sent) for sent in masked_sentences] # proses masking\n",
    "display_entity_masked_sentence(masked_sentences) # Fungsi untuk menampilkan hasil dari masking\n"
   ]
  },
  {
   "cell_type": "markdown",
   "id": "guilty-practice",
   "metadata": {},
   "source": [
    "## POS Tagger\n",
    "\n",
    "POS (part of speech) tagger merupakan label yang diberikan pada teks untuk menandakan bahwa kata tersebut termasuk NOUN, DETERMINER atau ADJECTIVE.\n"
   ]
  },
  {
   "cell_type": "code",
   "execution_count": 23,
   "id": "exceptional-specific",
   "metadata": {},
   "outputs": [
    {
     "data": {
      "text/plain": [
       "'Photo/NNP editing/VBG or/CC most/JJS likely/JJ known/VBN as/IN photo/NN manipulation/NN is/VBZ a/DT process/NN of/IN transforming/VBG or/CC altering/VBG an/DT image/NN (/( photograph/NN )/) by/IN using/VBG methods/NNS in/IN image/NN processing/NN ./. The/DT photo/NN manipulation/NN itself/PRP existed/VBN after/IN the/DT early/JJ invention/NN of/IN photographs/NN around/IN the/DT 1820s/CD ./. Back/RB in/IN that/DT years/NNS ,/, photo/NN manipulation/NN can/MD be/VB achieved/VBN in/IN the/DT printing/NN process/NN or/CC during/IN development/NN ./. In/IN 1840/CD Hippolyte/NNP Bayard/NNP ,/, one/CD of/IN the/DT famous/JJ pioneers/NNS in/IN the/DT history/NN of/IN photography/NN makes/VBZ the/DT first/JJ photo/NN manipulation/NN known/VBN as/IN ‘/NN Self/NNP Portrait/NNP as/IN a/DT Drowned/NNP Man/NNP ’/NNP ./. In/IN his/PRP$ photo/NN ,/, Bayard/NNP portraits/VBZ himself/PRP while/IN pretends/NNS committed/JJ suicide/NN ./. Another/DT well-known/JJ photo/NN manipulation/NN in/IN the/DT early/JJ year/NN of/IN the/DT photograph/NN (/( around/IN 1860s/CD )/) is/VBZ a/DT photo/NN of/IN Abraham/NNP Lincoln/NNP that/WDT was/VBD altered/VBN using/VBG the/DT portrait/NN of/IN John/NNP C./NNP Calhoun/NNP as/IN his/PRP$ body/NN and/CC Mathew/NNP Brady/NNP as/IN his/PRP$ head/NN Many/NNP famous/JJ photo/NN manipulation/NN in/IN the/DT 18th/JJ century/NN is/VBZ done/VBN by/IN retouching/VBG ./. By/IN the/DT time/NN ,/, photo/NN manipulation/NN becomes/VBZ popular/JJ ./. In/IN the/DT 20th/JJ century/NN ,/, digitalization/NN of/IN photo/NN manipulation/NN comes/VBZ with/IN Paintbox/NNP in/IN Quantel/NNP computers/NNS ,/, later/RB replaced/VBN in/IN the/DT market/NN by/IN other/JJ editing/VBG software/NN like/IN Adobe/NNP Photoshop/NNP ./. An/DT existing/VBG photo/NN manipulation/NN software/NN recently/RB brings/VBZ innovation/NN in/IN entertainment/NN ,/, journalism/NN ,/, the/DT fashion/NN industry/NN ,/, ethics/NNS until/IN politics/NNS ./. Including/VBG in/IN radiologist/NN terms/NNS of/IN enhancing/VBG the/DT image/NN '"
      ]
     },
     "execution_count": 23,
     "metadata": {},
     "output_type": "execute_result"
    }
   ],
   "source": [
    "def display_POS_tag_sentence(tagged_sentences):\n",
    "    new_text = ''\n",
    "    for sentence in tagged_sentences:\n",
    "        for word in sentence:\n",
    "            new_text += word[0]+'/'+word[1]+' '\n",
    "    return new_text\n",
    "\n",
    "pos_tagged_sentences = nltk.sent_tokenize(text) # Memisahkan antar kalimat\n",
    "pos_tagged_sentences = [nltk.word_tokenize(sent) for sent in pos_tagged_sentences] # Melakukan tokenisasi\n",
    "pos_tagged_sentences = [nltk.tag.pos_tag(sent) for sent in pos_tagged_sentences] # proses tagging\n",
    "display_POS_tag_sentence(pos_tagged_sentences)  # Fungsi untuk menampilkan hasil dari tagging"
   ]
  },
  {
   "cell_type": "markdown",
   "id": "amazing-asset",
   "metadata": {},
   "source": [
    "## Phrase Chunking\n",
    "\n",
    "Merupakan sebuah fase pemrosesan bahasa alami yang memisahkan dan menyegmentasikan kalimat menjadi sub-konstituennya, seperti kata benda, kata kerja, dan frasa preposisional, masing-masing disingkat NP, VP, dan PP. Biasanya, setiap subkontituen atau potongan dilambangkan dengan tanda kurung ([Wiki](https://en.wikipedia.org/wiki/Phrase_chunking))."
   ]
  },
  {
   "cell_type": "code",
   "execution_count": 24,
   "id": "professional-david",
   "metadata": {},
   "outputs": [
    {
     "name": "stdout",
     "output_type": "stream",
     "text": [
      "(S\n",
      "  (NP Photo/NNP editing/VBG)\n",
      "  or/CC\n",
      "  most/JJS\n",
      "  likely/JJ\n",
      "  known/VBN\n",
      "  as/IN\n",
      "  (NP photo/NN)\n",
      "  (NP manipulation/NN)\n",
      "  is/VBZ\n",
      "  (NP a/DT process/NN)\n",
      "  of/IN\n",
      "  transforming/VBG\n",
      "  or/CC\n",
      "  altering/VBG\n",
      "  (NP an/DT image/NN)\n",
      "  (/(\n",
      "  (NP photograph/NN)\n",
      "  )/)\n",
      "  by/IN\n",
      "  using/VBG\n",
      "  methods/NNS\n",
      "  in/IN\n",
      "  (NP image/NN)\n",
      "  (NP processing/NN)\n",
      "  ./.)\n",
      "(NP Photo/NNP editing/VBG)\n",
      "(NP photo/NN)\n",
      "(NP manipulation/NN)\n",
      "(NP a/DT process/NN)\n",
      "(NP an/DT image/NN)\n",
      "(NP photograph/NN)\n",
      "(NP image/NN)\n",
      "(NP processing/NN)\n"
     ]
    }
   ],
   "source": [
    "grammar = ('''\n",
    "    NP: {<DT>?<JJ>*<NN>}\n",
    "        {<NNP><VBG>} \n",
    "    ''') # grammar yang digunakan. Jika ditemukan DT diikuti JJ dan NN, maka akan ditandai sebagai NP. Begitu juga jika ada NNP diikuti dengan VBG, maka akan menjadi NP\n",
    "chunk_parser = nltk.RegexpParser(grammar)\n",
    "results = chunk_parser.parse(pos_tagged_sentences[0])\n",
    "for subtree in results.subtrees():\n",
    "    print(subtree)"
   ]
  },
  {
   "cell_type": "code",
   "execution_count": null,
   "id": "operating-server",
   "metadata": {},
   "outputs": [],
   "source": []
  }
 ],
 "metadata": {
  "kernelspec": {
   "display_name": "Python 3",
   "language": "python",
   "name": "python3"
  },
  "language_info": {
   "codemirror_mode": {
    "name": "ipython",
    "version": 3
   },
   "file_extension": ".py",
   "mimetype": "text/x-python",
   "name": "python",
   "nbconvert_exporter": "python",
   "pygments_lexer": "ipython3",
   "version": "3.8.5"
  }
 },
 "nbformat": 4,
 "nbformat_minor": 5
}
