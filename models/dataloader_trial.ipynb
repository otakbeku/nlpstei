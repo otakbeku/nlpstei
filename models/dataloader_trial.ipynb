{
 "metadata": {
  "language_info": {
   "codemirror_mode": {
    "name": "ipython",
    "version": 3
   },
   "file_extension": ".py",
   "mimetype": "text/x-python",
   "name": "python",
   "nbconvert_exporter": "python",
   "pygments_lexer": "ipython3",
   "version": "3.8.5-final"
  },
  "orig_nbformat": 2,
  "kernelspec": {
   "name": "python3",
   "display_name": "Python 3.8.5 64-bit ('nlpai': conda)",
   "metadata": {
    "interpreter": {
     "hash": "63f661667cfff4a21b9f1172704ab3c7d831d3612a4dc528cd9d3281904853c9"
    }
   }
  }
 },
 "nbformat": 4,
 "nbformat_minor": 2,
 "cells": [
  {
   "cell_type": "code",
   "execution_count": 1,
   "metadata": {},
   "outputs": [],
   "source": [
    "import nltk\n",
    "import pandas as pd\n",
    "import heapq\n",
    "import pprint\n",
    "\n",
    "from nltk.tokenize import wordpunct_tokenize, blankline_tokenize, line_tokenize, word_tokenize\n",
    "from itertools import combinations\n",
    "from nltk.corpus import stopwords\n",
    "from time import time \n",
    "from gensim.models import Word2Vec, KeyedVectors\n",
    "import multiprocessing\n",
    "\n",
    "# # tensorflow\n",
    "# import tensorflow as tf\n",
    "# from tensorflow import keras\n",
    "# from tensorflow.keras.preprocessing.sequence import pad_sequences\n",
    "from sklearn.model_selection import train_test_split\n",
    "\n",
    "# Pytorch\n",
    "import torch.nn as nn\n",
    "import torch.nn.functional as F\n",
    "import torch\n",
    "from torch.utils.data import Dataset, DataLoader\n",
    "from torch.nn.utils.rnn import pad_sequence, pack_padded_sequence, pad_packed_sequence\n",
    "\n",
    "# stanza\n",
    "import stanza as st\n",
    "\n",
    "import numpy as np\n",
    "import seaborn as sns\n",
    "import matplotlib.pyplot as plt\n",
    "%matplotlib inline"
   ]
  },
  {
   "cell_type": "code",
   "execution_count": 2,
   "metadata": {},
   "outputs": [
    {
     "output_type": "stream",
     "name": "stdout",
     "text": [
      "<class 'pandas.core.frame.DataFrame'>\nRangeIndex: 534943 entries, 0 to 534942\nData columns (total 4 columns):\n #   Column     Non-Null Count   Dtype \n---  ------     --------------   ----- \n 0   artist     534943 non-null  object\n 1   song_name  534943 non-null  object\n 2   song_id    534943 non-null  int64 \n 3   sent       534943 non-null  object\ndtypes: int64(1), object(3)\nmemory usage: 16.3+ MB\n"
     ]
    }
   ],
   "source": [
    "data = pd.read_csv('sentences_15klyrics.csv')\n",
    "data.info()"
   ]
  },
  {
   "cell_type": "code",
   "execution_count": 3,
   "metadata": {},
   "outputs": [
    {
     "output_type": "stream",
     "name": "stderr",
     "text": [
      "2021-02-26 11:12:52 INFO: Loading these models for language: en (English):\n",
      "=========================\n",
      "| Processor | Package   |\n",
      "-------------------------\n",
      "| tokenize  | combined  |\n",
      "| pos       | combined  |\n",
      "| lemma     | combined  |\n",
      "| depparse  | combined  |\n",
      "| sentiment | sstplus   |\n",
      "| ner       | ontonotes |\n",
      "=========================\n",
      "\n",
      "2021-02-26 11:12:52 INFO: Use device: gpu\n",
      "2021-02-26 11:12:52 INFO: Loading: tokenize\n",
      "2021-02-26 11:12:56 INFO: Loading: pos\n",
      "2021-02-26 11:12:56 INFO: Loading: lemma\n",
      "2021-02-26 11:12:57 INFO: Loading: depparse\n",
      "2021-02-26 11:12:57 INFO: Loading: sentiment\n",
      "2021-02-26 11:12:57 INFO: Loading: ner\n",
      "2021-02-26 11:12:58 INFO: Done loading processors!\n"
     ]
    }
   ],
   "source": [
    "pos_tagger =  st.Pipeline(lang='en')"
   ]
  },
  {
   "cell_type": "code",
   "execution_count": 4,
   "metadata": {},
   "outputs": [],
   "source": [
    "sent = data.sent"
   ]
  },
  {
   "cell_type": "code",
   "execution_count": 5,
   "metadata": {},
   "outputs": [
    {
     "output_type": "execute_result",
     "data": {
      "text/plain": [
       "\"it's a junkie dream makes you so uptight\""
      ]
     },
     "metadata": {},
     "execution_count": 5
    }
   ],
   "source": [
    "sent[0]"
   ]
  },
  {
   "cell_type": "code",
   "execution_count": 9,
   "metadata": {},
   "outputs": [
    {
     "output_type": "stream",
     "name": "stdout",
     "text": [
      "it [('itself', 0.782857358455658), ('something', 0.7486327886581421), ('everything', 0.7118643522262573), ('them', 0.7043470144271851)]\n",
      "==========\n",
      "'s [(\"'s--the\", 0.6630688309669495), ('was--the', 0.6064021587371826), ('is--the', 0.6045242547988892), ('its', 0.5987124443054199)]\n",
      "==========\n",
      "a [('A', 0.816367506980896), ('-', 0.739240288734436), ('\"', 0.7376177906990051), ('/', 0.7108931541442871)]\n",
      "==========\n",
      "junkie [('junkies', 0.7693454027175903), ('addict', 0.7505453824996948), ('ex-junkie', 0.7027280926704407), ('junky', 0.6767479777336121)]\n",
      "==========\n",
      "dream [('dreams', 0.8512080907821655), ('dreaming', 0.7916011214256287), ('dream-', 0.7445577383041382), ('day-dream', 0.7272703647613525)]\n",
      "==========\n",
      "makes [('make', 0.8064786195755005), ('making', 0.7594941854476929), ('made', 0.6906698942184448), ('finds', 0.6746305227279663)]\n",
      "==========\n",
      "you [('you--you', 0.7711327075958252), ('you-and', 0.7605157494544983), ('you--if', 0.7444275617599487), ('thatyou', 0.7353635430335999)]\n",
      "==========\n",
      "so [('too', 0.7427366971969604), ('but', 0.7313002347946167), ('however', 0.726128339767456), ('anyway', 0.7238963842391968)]\n",
      "==========\n",
      "uptight [('up-tight', 0.7604759931564331), ('strait-laced', 0.7212878465652466), ('uptightness', 0.7143203616142273), ('prudish', 0.709030270576477)]\n",
      "==========\n"
     ]
    }
   ],
   "source": [
    "for word in word_tokenize(sent[0]):\n",
    "    print(word, pretrainedwvmodel.wv.similar_by_word(word, topn=4))\n",
    "    print('==========')\n"
   ]
  },
  {
   "cell_type": "code",
   "execution_count": 10,
   "metadata": {},
   "outputs": [],
   "source": [
    "doc = pos_tagger(sent[0])"
   ]
  },
  {
   "cell_type": "code",
   "execution_count": 11,
   "metadata": {},
   "outputs": [
    {
     "output_type": "execute_result",
     "data": {
      "text/plain": [
       "['__class__',\n",
       " '__delattr__',\n",
       " '__dict__',\n",
       " '__dir__',\n",
       " '__doc__',\n",
       " '__eq__',\n",
       " '__format__',\n",
       " '__ge__',\n",
       " '__getattribute__',\n",
       " '__gt__',\n",
       " '__hash__',\n",
       " '__init__',\n",
       " '__init_subclass__',\n",
       " '__le__',\n",
       " '__lt__',\n",
       " '__module__',\n",
       " '__ne__',\n",
       " '__new__',\n",
       " '__reduce__',\n",
       " '__reduce_ex__',\n",
       " '__repr__',\n",
       " '__setattr__',\n",
       " '__sizeof__',\n",
       " '__str__',\n",
       " '__subclasshook__',\n",
       " '__weakref__',\n",
       " '_ents',\n",
       " '_num_tokens',\n",
       " '_num_words',\n",
       " '_process_sentences',\n",
       " '_sentences',\n",
       " '_text',\n",
       " 'add_property',\n",
       " 'build_ents',\n",
       " 'entities',\n",
       " 'ents',\n",
       " 'from_serialized',\n",
       " 'get',\n",
       " 'get_mwt_expansions',\n",
       " 'iter_tokens',\n",
       " 'iter_words',\n",
       " 'num_tokens',\n",
       " 'num_words',\n",
       " 'sentences',\n",
       " 'set',\n",
       " 'set_mwt_expansions',\n",
       " 'text',\n",
       " 'to_dict',\n",
       " 'to_serialized']"
      ]
     },
     "metadata": {},
     "execution_count": 11
    }
   ],
   "source": [
    "dir(doc)"
   ]
  },
  {
   "cell_type": "code",
   "execution_count": 23,
   "metadata": {},
   "outputs": [
    {
     "output_type": "execute_result",
     "data": {
      "text/plain": [
       "{\n",
       "  \"id\": 1,\n",
       "  \"text\": \"it\",\n",
       "  \"lemma\": \"it\",\n",
       "  \"upos\": \"PRON\",\n",
       "  \"xpos\": \"PRP\",\n",
       "  \"feats\": \"Case=Nom|Gender=Neut|Number=Sing|Person=3|PronType=Prs\",\n",
       "  \"head\": 5,\n",
       "  \"deprel\": \"nsubj\",\n",
       "  \"misc\": \"start_char=0|end_char=2\"\n",
       "}"
      ]
     },
     "metadata": {},
     "execution_count": 23
    }
   ],
   "source": [
    "doc.sentences[0].words[0]"
   ]
  },
  {
   "cell_type": "code",
   "execution_count": 32,
   "metadata": {},
   "outputs": [],
   "source": [
    "xl = [pretrainedwvmodel.wv.vocab[k.text].index for k in doc.sentences[0].words]\n",
    "yl = [k.xpos for k in doc.sentences[0].words]"
   ]
  },
  {
   "cell_type": "code",
   "execution_count": 75,
   "metadata": {},
   "outputs": [],
   "source": [
    "doc2 = pos_tagger('asdasd asdasd arkw mikwe')"
   ]
  },
  {
   "cell_type": "code",
   "execution_count": 102,
   "metadata": {},
   "outputs": [],
   "source": [
    "tag2class = {\n",
    "    '<PAD>':0,\n",
    "    '<UNK>':404,\n",
    "    'CC':1,\n",
    "'CD':2,\n",
    "'DT':3,\n",
    "'EX':4,\n",
    "'FW':5,\n",
    "'IN':6,\n",
    "'JJ':7,\n",
    "'JJR':8,\n",
    "'JJS':9,\n",
    "'LS':10,\n",
    "'MD':11,\n",
    "'NN':12,\n",
    "'NNS':13,\n",
    "'NNP':14,\n",
    "'NNPS':15,\n",
    "'PDT':16,\n",
    "'POS':17,\n",
    "'PRP':18,\n",
    "'PRP$':19,\n",
    "'RB':20,\n",
    "'RBR':21,\n",
    "'RBS':22,\n",
    "'RP':23,\n",
    "'SYM':24,\n",
    "'TO':25,\n",
    "'UH':26,\n",
    "'VB':27,\n",
    "'VBD':28,\n",
    "'VBG':29,\n",
    "'VBN':30,\n",
    "'VBP':31,\n",
    "'VBZ':32,\n",
    "'WDT':33,\n",
    "'WP':34,\n",
    "'WP$':35,\n",
    "'WRB':36,}"
   ]
  },
  {
   "cell_type": "code",
   "execution_count": 103,
   "metadata": {},
   "outputs": [
    {
     "output_type": "stream",
     "name": "stdout",
     "text": [
      "asdasd None True\nasdasd None True\narkw None True\nmikwe None True\n"
     ]
    }
   ],
   "source": [
    "xl = []\n",
    "yl = []\n",
    "len_seq = 20\n",
    "seq = np.zeros(len_seq, dtype=np.int64)\n",
    "# yseq = np.array(['<pad>' for _ in range(len_seq)])\n",
    "yseq = np.zeros(len_seq, dtype=object)\n",
    "for k in doc2.sentences[0].words:\n",
    "    print(k.text, pretrainedwvmodel.wv.vocab.get(k.text), (pretrainedwvmodel.wv.vocab.get(k.text) is None))\n",
    "    if (pretrainedwvmodel.wv.vocab.get(k.text) is None):\n",
    "        xl.append(10001)\n",
    "        yl.append(tag2class.get('<UNK>'))\n",
    "        continue\n",
    "    xl.append(pretrainedwvmodel.wv.vocab.get(k.text).index)\n",
    "    yl.append(tag2class.get(k.xpos))\n",
    "seq[:len(xl)] = xl\n",
    "yseq[:len(yl)] = yl\n",
    "    \n"
   ]
  },
  {
   "cell_type": "code",
   "execution_count": 104,
   "metadata": {},
   "outputs": [
    {
     "output_type": "execute_result",
     "data": {
      "text/plain": [
       "[404, 404, 404, 404]"
      ]
     },
     "metadata": {},
     "execution_count": 104
    }
   ],
   "source": [
    "yl"
   ]
  },
  {
   "cell_type": "code",
   "execution_count": 105,
   "metadata": {},
   "outputs": [
    {
     "output_type": "execute_result",
     "data": {
      "text/plain": [
       "array([404, 404, 404, 404, 0, 0, 0, 0, 0, 0, 0, 0, 0, 0, 0, 0, 0, 0, 0, 0],\n",
       "      dtype=object)"
      ]
     },
     "metadata": {},
     "execution_count": 105
    }
   ],
   "source": [
    "yseq"
   ]
  },
  {
   "cell_type": "code",
   "execution_count": 76,
   "metadata": {},
   "outputs": [
    {
     "output_type": "stream",
     "name": "stdout",
     "text": [
      "asdasd None True\nasdasd None True\narkw None True\nmikwe None True\n"
     ]
    }
   ],
   "source": [
    "xl = []\n",
    "len_seq = 20\n",
    "seq = np.zeros(len_seq, dtype=np.int64)\n",
    "for k in doc2.sentences[0].words:\n",
    "    print(k.text, pretrainedwvmodel.wv.vocab.get(k.text), (pretrainedwvmodel.wv.vocab.get(k.text) is None))\n",
    "    if k == '<pad>':\n",
    "        xl.append(10000)\n",
    "        continue\n",
    "    if (pretrainedwvmodel.wv.vocab.get(k.text) is None):\n",
    "        xl.append(10001)\n",
    "        continue\n",
    "    xl.append(pretrainedwvmodel.wv.vocab.get(k.text).index)\n",
    "seq[:len(xl)] = xl"
   ]
  },
  {
   "cell_type": "code",
   "execution_count": 77,
   "metadata": {},
   "outputs": [
    {
     "output_type": "execute_result",
     "data": {
      "text/plain": [
       "array([10001, 10001, 10001, 10001,     0,     0,     0,     0,     0,\n",
       "           0,     0,     0,     0,     0,     0,     0,     0,     0,\n",
       "           0,     0], dtype=int64)"
      ]
     },
     "metadata": {},
     "execution_count": 77
    }
   ],
   "source": [
    "seq"
   ]
  },
  {
   "cell_type": "code",
   "execution_count": 72,
   "metadata": {},
   "outputs": [
    {
     "output_type": "execute_result",
     "data": {
      "text/plain": [
       "array([   19,    24,     7, 45314,  3758,   618,    30,    57, 54995,\n",
       "           0,     0,     0,     0,     0,     0,     0,     0,     0,\n",
       "           0,     0], dtype=int64)"
      ]
     },
     "metadata": {},
     "execution_count": 72
    }
   ],
   "source": [
    "seq"
   ]
  },
  {
   "cell_type": "code",
   "execution_count": 51,
   "metadata": {},
   "outputs": [
    {
     "output_type": "error",
     "ename": "AttributeError",
     "evalue": "'NoneType' object has no attribute 'index'",
     "traceback": [
      "\u001b[1;31m---------------------------------------------------------------------------\u001b[0m",
      "\u001b[1;31mAttributeError\u001b[0m                            Traceback (most recent call last)",
      "\u001b[1;32m<ipython-input-51-c189ea9e58b4>\u001b[0m in \u001b[0;36m<module>\u001b[1;34m\u001b[0m\n\u001b[1;32m----> 1\u001b[1;33m \u001b[0mxl\u001b[0m \u001b[1;33m=\u001b[0m \u001b[1;33m[\u001b[0m\u001b[0mpretrainedwvmodel\u001b[0m\u001b[1;33m.\u001b[0m\u001b[0mwv\u001b[0m\u001b[1;33m.\u001b[0m\u001b[0mvocab\u001b[0m\u001b[1;33m.\u001b[0m\u001b[0mget\u001b[0m\u001b[1;33m(\u001b[0m\u001b[0mk\u001b[0m\u001b[1;33m)\u001b[0m\u001b[1;33m.\u001b[0m\u001b[0mindex\u001b[0m \u001b[1;32mif\u001b[0m \u001b[0mpretrainedwvmodel\u001b[0m\u001b[1;33m.\u001b[0m\u001b[0mwv\u001b[0m\u001b[1;33m.\u001b[0m\u001b[0mvocab\u001b[0m\u001b[1;33m.\u001b[0m\u001b[0mget\u001b[0m\u001b[1;33m(\u001b[0m\u001b[0mk\u001b[0m\u001b[1;33m)\u001b[0m\u001b[1;33m.\u001b[0m\u001b[0mindex\u001b[0m \u001b[1;32melse\u001b[0m \u001b[1;36m10000\u001b[0m \u001b[1;32mfor\u001b[0m \u001b[0mk\u001b[0m \u001b[1;32min\u001b[0m \u001b[1;33m[\u001b[0m\u001b[1;34m'asdklasd'\u001b[0m\u001b[1;33m,\u001b[0m \u001b[1;34m'asdasd'\u001b[0m\u001b[1;33m]\u001b[0m \u001b[1;33m]\u001b[0m\u001b[1;33m\u001b[0m\u001b[1;33m\u001b[0m\u001b[0m\n\u001b[0m\u001b[0;32m      2\u001b[0m \u001b[0myl\u001b[0m \u001b[1;33m=\u001b[0m \u001b[1;33m[\u001b[0m\u001b[0mk\u001b[0m\u001b[1;33m.\u001b[0m\u001b[0mxpos\u001b[0m \u001b[1;32mfor\u001b[0m \u001b[0mk\u001b[0m \u001b[1;32min\u001b[0m \u001b[0mdoc\u001b[0m\u001b[1;33m.\u001b[0m\u001b[0msentences\u001b[0m\u001b[1;33m[\u001b[0m\u001b[1;36m0\u001b[0m\u001b[1;33m]\u001b[0m\u001b[1;33m.\u001b[0m\u001b[0mwords\u001b[0m\u001b[1;33m]\u001b[0m\u001b[1;33m\u001b[0m\u001b[1;33m\u001b[0m\u001b[0m\n",
      "\u001b[1;32m<ipython-input-51-c189ea9e58b4>\u001b[0m in \u001b[0;36m<listcomp>\u001b[1;34m(.0)\u001b[0m\n\u001b[1;32m----> 1\u001b[1;33m \u001b[0mxl\u001b[0m \u001b[1;33m=\u001b[0m \u001b[1;33m[\u001b[0m\u001b[0mpretrainedwvmodel\u001b[0m\u001b[1;33m.\u001b[0m\u001b[0mwv\u001b[0m\u001b[1;33m.\u001b[0m\u001b[0mvocab\u001b[0m\u001b[1;33m.\u001b[0m\u001b[0mget\u001b[0m\u001b[1;33m(\u001b[0m\u001b[0mk\u001b[0m\u001b[1;33m)\u001b[0m\u001b[1;33m.\u001b[0m\u001b[0mindex\u001b[0m \u001b[1;32mif\u001b[0m \u001b[0mpretrainedwvmodel\u001b[0m\u001b[1;33m.\u001b[0m\u001b[0mwv\u001b[0m\u001b[1;33m.\u001b[0m\u001b[0mvocab\u001b[0m\u001b[1;33m.\u001b[0m\u001b[0mget\u001b[0m\u001b[1;33m(\u001b[0m\u001b[0mk\u001b[0m\u001b[1;33m)\u001b[0m\u001b[1;33m.\u001b[0m\u001b[0mindex\u001b[0m \u001b[1;32melse\u001b[0m \u001b[1;36m10000\u001b[0m \u001b[1;32mfor\u001b[0m \u001b[0mk\u001b[0m \u001b[1;32min\u001b[0m \u001b[1;33m[\u001b[0m\u001b[1;34m'asdklasd'\u001b[0m\u001b[1;33m,\u001b[0m \u001b[1;34m'asdasd'\u001b[0m\u001b[1;33m]\u001b[0m \u001b[1;33m]\u001b[0m\u001b[1;33m\u001b[0m\u001b[1;33m\u001b[0m\u001b[0m\n\u001b[0m\u001b[0;32m      2\u001b[0m \u001b[0myl\u001b[0m \u001b[1;33m=\u001b[0m \u001b[1;33m[\u001b[0m\u001b[0mk\u001b[0m\u001b[1;33m.\u001b[0m\u001b[0mxpos\u001b[0m \u001b[1;32mfor\u001b[0m \u001b[0mk\u001b[0m \u001b[1;32min\u001b[0m \u001b[0mdoc\u001b[0m\u001b[1;33m.\u001b[0m\u001b[0msentences\u001b[0m\u001b[1;33m[\u001b[0m\u001b[1;36m0\u001b[0m\u001b[1;33m]\u001b[0m\u001b[1;33m.\u001b[0m\u001b[0mwords\u001b[0m\u001b[1;33m]\u001b[0m\u001b[1;33m\u001b[0m\u001b[1;33m\u001b[0m\u001b[0m\n",
      "\u001b[1;31mAttributeError\u001b[0m: 'NoneType' object has no attribute 'index'"
     ]
    }
   ],
   "source": [
    "xl = [pretrainedwvmodel.wv.vocab.get(k).index  for k in ['asdklasd', 'asdasd'] ]\n",
    "yl = [k.xpos for k in doc.sentences[0].words]"
   ]
  },
  {
   "cell_type": "code",
   "execution_count": 40,
   "metadata": {},
   "outputs": [
    {
     "output_type": "error",
     "ename": "KeyError",
     "evalue": "'asdklasd'",
     "traceback": [
      "\u001b[1;31m---------------------------------------------------------------------------\u001b[0m",
      "\u001b[1;31mKeyError\u001b[0m                                  Traceback (most recent call last)",
      "\u001b[1;32m<ipython-input-40-c34cb52b2fe9>\u001b[0m in \u001b[0;36m<module>\u001b[1;34m\u001b[0m\n\u001b[0;32m      1\u001b[0m \u001b[1;32mfor\u001b[0m \u001b[0mk\u001b[0m \u001b[1;32min\u001b[0m \u001b[1;33m[\u001b[0m\u001b[1;34m'asdklasd'\u001b[0m\u001b[1;33m,\u001b[0m \u001b[1;34m'asdasd'\u001b[0m\u001b[1;33m]\u001b[0m\u001b[1;33m:\u001b[0m\u001b[1;33m\u001b[0m\u001b[1;33m\u001b[0m\u001b[0m\n\u001b[1;32m----> 2\u001b[1;33m     \u001b[0mpretrainedwvmodel\u001b[0m\u001b[1;33m.\u001b[0m\u001b[0mwv\u001b[0m\u001b[1;33m.\u001b[0m\u001b[0mvocab\u001b[0m\u001b[1;33m[\u001b[0m\u001b[0mk\u001b[0m\u001b[1;33m]\u001b[0m\u001b[1;33m.\u001b[0m\u001b[0mindex\u001b[0m\u001b[1;33m\u001b[0m\u001b[1;33m\u001b[0m\u001b[0m\n\u001b[0m\u001b[0;32m      3\u001b[0m     \u001b[1;32mif\u001b[0m \u001b[0mpretrainedwvmodel\u001b[0m\u001b[1;33m.\u001b[0m\u001b[0mwv\u001b[0m\u001b[1;33m.\u001b[0m\u001b[0mvocab\u001b[0m\u001b[1;33m[\u001b[0m\u001b[0mk\u001b[0m\u001b[1;33m]\u001b[0m\u001b[1;33m.\u001b[0m\u001b[0mindex\u001b[0m\u001b[1;33m:\u001b[0m\u001b[1;33m\u001b[0m\u001b[1;33m\u001b[0m\u001b[0m\n\u001b[0;32m      4\u001b[0m         \u001b[0mprint\u001b[0m\u001b[1;33m(\u001b[0m\u001b[0mk\u001b[0m\u001b[1;33m)\u001b[0m\u001b[1;33m\u001b[0m\u001b[1;33m\u001b[0m\u001b[0m\n",
      "\u001b[1;31mKeyError\u001b[0m: 'asdklasd'"
     ]
    }
   ],
   "source": [
    "for k in ['asdklasd', 'asdasd']:\n",
    "    pretrainedwvmodel.wv.vocab[k]\n",
    "    if pretrainedwvmodel.wv.vocab[k].index:\n",
    "        print(k)"
   ]
  },
  {
   "cell_type": "code",
   "execution_count": 46,
   "metadata": {},
   "outputs": [
    {
     "output_type": "execute_result",
     "data": {
      "text/plain": [
       "53"
      ]
     },
     "metadata": {},
     "execution_count": 46
    }
   ],
   "source": [
    "pretrainedwvmodel.wv.vocab['he'].index"
   ]
  },
  {
   "cell_type": "code",
   "execution_count": 49,
   "metadata": {},
   "outputs": [],
   "source": [
    "pretrainedwvmodel.wv.vocab.get('asdawdaw')"
   ]
  },
  {
   "cell_type": "code",
   "execution_count": 43,
   "metadata": {},
   "outputs": [
    {
     "output_type": "execute_result",
     "data": {
      "text/plain": [
       "['__class__',\n",
       " '__contains__',\n",
       " '__delattr__',\n",
       " '__delitem__',\n",
       " '__dir__',\n",
       " '__doc__',\n",
       " '__eq__',\n",
       " '__format__',\n",
       " '__ge__',\n",
       " '__getattribute__',\n",
       " '__getitem__',\n",
       " '__gt__',\n",
       " '__hash__',\n",
       " '__init__',\n",
       " '__init_subclass__',\n",
       " '__iter__',\n",
       " '__le__',\n",
       " '__len__',\n",
       " '__lt__',\n",
       " '__ne__',\n",
       " '__new__',\n",
       " '__reduce__',\n",
       " '__reduce_ex__',\n",
       " '__repr__',\n",
       " '__reversed__',\n",
       " '__setattr__',\n",
       " '__setitem__',\n",
       " '__sizeof__',\n",
       " '__str__',\n",
       " '__subclasshook__',\n",
       " 'clear',\n",
       " 'copy',\n",
       " 'fromkeys',\n",
       " 'get',\n",
       " 'items',\n",
       " 'keys',\n",
       " 'pop',\n",
       " 'popitem',\n",
       " 'setdefault',\n",
       " 'update',\n",
       " 'values']"
      ]
     },
     "metadata": {},
     "execution_count": 43
    }
   ],
   "source": [
    "dir(pretrainedwvmodel.wv.vocab)"
   ]
  },
  {
   "cell_type": "code",
   "execution_count": null,
   "metadata": {},
   "outputs": [],
   "source": [
    "xl"
   ]
  },
  {
   "cell_type": "code",
   "execution_count": 34,
   "metadata": {},
   "outputs": [
    {
     "output_type": "execute_result",
     "data": {
      "text/plain": [
       "['PRP', 'VBZ', 'DT', 'NN', 'NN', 'VBZ', 'PRP', 'RB', 'JJ']"
      ]
     },
     "metadata": {},
     "execution_count": 34
    }
   ],
   "source": [
    "yl"
   ]
  },
  {
   "cell_type": "code",
   "execution_count": 4,
   "metadata": {},
   "outputs": [],
   "source": [
    "# lyrics_pos_tagger = {\n",
    "#     'artist':[],\n",
    "#     'song_name':[],\n",
    "#     'song_id':[],\n",
    "#     'word':[],\n",
    "#     'XPOS':[],\n",
    "#     'UPOS':[],\n",
    "# }\n",
    "\n",
    "# max_length_sent = 0\n",
    "# for song_id, song_info in data.iterrows():\n",
    "#     lines = '. '.join(line_tokenize(song_info.lyric))\n",
    "#     doc = pos_tagger(lines)\n",
    "#     for sent in doc.sentences:\n",
    "#         curr_max_length = 0\n",
    "#         for word in sent.words:\n",
    "#             curr_max_length += 1\n",
    "#             lyrics_pos_tagger['artist'].append(song_info.artist)\n",
    "#             lyrics_pos_tagger['song_name'].append(song_info.song_name)\n",
    "#             lyrics_pos_tagger['song_id'].append(song_id)\n",
    "#             lyrics_pos_tagger['word'].append(word.text)\n",
    "#             lyrics_pos_tagger['XPOS'].append(word.xpos)\n",
    "#             lyrics_pos_tagger['UPOS'].append(word.upos)\n",
    "#         max_length_sent = max(max_length_sent, curr_max_length)\n"
   ]
  },
  {
   "cell_type": "code",
   "execution_count": null,
   "metadata": {},
   "outputs": [],
   "source": [
    "# class DatasetMaper(Dataset):\n",
    "# \t'''\n",
    "# \tHandles batches of dataset\n",
    "# \t'''\n",
    "  \n",
    "# \tdef __init__(self, x, y):\n",
    "# \t\tself.x = x\n",
    "# \t\tself.y = y\n",
    "\t\t\n",
    "# \tdef __len__(self):\n",
    "# \t\treturn len(self.x)\n",
    "\t\t\n",
    "# \tdef __getitem__(self, idx):\n",
    "# \t\treturn self.x[idx], self.y[idx]\n",
    "\n",
    "# training_set = DatasetMaper(X_train, y_train)\n",
    "# validation_set = DatasetMaper(X_val, y_val)\n",
    "# test_set = DatasetMaper(X_test, y_test)\n",
    "\t\t\n",
    "# loader_training = DataLoader(training_set, batch_size=lstm_args.batch_size)\n",
    "# loader_val = DataLoader(training_set, batch_size=lstm_args.batch_size)\n",
    "# loader_test = DataLoader(test_set)"
   ]
  },
  {
   "cell_type": "code",
   "execution_count": null,
   "metadata": {},
   "outputs": [],
   "source": [
    "# def sentence_encoder(text, vocab2index):\n",
    "#     tokens = text.lower().split()\n",
    "#     temp = np.full(len(vocab2index), len(vocab2index)+1)\n",
    "#     sentencoded = np.array([vocab2index.get(word, len(vocab2index)+1) for word in tokens])\n",
    "#     length = len(sentencoded)\n",
    "#     temp[:length] = sentencoded\n",
    "#     return temp"
   ]
  },
  {
   "cell_type": "code",
   "execution_count": null,
   "metadata": {},
   "outputs": [],
   "source": []
  },
  {
   "cell_type": "code",
   "execution_count": 7,
   "metadata": {},
   "outputs": [],
   "source": [
    "# Pretrained word2vec\n",
    "import gensim.downloader as api\n",
    "corpus = api.load('fasttext-wiki-news-subwords-300', return_path=True)\n",
    "pretrainedwvmodel = KeyedVectors.load_word2vec_format(corpus)"
   ]
  },
  {
   "cell_type": "code",
   "execution_count": null,
   "metadata": {},
   "outputs": [],
   "source": [
    "pretrainedwvmodel.wv.similar_by_word(\"its\", topn=20)"
   ]
  },
  {
   "cell_type": "code",
   "execution_count": null,
   "metadata": {},
   "outputs": [],
   "source": [
    "pretrainedwvmodel"
   ]
  },
  {
   "cell_type": "code",
   "execution_count": null,
   "metadata": {},
   "outputs": [],
   "source": [
    "pretrained_embedding_matrix = pretrainedwvmodel.wv.vectors\n",
    "pretrained_embedding_matrix.append(np.zeros((300,))) # Padding\n",
    "padding_index = len(pretrained_embedding_matrix)"
   ]
  },
  {
   "cell_type": "code",
   "execution_count": 112,
   "metadata": {},
   "outputs": [],
   "source": [
    "TAG2CLASS = {\n",
    "    '<PAD>':0,\n",
    "    '<UNK>':404,\n",
    "    'CC':1,\n",
    "'CD':2,\n",
    "'DT':3,\n",
    "'EX':4,\n",
    "'FW':5,\n",
    "'IN':6,\n",
    "'JJ':7,\n",
    "'JJR':8,\n",
    "'JJS':9,\n",
    "'LS':10,\n",
    "'MD':11,\n",
    "'NN':12,\n",
    "'NNS':13,\n",
    "'NNP':14,\n",
    "'NNPS':15,\n",
    "'PDT':16,\n",
    "'POS':17,\n",
    "'PRP':18,\n",
    "'PRP$':19,\n",
    "'RB':20,\n",
    "'RBR':21,\n",
    "'RBS':22,\n",
    "'RP':23,\n",
    "'SYM':24,\n",
    "'TO':25,\n",
    "'UH':26,\n",
    "'VB':27,\n",
    "'VBD':28,\n",
    "'VBG':29,\n",
    "'VBN':30,\n",
    "'VBP':31,\n",
    "'VBZ':32,\n",
    "'WDT':33,\n",
    "'WP':34,\n",
    "'WP$':35,\n",
    "'WRB':36,}\n",
    "\n",
    "class DataMapper(Dataset):\n",
    "    def __init__(self, sentence_lyrics_file, wvmodel, sequence_len):\n",
    "        self.pos_tagger = st.Pipeline(lang='en')\n",
    "        temp = pd.read_csv(sentence_lyrics_file)\n",
    "        self.sents = temp.sent\n",
    "        self.sequence_len=sequence_len\n",
    "        self.model = wvmodel\n",
    "    def __len__(self):\n",
    "        return len(self.sents)\n",
    "    \n",
    "    def __getitem__(self, idx):\n",
    "        doc = pos_tagger(self.sents[idx])\n",
    "        xl = []\n",
    "        yl = []\n",
    "        seq = np.zeros(self.sequence_len, dtype=np.int64)\n",
    "        yseq = np.zeros(self.sequence_len, dtype=object)\n",
    "        for k in doc.sentences[0].words:\n",
    "            if (self.model.wv.vocab.get(k.text) is None):\n",
    "                xl.append(10001)\n",
    "                yl.append(TAG2CLASS.get('<UNK>'))\n",
    "                continue\n",
    "            xl.append(self.model.wv.vocab.get(k.text).index)\n",
    "            yl.append(TAG2CLASS.get(k.xpos))\n",
    "        seq[:len(xl)] = xl\n",
    "        yseq[:len(yl)] = yl\n",
    "        return seq, yseq\n",
    "        \n",
    "\n"
   ]
  },
  {
   "cell_type": "code",
   "execution_count": 113,
   "metadata": {},
   "outputs": [
    {
     "output_type": "stream",
     "name": "stderr",
     "text": [
      "2021-02-26 12:09:40 INFO: Loading these models for language: en (English):\n",
      "=========================\n",
      "| Processor | Package   |\n",
      "-------------------------\n",
      "| tokenize  | combined  |\n",
      "| pos       | combined  |\n",
      "| lemma     | combined  |\n",
      "| depparse  | combined  |\n",
      "| sentiment | sstplus   |\n",
      "| ner       | ontonotes |\n",
      "=========================\n",
      "\n",
      "2021-02-26 12:09:40 INFO: Use device: gpu\n",
      "2021-02-26 12:09:40 INFO: Loading: tokenize\n",
      "2021-02-26 12:09:40 INFO: Loading: pos\n",
      "2021-02-26 12:09:40 INFO: Loading: lemma\n",
      "2021-02-26 12:09:40 INFO: Loading: depparse\n",
      "2021-02-26 12:09:40 INFO: Loading: sentiment\n",
      "2021-02-26 12:09:41 INFO: Loading: ner\n",
      "2021-02-26 12:09:41 INFO: Done loading processors!\n",
      "[   19    24     7 45314  3758   618    30    57 54995     0     0     0\n",
      "     0     0     0     0     0     0     0     0]\n",
      "[18 32 3 12 12 32 18 20 7 0 0 0 0 0 0 0 0 0 0 0]\n"
     ]
    }
   ],
   "source": [
    "nice = DataMapper('sentences_15klyrics.csv', pretrainedwvmodel, 20)\n",
    "\n",
    "xn, yn = nice[0]\n",
    "print(xn)\n",
    "print(yn)"
   ]
  },
  {
   "cell_type": "code",
   "execution_count": 234,
   "metadata": {},
   "outputs": [
    {
     "output_type": "stream",
     "name": "stderr",
     "text": [
      "684537it [02:17, 4977.66it/s]\n"
     ]
    }
   ],
   "source": [
    "# data = pd.read_csv('sentences_15klyrics.csv')\n",
    "from tqdm import tqdm\n",
    "max_length_sent = 20\n",
    "data = pd.read_csv('sentences_15klyrics.csv')\n",
    "datak = {'sent':[], 'length':[]}\n",
    "for song_id, song_info in tqdm(data.iterrows()):\n",
    "    if not(type(song_info.sent)==str):\n",
    "        continue\n",
    "    curr_max_length = len(word_tokenize(song_info.sent))\n",
    "    datak['sent'].append(song_info.sent)\n",
    "    datak['length'].append(curr_max_length)\n",
    "    max_length_sent = max(max_length_sent, curr_max_length)"
   ]
  },
  {
   "cell_type": "code",
   "execution_count": 233,
   "metadata": {},
   "outputs": [
    {
     "output_type": "execute_result",
     "data": {
      "text/plain": [
       "nan"
      ]
     },
     "metadata": {},
     "execution_count": 233
    }
   ],
   "source": [
    "song_info.sent"
   ]
  },
  {
   "cell_type": "code",
   "execution_count": 235,
   "metadata": {},
   "outputs": [],
   "source": [
    "dfdatak = pd.DataFrame(datak)"
   ]
  },
  {
   "cell_type": "code",
   "execution_count": 236,
   "metadata": {},
   "outputs": [
    {
     "output_type": "execute_result",
     "data": {
      "text/plain": [
       "              length\n",
       "count  684533.000000\n",
       "mean        5.589098\n",
       "std         3.488740\n",
       "min         1.000000\n",
       "25%         3.000000\n",
       "50%         5.000000\n",
       "75%         7.000000\n",
       "max       811.000000"
      ],
      "text/html": "<div>\n<style scoped>\n    .dataframe tbody tr th:only-of-type {\n        vertical-align: middle;\n    }\n\n    .dataframe tbody tr th {\n        vertical-align: top;\n    }\n\n    .dataframe thead th {\n        text-align: right;\n    }\n</style>\n<table border=\"1\" class=\"dataframe\">\n  <thead>\n    <tr style=\"text-align: right;\">\n      <th></th>\n      <th>length</th>\n    </tr>\n  </thead>\n  <tbody>\n    <tr>\n      <th>count</th>\n      <td>684533.000000</td>\n    </tr>\n    <tr>\n      <th>mean</th>\n      <td>5.589098</td>\n    </tr>\n    <tr>\n      <th>std</th>\n      <td>3.488740</td>\n    </tr>\n    <tr>\n      <th>min</th>\n      <td>1.000000</td>\n    </tr>\n    <tr>\n      <th>25%</th>\n      <td>3.000000</td>\n    </tr>\n    <tr>\n      <th>50%</th>\n      <td>5.000000</td>\n    </tr>\n    <tr>\n      <th>75%</th>\n      <td>7.000000</td>\n    </tr>\n    <tr>\n      <th>max</th>\n      <td>811.000000</td>\n    </tr>\n  </tbody>\n</table>\n</div>"
     },
     "metadata": {},
     "execution_count": 236
    }
   ],
   "source": [
    "dfdatak.describe()"
   ]
  },
  {
   "cell_type": "code",
   "execution_count": 237,
   "metadata": {},
   "outputs": [
    {
     "output_type": "execute_result",
     "data": {
      "text/plain": [
       "                                                     sent  length\n",
       "8         and when you grow up you're going to be a freak      12\n",
       "17      you better call your mom she's out looking for...      11\n",
       "60       The way you treated me will make me lose my mind      11\n",
       "133       but you know me I come back when you want me to      12\n",
       "138        I was looking for a job and then I found a job      12\n",
       "...                                                   ...     ...\n",
       "684491   I ain't gonna bump no more with no big fat woman      13\n",
       "684492   I ain't gonna bump no more with no big fat woman      13\n",
       "684493   I ain't gonna bump no more with no big fat woman      13\n",
       "684517         But it's goin' to take some time this time      11\n",
       "684525         And it's goin' to take some time this time      11\n",
       "\n",
       "[47300 rows x 2 columns]"
      ],
      "text/html": "<div>\n<style scoped>\n    .dataframe tbody tr th:only-of-type {\n        vertical-align: middle;\n    }\n\n    .dataframe tbody tr th {\n        vertical-align: top;\n    }\n\n    .dataframe thead th {\n        text-align: right;\n    }\n</style>\n<table border=\"1\" class=\"dataframe\">\n  <thead>\n    <tr style=\"text-align: right;\">\n      <th></th>\n      <th>sent</th>\n      <th>length</th>\n    </tr>\n  </thead>\n  <tbody>\n    <tr>\n      <th>8</th>\n      <td>and when you grow up you're going to be a freak</td>\n      <td>12</td>\n    </tr>\n    <tr>\n      <th>17</th>\n      <td>you better call your mom she's out looking for...</td>\n      <td>11</td>\n    </tr>\n    <tr>\n      <th>60</th>\n      <td>The way you treated me will make me lose my mind</td>\n      <td>11</td>\n    </tr>\n    <tr>\n      <th>133</th>\n      <td>but you know me I come back when you want me to</td>\n      <td>12</td>\n    </tr>\n    <tr>\n      <th>138</th>\n      <td>I was looking for a job and then I found a job</td>\n      <td>12</td>\n    </tr>\n    <tr>\n      <th>...</th>\n      <td>...</td>\n      <td>...</td>\n    </tr>\n    <tr>\n      <th>684491</th>\n      <td>I ain't gonna bump no more with no big fat woman</td>\n      <td>13</td>\n    </tr>\n    <tr>\n      <th>684492</th>\n      <td>I ain't gonna bump no more with no big fat woman</td>\n      <td>13</td>\n    </tr>\n    <tr>\n      <th>684493</th>\n      <td>I ain't gonna bump no more with no big fat woman</td>\n      <td>13</td>\n    </tr>\n    <tr>\n      <th>684517</th>\n      <td>But it's goin' to take some time this time</td>\n      <td>11</td>\n    </tr>\n    <tr>\n      <th>684525</th>\n      <td>And it's goin' to take some time this time</td>\n      <td>11</td>\n    </tr>\n  </tbody>\n</table>\n<p>47300 rows × 2 columns</p>\n</div>"
     },
     "metadata": {},
     "execution_count": 237
    }
   ],
   "source": [
    "dfdatak.query('length>10')"
   ]
  },
  {
   "cell_type": "code",
   "execution_count": 238,
   "metadata": {},
   "outputs": [
    {
     "output_type": "stream",
     "name": "stdout",
     "text": [
      "Help on method describe in module pandas.core.groupby.groupby:\n\ndescribe(**kwargs) method of pandas.core.groupby.generic.DataFrameGroupBy instance\n    Generate descriptive statistics.\n    \n    Descriptive statistics include those that summarize the central\n    tendency, dispersion and shape of a\n    dataset's distribution, excluding ``NaN`` values.\n    \n    Analyzes both numeric and object series, as well\n    as ``DataFrame`` column sets of mixed data types. The output\n    will vary depending on what is provided. Refer to the notes\n    below for more detail.\n    \n    Parameters\n    ----------\n    percentiles : list-like of numbers, optional\n        The percentiles to include in the output. All should\n        fall between 0 and 1. The default is\n        ``[.25, .5, .75]``, which returns the 25th, 50th, and\n        75th percentiles.\n    include : 'all', list-like of dtypes or None (default), optional\n        A white list of data types to include in the result. Ignored\n        for ``Series``. Here are the options:\n    \n        - 'all' : All columns of the input will be included in the output.\n        - A list-like of dtypes : Limits the results to the\n          provided data types.\n          To limit the result to numeric types submit\n          ``numpy.number``. To limit it instead to object columns submit\n          the ``numpy.object`` data type. Strings\n          can also be used in the style of\n          ``select_dtypes`` (e.g. ``df.describe(include=['O'])``). To\n          select pandas categorical columns, use ``'category'``\n        - None (default) : The result will include all numeric columns.\n    exclude : list-like of dtypes or None (default), optional,\n        A black list of data types to omit from the result. Ignored\n        for ``Series``. Here are the options:\n    \n        - A list-like of dtypes : Excludes the provided data types\n          from the result. To exclude numeric types submit\n          ``numpy.number``. To exclude object columns submit the data\n          type ``numpy.object``. Strings can also be used in the style of\n          ``select_dtypes`` (e.g. ``df.describe(include=['O'])``). To\n          exclude pandas categorical columns, use ``'category'``\n        - None (default) : The result will exclude nothing.\n    datetime_is_numeric : bool, default False\n        Whether to treat datetime dtypes as numeric. This affects statistics\n        calculated for the column. For DataFrame input, this also\n        controls whether datetime columns are included by default.\n    \n        .. versionadded:: 1.1.0\n    \n    Returns\n    -------\n    Series or DataFrame\n        Summary statistics of the Series or Dataframe provided.\n    \n    See Also\n    --------\n    DataFrame.count: Count number of non-NA/null observations.\n    DataFrame.max: Maximum of the values in the object.\n    DataFrame.min: Minimum of the values in the object.\n    DataFrame.mean: Mean of the values.\n    DataFrame.std: Standard deviation of the observations.\n    DataFrame.select_dtypes: Subset of a DataFrame including/excluding\n        columns based on their dtype.\n    \n    Notes\n    -----\n    For numeric data, the result's index will include ``count``,\n    ``mean``, ``std``, ``min``, ``max`` as well as lower, ``50`` and\n    upper percentiles. By default the lower percentile is ``25`` and the\n    upper percentile is ``75``. The ``50`` percentile is the\n    same as the median.\n    \n    For object data (e.g. strings or timestamps), the result's index\n    will include ``count``, ``unique``, ``top``, and ``freq``. The ``top``\n    is the most common value. The ``freq`` is the most common value's\n    frequency. Timestamps also include the ``first`` and ``last`` items.\n    \n    If multiple object values have the highest count, then the\n    ``count`` and ``top`` results will be arbitrarily chosen from\n    among those with the highest count.\n    \n    For mixed data types provided via a ``DataFrame``, the default is to\n    return only an analysis of numeric columns. If the dataframe consists\n    only of object and categorical data without any numeric columns, the\n    default is to return an analysis of both the object and categorical\n    columns. If ``include='all'`` is provided as an option, the result\n    will include a union of attributes of each type.\n    \n    The `include` and `exclude` parameters can be used to limit\n    which columns in a ``DataFrame`` are analyzed for the output.\n    The parameters are ignored when analyzing a ``Series``.\n    \n    Examples\n    --------\n    Describing a numeric ``Series``.\n    \n    >>> s = pd.Series([1, 2, 3])\n    >>> s.describe()\n    count    3.0\n    mean     2.0\n    std      1.0\n    min      1.0\n    25%      1.5\n    50%      2.0\n    75%      2.5\n    max      3.0\n    dtype: float64\n    \n    Describing a categorical ``Series``.\n    \n    >>> s = pd.Series(['a', 'a', 'b', 'c'])\n    >>> s.describe()\n    count     4\n    unique    3\n    top       a\n    freq      2\n    dtype: object\n    \n    Describing a timestamp ``Series``.\n    \n    >>> s = pd.Series([\n    ...   np.datetime64(\"2000-01-01\"),\n    ...   np.datetime64(\"2010-01-01\"),\n    ...   np.datetime64(\"2010-01-01\")\n    ... ])\n    >>> s.describe(datetime_is_numeric=True)\n    count                      3\n    mean     2006-09-01 08:00:00\n    min      2000-01-01 00:00:00\n    25%      2004-12-31 12:00:00\n    50%      2010-01-01 00:00:00\n    75%      2010-01-01 00:00:00\n    max      2010-01-01 00:00:00\n    dtype: object\n    \n    Describing a ``DataFrame``. By default only numeric fields\n    are returned.\n    \n    >>> df = pd.DataFrame({'categorical': pd.Categorical(['d','e','f']),\n    ...                    'numeric': [1, 2, 3],\n    ...                    'object': ['a', 'b', 'c']\n    ...                   })\n    >>> df.describe()\n           numeric\n    count      3.0\n    mean       2.0\n    std        1.0\n    min        1.0\n    25%        1.5\n    50%        2.0\n    75%        2.5\n    max        3.0\n    \n    Describing all columns of a ``DataFrame`` regardless of data type.\n    \n    >>> df.describe(include='all')  # doctest: +SKIP\n           categorical  numeric object\n    count            3      3.0      3\n    unique           3      NaN      3\n    top              f      NaN      a\n    freq             1      NaN      1\n    mean           NaN      2.0    NaN\n    std            NaN      1.0    NaN\n    min            NaN      1.0    NaN\n    25%            NaN      1.5    NaN\n    50%            NaN      2.0    NaN\n    75%            NaN      2.5    NaN\n    max            NaN      3.0    NaN\n    \n    Describing a column from a ``DataFrame`` by accessing it as\n    an attribute.\n    \n    >>> df.numeric.describe()\n    count    3.0\n    mean     2.0\n    std      1.0\n    min      1.0\n    25%      1.5\n    50%      2.0\n    75%      2.5\n    max      3.0\n    Name: numeric, dtype: float64\n    \n    Including only numeric columns in a ``DataFrame`` description.\n    \n    >>> df.describe(include=[np.number])\n           numeric\n    count      3.0\n    mean       2.0\n    std        1.0\n    min        1.0\n    25%        1.5\n    50%        2.0\n    75%        2.5\n    max        3.0\n    \n    Including only string columns in a ``DataFrame`` description.\n    \n    >>> df.describe(include=[object])  # doctest: +SKIP\n           object\n    count       3\n    unique      3\n    top         a\n    freq        1\n    \n    Including only categorical columns from a ``DataFrame`` description.\n    \n    >>> df.describe(include=['category'])\n           categorical\n    count            3\n    unique           3\n    top              d\n    freq             1\n    \n    Excluding numeric columns from a ``DataFrame`` description.\n    \n    >>> df.describe(exclude=[np.number])  # doctest: +SKIP\n           categorical object\n    count            3      3\n    unique           3      3\n    top              f      a\n    freq             1      1\n    \n    Excluding object columns from a ``DataFrame`` description.\n    \n    >>> df.describe(exclude=[object])  # doctest: +SKIP\n           categorical  numeric\n    count            3      3.0\n    unique           3      NaN\n    top              f      NaN\n    freq             1      NaN\n    mean           NaN      2.0\n    std            NaN      1.0\n    min            NaN      1.0\n    25%            NaN      1.5\n    50%            NaN      2.0\n    75%            NaN      2.5\n    max            NaN      3.0\n\n"
     ]
    }
   ],
   "source": [
    "help(dfdatak.groupby('length').describe)"
   ]
  },
  {
   "cell_type": "code",
   "execution_count": 239,
   "metadata": {},
   "outputs": [
    {
     "output_type": "display_data",
     "data": {
      "text/plain": "<Figure size 432x288 with 1 Axes>",
      "image/svg+xml": "<?xml version=\"1.0\" encoding=\"utf-8\" standalone=\"no\"?>\r\n<!DOCTYPE svg PUBLIC \"-//W3C//DTD SVG 1.1//EN\"\r\n  \"http://www.w3.org/Graphics/SVG/1.1/DTD/svg11.dtd\">\r\n<!-- Created with matplotlib (https://matplotlib.org/) -->\r\n<svg height=\"271.605625pt\" version=\"1.1\" viewBox=\"0 0 391.177562 271.605625\" width=\"391.177562pt\" xmlns=\"http://www.w3.org/2000/svg\" xmlns:xlink=\"http://www.w3.org/1999/xlink\">\r\n <metadata>\r\n  <rdf:RDF xmlns:cc=\"http://creativecommons.org/ns#\" xmlns:dc=\"http://purl.org/dc/elements/1.1/\" xmlns:rdf=\"http://www.w3.org/1999/02/22-rdf-syntax-ns#\">\r\n   <cc:Work>\r\n    <dc:type rdf:resource=\"http://purl.org/dc/dcmitype/StillImage\"/>\r\n    <dc:date>2021-02-26T17:15:34.659184</dc:date>\r\n    <dc:format>image/svg+xml</dc:format>\r\n    <dc:creator>\r\n     <cc:Agent>\r\n      <dc:title>Matplotlib v3.3.2, https://matplotlib.org/</dc:title>\r\n     </cc:Agent>\r\n    </dc:creator>\r\n   </cc:Work>\r\n  </rdf:RDF>\r\n </metadata>\r\n <defs>\r\n  <style type=\"text/css\">*{stroke-linecap:butt;stroke-linejoin:round;}</style>\r\n </defs>\r\n <g id=\"figure_1\">\r\n  <g id=\"patch_1\">\r\n   <path d=\"M 0 271.605625 \r\nL 391.177562 271.605625 \r\nL 391.177562 0 \r\nL 0 0 \r\nz\r\n\" style=\"fill:none;\"/>\r\n  </g>\r\n  <g id=\"axes_1\">\r\n   <g id=\"patch_2\">\r\n    <path d=\"M 46.0125 224.64 \r\nL 380.8125 224.64 \r\nL 380.8125 7.2 \r\nL 46.0125 7.2 \r\nz\r\n\" style=\"fill:#ffffff;\"/>\r\n   </g>\r\n   <g id=\"patch_3\">\r\n    <path clip-path=\"url(#p6d903ba2f1)\" d=\"M 46.8495 224.64 \r\nL 48.5235 224.64 \r\nL 48.5235 193.802931 \r\nL 46.8495 193.802931 \r\nz\r\n\" style=\"fill:#1f77b4;\"/>\r\n   </g>\r\n   <g id=\"patch_4\">\r\n    <path clip-path=\"url(#p6d903ba2f1)\" d=\"M 50.1975 224.64 \r\nL 51.8715 224.64 \r\nL 51.8715 152.783902 \r\nL 50.1975 152.783902 \r\nz\r\n\" style=\"fill:#1f77b4;\"/>\r\n   </g>\r\n   <g id=\"patch_5\">\r\n    <path clip-path=\"url(#p6d903ba2f1)\" d=\"M 53.5455 224.64 \r\nL 55.2195 224.64 \r\nL 55.2195 104.3993 \r\nL 53.5455 104.3993 \r\nz\r\n\" style=\"fill:#1f77b4;\"/>\r\n   </g>\r\n   <g id=\"patch_6\">\r\n    <path clip-path=\"url(#p6d903ba2f1)\" d=\"M 56.8935 224.64 \r\nL 58.5675 224.64 \r\nL 58.5675 43.531891 \r\nL 56.8935 43.531891 \r\nz\r\n\" style=\"fill:#1f77b4;\"/>\r\n   </g>\r\n   <g id=\"patch_7\">\r\n    <path clip-path=\"url(#p6d903ba2f1)\" d=\"M 60.2415 224.64 \r\nL 61.9155 224.64 \r\nL 61.9155 17.554286 \r\nL 60.2415 17.554286 \r\nz\r\n\" style=\"fill:#1f77b4;\"/>\r\n   </g>\r\n   <g id=\"patch_8\">\r\n    <path clip-path=\"url(#p6d903ba2f1)\" d=\"M 63.5895 224.64 \r\nL 65.2635 224.64 \r\nL 65.2635 20.895764 \r\nL 63.5895 20.895764 \r\nz\r\n\" style=\"fill:#1f77b4;\"/>\r\n   </g>\r\n   <g id=\"patch_9\">\r\n    <path clip-path=\"url(#p6d903ba2f1)\" d=\"M 66.9375 224.64 \r\nL 68.6115 224.64 \r\nL 68.6115 55.021802 \r\nL 66.9375 55.021802 \r\nz\r\n\" style=\"fill:#1f77b4;\"/>\r\n   </g>\r\n   <g id=\"patch_10\">\r\n    <path clip-path=\"url(#p6d903ba2f1)\" d=\"M 70.2855 224.64 \r\nL 71.9595 224.64 \r\nL 71.9595 93.682702 \r\nL 70.2855 93.682702 \r\nz\r\n\" style=\"fill:#1f77b4;\"/>\r\n   </g>\r\n   <g id=\"patch_11\">\r\n    <path clip-path=\"url(#p6d903ba2f1)\" d=\"M 73.6335 224.64 \r\nL 75.3075 224.64 \r\nL 75.3075 129.011672 \r\nL 73.6335 129.011672 \r\nz\r\n\" style=\"fill:#1f77b4;\"/>\r\n   </g>\r\n   <g id=\"patch_12\">\r\n    <path clip-path=\"url(#p6d903ba2f1)\" d=\"M 76.9815 224.64 \r\nL 78.6555 224.64 \r\nL 78.6555 156.220851 \r\nL 76.9815 156.220851 \r\nz\r\n\" style=\"fill:#1f77b4;\"/>\r\n   </g>\r\n   <g id=\"patch_13\">\r\n    <path clip-path=\"url(#p6d903ba2f1)\" d=\"M 80.3295 224.64 \r\nL 82.0035 224.64 \r\nL 82.0035 177.262615 \r\nL 80.3295 177.262615 \r\nz\r\n\" style=\"fill:#1f77b4;\"/>\r\n   </g>\r\n   <g id=\"patch_14\">\r\n    <path clip-path=\"url(#p6d903ba2f1)\" d=\"M 83.6775 224.64 \r\nL 85.3515 224.64 \r\nL 85.3515 192.652508 \r\nL 83.6775 192.652508 \r\nz\r\n\" style=\"fill:#1f77b4;\"/>\r\n   </g>\r\n   <g id=\"patch_15\">\r\n    <path clip-path=\"url(#p6d903ba2f1)\" d=\"M 87.0255 224.64 \r\nL 88.6995 224.64 \r\nL 88.6995 204.615 \r\nL 87.0255 204.615 \r\nz\r\n\" style=\"fill:#1f77b4;\"/>\r\n   </g>\r\n   <g id=\"patch_16\">\r\n    <path clip-path=\"url(#p6d903ba2f1)\" d=\"M 90.3735 224.64 \r\nL 92.0475 224.64 \r\nL 92.0475 212.209702 \r\nL 90.3735 212.209702 \r\nz\r\n\" style=\"fill:#1f77b4;\"/>\r\n   </g>\r\n   <g id=\"patch_17\">\r\n    <path clip-path=\"url(#p6d903ba2f1)\" d=\"M 93.7215 224.64 \r\nL 95.3955 224.64 \r\nL 95.3955 217.346031 \r\nL 93.7215 217.346031 \r\nz\r\n\" style=\"fill:#1f77b4;\"/>\r\n   </g>\r\n   <g id=\"patch_18\">\r\n    <path clip-path=\"url(#p6d903ba2f1)\" d=\"M 97.0695 224.64 \r\nL 98.7435 224.64 \r\nL 98.7435 220.066949 \r\nL 97.0695 220.066949 \r\nz\r\n\" style=\"fill:#1f77b4;\"/>\r\n   </g>\r\n   <g id=\"patch_19\">\r\n    <path clip-path=\"url(#p6d903ba2f1)\" d=\"M 100.4175 224.64 \r\nL 102.0915 224.64 \r\nL 102.0915 222.129118 \r\nL 100.4175 222.129118 \r\nz\r\n\" style=\"fill:#1f77b4;\"/>\r\n   </g>\r\n   <g id=\"patch_20\">\r\n    <path clip-path=\"url(#p6d903ba2f1)\" d=\"M 103.7655 224.64 \r\nL 105.4395 224.64 \r\nL 105.4395 223.002676 \r\nL 103.7655 223.002676 \r\nz\r\n\" style=\"fill:#1f77b4;\"/>\r\n   </g>\r\n   <g id=\"patch_21\">\r\n    <path clip-path=\"url(#p6d903ba2f1)\" d=\"M 107.1135 224.64 \r\nL 108.7875 224.64 \r\nL 108.7875 223.637557 \r\nL 107.1135 223.637557 \r\nz\r\n\" style=\"fill:#1f77b4;\"/>\r\n   </g>\r\n   <g id=\"patch_22\">\r\n    <path clip-path=\"url(#p6d903ba2f1)\" d=\"M 110.4615 224.64 \r\nL 112.1355 224.64 \r\nL 112.1355 223.857139 \r\nL 110.4615 223.857139 \r\nz\r\n\" style=\"fill:#1f77b4;\"/>\r\n   </g>\r\n   <g id=\"patch_23\">\r\n    <path clip-path=\"url(#p6d903ba2f1)\" d=\"M 113.8095 224.64 \r\nL 115.4835 224.64 \r\nL 115.4835 224.196061 \r\nL 113.8095 224.196061 \r\nz\r\n\" style=\"fill:#1f77b4;\"/>\r\n   </g>\r\n   <g id=\"patch_24\">\r\n    <path clip-path=\"url(#p6d903ba2f1)\" d=\"M 117.1575 224.64 \r\nL 118.8315 224.64 \r\nL 118.8315 224.291532 \r\nL 117.1575 224.291532 \r\nz\r\n\" style=\"fill:#1f77b4;\"/>\r\n   </g>\r\n   <g id=\"patch_25\">\r\n    <path clip-path=\"url(#p6d903ba2f1)\" d=\"M 120.5055 224.64 \r\nL 122.1795 224.64 \r\nL 122.1795 224.429964 \r\nL 120.5055 224.429964 \r\nz\r\n\" style=\"fill:#1f77b4;\"/>\r\n   </g>\r\n   <g id=\"patch_26\">\r\n    <path clip-path=\"url(#p6d903ba2f1)\" d=\"M 123.8535 224.64 \r\nL 125.5275 224.64 \r\nL 125.5275 224.449058 \r\nL 123.8535 224.449058 \r\nz\r\n\" style=\"fill:#1f77b4;\"/>\r\n   </g>\r\n   <g id=\"patch_27\">\r\n    <path clip-path=\"url(#p6d903ba2f1)\" d=\"M 127.2015 224.64 \r\nL 128.8755 224.64 \r\nL 128.8755 224.55885 \r\nL 127.2015 224.55885 \r\nz\r\n\" style=\"fill:#1f77b4;\"/>\r\n   </g>\r\n   <g id=\"patch_28\">\r\n    <path clip-path=\"url(#p6d903ba2f1)\" d=\"M 130.5495 224.64 \r\nL 132.2235 224.64 \r\nL 132.2235 224.544529 \r\nL 130.5495 224.544529 \r\nz\r\n\" style=\"fill:#1f77b4;\"/>\r\n   </g>\r\n   <g id=\"patch_29\">\r\n    <path clip-path=\"url(#p6d903ba2f1)\" d=\"M 133.8975 224.64 \r\nL 135.5715 224.64 \r\nL 135.5715 224.534982 \r\nL 133.8975 224.534982 \r\nz\r\n\" style=\"fill:#1f77b4;\"/>\r\n   </g>\r\n   <g id=\"patch_30\">\r\n    <path clip-path=\"url(#p6d903ba2f1)\" d=\"M 137.2455 224.64 \r\nL 138.9195 224.64 \r\nL 138.9195 224.582718 \r\nL 137.2455 224.582718 \r\nz\r\n\" style=\"fill:#1f77b4;\"/>\r\n   </g>\r\n   <g id=\"patch_31\">\r\n    <path clip-path=\"url(#p6d903ba2f1)\" d=\"M 140.5935 224.64 \r\nL 142.2675 224.64 \r\nL 142.2675 224.534982 \r\nL 140.5935 224.534982 \r\nz\r\n\" style=\"fill:#1f77b4;\"/>\r\n   </g>\r\n   <g id=\"patch_32\">\r\n    <path clip-path=\"url(#p6d903ba2f1)\" d=\"M 143.9415 224.64 \r\nL 145.6155 224.64 \r\nL 145.6155 224.568397 \r\nL 143.9415 224.568397 \r\nz\r\n\" style=\"fill:#1f77b4;\"/>\r\n   </g>\r\n   <g id=\"patch_33\">\r\n    <path clip-path=\"url(#p6d903ba2f1)\" d=\"M 147.2895 224.64 \r\nL 148.9635 224.64 \r\nL 148.9635 224.625679 \r\nL 147.2895 224.625679 \r\nz\r\n\" style=\"fill:#1f77b4;\"/>\r\n   </g>\r\n   <g id=\"patch_34\">\r\n    <path clip-path=\"url(#p6d903ba2f1)\" d=\"M 150.6375 224.64 \r\nL 152.3115 224.64 \r\nL 152.3115 224.597038 \r\nL 150.6375 224.597038 \r\nz\r\n\" style=\"fill:#1f77b4;\"/>\r\n   </g>\r\n   <g id=\"patch_35\">\r\n    <path clip-path=\"url(#p6d903ba2f1)\" d=\"M 153.9855 224.64 \r\nL 155.6595 224.64 \r\nL 155.6595 224.616132 \r\nL 153.9855 224.616132 \r\nz\r\n\" style=\"fill:#1f77b4;\"/>\r\n   </g>\r\n   <g id=\"patch_36\">\r\n    <path clip-path=\"url(#p6d903ba2f1)\" d=\"M 157.3335 224.64 \r\nL 159.0075 224.64 \r\nL 159.0075 224.601812 \r\nL 157.3335 224.601812 \r\nz\r\n\" style=\"fill:#1f77b4;\"/>\r\n   </g>\r\n   <g id=\"patch_37\">\r\n    <path clip-path=\"url(#p6d903ba2f1)\" d=\"M 160.6815 224.64 \r\nL 162.3555 224.64 \r\nL 162.3555 224.611359 \r\nL 160.6815 224.611359 \r\nz\r\n\" style=\"fill:#1f77b4;\"/>\r\n   </g>\r\n   <g id=\"patch_38\">\r\n    <path clip-path=\"url(#p6d903ba2f1)\" d=\"M 164.0295 224.64 \r\nL 165.7035 224.64 \r\nL 165.7035 224.616132 \r\nL 164.0295 224.616132 \r\nz\r\n\" style=\"fill:#1f77b4;\"/>\r\n   </g>\r\n   <g id=\"patch_39\">\r\n    <path clip-path=\"url(#p6d903ba2f1)\" d=\"M 167.3775 224.64 \r\nL 169.0515 224.64 \r\nL 169.0515 224.630453 \r\nL 167.3775 224.630453 \r\nz\r\n\" style=\"fill:#1f77b4;\"/>\r\n   </g>\r\n   <g id=\"patch_40\">\r\n    <path clip-path=\"url(#p6d903ba2f1)\" d=\"M 170.7255 224.64 \r\nL 172.3995 224.64 \r\nL 172.3995 224.616132 \r\nL 170.7255 224.616132 \r\nz\r\n\" style=\"fill:#1f77b4;\"/>\r\n   </g>\r\n   <g id=\"patch_41\">\r\n    <path clip-path=\"url(#p6d903ba2f1)\" d=\"M 174.0735 224.64 \r\nL 175.7475 224.64 \r\nL 175.7475 224.630453 \r\nL 174.0735 224.630453 \r\nz\r\n\" style=\"fill:#1f77b4;\"/>\r\n   </g>\r\n   <g id=\"patch_42\">\r\n    <path clip-path=\"url(#p6d903ba2f1)\" d=\"M 177.4215 224.64 \r\nL 179.0955 224.64 \r\nL 179.0955 224.616132 \r\nL 177.4215 224.616132 \r\nz\r\n\" style=\"fill:#1f77b4;\"/>\r\n   </g>\r\n   <g id=\"patch_43\">\r\n    <path clip-path=\"url(#p6d903ba2f1)\" d=\"M 180.7695 224.64 \r\nL 182.4435 224.64 \r\nL 182.4435 224.611359 \r\nL 180.7695 224.611359 \r\nz\r\n\" style=\"fill:#1f77b4;\"/>\r\n   </g>\r\n   <g id=\"patch_44\">\r\n    <path clip-path=\"url(#p6d903ba2f1)\" d=\"M 184.1175 224.64 \r\nL 185.7915 224.64 \r\nL 185.7915 224.616132 \r\nL 184.1175 224.616132 \r\nz\r\n\" style=\"fill:#1f77b4;\"/>\r\n   </g>\r\n   <g id=\"patch_45\">\r\n    <path clip-path=\"url(#p6d903ba2f1)\" d=\"M 187.4655 224.64 \r\nL 189.1395 224.64 \r\nL 189.1395 224.620906 \r\nL 187.4655 224.620906 \r\nz\r\n\" style=\"fill:#1f77b4;\"/>\r\n   </g>\r\n   <g id=\"patch_46\">\r\n    <path clip-path=\"url(#p6d903ba2f1)\" d=\"M 190.8135 224.64 \r\nL 192.4875 224.64 \r\nL 192.4875 224.630453 \r\nL 190.8135 224.630453 \r\nz\r\n\" style=\"fill:#1f77b4;\"/>\r\n   </g>\r\n   <g id=\"patch_47\">\r\n    <path clip-path=\"url(#p6d903ba2f1)\" d=\"M 194.1615 224.64 \r\nL 195.8355 224.64 \r\nL 195.8355 224.620906 \r\nL 194.1615 224.620906 \r\nz\r\n\" style=\"fill:#1f77b4;\"/>\r\n   </g>\r\n   <g id=\"patch_48\">\r\n    <path clip-path=\"url(#p6d903ba2f1)\" d=\"M 197.5095 224.64 \r\nL 199.1835 224.64 \r\nL 199.1835 224.630453 \r\nL 197.5095 224.630453 \r\nz\r\n\" style=\"fill:#1f77b4;\"/>\r\n   </g>\r\n   <g id=\"patch_49\">\r\n    <path clip-path=\"url(#p6d903ba2f1)\" d=\"M 200.8575 224.64 \r\nL 202.5315 224.64 \r\nL 202.5315 224.620906 \r\nL 200.8575 224.620906 \r\nz\r\n\" style=\"fill:#1f77b4;\"/>\r\n   </g>\r\n   <g id=\"patch_50\">\r\n    <path clip-path=\"url(#p6d903ba2f1)\" d=\"M 204.2055 224.64 \r\nL 205.8795 224.64 \r\nL 205.8795 224.635226 \r\nL 204.2055 224.635226 \r\nz\r\n\" style=\"fill:#1f77b4;\"/>\r\n   </g>\r\n   <g id=\"patch_51\">\r\n    <path clip-path=\"url(#p6d903ba2f1)\" d=\"M 207.5535 224.64 \r\nL 209.2275 224.64 \r\nL 209.2275 224.625679 \r\nL 207.5535 224.625679 \r\nz\r\n\" style=\"fill:#1f77b4;\"/>\r\n   </g>\r\n   <g id=\"patch_52\">\r\n    <path clip-path=\"url(#p6d903ba2f1)\" d=\"M 210.9015 224.64 \r\nL 212.5755 224.64 \r\nL 212.5755 224.635226 \r\nL 210.9015 224.635226 \r\nz\r\n\" style=\"fill:#1f77b4;\"/>\r\n   </g>\r\n   <g id=\"patch_53\">\r\n    <path clip-path=\"url(#p6d903ba2f1)\" d=\"M 214.2495 224.64 \r\nL 215.9235 224.64 \r\nL 215.9235 224.625679 \r\nL 214.2495 224.625679 \r\nz\r\n\" style=\"fill:#1f77b4;\"/>\r\n   </g>\r\n   <g id=\"patch_54\">\r\n    <path clip-path=\"url(#p6d903ba2f1)\" d=\"M 217.5975 224.64 \r\nL 219.2715 224.64 \r\nL 219.2715 224.635226 \r\nL 217.5975 224.635226 \r\nz\r\n\" style=\"fill:#1f77b4;\"/>\r\n   </g>\r\n   <g id=\"patch_55\">\r\n    <path clip-path=\"url(#p6d903ba2f1)\" d=\"M 220.9455 224.64 \r\nL 222.6195 224.64 \r\nL 222.6195 224.630453 \r\nL 220.9455 224.630453 \r\nz\r\n\" style=\"fill:#1f77b4;\"/>\r\n   </g>\r\n   <g id=\"patch_56\">\r\n    <path clip-path=\"url(#p6d903ba2f1)\" d=\"M 224.2935 224.64 \r\nL 225.9675 224.64 \r\nL 225.9675 224.625679 \r\nL 224.2935 224.625679 \r\nz\r\n\" style=\"fill:#1f77b4;\"/>\r\n   </g>\r\n   <g id=\"patch_57\">\r\n    <path clip-path=\"url(#p6d903ba2f1)\" d=\"M 227.6415 224.64 \r\nL 229.3155 224.64 \r\nL 229.3155 224.635226 \r\nL 227.6415 224.635226 \r\nz\r\n\" style=\"fill:#1f77b4;\"/>\r\n   </g>\r\n   <g id=\"patch_58\">\r\n    <path clip-path=\"url(#p6d903ba2f1)\" d=\"M 230.9895 224.64 \r\nL 232.6635 224.64 \r\nL 232.6635 224.635226 \r\nL 230.9895 224.635226 \r\nz\r\n\" style=\"fill:#1f77b4;\"/>\r\n   </g>\r\n   <g id=\"patch_59\">\r\n    <path clip-path=\"url(#p6d903ba2f1)\" d=\"M 234.3375 224.64 \r\nL 236.0115 224.64 \r\nL 236.0115 224.635226 \r\nL 234.3375 224.635226 \r\nz\r\n\" style=\"fill:#1f77b4;\"/>\r\n   </g>\r\n   <g id=\"patch_60\">\r\n    <path clip-path=\"url(#p6d903ba2f1)\" d=\"M 237.6855 224.64 \r\nL 239.3595 224.64 \r\nL 239.3595 224.630453 \r\nL 237.6855 224.630453 \r\nz\r\n\" style=\"fill:#1f77b4;\"/>\r\n   </g>\r\n   <g id=\"patch_61\">\r\n    <path clip-path=\"url(#p6d903ba2f1)\" d=\"M 241.0335 224.64 \r\nL 242.7075 224.64 \r\nL 242.7075 224.635226 \r\nL 241.0335 224.635226 \r\nz\r\n\" style=\"fill:#1f77b4;\"/>\r\n   </g>\r\n   <g id=\"patch_62\">\r\n    <path clip-path=\"url(#p6d903ba2f1)\" d=\"M 244.3815 224.64 \r\nL 246.0555 224.64 \r\nL 246.0555 224.630453 \r\nL 244.3815 224.630453 \r\nz\r\n\" style=\"fill:#1f77b4;\"/>\r\n   </g>\r\n   <g id=\"patch_63\">\r\n    <path clip-path=\"url(#p6d903ba2f1)\" d=\"M 247.7295 224.64 \r\nL 249.4035 224.64 \r\nL 249.4035 224.630453 \r\nL 247.7295 224.630453 \r\nz\r\n\" style=\"fill:#1f77b4;\"/>\r\n   </g>\r\n   <g id=\"patch_64\">\r\n    <path clip-path=\"url(#p6d903ba2f1)\" d=\"M 251.0775 224.64 \r\nL 252.7515 224.64 \r\nL 252.7515 224.635226 \r\nL 251.0775 224.635226 \r\nz\r\n\" style=\"fill:#1f77b4;\"/>\r\n   </g>\r\n   <g id=\"patch_65\">\r\n    <path clip-path=\"url(#p6d903ba2f1)\" d=\"M 254.4255 224.64 \r\nL 256.0995 224.64 \r\nL 256.0995 224.630453 \r\nL 254.4255 224.630453 \r\nz\r\n\" style=\"fill:#1f77b4;\"/>\r\n   </g>\r\n   <g id=\"patch_66\">\r\n    <path clip-path=\"url(#p6d903ba2f1)\" d=\"M 257.7735 224.64 \r\nL 259.4475 224.64 \r\nL 259.4475 224.635226 \r\nL 257.7735 224.635226 \r\nz\r\n\" style=\"fill:#1f77b4;\"/>\r\n   </g>\r\n   <g id=\"patch_67\">\r\n    <path clip-path=\"url(#p6d903ba2f1)\" d=\"M 261.1215 224.64 \r\nL 262.7955 224.64 \r\nL 262.7955 224.630453 \r\nL 261.1215 224.630453 \r\nz\r\n\" style=\"fill:#1f77b4;\"/>\r\n   </g>\r\n   <g id=\"patch_68\">\r\n    <path clip-path=\"url(#p6d903ba2f1)\" d=\"M 264.4695 224.64 \r\nL 266.1435 224.64 \r\nL 266.1435 224.635226 \r\nL 264.4695 224.635226 \r\nz\r\n\" style=\"fill:#1f77b4;\"/>\r\n   </g>\r\n   <g id=\"patch_69\">\r\n    <path clip-path=\"url(#p6d903ba2f1)\" d=\"M 267.8175 224.64 \r\nL 269.4915 224.64 \r\nL 269.4915 224.635226 \r\nL 267.8175 224.635226 \r\nz\r\n\" style=\"fill:#1f77b4;\"/>\r\n   </g>\r\n   <g id=\"patch_70\">\r\n    <path clip-path=\"url(#p6d903ba2f1)\" d=\"M 271.1655 224.64 \r\nL 272.8395 224.64 \r\nL 272.8395 224.635226 \r\nL 271.1655 224.635226 \r\nz\r\n\" style=\"fill:#1f77b4;\"/>\r\n   </g>\r\n   <g id=\"patch_71\">\r\n    <path clip-path=\"url(#p6d903ba2f1)\" d=\"M 274.5135 224.64 \r\nL 276.1875 224.64 \r\nL 276.1875 224.635226 \r\nL 274.5135 224.635226 \r\nz\r\n\" style=\"fill:#1f77b4;\"/>\r\n   </g>\r\n   <g id=\"patch_72\">\r\n    <path clip-path=\"url(#p6d903ba2f1)\" d=\"M 277.8615 224.64 \r\nL 279.5355 224.64 \r\nL 279.5355 224.630453 \r\nL 277.8615 224.630453 \r\nz\r\n\" style=\"fill:#1f77b4;\"/>\r\n   </g>\r\n   <g id=\"patch_73\">\r\n    <path clip-path=\"url(#p6d903ba2f1)\" d=\"M 281.2095 224.64 \r\nL 282.8835 224.64 \r\nL 282.8835 224.635226 \r\nL 281.2095 224.635226 \r\nz\r\n\" style=\"fill:#1f77b4;\"/>\r\n   </g>\r\n   <g id=\"patch_74\">\r\n    <path clip-path=\"url(#p6d903ba2f1)\" d=\"M 284.5575 224.64 \r\nL 286.2315 224.64 \r\nL 286.2315 224.635226 \r\nL 284.5575 224.635226 \r\nz\r\n\" style=\"fill:#1f77b4;\"/>\r\n   </g>\r\n   <g id=\"patch_75\">\r\n    <path clip-path=\"url(#p6d903ba2f1)\" d=\"M 287.9055 224.64 \r\nL 289.5795 224.64 \r\nL 289.5795 224.635226 \r\nL 287.9055 224.635226 \r\nz\r\n\" style=\"fill:#1f77b4;\"/>\r\n   </g>\r\n   <g id=\"patch_76\">\r\n    <path clip-path=\"url(#p6d903ba2f1)\" d=\"M 291.2535 224.64 \r\nL 292.9275 224.64 \r\nL 292.9275 224.635226 \r\nL 291.2535 224.635226 \r\nz\r\n\" style=\"fill:#1f77b4;\"/>\r\n   </g>\r\n   <g id=\"patch_77\">\r\n    <path clip-path=\"url(#p6d903ba2f1)\" d=\"M 294.6015 224.64 \r\nL 296.2755 224.64 \r\nL 296.2755 224.635226 \r\nL 294.6015 224.635226 \r\nz\r\n\" style=\"fill:#1f77b4;\"/>\r\n   </g>\r\n   <g id=\"patch_78\">\r\n    <path clip-path=\"url(#p6d903ba2f1)\" d=\"M 297.9495 224.64 \r\nL 299.6235 224.64 \r\nL 299.6235 224.635226 \r\nL 297.9495 224.635226 \r\nz\r\n\" style=\"fill:#1f77b4;\"/>\r\n   </g>\r\n   <g id=\"patch_79\">\r\n    <path clip-path=\"url(#p6d903ba2f1)\" d=\"M 301.2975 224.64 \r\nL 302.9715 224.64 \r\nL 302.9715 224.635226 \r\nL 301.2975 224.635226 \r\nz\r\n\" style=\"fill:#1f77b4;\"/>\r\n   </g>\r\n   <g id=\"patch_80\">\r\n    <path clip-path=\"url(#p6d903ba2f1)\" d=\"M 304.6455 224.64 \r\nL 306.3195 224.64 \r\nL 306.3195 224.635226 \r\nL 304.6455 224.635226 \r\nz\r\n\" style=\"fill:#1f77b4;\"/>\r\n   </g>\r\n   <g id=\"patch_81\">\r\n    <path clip-path=\"url(#p6d903ba2f1)\" d=\"M 307.9935 224.64 \r\nL 309.6675 224.64 \r\nL 309.6675 224.635226 \r\nL 307.9935 224.635226 \r\nz\r\n\" style=\"fill:#1f77b4;\"/>\r\n   </g>\r\n   <g id=\"patch_82\">\r\n    <path clip-path=\"url(#p6d903ba2f1)\" d=\"M 311.3415 224.64 \r\nL 313.0155 224.64 \r\nL 313.0155 224.635226 \r\nL 311.3415 224.635226 \r\nz\r\n\" style=\"fill:#1f77b4;\"/>\r\n   </g>\r\n   <g id=\"patch_83\">\r\n    <path clip-path=\"url(#p6d903ba2f1)\" d=\"M 314.6895 224.64 \r\nL 316.3635 224.64 \r\nL 316.3635 224.625679 \r\nL 314.6895 224.625679 \r\nz\r\n\" style=\"fill:#1f77b4;\"/>\r\n   </g>\r\n   <g id=\"patch_84\">\r\n    <path clip-path=\"url(#p6d903ba2f1)\" d=\"M 318.0375 224.64 \r\nL 319.7115 224.64 \r\nL 319.7115 224.635226 \r\nL 318.0375 224.635226 \r\nz\r\n\" style=\"fill:#1f77b4;\"/>\r\n   </g>\r\n   <g id=\"patch_85\">\r\n    <path clip-path=\"url(#p6d903ba2f1)\" d=\"M 321.3855 224.64 \r\nL 323.0595 224.64 \r\nL 323.0595 224.630453 \r\nL 321.3855 224.630453 \r\nz\r\n\" style=\"fill:#1f77b4;\"/>\r\n   </g>\r\n   <g id=\"patch_86\">\r\n    <path clip-path=\"url(#p6d903ba2f1)\" d=\"M 324.7335 224.64 \r\nL 326.4075 224.64 \r\nL 326.4075 224.635226 \r\nL 324.7335 224.635226 \r\nz\r\n\" style=\"fill:#1f77b4;\"/>\r\n   </g>\r\n   <g id=\"patch_87\">\r\n    <path clip-path=\"url(#p6d903ba2f1)\" d=\"M 328.0815 224.64 \r\nL 329.7555 224.64 \r\nL 329.7555 224.635226 \r\nL 328.0815 224.635226 \r\nz\r\n\" style=\"fill:#1f77b4;\"/>\r\n   </g>\r\n   <g id=\"patch_88\">\r\n    <path clip-path=\"url(#p6d903ba2f1)\" d=\"M 331.4295 224.64 \r\nL 333.1035 224.64 \r\nL 333.1035 224.635226 \r\nL 331.4295 224.635226 \r\nz\r\n\" style=\"fill:#1f77b4;\"/>\r\n   </g>\r\n   <g id=\"patch_89\">\r\n    <path clip-path=\"url(#p6d903ba2f1)\" d=\"M 334.7775 224.64 \r\nL 336.4515 224.64 \r\nL 336.4515 224.635226 \r\nL 334.7775 224.635226 \r\nz\r\n\" style=\"fill:#1f77b4;\"/>\r\n   </g>\r\n   <g id=\"patch_90\">\r\n    <path clip-path=\"url(#p6d903ba2f1)\" d=\"M 338.1255 224.64 \r\nL 339.7995 224.64 \r\nL 339.7995 224.635226 \r\nL 338.1255 224.635226 \r\nz\r\n\" style=\"fill:#1f77b4;\"/>\r\n   </g>\r\n   <g id=\"patch_91\">\r\n    <path clip-path=\"url(#p6d903ba2f1)\" d=\"M 341.4735 224.64 \r\nL 343.1475 224.64 \r\nL 343.1475 224.635226 \r\nL 341.4735 224.635226 \r\nz\r\n\" style=\"fill:#1f77b4;\"/>\r\n   </g>\r\n   <g id=\"patch_92\">\r\n    <path clip-path=\"url(#p6d903ba2f1)\" d=\"M 344.8215 224.64 \r\nL 346.4955 224.64 \r\nL 346.4955 224.635226 \r\nL 344.8215 224.635226 \r\nz\r\n\" style=\"fill:#1f77b4;\"/>\r\n   </g>\r\n   <g id=\"patch_93\">\r\n    <path clip-path=\"url(#p6d903ba2f1)\" d=\"M 348.1695 224.64 \r\nL 349.8435 224.64 \r\nL 349.8435 224.635226 \r\nL 348.1695 224.635226 \r\nz\r\n\" style=\"fill:#1f77b4;\"/>\r\n   </g>\r\n   <g id=\"patch_94\">\r\n    <path clip-path=\"url(#p6d903ba2f1)\" d=\"M 351.5175 224.64 \r\nL 353.1915 224.64 \r\nL 353.1915 224.635226 \r\nL 351.5175 224.635226 \r\nz\r\n\" style=\"fill:#1f77b4;\"/>\r\n   </g>\r\n   <g id=\"patch_95\">\r\n    <path clip-path=\"url(#p6d903ba2f1)\" d=\"M 354.8655 224.64 \r\nL 356.5395 224.64 \r\nL 356.5395 224.635226 \r\nL 354.8655 224.635226 \r\nz\r\n\" style=\"fill:#1f77b4;\"/>\r\n   </g>\r\n   <g id=\"patch_96\">\r\n    <path clip-path=\"url(#p6d903ba2f1)\" d=\"M 358.2135 224.64 \r\nL 359.8875 224.64 \r\nL 359.8875 224.635226 \r\nL 358.2135 224.635226 \r\nz\r\n\" style=\"fill:#1f77b4;\"/>\r\n   </g>\r\n   <g id=\"patch_97\">\r\n    <path clip-path=\"url(#p6d903ba2f1)\" d=\"M 361.5615 224.64 \r\nL 363.2355 224.64 \r\nL 363.2355 224.635226 \r\nL 361.5615 224.635226 \r\nz\r\n\" style=\"fill:#1f77b4;\"/>\r\n   </g>\r\n   <g id=\"patch_98\">\r\n    <path clip-path=\"url(#p6d903ba2f1)\" d=\"M 364.9095 224.64 \r\nL 366.5835 224.64 \r\nL 366.5835 224.635226 \r\nL 364.9095 224.635226 \r\nz\r\n\" style=\"fill:#1f77b4;\"/>\r\n   </g>\r\n   <g id=\"patch_99\">\r\n    <path clip-path=\"url(#p6d903ba2f1)\" d=\"M 368.2575 224.64 \r\nL 369.9315 224.64 \r\nL 369.9315 224.635226 \r\nL 368.2575 224.635226 \r\nz\r\n\" style=\"fill:#1f77b4;\"/>\r\n   </g>\r\n   <g id=\"patch_100\">\r\n    <path clip-path=\"url(#p6d903ba2f1)\" d=\"M 371.6055 224.64 \r\nL 373.2795 224.64 \r\nL 373.2795 224.635226 \r\nL 371.6055 224.635226 \r\nz\r\n\" style=\"fill:#1f77b4;\"/>\r\n   </g>\r\n   <g id=\"patch_101\">\r\n    <path clip-path=\"url(#p6d903ba2f1)\" d=\"M 374.9535 224.64 \r\nL 376.6275 224.64 \r\nL 376.6275 224.635226 \r\nL 374.9535 224.635226 \r\nz\r\n\" style=\"fill:#1f77b4;\"/>\r\n   </g>\r\n   <g id=\"patch_102\">\r\n    <path clip-path=\"url(#p6d903ba2f1)\" d=\"M 378.3015 224.64 \r\nL 379.9755 224.64 \r\nL 379.9755 224.635226 \r\nL 378.3015 224.635226 \r\nz\r\n\" style=\"fill:#1f77b4;\"/>\r\n   </g>\r\n   <g id=\"matplotlib.axis_1\">\r\n    <g id=\"xtick_1\">\r\n     <g id=\"line2d_1\">\r\n      <defs>\r\n       <path d=\"M 0 0 \r\nL 0 3.5 \r\n\" id=\"m207e360114\" style=\"stroke:#000000;stroke-width:0.8;\"/>\r\n      </defs>\r\n      <g>\r\n       <use style=\"stroke:#000000;stroke-width:0.8;\" x=\"47.6865\" xlink:href=\"#m207e360114\" y=\"224.64\"/>\r\n      </g>\r\n     </g>\r\n     <g id=\"text_1\">\r\n      <!-- 1 -->\r\n      <g transform=\"translate(50.445875 238.0025)rotate(-90)scale(0.1 -0.1)\">\r\n       <defs>\r\n        <path d=\"M 12.40625 8.296875 \r\nL 28.515625 8.296875 \r\nL 28.515625 63.921875 \r\nL 10.984375 60.40625 \r\nL 10.984375 69.390625 \r\nL 28.421875 72.90625 \r\nL 38.28125 72.90625 \r\nL 38.28125 8.296875 \r\nL 54.390625 8.296875 \r\nL 54.390625 0 \r\nL 12.40625 0 \r\nz\r\n\" id=\"DejaVuSans-49\"/>\r\n       </defs>\r\n       <use xlink:href=\"#DejaVuSans-49\"/>\r\n      </g>\r\n     </g>\r\n    </g>\r\n    <g id=\"xtick_2\">\r\n     <g id=\"line2d_2\">\r\n      <g>\r\n       <use style=\"stroke:#000000;stroke-width:0.8;\" x=\"51.0345\" xlink:href=\"#m207e360114\" y=\"224.64\"/>\r\n      </g>\r\n     </g>\r\n     <g id=\"text_2\">\r\n      <!-- 2 -->\r\n      <g transform=\"translate(53.793875 238.0025)rotate(-90)scale(0.1 -0.1)\">\r\n       <defs>\r\n        <path d=\"M 19.1875 8.296875 \r\nL 53.609375 8.296875 \r\nL 53.609375 0 \r\nL 7.328125 0 \r\nL 7.328125 8.296875 \r\nQ 12.9375 14.109375 22.625 23.890625 \r\nQ 32.328125 33.6875 34.8125 36.53125 \r\nQ 39.546875 41.84375 41.421875 45.53125 \r\nQ 43.3125 49.21875 43.3125 52.78125 \r\nQ 43.3125 58.59375 39.234375 62.25 \r\nQ 35.15625 65.921875 28.609375 65.921875 \r\nQ 23.96875 65.921875 18.8125 64.3125 \r\nQ 13.671875 62.703125 7.8125 59.421875 \r\nL 7.8125 69.390625 \r\nQ 13.765625 71.78125 18.9375 73 \r\nQ 24.125 74.21875 28.421875 74.21875 \r\nQ 39.75 74.21875 46.484375 68.546875 \r\nQ 53.21875 62.890625 53.21875 53.421875 \r\nQ 53.21875 48.921875 51.53125 44.890625 \r\nQ 49.859375 40.875 45.40625 35.40625 \r\nQ 44.1875 33.984375 37.640625 27.21875 \r\nQ 31.109375 20.453125 19.1875 8.296875 \r\nz\r\n\" id=\"DejaVuSans-50\"/>\r\n       </defs>\r\n       <use xlink:href=\"#DejaVuSans-50\"/>\r\n      </g>\r\n     </g>\r\n    </g>\r\n    <g id=\"xtick_3\">\r\n     <g id=\"line2d_3\">\r\n      <g>\r\n       <use style=\"stroke:#000000;stroke-width:0.8;\" x=\"54.3825\" xlink:href=\"#m207e360114\" y=\"224.64\"/>\r\n      </g>\r\n     </g>\r\n     <g id=\"text_3\">\r\n      <!-- 3 -->\r\n      <g transform=\"translate(57.141875 238.0025)rotate(-90)scale(0.1 -0.1)\">\r\n       <defs>\r\n        <path d=\"M 40.578125 39.3125 \r\nQ 47.65625 37.796875 51.625 33 \r\nQ 55.609375 28.21875 55.609375 21.1875 \r\nQ 55.609375 10.40625 48.1875 4.484375 \r\nQ 40.765625 -1.421875 27.09375 -1.421875 \r\nQ 22.515625 -1.421875 17.65625 -0.515625 \r\nQ 12.796875 0.390625 7.625 2.203125 \r\nL 7.625 11.71875 \r\nQ 11.71875 9.328125 16.59375 8.109375 \r\nQ 21.484375 6.890625 26.8125 6.890625 \r\nQ 36.078125 6.890625 40.9375 10.546875 \r\nQ 45.796875 14.203125 45.796875 21.1875 \r\nQ 45.796875 27.640625 41.28125 31.265625 \r\nQ 36.765625 34.90625 28.71875 34.90625 \r\nL 20.21875 34.90625 \r\nL 20.21875 43.015625 \r\nL 29.109375 43.015625 \r\nQ 36.375 43.015625 40.234375 45.921875 \r\nQ 44.09375 48.828125 44.09375 54.296875 \r\nQ 44.09375 59.90625 40.109375 62.90625 \r\nQ 36.140625 65.921875 28.71875 65.921875 \r\nQ 24.65625 65.921875 20.015625 65.03125 \r\nQ 15.375 64.15625 9.8125 62.3125 \r\nL 9.8125 71.09375 \r\nQ 15.4375 72.65625 20.34375 73.4375 \r\nQ 25.25 74.21875 29.59375 74.21875 \r\nQ 40.828125 74.21875 47.359375 69.109375 \r\nQ 53.90625 64.015625 53.90625 55.328125 \r\nQ 53.90625 49.265625 50.4375 45.09375 \r\nQ 46.96875 40.921875 40.578125 39.3125 \r\nz\r\n\" id=\"DejaVuSans-51\"/>\r\n       </defs>\r\n       <use xlink:href=\"#DejaVuSans-51\"/>\r\n      </g>\r\n     </g>\r\n    </g>\r\n    <g id=\"xtick_4\">\r\n     <g id=\"line2d_4\">\r\n      <g>\r\n       <use style=\"stroke:#000000;stroke-width:0.8;\" x=\"57.7305\" xlink:href=\"#m207e360114\" y=\"224.64\"/>\r\n      </g>\r\n     </g>\r\n     <g id=\"text_4\">\r\n      <!-- 4 -->\r\n      <g transform=\"translate(60.489875 238.0025)rotate(-90)scale(0.1 -0.1)\">\r\n       <defs>\r\n        <path d=\"M 37.796875 64.3125 \r\nL 12.890625 25.390625 \r\nL 37.796875 25.390625 \r\nz\r\nM 35.203125 72.90625 \r\nL 47.609375 72.90625 \r\nL 47.609375 25.390625 \r\nL 58.015625 25.390625 \r\nL 58.015625 17.1875 \r\nL 47.609375 17.1875 \r\nL 47.609375 0 \r\nL 37.796875 0 \r\nL 37.796875 17.1875 \r\nL 4.890625 17.1875 \r\nL 4.890625 26.703125 \r\nz\r\n\" id=\"DejaVuSans-52\"/>\r\n       </defs>\r\n       <use xlink:href=\"#DejaVuSans-52\"/>\r\n      </g>\r\n     </g>\r\n    </g>\r\n    <g id=\"xtick_5\">\r\n     <g id=\"line2d_5\">\r\n      <g>\r\n       <use style=\"stroke:#000000;stroke-width:0.8;\" x=\"61.0785\" xlink:href=\"#m207e360114\" y=\"224.64\"/>\r\n      </g>\r\n     </g>\r\n     <g id=\"text_5\">\r\n      <!-- 5 -->\r\n      <g transform=\"translate(63.837875 238.0025)rotate(-90)scale(0.1 -0.1)\">\r\n       <defs>\r\n        <path d=\"M 10.796875 72.90625 \r\nL 49.515625 72.90625 \r\nL 49.515625 64.59375 \r\nL 19.828125 64.59375 \r\nL 19.828125 46.734375 \r\nQ 21.96875 47.46875 24.109375 47.828125 \r\nQ 26.265625 48.1875 28.421875 48.1875 \r\nQ 40.625 48.1875 47.75 41.5 \r\nQ 54.890625 34.8125 54.890625 23.390625 \r\nQ 54.890625 11.625 47.5625 5.09375 \r\nQ 40.234375 -1.421875 26.90625 -1.421875 \r\nQ 22.3125 -1.421875 17.546875 -0.640625 \r\nQ 12.796875 0.140625 7.71875 1.703125 \r\nL 7.71875 11.625 \r\nQ 12.109375 9.234375 16.796875 8.0625 \r\nQ 21.484375 6.890625 26.703125 6.890625 \r\nQ 35.15625 6.890625 40.078125 11.328125 \r\nQ 45.015625 15.765625 45.015625 23.390625 \r\nQ 45.015625 31 40.078125 35.4375 \r\nQ 35.15625 39.890625 26.703125 39.890625 \r\nQ 22.75 39.890625 18.8125 39.015625 \r\nQ 14.890625 38.140625 10.796875 36.28125 \r\nz\r\n\" id=\"DejaVuSans-53\"/>\r\n       </defs>\r\n       <use xlink:href=\"#DejaVuSans-53\"/>\r\n      </g>\r\n     </g>\r\n    </g>\r\n    <g id=\"xtick_6\">\r\n     <g id=\"line2d_6\">\r\n      <g>\r\n       <use style=\"stroke:#000000;stroke-width:0.8;\" x=\"64.4265\" xlink:href=\"#m207e360114\" y=\"224.64\"/>\r\n      </g>\r\n     </g>\r\n     <g id=\"text_6\">\r\n      <!-- 6 -->\r\n      <g transform=\"translate(67.185875 238.0025)rotate(-90)scale(0.1 -0.1)\">\r\n       <defs>\r\n        <path d=\"M 33.015625 40.375 \r\nQ 26.375 40.375 22.484375 35.828125 \r\nQ 18.609375 31.296875 18.609375 23.390625 \r\nQ 18.609375 15.53125 22.484375 10.953125 \r\nQ 26.375 6.390625 33.015625 6.390625 \r\nQ 39.65625 6.390625 43.53125 10.953125 \r\nQ 47.40625 15.53125 47.40625 23.390625 \r\nQ 47.40625 31.296875 43.53125 35.828125 \r\nQ 39.65625 40.375 33.015625 40.375 \r\nz\r\nM 52.59375 71.296875 \r\nL 52.59375 62.3125 \r\nQ 48.875 64.0625 45.09375 64.984375 \r\nQ 41.3125 65.921875 37.59375 65.921875 \r\nQ 27.828125 65.921875 22.671875 59.328125 \r\nQ 17.53125 52.734375 16.796875 39.40625 \r\nQ 19.671875 43.65625 24.015625 45.921875 \r\nQ 28.375 48.1875 33.59375 48.1875 \r\nQ 44.578125 48.1875 50.953125 41.515625 \r\nQ 57.328125 34.859375 57.328125 23.390625 \r\nQ 57.328125 12.15625 50.6875 5.359375 \r\nQ 44.046875 -1.421875 33.015625 -1.421875 \r\nQ 20.359375 -1.421875 13.671875 8.265625 \r\nQ 6.984375 17.96875 6.984375 36.375 \r\nQ 6.984375 53.65625 15.1875 63.9375 \r\nQ 23.390625 74.21875 37.203125 74.21875 \r\nQ 40.921875 74.21875 44.703125 73.484375 \r\nQ 48.484375 72.75 52.59375 71.296875 \r\nz\r\n\" id=\"DejaVuSans-54\"/>\r\n       </defs>\r\n       <use xlink:href=\"#DejaVuSans-54\"/>\r\n      </g>\r\n     </g>\r\n    </g>\r\n    <g id=\"xtick_7\">\r\n     <g id=\"line2d_7\">\r\n      <g>\r\n       <use style=\"stroke:#000000;stroke-width:0.8;\" x=\"67.7745\" xlink:href=\"#m207e360114\" y=\"224.64\"/>\r\n      </g>\r\n     </g>\r\n     <g id=\"text_7\">\r\n      <!-- 7 -->\r\n      <g transform=\"translate(70.533875 238.0025)rotate(-90)scale(0.1 -0.1)\">\r\n       <defs>\r\n        <path d=\"M 8.203125 72.90625 \r\nL 55.078125 72.90625 \r\nL 55.078125 68.703125 \r\nL 28.609375 0 \r\nL 18.3125 0 \r\nL 43.21875 64.59375 \r\nL 8.203125 64.59375 \r\nz\r\n\" id=\"DejaVuSans-55\"/>\r\n       </defs>\r\n       <use xlink:href=\"#DejaVuSans-55\"/>\r\n      </g>\r\n     </g>\r\n    </g>\r\n    <g id=\"xtick_8\">\r\n     <g id=\"line2d_8\">\r\n      <g>\r\n       <use style=\"stroke:#000000;stroke-width:0.8;\" x=\"71.1225\" xlink:href=\"#m207e360114\" y=\"224.64\"/>\r\n      </g>\r\n     </g>\r\n     <g id=\"text_8\">\r\n      <!-- 8 -->\r\n      <g transform=\"translate(73.881875 238.0025)rotate(-90)scale(0.1 -0.1)\">\r\n       <defs>\r\n        <path d=\"M 31.78125 34.625 \r\nQ 24.75 34.625 20.71875 30.859375 \r\nQ 16.703125 27.09375 16.703125 20.515625 \r\nQ 16.703125 13.921875 20.71875 10.15625 \r\nQ 24.75 6.390625 31.78125 6.390625 \r\nQ 38.8125 6.390625 42.859375 10.171875 \r\nQ 46.921875 13.96875 46.921875 20.515625 \r\nQ 46.921875 27.09375 42.890625 30.859375 \r\nQ 38.875 34.625 31.78125 34.625 \r\nz\r\nM 21.921875 38.8125 \r\nQ 15.578125 40.375 12.03125 44.71875 \r\nQ 8.5 49.078125 8.5 55.328125 \r\nQ 8.5 64.0625 14.71875 69.140625 \r\nQ 20.953125 74.21875 31.78125 74.21875 \r\nQ 42.671875 74.21875 48.875 69.140625 \r\nQ 55.078125 64.0625 55.078125 55.328125 \r\nQ 55.078125 49.078125 51.53125 44.71875 \r\nQ 48 40.375 41.703125 38.8125 \r\nQ 48.828125 37.15625 52.796875 32.3125 \r\nQ 56.78125 27.484375 56.78125 20.515625 \r\nQ 56.78125 9.90625 50.3125 4.234375 \r\nQ 43.84375 -1.421875 31.78125 -1.421875 \r\nQ 19.734375 -1.421875 13.25 4.234375 \r\nQ 6.78125 9.90625 6.78125 20.515625 \r\nQ 6.78125 27.484375 10.78125 32.3125 \r\nQ 14.796875 37.15625 21.921875 38.8125 \r\nz\r\nM 18.3125 54.390625 \r\nQ 18.3125 48.734375 21.84375 45.5625 \r\nQ 25.390625 42.390625 31.78125 42.390625 \r\nQ 38.140625 42.390625 41.71875 45.5625 \r\nQ 45.3125 48.734375 45.3125 54.390625 \r\nQ 45.3125 60.0625 41.71875 63.234375 \r\nQ 38.140625 66.40625 31.78125 66.40625 \r\nQ 25.390625 66.40625 21.84375 63.234375 \r\nQ 18.3125 60.0625 18.3125 54.390625 \r\nz\r\n\" id=\"DejaVuSans-56\"/>\r\n       </defs>\r\n       <use xlink:href=\"#DejaVuSans-56\"/>\r\n      </g>\r\n     </g>\r\n    </g>\r\n    <g id=\"xtick_9\">\r\n     <g id=\"line2d_9\">\r\n      <g>\r\n       <use style=\"stroke:#000000;stroke-width:0.8;\" x=\"74.4705\" xlink:href=\"#m207e360114\" y=\"224.64\"/>\r\n      </g>\r\n     </g>\r\n     <g id=\"text_9\">\r\n      <!-- 9 -->\r\n      <g transform=\"translate(77.229875 238.0025)rotate(-90)scale(0.1 -0.1)\">\r\n       <defs>\r\n        <path d=\"M 10.984375 1.515625 \r\nL 10.984375 10.5 \r\nQ 14.703125 8.734375 18.5 7.8125 \r\nQ 22.3125 6.890625 25.984375 6.890625 \r\nQ 35.75 6.890625 40.890625 13.453125 \r\nQ 46.046875 20.015625 46.78125 33.40625 \r\nQ 43.953125 29.203125 39.59375 26.953125 \r\nQ 35.25 24.703125 29.984375 24.703125 \r\nQ 19.046875 24.703125 12.671875 31.3125 \r\nQ 6.296875 37.9375 6.296875 49.421875 \r\nQ 6.296875 60.640625 12.9375 67.421875 \r\nQ 19.578125 74.21875 30.609375 74.21875 \r\nQ 43.265625 74.21875 49.921875 64.515625 \r\nQ 56.59375 54.828125 56.59375 36.375 \r\nQ 56.59375 19.140625 48.40625 8.859375 \r\nQ 40.234375 -1.421875 26.421875 -1.421875 \r\nQ 22.703125 -1.421875 18.890625 -0.6875 \r\nQ 15.09375 0.046875 10.984375 1.515625 \r\nz\r\nM 30.609375 32.421875 \r\nQ 37.25 32.421875 41.125 36.953125 \r\nQ 45.015625 41.5 45.015625 49.421875 \r\nQ 45.015625 57.28125 41.125 61.84375 \r\nQ 37.25 66.40625 30.609375 66.40625 \r\nQ 23.96875 66.40625 20.09375 61.84375 \r\nQ 16.21875 57.28125 16.21875 49.421875 \r\nQ 16.21875 41.5 20.09375 36.953125 \r\nQ 23.96875 32.421875 30.609375 32.421875 \r\nz\r\n\" id=\"DejaVuSans-57\"/>\r\n       </defs>\r\n       <use xlink:href=\"#DejaVuSans-57\"/>\r\n      </g>\r\n     </g>\r\n    </g>\r\n    <g id=\"xtick_10\">\r\n     <g id=\"line2d_10\">\r\n      <g>\r\n       <use style=\"stroke:#000000;stroke-width:0.8;\" x=\"77.8185\" xlink:href=\"#m207e360114\" y=\"224.64\"/>\r\n      </g>\r\n     </g>\r\n     <g id=\"text_10\">\r\n      <!-- 10 -->\r\n      <g transform=\"translate(80.577875 244.365)rotate(-90)scale(0.1 -0.1)\">\r\n       <defs>\r\n        <path d=\"M 31.78125 66.40625 \r\nQ 24.171875 66.40625 20.328125 58.90625 \r\nQ 16.5 51.421875 16.5 36.375 \r\nQ 16.5 21.390625 20.328125 13.890625 \r\nQ 24.171875 6.390625 31.78125 6.390625 \r\nQ 39.453125 6.390625 43.28125 13.890625 \r\nQ 47.125 21.390625 47.125 36.375 \r\nQ 47.125 51.421875 43.28125 58.90625 \r\nQ 39.453125 66.40625 31.78125 66.40625 \r\nz\r\nM 31.78125 74.21875 \r\nQ 44.046875 74.21875 50.515625 64.515625 \r\nQ 56.984375 54.828125 56.984375 36.375 \r\nQ 56.984375 17.96875 50.515625 8.265625 \r\nQ 44.046875 -1.421875 31.78125 -1.421875 \r\nQ 19.53125 -1.421875 13.0625 8.265625 \r\nQ 6.59375 17.96875 6.59375 36.375 \r\nQ 6.59375 54.828125 13.0625 64.515625 \r\nQ 19.53125 74.21875 31.78125 74.21875 \r\nz\r\n\" id=\"DejaVuSans-48\"/>\r\n       </defs>\r\n       <use xlink:href=\"#DejaVuSans-49\"/>\r\n       <use x=\"63.623047\" xlink:href=\"#DejaVuSans-48\"/>\r\n      </g>\r\n     </g>\r\n    </g>\r\n    <g id=\"xtick_11\">\r\n     <g id=\"line2d_11\">\r\n      <g>\r\n       <use style=\"stroke:#000000;stroke-width:0.8;\" x=\"81.1665\" xlink:href=\"#m207e360114\" y=\"224.64\"/>\r\n      </g>\r\n     </g>\r\n     <g id=\"text_11\">\r\n      <!-- 11 -->\r\n      <g transform=\"translate(83.925875 244.365)rotate(-90)scale(0.1 -0.1)\">\r\n       <use xlink:href=\"#DejaVuSans-49\"/>\r\n       <use x=\"63.623047\" xlink:href=\"#DejaVuSans-49\"/>\r\n      </g>\r\n     </g>\r\n    </g>\r\n    <g id=\"xtick_12\">\r\n     <g id=\"line2d_12\">\r\n      <g>\r\n       <use style=\"stroke:#000000;stroke-width:0.8;\" x=\"84.5145\" xlink:href=\"#m207e360114\" y=\"224.64\"/>\r\n      </g>\r\n     </g>\r\n     <g id=\"text_12\">\r\n      <!-- 12 -->\r\n      <g transform=\"translate(87.273875 244.365)rotate(-90)scale(0.1 -0.1)\">\r\n       <use xlink:href=\"#DejaVuSans-49\"/>\r\n       <use x=\"63.623047\" xlink:href=\"#DejaVuSans-50\"/>\r\n      </g>\r\n     </g>\r\n    </g>\r\n    <g id=\"xtick_13\">\r\n     <g id=\"line2d_13\">\r\n      <g>\r\n       <use style=\"stroke:#000000;stroke-width:0.8;\" x=\"87.8625\" xlink:href=\"#m207e360114\" y=\"224.64\"/>\r\n      </g>\r\n     </g>\r\n     <g id=\"text_13\">\r\n      <!-- 13 -->\r\n      <g transform=\"translate(90.621875 244.365)rotate(-90)scale(0.1 -0.1)\">\r\n       <use xlink:href=\"#DejaVuSans-49\"/>\r\n       <use x=\"63.623047\" xlink:href=\"#DejaVuSans-51\"/>\r\n      </g>\r\n     </g>\r\n    </g>\r\n    <g id=\"xtick_14\">\r\n     <g id=\"line2d_14\">\r\n      <g>\r\n       <use style=\"stroke:#000000;stroke-width:0.8;\" x=\"91.2105\" xlink:href=\"#m207e360114\" y=\"224.64\"/>\r\n      </g>\r\n     </g>\r\n     <g id=\"text_14\">\r\n      <!-- 14 -->\r\n      <g transform=\"translate(93.969875 244.365)rotate(-90)scale(0.1 -0.1)\">\r\n       <use xlink:href=\"#DejaVuSans-49\"/>\r\n       <use x=\"63.623047\" xlink:href=\"#DejaVuSans-52\"/>\r\n      </g>\r\n     </g>\r\n    </g>\r\n    <g id=\"xtick_15\">\r\n     <g id=\"line2d_15\">\r\n      <g>\r\n       <use style=\"stroke:#000000;stroke-width:0.8;\" x=\"94.5585\" xlink:href=\"#m207e360114\" y=\"224.64\"/>\r\n      </g>\r\n     </g>\r\n     <g id=\"text_15\">\r\n      <!-- 15 -->\r\n      <g transform=\"translate(97.317875 244.365)rotate(-90)scale(0.1 -0.1)\">\r\n       <use xlink:href=\"#DejaVuSans-49\"/>\r\n       <use x=\"63.623047\" xlink:href=\"#DejaVuSans-53\"/>\r\n      </g>\r\n     </g>\r\n    </g>\r\n    <g id=\"xtick_16\">\r\n     <g id=\"line2d_16\">\r\n      <g>\r\n       <use style=\"stroke:#000000;stroke-width:0.8;\" x=\"97.9065\" xlink:href=\"#m207e360114\" y=\"224.64\"/>\r\n      </g>\r\n     </g>\r\n     <g id=\"text_16\">\r\n      <!-- 16 -->\r\n      <g transform=\"translate(100.665875 244.365)rotate(-90)scale(0.1 -0.1)\">\r\n       <use xlink:href=\"#DejaVuSans-49\"/>\r\n       <use x=\"63.623047\" xlink:href=\"#DejaVuSans-54\"/>\r\n      </g>\r\n     </g>\r\n    </g>\r\n    <g id=\"xtick_17\">\r\n     <g id=\"line2d_17\">\r\n      <g>\r\n       <use style=\"stroke:#000000;stroke-width:0.8;\" x=\"101.2545\" xlink:href=\"#m207e360114\" y=\"224.64\"/>\r\n      </g>\r\n     </g>\r\n     <g id=\"text_17\">\r\n      <!-- 17 -->\r\n      <g transform=\"translate(104.013875 244.365)rotate(-90)scale(0.1 -0.1)\">\r\n       <use xlink:href=\"#DejaVuSans-49\"/>\r\n       <use x=\"63.623047\" xlink:href=\"#DejaVuSans-55\"/>\r\n      </g>\r\n     </g>\r\n    </g>\r\n    <g id=\"xtick_18\">\r\n     <g id=\"line2d_18\">\r\n      <g>\r\n       <use style=\"stroke:#000000;stroke-width:0.8;\" x=\"104.6025\" xlink:href=\"#m207e360114\" y=\"224.64\"/>\r\n      </g>\r\n     </g>\r\n     <g id=\"text_18\">\r\n      <!-- 18 -->\r\n      <g transform=\"translate(107.361875 244.365)rotate(-90)scale(0.1 -0.1)\">\r\n       <use xlink:href=\"#DejaVuSans-49\"/>\r\n       <use x=\"63.623047\" xlink:href=\"#DejaVuSans-56\"/>\r\n      </g>\r\n     </g>\r\n    </g>\r\n    <g id=\"xtick_19\">\r\n     <g id=\"line2d_19\">\r\n      <g>\r\n       <use style=\"stroke:#000000;stroke-width:0.8;\" x=\"107.9505\" xlink:href=\"#m207e360114\" y=\"224.64\"/>\r\n      </g>\r\n     </g>\r\n     <g id=\"text_19\">\r\n      <!-- 19 -->\r\n      <g transform=\"translate(110.709875 244.365)rotate(-90)scale(0.1 -0.1)\">\r\n       <use xlink:href=\"#DejaVuSans-49\"/>\r\n       <use x=\"63.623047\" xlink:href=\"#DejaVuSans-57\"/>\r\n      </g>\r\n     </g>\r\n    </g>\r\n    <g id=\"xtick_20\">\r\n     <g id=\"line2d_20\">\r\n      <g>\r\n       <use style=\"stroke:#000000;stroke-width:0.8;\" x=\"111.2985\" xlink:href=\"#m207e360114\" y=\"224.64\"/>\r\n      </g>\r\n     </g>\r\n     <g id=\"text_20\">\r\n      <!-- 20 -->\r\n      <g transform=\"translate(114.057875 244.365)rotate(-90)scale(0.1 -0.1)\">\r\n       <use xlink:href=\"#DejaVuSans-50\"/>\r\n       <use x=\"63.623047\" xlink:href=\"#DejaVuSans-48\"/>\r\n      </g>\r\n     </g>\r\n    </g>\r\n    <g id=\"xtick_21\">\r\n     <g id=\"line2d_21\">\r\n      <g>\r\n       <use style=\"stroke:#000000;stroke-width:0.8;\" x=\"114.6465\" xlink:href=\"#m207e360114\" y=\"224.64\"/>\r\n      </g>\r\n     </g>\r\n     <g id=\"text_21\">\r\n      <!-- 21 -->\r\n      <g transform=\"translate(117.405875 244.365)rotate(-90)scale(0.1 -0.1)\">\r\n       <use xlink:href=\"#DejaVuSans-50\"/>\r\n       <use x=\"63.623047\" xlink:href=\"#DejaVuSans-49\"/>\r\n      </g>\r\n     </g>\r\n    </g>\r\n    <g id=\"xtick_22\">\r\n     <g id=\"line2d_22\">\r\n      <g>\r\n       <use style=\"stroke:#000000;stroke-width:0.8;\" x=\"117.9945\" xlink:href=\"#m207e360114\" y=\"224.64\"/>\r\n      </g>\r\n     </g>\r\n     <g id=\"text_22\">\r\n      <!-- 22 -->\r\n      <g transform=\"translate(120.753875 244.365)rotate(-90)scale(0.1 -0.1)\">\r\n       <use xlink:href=\"#DejaVuSans-50\"/>\r\n       <use x=\"63.623047\" xlink:href=\"#DejaVuSans-50\"/>\r\n      </g>\r\n     </g>\r\n    </g>\r\n    <g id=\"xtick_23\">\r\n     <g id=\"line2d_23\">\r\n      <g>\r\n       <use style=\"stroke:#000000;stroke-width:0.8;\" x=\"121.3425\" xlink:href=\"#m207e360114\" y=\"224.64\"/>\r\n      </g>\r\n     </g>\r\n     <g id=\"text_23\">\r\n      <!-- 23 -->\r\n      <g transform=\"translate(124.101875 244.365)rotate(-90)scale(0.1 -0.1)\">\r\n       <use xlink:href=\"#DejaVuSans-50\"/>\r\n       <use x=\"63.623047\" xlink:href=\"#DejaVuSans-51\"/>\r\n      </g>\r\n     </g>\r\n    </g>\r\n    <g id=\"xtick_24\">\r\n     <g id=\"line2d_24\">\r\n      <g>\r\n       <use style=\"stroke:#000000;stroke-width:0.8;\" x=\"124.6905\" xlink:href=\"#m207e360114\" y=\"224.64\"/>\r\n      </g>\r\n     </g>\r\n     <g id=\"text_24\">\r\n      <!-- 24 -->\r\n      <g transform=\"translate(127.449875 244.365)rotate(-90)scale(0.1 -0.1)\">\r\n       <use xlink:href=\"#DejaVuSans-50\"/>\r\n       <use x=\"63.623047\" xlink:href=\"#DejaVuSans-52\"/>\r\n      </g>\r\n     </g>\r\n    </g>\r\n    <g id=\"xtick_25\">\r\n     <g id=\"line2d_25\">\r\n      <g>\r\n       <use style=\"stroke:#000000;stroke-width:0.8;\" x=\"128.0385\" xlink:href=\"#m207e360114\" y=\"224.64\"/>\r\n      </g>\r\n     </g>\r\n     <g id=\"text_25\">\r\n      <!-- 25 -->\r\n      <g transform=\"translate(130.797875 244.365)rotate(-90)scale(0.1 -0.1)\">\r\n       <use xlink:href=\"#DejaVuSans-50\"/>\r\n       <use x=\"63.623047\" xlink:href=\"#DejaVuSans-53\"/>\r\n      </g>\r\n     </g>\r\n    </g>\r\n    <g id=\"xtick_26\">\r\n     <g id=\"line2d_26\">\r\n      <g>\r\n       <use style=\"stroke:#000000;stroke-width:0.8;\" x=\"131.3865\" xlink:href=\"#m207e360114\" y=\"224.64\"/>\r\n      </g>\r\n     </g>\r\n     <g id=\"text_26\">\r\n      <!-- 26 -->\r\n      <g transform=\"translate(134.145875 244.365)rotate(-90)scale(0.1 -0.1)\">\r\n       <use xlink:href=\"#DejaVuSans-50\"/>\r\n       <use x=\"63.623047\" xlink:href=\"#DejaVuSans-54\"/>\r\n      </g>\r\n     </g>\r\n    </g>\r\n    <g id=\"xtick_27\">\r\n     <g id=\"line2d_27\">\r\n      <g>\r\n       <use style=\"stroke:#000000;stroke-width:0.8;\" x=\"134.7345\" xlink:href=\"#m207e360114\" y=\"224.64\"/>\r\n      </g>\r\n     </g>\r\n     <g id=\"text_27\">\r\n      <!-- 27 -->\r\n      <g transform=\"translate(137.493875 244.365)rotate(-90)scale(0.1 -0.1)\">\r\n       <use xlink:href=\"#DejaVuSans-50\"/>\r\n       <use x=\"63.623047\" xlink:href=\"#DejaVuSans-55\"/>\r\n      </g>\r\n     </g>\r\n    </g>\r\n    <g id=\"xtick_28\">\r\n     <g id=\"line2d_28\">\r\n      <g>\r\n       <use style=\"stroke:#000000;stroke-width:0.8;\" x=\"138.0825\" xlink:href=\"#m207e360114\" y=\"224.64\"/>\r\n      </g>\r\n     </g>\r\n     <g id=\"text_28\">\r\n      <!-- 28 -->\r\n      <g transform=\"translate(140.841875 244.365)rotate(-90)scale(0.1 -0.1)\">\r\n       <use xlink:href=\"#DejaVuSans-50\"/>\r\n       <use x=\"63.623047\" xlink:href=\"#DejaVuSans-56\"/>\r\n      </g>\r\n     </g>\r\n    </g>\r\n    <g id=\"xtick_29\">\r\n     <g id=\"line2d_29\">\r\n      <g>\r\n       <use style=\"stroke:#000000;stroke-width:0.8;\" x=\"141.4305\" xlink:href=\"#m207e360114\" y=\"224.64\"/>\r\n      </g>\r\n     </g>\r\n     <g id=\"text_29\">\r\n      <!-- 29 -->\r\n      <g transform=\"translate(144.189875 244.365)rotate(-90)scale(0.1 -0.1)\">\r\n       <use xlink:href=\"#DejaVuSans-50\"/>\r\n       <use x=\"63.623047\" xlink:href=\"#DejaVuSans-57\"/>\r\n      </g>\r\n     </g>\r\n    </g>\r\n    <g id=\"xtick_30\">\r\n     <g id=\"line2d_30\">\r\n      <g>\r\n       <use style=\"stroke:#000000;stroke-width:0.8;\" x=\"144.7785\" xlink:href=\"#m207e360114\" y=\"224.64\"/>\r\n      </g>\r\n     </g>\r\n     <g id=\"text_30\">\r\n      <!-- 30 -->\r\n      <g transform=\"translate(147.537875 244.365)rotate(-90)scale(0.1 -0.1)\">\r\n       <use xlink:href=\"#DejaVuSans-51\"/>\r\n       <use x=\"63.623047\" xlink:href=\"#DejaVuSans-48\"/>\r\n      </g>\r\n     </g>\r\n    </g>\r\n    <g id=\"xtick_31\">\r\n     <g id=\"line2d_31\">\r\n      <g>\r\n       <use style=\"stroke:#000000;stroke-width:0.8;\" x=\"148.1265\" xlink:href=\"#m207e360114\" y=\"224.64\"/>\r\n      </g>\r\n     </g>\r\n     <g id=\"text_31\">\r\n      <!-- 31 -->\r\n      <g transform=\"translate(150.885875 244.365)rotate(-90)scale(0.1 -0.1)\">\r\n       <use xlink:href=\"#DejaVuSans-51\"/>\r\n       <use x=\"63.623047\" xlink:href=\"#DejaVuSans-49\"/>\r\n      </g>\r\n     </g>\r\n    </g>\r\n    <g id=\"xtick_32\">\r\n     <g id=\"line2d_32\">\r\n      <g>\r\n       <use style=\"stroke:#000000;stroke-width:0.8;\" x=\"151.4745\" xlink:href=\"#m207e360114\" y=\"224.64\"/>\r\n      </g>\r\n     </g>\r\n     <g id=\"text_32\">\r\n      <!-- 32 -->\r\n      <g transform=\"translate(154.233875 244.365)rotate(-90)scale(0.1 -0.1)\">\r\n       <use xlink:href=\"#DejaVuSans-51\"/>\r\n       <use x=\"63.623047\" xlink:href=\"#DejaVuSans-50\"/>\r\n      </g>\r\n     </g>\r\n    </g>\r\n    <g id=\"xtick_33\">\r\n     <g id=\"line2d_33\">\r\n      <g>\r\n       <use style=\"stroke:#000000;stroke-width:0.8;\" x=\"154.8225\" xlink:href=\"#m207e360114\" y=\"224.64\"/>\r\n      </g>\r\n     </g>\r\n     <g id=\"text_33\">\r\n      <!-- 33 -->\r\n      <g transform=\"translate(157.581875 244.365)rotate(-90)scale(0.1 -0.1)\">\r\n       <use xlink:href=\"#DejaVuSans-51\"/>\r\n       <use x=\"63.623047\" xlink:href=\"#DejaVuSans-51\"/>\r\n      </g>\r\n     </g>\r\n    </g>\r\n    <g id=\"xtick_34\">\r\n     <g id=\"line2d_34\">\r\n      <g>\r\n       <use style=\"stroke:#000000;stroke-width:0.8;\" x=\"158.1705\" xlink:href=\"#m207e360114\" y=\"224.64\"/>\r\n      </g>\r\n     </g>\r\n     <g id=\"text_34\">\r\n      <!-- 34 -->\r\n      <g transform=\"translate(160.929875 244.365)rotate(-90)scale(0.1 -0.1)\">\r\n       <use xlink:href=\"#DejaVuSans-51\"/>\r\n       <use x=\"63.623047\" xlink:href=\"#DejaVuSans-52\"/>\r\n      </g>\r\n     </g>\r\n    </g>\r\n    <g id=\"xtick_35\">\r\n     <g id=\"line2d_35\">\r\n      <g>\r\n       <use style=\"stroke:#000000;stroke-width:0.8;\" x=\"161.5185\" xlink:href=\"#m207e360114\" y=\"224.64\"/>\r\n      </g>\r\n     </g>\r\n     <g id=\"text_35\">\r\n      <!-- 35 -->\r\n      <g transform=\"translate(164.277875 244.365)rotate(-90)scale(0.1 -0.1)\">\r\n       <use xlink:href=\"#DejaVuSans-51\"/>\r\n       <use x=\"63.623047\" xlink:href=\"#DejaVuSans-53\"/>\r\n      </g>\r\n     </g>\r\n    </g>\r\n    <g id=\"xtick_36\">\r\n     <g id=\"line2d_36\">\r\n      <g>\r\n       <use style=\"stroke:#000000;stroke-width:0.8;\" x=\"164.8665\" xlink:href=\"#m207e360114\" y=\"224.64\"/>\r\n      </g>\r\n     </g>\r\n     <g id=\"text_36\">\r\n      <!-- 36 -->\r\n      <g transform=\"translate(167.625875 244.365)rotate(-90)scale(0.1 -0.1)\">\r\n       <use xlink:href=\"#DejaVuSans-51\"/>\r\n       <use x=\"63.623047\" xlink:href=\"#DejaVuSans-54\"/>\r\n      </g>\r\n     </g>\r\n    </g>\r\n    <g id=\"xtick_37\">\r\n     <g id=\"line2d_37\">\r\n      <g>\r\n       <use style=\"stroke:#000000;stroke-width:0.8;\" x=\"168.2145\" xlink:href=\"#m207e360114\" y=\"224.64\"/>\r\n      </g>\r\n     </g>\r\n     <g id=\"text_37\">\r\n      <!-- 37 -->\r\n      <g transform=\"translate(170.973875 244.365)rotate(-90)scale(0.1 -0.1)\">\r\n       <use xlink:href=\"#DejaVuSans-51\"/>\r\n       <use x=\"63.623047\" xlink:href=\"#DejaVuSans-55\"/>\r\n      </g>\r\n     </g>\r\n    </g>\r\n    <g id=\"xtick_38\">\r\n     <g id=\"line2d_38\">\r\n      <g>\r\n       <use style=\"stroke:#000000;stroke-width:0.8;\" x=\"171.5625\" xlink:href=\"#m207e360114\" y=\"224.64\"/>\r\n      </g>\r\n     </g>\r\n     <g id=\"text_38\">\r\n      <!-- 38 -->\r\n      <g transform=\"translate(174.321875 244.365)rotate(-90)scale(0.1 -0.1)\">\r\n       <use xlink:href=\"#DejaVuSans-51\"/>\r\n       <use x=\"63.623047\" xlink:href=\"#DejaVuSans-56\"/>\r\n      </g>\r\n     </g>\r\n    </g>\r\n    <g id=\"xtick_39\">\r\n     <g id=\"line2d_39\">\r\n      <g>\r\n       <use style=\"stroke:#000000;stroke-width:0.8;\" x=\"174.9105\" xlink:href=\"#m207e360114\" y=\"224.64\"/>\r\n      </g>\r\n     </g>\r\n     <g id=\"text_39\">\r\n      <!-- 39 -->\r\n      <g transform=\"translate(177.669875 244.365)rotate(-90)scale(0.1 -0.1)\">\r\n       <use xlink:href=\"#DejaVuSans-51\"/>\r\n       <use x=\"63.623047\" xlink:href=\"#DejaVuSans-57\"/>\r\n      </g>\r\n     </g>\r\n    </g>\r\n    <g id=\"xtick_40\">\r\n     <g id=\"line2d_40\">\r\n      <g>\r\n       <use style=\"stroke:#000000;stroke-width:0.8;\" x=\"178.2585\" xlink:href=\"#m207e360114\" y=\"224.64\"/>\r\n      </g>\r\n     </g>\r\n     <g id=\"text_40\">\r\n      <!-- 40 -->\r\n      <g transform=\"translate(181.017875 244.365)rotate(-90)scale(0.1 -0.1)\">\r\n       <use xlink:href=\"#DejaVuSans-52\"/>\r\n       <use x=\"63.623047\" xlink:href=\"#DejaVuSans-48\"/>\r\n      </g>\r\n     </g>\r\n    </g>\r\n    <g id=\"xtick_41\">\r\n     <g id=\"line2d_41\">\r\n      <g>\r\n       <use style=\"stroke:#000000;stroke-width:0.8;\" x=\"181.6065\" xlink:href=\"#m207e360114\" y=\"224.64\"/>\r\n      </g>\r\n     </g>\r\n     <g id=\"text_41\">\r\n      <!-- 41 -->\r\n      <g transform=\"translate(184.365875 244.365)rotate(-90)scale(0.1 -0.1)\">\r\n       <use xlink:href=\"#DejaVuSans-52\"/>\r\n       <use x=\"63.623047\" xlink:href=\"#DejaVuSans-49\"/>\r\n      </g>\r\n     </g>\r\n    </g>\r\n    <g id=\"xtick_42\">\r\n     <g id=\"line2d_42\">\r\n      <g>\r\n       <use style=\"stroke:#000000;stroke-width:0.8;\" x=\"184.9545\" xlink:href=\"#m207e360114\" y=\"224.64\"/>\r\n      </g>\r\n     </g>\r\n     <g id=\"text_42\">\r\n      <!-- 42 -->\r\n      <g transform=\"translate(187.713875 244.365)rotate(-90)scale(0.1 -0.1)\">\r\n       <use xlink:href=\"#DejaVuSans-52\"/>\r\n       <use x=\"63.623047\" xlink:href=\"#DejaVuSans-50\"/>\r\n      </g>\r\n     </g>\r\n    </g>\r\n    <g id=\"xtick_43\">\r\n     <g id=\"line2d_43\">\r\n      <g>\r\n       <use style=\"stroke:#000000;stroke-width:0.8;\" x=\"188.3025\" xlink:href=\"#m207e360114\" y=\"224.64\"/>\r\n      </g>\r\n     </g>\r\n     <g id=\"text_43\">\r\n      <!-- 43 -->\r\n      <g transform=\"translate(191.061875 244.365)rotate(-90)scale(0.1 -0.1)\">\r\n       <use xlink:href=\"#DejaVuSans-52\"/>\r\n       <use x=\"63.623047\" xlink:href=\"#DejaVuSans-51\"/>\r\n      </g>\r\n     </g>\r\n    </g>\r\n    <g id=\"xtick_44\">\r\n     <g id=\"line2d_44\">\r\n      <g>\r\n       <use style=\"stroke:#000000;stroke-width:0.8;\" x=\"191.6505\" xlink:href=\"#m207e360114\" y=\"224.64\"/>\r\n      </g>\r\n     </g>\r\n     <g id=\"text_44\">\r\n      <!-- 44 -->\r\n      <g transform=\"translate(194.409875 244.365)rotate(-90)scale(0.1 -0.1)\">\r\n       <use xlink:href=\"#DejaVuSans-52\"/>\r\n       <use x=\"63.623047\" xlink:href=\"#DejaVuSans-52\"/>\r\n      </g>\r\n     </g>\r\n    </g>\r\n    <g id=\"xtick_45\">\r\n     <g id=\"line2d_45\">\r\n      <g>\r\n       <use style=\"stroke:#000000;stroke-width:0.8;\" x=\"194.9985\" xlink:href=\"#m207e360114\" y=\"224.64\"/>\r\n      </g>\r\n     </g>\r\n     <g id=\"text_45\">\r\n      <!-- 45 -->\r\n      <g transform=\"translate(197.757875 244.365)rotate(-90)scale(0.1 -0.1)\">\r\n       <use xlink:href=\"#DejaVuSans-52\"/>\r\n       <use x=\"63.623047\" xlink:href=\"#DejaVuSans-53\"/>\r\n      </g>\r\n     </g>\r\n    </g>\r\n    <g id=\"xtick_46\">\r\n     <g id=\"line2d_46\">\r\n      <g>\r\n       <use style=\"stroke:#000000;stroke-width:0.8;\" x=\"198.3465\" xlink:href=\"#m207e360114\" y=\"224.64\"/>\r\n      </g>\r\n     </g>\r\n     <g id=\"text_46\">\r\n      <!-- 46 -->\r\n      <g transform=\"translate(201.105875 244.365)rotate(-90)scale(0.1 -0.1)\">\r\n       <use xlink:href=\"#DejaVuSans-52\"/>\r\n       <use x=\"63.623047\" xlink:href=\"#DejaVuSans-54\"/>\r\n      </g>\r\n     </g>\r\n    </g>\r\n    <g id=\"xtick_47\">\r\n     <g id=\"line2d_47\">\r\n      <g>\r\n       <use style=\"stroke:#000000;stroke-width:0.8;\" x=\"201.6945\" xlink:href=\"#m207e360114\" y=\"224.64\"/>\r\n      </g>\r\n     </g>\r\n     <g id=\"text_47\">\r\n      <!-- 47 -->\r\n      <g transform=\"translate(204.453875 244.365)rotate(-90)scale(0.1 -0.1)\">\r\n       <use xlink:href=\"#DejaVuSans-52\"/>\r\n       <use x=\"63.623047\" xlink:href=\"#DejaVuSans-55\"/>\r\n      </g>\r\n     </g>\r\n    </g>\r\n    <g id=\"xtick_48\">\r\n     <g id=\"line2d_48\">\r\n      <g>\r\n       <use style=\"stroke:#000000;stroke-width:0.8;\" x=\"205.0425\" xlink:href=\"#m207e360114\" y=\"224.64\"/>\r\n      </g>\r\n     </g>\r\n     <g id=\"text_48\">\r\n      <!-- 48 -->\r\n      <g transform=\"translate(207.801875 244.365)rotate(-90)scale(0.1 -0.1)\">\r\n       <use xlink:href=\"#DejaVuSans-52\"/>\r\n       <use x=\"63.623047\" xlink:href=\"#DejaVuSans-56\"/>\r\n      </g>\r\n     </g>\r\n    </g>\r\n    <g id=\"xtick_49\">\r\n     <g id=\"line2d_49\">\r\n      <g>\r\n       <use style=\"stroke:#000000;stroke-width:0.8;\" x=\"208.3905\" xlink:href=\"#m207e360114\" y=\"224.64\"/>\r\n      </g>\r\n     </g>\r\n     <g id=\"text_49\">\r\n      <!-- 50 -->\r\n      <g transform=\"translate(211.149875 244.365)rotate(-90)scale(0.1 -0.1)\">\r\n       <use xlink:href=\"#DejaVuSans-53\"/>\r\n       <use x=\"63.623047\" xlink:href=\"#DejaVuSans-48\"/>\r\n      </g>\r\n     </g>\r\n    </g>\r\n    <g id=\"xtick_50\">\r\n     <g id=\"line2d_50\">\r\n      <g>\r\n       <use style=\"stroke:#000000;stroke-width:0.8;\" x=\"211.7385\" xlink:href=\"#m207e360114\" y=\"224.64\"/>\r\n      </g>\r\n     </g>\r\n     <g id=\"text_50\">\r\n      <!-- 51 -->\r\n      <g transform=\"translate(214.497875 244.365)rotate(-90)scale(0.1 -0.1)\">\r\n       <use xlink:href=\"#DejaVuSans-53\"/>\r\n       <use x=\"63.623047\" xlink:href=\"#DejaVuSans-49\"/>\r\n      </g>\r\n     </g>\r\n    </g>\r\n    <g id=\"xtick_51\">\r\n     <g id=\"line2d_51\">\r\n      <g>\r\n       <use style=\"stroke:#000000;stroke-width:0.8;\" x=\"215.0865\" xlink:href=\"#m207e360114\" y=\"224.64\"/>\r\n      </g>\r\n     </g>\r\n     <g id=\"text_51\">\r\n      <!-- 54 -->\r\n      <g transform=\"translate(217.845875 244.365)rotate(-90)scale(0.1 -0.1)\">\r\n       <use xlink:href=\"#DejaVuSans-53\"/>\r\n       <use x=\"63.623047\" xlink:href=\"#DejaVuSans-52\"/>\r\n      </g>\r\n     </g>\r\n    </g>\r\n    <g id=\"xtick_52\">\r\n     <g id=\"line2d_52\">\r\n      <g>\r\n       <use style=\"stroke:#000000;stroke-width:0.8;\" x=\"218.4345\" xlink:href=\"#m207e360114\" y=\"224.64\"/>\r\n      </g>\r\n     </g>\r\n     <g id=\"text_52\">\r\n      <!-- 55 -->\r\n      <g transform=\"translate(221.193875 244.365)rotate(-90)scale(0.1 -0.1)\">\r\n       <use xlink:href=\"#DejaVuSans-53\"/>\r\n       <use x=\"63.623047\" xlink:href=\"#DejaVuSans-53\"/>\r\n      </g>\r\n     </g>\r\n    </g>\r\n    <g id=\"xtick_53\">\r\n     <g id=\"line2d_53\">\r\n      <g>\r\n       <use style=\"stroke:#000000;stroke-width:0.8;\" x=\"221.7825\" xlink:href=\"#m207e360114\" y=\"224.64\"/>\r\n      </g>\r\n     </g>\r\n     <g id=\"text_53\">\r\n      <!-- 56 -->\r\n      <g transform=\"translate(224.541875 244.365)rotate(-90)scale(0.1 -0.1)\">\r\n       <use xlink:href=\"#DejaVuSans-53\"/>\r\n       <use x=\"63.623047\" xlink:href=\"#DejaVuSans-54\"/>\r\n      </g>\r\n     </g>\r\n    </g>\r\n    <g id=\"xtick_54\">\r\n     <g id=\"line2d_54\">\r\n      <g>\r\n       <use style=\"stroke:#000000;stroke-width:0.8;\" x=\"225.1305\" xlink:href=\"#m207e360114\" y=\"224.64\"/>\r\n      </g>\r\n     </g>\r\n     <g id=\"text_54\">\r\n      <!-- 57 -->\r\n      <g transform=\"translate(227.889875 244.365)rotate(-90)scale(0.1 -0.1)\">\r\n       <use xlink:href=\"#DejaVuSans-53\"/>\r\n       <use x=\"63.623047\" xlink:href=\"#DejaVuSans-55\"/>\r\n      </g>\r\n     </g>\r\n    </g>\r\n    <g id=\"xtick_55\">\r\n     <g id=\"line2d_55\">\r\n      <g>\r\n       <use style=\"stroke:#000000;stroke-width:0.8;\" x=\"228.4785\" xlink:href=\"#m207e360114\" y=\"224.64\"/>\r\n      </g>\r\n     </g>\r\n     <g id=\"text_55\">\r\n      <!-- 61 -->\r\n      <g transform=\"translate(231.237875 244.365)rotate(-90)scale(0.1 -0.1)\">\r\n       <use xlink:href=\"#DejaVuSans-54\"/>\r\n       <use x=\"63.623047\" xlink:href=\"#DejaVuSans-49\"/>\r\n      </g>\r\n     </g>\r\n    </g>\r\n    <g id=\"xtick_56\">\r\n     <g id=\"line2d_56\">\r\n      <g>\r\n       <use style=\"stroke:#000000;stroke-width:0.8;\" x=\"231.8265\" xlink:href=\"#m207e360114\" y=\"224.64\"/>\r\n      </g>\r\n     </g>\r\n     <g id=\"text_56\">\r\n      <!-- 62 -->\r\n      <g transform=\"translate(234.585875 244.365)rotate(-90)scale(0.1 -0.1)\">\r\n       <use xlink:href=\"#DejaVuSans-54\"/>\r\n       <use x=\"63.623047\" xlink:href=\"#DejaVuSans-50\"/>\r\n      </g>\r\n     </g>\r\n    </g>\r\n    <g id=\"xtick_57\">\r\n     <g id=\"line2d_57\">\r\n      <g>\r\n       <use style=\"stroke:#000000;stroke-width:0.8;\" x=\"235.1745\" xlink:href=\"#m207e360114\" y=\"224.64\"/>\r\n      </g>\r\n     </g>\r\n     <g id=\"text_57\">\r\n      <!-- 63 -->\r\n      <g transform=\"translate(237.933875 244.365)rotate(-90)scale(0.1 -0.1)\">\r\n       <use xlink:href=\"#DejaVuSans-54\"/>\r\n       <use x=\"63.623047\" xlink:href=\"#DejaVuSans-51\"/>\r\n      </g>\r\n     </g>\r\n    </g>\r\n    <g id=\"xtick_58\">\r\n     <g id=\"line2d_58\">\r\n      <g>\r\n       <use style=\"stroke:#000000;stroke-width:0.8;\" x=\"238.5225\" xlink:href=\"#m207e360114\" y=\"224.64\"/>\r\n      </g>\r\n     </g>\r\n     <g id=\"text_58\">\r\n      <!-- 64 -->\r\n      <g transform=\"translate(241.281875 244.365)rotate(-90)scale(0.1 -0.1)\">\r\n       <use xlink:href=\"#DejaVuSans-54\"/>\r\n       <use x=\"63.623047\" xlink:href=\"#DejaVuSans-52\"/>\r\n      </g>\r\n     </g>\r\n    </g>\r\n    <g id=\"xtick_59\">\r\n     <g id=\"line2d_59\">\r\n      <g>\r\n       <use style=\"stroke:#000000;stroke-width:0.8;\" x=\"241.8705\" xlink:href=\"#m207e360114\" y=\"224.64\"/>\r\n      </g>\r\n     </g>\r\n     <g id=\"text_59\">\r\n      <!-- 65 -->\r\n      <g transform=\"translate(244.629875 244.365)rotate(-90)scale(0.1 -0.1)\">\r\n       <use xlink:href=\"#DejaVuSans-54\"/>\r\n       <use x=\"63.623047\" xlink:href=\"#DejaVuSans-53\"/>\r\n      </g>\r\n     </g>\r\n    </g>\r\n    <g id=\"xtick_60\">\r\n     <g id=\"line2d_60\">\r\n      <g>\r\n       <use style=\"stroke:#000000;stroke-width:0.8;\" x=\"245.2185\" xlink:href=\"#m207e360114\" y=\"224.64\"/>\r\n      </g>\r\n     </g>\r\n     <g id=\"text_60\">\r\n      <!-- 66 -->\r\n      <g transform=\"translate(247.977875 244.365)rotate(-90)scale(0.1 -0.1)\">\r\n       <use xlink:href=\"#DejaVuSans-54\"/>\r\n       <use x=\"63.623047\" xlink:href=\"#DejaVuSans-54\"/>\r\n      </g>\r\n     </g>\r\n    </g>\r\n    <g id=\"xtick_61\">\r\n     <g id=\"line2d_61\">\r\n      <g>\r\n       <use style=\"stroke:#000000;stroke-width:0.8;\" x=\"248.5665\" xlink:href=\"#m207e360114\" y=\"224.64\"/>\r\n      </g>\r\n     </g>\r\n     <g id=\"text_61\">\r\n      <!-- 67 -->\r\n      <g transform=\"translate(251.325875 244.365)rotate(-90)scale(0.1 -0.1)\">\r\n       <use xlink:href=\"#DejaVuSans-54\"/>\r\n       <use x=\"63.623047\" xlink:href=\"#DejaVuSans-55\"/>\r\n      </g>\r\n     </g>\r\n    </g>\r\n    <g id=\"xtick_62\">\r\n     <g id=\"line2d_62\">\r\n      <g>\r\n       <use style=\"stroke:#000000;stroke-width:0.8;\" x=\"251.9145\" xlink:href=\"#m207e360114\" y=\"224.64\"/>\r\n      </g>\r\n     </g>\r\n     <g id=\"text_62\">\r\n      <!-- 68 -->\r\n      <g transform=\"translate(254.673875 244.365)rotate(-90)scale(0.1 -0.1)\">\r\n       <use xlink:href=\"#DejaVuSans-54\"/>\r\n       <use x=\"63.623047\" xlink:href=\"#DejaVuSans-56\"/>\r\n      </g>\r\n     </g>\r\n    </g>\r\n    <g id=\"xtick_63\">\r\n     <g id=\"line2d_63\">\r\n      <g>\r\n       <use style=\"stroke:#000000;stroke-width:0.8;\" x=\"255.2625\" xlink:href=\"#m207e360114\" y=\"224.64\"/>\r\n      </g>\r\n     </g>\r\n     <g id=\"text_63\">\r\n      <!-- 69 -->\r\n      <g transform=\"translate(258.021875 244.365)rotate(-90)scale(0.1 -0.1)\">\r\n       <use xlink:href=\"#DejaVuSans-54\"/>\r\n       <use x=\"63.623047\" xlink:href=\"#DejaVuSans-57\"/>\r\n      </g>\r\n     </g>\r\n    </g>\r\n    <g id=\"xtick_64\">\r\n     <g id=\"line2d_64\">\r\n      <g>\r\n       <use style=\"stroke:#000000;stroke-width:0.8;\" x=\"258.6105\" xlink:href=\"#m207e360114\" y=\"224.64\"/>\r\n      </g>\r\n     </g>\r\n     <g id=\"text_64\">\r\n      <!-- 72 -->\r\n      <g transform=\"translate(261.369875 244.365)rotate(-90)scale(0.1 -0.1)\">\r\n       <use xlink:href=\"#DejaVuSans-55\"/>\r\n       <use x=\"63.623047\" xlink:href=\"#DejaVuSans-50\"/>\r\n      </g>\r\n     </g>\r\n    </g>\r\n    <g id=\"xtick_65\">\r\n     <g id=\"line2d_65\">\r\n      <g>\r\n       <use style=\"stroke:#000000;stroke-width:0.8;\" x=\"261.9585\" xlink:href=\"#m207e360114\" y=\"224.64\"/>\r\n      </g>\r\n     </g>\r\n     <g id=\"text_65\">\r\n      <!-- 73 -->\r\n      <g transform=\"translate(264.717875 244.365)rotate(-90)scale(0.1 -0.1)\">\r\n       <use xlink:href=\"#DejaVuSans-55\"/>\r\n       <use x=\"63.623047\" xlink:href=\"#DejaVuSans-51\"/>\r\n      </g>\r\n     </g>\r\n    </g>\r\n    <g id=\"xtick_66\">\r\n     <g id=\"line2d_66\">\r\n      <g>\r\n       <use style=\"stroke:#000000;stroke-width:0.8;\" x=\"265.3065\" xlink:href=\"#m207e360114\" y=\"224.64\"/>\r\n      </g>\r\n     </g>\r\n     <g id=\"text_66\">\r\n      <!-- 75 -->\r\n      <g transform=\"translate(268.065875 244.365)rotate(-90)scale(0.1 -0.1)\">\r\n       <use xlink:href=\"#DejaVuSans-55\"/>\r\n       <use x=\"63.623047\" xlink:href=\"#DejaVuSans-53\"/>\r\n      </g>\r\n     </g>\r\n    </g>\r\n    <g id=\"xtick_67\">\r\n     <g id=\"line2d_67\">\r\n      <g>\r\n       <use style=\"stroke:#000000;stroke-width:0.8;\" x=\"268.6545\" xlink:href=\"#m207e360114\" y=\"224.64\"/>\r\n      </g>\r\n     </g>\r\n     <g id=\"text_67\">\r\n      <!-- 76 -->\r\n      <g transform=\"translate(271.413875 244.365)rotate(-90)scale(0.1 -0.1)\">\r\n       <use xlink:href=\"#DejaVuSans-55\"/>\r\n       <use x=\"63.623047\" xlink:href=\"#DejaVuSans-54\"/>\r\n      </g>\r\n     </g>\r\n    </g>\r\n    <g id=\"xtick_68\">\r\n     <g id=\"line2d_68\">\r\n      <g>\r\n       <use style=\"stroke:#000000;stroke-width:0.8;\" x=\"272.0025\" xlink:href=\"#m207e360114\" y=\"224.64\"/>\r\n      </g>\r\n     </g>\r\n     <g id=\"text_68\">\r\n      <!-- 77 -->\r\n      <g transform=\"translate(274.761875 244.365)rotate(-90)scale(0.1 -0.1)\">\r\n       <use xlink:href=\"#DejaVuSans-55\"/>\r\n       <use x=\"63.623047\" xlink:href=\"#DejaVuSans-55\"/>\r\n      </g>\r\n     </g>\r\n    </g>\r\n    <g id=\"xtick_69\">\r\n     <g id=\"line2d_69\">\r\n      <g>\r\n       <use style=\"stroke:#000000;stroke-width:0.8;\" x=\"275.3505\" xlink:href=\"#m207e360114\" y=\"224.64\"/>\r\n      </g>\r\n     </g>\r\n     <g id=\"text_69\">\r\n      <!-- 79 -->\r\n      <g transform=\"translate(278.109875 244.365)rotate(-90)scale(0.1 -0.1)\">\r\n       <use xlink:href=\"#DejaVuSans-55\"/>\r\n       <use x=\"63.623047\" xlink:href=\"#DejaVuSans-57\"/>\r\n      </g>\r\n     </g>\r\n    </g>\r\n    <g id=\"xtick_70\">\r\n     <g id=\"line2d_70\">\r\n      <g>\r\n       <use style=\"stroke:#000000;stroke-width:0.8;\" x=\"278.6985\" xlink:href=\"#m207e360114\" y=\"224.64\"/>\r\n      </g>\r\n     </g>\r\n     <g id=\"text_70\">\r\n      <!-- 80 -->\r\n      <g transform=\"translate(281.457875 244.365)rotate(-90)scale(0.1 -0.1)\">\r\n       <use xlink:href=\"#DejaVuSans-56\"/>\r\n       <use x=\"63.623047\" xlink:href=\"#DejaVuSans-48\"/>\r\n      </g>\r\n     </g>\r\n    </g>\r\n    <g id=\"xtick_71\">\r\n     <g id=\"line2d_71\">\r\n      <g>\r\n       <use style=\"stroke:#000000;stroke-width:0.8;\" x=\"282.0465\" xlink:href=\"#m207e360114\" y=\"224.64\"/>\r\n      </g>\r\n     </g>\r\n     <g id=\"text_71\">\r\n      <!-- 84 -->\r\n      <g transform=\"translate(284.805875 244.365)rotate(-90)scale(0.1 -0.1)\">\r\n       <use xlink:href=\"#DejaVuSans-56\"/>\r\n       <use x=\"63.623047\" xlink:href=\"#DejaVuSans-52\"/>\r\n      </g>\r\n     </g>\r\n    </g>\r\n    <g id=\"xtick_72\">\r\n     <g id=\"line2d_72\">\r\n      <g>\r\n       <use style=\"stroke:#000000;stroke-width:0.8;\" x=\"285.3945\" xlink:href=\"#m207e360114\" y=\"224.64\"/>\r\n      </g>\r\n     </g>\r\n     <g id=\"text_72\">\r\n      <!-- 85 -->\r\n      <g transform=\"translate(288.153875 244.365)rotate(-90)scale(0.1 -0.1)\">\r\n       <use xlink:href=\"#DejaVuSans-56\"/>\r\n       <use x=\"63.623047\" xlink:href=\"#DejaVuSans-53\"/>\r\n      </g>\r\n     </g>\r\n    </g>\r\n    <g id=\"xtick_73\">\r\n     <g id=\"line2d_73\">\r\n      <g>\r\n       <use style=\"stroke:#000000;stroke-width:0.8;\" x=\"288.7425\" xlink:href=\"#m207e360114\" y=\"224.64\"/>\r\n      </g>\r\n     </g>\r\n     <g id=\"text_73\">\r\n      <!-- 86 -->\r\n      <g transform=\"translate(291.501875 244.365)rotate(-90)scale(0.1 -0.1)\">\r\n       <use xlink:href=\"#DejaVuSans-56\"/>\r\n       <use x=\"63.623047\" xlink:href=\"#DejaVuSans-54\"/>\r\n      </g>\r\n     </g>\r\n    </g>\r\n    <g id=\"xtick_74\">\r\n     <g id=\"line2d_74\">\r\n      <g>\r\n       <use style=\"stroke:#000000;stroke-width:0.8;\" x=\"292.0905\" xlink:href=\"#m207e360114\" y=\"224.64\"/>\r\n      </g>\r\n     </g>\r\n     <g id=\"text_74\">\r\n      <!-- 89 -->\r\n      <g transform=\"translate(294.849875 244.365)rotate(-90)scale(0.1 -0.1)\">\r\n       <use xlink:href=\"#DejaVuSans-56\"/>\r\n       <use x=\"63.623047\" xlink:href=\"#DejaVuSans-57\"/>\r\n      </g>\r\n     </g>\r\n    </g>\r\n    <g id=\"xtick_75\">\r\n     <g id=\"line2d_75\">\r\n      <g>\r\n       <use style=\"stroke:#000000;stroke-width:0.8;\" x=\"295.4385\" xlink:href=\"#m207e360114\" y=\"224.64\"/>\r\n      </g>\r\n     </g>\r\n     <g id=\"text_75\">\r\n      <!-- 91 -->\r\n      <g transform=\"translate(298.197875 244.365)rotate(-90)scale(0.1 -0.1)\">\r\n       <use xlink:href=\"#DejaVuSans-57\"/>\r\n       <use x=\"63.623047\" xlink:href=\"#DejaVuSans-49\"/>\r\n      </g>\r\n     </g>\r\n    </g>\r\n    <g id=\"xtick_76\">\r\n     <g id=\"line2d_76\">\r\n      <g>\r\n       <use style=\"stroke:#000000;stroke-width:0.8;\" x=\"298.7865\" xlink:href=\"#m207e360114\" y=\"224.64\"/>\r\n      </g>\r\n     </g>\r\n     <g id=\"text_76\">\r\n      <!-- 93 -->\r\n      <g transform=\"translate(301.545875 244.365)rotate(-90)scale(0.1 -0.1)\">\r\n       <use xlink:href=\"#DejaVuSans-57\"/>\r\n       <use x=\"63.623047\" xlink:href=\"#DejaVuSans-51\"/>\r\n      </g>\r\n     </g>\r\n    </g>\r\n    <g id=\"xtick_77\">\r\n     <g id=\"line2d_77\">\r\n      <g>\r\n       <use style=\"stroke:#000000;stroke-width:0.8;\" x=\"302.1345\" xlink:href=\"#m207e360114\" y=\"224.64\"/>\r\n      </g>\r\n     </g>\r\n     <g id=\"text_77\">\r\n      <!-- 94 -->\r\n      <g transform=\"translate(304.893875 244.365)rotate(-90)scale(0.1 -0.1)\">\r\n       <use xlink:href=\"#DejaVuSans-57\"/>\r\n       <use x=\"63.623047\" xlink:href=\"#DejaVuSans-52\"/>\r\n      </g>\r\n     </g>\r\n    </g>\r\n    <g id=\"xtick_78\">\r\n     <g id=\"line2d_78\">\r\n      <g>\r\n       <use style=\"stroke:#000000;stroke-width:0.8;\" x=\"305.4825\" xlink:href=\"#m207e360114\" y=\"224.64\"/>\r\n      </g>\r\n     </g>\r\n     <g id=\"text_78\">\r\n      <!-- 96 -->\r\n      <g transform=\"translate(308.241875 244.365)rotate(-90)scale(0.1 -0.1)\">\r\n       <use xlink:href=\"#DejaVuSans-57\"/>\r\n       <use x=\"63.623047\" xlink:href=\"#DejaVuSans-54\"/>\r\n      </g>\r\n     </g>\r\n    </g>\r\n    <g id=\"xtick_79\">\r\n     <g id=\"line2d_79\">\r\n      <g>\r\n       <use style=\"stroke:#000000;stroke-width:0.8;\" x=\"308.8305\" xlink:href=\"#m207e360114\" y=\"224.64\"/>\r\n      </g>\r\n     </g>\r\n     <g id=\"text_79\">\r\n      <!-- 98 -->\r\n      <g transform=\"translate(311.589875 244.365)rotate(-90)scale(0.1 -0.1)\">\r\n       <use xlink:href=\"#DejaVuSans-57\"/>\r\n       <use x=\"63.623047\" xlink:href=\"#DejaVuSans-56\"/>\r\n      </g>\r\n     </g>\r\n    </g>\r\n    <g id=\"xtick_80\">\r\n     <g id=\"line2d_80\">\r\n      <g>\r\n       <use style=\"stroke:#000000;stroke-width:0.8;\" x=\"312.1785\" xlink:href=\"#m207e360114\" y=\"224.64\"/>\r\n      </g>\r\n     </g>\r\n     <g id=\"text_80\">\r\n      <!-- 101 -->\r\n      <g transform=\"translate(314.937875 250.7275)rotate(-90)scale(0.1 -0.1)\">\r\n       <use xlink:href=\"#DejaVuSans-49\"/>\r\n       <use x=\"63.623047\" xlink:href=\"#DejaVuSans-48\"/>\r\n       <use x=\"127.246094\" xlink:href=\"#DejaVuSans-49\"/>\r\n      </g>\r\n     </g>\r\n    </g>\r\n    <g id=\"xtick_81\">\r\n     <g id=\"line2d_81\">\r\n      <g>\r\n       <use style=\"stroke:#000000;stroke-width:0.8;\" x=\"315.5265\" xlink:href=\"#m207e360114\" y=\"224.64\"/>\r\n      </g>\r\n     </g>\r\n     <g id=\"text_81\">\r\n      <!-- 102 -->\r\n      <g transform=\"translate(318.285875 250.7275)rotate(-90)scale(0.1 -0.1)\">\r\n       <use xlink:href=\"#DejaVuSans-49\"/>\r\n       <use x=\"63.623047\" xlink:href=\"#DejaVuSans-48\"/>\r\n       <use x=\"127.246094\" xlink:href=\"#DejaVuSans-50\"/>\r\n      </g>\r\n     </g>\r\n    </g>\r\n    <g id=\"xtick_82\">\r\n     <g id=\"line2d_82\">\r\n      <g>\r\n       <use style=\"stroke:#000000;stroke-width:0.8;\" x=\"318.8745\" xlink:href=\"#m207e360114\" y=\"224.64\"/>\r\n      </g>\r\n     </g>\r\n     <g id=\"text_82\">\r\n      <!-- 106 -->\r\n      <g transform=\"translate(321.633875 250.7275)rotate(-90)scale(0.1 -0.1)\">\r\n       <use xlink:href=\"#DejaVuSans-49\"/>\r\n       <use x=\"63.623047\" xlink:href=\"#DejaVuSans-48\"/>\r\n       <use x=\"127.246094\" xlink:href=\"#DejaVuSans-54\"/>\r\n      </g>\r\n     </g>\r\n    </g>\r\n    <g id=\"xtick_83\">\r\n     <g id=\"line2d_83\">\r\n      <g>\r\n       <use style=\"stroke:#000000;stroke-width:0.8;\" x=\"322.2225\" xlink:href=\"#m207e360114\" y=\"224.64\"/>\r\n      </g>\r\n     </g>\r\n     <g id=\"text_83\">\r\n      <!-- 107 -->\r\n      <g transform=\"translate(324.981875 250.7275)rotate(-90)scale(0.1 -0.1)\">\r\n       <use xlink:href=\"#DejaVuSans-49\"/>\r\n       <use x=\"63.623047\" xlink:href=\"#DejaVuSans-48\"/>\r\n       <use x=\"127.246094\" xlink:href=\"#DejaVuSans-55\"/>\r\n      </g>\r\n     </g>\r\n    </g>\r\n    <g id=\"xtick_84\">\r\n     <g id=\"line2d_84\">\r\n      <g>\r\n       <use style=\"stroke:#000000;stroke-width:0.8;\" x=\"325.5705\" xlink:href=\"#m207e360114\" y=\"224.64\"/>\r\n      </g>\r\n     </g>\r\n     <g id=\"text_84\">\r\n      <!-- 111 -->\r\n      <g transform=\"translate(328.329875 250.7275)rotate(-90)scale(0.1 -0.1)\">\r\n       <use xlink:href=\"#DejaVuSans-49\"/>\r\n       <use x=\"63.623047\" xlink:href=\"#DejaVuSans-49\"/>\r\n       <use x=\"127.246094\" xlink:href=\"#DejaVuSans-49\"/>\r\n      </g>\r\n     </g>\r\n    </g>\r\n    <g id=\"xtick_85\">\r\n     <g id=\"line2d_85\">\r\n      <g>\r\n       <use style=\"stroke:#000000;stroke-width:0.8;\" x=\"328.9185\" xlink:href=\"#m207e360114\" y=\"224.64\"/>\r\n      </g>\r\n     </g>\r\n     <g id=\"text_85\">\r\n      <!-- 113 -->\r\n      <g transform=\"translate(331.677875 250.7275)rotate(-90)scale(0.1 -0.1)\">\r\n       <use xlink:href=\"#DejaVuSans-49\"/>\r\n       <use x=\"63.623047\" xlink:href=\"#DejaVuSans-49\"/>\r\n       <use x=\"127.246094\" xlink:href=\"#DejaVuSans-51\"/>\r\n      </g>\r\n     </g>\r\n    </g>\r\n    <g id=\"xtick_86\">\r\n     <g id=\"line2d_86\">\r\n      <g>\r\n       <use style=\"stroke:#000000;stroke-width:0.8;\" x=\"332.2665\" xlink:href=\"#m207e360114\" y=\"224.64\"/>\r\n      </g>\r\n     </g>\r\n     <g id=\"text_86\">\r\n      <!-- 115 -->\r\n      <g transform=\"translate(335.025875 250.7275)rotate(-90)scale(0.1 -0.1)\">\r\n       <use xlink:href=\"#DejaVuSans-49\"/>\r\n       <use x=\"63.623047\" xlink:href=\"#DejaVuSans-49\"/>\r\n       <use x=\"127.246094\" xlink:href=\"#DejaVuSans-53\"/>\r\n      </g>\r\n     </g>\r\n    </g>\r\n    <g id=\"xtick_87\">\r\n     <g id=\"line2d_87\">\r\n      <g>\r\n       <use style=\"stroke:#000000;stroke-width:0.8;\" x=\"335.6145\" xlink:href=\"#m207e360114\" y=\"224.64\"/>\r\n      </g>\r\n     </g>\r\n     <g id=\"text_87\">\r\n      <!-- 120 -->\r\n      <g transform=\"translate(338.373875 250.7275)rotate(-90)scale(0.1 -0.1)\">\r\n       <use xlink:href=\"#DejaVuSans-49\"/>\r\n       <use x=\"63.623047\" xlink:href=\"#DejaVuSans-50\"/>\r\n       <use x=\"127.246094\" xlink:href=\"#DejaVuSans-48\"/>\r\n      </g>\r\n     </g>\r\n    </g>\r\n    <g id=\"xtick_88\">\r\n     <g id=\"line2d_88\">\r\n      <g>\r\n       <use style=\"stroke:#000000;stroke-width:0.8;\" x=\"338.9625\" xlink:href=\"#m207e360114\" y=\"224.64\"/>\r\n      </g>\r\n     </g>\r\n     <g id=\"text_88\">\r\n      <!-- 121 -->\r\n      <g transform=\"translate(341.721875 250.7275)rotate(-90)scale(0.1 -0.1)\">\r\n       <use xlink:href=\"#DejaVuSans-49\"/>\r\n       <use x=\"63.623047\" xlink:href=\"#DejaVuSans-50\"/>\r\n       <use x=\"127.246094\" xlink:href=\"#DejaVuSans-49\"/>\r\n      </g>\r\n     </g>\r\n    </g>\r\n    <g id=\"xtick_89\">\r\n     <g id=\"line2d_89\">\r\n      <g>\r\n       <use style=\"stroke:#000000;stroke-width:0.8;\" x=\"342.3105\" xlink:href=\"#m207e360114\" y=\"224.64\"/>\r\n      </g>\r\n     </g>\r\n     <g id=\"text_89\">\r\n      <!-- 128 -->\r\n      <g transform=\"translate(345.069875 250.7275)rotate(-90)scale(0.1 -0.1)\">\r\n       <use xlink:href=\"#DejaVuSans-49\"/>\r\n       <use x=\"63.623047\" xlink:href=\"#DejaVuSans-50\"/>\r\n       <use x=\"127.246094\" xlink:href=\"#DejaVuSans-56\"/>\r\n      </g>\r\n     </g>\r\n    </g>\r\n    <g id=\"xtick_90\">\r\n     <g id=\"line2d_90\">\r\n      <g>\r\n       <use style=\"stroke:#000000;stroke-width:0.8;\" x=\"345.6585\" xlink:href=\"#m207e360114\" y=\"224.64\"/>\r\n      </g>\r\n     </g>\r\n     <g id=\"text_90\">\r\n      <!-- 130 -->\r\n      <g transform=\"translate(348.417875 250.7275)rotate(-90)scale(0.1 -0.1)\">\r\n       <use xlink:href=\"#DejaVuSans-49\"/>\r\n       <use x=\"63.623047\" xlink:href=\"#DejaVuSans-51\"/>\r\n       <use x=\"127.246094\" xlink:href=\"#DejaVuSans-48\"/>\r\n      </g>\r\n     </g>\r\n    </g>\r\n    <g id=\"xtick_91\">\r\n     <g id=\"line2d_91\">\r\n      <g>\r\n       <use style=\"stroke:#000000;stroke-width:0.8;\" x=\"349.0065\" xlink:href=\"#m207e360114\" y=\"224.64\"/>\r\n      </g>\r\n     </g>\r\n     <g id=\"text_91\">\r\n      <!-- 137 -->\r\n      <g transform=\"translate(351.765875 250.7275)rotate(-90)scale(0.1 -0.1)\">\r\n       <use xlink:href=\"#DejaVuSans-49\"/>\r\n       <use x=\"63.623047\" xlink:href=\"#DejaVuSans-51\"/>\r\n       <use x=\"127.246094\" xlink:href=\"#DejaVuSans-55\"/>\r\n      </g>\r\n     </g>\r\n    </g>\r\n    <g id=\"xtick_92\">\r\n     <g id=\"line2d_92\">\r\n      <g>\r\n       <use style=\"stroke:#000000;stroke-width:0.8;\" x=\"352.3545\" xlink:href=\"#m207e360114\" y=\"224.64\"/>\r\n      </g>\r\n     </g>\r\n     <g id=\"text_92\">\r\n      <!-- 148 -->\r\n      <g transform=\"translate(355.113875 250.7275)rotate(-90)scale(0.1 -0.1)\">\r\n       <use xlink:href=\"#DejaVuSans-49\"/>\r\n       <use x=\"63.623047\" xlink:href=\"#DejaVuSans-52\"/>\r\n       <use x=\"127.246094\" xlink:href=\"#DejaVuSans-56\"/>\r\n      </g>\r\n     </g>\r\n    </g>\r\n    <g id=\"xtick_93\">\r\n     <g id=\"line2d_93\">\r\n      <g>\r\n       <use style=\"stroke:#000000;stroke-width:0.8;\" x=\"355.7025\" xlink:href=\"#m207e360114\" y=\"224.64\"/>\r\n      </g>\r\n     </g>\r\n     <g id=\"text_93\">\r\n      <!-- 154 -->\r\n      <g transform=\"translate(358.461875 250.7275)rotate(-90)scale(0.1 -0.1)\">\r\n       <use xlink:href=\"#DejaVuSans-49\"/>\r\n       <use x=\"63.623047\" xlink:href=\"#DejaVuSans-53\"/>\r\n       <use x=\"127.246094\" xlink:href=\"#DejaVuSans-52\"/>\r\n      </g>\r\n     </g>\r\n    </g>\r\n    <g id=\"xtick_94\">\r\n     <g id=\"line2d_94\">\r\n      <g>\r\n       <use style=\"stroke:#000000;stroke-width:0.8;\" x=\"359.0505\" xlink:href=\"#m207e360114\" y=\"224.64\"/>\r\n      </g>\r\n     </g>\r\n     <g id=\"text_94\">\r\n      <!-- 162 -->\r\n      <g transform=\"translate(361.809875 250.7275)rotate(-90)scale(0.1 -0.1)\">\r\n       <use xlink:href=\"#DejaVuSans-49\"/>\r\n       <use x=\"63.623047\" xlink:href=\"#DejaVuSans-54\"/>\r\n       <use x=\"127.246094\" xlink:href=\"#DejaVuSans-50\"/>\r\n      </g>\r\n     </g>\r\n    </g>\r\n    <g id=\"xtick_95\">\r\n     <g id=\"line2d_95\">\r\n      <g>\r\n       <use style=\"stroke:#000000;stroke-width:0.8;\" x=\"362.3985\" xlink:href=\"#m207e360114\" y=\"224.64\"/>\r\n      </g>\r\n     </g>\r\n     <g id=\"text_95\">\r\n      <!-- 228 -->\r\n      <g transform=\"translate(365.157875 250.7275)rotate(-90)scale(0.1 -0.1)\">\r\n       <use xlink:href=\"#DejaVuSans-50\"/>\r\n       <use x=\"63.623047\" xlink:href=\"#DejaVuSans-50\"/>\r\n       <use x=\"127.246094\" xlink:href=\"#DejaVuSans-56\"/>\r\n      </g>\r\n     </g>\r\n    </g>\r\n    <g id=\"xtick_96\">\r\n     <g id=\"line2d_96\">\r\n      <g>\r\n       <use style=\"stroke:#000000;stroke-width:0.8;\" x=\"365.7465\" xlink:href=\"#m207e360114\" y=\"224.64\"/>\r\n      </g>\r\n     </g>\r\n     <g id=\"text_96\">\r\n      <!-- 233 -->\r\n      <g transform=\"translate(368.505875 250.7275)rotate(-90)scale(0.1 -0.1)\">\r\n       <use xlink:href=\"#DejaVuSans-50\"/>\r\n       <use x=\"63.623047\" xlink:href=\"#DejaVuSans-51\"/>\r\n       <use x=\"127.246094\" xlink:href=\"#DejaVuSans-51\"/>\r\n      </g>\r\n     </g>\r\n    </g>\r\n    <g id=\"xtick_97\">\r\n     <g id=\"line2d_97\">\r\n      <g>\r\n       <use style=\"stroke:#000000;stroke-width:0.8;\" x=\"369.0945\" xlink:href=\"#m207e360114\" y=\"224.64\"/>\r\n      </g>\r\n     </g>\r\n     <g id=\"text_97\">\r\n      <!-- 280 -->\r\n      <g transform=\"translate(371.853875 250.7275)rotate(-90)scale(0.1 -0.1)\">\r\n       <use xlink:href=\"#DejaVuSans-50\"/>\r\n       <use x=\"63.623047\" xlink:href=\"#DejaVuSans-56\"/>\r\n       <use x=\"127.246094\" xlink:href=\"#DejaVuSans-48\"/>\r\n      </g>\r\n     </g>\r\n    </g>\r\n    <g id=\"xtick_98\">\r\n     <g id=\"line2d_98\">\r\n      <g>\r\n       <use style=\"stroke:#000000;stroke-width:0.8;\" x=\"372.4425\" xlink:href=\"#m207e360114\" y=\"224.64\"/>\r\n      </g>\r\n     </g>\r\n     <g id=\"text_98\">\r\n      <!-- 294 -->\r\n      <g transform=\"translate(375.201875 250.7275)rotate(-90)scale(0.1 -0.1)\">\r\n       <use xlink:href=\"#DejaVuSans-50\"/>\r\n       <use x=\"63.623047\" xlink:href=\"#DejaVuSans-57\"/>\r\n       <use x=\"127.246094\" xlink:href=\"#DejaVuSans-52\"/>\r\n      </g>\r\n     </g>\r\n    </g>\r\n    <g id=\"xtick_99\">\r\n     <g id=\"line2d_99\">\r\n      <g>\r\n       <use style=\"stroke:#000000;stroke-width:0.8;\" x=\"375.7905\" xlink:href=\"#m207e360114\" y=\"224.64\"/>\r\n      </g>\r\n     </g>\r\n     <g id=\"text_99\">\r\n      <!-- 379 -->\r\n      <g transform=\"translate(378.549875 250.7275)rotate(-90)scale(0.1 -0.1)\">\r\n       <use xlink:href=\"#DejaVuSans-51\"/>\r\n       <use x=\"63.623047\" xlink:href=\"#DejaVuSans-55\"/>\r\n       <use x=\"127.246094\" xlink:href=\"#DejaVuSans-57\"/>\r\n      </g>\r\n     </g>\r\n    </g>\r\n    <g id=\"xtick_100\">\r\n     <g id=\"line2d_100\">\r\n      <g>\r\n       <use style=\"stroke:#000000;stroke-width:0.8;\" x=\"379.1385\" xlink:href=\"#m207e360114\" y=\"224.64\"/>\r\n      </g>\r\n     </g>\r\n     <g id=\"text_100\">\r\n      <!-- 811 -->\r\n      <g transform=\"translate(381.897875 250.7275)rotate(-90)scale(0.1 -0.1)\">\r\n       <use xlink:href=\"#DejaVuSans-56\"/>\r\n       <use x=\"63.623047\" xlink:href=\"#DejaVuSans-49\"/>\r\n       <use x=\"127.246094\" xlink:href=\"#DejaVuSans-49\"/>\r\n      </g>\r\n     </g>\r\n    </g>\r\n    <g id=\"text_101\">\r\n     <!-- length -->\r\n     <g transform=\"translate(197.475 262.325937)scale(0.1 -0.1)\">\r\n      <defs>\r\n       <path d=\"M 9.421875 75.984375 \r\nL 18.40625 75.984375 \r\nL 18.40625 0 \r\nL 9.421875 0 \r\nz\r\n\" id=\"DejaVuSans-108\"/>\r\n       <path d=\"M 56.203125 29.59375 \r\nL 56.203125 25.203125 \r\nL 14.890625 25.203125 \r\nQ 15.484375 15.921875 20.484375 11.0625 \r\nQ 25.484375 6.203125 34.421875 6.203125 \r\nQ 39.59375 6.203125 44.453125 7.46875 \r\nQ 49.3125 8.734375 54.109375 11.28125 \r\nL 54.109375 2.78125 \r\nQ 49.265625 0.734375 44.1875 -0.34375 \r\nQ 39.109375 -1.421875 33.890625 -1.421875 \r\nQ 20.796875 -1.421875 13.15625 6.1875 \r\nQ 5.515625 13.8125 5.515625 26.8125 \r\nQ 5.515625 40.234375 12.765625 48.109375 \r\nQ 20.015625 56 32.328125 56 \r\nQ 43.359375 56 49.78125 48.890625 \r\nQ 56.203125 41.796875 56.203125 29.59375 \r\nz\r\nM 47.21875 32.234375 \r\nQ 47.125 39.59375 43.09375 43.984375 \r\nQ 39.0625 48.390625 32.421875 48.390625 \r\nQ 24.90625 48.390625 20.390625 44.140625 \r\nQ 15.875 39.890625 15.1875 32.171875 \r\nz\r\n\" id=\"DejaVuSans-101\"/>\r\n       <path d=\"M 54.890625 33.015625 \r\nL 54.890625 0 \r\nL 45.90625 0 \r\nL 45.90625 32.71875 \r\nQ 45.90625 40.484375 42.875 44.328125 \r\nQ 39.84375 48.1875 33.796875 48.1875 \r\nQ 26.515625 48.1875 22.3125 43.546875 \r\nQ 18.109375 38.921875 18.109375 30.90625 \r\nL 18.109375 0 \r\nL 9.078125 0 \r\nL 9.078125 54.6875 \r\nL 18.109375 54.6875 \r\nL 18.109375 46.1875 \r\nQ 21.34375 51.125 25.703125 53.5625 \r\nQ 30.078125 56 35.796875 56 \r\nQ 45.21875 56 50.046875 50.171875 \r\nQ 54.890625 44.34375 54.890625 33.015625 \r\nz\r\n\" id=\"DejaVuSans-110\"/>\r\n       <path d=\"M 45.40625 27.984375 \r\nQ 45.40625 37.75 41.375 43.109375 \r\nQ 37.359375 48.484375 30.078125 48.484375 \r\nQ 22.859375 48.484375 18.828125 43.109375 \r\nQ 14.796875 37.75 14.796875 27.984375 \r\nQ 14.796875 18.265625 18.828125 12.890625 \r\nQ 22.859375 7.515625 30.078125 7.515625 \r\nQ 37.359375 7.515625 41.375 12.890625 \r\nQ 45.40625 18.265625 45.40625 27.984375 \r\nz\r\nM 54.390625 6.78125 \r\nQ 54.390625 -7.171875 48.1875 -13.984375 \r\nQ 42 -20.796875 29.203125 -20.796875 \r\nQ 24.46875 -20.796875 20.265625 -20.09375 \r\nQ 16.0625 -19.390625 12.109375 -17.921875 \r\nL 12.109375 -9.1875 \r\nQ 16.0625 -11.328125 19.921875 -12.34375 \r\nQ 23.78125 -13.375 27.78125 -13.375 \r\nQ 36.625 -13.375 41.015625 -8.765625 \r\nQ 45.40625 -4.15625 45.40625 5.171875 \r\nL 45.40625 9.625 \r\nQ 42.625 4.78125 38.28125 2.390625 \r\nQ 33.9375 0 27.875 0 \r\nQ 17.828125 0 11.671875 7.65625 \r\nQ 5.515625 15.328125 5.515625 27.984375 \r\nQ 5.515625 40.671875 11.671875 48.328125 \r\nQ 17.828125 56 27.875 56 \r\nQ 33.9375 56 38.28125 53.609375 \r\nQ 42.625 51.21875 45.40625 46.390625 \r\nL 45.40625 54.6875 \r\nL 54.390625 54.6875 \r\nz\r\n\" id=\"DejaVuSans-103\"/>\r\n       <path d=\"M 18.3125 70.21875 \r\nL 18.3125 54.6875 \r\nL 36.8125 54.6875 \r\nL 36.8125 47.703125 \r\nL 18.3125 47.703125 \r\nL 18.3125 18.015625 \r\nQ 18.3125 11.328125 20.140625 9.421875 \r\nQ 21.96875 7.515625 27.59375 7.515625 \r\nL 36.8125 7.515625 \r\nL 36.8125 0 \r\nL 27.59375 0 \r\nQ 17.1875 0 13.234375 3.875 \r\nQ 9.28125 7.765625 9.28125 18.015625 \r\nL 9.28125 47.703125 \r\nL 2.6875 47.703125 \r\nL 2.6875 54.6875 \r\nL 9.28125 54.6875 \r\nL 9.28125 70.21875 \r\nz\r\n\" id=\"DejaVuSans-116\"/>\r\n       <path d=\"M 54.890625 33.015625 \r\nL 54.890625 0 \r\nL 45.90625 0 \r\nL 45.90625 32.71875 \r\nQ 45.90625 40.484375 42.875 44.328125 \r\nQ 39.84375 48.1875 33.796875 48.1875 \r\nQ 26.515625 48.1875 22.3125 43.546875 \r\nQ 18.109375 38.921875 18.109375 30.90625 \r\nL 18.109375 0 \r\nL 9.078125 0 \r\nL 9.078125 75.984375 \r\nL 18.109375 75.984375 \r\nL 18.109375 46.1875 \r\nQ 21.34375 51.125 25.703125 53.5625 \r\nQ 30.078125 56 35.796875 56 \r\nQ 45.21875 56 50.046875 50.171875 \r\nQ 54.890625 44.34375 54.890625 33.015625 \r\nz\r\n\" id=\"DejaVuSans-104\"/>\r\n      </defs>\r\n      <use xlink:href=\"#DejaVuSans-108\"/>\r\n      <use x=\"27.783203\" xlink:href=\"#DejaVuSans-101\"/>\r\n      <use x=\"89.306641\" xlink:href=\"#DejaVuSans-110\"/>\r\n      <use x=\"152.685547\" xlink:href=\"#DejaVuSans-103\"/>\r\n      <use x=\"216.162109\" xlink:href=\"#DejaVuSans-116\"/>\r\n      <use x=\"255.371094\" xlink:href=\"#DejaVuSans-104\"/>\r\n     </g>\r\n    </g>\r\n   </g>\r\n   <g id=\"matplotlib.axis_2\">\r\n    <g id=\"ytick_1\">\r\n     <g id=\"line2d_101\">\r\n      <defs>\r\n       <path d=\"M 0 0 \r\nL -3.5 0 \r\n\" id=\"m90b2d5502d\" style=\"stroke:#000000;stroke-width:0.8;\"/>\r\n      </defs>\r\n      <g>\r\n       <use style=\"stroke:#000000;stroke-width:0.8;\" x=\"46.0125\" xlink:href=\"#m90b2d5502d\" y=\"224.64\"/>\r\n      </g>\r\n     </g>\r\n     <g id=\"text_102\">\r\n      <!-- 0 -->\r\n      <g transform=\"translate(32.65 228.439219)scale(0.1 -0.1)\">\r\n       <use xlink:href=\"#DejaVuSans-48\"/>\r\n      </g>\r\n     </g>\r\n    </g>\r\n    <g id=\"ytick_2\">\r\n     <g id=\"line2d_102\">\r\n      <g>\r\n       <use style=\"stroke:#000000;stroke-width:0.8;\" x=\"46.0125\" xlink:href=\"#m90b2d5502d\" y=\"176.9046\"/>\r\n      </g>\r\n     </g>\r\n     <g id=\"text_103\">\r\n      <!-- 10000 -->\r\n      <g transform=\"translate(7.2 180.703818)scale(0.1 -0.1)\">\r\n       <use xlink:href=\"#DejaVuSans-49\"/>\r\n       <use x=\"63.623047\" xlink:href=\"#DejaVuSans-48\"/>\r\n       <use x=\"127.246094\" xlink:href=\"#DejaVuSans-48\"/>\r\n       <use x=\"190.869141\" xlink:href=\"#DejaVuSans-48\"/>\r\n       <use x=\"254.492188\" xlink:href=\"#DejaVuSans-48\"/>\r\n      </g>\r\n     </g>\r\n    </g>\r\n    <g id=\"ytick_3\">\r\n     <g id=\"line2d_103\">\r\n      <g>\r\n       <use style=\"stroke:#000000;stroke-width:0.8;\" x=\"46.0125\" xlink:href=\"#m90b2d5502d\" y=\"129.169199\"/>\r\n      </g>\r\n     </g>\r\n     <g id=\"text_104\">\r\n      <!-- 20000 -->\r\n      <g transform=\"translate(7.2 132.968418)scale(0.1 -0.1)\">\r\n       <use xlink:href=\"#DejaVuSans-50\"/>\r\n       <use x=\"63.623047\" xlink:href=\"#DejaVuSans-48\"/>\r\n       <use x=\"127.246094\" xlink:href=\"#DejaVuSans-48\"/>\r\n       <use x=\"190.869141\" xlink:href=\"#DejaVuSans-48\"/>\r\n       <use x=\"254.492188\" xlink:href=\"#DejaVuSans-48\"/>\r\n      </g>\r\n     </g>\r\n    </g>\r\n    <g id=\"ytick_4\">\r\n     <g id=\"line2d_104\">\r\n      <g>\r\n       <use style=\"stroke:#000000;stroke-width:0.8;\" x=\"46.0125\" xlink:href=\"#m90b2d5502d\" y=\"81.433799\"/>\r\n      </g>\r\n     </g>\r\n     <g id=\"text_105\">\r\n      <!-- 30000 -->\r\n      <g transform=\"translate(7.2 85.233017)scale(0.1 -0.1)\">\r\n       <use xlink:href=\"#DejaVuSans-51\"/>\r\n       <use x=\"63.623047\" xlink:href=\"#DejaVuSans-48\"/>\r\n       <use x=\"127.246094\" xlink:href=\"#DejaVuSans-48\"/>\r\n       <use x=\"190.869141\" xlink:href=\"#DejaVuSans-48\"/>\r\n       <use x=\"254.492188\" xlink:href=\"#DejaVuSans-48\"/>\r\n      </g>\r\n     </g>\r\n    </g>\r\n    <g id=\"ytick_5\">\r\n     <g id=\"line2d_105\">\r\n      <g>\r\n       <use style=\"stroke:#000000;stroke-width:0.8;\" x=\"46.0125\" xlink:href=\"#m90b2d5502d\" y=\"33.698398\"/>\r\n      </g>\r\n     </g>\r\n     <g id=\"text_106\">\r\n      <!-- 40000 -->\r\n      <g transform=\"translate(7.2 37.497617)scale(0.1 -0.1)\">\r\n       <use xlink:href=\"#DejaVuSans-52\"/>\r\n       <use x=\"63.623047\" xlink:href=\"#DejaVuSans-48\"/>\r\n       <use x=\"127.246094\" xlink:href=\"#DejaVuSans-48\"/>\r\n       <use x=\"190.869141\" xlink:href=\"#DejaVuSans-48\"/>\r\n       <use x=\"254.492188\" xlink:href=\"#DejaVuSans-48\"/>\r\n      </g>\r\n     </g>\r\n    </g>\r\n   </g>\r\n   <g id=\"patch_103\">\r\n    <path d=\"M 46.0125 224.64 \r\nL 46.0125 7.2 \r\n\" style=\"fill:none;stroke:#000000;stroke-linecap:square;stroke-linejoin:miter;stroke-width:0.8;\"/>\r\n   </g>\r\n   <g id=\"patch_104\">\r\n    <path d=\"M 380.8125 224.64 \r\nL 380.8125 7.2 \r\n\" style=\"fill:none;stroke:#000000;stroke-linecap:square;stroke-linejoin:miter;stroke-width:0.8;\"/>\r\n   </g>\r\n   <g id=\"patch_105\">\r\n    <path d=\"M 46.0125 224.64 \r\nL 380.8125 224.64 \r\n\" style=\"fill:none;stroke:#000000;stroke-linecap:square;stroke-linejoin:miter;stroke-width:0.8;\"/>\r\n   </g>\r\n   <g id=\"patch_106\">\r\n    <path d=\"M 46.0125 7.2 \r\nL 380.8125 7.2 \r\n\" style=\"fill:none;stroke:#000000;stroke-linecap:square;stroke-linejoin:miter;stroke-width:0.8;\"/>\r\n   </g>\r\n   <g id=\"legend_1\">\r\n    <g id=\"patch_107\">\r\n     <path d=\"M 320.192187 29.878125 \r\nL 373.8125 29.878125 \r\nQ 375.8125 29.878125 375.8125 27.878125 \r\nL 375.8125 14.2 \r\nQ 375.8125 12.2 373.8125 12.2 \r\nL 320.192187 12.2 \r\nQ 318.192187 12.2 318.192187 14.2 \r\nL 318.192187 27.878125 \r\nQ 318.192187 29.878125 320.192187 29.878125 \r\nz\r\n\" style=\"fill:#ffffff;opacity:0.8;stroke:#cccccc;stroke-linejoin:miter;\"/>\r\n    </g>\r\n    <g id=\"patch_108\">\r\n     <path d=\"M 322.192187 23.798437 \r\nL 342.192187 23.798437 \r\nL 342.192187 16.798437 \r\nL 322.192187 16.798437 \r\nz\r\n\" style=\"fill:#1f77b4;\"/>\r\n    </g>\r\n    <g id=\"text_107\">\r\n     <!-- sent -->\r\n     <g transform=\"translate(350.192187 23.798437)scale(0.1 -0.1)\">\r\n      <defs>\r\n       <path d=\"M 44.28125 53.078125 \r\nL 44.28125 44.578125 \r\nQ 40.484375 46.53125 36.375 47.5 \r\nQ 32.28125 48.484375 27.875 48.484375 \r\nQ 21.1875 48.484375 17.84375 46.4375 \r\nQ 14.5 44.390625 14.5 40.28125 \r\nQ 14.5 37.15625 16.890625 35.375 \r\nQ 19.28125 33.59375 26.515625 31.984375 \r\nL 29.59375 31.296875 \r\nQ 39.15625 29.25 43.1875 25.515625 \r\nQ 47.21875 21.78125 47.21875 15.09375 \r\nQ 47.21875 7.46875 41.1875 3.015625 \r\nQ 35.15625 -1.421875 24.609375 -1.421875 \r\nQ 20.21875 -1.421875 15.453125 -0.5625 \r\nQ 10.6875 0.296875 5.421875 2 \r\nL 5.421875 11.28125 \r\nQ 10.40625 8.6875 15.234375 7.390625 \r\nQ 20.0625 6.109375 24.8125 6.109375 \r\nQ 31.15625 6.109375 34.5625 8.28125 \r\nQ 37.984375 10.453125 37.984375 14.40625 \r\nQ 37.984375 18.0625 35.515625 20.015625 \r\nQ 33.0625 21.96875 24.703125 23.78125 \r\nL 21.578125 24.515625 \r\nQ 13.234375 26.265625 9.515625 29.90625 \r\nQ 5.8125 33.546875 5.8125 39.890625 \r\nQ 5.8125 47.609375 11.28125 51.796875 \r\nQ 16.75 56 26.8125 56 \r\nQ 31.78125 56 36.171875 55.265625 \r\nQ 40.578125 54.546875 44.28125 53.078125 \r\nz\r\n\" id=\"DejaVuSans-115\"/>\r\n      </defs>\r\n      <use xlink:href=\"#DejaVuSans-115\"/>\r\n      <use x=\"52.099609\" xlink:href=\"#DejaVuSans-101\"/>\r\n      <use x=\"113.623047\" xlink:href=\"#DejaVuSans-110\"/>\r\n      <use x=\"177.001953\" xlink:href=\"#DejaVuSans-116\"/>\r\n     </g>\r\n    </g>\r\n   </g>\r\n  </g>\r\n </g>\r\n <defs>\r\n  <clipPath id=\"p6d903ba2f1\">\r\n   <rect height=\"217.44\" width=\"334.8\" x=\"46.0125\" y=\"7.2\"/>\r\n  </clipPath>\r\n </defs>\r\n</svg>\r\n",
      "image/png": "[encoded data removed]"
     },
     "metadata": {
      "needs_background": "light"
     }
    }
   ],
   "source": [
    "dfdatak.groupby('length').nunique().plot(kind='bar')\n",
    "plt.show()"
   ]
  },
  {
   "cell_type": "code",
   "execution_count": 240,
   "metadata": {},
   "outputs": [
    {
     "output_type": "execute_result",
     "data": {
      "text/plain": [
       "         sent\n",
       "length       \n",
       "1        6460\n",
       "2       15053\n",
       "3       25189\n",
       "4       37940\n",
       "5       43382\n",
       "6       42682\n",
       "7       35533\n",
       "8       27434\n",
       "9       20033\n",
       "10      14333\n",
       "11       9925\n",
       "12       6701\n",
       "13       4195\n",
       "14       2604\n",
       "15       1528\n",
       "16        958\n",
       "17        526\n",
       "18        343\n",
       "19        210\n",
       "20        164\n",
       "21         93\n",
       "22         73\n",
       "23         44\n",
       "24         40\n",
       "25         17\n",
       "26         20\n",
       "27         22\n",
       "28         12\n",
       "29         22\n",
       "30         15\n",
       "32          9\n",
       "33          5\n",
       "34          8\n",
       "35          6\n",
       "36          5\n",
       "38          5\n",
       "40          5\n",
       "41          6\n",
       "42          5\n",
       "43          4\n",
       "45          4\n",
       "47          4"
      ],
      "text/html": "<div>\n<style scoped>\n    .dataframe tbody tr th:only-of-type {\n        vertical-align: middle;\n    }\n\n    .dataframe tbody tr th {\n        vertical-align: top;\n    }\n\n    .dataframe thead th {\n        text-align: right;\n    }\n</style>\n<table border=\"1\" class=\"dataframe\">\n  <thead>\n    <tr style=\"text-align: right;\">\n      <th></th>\n      <th>sent</th>\n    </tr>\n    <tr>\n      <th>length</th>\n      <th></th>\n    </tr>\n  </thead>\n  <tbody>\n    <tr>\n      <th>1</th>\n      <td>6460</td>\n    </tr>\n    <tr>\n      <th>2</th>\n      <td>15053</td>\n    </tr>\n    <tr>\n      <th>3</th>\n      <td>25189</td>\n    </tr>\n    <tr>\n      <th>4</th>\n      <td>37940</td>\n    </tr>\n    <tr>\n      <th>5</th>\n      <td>43382</td>\n    </tr>\n    <tr>\n      <th>6</th>\n      <td>42682</td>\n    </tr>\n    <tr>\n      <th>7</th>\n      <td>35533</td>\n    </tr>\n    <tr>\n      <th>8</th>\n      <td>27434</td>\n    </tr>\n    <tr>\n      <th>9</th>\n      <td>20033</td>\n    </tr>\n    <tr>\n      <th>10</th>\n      <td>14333</td>\n    </tr>\n    <tr>\n      <th>11</th>\n      <td>9925</td>\n    </tr>\n    <tr>\n      <th>12</th>\n      <td>6701</td>\n    </tr>\n    <tr>\n      <th>13</th>\n      <td>4195</td>\n    </tr>\n    <tr>\n      <th>14</th>\n      <td>2604</td>\n    </tr>\n    <tr>\n      <th>15</th>\n      <td>1528</td>\n    </tr>\n    <tr>\n      <th>16</th>\n      <td>958</td>\n    </tr>\n    <tr>\n      <th>17</th>\n      <td>526</td>\n    </tr>\n    <tr>\n      <th>18</th>\n      <td>343</td>\n    </tr>\n    <tr>\n      <th>19</th>\n      <td>210</td>\n    </tr>\n    <tr>\n      <th>20</th>\n      <td>164</td>\n    </tr>\n    <tr>\n      <th>21</th>\n      <td>93</td>\n    </tr>\n    <tr>\n      <th>22</th>\n      <td>73</td>\n    </tr>\n    <tr>\n      <th>23</th>\n      <td>44</td>\n    </tr>\n    <tr>\n      <th>24</th>\n      <td>40</td>\n    </tr>\n    <tr>\n      <th>25</th>\n      <td>17</td>\n    </tr>\n    <tr>\n      <th>26</th>\n      <td>20</td>\n    </tr>\n    <tr>\n      <th>27</th>\n      <td>22</td>\n    </tr>\n    <tr>\n      <th>28</th>\n      <td>12</td>\n    </tr>\n    <tr>\n      <th>29</th>\n      <td>22</td>\n    </tr>\n    <tr>\n      <th>30</th>\n      <td>15</td>\n    </tr>\n    <tr>\n      <th>32</th>\n      <td>9</td>\n    </tr>\n    <tr>\n      <th>33</th>\n      <td>5</td>\n    </tr>\n    <tr>\n      <th>34</th>\n      <td>8</td>\n    </tr>\n    <tr>\n      <th>35</th>\n      <td>6</td>\n    </tr>\n    <tr>\n      <th>36</th>\n      <td>5</td>\n    </tr>\n    <tr>\n      <th>38</th>\n      <td>5</td>\n    </tr>\n    <tr>\n      <th>40</th>\n      <td>5</td>\n    </tr>\n    <tr>\n      <th>41</th>\n      <td>6</td>\n    </tr>\n    <tr>\n      <th>42</th>\n      <td>5</td>\n    </tr>\n    <tr>\n      <th>43</th>\n      <td>4</td>\n    </tr>\n    <tr>\n      <th>45</th>\n      <td>4</td>\n    </tr>\n    <tr>\n      <th>47</th>\n      <td>4</td>\n    </tr>\n  </tbody>\n</table>\n</div>"
     },
     "metadata": {},
     "execution_count": 240
    }
   ],
   "source": [
    "dfdatak.groupby('length').nunique().query('sent>3')"
   ]
  },
  {
   "cell_type": "code",
   "execution_count": 241,
   "metadata": {},
   "outputs": [
    {
     "output_type": "execute_result",
     "data": {
      "text/plain": [
       "835       I got rhythm....I got music....I got my gal Wh...\n",
       "3085      doggone well I LUV ya and if ya break my heart...\n",
       "3086      sure that it's true when you come runnin' up h...\n",
       "9027      much? What is it that makes my head go 'round ...\n",
       "9816       &amp;quot;You might get hurt if you don't kee...\n",
       "                                ...                        \n",
       "679286    Oh moon of Alabama it's time to say &amp;quot;...\n",
       "680653    She came up to me and said: &quot;Do you wanna...\n",
       "681688    then all of a sudden everything seemed to expl...\n",
       "681691     don't you know sugar that every moment that I...\n",
       "681696     WHEN YOU LEFT YOU TOOK ALL OF ME WITH YOU NOW...\n",
       "Name: sent, Length: 739, dtype: object"
      ]
     },
     "metadata": {},
     "execution_count": 241
    }
   ],
   "source": [
    "dfdatak.query('length>20').sent"
   ]
  },
  {
   "cell_type": "code",
   "execution_count": 242,
   "metadata": {},
   "outputs": [
    {
     "output_type": "error",
     "ename": "KeyError",
     "evalue": "676",
     "traceback": [
      "\u001b[1;31m---------------------------------------------------------------------------\u001b[0m",
      "\u001b[1;31mKeyError\u001b[0m                                  Traceback (most recent call last)",
      "\u001b[1;32mD:\\anaconda\\envs\\nlpai\\lib\\site-packages\\pandas\\core\\indexes\\base.py\u001b[0m in \u001b[0;36mget_loc\u001b[1;34m(self, key, method, tolerance)\u001b[0m\n\u001b[0;32m   3079\u001b[0m             \u001b[1;32mtry\u001b[0m\u001b[1;33m:\u001b[0m\u001b[1;33m\u001b[0m\u001b[1;33m\u001b[0m\u001b[0m\n\u001b[1;32m-> 3080\u001b[1;33m                 \u001b[1;32mreturn\u001b[0m \u001b[0mself\u001b[0m\u001b[1;33m.\u001b[0m\u001b[0m_engine\u001b[0m\u001b[1;33m.\u001b[0m\u001b[0mget_loc\u001b[0m\u001b[1;33m(\u001b[0m\u001b[0mcasted_key\u001b[0m\u001b[1;33m)\u001b[0m\u001b[1;33m\u001b[0m\u001b[1;33m\u001b[0m\u001b[0m\n\u001b[0m\u001b[0;32m   3081\u001b[0m             \u001b[1;32mexcept\u001b[0m \u001b[0mKeyError\u001b[0m \u001b[1;32mas\u001b[0m \u001b[0merr\u001b[0m\u001b[1;33m:\u001b[0m\u001b[1;33m\u001b[0m\u001b[1;33m\u001b[0m\u001b[0m\n",
      "\u001b[1;32mpandas\\_libs\\index.pyx\u001b[0m in \u001b[0;36mpandas._libs.index.IndexEngine.get_loc\u001b[1;34m()\u001b[0m\n",
      "\u001b[1;32mpandas\\_libs\\index.pyx\u001b[0m in \u001b[0;36mpandas._libs.index.IndexEngine.get_loc\u001b[1;34m()\u001b[0m\n",
      "\u001b[1;32mpandas\\_libs\\hashtable_class_helper.pxi\u001b[0m in \u001b[0;36mpandas._libs.hashtable.Int64HashTable.get_item\u001b[1;34m()\u001b[0m\n",
      "\u001b[1;32mpandas\\_libs\\hashtable_class_helper.pxi\u001b[0m in \u001b[0;36mpandas._libs.hashtable.Int64HashTable.get_item\u001b[1;34m()\u001b[0m\n",
      "\u001b[1;31mKeyError\u001b[0m: 676",
      "\nThe above exception was the direct cause of the following exception:\n",
      "\u001b[1;31mKeyError\u001b[0m                                  Traceback (most recent call last)",
      "\u001b[1;32m<ipython-input-242-43fd6c1d3119>\u001b[0m in \u001b[0;36m<module>\u001b[1;34m\u001b[0m\n\u001b[1;32m----> 1\u001b[1;33m \u001b[0mdfdatak\u001b[0m\u001b[1;33m.\u001b[0m\u001b[0mquery\u001b[0m\u001b[1;33m(\u001b[0m\u001b[1;34m'length>50'\u001b[0m\u001b[1;33m)\u001b[0m\u001b[1;33m.\u001b[0m\u001b[0msent\u001b[0m\u001b[1;33m[\u001b[0m\u001b[1;36m676\u001b[0m\u001b[1;33m]\u001b[0m\u001b[1;33m\u001b[0m\u001b[1;33m\u001b[0m\u001b[0m\n\u001b[0m",
      "\u001b[1;32mD:\\anaconda\\envs\\nlpai\\lib\\site-packages\\pandas\\core\\series.py\u001b[0m in \u001b[0;36m__getitem__\u001b[1;34m(self, key)\u001b[0m\n\u001b[0;32m    822\u001b[0m \u001b[1;33m\u001b[0m\u001b[0m\n\u001b[0;32m    823\u001b[0m         \u001b[1;32melif\u001b[0m \u001b[0mkey_is_scalar\u001b[0m\u001b[1;33m:\u001b[0m\u001b[1;33m\u001b[0m\u001b[1;33m\u001b[0m\u001b[0m\n\u001b[1;32m--> 824\u001b[1;33m             \u001b[1;32mreturn\u001b[0m \u001b[0mself\u001b[0m\u001b[1;33m.\u001b[0m\u001b[0m_get_value\u001b[0m\u001b[1;33m(\u001b[0m\u001b[0mkey\u001b[0m\u001b[1;33m)\u001b[0m\u001b[1;33m\u001b[0m\u001b[1;33m\u001b[0m\u001b[0m\n\u001b[0m\u001b[0;32m    825\u001b[0m \u001b[1;33m\u001b[0m\u001b[0m\n\u001b[0;32m    826\u001b[0m         \u001b[1;32mif\u001b[0m \u001b[0mis_hashable\u001b[0m\u001b[1;33m(\u001b[0m\u001b[0mkey\u001b[0m\u001b[1;33m)\u001b[0m\u001b[1;33m:\u001b[0m\u001b[1;33m\u001b[0m\u001b[1;33m\u001b[0m\u001b[0m\n",
      "\u001b[1;32mD:\\anaconda\\envs\\nlpai\\lib\\site-packages\\pandas\\core\\series.py\u001b[0m in \u001b[0;36m_get_value\u001b[1;34m(self, label, takeable)\u001b[0m\n\u001b[0;32m    930\u001b[0m \u001b[1;33m\u001b[0m\u001b[0m\n\u001b[0;32m    931\u001b[0m         \u001b[1;31m# Similar to Index.get_value, but we do not fall back to positional\u001b[0m\u001b[1;33m\u001b[0m\u001b[1;33m\u001b[0m\u001b[1;33m\u001b[0m\u001b[0m\n\u001b[1;32m--> 932\u001b[1;33m         \u001b[0mloc\u001b[0m \u001b[1;33m=\u001b[0m \u001b[0mself\u001b[0m\u001b[1;33m.\u001b[0m\u001b[0mindex\u001b[0m\u001b[1;33m.\u001b[0m\u001b[0mget_loc\u001b[0m\u001b[1;33m(\u001b[0m\u001b[0mlabel\u001b[0m\u001b[1;33m)\u001b[0m\u001b[1;33m\u001b[0m\u001b[1;33m\u001b[0m\u001b[0m\n\u001b[0m\u001b[0;32m    933\u001b[0m         \u001b[1;32mreturn\u001b[0m \u001b[0mself\u001b[0m\u001b[1;33m.\u001b[0m\u001b[0mindex\u001b[0m\u001b[1;33m.\u001b[0m\u001b[0m_get_values_for_loc\u001b[0m\u001b[1;33m(\u001b[0m\u001b[0mself\u001b[0m\u001b[1;33m,\u001b[0m \u001b[0mloc\u001b[0m\u001b[1;33m,\u001b[0m \u001b[0mlabel\u001b[0m\u001b[1;33m)\u001b[0m\u001b[1;33m\u001b[0m\u001b[1;33m\u001b[0m\u001b[0m\n\u001b[0;32m    934\u001b[0m \u001b[1;33m\u001b[0m\u001b[0m\n",
      "\u001b[1;32mD:\\anaconda\\envs\\nlpai\\lib\\site-packages\\pandas\\core\\indexes\\base.py\u001b[0m in \u001b[0;36mget_loc\u001b[1;34m(self, key, method, tolerance)\u001b[0m\n\u001b[0;32m   3080\u001b[0m                 \u001b[1;32mreturn\u001b[0m \u001b[0mself\u001b[0m\u001b[1;33m.\u001b[0m\u001b[0m_engine\u001b[0m\u001b[1;33m.\u001b[0m\u001b[0mget_loc\u001b[0m\u001b[1;33m(\u001b[0m\u001b[0mcasted_key\u001b[0m\u001b[1;33m)\u001b[0m\u001b[1;33m\u001b[0m\u001b[1;33m\u001b[0m\u001b[0m\n\u001b[0;32m   3081\u001b[0m             \u001b[1;32mexcept\u001b[0m \u001b[0mKeyError\u001b[0m \u001b[1;32mas\u001b[0m \u001b[0merr\u001b[0m\u001b[1;33m:\u001b[0m\u001b[1;33m\u001b[0m\u001b[1;33m\u001b[0m\u001b[0m\n\u001b[1;32m-> 3082\u001b[1;33m                 \u001b[1;32mraise\u001b[0m \u001b[0mKeyError\u001b[0m\u001b[1;33m(\u001b[0m\u001b[0mkey\u001b[0m\u001b[1;33m)\u001b[0m \u001b[1;32mfrom\u001b[0m \u001b[0merr\u001b[0m\u001b[1;33m\u001b[0m\u001b[1;33m\u001b[0m\u001b[0m\n\u001b[0m\u001b[0;32m   3083\u001b[0m \u001b[1;33m\u001b[0m\u001b[0m\n\u001b[0;32m   3084\u001b[0m         \u001b[1;32mif\u001b[0m \u001b[0mtolerance\u001b[0m \u001b[1;32mis\u001b[0m \u001b[1;32mnot\u001b[0m \u001b[1;32mNone\u001b[0m\u001b[1;33m:\u001b[0m\u001b[1;33m\u001b[0m\u001b[1;33m\u001b[0m\u001b[0m\n",
      "\u001b[1;31mKeyError\u001b[0m: 676"
     ]
    }
   ],
   "source": [
    "dfdatak.query('length>50').sent[676]"
   ]
  },
  {
   "cell_type": "code",
   "execution_count": 243,
   "metadata": {},
   "outputs": [
    {
     "output_type": "error",
     "ename": "KeyError",
     "evalue": "446172",
     "traceback": [
      "\u001b[1;31m---------------------------------------------------------------------------\u001b[0m",
      "\u001b[1;31mKeyError\u001b[0m                                  Traceback (most recent call last)",
      "\u001b[1;32mD:\\anaconda\\envs\\nlpai\\lib\\site-packages\\pandas\\core\\indexes\\base.py\u001b[0m in \u001b[0;36mget_loc\u001b[1;34m(self, key, method, tolerance)\u001b[0m\n\u001b[0;32m   3079\u001b[0m             \u001b[1;32mtry\u001b[0m\u001b[1;33m:\u001b[0m\u001b[1;33m\u001b[0m\u001b[1;33m\u001b[0m\u001b[0m\n\u001b[1;32m-> 3080\u001b[1;33m                 \u001b[1;32mreturn\u001b[0m \u001b[0mself\u001b[0m\u001b[1;33m.\u001b[0m\u001b[0m_engine\u001b[0m\u001b[1;33m.\u001b[0m\u001b[0mget_loc\u001b[0m\u001b[1;33m(\u001b[0m\u001b[0mcasted_key\u001b[0m\u001b[1;33m)\u001b[0m\u001b[1;33m\u001b[0m\u001b[1;33m\u001b[0m\u001b[0m\n\u001b[0m\u001b[0;32m   3081\u001b[0m             \u001b[1;32mexcept\u001b[0m \u001b[0mKeyError\u001b[0m \u001b[1;32mas\u001b[0m \u001b[0merr\u001b[0m\u001b[1;33m:\u001b[0m\u001b[1;33m\u001b[0m\u001b[1;33m\u001b[0m\u001b[0m\n",
      "\u001b[1;32mpandas\\_libs\\index.pyx\u001b[0m in \u001b[0;36mpandas._libs.index.IndexEngine.get_loc\u001b[1;34m()\u001b[0m\n",
      "\u001b[1;32mpandas\\_libs\\index.pyx\u001b[0m in \u001b[0;36mpandas._libs.index.IndexEngine.get_loc\u001b[1;34m()\u001b[0m\n",
      "\u001b[1;32mpandas\\_libs\\hashtable_class_helper.pxi\u001b[0m in \u001b[0;36mpandas._libs.hashtable.Int64HashTable.get_item\u001b[1;34m()\u001b[0m\n",
      "\u001b[1;32mpandas\\_libs\\hashtable_class_helper.pxi\u001b[0m in \u001b[0;36mpandas._libs.hashtable.Int64HashTable.get_item\u001b[1;34m()\u001b[0m\n",
      "\u001b[1;31mKeyError\u001b[0m: 446172",
      "\nThe above exception was the direct cause of the following exception:\n",
      "\u001b[1;31mKeyError\u001b[0m                                  Traceback (most recent call last)",
      "\u001b[1;32m<ipython-input-243-2213fb9e10f3>\u001b[0m in \u001b[0;36m<module>\u001b[1;34m\u001b[0m\n\u001b[1;32m----> 1\u001b[1;33m \u001b[0mteku\u001b[0m \u001b[1;33m=\u001b[0m \u001b[0mdfdatak\u001b[0m\u001b[1;33m.\u001b[0m\u001b[0mquery\u001b[0m\u001b[1;33m(\u001b[0m\u001b[1;34m'length>500'\u001b[0m\u001b[1;33m)\u001b[0m\u001b[1;33m.\u001b[0m\u001b[0msent\u001b[0m\u001b[1;33m[\u001b[0m\u001b[1;36m446172\u001b[0m\u001b[1;33m]\u001b[0m\u001b[1;33m\u001b[0m\u001b[1;33m\u001b[0m\u001b[0m\n\u001b[0m\u001b[0;32m      2\u001b[0m \u001b[0mteku\u001b[0m\u001b[1;33m.\u001b[0m\u001b[0msplit\u001b[0m\u001b[1;33m(\u001b[0m\u001b[1;34m', '\u001b[0m\u001b[1;33m)\u001b[0m\u001b[1;33m\u001b[0m\u001b[1;33m\u001b[0m\u001b[0m\n",
      "\u001b[1;32mD:\\anaconda\\envs\\nlpai\\lib\\site-packages\\pandas\\core\\series.py\u001b[0m in \u001b[0;36m__getitem__\u001b[1;34m(self, key)\u001b[0m\n\u001b[0;32m    822\u001b[0m \u001b[1;33m\u001b[0m\u001b[0m\n\u001b[0;32m    823\u001b[0m         \u001b[1;32melif\u001b[0m \u001b[0mkey_is_scalar\u001b[0m\u001b[1;33m:\u001b[0m\u001b[1;33m\u001b[0m\u001b[1;33m\u001b[0m\u001b[0m\n\u001b[1;32m--> 824\u001b[1;33m             \u001b[1;32mreturn\u001b[0m \u001b[0mself\u001b[0m\u001b[1;33m.\u001b[0m\u001b[0m_get_value\u001b[0m\u001b[1;33m(\u001b[0m\u001b[0mkey\u001b[0m\u001b[1;33m)\u001b[0m\u001b[1;33m\u001b[0m\u001b[1;33m\u001b[0m\u001b[0m\n\u001b[0m\u001b[0;32m    825\u001b[0m \u001b[1;33m\u001b[0m\u001b[0m\n\u001b[0;32m    826\u001b[0m         \u001b[1;32mif\u001b[0m \u001b[0mis_hashable\u001b[0m\u001b[1;33m(\u001b[0m\u001b[0mkey\u001b[0m\u001b[1;33m)\u001b[0m\u001b[1;33m:\u001b[0m\u001b[1;33m\u001b[0m\u001b[1;33m\u001b[0m\u001b[0m\n",
      "\u001b[1;32mD:\\anaconda\\envs\\nlpai\\lib\\site-packages\\pandas\\core\\series.py\u001b[0m in \u001b[0;36m_get_value\u001b[1;34m(self, label, takeable)\u001b[0m\n\u001b[0;32m    930\u001b[0m \u001b[1;33m\u001b[0m\u001b[0m\n\u001b[0;32m    931\u001b[0m         \u001b[1;31m# Similar to Index.get_value, but we do not fall back to positional\u001b[0m\u001b[1;33m\u001b[0m\u001b[1;33m\u001b[0m\u001b[1;33m\u001b[0m\u001b[0m\n\u001b[1;32m--> 932\u001b[1;33m         \u001b[0mloc\u001b[0m \u001b[1;33m=\u001b[0m \u001b[0mself\u001b[0m\u001b[1;33m.\u001b[0m\u001b[0mindex\u001b[0m\u001b[1;33m.\u001b[0m\u001b[0mget_loc\u001b[0m\u001b[1;33m(\u001b[0m\u001b[0mlabel\u001b[0m\u001b[1;33m)\u001b[0m\u001b[1;33m\u001b[0m\u001b[1;33m\u001b[0m\u001b[0m\n\u001b[0m\u001b[0;32m    933\u001b[0m         \u001b[1;32mreturn\u001b[0m \u001b[0mself\u001b[0m\u001b[1;33m.\u001b[0m\u001b[0mindex\u001b[0m\u001b[1;33m.\u001b[0m\u001b[0m_get_values_for_loc\u001b[0m\u001b[1;33m(\u001b[0m\u001b[0mself\u001b[0m\u001b[1;33m,\u001b[0m \u001b[0mloc\u001b[0m\u001b[1;33m,\u001b[0m \u001b[0mlabel\u001b[0m\u001b[1;33m)\u001b[0m\u001b[1;33m\u001b[0m\u001b[1;33m\u001b[0m\u001b[0m\n\u001b[0;32m    934\u001b[0m \u001b[1;33m\u001b[0m\u001b[0m\n",
      "\u001b[1;32mD:\\anaconda\\envs\\nlpai\\lib\\site-packages\\pandas\\core\\indexes\\base.py\u001b[0m in \u001b[0;36mget_loc\u001b[1;34m(self, key, method, tolerance)\u001b[0m\n\u001b[0;32m   3080\u001b[0m                 \u001b[1;32mreturn\u001b[0m \u001b[0mself\u001b[0m\u001b[1;33m.\u001b[0m\u001b[0m_engine\u001b[0m\u001b[1;33m.\u001b[0m\u001b[0mget_loc\u001b[0m\u001b[1;33m(\u001b[0m\u001b[0mcasted_key\u001b[0m\u001b[1;33m)\u001b[0m\u001b[1;33m\u001b[0m\u001b[1;33m\u001b[0m\u001b[0m\n\u001b[0;32m   3081\u001b[0m             \u001b[1;32mexcept\u001b[0m \u001b[0mKeyError\u001b[0m \u001b[1;32mas\u001b[0m \u001b[0merr\u001b[0m\u001b[1;33m:\u001b[0m\u001b[1;33m\u001b[0m\u001b[1;33m\u001b[0m\u001b[0m\n\u001b[1;32m-> 3082\u001b[1;33m                 \u001b[1;32mraise\u001b[0m \u001b[0mKeyError\u001b[0m\u001b[1;33m(\u001b[0m\u001b[0mkey\u001b[0m\u001b[1;33m)\u001b[0m \u001b[1;32mfrom\u001b[0m \u001b[0merr\u001b[0m\u001b[1;33m\u001b[0m\u001b[1;33m\u001b[0m\u001b[0m\n\u001b[0m\u001b[0;32m   3083\u001b[0m \u001b[1;33m\u001b[0m\u001b[0m\n\u001b[0;32m   3084\u001b[0m         \u001b[1;32mif\u001b[0m \u001b[0mtolerance\u001b[0m \u001b[1;32mis\u001b[0m \u001b[1;32mnot\u001b[0m \u001b[1;32mNone\u001b[0m\u001b[1;33m:\u001b[0m\u001b[1;33m\u001b[0m\u001b[1;33m\u001b[0m\u001b[0m\n",
      "\u001b[1;31mKeyError\u001b[0m: 446172"
     ]
    }
   ],
   "source": [
    "teku = dfdatak.query('length>500').sent[446172]\n",
    "teku.split(', ')"
   ]
  },
  {
   "cell_type": "code",
   "execution_count": 158,
   "metadata": {},
   "outputs": [
    {
     "output_type": "execute_result",
     "data": {
      "text/plain": [
       "count    534943.000000\n",
       "mean          7.480139\n",
       "std           4.730531\n",
       "min           1.000000\n",
       "25%           5.000000\n",
       "50%           7.000000\n",
       "75%           9.000000\n",
       "max         811.000000\n",
       "Name: length, dtype: float64"
      ]
     },
     "metadata": {},
     "execution_count": 158
    }
   ],
   "source": [
    "dfdatak.length.describe()"
   ]
  },
  {
   "cell_type": "code",
   "execution_count": 150,
   "metadata": {},
   "outputs": [
    {
     "output_type": "execute_result",
     "data": {
      "text/plain": [
       "811"
      ]
     },
     "metadata": {},
     "execution_count": 150
    }
   ],
   "source": [
    "max_length_sent"
   ]
  },
  {
   "cell_type": "code",
   "execution_count": 123,
   "metadata": {},
   "outputs": [
    {
     "output_type": "execute_result",
     "data": {
      "text/plain": [
       "643"
      ]
     },
     "metadata": {},
     "execution_count": 123
    }
   ],
   "source": [
    "max_length_sent"
   ]
  },
  {
   "cell_type": "code",
   "execution_count": 143,
   "metadata": {},
   "outputs": [
    {
     "output_type": "stream",
     "name": "stdout",
     "text": [
      "Help on class tqdm in module tqdm.std:\n\nclass tqdm(tqdm.utils.Comparable)\n |  tqdm(*_, **__)\n |  \n |  Decorate an iterable object, returning an iterator which acts exactly\n |  like the original iterable, but prints a dynamically updating\n |  progressbar every time a value is requested.\n |  \n |  Method resolution order:\n |      tqdm\n |      tqdm.utils.Comparable\n |      builtins.object\n |  \n |  Methods defined here:\n |  \n |  __bool__(self)\n |  \n |  __del__(self)\n |  \n |  __enter__(self)\n |  \n |  __exit__(self, exc_type, exc_value, traceback)\n |  \n |  __hash__(self)\n |      Return hash(self).\n |  \n |  __init__(self, iterable=None, desc=None, total=None, leave=True, file=None, ncols=None, mininterval=0.1, maxinterval=10.0, miniters=None, ascii=None, disable=False, unit='it', unit_scale=False, dynamic_ncols=False, smoothing=0.3, bar_format=None, initial=0, position=None, postfix=None, unit_divisor=1000, write_bytes=None, lock_args=None, nrows=None, colour=None, gui=False, **kwargs)\n |      Parameters\n |      ----------\n |      iterable  : iterable, optional\n |          Iterable to decorate with a progressbar.\n |          Leave blank to manually manage the updates.\n |      desc  : str, optional\n |          Prefix for the progressbar.\n |      total  : int or float, optional\n |          The number of expected iterations. If unspecified,\n |          len(iterable) is used if possible. If float(\"inf\") or as a last\n |          resort, only basic progress statistics are displayed\n |          (no ETA, no progressbar).\n |          If `gui` is True and this parameter needs subsequent updating,\n |          specify an initial arbitrary large positive number,\n |          e.g. 9e9.\n |      leave  : bool, optional\n |          If [default: True], keeps all traces of the progressbar\n |          upon termination of iteration.\n |          If `None`, will leave only if `position` is `0`.\n |      file  : `io.TextIOWrapper` or `io.StringIO`, optional\n |          Specifies where to output the progress messages\n |          (default: sys.stderr). Uses `file.write(str)` and `file.flush()`\n |          methods.  For encoding, see `write_bytes`.\n |      ncols  : int, optional\n |          The width of the entire output message. If specified,\n |          dynamically resizes the progressbar to stay within this bound.\n |          If unspecified, attempts to use environment width. The\n |          fallback is a meter width of 10 and no limit for the counter and\n |          statistics. If 0, will not print any meter (only stats).\n |      mininterval  : float, optional\n |          Minimum progress display update interval [default: 0.1] seconds.\n |      maxinterval  : float, optional\n |          Maximum progress display update interval [default: 10] seconds.\n |          Automatically adjusts `miniters` to correspond to `mininterval`\n |          after long display update lag. Only works if `dynamic_miniters`\n |          or monitor thread is enabled.\n |      miniters  : int or float, optional\n |          Minimum progress display update interval, in iterations.\n |          If 0 and `dynamic_miniters`, will automatically adjust to equal\n |          `mininterval` (more CPU efficient, good for tight loops).\n |          If > 0, will skip display of specified number of iterations.\n |          Tweak this and `mininterval` to get very efficient loops.\n |          If your progress is erratic with both fast and slow iterations\n |          (network, skipping items, etc) you should set miniters=1.\n |      ascii  : bool or str, optional\n |          If unspecified or False, use unicode (smooth blocks) to fill\n |          the meter. The fallback is to use ASCII characters \" 123456789#\".\n |      disable  : bool, optional\n |          Whether to disable the entire progressbar wrapper\n |          [default: False]. If set to None, disable on non-TTY.\n |      unit  : str, optional\n |          String that will be used to define the unit of each iteration\n |          [default: it].\n |      unit_scale  : bool or int or float, optional\n |          If 1 or True, the number of iterations will be reduced/scaled\n |          automatically and a metric prefix following the\n |          International System of Units standard will be added\n |          (kilo, mega, etc.) [default: False]. If any other non-zero\n |          number, will scale `total` and `n`.\n |      dynamic_ncols  : bool, optional\n |          If set, constantly alters `ncols` and `nrows` to the\n |          environment (allowing for window resizes) [default: False].\n |      smoothing  : float, optional\n |          Exponential moving average smoothing factor for speed estimates\n |          (ignored in GUI mode). Ranges from 0 (average speed) to 1\n |          (current/instantaneous speed) [default: 0.3].\n |      bar_format  : str, optional\n |          Specify a custom bar string formatting. May impact performance.\n |          [default: '{l_bar}{bar}{r_bar}'], where\n |          l_bar='{desc}: {percentage:3.0f}%|' and\n |          r_bar='| {n_fmt}/{total_fmt} [{elapsed}<{remaining}, '\n |            '{rate_fmt}{postfix}]'\n |          Possible vars: l_bar, bar, r_bar, n, n_fmt, total, total_fmt,\n |            percentage, elapsed, elapsed_s, ncols, nrows, desc, unit,\n |            rate, rate_fmt, rate_noinv, rate_noinv_fmt,\n |            rate_inv, rate_inv_fmt, postfix, unit_divisor,\n |            remaining, remaining_s, eta.\n |          Note that a trailing \": \" is automatically removed after {desc}\n |          if the latter is empty.\n |      initial  : int or float, optional\n |          The initial counter value. Useful when restarting a progress\n |          bar [default: 0]. If using float, consider specifying `{n:.3f}`\n |          or similar in `bar_format`, or specifying `unit_scale`.\n |      position  : int, optional\n |          Specify the line offset to print this bar (starting from 0)\n |          Automatic if unspecified.\n |          Useful to manage multiple bars at once (eg, from threads).\n |      postfix  : dict or *, optional\n |          Specify additional stats to display at the end of the bar.\n |          Calls `set_postfix(**postfix)` if possible (dict).\n |      unit_divisor  : float, optional\n |          [default: 1000], ignored unless `unit_scale` is True.\n |      write_bytes  : bool, optional\n |          If (default: None) and `file` is unspecified,\n |          bytes will be written in Python 2. If `True` will also write\n |          bytes. In all other cases will default to unicode.\n |      lock_args  : tuple, optional\n |          Passed to `refresh` for intermediate output\n |          (initialisation, iterating, and updating).\n |      nrows  : int, optional\n |          The screen height. If specified, hides nested bars outside this\n |          bound. If unspecified, attempts to use environment height.\n |          The fallback is 20.\n |      colour  : str, optional\n |          Bar colour (e.g. 'green', '#00ff00').\n |      gui  : bool, optional\n |          WARNING: internal parameter - do not use.\n |          Use tqdm.gui.tqdm(...) instead. If set, will attempt to use\n |          matplotlib animations for a graphical output [default: False].\n |      \n |      Returns\n |      -------\n |      out  : decorated iterator.\n |  \n |  __iter__(self)\n |      Backward-compatibility to use: for x in tqdm(iterable)\n |  \n |  __len__(self)\n |  \n |  __nonzero__(self)\n |  \n |  __repr__(self)\n |      Return repr(self).\n |  \n |  clear(self, nolock=False)\n |      Clear current bar display.\n |  \n |  close(self)\n |      Cleanup and (if leave=False) close the progressbar.\n |  \n |  display(self, msg=None, pos=None)\n |      Use `self.sp` to display `msg` in the specified `pos`.\n |      \n |      Consider overloading this function when inheriting to use e.g.:\n |      `self.some_frontend(**self.format_dict)` instead of `self.sp`.\n |      \n |      Parameters\n |      ----------\n |      msg  : str, optional. What to display (default: `repr(self)`).\n |      pos  : int, optional. Position to `moveto`\n |        (default: `abs(self.pos)`).\n |  \n |  moveto(self, n)\n |  \n |  refresh(self, nolock=False, lock_args=None)\n |      Force refresh the display of this bar.\n |      \n |      Parameters\n |      ----------\n |      nolock  : bool, optional\n |          If `True`, does not lock.\n |          If [default: `False`]: calls `acquire()` on internal lock.\n |      lock_args  : tuple, optional\n |          Passed to internal lock's `acquire()`.\n |          If specified, will only `display()` if `acquire()` returns `True`.\n |  \n |  reset(self, total=None)\n |      Resets to 0 iterations for repeated use.\n |      \n |      Consider combining with `leave=True`.\n |      \n |      Parameters\n |      ----------\n |      total  : int or float, optional. Total to use for the new bar.\n |  \n |  set_description(self, desc=None, refresh=True)\n |      Set/modify description of the progress bar.\n |      \n |      Parameters\n |      ----------\n |      desc  : str, optional\n |      refresh  : bool, optional\n |          Forces refresh [default: True].\n |  \n |  set_description_str(self, desc=None, refresh=True)\n |      Set/modify description without ': ' appended.\n |  \n |  set_postfix(self, ordered_dict=None, refresh=True, **kwargs)\n |      Set/modify postfix (additional stats)\n |      with automatic formatting based on datatype.\n |      \n |      Parameters\n |      ----------\n |      ordered_dict  : dict or OrderedDict, optional\n |      refresh  : bool, optional\n |          Forces refresh [default: True].\n |      kwargs  : dict, optional\n |  \n |  set_postfix_str(self, s='', refresh=True)\n |      Postfix without dictionary expansion, similar to prefix handling.\n |  \n |  unpause(self)\n |      Restart tqdm timer from last print time.\n |  \n |  update(self, n=1)\n |      Manually update the progress bar, useful for streams\n |      such as reading files.\n |      E.g.:\n |      >>> t = tqdm(total=filesize) # Initialise\n |      >>> for current_buffer in stream:\n |      ...    ...\n |      ...    t.update(len(current_buffer))\n |      >>> t.close()\n |      The last line is highly recommended, but possibly not necessary if\n |      `t.update()` will be called in such a way that `filesize` will be\n |      exactly reached and printed.\n |      \n |      Parameters\n |      ----------\n |      n  : int or float, optional\n |          Increment to add to the internal counter of iterations\n |          [default: 1]. If using float, consider specifying `{n:.3f}`\n |          or similar in `bar_format`, or specifying `unit_scale`.\n |      \n |      Returns\n |      -------\n |      out  : bool or None\n |          True if a `display()` was triggered.\n |  \n |  ----------------------------------------------------------------------\n |  Class methods defined here:\n |  \n |  external_write_mode(file=None, nolock=False) from builtins.type\n |      Disable tqdm within context and refresh tqdm when exits.\n |      Useful when writing to standard output stream\n |  \n |  get_lock() from builtins.type\n |      Get the global lock. Construct it if it does not exist.\n |  \n |  pandas(**tqdm_kwargs) from builtins.type\n |      Registers the current `tqdm` class with\n |          pandas.core.\n |          ( frame.DataFrame\n |          | series.Series\n |          | groupby.(generic.)DataFrameGroupBy\n |          | groupby.(generic.)SeriesGroupBy\n |          ).progress_apply\n |      \n |      A new instance will be create every time `progress_apply` is called,\n |      and each instance will automatically `close()` upon completion.\n |      \n |      Parameters\n |      ----------\n |      tqdm_kwargs  : arguments for the tqdm instance\n |      \n |      Examples\n |      --------\n |      >>> import pandas as pd\n |      >>> import numpy as np\n |      >>> from tqdm import tqdm\n |      >>> from tqdm.gui import tqdm as tqdm_gui\n |      >>>\n |      >>> df = pd.DataFrame(np.random.randint(0, 100, (100000, 6)))\n |      >>> tqdm.pandas(ncols=50)  # can use tqdm_gui, optional kwargs, etc\n |      >>> # Now you can use `progress_apply` instead of `apply`\n |      >>> df.groupby(0).progress_apply(lambda x: x**2)\n |      \n |      References\n |      ----------\n |      <https://stackoverflow.com/questions/18603270/        progress-indicator-during-pandas-operations-python>\n |  \n |  set_lock(lock) from builtins.type\n |      Set the global lock.\n |  \n |  wrapattr(stream, method, total=None, bytes=True, **tqdm_kwargs) from builtins.type\n |      stream  : file-like object.\n |      method  : str, \"read\" or \"write\". The result of `read()` and\n |          the first argument of `write()` should have a `len()`.\n |      \n |      >>> with tqdm.wrapattr(file_obj, \"read\", total=file_obj.size) as fobj:\n |      ...     while True:\n |      ...         chunk = fobj.read(chunk_size)\n |      ...         if not chunk:\n |      ...             break\n |  \n |  write(s, file=None, end='\\n', nolock=False) from builtins.type\n |      Print a message via tqdm (without overlap with bars).\n |  \n |  ----------------------------------------------------------------------\n |  Static methods defined here:\n |  \n |  __new__(cls, *_, **__)\n |      Create and return a new object.  See help(type) for accurate signature.\n |  \n |  format_interval(t)\n |      Formats a number of seconds as a clock time, [H:]MM:SS\n |      \n |      Parameters\n |      ----------\n |      t  : int\n |          Number of seconds.\n |      \n |      Returns\n |      -------\n |      out  : str\n |          [H:]MM:SS\n |  \n |  format_meter(n, total, elapsed, ncols=None, prefix='', ascii=False, unit='it', unit_scale=False, rate=None, bar_format=None, postfix=None, unit_divisor=1000, initial=0, colour=None, **extra_kwargs)\n |      Return a string-based progress bar given some parameters\n |      \n |      Parameters\n |      ----------\n |      n  : int or float\n |          Number of finished iterations.\n |      total  : int or float\n |          The expected total number of iterations. If meaningless (None),\n |          only basic progress statistics are displayed (no ETA).\n |      elapsed  : float\n |          Number of seconds passed since start.\n |      ncols  : int, optional\n |          The width of the entire output message. If specified,\n |          dynamically resizes `{bar}` to stay within this bound\n |          [default: None]. If `0`, will not print any bar (only stats).\n |          The fallback is `{bar:10}`.\n |      prefix  : str, optional\n |          Prefix message (included in total width) [default: ''].\n |          Use as {desc} in bar_format string.\n |      ascii  : bool, optional or str, optional\n |          If not set, use unicode (smooth blocks) to fill the meter\n |          [default: False]. The fallback is to use ASCII characters\n |          \" 123456789#\".\n |      unit  : str, optional\n |          The iteration unit [default: 'it'].\n |      unit_scale  : bool or int or float, optional\n |          If 1 or True, the number of iterations will be printed with an\n |          appropriate SI metric prefix (k = 10^3, M = 10^6, etc.)\n |          [default: False]. If any other non-zero number, will scale\n |          `total` and `n`.\n |      rate  : float, optional\n |          Manual override for iteration rate.\n |          If [default: None], uses n/elapsed.\n |      bar_format  : str, optional\n |          Specify a custom bar string formatting. May impact performance.\n |          [default: '{l_bar}{bar}{r_bar}'], where\n |          l_bar='{desc}: {percentage:3.0f}%|' and\n |          r_bar='| {n_fmt}/{total_fmt} [{elapsed}<{remaining}, '\n |            '{rate_fmt}{postfix}]'\n |          Possible vars: l_bar, bar, r_bar, n, n_fmt, total, total_fmt,\n |            percentage, elapsed, elapsed_s, ncols, nrows, desc, unit,\n |            rate, rate_fmt, rate_noinv, rate_noinv_fmt,\n |            rate_inv, rate_inv_fmt, postfix, unit_divisor,\n |            remaining, remaining_s, eta.\n |          Note that a trailing \": \" is automatically removed after {desc}\n |          if the latter is empty.\n |      postfix  : *, optional\n |          Similar to `prefix`, but placed at the end\n |          (e.g. for additional stats).\n |          Note: postfix is usually a string (not a dict) for this method,\n |          and will if possible be set to postfix = ', ' + postfix.\n |          However other types are supported (#382).\n |      unit_divisor  : float, optional\n |          [default: 1000], ignored unless `unit_scale` is True.\n |      initial  : int or float, optional\n |          The initial counter value [default: 0].\n |      colour  : str, optional\n |          Bar colour (e.g. 'green', '#00ff00').\n |      \n |      Returns\n |      -------\n |      out  : Formatted meter and stats, ready to display.\n |  \n |  format_num(n)\n |      Intelligent scientific notation (.3g).\n |      \n |      Parameters\n |      ----------\n |      n  : int or float or Numeric\n |          A Number.\n |      \n |      Returns\n |      -------\n |      out  : str\n |          Formatted number.\n |  \n |  format_sizeof(num, suffix='', divisor=1000)\n |      Formats a number (greater than unity) with SI Order of Magnitude\n |      prefixes.\n |      \n |      Parameters\n |      ----------\n |      num  : float\n |          Number ( >= 1) to format.\n |      suffix  : str, optional\n |          Post-postfix [default: ''].\n |      divisor  : float, optional\n |          Divisor between prefixes [default: 1000].\n |      \n |      Returns\n |      -------\n |      out  : str\n |          Number with Order of Magnitude SI unit postfix.\n |  \n |  status_printer(file)\n |      Manage the printing and in-place updating of a line of characters.\n |      Note that if the string is longer than a line, then in-place\n |      updating may not work (it will print a new line at each refresh).\n |  \n |  ----------------------------------------------------------------------\n |  Readonly properties defined here:\n |  \n |  format_dict\n |      Public API for read-only member access.\n |  \n |  ----------------------------------------------------------------------\n |  Data and other attributes defined here:\n |  \n |  monitor = <TMonitor(Thread-4, started daemon 32548)>\n |  \n |  monitor_interval = 10\n |  \n |  ----------------------------------------------------------------------\n |  Methods inherited from tqdm.utils.Comparable:\n |  \n |  __eq__(self, other)\n |      Return self==value.\n |  \n |  __ge__(self, other)\n |      Return self>=value.\n |  \n |  __gt__(self, other)\n |      Return self>value.\n |  \n |  __le__(self, other)\n |      Return self<=value.\n |  \n |  __lt__(self, other)\n |      Return self<value.\n |  \n |  __ne__(self, other)\n |      Return self!=value.\n |  \n |  ----------------------------------------------------------------------\n |  Data descriptors inherited from tqdm.utils.Comparable:\n |  \n |  __dict__\n |      dictionary for instance variables (if defined)\n |  \n |  __weakref__\n |      list of weak references to the object (if defined)\n\n"
     ]
    }
   ],
   "source": [
    "help(tqdm)"
   ]
  },
  {
   "cell_type": "code",
   "execution_count": 122,
   "metadata": {},
   "outputs": [
    {
     "output_type": "execute_result",
     "data": {
      "text/plain": [
       "artist                                             Trick Daddy\n",
       "song_name                                           Nann Nigga\n",
       "song_id                                                  12385\n",
       "sent         (feat. Trina) [Trina] Hell no I don't wanna ho...\n",
       "Name: 446172, dtype: object"
      ]
     },
     "metadata": {},
     "execution_count": 122
    }
   ],
   "source": [
    "song_info"
   ]
  },
  {
   "cell_type": "code",
   "execution_count": 214,
   "metadata": {},
   "outputs": [
    {
     "output_type": "execute_result",
     "data": {
      "text/plain": [
       "['Repeat (*)']"
      ]
     },
     "metadata": {},
     "execution_count": 214
    }
   ],
   "source": [
    "line_tokenize(song_info.sent)"
   ]
  },
  {
   "cell_type": "code",
   "execution_count": 215,
   "metadata": {},
   "outputs": [],
   "source": [
    "templ = np.array(word_tokenize(teku), dtype=object)\n",
    "kasd = np.array_split(templ, 20)"
   ]
  },
  {
   "cell_type": "code",
   "execution_count": 221,
   "metadata": {},
   "outputs": [
    {
     "output_type": "stream",
     "name": "stdout",
     "text": [
      "( feat . Trina ) [ Trina ] Hell no I do n't wan na holla at no motherfuckin Trick He all over there smelling like boonk and Hennesey and shit Hell no [ Taterhead ] I 'm saying though What\n"
     ]
    }
   ],
   "source": [
    "for i  in kasd:\n",
    "    print(' '.join(i))\n",
    "    break"
   ]
  },
  {
   "cell_type": "code",
   "execution_count": 139,
   "metadata": {},
   "outputs": [
    {
     "output_type": "execute_result",
     "data": {
      "text/plain": [
       "[array([0., 1., 2.]), array([3., 4., 5.]), array([6., 7., 8.])]"
      ]
     },
     "metadata": {},
     "execution_count": 139
    }
   ],
   "source": [
    "x = np.arange(9.0)\n",
    "np.split(x, 3)"
   ]
  },
  {
   "cell_type": "code",
   "execution_count": 120,
   "metadata": {},
   "outputs": [
    {
     "output_type": "execute_result",
     "data": {
      "text/plain": [
       "['Repeat', '(', '*', ')']"
      ]
     },
     "metadata": {},
     "execution_count": 120
    }
   ],
   "source": [
    "temp_tk = 'Repeat (*)'\n",
    "word_tokenize(temp_tk)"
   ]
  }
 ]
}