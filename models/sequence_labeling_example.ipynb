{
 "metadata": {
  "language_info": {
   "codemirror_mode": {
    "name": "ipython",
    "version": 3
   },
   "file_extension": ".py",
   "mimetype": "text/x-python",
   "name": "python",
   "nbconvert_exporter": "python",
   "pygments_lexer": "ipython3",
   "version": "3.8.5-final"
  },
  "orig_nbformat": 2,
  "kernelspec": {
   "name": "python3",
   "display_name": "Python 3.8.5 64-bit ('nlpai': conda)",
   "metadata": {
    "interpreter": {
     "hash": "63f661667cfff4a21b9f1172704ab3c7d831d3612a4dc528cd9d3281904853c9"
    }
   }
  }
 },
 "nbformat": 4,
 "nbformat_minor": 2,
 "cells": [
  {
   "cell_type": "code",
   "execution_count": 2,
   "metadata": {},
   "outputs": [],
   "source": [
    "import nltk\n",
    "import pandas as pd\n",
    "import heapq\n",
    "import pprint\n",
    "\n",
    "from nltk.tokenize import wordpunct_tokenize, blankline_tokenize, line_tokenize\n",
    "from itertools import combinations\n",
    "from nltk.corpus import stopwords\n",
    "from time import time \n",
    "from gensim.models import Word2Vec, KeyedVectors\n",
    "import multiprocessing\n",
    "\n",
    "# # tensorflow\n",
    "# import tensorflow as tf\n",
    "# from tensorflow import keras\n",
    "# from tensorflow.keras.preprocessing.sequence import pad_sequences\n",
    "from sklearn.model_selection import train_test_split\n",
    "\n",
    "# Pytorch\n",
    "import torch.nn as nn\n",
    "import torch.nn.functional as F\n",
    "import torch\n",
    "from torch.utils.data import Dataset, DataLoader\n",
    "from torch.nn.utils.rnn import pad_sequence, pack_padded_sequence, pad_packed_sequence\n",
    "\n",
    "# stanza\n",
    "import stanza as st\n",
    "\n",
    "import numpy as np\n",
    "import seaborn as sns\n",
    "import matplotlib.pyplot as plt\n",
    "%matplotlib inline"
   ]
  },
  {
   "cell_type": "code",
   "execution_count": 2,
   "metadata": {},
   "outputs": [],
   "source": [
    "# From https://www.depends-on-the-definition.com/guide-sequence-tagging-neural-networks-python/\n",
    "class SentenceGetter(object):\n",
    "    \n",
    "    def __init__(self, data):\n",
    "        self.n_sent = 1\n",
    "        self.data = data\n",
    "        self.empty = False\n",
    "        agg_func = lambda s: [(w, p, t) for w, p, t in zip(s[\"Word\"].values.tolist(),\n",
    "                                                           s[\"POS\"].values.tolist(),\n",
    "                                                           s[\"Tag\"].values.tolist())]\n",
    "        self.grouped = self.data.groupby(\"Sentence #\").apply(agg_func)\n",
    "        self.sentences = [s for s in self.grouped]\n",
    "    \n",
    "    def get_next(self):\n",
    "        try:\n",
    "            s = self.grouped[\"Sentence: {}\".format(self.n_sent)]\n",
    "            self.n_sent += 1\n",
    "            return s\n",
    "        except:\n",
    "            return None"
   ]
  },
  {
   "cell_type": "code",
   "execution_count": 3,
   "metadata": {},
   "outputs": [
    {
     "output_type": "stream",
     "name": "stdout",
     "text": [
      "<class 'pandas.core.frame.DataFrame'>\nRangeIndex: 15000 entries, 0 to 14999\nData columns (total 5 columns):\n #   Column         Non-Null Count  Dtype \n---  ------         --------------  ----- \n 0   artist         15000 non-null  object\n 1   song_name      15000 non-null  object\n 2   closest_genre  15000 non-null  object\n 3   lyric          15000 non-null  object\n 4   length_lyric   15000 non-null  int64 \ndtypes: int64(1), object(4)\nmemory usage: 586.1+ KB\n"
     ]
    }
   ],
   "source": [
    "data = pd.read_csv('lyrics_song_genres_15k.csv')\n",
    "data.info()"
   ]
  },
  {
   "cell_type": "code",
   "execution_count": 4,
   "metadata": {},
   "outputs": [
    {
     "output_type": "stream",
     "name": "stderr",
     "text": [
      "2021-02-25 12:20:04 INFO: Loading these models for language: en (English):\n",
      "=========================\n",
      "| Processor | Package   |\n",
      "-------------------------\n",
      "| tokenize  | combined  |\n",
      "| pos       | combined  |\n",
      "| lemma     | combined  |\n",
      "| depparse  | combined  |\n",
      "| sentiment | sstplus   |\n",
      "| ner       | ontonotes |\n",
      "=========================\n",
      "\n",
      "2021-02-25 12:20:04 INFO: Use device: gpu\n",
      "2021-02-25 12:20:04 INFO: Loading: tokenize\n",
      "2021-02-25 12:20:07 INFO: Loading: pos\n",
      "2021-02-25 12:20:08 INFO: Loading: lemma\n",
      "2021-02-25 12:20:08 INFO: Loading: depparse\n",
      "2021-02-25 12:20:08 INFO: Loading: sentiment\n",
      "2021-02-25 12:20:09 INFO: Loading: ner\n",
      "2021-02-25 12:20:10 INFO: Done loading processors!\n"
     ]
    }
   ],
   "source": [
    "pos_tagger =  st.Pipeline(lang='en')"
   ]
  },
  {
   "cell_type": "code",
   "execution_count": 5,
   "metadata": {},
   "outputs": [
    {
     "output_type": "execute_result",
     "data": {
      "text/plain": [
       "\"I'm sorry for the things I've done\\nI know that I'm the foolish one\\nNow that I see who's to blame\\nI'm so ashamed, I'm sorry\\n\\nI'm sorry for the things I've said\\nJust like a child I lost my head\\nI should have known from the start\\nI'd break your heart, I'm sorry\\n\\nPlease be kind and I know you'll find\\nIts so easy to forgive\\nDarling, wait for its not too late\\nGive our love a chance to live\\n\\nI know the heartaches you've been through\\nI know for I've had heartaches, too\\nThere's nothing more I can do\\nBut say to you I'm sorry\\n\\nDarling, I'm truly sorry\""
      ]
     },
     "metadata": {},
     "execution_count": 5
    }
   ],
   "source": [
    "data.lyric[890]"
   ]
  },
  {
   "cell_type": "code",
   "execution_count": 6,
   "metadata": {},
   "outputs": [
    {
     "output_type": "execute_result",
     "data": {
      "text/plain": [
       "[\"it's a junkie dream makes you so uptight\",\n",
       " \"yeah it's halloween tonight and every night\",\n",
       " 'see you scratch (see it on) your skin',\n",
       " 'your sandpaper throat',\n",
       " \"you're a symphony, man, with one fucking note\",\n",
       " 'how they beat you up week after week',\n",
       " \"and when you grow up you're going to be a freak\",\n",
       " \"want a violent girl who's not scared of anything\",\n",
       " 'help me kill my time',\n",
       " \"'cause I'll never be fine\",\n",
       " 'help me kill my time',\n",
       " 'you went down to look at old dallas town',\n",
       " 'where you must be sick just to hang around',\n",
       " 'seen it on tv how to kill your man',\n",
       " \"then like gacy's scene a canvas in your hand\",\n",
       " \"you better call your mom she's out looking for you\",\n",
       " 'in the jail and the army and the hospital too',\n",
       " \"but those people there couldn't do anything for you\",\n",
       " 'help me kill my time',\n",
       " \"'cause I'll never be fine\",\n",
       " 'help me kill my time',\n",
       " 'help me kill my time',\n",
       " 'help me kill my time',\n",
       " \"'cause I'll never be fine\",\n",
       " 'help me kill my time']"
      ]
     },
     "metadata": {},
     "execution_count": 6
    }
   ],
   "source": [
    "line_tokenize(data.lyric[0])"
   ]
  },
  {
   "cell_type": "code",
   "execution_count": 7,
   "metadata": {},
   "outputs": [
    {
     "output_type": "execute_result",
     "data": {
      "text/plain": [
       "25"
      ]
     },
     "metadata": {},
     "execution_count": 7
    }
   ],
   "source": [
    "len(line_tokenize(data.lyric[0]))"
   ]
  },
  {
   "cell_type": "code",
   "execution_count": 8,
   "metadata": {},
   "outputs": [],
   "source": [
    "lines = '. '.join(line_tokenize(data.lyric[0]))"
   ]
  },
  {
   "cell_type": "code",
   "execution_count": 9,
   "metadata": {},
   "outputs": [
    {
     "output_type": "stream",
     "name": "stdout",
     "text": [
      "word: it\tupos: PRON\txpos: PRP\tfeats: Case=Nom|Gender=Neut|Number=Sing|Person=3|PronType=Prs\nword: 's\tupos: AUX\txpos: VBZ\tfeats: Mood=Ind|Number=Sing|Person=3|Tense=Pres|VerbForm=Fin\nword: a\tupos: DET\txpos: DT\tfeats: Definite=Ind|PronType=Art\nword: junkie\tupos: NOUN\txpos: NN\tfeats: Number=Sing\nword: dream\tupos: NOUN\txpos: NN\tfeats: Number=Sing\nword: makes\tupos: VERB\txpos: VBZ\tfeats: Mood=Ind|Number=Sing|Person=3|Tense=Pres|VerbForm=Fin\nword: you\tupos: PRON\txpos: PRP\tfeats: Case=Acc|Person=2|PronType=Prs\nword: so\tupos: ADV\txpos: RB\tfeats: _\nword: uptight\tupos: ADJ\txpos: JJ\tfeats: Degree=Pos\nword: .\tupos: PUNCT\txpos: .\tfeats: _\nword: yeah\tupos: INTJ\txpos: UH\tfeats: _\nword: it\tupos: PRON\txpos: PRP\tfeats: Case=Nom|Gender=Neut|Number=Sing|Person=3|PronType=Prs\nword: 's\tupos: AUX\txpos: VBZ\tfeats: Mood=Ind|Number=Sing|Person=3|Tense=Pres|VerbForm=Fin\nword: halloween\tupos: NOUN\txpos: NN\tfeats: Number=Sing\nword: tonight\tupos: NOUN\txpos: NN\tfeats: Number=Sing\nword: and\tupos: CCONJ\txpos: CC\tfeats: _\nword: every\tupos: DET\txpos: DT\tfeats: _\nword: night\tupos: NOUN\txpos: NN\tfeats: Number=Sing\nword: .\tupos: PUNCT\txpos: .\tfeats: _\nword: see\tupos: VERB\txpos: VB\tfeats: Mood=Imp|VerbForm=Fin\nword: you\tupos: PRON\txpos: PRP\tfeats: Case=Nom|Person=2|PronType=Prs\nword: scratch\tupos: NOUN\txpos: NN\tfeats: Number=Sing\nword: (\tupos: PUNCT\txpos: -LRB-\tfeats: _\nword: see\tupos: VERB\txpos: VB\tfeats: Mood=Imp|VerbForm=Fin\nword: it\tupos: PRON\txpos: PRP\tfeats: Case=Acc|Gender=Neut|Number=Sing|Person=3|PronType=Prs\nword: on\tupos: ADP\txpos: IN\tfeats: _\nword: )\tupos: PUNCT\txpos: -RRB-\tfeats: _\nword: your\tupos: PRON\txpos: PRP$\tfeats: Person=2|Poss=Yes|PronType=Prs\nword: skin\tupos: NOUN\txpos: NN\tfeats: Number=Sing\nword: .\tupos: PUNCT\txpos: .\tfeats: _\nword: your\tupos: PRON\txpos: PRP$\tfeats: Person=2|Poss=Yes|PronType=Prs\nword: sandpaper\tupos: NOUN\txpos: NN\tfeats: Number=Sing\nword: throat\tupos: NOUN\txpos: NN\tfeats: Number=Sing\nword: .\tupos: PUNCT\txpos: .\tfeats: _\nword: you\tupos: PRON\txpos: PRP\tfeats: Case=Nom|Person=2|PronType=Prs\nword: 're\tupos: AUX\txpos: VBP\tfeats: Mood=Ind|Tense=Pres|VerbForm=Fin\nword: a\tupos: DET\txpos: DT\tfeats: Definite=Ind|PronType=Art\nword: symphony\tupos: NOUN\txpos: NN\tfeats: Number=Sing\nword: ,\tupos: PUNCT\txpos: ,\tfeats: _\nword: man\tupos: NOUN\txpos: NN\tfeats: Number=Sing\nword: ,\tupos: PUNCT\txpos: ,\tfeats: _\nword: with\tupos: ADP\txpos: IN\tfeats: _\nword: one\tupos: NUM\txpos: CD\tfeats: NumType=Card\nword: fucking\tupos: NOUN\txpos: NN\tfeats: Number=Sing\nword: note\tupos: NOUN\txpos: NN\tfeats: Number=Sing\nword: .\tupos: PUNCT\txpos: .\tfeats: _\nword: how\tupos: SCONJ\txpos: WRB\tfeats: PronType=Int\nword: they\tupos: PRON\txpos: PRP\tfeats: Case=Nom|Number=Plur|Person=3|PronType=Prs\nword: beat\tupos: VERB\txpos: VBP\tfeats: Mood=Ind|Tense=Pres|VerbForm=Fin\nword: you\tupos: PRON\txpos: PRP\tfeats: Case=Acc|Person=2|PronType=Prs\nword: up\tupos: ADP\txpos: RP\tfeats: _\nword: week\tupos: NOUN\txpos: NN\tfeats: Number=Sing\nword: after\tupos: ADP\txpos: IN\tfeats: _\nword: week\tupos: NOUN\txpos: NN\tfeats: Number=Sing\nword: .\tupos: PUNCT\txpos: .\tfeats: _\nword: and\tupos: CCONJ\txpos: CC\tfeats: _\nword: when\tupos: SCONJ\txpos: WRB\tfeats: PronType=Int\nword: you\tupos: PRON\txpos: PRP\tfeats: Case=Nom|Person=2|PronType=Prs\nword: grow\tupos: VERB\txpos: VBP\tfeats: Mood=Ind|Tense=Pres|VerbForm=Fin\nword: up\tupos: ADP\txpos: RP\tfeats: _\nword: you\tupos: PRON\txpos: PRP\tfeats: Case=Nom|Person=2|PronType=Prs\nword: 're\tupos: AUX\txpos: VBP\tfeats: Mood=Ind|Tense=Pres|VerbForm=Fin\nword: going\tupos: VERB\txpos: VBG\tfeats: Tense=Pres|VerbForm=Part\nword: to\tupos: PART\txpos: TO\tfeats: _\nword: be\tupos: AUX\txpos: VB\tfeats: VerbForm=Inf\nword: a\tupos: DET\txpos: DT\tfeats: Definite=Ind|PronType=Art\nword: freak\tupos: NOUN\txpos: NN\tfeats: Number=Sing\nword: .\tupos: PUNCT\txpos: .\tfeats: _\nword: want\tupos: VERB\txpos: VB\tfeats: Mood=Ind|VerbForm=Fin\nword: a\tupos: DET\txpos: DT\tfeats: Definite=Ind|PronType=Art\nword: violent\tupos: ADJ\txpos: JJ\tfeats: Degree=Pos\nword: girl\tupos: NOUN\txpos: NN\tfeats: Number=Sing\nword: who\tupos: PRON\txpos: WP\tfeats: PronType=Rel\nword: 's\tupos: AUX\txpos: VBZ\tfeats: Mood=Ind|Number=Sing|Person=3|Tense=Pres|VerbForm=Fin\nword: not\tupos: PART\txpos: RB\tfeats: _\nword: scared\tupos: ADJ\txpos: JJ\tfeats: Degree=Pos\nword: of\tupos: ADP\txpos: IN\tfeats: _\nword: anything\tupos: PRON\txpos: NN\tfeats: Number=Sing\nword: .\tupos: PUNCT\txpos: .\tfeats: _\nword: help\tupos: VERB\txpos: VB\tfeats: Mood=Imp|VerbForm=Fin\nword: me\tupos: PRON\txpos: PRP\tfeats: Case=Acc|Number=Sing|Person=1|PronType=Prs\nword: kill\tupos: VERB\txpos: VB\tfeats: VerbForm=Inf\nword: my\tupos: PRON\txpos: PRP$\tfeats: Number=Sing|Person=1|Poss=Yes|PronType=Prs\nword: time\tupos: NOUN\txpos: NN\tfeats: Number=Sing\nword: .\tupos: PUNCT\txpos: .\tfeats: _\nword: '\tupos: PUNCT\txpos: ``\tfeats: _\nword: cause\tupos: SCONJ\txpos: IN\tfeats: _\nword: I\tupos: PRON\txpos: PRP\tfeats: Case=Nom|Number=Sing|Person=1|PronType=Prs\nword: 'll\tupos: AUX\txpos: MD\tfeats: VerbForm=Fin\nword: never\tupos: ADV\txpos: RB\tfeats: _\nword: be\tupos: AUX\txpos: VB\tfeats: VerbForm=Inf\nword: fine\tupos: ADJ\txpos: JJ\tfeats: Degree=Pos\nword: .\tupos: PUNCT\txpos: .\tfeats: _\nword: help\tupos: VERB\txpos: VB\tfeats: Mood=Imp|VerbForm=Fin\nword: me\tupos: PRON\txpos: PRP\tfeats: Case=Acc|Number=Sing|Person=1|PronType=Prs\nword: kill\tupos: VERB\txpos: VB\tfeats: VerbForm=Inf\nword: my\tupos: PRON\txpos: PRP$\tfeats: Number=Sing|Person=1|Poss=Yes|PronType=Prs\nword: time\tupos: NOUN\txpos: NN\tfeats: Number=Sing\nword: .\tupos: PUNCT\txpos: .\tfeats: _\nword: you\tupos: PRON\txpos: PRP\tfeats: Case=Nom|Person=2|PronType=Prs\nword: went\tupos: VERB\txpos: VBD\tfeats: Mood=Ind|Tense=Past|VerbForm=Fin\nword: down\tupos: ADV\txpos: RB\tfeats: _\nword: to\tupos: PART\txpos: TO\tfeats: _\nword: look\tupos: VERB\txpos: VB\tfeats: VerbForm=Inf\nword: at\tupos: ADP\txpos: IN\tfeats: _\nword: old\tupos: ADJ\txpos: JJ\tfeats: Degree=Pos\nword: dallas\tupos: PROPN\txpos: NNP\tfeats: Number=Sing\nword: town\tupos: NOUN\txpos: NN\tfeats: Number=Sing\nword: .\tupos: PUNCT\txpos: .\tfeats: _\nword: where\tupos: ADV\txpos: WRB\tfeats: PronType=Int\nword: you\tupos: PRON\txpos: PRP\tfeats: Case=Nom|Person=2|PronType=Prs\nword: must\tupos: AUX\txpos: MD\tfeats: VerbForm=Fin\nword: be\tupos: AUX\txpos: VB\tfeats: VerbForm=Inf\nword: sick\tupos: ADJ\txpos: JJ\tfeats: Degree=Pos\nword: just\tupos: ADV\txpos: RB\tfeats: _\nword: to\tupos: PART\txpos: TO\tfeats: _\nword: hang\tupos: VERB\txpos: VB\tfeats: VerbForm=Inf\nword: around\tupos: ADV\txpos: RB\tfeats: _\nword: .\tupos: PUNCT\txpos: .\tfeats: _\nword: seen\tupos: VERB\txpos: VBN\tfeats: Tense=Past|VerbForm=Part\nword: it\tupos: PRON\txpos: PRP\tfeats: Case=Acc|Gender=Neut|Number=Sing|Person=3|PronType=Prs\nword: on\tupos: ADP\txpos: IN\tfeats: _\nword: tv\tupos: NOUN\txpos: NN\tfeats: Number=Sing\nword: how\tupos: SCONJ\txpos: WRB\tfeats: PronType=Int\nword: to\tupos: PART\txpos: TO\tfeats: _\nword: kill\tupos: VERB\txpos: VB\tfeats: VerbForm=Inf\nword: your\tupos: PRON\txpos: PRP$\tfeats: Person=2|Poss=Yes|PronType=Prs\nword: man\tupos: NOUN\txpos: NN\tfeats: Number=Sing\nword: .\tupos: PUNCT\txpos: .\tfeats: _\nword: then\tupos: ADV\txpos: RB\tfeats: PronType=Dem\nword: like\tupos: ADP\txpos: IN\tfeats: _\nword: gacy\tupos: PROPN\txpos: NNP\tfeats: Number=Sing\nword: 's\tupos: PART\txpos: POS\tfeats: _\nword: scene\tupos: NOUN\txpos: NN\tfeats: Number=Sing\nword: a\tupos: DET\txpos: DT\tfeats: Definite=Ind|PronType=Art\nword: canvas\tupos: NOUN\txpos: NN\tfeats: Number=Sing\nword: in\tupos: ADP\txpos: IN\tfeats: _\nword: your\tupos: PRON\txpos: PRP$\tfeats: Person=2|Poss=Yes|PronType=Prs\nword: hand\tupos: NOUN\txpos: NN\tfeats: Number=Sing\nword: .\tupos: PUNCT\txpos: .\tfeats: _\nword: you\tupos: PRON\txpos: PRP\tfeats: Case=Nom|Person=2|PronType=Prs\nword: better\tupos: ADV\txpos: RBR\tfeats: Degree=Cmp\nword: call\tupos: VERB\txpos: VB\tfeats: VerbForm=Inf\nword: your\tupos: PRON\txpos: PRP$\tfeats: Person=2|Poss=Yes|PronType=Prs\nword: mom\tupos: NOUN\txpos: NN\tfeats: Number=Sing\nword: she\tupos: PRON\txpos: PRP\tfeats: Case=Nom|Gender=Fem|Number=Sing|Person=3|PronType=Prs\nword: 's\tupos: AUX\txpos: VBZ\tfeats: Mood=Ind|Number=Sing|Person=3|Tense=Pres|VerbForm=Fin\nword: out\tupos: ADV\txpos: RB\tfeats: _\nword: looking\tupos: VERB\txpos: VBG\tfeats: VerbForm=Ger\nword: for\tupos: ADP\txpos: IN\tfeats: _\nword: you\tupos: PRON\txpos: PRP\tfeats: Case=Acc|Person=2|PronType=Prs\nword: .\tupos: PUNCT\txpos: .\tfeats: _\nword: in\tupos: ADP\txpos: IN\tfeats: _\nword: the\tupos: DET\txpos: DT\tfeats: Definite=Def|PronType=Art\nword: jail\tupos: NOUN\txpos: NN\tfeats: Number=Sing\nword: and\tupos: CCONJ\txpos: CC\tfeats: _\nword: the\tupos: DET\txpos: DT\tfeats: Definite=Def|PronType=Art\nword: army\tupos: NOUN\txpos: NN\tfeats: Number=Sing\nword: and\tupos: CCONJ\txpos: CC\tfeats: _\nword: the\tupos: DET\txpos: DT\tfeats: Definite=Def|PronType=Art\nword: hospital\tupos: NOUN\txpos: NN\tfeats: Number=Sing\nword: too\tupos: ADV\txpos: RB\tfeats: _\nword: .\tupos: PUNCT\txpos: .\tfeats: _\nword: but\tupos: CCONJ\txpos: CC\tfeats: _\nword: those\tupos: DET\txpos: DT\tfeats: Number=Plur|PronType=Dem\nword: people\tupos: NOUN\txpos: NNS\tfeats: Number=Plur\nword: there\tupos: PRON\txpos: EX\tfeats: _\nword: could\tupos: AUX\txpos: MD\tfeats: VerbForm=Fin\nword: n't\tupos: PART\txpos: RB\tfeats: _\nword: do\tupos: VERB\txpos: VB\tfeats: VerbForm=Inf\nword: anything\tupos: PRON\txpos: NN\tfeats: Number=Sing\nword: for\tupos: ADP\txpos: IN\tfeats: _\nword: you\tupos: PRON\txpos: PRP\tfeats: Case=Acc|Person=2|PronType=Prs\nword: .\tupos: PUNCT\txpos: .\tfeats: _\nword: help\tupos: VERB\txpos: VB\tfeats: Mood=Imp|VerbForm=Fin\nword: me\tupos: PRON\txpos: PRP\tfeats: Case=Acc|Number=Sing|Person=1|PronType=Prs\nword: kill\tupos: VERB\txpos: VB\tfeats: VerbForm=Inf\nword: my\tupos: PRON\txpos: PRP$\tfeats: Number=Sing|Person=1|Poss=Yes|PronType=Prs\nword: time\tupos: NOUN\txpos: NN\tfeats: Number=Sing\nword: .\tupos: PUNCT\txpos: .\tfeats: _\nword: '\tupos: PUNCT\txpos: ``\tfeats: _\nword: cause\tupos: SCONJ\txpos: IN\tfeats: _\nword: I\tupos: PRON\txpos: PRP\tfeats: Case=Nom|Number=Sing|Person=1|PronType=Prs\nword: 'll\tupos: AUX\txpos: MD\tfeats: VerbForm=Fin\nword: never\tupos: ADV\txpos: RB\tfeats: _\nword: be\tupos: AUX\txpos: VB\tfeats: VerbForm=Inf\nword: fine\tupos: ADJ\txpos: JJ\tfeats: Degree=Pos\nword: .\tupos: PUNCT\txpos: .\tfeats: _\nword: help\tupos: VERB\txpos: VB\tfeats: Mood=Imp|VerbForm=Fin\nword: me\tupos: PRON\txpos: PRP\tfeats: Case=Acc|Number=Sing|Person=1|PronType=Prs\nword: kill\tupos: VERB\txpos: VB\tfeats: VerbForm=Inf\nword: my\tupos: PRON\txpos: PRP$\tfeats: Number=Sing|Person=1|Poss=Yes|PronType=Prs\nword: time\tupos: NOUN\txpos: NN\tfeats: Number=Sing\nword: .\tupos: PUNCT\txpos: .\tfeats: _\nword: help\tupos: VERB\txpos: VB\tfeats: Mood=Imp|VerbForm=Fin\nword: me\tupos: PRON\txpos: PRP\tfeats: Case=Acc|Number=Sing|Person=1|PronType=Prs\nword: kill\tupos: VERB\txpos: VB\tfeats: VerbForm=Inf\nword: my\tupos: PRON\txpos: PRP$\tfeats: Number=Sing|Person=1|Poss=Yes|PronType=Prs\nword: time\tupos: NOUN\txpos: NN\tfeats: Number=Sing\nword: .\tupos: PUNCT\txpos: .\tfeats: _\nword: help\tupos: VERB\txpos: VB\tfeats: Mood=Imp|VerbForm=Fin\nword: me\tupos: PRON\txpos: PRP\tfeats: Case=Acc|Number=Sing|Person=1|PronType=Prs\nword: kill\tupos: VERB\txpos: VB\tfeats: VerbForm=Inf\nword: my\tupos: PRON\txpos: PRP$\tfeats: Number=Sing|Person=1|Poss=Yes|PronType=Prs\nword: time\tupos: NOUN\txpos: NN\tfeats: Number=Sing\nword: .\tupos: PUNCT\txpos: .\tfeats: _\nword: '\tupos: PUNCT\txpos: ``\tfeats: _\nword: cause\tupos: SCONJ\txpos: IN\tfeats: _\nword: I\tupos: PRON\txpos: PRP\tfeats: Case=Nom|Number=Sing|Person=1|PronType=Prs\nword: 'll\tupos: AUX\txpos: MD\tfeats: VerbForm=Fin\nword: never\tupos: ADV\txpos: RB\tfeats: _\nword: be\tupos: AUX\txpos: VB\tfeats: VerbForm=Inf\nword: fine\tupos: ADJ\txpos: JJ\tfeats: Degree=Pos\nword: .\tupos: PUNCT\txpos: .\tfeats: _\nword: help\tupos: VERB\txpos: VB\tfeats: Mood=Imp|VerbForm=Fin\nword: me\tupos: PRON\txpos: PRP\tfeats: Case=Acc|Number=Sing|Person=1|PronType=Prs\nword: kill\tupos: VERB\txpos: VB\tfeats: VerbForm=Inf\nword: my\tupos: PRON\txpos: PRP$\tfeats: Number=Sing|Person=1|Poss=Yes|PronType=Prs\nword: time\tupos: NOUN\txpos: NN\tfeats: Number=Sing\n"
     ]
    }
   ],
   "source": [
    "lines = '. '.join(line_tokenize(data.lyric[0]))\n",
    "doc = pos_tagger(lines)\n",
    "print(*[f'word: {word.text}\\tupos: {word.upos}\\txpos: {word.xpos}\\tfeats: {word.feats if word.feats else \"_\"}' for sent in doc.sentences for word in sent.words], sep='\\n')"
   ]
  },
  {
   "cell_type": "code",
   "execution_count": 10,
   "metadata": {},
   "outputs": [
    {
     "output_type": "execute_result",
     "data": {
      "text/plain": [
       "25"
      ]
     },
     "metadata": {},
     "execution_count": 10
    }
   ],
   "source": [
    "len(doc.sentences)"
   ]
  },
  {
   "cell_type": "code",
   "execution_count": 11,
   "metadata": {},
   "outputs": [
    {
     "output_type": "stream",
     "name": "stdout",
     "text": [
      "it's a junkie dream makes you so uptight\nyeah it's halloween tonight and every night\nsee you scratch (see it on) your skin\nyour sandpaper throat\nyou're a symphony, man, with one fucking note\nhow they beat you up week after week\nand when you grow up you're going to be a freak\nwant a violent girl who's not scared of anything\nhelp me kill my time\n'cause I'll never be fine\nhelp me kill my time\nyou went down to look at old dallas town\nwhere you must be sick just to hang around\nseen it on tv how to kill your man\nthen like gacy's scene a canvas in your hand\nyou better call your mom she's out looking for you\nin the jail and the army and the hospital too\nbut those people there couldn't do anything for you\nhelp me kill my time\n'cause I'll never be fine\nhelp me kill my time\nhelp me kill my time\nhelp me kill my time\n'cause I'll never be fine\nhelp me kill my time\n"
     ]
    }
   ],
   "source": [
    "# Get the max length of the sentence\n",
    "\n",
    "for lyrics in data.lyric:\n",
    "    print(lyrics)\n",
    "    break"
   ]
  },
  {
   "cell_type": "code",
   "execution_count": 12,
   "metadata": {},
   "outputs": [
    {
     "output_type": "stream",
     "name": "stdout",
     "text": [
      "('it', 6, 'nsubj')\n(\"'s\", 5, 'cop')\n('a', 5, 'det')\n('junkie', 5, 'compound')\n('dream', 6, 'nsubj')\n('makes', 0, 'root')\n('you', 6, 'obj')\n('so', 9, 'advmod')\n('uptight', 6, 'xcomp')\n('.', 6, 'punct')\n"
     ]
    }
   ],
   "source": [
    "doc.sentences[0].print_dependencies()"
   ]
  },
  {
   "cell_type": "code",
   "execution_count": 13,
   "metadata": {},
   "outputs": [
    {
     "output_type": "error",
     "ename": "NameError",
     "evalue": "name 'temp' is not defined",
     "traceback": [
      "\u001b[1;31m---------------------------------------------------------------------------\u001b[0m",
      "\u001b[1;31mNameError\u001b[0m                                 Traceback (most recent call last)",
      "\u001b[1;32m<ipython-input-13-4581271cb2ae>\u001b[0m in \u001b[0;36m<module>\u001b[1;34m\u001b[0m\n\u001b[1;32m----> 1\u001b[1;33m \u001b[0mlen\u001b[0m\u001b[1;33m(\u001b[0m\u001b[0mtemp\u001b[0m\u001b[1;33m.\u001b[0m\u001b[0msentences\u001b[0m\u001b[1;33m)\u001b[0m\u001b[1;33m\u001b[0m\u001b[1;33m\u001b[0m\u001b[0m\n\u001b[0m",
      "\u001b[1;31mNameError\u001b[0m: name 'temp' is not defined"
     ]
    }
   ],
   "source": [
    "len(temp.sentences)"
   ]
  },
  {
   "cell_type": "code",
   "execution_count": null,
   "metadata": {},
   "outputs": [],
   "source": [
    "temp_ln = line_tokenize(data.lyric[0])\n",
    "index = max(range(len(temp_ln)), key=lambda i: len(temp_ln[i]))"
   ]
  },
  {
   "cell_type": "code",
   "execution_count": 3,
   "metadata": {},
   "outputs": [
    {
     "output_type": "error",
     "ename": "NameError",
     "evalue": "name 'data' is not defined",
     "traceback": [
      "\u001b[1;31m---------------------------------------------------------------------------\u001b[0m",
      "\u001b[1;31mNameError\u001b[0m                                 Traceback (most recent call last)",
      "\u001b[1;32m<ipython-input-3-b414a2c75bbe>\u001b[0m in \u001b[0;36m<module>\u001b[1;34m\u001b[0m\n\u001b[1;32m----> 1\u001b[1;33m \u001b[0mdoc\u001b[0m \u001b[1;33m=\u001b[0m \u001b[0mline_tokenize\u001b[0m\u001b[1;33m(\u001b[0m\u001b[0mdata\u001b[0m\u001b[1;33m.\u001b[0m\u001b[0mlyric\u001b[0m\u001b[1;33m[\u001b[0m\u001b[1;36m0\u001b[0m\u001b[1;33m]\u001b[0m\u001b[1;33m)\u001b[0m\u001b[1;33m\u001b[0m\u001b[1;33m\u001b[0m\u001b[0m\n\u001b[0m\u001b[0;32m      2\u001b[0m \u001b[0mindex\u001b[0m \u001b[1;33m=\u001b[0m \u001b[0mmax\u001b[0m\u001b[1;33m(\u001b[0m\u001b[0mrange\u001b[0m\u001b[1;33m(\u001b[0m\u001b[0mlen\u001b[0m\u001b[1;33m(\u001b[0m\u001b[0mdoc\u001b[0m\u001b[1;33m)\u001b[0m\u001b[1;33m)\u001b[0m\u001b[1;33m,\u001b[0m \u001b[0mkey\u001b[0m\u001b[1;33m=\u001b[0m\u001b[1;32mlambda\u001b[0m \u001b[0mi\u001b[0m\u001b[1;33m:\u001b[0m \u001b[0mlen\u001b[0m\u001b[1;33m(\u001b[0m\u001b[0mword_tokenize\u001b[0m\u001b[1;33m(\u001b[0m\u001b[0mdoc\u001b[0m\u001b[1;33m[\u001b[0m\u001b[0mi\u001b[0m\u001b[1;33m]\u001b[0m\u001b[1;33m)\u001b[0m\u001b[1;33m)\u001b[0m\u001b[1;33m)\u001b[0m\u001b[1;33m\u001b[0m\u001b[1;33m\u001b[0m\u001b[0m\n\u001b[0;32m      3\u001b[0m \u001b[0mcurr_max_length\u001b[0m \u001b[1;33m=\u001b[0m \u001b[0mlen\u001b[0m\u001b[1;33m(\u001b[0m\u001b[0mword_tokenize\u001b[0m\u001b[1;33m(\u001b[0m\u001b[0mdoc\u001b[0m\u001b[1;33m[\u001b[0m\u001b[0mindex\u001b[0m\u001b[1;33m]\u001b[0m\u001b[1;33m)\u001b[0m\u001b[1;33m)\u001b[0m\u001b[1;33m\u001b[0m\u001b[1;33m\u001b[0m\u001b[0m\n",
      "\u001b[1;31mNameError\u001b[0m: name 'data' is not defined"
     ]
    }
   ],
   "source": [
    "doc = line_tokenize(data.lyric[0])\n",
    "index = max(range(len(doc)), key=lambda i: len(word_tokenize(doc[i])))\n",
    "curr_max_length = len(word_tokenize(doc[index]))"
   ]
  },
  {
   "cell_type": "code",
   "execution_count": null,
   "metadata": {},
   "outputs": [],
   "source": [
    "len(temp_ln[index])"
   ]
  },
  {
   "cell_type": "code",
   "execution_count": null,
   "metadata": {},
   "outputs": [],
   "source": [
    "index"
   ]
  },
  {
   "cell_type": "code",
   "execution_count": null,
   "metadata": {},
   "outputs": [],
   "source": [
    "temp = pos_tagger(line_tokenize(data.lyric[0])[0])"
   ]
  },
  {
   "cell_type": "code",
   "execution_count": 40,
   "metadata": {},
   "outputs": [
    {
     "output_type": "stream",
     "name": "stdout",
     "text": [
      "_dependencies\n_doc\n_ents\n_process_tokens\n_sentiment\n_text\n_tokens\n_words\nadd_property\nbuild_dependencies\nbuild_ents\ndependencies\ndependencies_string\ndoc\nentities\nents\nprint_dependencies\nprint_tokens\nprint_words\nsentiment\ntext\nto_dict\ntokens\ntokens_string\nwords\nwords_string\n"
     ]
    },
    {
     "output_type": "execute_result",
     "data": {
      "text/plain": [
       "[None,\n",
       " None,\n",
       " None,\n",
       " None,\n",
       " None,\n",
       " None,\n",
       " None,\n",
       " None,\n",
       " None,\n",
       " None,\n",
       " None,\n",
       " None,\n",
       " None,\n",
       " None,\n",
       " None,\n",
       " None,\n",
       " None,\n",
       " None,\n",
       " None,\n",
       " None,\n",
       " None,\n",
       " None,\n",
       " None,\n",
       " None,\n",
       " None,\n",
       " None]"
      ]
     },
     "metadata": {},
     "execution_count": 40
    }
   ],
   "source": [
    "[print(k) for k in dir(temp.sentences[0]) if not(k.startswith('__'))]"
   ]
  },
  {
   "cell_type": "code",
   "execution_count": 52,
   "metadata": {},
   "outputs": [
    {
     "output_type": "stream",
     "name": "stdout",
     "text": [
      "Help on method print_dependencies in module stanza.models.common.doc:\n\nprint_dependencies(file=None) method of stanza.models.common.doc.Sentence instance\n    Print the dependencies for this sentence.\n\n"
     ]
    }
   ],
   "source": [
    "help(temp.sentences[0].print_dependencies)"
   ]
  },
  {
   "cell_type": "code",
   "execution_count": 65,
   "metadata": {},
   "outputs": [
    {
     "output_type": "execute_result",
     "data": {
      "text/plain": [
       "\"<Word id=1;text=it;lemma=it;upos=PRON;xpos=PRP;feats=Case=Nom|Gender=Neut|Number=Sing|Person=3|PronType=Prs;head=5;deprel=nsubj>\\n<Word id=2;text='s;lemma=be;upos=AUX;xpos=VBZ;feats=Mood=Ind|Number=Sing|Person=3|Tense=Pres|VerbForm=Fin;head=5;deprel=cop>\\n<Word id=3;text=a;lemma=a;upos=DET;xpos=DT;feats=Definite=Ind|PronType=Art;head=5;deprel=det>\\n<Word id=4;text=junkie;lemma=junkie;upos=NOUN;xpos=NN;feats=Number=Sing;head=5;deprel=compound>\\n<Word id=5;text=dream;lemma=dream;upos=NOUN;xpos=NN;feats=Number=Sing;head=0;deprel=root>\\n<Word id=6;text=makes;lemma=make;upos=VERB;xpos=VBZ;feats=Mood=Ind|Number=Sing|Person=3|Tense=Pres|VerbForm=Fin;head=5;deprel=parataxis>\\n<Word id=7;text=you;lemma=you;upos=PRON;xpos=PRP;feats=Case=Acc|Person=2|PronType=Prs;head=6;deprel=obj>\\n<Word id=8;text=so;lemma=so;upos=ADV;xpos=RB;head=9;deprel=advmod>\\n<Word id=9;text=uptight;lemma=uptight;upos=ADJ;xpos=JJ;feats=Degree=Pos;head=6;deprel=xcomp>\""
      ]
     },
     "metadata": {},
     "execution_count": 65
    }
   ],
   "source": [
    "temp.sentences[0].words_string()"
   ]
  },
  {
   "cell_type": "code",
   "execution_count": 137,
   "metadata": {},
   "outputs": [
    {
     "output_type": "execute_result",
     "data": {
      "text/plain": [
       "[('holidays', 0.23732487857341766),\n",
       " ('fabrics', 0.21847498416900635),\n",
       " ('exhibition', 0.21591143310070038),\n",
       " ('addict', 0.21228137612342834),\n",
       " ('treats', 0.20989646017551422),\n",
       " ('uhuh', 0.20820219814777374),\n",
       " ('eleven', 0.20598238706588745),\n",
       " ('mango', 0.20177169144153595),\n",
       " ('impatient', 0.20071011781692505),\n",
       " ('awayoh', 0.20048710703849792)]"
      ]
     },
     "metadata": {},
     "execution_count": 137
    }
   ],
   "source": [
    "song15kmodel = Word2Vec.load('fifteenklyricswv_w5ns5_notcleaned_nopad.model')\n",
    "song15kmodel.wv.similar_by_word('man')"
   ]
  },
  {
   "cell_type": "code",
   "execution_count": 140,
   "metadata": {},
   "outputs": [
    {
     "output_type": "execute_result",
     "data": {
      "text/plain": [
       "[('loading', 0.2527003288269043),\n",
       " ('peel', 0.23208048939704895),\n",
       " ('knows', 0.21555384993553162),\n",
       " ('suppers', 0.20017489790916443),\n",
       " ('tiger', 0.19861142337322235),\n",
       " ('hospital', 0.1912660002708435),\n",
       " ('legal', 0.18773692846298218),\n",
       " ('keyhole', 0.18468114733695984),\n",
       " ('latest', 0.183905690908432),\n",
       " ('vuelve', 0.18309897184371948),\n",
       " ('report', 0.18307459354400635),\n",
       " ('pouder', 0.17987167835235596),\n",
       " ('airwaves', 0.17927488684654236),\n",
       " ('ooooooooooo', 0.17830637097358704),\n",
       " ('bonny', 0.17614570260047913),\n",
       " ('fki', 0.17611578106880188),\n",
       " ('while', 0.17574569582939148),\n",
       " ('snitchin', 0.17409491539001465),\n",
       " ('martyr', 0.1732156127691269),\n",
       " ('protein', 0.17196537554264069)]"
      ]
     },
     "metadata": {},
     "execution_count": 140
    }
   ],
   "source": [
    "song15kmodel = Word2Vec.load('fifteenklyricswv_w5ns5_notcleaned_nopad.model')\n",
    "song15kmodel.wv.similar_by_word('bird', topn=20)"
   ]
  },
  {
   "cell_type": "code",
   "execution_count": 143,
   "metadata": {},
   "outputs": [],
   "source": [
    "# Pretrained word2vec\n",
    "import gensim.downloader as api\n",
    "corpus = api.load('fasttext-wiki-news-subwords-300', return_path=True)\n",
    "pretrainedwvmodel = KeyedVectors.load_word2vec_format(corpus)"
   ]
  },
  {
   "cell_type": "code",
   "execution_count": 4,
   "metadata": {},
   "outputs": [
    {
     "output_type": "error",
     "ename": "NameError",
     "evalue": "name 'pretrainedwvmodel' is not defined",
     "traceback": [
      "\u001b[1;31m---------------------------------------------------------------------------\u001b[0m",
      "\u001b[1;31mNameError\u001b[0m                                 Traceback (most recent call last)",
      "\u001b[1;32m<ipython-input-4-a9cde72ce1ab>\u001b[0m in \u001b[0;36m<module>\u001b[1;34m\u001b[0m\n\u001b[1;32m----> 1\u001b[1;33m \u001b[0mpretrainedwvmodel\u001b[0m\u001b[1;33m.\u001b[0m\u001b[0mwv\u001b[0m\u001b[1;33m.\u001b[0m\u001b[0msimilar_by_word\u001b[0m\u001b[1;33m(\u001b[0m\u001b[1;34m\"its\"\u001b[0m\u001b[1;33m,\u001b[0m \u001b[0mtopn\u001b[0m\u001b[1;33m=\u001b[0m\u001b[1;36m20\u001b[0m\u001b[1;33m)\u001b[0m\u001b[1;33m\u001b[0m\u001b[1;33m\u001b[0m\u001b[0m\n\u001b[0m",
      "\u001b[1;31mNameError\u001b[0m: name 'pretrainedwvmodel' is not defined"
     ]
    }
   ],
   "source": [
    "pretrainedwvmodel.wv.similar_by_word(\"its\", topn=20)"
   ]
  },
  {
   "cell_type": "code",
   "execution_count": 141,
   "metadata": {},
   "outputs": [
    {
     "output_type": "execute_result",
     "data": {
      "text/plain": [
       "[('rid', 0.21196430921554565),\n",
       " ('godiva', 0.2083100825548172),\n",
       " ('bikinis', 0.19742251932621002),\n",
       " ('presidential', 0.1966007500886917),\n",
       " ('planting', 0.19571252167224884),\n",
       " ('soho', 0.19409094750881195),\n",
       " ('aloud', 0.18977567553520203),\n",
       " ('fool', 0.1885804980993271),\n",
       " ('rudolph', 0.18847893178462982),\n",
       " ('slums', 0.1880977302789688),\n",
       " ('special', 0.18677836656570435),\n",
       " ('niece', 0.18477065861225128),\n",
       " ('mouths', 0.18386365473270416),\n",
       " ('refrain', 0.1827993392944336),\n",
       " ('cookies', 0.18100234866142273),\n",
       " ('cracker', 0.17837102711200714),\n",
       " ('licking', 0.17781764268875122),\n",
       " ('intuition', 0.17774252593517303),\n",
       " ('hallways', 0.1756049394607544),\n",
       " ('longhair', 0.17420703172683716)]"
      ]
     },
     "metadata": {},
     "execution_count": 141
    }
   ],
   "source": [
    "song15kmodel = Word2Vec.load('fifteenklyricswv_w5ns5_notcleaned_nopad.model')\n",
    "song15kmodel.wv.similar_by_word('bird', topn=20)"
   ]
  },
  {
   "cell_type": "code",
   "execution_count": 142,
   "metadata": {},
   "outputs": [
    {
     "output_type": "execute_result",
     "data": {
      "text/plain": [
       "[('chino', 0.19984319806098938),\n",
       " ('monster', 0.19773530960083008),\n",
       " ('physical', 0.19449383020401),\n",
       " ('rival', 0.19220104813575745),\n",
       " ('baer', 0.18757012486457825),\n",
       " ('simultaneous', 0.18317291140556335),\n",
       " ('cielo', 0.179951012134552),\n",
       " ('scattered', 0.1793053299188614),\n",
       " ('till', 0.1791701316833496),\n",
       " ('polaroid', 0.1772567331790924),\n",
       " ('domino', 0.17568251490592957),\n",
       " ('crafty', 0.17424935102462769),\n",
       " ('scandalous', 0.17367053031921387),\n",
       " ('chat', 0.17321452498435974),\n",
       " ('rockin', 0.1712748408317566),\n",
       " ('malt', 0.1703069508075714),\n",
       " ('sussed', 0.17029058933258057),\n",
       " ('monday', 0.16919627785682678),\n",
       " ('legend', 0.1690933257341385),\n",
       " ('walker', 0.16702818870544434)]"
      ]
     },
     "metadata": {},
     "execution_count": 142
    }
   ],
   "source": [
    "song15kmodel = Word2Vec.load('fifteenklyricswv_w5ns5_notcleaned_nopad_2.model')\n",
    "song15kmodel.wv.similar_by_word('bird', topn=20)"
   ]
  },
  {
   "cell_type": "code",
   "execution_count": 115,
   "metadata": {},
   "outputs": [
    {
     "output_type": "execute_result",
     "data": {
      "text/plain": [
       "[('wrists', 0.2525196075439453),\n",
       " ('theyre', 0.196501687169075),\n",
       " ('blackburn', 0.19630208611488342),\n",
       " ('their', 0.19494585692882538),\n",
       " ('helter', 0.19020254909992218),\n",
       " ('bogle', 0.1898348033428192),\n",
       " ('coloured', 0.18793581426143646),\n",
       " ('revealing', 0.1860581636428833),\n",
       " ('scaring', 0.18553043901920319),\n",
       " ('coffee', 0.18407416343688965)]"
      ]
     },
     "metadata": {},
     "execution_count": 115
    }
   ],
   "source": [
    "song15kmodel.wv.similar_by_word('paddingkosong')"
   ]
  },
  {
   "cell_type": "code",
   "execution_count": 124,
   "metadata": {},
   "outputs": [
    {
     "output_type": "execute_result",
     "data": {
      "text/plain": [
       "'i'"
      ]
     },
     "metadata": {},
     "execution_count": 124
    }
   ],
   "source": [
    "song15kmodel.wv.index2word[0]"
   ]
  },
  {
   "cell_type": "code",
   "execution_count": 153,
   "metadata": {},
   "outputs": [],
   "source": [
    "np.shape(pretrainedwvmodel.wv.vectors)\n",
    "pretrained_embedding_matrix = pretrainedwvmodel.wv.vectors\n",
    "pretrained_embedding_matrix.append(np.zeros((300,))) # Padding"
   ]
  },
  {
   "cell_type": "code",
   "execution_count": 155,
   "metadata": {},
   "outputs": [
    {
     "output_type": "execute_result",
     "data": {
      "text/plain": [
       "(300,)"
      ]
     },
     "metadata": {},
     "execution_count": 155
    }
   ],
   "source": [
    "np.shape(pretrained_embedding_matrix[0])"
   ]
  },
  {
   "cell_type": "code",
   "execution_count": 157,
   "metadata": {},
   "outputs": [
    {
     "output_type": "execute_result",
     "data": {
      "text/plain": [
       "(300,)"
      ]
     },
     "metadata": {},
     "execution_count": 157
    }
   ],
   "source": [
    "np.zeros((300,))"
   ]
  },
  {
   "cell_type": "code",
   "execution_count": 126,
   "metadata": {},
   "outputs": [
    {
     "output_type": "execute_result",
     "data": {
      "text/plain": [
       "torch.Size([17678, 300])"
      ]
     },
     "metadata": {},
     "execution_count": 126
    }
   ],
   "source": [
    "embedding_matrix = torch.FloatTensor(song15kmodel.wv.vectors)\n",
    "embedding_matrix.shape"
   ]
  },
  {
   "cell_type": "code",
   "execution_count": 128,
   "metadata": {},
   "outputs": [
    {
     "output_type": "execute_result",
     "data": {
      "text/plain": [
       "numpy.ndarray"
      ]
     },
     "metadata": {},
     "execution_count": 128
    }
   ],
   "source": [
    "type(song15kmodel.wv.vectors)"
   ]
  },
  {
   "cell_type": "code",
   "execution_count": 130,
   "metadata": {},
   "outputs": [
    {
     "output_type": "execute_result",
     "data": {
      "text/plain": [
       "300"
      ]
     },
     "metadata": {},
     "execution_count": 130
    }
   ],
   "source": [
    "len(song15kmodel.wv.vectors[0])"
   ]
  },
  {
   "cell_type": "code",
   "execution_count": 127,
   "metadata": {},
   "outputs": [
    {
     "output_type": "execute_result",
     "data": {
      "text/plain": [
       "tensor([[ 5.6029e-04,  6.7484e-04, -1.1981e-03,  ...,  1.3301e-03,\n",
       "          3.6637e-04,  4.2053e-04],\n",
       "        [ 1.2134e-03, -5.0414e-04, -1.1669e-03,  ..., -1.2215e-03,\n",
       "          1.0278e-03,  1.1553e-03],\n",
       "        [-4.1564e-04,  1.5681e-03, -3.5766e-05,  ..., -1.4893e-03,\n",
       "         -4.5380e-04, -3.9659e-05],\n",
       "        ...,\n",
       "        [-3.4245e-04,  1.0132e-03, -8.8864e-04,  ..., -7.8351e-04,\n",
       "          1.0947e-03,  1.2806e-03],\n",
       "        [-8.4348e-04, -2.5223e-04,  3.0563e-04,  ...,  6.7783e-04,\n",
       "          1.5668e-03, -7.5886e-04],\n",
       "        [ 7.4834e-04,  8.6166e-04, -1.4375e-03,  ...,  8.2994e-04,\n",
       "          2.1054e-04,  3.0171e-04]])"
      ]
     },
     "metadata": {},
     "execution_count": 127
    }
   ],
   "source": [
    "embedding_matrix"
   ]
  },
  {
   "cell_type": "code",
   "execution_count": 113,
   "metadata": {},
   "outputs": [],
   "source": [
    "def sentence_encoder(text, vocab2index):\n",
    "    tokens = text.lower().split()\n",
    "    temp = np.full(len(vocab2index), len(vocab2index)+1)\n",
    "    sentencoded = np.array([vocab2index.get(word, len(vocab2index)+1) for word in tokens])\n",
    "    length = len(sentencoded)\n",
    "    temp[:length] = sentencoded\n",
    "    return temp"
   ]
  },
  {
   "cell_type": "code",
   "execution_count": 25,
   "metadata": {},
   "outputs": [
    {
     "output_type": "execute_result",
     "data": {
      "text/plain": [
       "[1, 2, 3, 4]"
      ]
     },
     "metadata": {},
     "execution_count": 25
    }
   ],
   "source": [
    "k = []\n",
    "l = [1,2,3,4]\n",
    "k + l"
   ]
  },
  {
   "cell_type": "code",
   "execution_count": 28,
   "metadata": {},
   "outputs": [
    {
     "output_type": "execute_result",
     "data": {
      "text/plain": [
       "['__class__',\n",
       " '__delattr__',\n",
       " '__dict__',\n",
       " '__dir__',\n",
       " '__doc__',\n",
       " '__eq__',\n",
       " '__format__',\n",
       " '__ge__',\n",
       " '__getattribute__',\n",
       " '__gt__',\n",
       " '__hash__',\n",
       " '__init__',\n",
       " '__init_subclass__',\n",
       " '__le__',\n",
       " '__lt__',\n",
       " '__module__',\n",
       " '__ne__',\n",
       " '__new__',\n",
       " '__reduce__',\n",
       " '__reduce_ex__',\n",
       " '__repr__',\n",
       " '__setattr__',\n",
       " '__sizeof__',\n",
       " '__str__',\n",
       " '__subclasshook__',\n",
       " '__weakref__',\n",
       " '_dependencies',\n",
       " '_doc',\n",
       " '_ents',\n",
       " '_process_tokens',\n",
       " '_sentiment',\n",
       " '_text',\n",
       " '_tokens',\n",
       " '_words',\n",
       " 'add_property',\n",
       " 'build_dependencies',\n",
       " 'build_ents',\n",
       " 'dependencies',\n",
       " 'dependencies_string',\n",
       " 'doc',\n",
       " 'entities',\n",
       " 'ents',\n",
       " 'print_dependencies',\n",
       " 'print_tokens',\n",
       " 'print_words',\n",
       " 'sentiment',\n",
       " 'text',\n",
       " 'to_dict',\n",
       " 'tokens',\n",
       " 'tokens_string',\n",
       " 'words',\n",
       " 'words_string']"
      ]
     },
     "metadata": {},
     "execution_count": 28
    }
   ],
   "source": [
    "dir(doc.sentences[0])"
   ]
  },
  {
   "cell_type": "code",
   "execution_count": 37,
   "metadata": {
    "tags": []
   },
   "outputs": [
    {
     "output_type": "stream",
     "name": "stdout",
     "text": [
      "0\n"
     ]
    }
   ],
   "source": [
    "for i, k in data.iterrows():\n",
    "    print(i)\n",
    "    break"
   ]
  },
  {
   "cell_type": "code",
   "execution_count": 38,
   "metadata": {},
   "outputs": [
    {
     "output_type": "stream",
     "name": "stdout",
     "text": [
      "<class 'pandas.core.frame.DataFrame'>\nRangeIndex: 15000 entries, 0 to 14999\nData columns (total 5 columns):\n #   Column         Non-Null Count  Dtype \n---  ------         --------------  ----- \n 0   artist         15000 non-null  object\n 1   song_name      15000 non-null  object\n 2   closest_genre  15000 non-null  object\n 3   lyric          15000 non-null  object\n 4   length_lyric   15000 non-null  int64 \ndtypes: int64(1), object(4)\nmemory usage: 586.1+ KB\n"
     ]
    }
   ],
   "source": [
    "data.info()"
   ]
  },
  {
   "cell_type": "code",
   "execution_count": 42,
   "metadata": {},
   "outputs": [
    {
     "output_type": "error",
     "ename": "KeyboardInterrupt",
     "evalue": "",
     "traceback": [
      "\u001b[1;31m---------------------------------------------------------------------------\u001b[0m",
      "\u001b[1;31mKeyboardInterrupt\u001b[0m                         Traceback (most recent call last)",
      "\u001b[1;32m<ipython-input-42-3d981cc1f25e>\u001b[0m in \u001b[0;36m<module>\u001b[1;34m\u001b[0m\n\u001b[0;32m     12\u001b[0m     \u001b[0mtemp_ln\u001b[0m \u001b[1;33m=\u001b[0m \u001b[0mline_tokenize\u001b[0m\u001b[1;33m(\u001b[0m\u001b[0msong_info\u001b[0m\u001b[1;33m.\u001b[0m\u001b[0mlyric\u001b[0m\u001b[1;33m)\u001b[0m\u001b[1;33m\u001b[0m\u001b[1;33m\u001b[0m\u001b[0m\n\u001b[0;32m     13\u001b[0m     \u001b[0mlines\u001b[0m \u001b[1;33m=\u001b[0m \u001b[1;34m'. '\u001b[0m\u001b[1;33m.\u001b[0m\u001b[0mjoin\u001b[0m\u001b[1;33m(\u001b[0m\u001b[0mline_tokenize\u001b[0m\u001b[1;33m(\u001b[0m\u001b[0mdata\u001b[0m\u001b[1;33m.\u001b[0m\u001b[0mlyric\u001b[0m\u001b[1;33m[\u001b[0m\u001b[1;36m0\u001b[0m\u001b[1;33m]\u001b[0m\u001b[1;33m)\u001b[0m\u001b[1;33m)\u001b[0m\u001b[1;33m\u001b[0m\u001b[1;33m\u001b[0m\u001b[0m\n\u001b[1;32m---> 14\u001b[1;33m     \u001b[0mdoc\u001b[0m \u001b[1;33m=\u001b[0m \u001b[0mpos_tagger\u001b[0m\u001b[1;33m(\u001b[0m\u001b[0mlines\u001b[0m\u001b[1;33m)\u001b[0m\u001b[1;33m\u001b[0m\u001b[1;33m\u001b[0m\u001b[0m\n\u001b[0m\u001b[0;32m     15\u001b[0m     \u001b[1;32mfor\u001b[0m \u001b[0msent\u001b[0m \u001b[1;32min\u001b[0m \u001b[0mdoc\u001b[0m\u001b[1;33m.\u001b[0m\u001b[0msentences\u001b[0m\u001b[1;33m:\u001b[0m\u001b[1;33m\u001b[0m\u001b[1;33m\u001b[0m\u001b[0m\n\u001b[0;32m     16\u001b[0m         \u001b[0mcurr_max_length\u001b[0m \u001b[1;33m=\u001b[0m \u001b[1;36m0\u001b[0m\u001b[1;33m\u001b[0m\u001b[1;33m\u001b[0m\u001b[0m\n",
      "\u001b[1;32mD:\\anaconda\\envs\\nlpai\\lib\\site-packages\\stanza\\pipeline\\core.py\u001b[0m in \u001b[0;36m__call__\u001b[1;34m(self, doc)\u001b[0m\n\u001b[0;32m    208\u001b[0m         assert any([isinstance(doc, str), isinstance(doc, list),\n\u001b[0;32m    209\u001b[0m                     isinstance(doc, Document)]), 'input should be either str, list or Document'\n\u001b[1;32m--> 210\u001b[1;33m         \u001b[0mdoc\u001b[0m \u001b[1;33m=\u001b[0m \u001b[0mself\u001b[0m\u001b[1;33m.\u001b[0m\u001b[0mprocess\u001b[0m\u001b[1;33m(\u001b[0m\u001b[0mdoc\u001b[0m\u001b[1;33m)\u001b[0m\u001b[1;33m\u001b[0m\u001b[1;33m\u001b[0m\u001b[0m\n\u001b[0m\u001b[0;32m    211\u001b[0m         \u001b[1;32mreturn\u001b[0m \u001b[0mdoc\u001b[0m\u001b[1;33m\u001b[0m\u001b[1;33m\u001b[0m\u001b[0m\n\u001b[0;32m    212\u001b[0m \u001b[1;33m\u001b[0m\u001b[0m\n",
      "\u001b[1;32mD:\\anaconda\\envs\\nlpai\\lib\\site-packages\\stanza\\pipeline\\core.py\u001b[0m in \u001b[0;36mprocess\u001b[1;34m(self, doc)\u001b[0m\n\u001b[0;32m    202\u001b[0m             \u001b[1;32mif\u001b[0m \u001b[0mself\u001b[0m\u001b[1;33m.\u001b[0m\u001b[0mprocessors\u001b[0m\u001b[1;33m.\u001b[0m\u001b[0mget\u001b[0m\u001b[1;33m(\u001b[0m\u001b[0mprocessor_name\u001b[0m\u001b[1;33m)\u001b[0m\u001b[1;33m:\u001b[0m\u001b[1;33m\u001b[0m\u001b[1;33m\u001b[0m\u001b[0m\n\u001b[0;32m    203\u001b[0m                 \u001b[0mprocess\u001b[0m \u001b[1;33m=\u001b[0m \u001b[0mself\u001b[0m\u001b[1;33m.\u001b[0m\u001b[0mprocessors\u001b[0m\u001b[1;33m[\u001b[0m\u001b[0mprocessor_name\u001b[0m\u001b[1;33m]\u001b[0m\u001b[1;33m.\u001b[0m\u001b[0mbulk_process\u001b[0m \u001b[1;32mif\u001b[0m \u001b[0mbulk\u001b[0m \u001b[1;32melse\u001b[0m \u001b[0mself\u001b[0m\u001b[1;33m.\u001b[0m\u001b[0mprocessors\u001b[0m\u001b[1;33m[\u001b[0m\u001b[0mprocessor_name\u001b[0m\u001b[1;33m]\u001b[0m\u001b[1;33m.\u001b[0m\u001b[0mprocess\u001b[0m\u001b[1;33m\u001b[0m\u001b[1;33m\u001b[0m\u001b[0m\n\u001b[1;32m--> 204\u001b[1;33m                 \u001b[0mdoc\u001b[0m \u001b[1;33m=\u001b[0m \u001b[0mprocess\u001b[0m\u001b[1;33m(\u001b[0m\u001b[0mdoc\u001b[0m\u001b[1;33m)\u001b[0m\u001b[1;33m\u001b[0m\u001b[1;33m\u001b[0m\u001b[0m\n\u001b[0m\u001b[0;32m    205\u001b[0m         \u001b[1;32mreturn\u001b[0m \u001b[0mdoc\u001b[0m\u001b[1;33m\u001b[0m\u001b[1;33m\u001b[0m\u001b[0m\n\u001b[0;32m    206\u001b[0m \u001b[1;33m\u001b[0m\u001b[0m\n",
      "\u001b[1;32mD:\\anaconda\\envs\\nlpai\\lib\\site-packages\\stanza\\pipeline\\depparse_processor.py\u001b[0m in \u001b[0;36mprocess\u001b[1;34m(self, document)\u001b[0m\n\u001b[0;32m     43\u001b[0m             \u001b[0mpreds\u001b[0m \u001b[1;33m=\u001b[0m \u001b[1;33m[\u001b[0m\u001b[1;33m]\u001b[0m\u001b[1;33m\u001b[0m\u001b[1;33m\u001b[0m\u001b[0m\n\u001b[0;32m     44\u001b[0m             \u001b[1;32mfor\u001b[0m \u001b[0mi\u001b[0m\u001b[1;33m,\u001b[0m \u001b[0mb\u001b[0m \u001b[1;32min\u001b[0m \u001b[0menumerate\u001b[0m\u001b[1;33m(\u001b[0m\u001b[0mbatch\u001b[0m\u001b[1;33m)\u001b[0m\u001b[1;33m:\u001b[0m\u001b[1;33m\u001b[0m\u001b[1;33m\u001b[0m\u001b[0m\n\u001b[1;32m---> 45\u001b[1;33m                 \u001b[0mpreds\u001b[0m \u001b[1;33m+=\u001b[0m \u001b[0mself\u001b[0m\u001b[1;33m.\u001b[0m\u001b[0mtrainer\u001b[0m\u001b[1;33m.\u001b[0m\u001b[0mpredict\u001b[0m\u001b[1;33m(\u001b[0m\u001b[0mb\u001b[0m\u001b[1;33m)\u001b[0m\u001b[1;33m\u001b[0m\u001b[1;33m\u001b[0m\u001b[0m\n\u001b[0m\u001b[0;32m     46\u001b[0m             \u001b[1;32mif\u001b[0m \u001b[0mbatch\u001b[0m\u001b[1;33m.\u001b[0m\u001b[0mdata_orig_idx\u001b[0m \u001b[1;32mis\u001b[0m \u001b[1;32mnot\u001b[0m \u001b[1;32mNone\u001b[0m\u001b[1;33m:\u001b[0m\u001b[1;33m\u001b[0m\u001b[1;33m\u001b[0m\u001b[0m\n\u001b[0;32m     47\u001b[0m                 \u001b[0mpreds\u001b[0m \u001b[1;33m=\u001b[0m \u001b[0munsort\u001b[0m\u001b[1;33m(\u001b[0m\u001b[0mpreds\u001b[0m\u001b[1;33m,\u001b[0m \u001b[0mbatch\u001b[0m\u001b[1;33m.\u001b[0m\u001b[0mdata_orig_idx\u001b[0m\u001b[1;33m)\u001b[0m\u001b[1;33m\u001b[0m\u001b[1;33m\u001b[0m\u001b[0m\n",
      "\u001b[1;32mD:\\anaconda\\envs\\nlpai\\lib\\site-packages\\stanza\\models\\depparse\\trainer.py\u001b[0m in \u001b[0;36mpredict\u001b[1;34m(self, batch, unsort)\u001b[0m\n\u001b[0;32m     72\u001b[0m         \u001b[0mself\u001b[0m\u001b[1;33m.\u001b[0m\u001b[0mmodel\u001b[0m\u001b[1;33m.\u001b[0m\u001b[0meval\u001b[0m\u001b[1;33m(\u001b[0m\u001b[1;33m)\u001b[0m\u001b[1;33m\u001b[0m\u001b[1;33m\u001b[0m\u001b[0m\n\u001b[0;32m     73\u001b[0m         \u001b[0mbatch_size\u001b[0m \u001b[1;33m=\u001b[0m \u001b[0mword\u001b[0m\u001b[1;33m.\u001b[0m\u001b[0msize\u001b[0m\u001b[1;33m(\u001b[0m\u001b[1;36m0\u001b[0m\u001b[1;33m)\u001b[0m\u001b[1;33m\u001b[0m\u001b[1;33m\u001b[0m\u001b[0m\n\u001b[1;32m---> 74\u001b[1;33m         \u001b[0m_\u001b[0m\u001b[1;33m,\u001b[0m \u001b[0mpreds\u001b[0m \u001b[1;33m=\u001b[0m \u001b[0mself\u001b[0m\u001b[1;33m.\u001b[0m\u001b[0mmodel\u001b[0m\u001b[1;33m(\u001b[0m\u001b[0mword\u001b[0m\u001b[1;33m,\u001b[0m \u001b[0mword_mask\u001b[0m\u001b[1;33m,\u001b[0m \u001b[0mwordchars\u001b[0m\u001b[1;33m,\u001b[0m \u001b[0mwordchars_mask\u001b[0m\u001b[1;33m,\u001b[0m \u001b[0mupos\u001b[0m\u001b[1;33m,\u001b[0m \u001b[0mxpos\u001b[0m\u001b[1;33m,\u001b[0m \u001b[0mufeats\u001b[0m\u001b[1;33m,\u001b[0m \u001b[0mpretrained\u001b[0m\u001b[1;33m,\u001b[0m \u001b[0mlemma\u001b[0m\u001b[1;33m,\u001b[0m \u001b[0mhead\u001b[0m\u001b[1;33m,\u001b[0m \u001b[0mdeprel\u001b[0m\u001b[1;33m,\u001b[0m \u001b[0mword_orig_idx\u001b[0m\u001b[1;33m,\u001b[0m \u001b[0msentlens\u001b[0m\u001b[1;33m,\u001b[0m \u001b[0mwordlens\u001b[0m\u001b[1;33m)\u001b[0m\u001b[1;33m\u001b[0m\u001b[1;33m\u001b[0m\u001b[0m\n\u001b[0m\u001b[0;32m     75\u001b[0m         \u001b[0mhead_seqs\u001b[0m \u001b[1;33m=\u001b[0m \u001b[1;33m[\u001b[0m\u001b[0mchuliu_edmonds_one_root\u001b[0m\u001b[1;33m(\u001b[0m\u001b[0madj\u001b[0m\u001b[1;33m[\u001b[0m\u001b[1;33m:\u001b[0m\u001b[0ml\u001b[0m\u001b[1;33m,\u001b[0m \u001b[1;33m:\u001b[0m\u001b[0ml\u001b[0m\u001b[1;33m]\u001b[0m\u001b[1;33m)\u001b[0m\u001b[1;33m[\u001b[0m\u001b[1;36m1\u001b[0m\u001b[1;33m:\u001b[0m\u001b[1;33m]\u001b[0m \u001b[1;32mfor\u001b[0m \u001b[0madj\u001b[0m\u001b[1;33m,\u001b[0m \u001b[0ml\u001b[0m \u001b[1;32min\u001b[0m \u001b[0mzip\u001b[0m\u001b[1;33m(\u001b[0m\u001b[0mpreds\u001b[0m\u001b[1;33m[\u001b[0m\u001b[1;36m0\u001b[0m\u001b[1;33m]\u001b[0m\u001b[1;33m,\u001b[0m \u001b[0msentlens\u001b[0m\u001b[1;33m)\u001b[0m\u001b[1;33m]\u001b[0m \u001b[1;31m# remove attachment for the root\u001b[0m\u001b[1;33m\u001b[0m\u001b[1;33m\u001b[0m\u001b[0m\n\u001b[0;32m     76\u001b[0m         \u001b[0mdeprel_seqs\u001b[0m \u001b[1;33m=\u001b[0m \u001b[1;33m[\u001b[0m\u001b[0mself\u001b[0m\u001b[1;33m.\u001b[0m\u001b[0mvocab\u001b[0m\u001b[1;33m[\u001b[0m\u001b[1;34m'deprel'\u001b[0m\u001b[1;33m]\u001b[0m\u001b[1;33m.\u001b[0m\u001b[0munmap\u001b[0m\u001b[1;33m(\u001b[0m\u001b[1;33m[\u001b[0m\u001b[0mpreds\u001b[0m\u001b[1;33m[\u001b[0m\u001b[1;36m1\u001b[0m\u001b[1;33m]\u001b[0m\u001b[1;33m[\u001b[0m\u001b[0mi\u001b[0m\u001b[1;33m]\u001b[0m\u001b[1;33m[\u001b[0m\u001b[0mj\u001b[0m\u001b[1;33m+\u001b[0m\u001b[1;36m1\u001b[0m\u001b[1;33m]\u001b[0m\u001b[1;33m[\u001b[0m\u001b[0mh\u001b[0m\u001b[1;33m]\u001b[0m \u001b[1;32mfor\u001b[0m \u001b[0mj\u001b[0m\u001b[1;33m,\u001b[0m \u001b[0mh\u001b[0m \u001b[1;32min\u001b[0m \u001b[0menumerate\u001b[0m\u001b[1;33m(\u001b[0m\u001b[0mhs\u001b[0m\u001b[1;33m)\u001b[0m\u001b[1;33m]\u001b[0m\u001b[1;33m)\u001b[0m \u001b[1;32mfor\u001b[0m \u001b[0mi\u001b[0m\u001b[1;33m,\u001b[0m \u001b[0mhs\u001b[0m \u001b[1;32min\u001b[0m \u001b[0menumerate\u001b[0m\u001b[1;33m(\u001b[0m\u001b[0mhead_seqs\u001b[0m\u001b[1;33m)\u001b[0m\u001b[1;33m]\u001b[0m\u001b[1;33m\u001b[0m\u001b[1;33m\u001b[0m\u001b[0m\n",
      "\u001b[1;32mD:\\anaconda\\envs\\nlpai\\lib\\site-packages\\torch\\nn\\modules\\module.py\u001b[0m in \u001b[0;36m_call_impl\u001b[1;34m(self, *input, **kwargs)\u001b[0m\n\u001b[0;32m    725\u001b[0m             \u001b[0mresult\u001b[0m \u001b[1;33m=\u001b[0m \u001b[0mself\u001b[0m\u001b[1;33m.\u001b[0m\u001b[0m_slow_forward\u001b[0m\u001b[1;33m(\u001b[0m\u001b[1;33m*\u001b[0m\u001b[0minput\u001b[0m\u001b[1;33m,\u001b[0m \u001b[1;33m**\u001b[0m\u001b[0mkwargs\u001b[0m\u001b[1;33m)\u001b[0m\u001b[1;33m\u001b[0m\u001b[1;33m\u001b[0m\u001b[0m\n\u001b[0;32m    726\u001b[0m         \u001b[1;32melse\u001b[0m\u001b[1;33m:\u001b[0m\u001b[1;33m\u001b[0m\u001b[1;33m\u001b[0m\u001b[0m\n\u001b[1;32m--> 727\u001b[1;33m             \u001b[0mresult\u001b[0m \u001b[1;33m=\u001b[0m \u001b[0mself\u001b[0m\u001b[1;33m.\u001b[0m\u001b[0mforward\u001b[0m\u001b[1;33m(\u001b[0m\u001b[1;33m*\u001b[0m\u001b[0minput\u001b[0m\u001b[1;33m,\u001b[0m \u001b[1;33m**\u001b[0m\u001b[0mkwargs\u001b[0m\u001b[1;33m)\u001b[0m\u001b[1;33m\u001b[0m\u001b[1;33m\u001b[0m\u001b[0m\n\u001b[0m\u001b[0;32m    728\u001b[0m         for hook in itertools.chain(\n\u001b[0;32m    729\u001b[0m                 \u001b[0m_global_forward_hooks\u001b[0m\u001b[1;33m.\u001b[0m\u001b[0mvalues\u001b[0m\u001b[1;33m(\u001b[0m\u001b[1;33m)\u001b[0m\u001b[1;33m,\u001b[0m\u001b[1;33m\u001b[0m\u001b[1;33m\u001b[0m\u001b[0m\n",
      "\u001b[1;32mD:\\anaconda\\envs\\nlpai\\lib\\site-packages\\stanza\\models\\depparse\\model.py\u001b[0m in \u001b[0;36mforward\u001b[1;34m(self, word, word_mask, wordchars, wordchars_mask, upos, xpos, ufeats, pretrained, lemma, head, deprel, word_orig_idx, sentlens, wordlens)\u001b[0m\n\u001b[0;32m    131\u001b[0m         \u001b[0mlstm_inputs\u001b[0m \u001b[1;33m=\u001b[0m \u001b[0mPackedSequence\u001b[0m\u001b[1;33m(\u001b[0m\u001b[0mlstm_inputs\u001b[0m\u001b[1;33m,\u001b[0m \u001b[0minputs\u001b[0m\u001b[1;33m[\u001b[0m\u001b[1;36m0\u001b[0m\u001b[1;33m]\u001b[0m\u001b[1;33m.\u001b[0m\u001b[0mbatch_sizes\u001b[0m\u001b[1;33m)\u001b[0m\u001b[1;33m\u001b[0m\u001b[1;33m\u001b[0m\u001b[0m\n\u001b[0;32m    132\u001b[0m \u001b[1;33m\u001b[0m\u001b[0m\n\u001b[1;32m--> 133\u001b[1;33m         \u001b[0mlstm_outputs\u001b[0m\u001b[1;33m,\u001b[0m \u001b[0m_\u001b[0m \u001b[1;33m=\u001b[0m \u001b[0mself\u001b[0m\u001b[1;33m.\u001b[0m\u001b[0mparserlstm\u001b[0m\u001b[1;33m(\u001b[0m\u001b[0mlstm_inputs\u001b[0m\u001b[1;33m,\u001b[0m \u001b[0msentlens\u001b[0m\u001b[1;33m,\u001b[0m \u001b[0mhx\u001b[0m\u001b[1;33m=\u001b[0m\u001b[1;33m(\u001b[0m\u001b[0mself\u001b[0m\u001b[1;33m.\u001b[0m\u001b[0mparserlstm_h_init\u001b[0m\u001b[1;33m.\u001b[0m\u001b[0mexpand\u001b[0m\u001b[1;33m(\u001b[0m\u001b[1;36m2\u001b[0m \u001b[1;33m*\u001b[0m \u001b[0mself\u001b[0m\u001b[1;33m.\u001b[0m\u001b[0margs\u001b[0m\u001b[1;33m[\u001b[0m\u001b[1;34m'num_layers'\u001b[0m\u001b[1;33m]\u001b[0m\u001b[1;33m,\u001b[0m \u001b[0mword\u001b[0m\u001b[1;33m.\u001b[0m\u001b[0msize\u001b[0m\u001b[1;33m(\u001b[0m\u001b[1;36m0\u001b[0m\u001b[1;33m)\u001b[0m\u001b[1;33m,\u001b[0m \u001b[0mself\u001b[0m\u001b[1;33m.\u001b[0m\u001b[0margs\u001b[0m\u001b[1;33m[\u001b[0m\u001b[1;34m'hidden_dim'\u001b[0m\u001b[1;33m]\u001b[0m\u001b[1;33m)\u001b[0m\u001b[1;33m.\u001b[0m\u001b[0mcontiguous\u001b[0m\u001b[1;33m(\u001b[0m\u001b[1;33m)\u001b[0m\u001b[1;33m,\u001b[0m \u001b[0mself\u001b[0m\u001b[1;33m.\u001b[0m\u001b[0mparserlstm_c_init\u001b[0m\u001b[1;33m.\u001b[0m\u001b[0mexpand\u001b[0m\u001b[1;33m(\u001b[0m\u001b[1;36m2\u001b[0m \u001b[1;33m*\u001b[0m \u001b[0mself\u001b[0m\u001b[1;33m.\u001b[0m\u001b[0margs\u001b[0m\u001b[1;33m[\u001b[0m\u001b[1;34m'num_layers'\u001b[0m\u001b[1;33m]\u001b[0m\u001b[1;33m,\u001b[0m \u001b[0mword\u001b[0m\u001b[1;33m.\u001b[0m\u001b[0msize\u001b[0m\u001b[1;33m(\u001b[0m\u001b[1;36m0\u001b[0m\u001b[1;33m)\u001b[0m\u001b[1;33m,\u001b[0m \u001b[0mself\u001b[0m\u001b[1;33m.\u001b[0m\u001b[0margs\u001b[0m\u001b[1;33m[\u001b[0m\u001b[1;34m'hidden_dim'\u001b[0m\u001b[1;33m]\u001b[0m\u001b[1;33m)\u001b[0m\u001b[1;33m.\u001b[0m\u001b[0mcontiguous\u001b[0m\u001b[1;33m(\u001b[0m\u001b[1;33m)\u001b[0m\u001b[1;33m)\u001b[0m\u001b[1;33m)\u001b[0m\u001b[1;33m\u001b[0m\u001b[1;33m\u001b[0m\u001b[0m\n\u001b[0m\u001b[0;32m    134\u001b[0m         \u001b[0mlstm_outputs\u001b[0m\u001b[1;33m,\u001b[0m \u001b[0m_\u001b[0m \u001b[1;33m=\u001b[0m \u001b[0mpad_packed_sequence\u001b[0m\u001b[1;33m(\u001b[0m\u001b[0mlstm_outputs\u001b[0m\u001b[1;33m,\u001b[0m \u001b[0mbatch_first\u001b[0m\u001b[1;33m=\u001b[0m\u001b[1;32mTrue\u001b[0m\u001b[1;33m)\u001b[0m\u001b[1;33m\u001b[0m\u001b[1;33m\u001b[0m\u001b[0m\n\u001b[0;32m    135\u001b[0m \u001b[1;33m\u001b[0m\u001b[0m\n",
      "\u001b[1;32mD:\\anaconda\\envs\\nlpai\\lib\\site-packages\\torch\\nn\\modules\\module.py\u001b[0m in \u001b[0;36m_call_impl\u001b[1;34m(self, *input, **kwargs)\u001b[0m\n\u001b[0;32m    725\u001b[0m             \u001b[0mresult\u001b[0m \u001b[1;33m=\u001b[0m \u001b[0mself\u001b[0m\u001b[1;33m.\u001b[0m\u001b[0m_slow_forward\u001b[0m\u001b[1;33m(\u001b[0m\u001b[1;33m*\u001b[0m\u001b[0minput\u001b[0m\u001b[1;33m,\u001b[0m \u001b[1;33m**\u001b[0m\u001b[0mkwargs\u001b[0m\u001b[1;33m)\u001b[0m\u001b[1;33m\u001b[0m\u001b[1;33m\u001b[0m\u001b[0m\n\u001b[0;32m    726\u001b[0m         \u001b[1;32melse\u001b[0m\u001b[1;33m:\u001b[0m\u001b[1;33m\u001b[0m\u001b[1;33m\u001b[0m\u001b[0m\n\u001b[1;32m--> 727\u001b[1;33m             \u001b[0mresult\u001b[0m \u001b[1;33m=\u001b[0m \u001b[0mself\u001b[0m\u001b[1;33m.\u001b[0m\u001b[0mforward\u001b[0m\u001b[1;33m(\u001b[0m\u001b[1;33m*\u001b[0m\u001b[0minput\u001b[0m\u001b[1;33m,\u001b[0m \u001b[1;33m**\u001b[0m\u001b[0mkwargs\u001b[0m\u001b[1;33m)\u001b[0m\u001b[1;33m\u001b[0m\u001b[1;33m\u001b[0m\u001b[0m\n\u001b[0m\u001b[0;32m    728\u001b[0m         for hook in itertools.chain(\n\u001b[0;32m    729\u001b[0m                 \u001b[0m_global_forward_hooks\u001b[0m\u001b[1;33m.\u001b[0m\u001b[0mvalues\u001b[0m\u001b[1;33m(\u001b[0m\u001b[1;33m)\u001b[0m\u001b[1;33m,\u001b[0m\u001b[1;33m\u001b[0m\u001b[1;33m\u001b[0m\u001b[0m\n",
      "\u001b[1;32mD:\\anaconda\\envs\\nlpai\\lib\\site-packages\\stanza\\models\\common\\hlstm.py\u001b[0m in \u001b[0;36mforward\u001b[1;34m(self, input, seqlens, hx)\u001b[0m\n\u001b[0;32m    107\u001b[0m             \u001b[0mcs\u001b[0m\u001b[1;33m.\u001b[0m\u001b[0mappend\u001b[0m\u001b[1;33m(\u001b[0m\u001b[0mct\u001b[0m\u001b[1;33m)\u001b[0m\u001b[1;33m\u001b[0m\u001b[1;33m\u001b[0m\u001b[0m\n\u001b[0;32m    108\u001b[0m \u001b[1;33m\u001b[0m\u001b[0m\n\u001b[1;32m--> 109\u001b[1;33m             \u001b[0minput\u001b[0m \u001b[1;33m=\u001b[0m \u001b[0mPackedSequence\u001b[0m\u001b[1;33m(\u001b[0m\u001b[0mh\u001b[0m\u001b[1;33m.\u001b[0m\u001b[0mdata\u001b[0m \u001b[1;33m+\u001b[0m \u001b[0mtorch\u001b[0m\u001b[1;33m.\u001b[0m\u001b[0msigmoid\u001b[0m\u001b[1;33m(\u001b[0m\u001b[0mself\u001b[0m\u001b[1;33m.\u001b[0m\u001b[0mgate\u001b[0m\u001b[1;33m[\u001b[0m\u001b[0ml\u001b[0m\u001b[1;33m]\u001b[0m\u001b[1;33m(\u001b[0m\u001b[0minput\u001b[0m\u001b[1;33m.\u001b[0m\u001b[0mdata\u001b[0m\u001b[1;33m)\u001b[0m\u001b[1;33m)\u001b[0m \u001b[1;33m*\u001b[0m \u001b[0mhighway_func\u001b[0m\u001b[1;33m(\u001b[0m\u001b[0mself\u001b[0m\u001b[1;33m.\u001b[0m\u001b[0mhighway\u001b[0m\u001b[1;33m[\u001b[0m\u001b[0ml\u001b[0m\u001b[1;33m]\u001b[0m\u001b[1;33m(\u001b[0m\u001b[0minput\u001b[0m\u001b[1;33m.\u001b[0m\u001b[0mdata\u001b[0m\u001b[1;33m)\u001b[0m\u001b[1;33m)\u001b[0m\u001b[1;33m,\u001b[0m \u001b[0minput\u001b[0m\u001b[1;33m.\u001b[0m\u001b[0mbatch_sizes\u001b[0m\u001b[1;33m)\u001b[0m\u001b[1;33m\u001b[0m\u001b[1;33m\u001b[0m\u001b[0m\n\u001b[0m\u001b[0;32m    110\u001b[0m \u001b[1;33m\u001b[0m\u001b[0m\n\u001b[0;32m    111\u001b[0m         \u001b[1;32mif\u001b[0m \u001b[0mself\u001b[0m\u001b[1;33m.\u001b[0m\u001b[0mpad\u001b[0m\u001b[1;33m:\u001b[0m\u001b[1;33m\u001b[0m\u001b[1;33m\u001b[0m\u001b[0m\n",
      "\u001b[1;32mD:\\anaconda\\envs\\nlpai\\lib\\site-packages\\torch\\nn\\modules\\module.py\u001b[0m in \u001b[0;36m_call_impl\u001b[1;34m(self, *input, **kwargs)\u001b[0m\n\u001b[0;32m    725\u001b[0m             \u001b[0mresult\u001b[0m \u001b[1;33m=\u001b[0m \u001b[0mself\u001b[0m\u001b[1;33m.\u001b[0m\u001b[0m_slow_forward\u001b[0m\u001b[1;33m(\u001b[0m\u001b[1;33m*\u001b[0m\u001b[0minput\u001b[0m\u001b[1;33m,\u001b[0m \u001b[1;33m**\u001b[0m\u001b[0mkwargs\u001b[0m\u001b[1;33m)\u001b[0m\u001b[1;33m\u001b[0m\u001b[1;33m\u001b[0m\u001b[0m\n\u001b[0;32m    726\u001b[0m         \u001b[1;32melse\u001b[0m\u001b[1;33m:\u001b[0m\u001b[1;33m\u001b[0m\u001b[1;33m\u001b[0m\u001b[0m\n\u001b[1;32m--> 727\u001b[1;33m             \u001b[0mresult\u001b[0m \u001b[1;33m=\u001b[0m \u001b[0mself\u001b[0m\u001b[1;33m.\u001b[0m\u001b[0mforward\u001b[0m\u001b[1;33m(\u001b[0m\u001b[1;33m*\u001b[0m\u001b[0minput\u001b[0m\u001b[1;33m,\u001b[0m \u001b[1;33m**\u001b[0m\u001b[0mkwargs\u001b[0m\u001b[1;33m)\u001b[0m\u001b[1;33m\u001b[0m\u001b[1;33m\u001b[0m\u001b[0m\n\u001b[0m\u001b[0;32m    728\u001b[0m         for hook in itertools.chain(\n\u001b[0;32m    729\u001b[0m                 \u001b[0m_global_forward_hooks\u001b[0m\u001b[1;33m.\u001b[0m\u001b[0mvalues\u001b[0m\u001b[1;33m(\u001b[0m\u001b[1;33m)\u001b[0m\u001b[1;33m,\u001b[0m\u001b[1;33m\u001b[0m\u001b[1;33m\u001b[0m\u001b[0m\n",
      "\u001b[1;32mD:\\anaconda\\envs\\nlpai\\lib\\site-packages\\torch\\nn\\modules\\linear.py\u001b[0m in \u001b[0;36mforward\u001b[1;34m(self, input)\u001b[0m\n\u001b[0;32m     91\u001b[0m \u001b[1;33m\u001b[0m\u001b[0m\n\u001b[0;32m     92\u001b[0m     \u001b[1;32mdef\u001b[0m \u001b[0mforward\u001b[0m\u001b[1;33m(\u001b[0m\u001b[0mself\u001b[0m\u001b[1;33m,\u001b[0m \u001b[0minput\u001b[0m\u001b[1;33m:\u001b[0m \u001b[0mTensor\u001b[0m\u001b[1;33m)\u001b[0m \u001b[1;33m->\u001b[0m \u001b[0mTensor\u001b[0m\u001b[1;33m:\u001b[0m\u001b[1;33m\u001b[0m\u001b[1;33m\u001b[0m\u001b[0m\n\u001b[1;32m---> 93\u001b[1;33m         \u001b[1;32mreturn\u001b[0m \u001b[0mF\u001b[0m\u001b[1;33m.\u001b[0m\u001b[0mlinear\u001b[0m\u001b[1;33m(\u001b[0m\u001b[0minput\u001b[0m\u001b[1;33m,\u001b[0m \u001b[0mself\u001b[0m\u001b[1;33m.\u001b[0m\u001b[0mweight\u001b[0m\u001b[1;33m,\u001b[0m \u001b[0mself\u001b[0m\u001b[1;33m.\u001b[0m\u001b[0mbias\u001b[0m\u001b[1;33m)\u001b[0m\u001b[1;33m\u001b[0m\u001b[1;33m\u001b[0m\u001b[0m\n\u001b[0m\u001b[0;32m     94\u001b[0m \u001b[1;33m\u001b[0m\u001b[0m\n\u001b[0;32m     95\u001b[0m     \u001b[1;32mdef\u001b[0m \u001b[0mextra_repr\u001b[0m\u001b[1;33m(\u001b[0m\u001b[0mself\u001b[0m\u001b[1;33m)\u001b[0m \u001b[1;33m->\u001b[0m \u001b[0mstr\u001b[0m\u001b[1;33m:\u001b[0m\u001b[1;33m\u001b[0m\u001b[1;33m\u001b[0m\u001b[0m\n",
      "\u001b[1;32mD:\\anaconda\\envs\\nlpai\\lib\\site-packages\\torch\\nn\\functional.py\u001b[0m in \u001b[0;36mlinear\u001b[1;34m(input, weight, bias)\u001b[0m\n\u001b[0;32m   1688\u001b[0m     \u001b[1;32mif\u001b[0m \u001b[0minput\u001b[0m\u001b[1;33m.\u001b[0m\u001b[0mdim\u001b[0m\u001b[1;33m(\u001b[0m\u001b[1;33m)\u001b[0m \u001b[1;33m==\u001b[0m \u001b[1;36m2\u001b[0m \u001b[1;32mand\u001b[0m \u001b[0mbias\u001b[0m \u001b[1;32mis\u001b[0m \u001b[1;32mnot\u001b[0m \u001b[1;32mNone\u001b[0m\u001b[1;33m:\u001b[0m\u001b[1;33m\u001b[0m\u001b[1;33m\u001b[0m\u001b[0m\n\u001b[0;32m   1689\u001b[0m         \u001b[1;31m# fused op is marginally faster\u001b[0m\u001b[1;33m\u001b[0m\u001b[1;33m\u001b[0m\u001b[1;33m\u001b[0m\u001b[0m\n\u001b[1;32m-> 1690\u001b[1;33m         \u001b[0mret\u001b[0m \u001b[1;33m=\u001b[0m \u001b[0mtorch\u001b[0m\u001b[1;33m.\u001b[0m\u001b[0maddmm\u001b[0m\u001b[1;33m(\u001b[0m\u001b[0mbias\u001b[0m\u001b[1;33m,\u001b[0m \u001b[0minput\u001b[0m\u001b[1;33m,\u001b[0m \u001b[0mweight\u001b[0m\u001b[1;33m.\u001b[0m\u001b[0mt\u001b[0m\u001b[1;33m(\u001b[0m\u001b[1;33m)\u001b[0m\u001b[1;33m)\u001b[0m\u001b[1;33m\u001b[0m\u001b[1;33m\u001b[0m\u001b[0m\n\u001b[0m\u001b[0;32m   1691\u001b[0m     \u001b[1;32melse\u001b[0m\u001b[1;33m:\u001b[0m\u001b[1;33m\u001b[0m\u001b[1;33m\u001b[0m\u001b[0m\n\u001b[0;32m   1692\u001b[0m         \u001b[0moutput\u001b[0m \u001b[1;33m=\u001b[0m \u001b[0minput\u001b[0m\u001b[1;33m.\u001b[0m\u001b[0mmatmul\u001b[0m\u001b[1;33m(\u001b[0m\u001b[0mweight\u001b[0m\u001b[1;33m.\u001b[0m\u001b[0mt\u001b[0m\u001b[1;33m(\u001b[0m\u001b[1;33m)\u001b[0m\u001b[1;33m)\u001b[0m\u001b[1;33m\u001b[0m\u001b[1;33m\u001b[0m\u001b[0m\n",
      "\u001b[1;31mKeyboardInterrupt\u001b[0m: "
     ]
    }
   ],
   "source": [
    "lyrics_pos_tagger = {\n",
    "    'artist':[],\n",
    "    'song_name':[],\n",
    "    'song_id':[],\n",
    "    'word':[],\n",
    "    'XPOS':[],\n",
    "    'UPOS':[],\n",
    "}\n",
    "\n",
    "max_length_sent = 0\n",
    "for song_id, song_info in data.iterrows():\n",
    "    lines = '. '.join(line_tokenize(song_info.lyric))\n",
    "    doc = pos_tagger(lines)\n",
    "    for sent in doc.sentences:\n",
    "        curr_max_length = 0\n",
    "        for word in sent.words:\n",
    "            curr_max_length += 1\n",
    "            lyrics_pos_tagger['artist'].append(song_info.artist)\n",
    "            lyrics_pos_tagger['song_name'].append(song_info.song_name)\n",
    "            lyrics_pos_tagger['song_id'].append(song_id)\n",
    "            lyrics_pos_tagger['word'].append(word.text)\n",
    "            lyrics_pos_tagger['XPOS'].append(word.xpos)\n",
    "            lyrics_pos_tagger['UPOS'].append(word.upos)\n",
    "        max_length_sent = max(max_length_sent, curr_max_length)\n"
   ]
  },
  {
   "cell_type": "code",
   "execution_count": null,
   "metadata": {},
   "outputs": [],
   "source": []
  }
 ]
}