{
 "metadata": {
  "language_info": {
   "codemirror_mode": {
    "name": "ipython",
    "version": 3
   },
   "file_extension": ".py",
   "mimetype": "text/x-python",
   "name": "python",
   "nbconvert_exporter": "python",
   "pygments_lexer": "ipython3",
   "version": "3.8.5-final"
  },
  "orig_nbformat": 2,
  "kernelspec": {
   "name": "python3",
   "display_name": "Python 3.8.5 64-bit ('nlpai': conda)",
   "metadata": {
    "interpreter": {
     "hash": "63f661667cfff4a21b9f1172704ab3c7d831d3612a4dc528cd9d3281904853c9"
    }
   }
  }
 },
 "nbformat": 4,
 "nbformat_minor": 2,
 "cells": [
  {
   "cell_type": "code",
   "execution_count": 125,
   "metadata": {},
   "outputs": [],
   "source": [
    "import nltk\n",
    "import pandas as pd\n",
    "import heapq\n",
    "import pprint\n",
    "\n",
    "from nltk.tokenize import wordpunct_tokenize, blankline_tokenize, line_tokenize\n",
    "from itertools import combinations\n",
    "from nltk.corpus import stopwords\n",
    "from time import time \n",
    "from gensim.models import Word2Vec, KeyedVectors\n",
    "import multiprocessing\n",
    "\n",
    "# # tensorflow\n",
    "# import tensorflow as tf\n",
    "# from tensorflow import keras\n",
    "# from tensorflow.keras.preprocessing.sequence import pad_sequences\n",
    "from sklearn.model_selection import train_test_split\n",
    "\n",
    "# Pytorch\n",
    "import torch.nn as nn\n",
    "import torch.nn.functional as F\n",
    "import torch\n",
    "from torch.utils.data import Dataset, DataLoader\n",
    "from torch.nn.utils.rnn import pad_sequence, pack_padded_sequence, pad_packed_sequence\n",
    "\n",
    "# stanza\n",
    "import stanza as st\n",
    "\n",
    "import numpy as np\n",
    "import seaborn as sns\n",
    "import matplotlib.pyplot as plt\n",
    "%matplotlib inline"
   ]
  },
  {
   "cell_type": "code",
   "execution_count": 4,
   "metadata": {},
   "outputs": [],
   "source": [
    "# From https://www.depends-on-the-definition.com/guide-sequence-tagging-neural-networks-python/\n",
    "class SentenceGetter(object):\n",
    "    \n",
    "    def __init__(self, data):\n",
    "        self.n_sent = 1\n",
    "        self.data = data\n",
    "        self.empty = False\n",
    "        agg_func = lambda s: [(w, p, t) for w, p, t in zip(s[\"Word\"].values.tolist(),\n",
    "                                                           s[\"POS\"].values.tolist(),\n",
    "                                                           s[\"Tag\"].values.tolist())]\n",
    "        self.grouped = self.data.groupby(\"Sentence #\").apply(agg_func)\n",
    "        self.sentences = [s for s in self.grouped]\n",
    "    \n",
    "    def get_next(self):\n",
    "        try:\n",
    "            s = self.grouped[\"Sentence: {}\".format(self.n_sent)]\n",
    "            self.n_sent += 1\n",
    "            return s\n",
    "        except:\n",
    "            return None"
   ]
  },
  {
   "cell_type": "code",
   "execution_count": 6,
   "metadata": {},
   "outputs": [
    {
     "output_type": "stream",
     "name": "stdout",
     "text": [
      "<class 'pandas.core.frame.DataFrame'>\nRangeIndex: 15000 entries, 0 to 14999\nData columns (total 5 columns):\n #   Column         Non-Null Count  Dtype \n---  ------         --------------  ----- \n 0   artist         15000 non-null  object\n 1   song_name      15000 non-null  object\n 2   closest_genre  15000 non-null  object\n 3   lyric          15000 non-null  object\n 4   length_lyric   15000 non-null  int64 \ndtypes: int64(1), object(4)\nmemory usage: 586.1+ KB\n"
     ]
    }
   ],
   "source": [
    "data = pd.read_csv('lyrics_song_genres_15k.csv')\n",
    "data.info()"
   ]
  },
  {
   "cell_type": "code",
   "execution_count": 88,
   "metadata": {},
   "outputs": [
    {
     "output_type": "stream",
     "name": "stderr",
     "text": [
      "2021-02-23 10:44:30 INFO: Loading these models for language: en (English):\n",
      "=========================\n",
      "| Processor | Package   |\n",
      "-------------------------\n",
      "| tokenize  | combined  |\n",
      "| pos       | combined  |\n",
      "| lemma     | combined  |\n",
      "| depparse  | combined  |\n",
      "| sentiment | sstplus   |\n",
      "| ner       | ontonotes |\n",
      "=========================\n",
      "\n",
      "2021-02-23 10:44:30 INFO: Use device: gpu\n",
      "2021-02-23 10:44:30 INFO: Loading: tokenize\n",
      "2021-02-23 10:44:30 INFO: Loading: pos\n",
      "2021-02-23 10:44:30 INFO: Loading: lemma\n",
      "2021-02-23 10:44:30 INFO: Loading: depparse\n",
      "2021-02-23 10:44:31 INFO: Loading: sentiment\n",
      "2021-02-23 10:44:32 INFO: Loading: ner\n",
      "2021-02-23 10:44:33 INFO: Done loading processors!\n"
     ]
    }
   ],
   "source": [
    "pos_tagger =  st.Pipeline(lang='en')"
   ]
  },
  {
   "cell_type": "code",
   "execution_count": 70,
   "metadata": {},
   "outputs": [
    {
     "output_type": "execute_result",
     "data": {
      "text/plain": [
       "\"I'm sorry for the things I've done\\nI know that I'm the foolish one\\nNow that I see who's to blame\\nI'm so ashamed, I'm sorry\\n\\nI'm sorry for the things I've said\\nJust like a child I lost my head\\nI should have known from the start\\nI'd break your heart, I'm sorry\\n\\nPlease be kind and I know you'll find\\nIts so easy to forgive\\nDarling, wait for its not too late\\nGive our love a chance to live\\n\\nI know the heartaches you've been through\\nI know for I've had heartaches, too\\nThere's nothing more I can do\\nBut say to you I'm sorry\\n\\nDarling, I'm truly sorry\""
      ]
     },
     "metadata": {},
     "execution_count": 70
    }
   ],
   "source": [
    "data.lyric[890]"
   ]
  },
  {
   "cell_type": "code",
   "execution_count": 15,
   "metadata": {},
   "outputs": [
    {
     "output_type": "execute_result",
     "data": {
      "text/plain": [
       "[\"it's a junkie dream makes you so uptight\",\n",
       " \"yeah it's halloween tonight and every night\",\n",
       " 'see you scratch (see it on) your skin',\n",
       " 'your sandpaper throat',\n",
       " \"you're a symphony, man, with one fucking note\",\n",
       " 'how they beat you up week after week',\n",
       " \"and when you grow up you're going to be a freak\",\n",
       " \"want a violent girl who's not scared of anything\",\n",
       " 'help me kill my time',\n",
       " \"'cause I'll never be fine\",\n",
       " 'help me kill my time',\n",
       " 'you went down to look at old dallas town',\n",
       " 'where you must be sick just to hang around',\n",
       " 'seen it on tv how to kill your man',\n",
       " \"then like gacy's scene a canvas in your hand\",\n",
       " \"you better call your mom she's out looking for you\",\n",
       " 'in the jail and the army and the hospital too',\n",
       " \"but those people there couldn't do anything for you\",\n",
       " 'help me kill my time',\n",
       " \"'cause I'll never be fine\",\n",
       " 'help me kill my time',\n",
       " 'help me kill my time',\n",
       " 'help me kill my time',\n",
       " \"'cause I'll never be fine\",\n",
       " 'help me kill my time']"
      ]
     },
     "metadata": {},
     "execution_count": 15
    }
   ],
   "source": [
    "line_tokenize(data.lyric[0])"
   ]
  },
  {
   "cell_type": "code",
   "execution_count": 92,
   "metadata": {},
   "outputs": [
    {
     "output_type": "execute_result",
     "data": {
      "text/plain": [
       "25"
      ]
     },
     "metadata": {},
     "execution_count": 92
    }
   ],
   "source": [
    "len(line_tokenize(data.lyric[0]))"
   ]
  },
  {
   "cell_type": "code",
   "execution_count": 71,
   "metadata": {},
   "outputs": [],
   "source": [
    "lines = '. '.join(line_tokenize(data.lyric[0]))"
   ]
  },
  {
   "cell_type": "code",
   "execution_count": 89,
   "metadata": {},
   "outputs": [
    {
     "output_type": "stream",
     "name": "stdout",
     "text": [
      "word: it\tupos: PRON\txpos: PRP\tfeats: Case=Nom|Gender=Neut|Number=Sing|Person=3|PronType=Prs\nword: 's\tupos: AUX\txpos: VBZ\tfeats: Mood=Ind|Number=Sing|Person=3|Tense=Pres|VerbForm=Fin\nword: a\tupos: DET\txpos: DT\tfeats: Definite=Ind|PronType=Art\nword: junkie\tupos: NOUN\txpos: NN\tfeats: Number=Sing\nword: dream\tupos: NOUN\txpos: NN\tfeats: Number=Sing\nword: makes\tupos: VERB\txpos: VBZ\tfeats: Mood=Ind|Number=Sing|Person=3|Tense=Pres|VerbForm=Fin\nword: you\tupos: PRON\txpos: PRP\tfeats: Case=Acc|Person=2|PronType=Prs\nword: so\tupos: ADV\txpos: RB\tfeats: _\nword: uptight\tupos: ADJ\txpos: JJ\tfeats: Degree=Pos\nword: .\tupos: PUNCT\txpos: .\tfeats: _\nword: yeah\tupos: INTJ\txpos: UH\tfeats: _\nword: it\tupos: PRON\txpos: PRP\tfeats: Case=Nom|Gender=Neut|Number=Sing|Person=3|PronType=Prs\nword: 's\tupos: AUX\txpos: VBZ\tfeats: Mood=Ind|Number=Sing|Person=3|Tense=Pres|VerbForm=Fin\nword: halloween\tupos: NOUN\txpos: NN\tfeats: Number=Sing\nword: tonight\tupos: NOUN\txpos: NN\tfeats: Number=Sing\nword: and\tupos: CCONJ\txpos: CC\tfeats: _\nword: every\tupos: DET\txpos: DT\tfeats: _\nword: night\tupos: NOUN\txpos: NN\tfeats: Number=Sing\nword: .\tupos: PUNCT\txpos: .\tfeats: _\nword: see\tupos: VERB\txpos: VB\tfeats: Mood=Imp|VerbForm=Fin\nword: you\tupos: PRON\txpos: PRP\tfeats: Case=Nom|Person=2|PronType=Prs\nword: scratch\tupos: NOUN\txpos: NN\tfeats: Number=Sing\nword: (\tupos: PUNCT\txpos: -LRB-\tfeats: _\nword: see\tupos: VERB\txpos: VB\tfeats: Mood=Imp|VerbForm=Fin\nword: it\tupos: PRON\txpos: PRP\tfeats: Case=Acc|Gender=Neut|Number=Sing|Person=3|PronType=Prs\nword: on\tupos: ADP\txpos: IN\tfeats: _\nword: )\tupos: PUNCT\txpos: -RRB-\tfeats: _\nword: your\tupos: PRON\txpos: PRP$\tfeats: Person=2|Poss=Yes|PronType=Prs\nword: skin\tupos: NOUN\txpos: NN\tfeats: Number=Sing\nword: .\tupos: PUNCT\txpos: .\tfeats: _\nword: your\tupos: PRON\txpos: PRP$\tfeats: Person=2|Poss=Yes|PronType=Prs\nword: sandpaper\tupos: NOUN\txpos: NN\tfeats: Number=Sing\nword: throat\tupos: NOUN\txpos: NN\tfeats: Number=Sing\nword: .\tupos: PUNCT\txpos: .\tfeats: _\nword: you\tupos: PRON\txpos: PRP\tfeats: Case=Nom|Person=2|PronType=Prs\nword: 're\tupos: AUX\txpos: VBP\tfeats: Mood=Ind|Tense=Pres|VerbForm=Fin\nword: a\tupos: DET\txpos: DT\tfeats: Definite=Ind|PronType=Art\nword: symphony\tupos: NOUN\txpos: NN\tfeats: Number=Sing\nword: ,\tupos: PUNCT\txpos: ,\tfeats: _\nword: man\tupos: NOUN\txpos: NN\tfeats: Number=Sing\nword: ,\tupos: PUNCT\txpos: ,\tfeats: _\nword: with\tupos: ADP\txpos: IN\tfeats: _\nword: one\tupos: NUM\txpos: CD\tfeats: NumType=Card\nword: fucking\tupos: NOUN\txpos: NN\tfeats: Number=Sing\nword: note\tupos: NOUN\txpos: NN\tfeats: Number=Sing\nword: .\tupos: PUNCT\txpos: .\tfeats: _\nword: how\tupos: SCONJ\txpos: WRB\tfeats: PronType=Int\nword: they\tupos: PRON\txpos: PRP\tfeats: Case=Nom|Number=Plur|Person=3|PronType=Prs\nword: beat\tupos: VERB\txpos: VBP\tfeats: Mood=Ind|Tense=Pres|VerbForm=Fin\nword: you\tupos: PRON\txpos: PRP\tfeats: Case=Acc|Person=2|PronType=Prs\nword: up\tupos: ADP\txpos: RP\tfeats: _\nword: week\tupos: NOUN\txpos: NN\tfeats: Number=Sing\nword: after\tupos: ADP\txpos: IN\tfeats: _\nword: week\tupos: NOUN\txpos: NN\tfeats: Number=Sing\nword: .\tupos: PUNCT\txpos: .\tfeats: _\nword: and\tupos: CCONJ\txpos: CC\tfeats: _\nword: when\tupos: SCONJ\txpos: WRB\tfeats: PronType=Int\nword: you\tupos: PRON\txpos: PRP\tfeats: Case=Nom|Person=2|PronType=Prs\nword: grow\tupos: VERB\txpos: VBP\tfeats: Mood=Ind|Tense=Pres|VerbForm=Fin\nword: up\tupos: ADP\txpos: RP\tfeats: _\nword: you\tupos: PRON\txpos: PRP\tfeats: Case=Nom|Person=2|PronType=Prs\nword: 're\tupos: AUX\txpos: VBP\tfeats: Mood=Ind|Tense=Pres|VerbForm=Fin\nword: going\tupos: VERB\txpos: VBG\tfeats: Tense=Pres|VerbForm=Part\nword: to\tupos: PART\txpos: TO\tfeats: _\nword: be\tupos: AUX\txpos: VB\tfeats: VerbForm=Inf\nword: a\tupos: DET\txpos: DT\tfeats: Definite=Ind|PronType=Art\nword: freak\tupos: NOUN\txpos: NN\tfeats: Number=Sing\nword: .\tupos: PUNCT\txpos: .\tfeats: _\nword: want\tupos: VERB\txpos: VB\tfeats: Mood=Ind|VerbForm=Fin\nword: a\tupos: DET\txpos: DT\tfeats: Definite=Ind|PronType=Art\nword: violent\tupos: ADJ\txpos: JJ\tfeats: Degree=Pos\nword: girl\tupos: NOUN\txpos: NN\tfeats: Number=Sing\nword: who\tupos: PRON\txpos: WP\tfeats: PronType=Rel\nword: 's\tupos: AUX\txpos: VBZ\tfeats: Mood=Ind|Number=Sing|Person=3|Tense=Pres|VerbForm=Fin\nword: not\tupos: PART\txpos: RB\tfeats: _\nword: scared\tupos: ADJ\txpos: JJ\tfeats: Degree=Pos\nword: of\tupos: ADP\txpos: IN\tfeats: _\nword: anything\tupos: PRON\txpos: NN\tfeats: Number=Sing\nword: .\tupos: PUNCT\txpos: .\tfeats: _\nword: help\tupos: VERB\txpos: VB\tfeats: Mood=Imp|VerbForm=Fin\nword: me\tupos: PRON\txpos: PRP\tfeats: Case=Acc|Number=Sing|Person=1|PronType=Prs\nword: kill\tupos: VERB\txpos: VB\tfeats: VerbForm=Inf\nword: my\tupos: PRON\txpos: PRP$\tfeats: Number=Sing|Person=1|Poss=Yes|PronType=Prs\nword: time\tupos: NOUN\txpos: NN\tfeats: Number=Sing\nword: .\tupos: PUNCT\txpos: .\tfeats: _\nword: '\tupos: PUNCT\txpos: ``\tfeats: _\nword: cause\tupos: SCONJ\txpos: IN\tfeats: _\nword: I\tupos: PRON\txpos: PRP\tfeats: Case=Nom|Number=Sing|Person=1|PronType=Prs\nword: 'll\tupos: AUX\txpos: MD\tfeats: VerbForm=Fin\nword: never\tupos: ADV\txpos: RB\tfeats: _\nword: be\tupos: AUX\txpos: VB\tfeats: VerbForm=Inf\nword: fine\tupos: ADJ\txpos: JJ\tfeats: Degree=Pos\nword: .\tupos: PUNCT\txpos: .\tfeats: _\nword: help\tupos: VERB\txpos: VB\tfeats: Mood=Imp|VerbForm=Fin\nword: me\tupos: PRON\txpos: PRP\tfeats: Case=Acc|Number=Sing|Person=1|PronType=Prs\nword: kill\tupos: VERB\txpos: VB\tfeats: VerbForm=Inf\nword: my\tupos: PRON\txpos: PRP$\tfeats: Number=Sing|Person=1|Poss=Yes|PronType=Prs\nword: time\tupos: NOUN\txpos: NN\tfeats: Number=Sing\nword: .\tupos: PUNCT\txpos: .\tfeats: _\nword: you\tupos: PRON\txpos: PRP\tfeats: Case=Nom|Person=2|PronType=Prs\nword: went\tupos: VERB\txpos: VBD\tfeats: Mood=Ind|Tense=Past|VerbForm=Fin\nword: down\tupos: ADV\txpos: RB\tfeats: _\nword: to\tupos: PART\txpos: TO\tfeats: _\nword: look\tupos: VERB\txpos: VB\tfeats: VerbForm=Inf\nword: at\tupos: ADP\txpos: IN\tfeats: _\nword: old\tupos: ADJ\txpos: JJ\tfeats: Degree=Pos\nword: dallas\tupos: PROPN\txpos: NNP\tfeats: Number=Sing\nword: town\tupos: NOUN\txpos: NN\tfeats: Number=Sing\nword: .\tupos: PUNCT\txpos: .\tfeats: _\nword: where\tupos: ADV\txpos: WRB\tfeats: PronType=Int\nword: you\tupos: PRON\txpos: PRP\tfeats: Case=Nom|Person=2|PronType=Prs\nword: must\tupos: AUX\txpos: MD\tfeats: VerbForm=Fin\nword: be\tupos: AUX\txpos: VB\tfeats: VerbForm=Inf\nword: sick\tupos: ADJ\txpos: JJ\tfeats: Degree=Pos\nword: just\tupos: ADV\txpos: RB\tfeats: _\nword: to\tupos: PART\txpos: TO\tfeats: _\nword: hang\tupos: VERB\txpos: VB\tfeats: VerbForm=Inf\nword: around\tupos: ADV\txpos: RB\tfeats: _\nword: .\tupos: PUNCT\txpos: .\tfeats: _\nword: seen\tupos: VERB\txpos: VBN\tfeats: Tense=Past|VerbForm=Part\nword: it\tupos: PRON\txpos: PRP\tfeats: Case=Acc|Gender=Neut|Number=Sing|Person=3|PronType=Prs\nword: on\tupos: ADP\txpos: IN\tfeats: _\nword: tv\tupos: NOUN\txpos: NN\tfeats: Number=Sing\nword: how\tupos: SCONJ\txpos: WRB\tfeats: PronType=Int\nword: to\tupos: PART\txpos: TO\tfeats: _\nword: kill\tupos: VERB\txpos: VB\tfeats: VerbForm=Inf\nword: your\tupos: PRON\txpos: PRP$\tfeats: Person=2|Poss=Yes|PronType=Prs\nword: man\tupos: NOUN\txpos: NN\tfeats: Number=Sing\nword: .\tupos: PUNCT\txpos: .\tfeats: _\nword: then\tupos: ADV\txpos: RB\tfeats: PronType=Dem\nword: like\tupos: ADP\txpos: IN\tfeats: _\nword: gacy\tupos: PROPN\txpos: NNP\tfeats: Number=Sing\nword: 's\tupos: PART\txpos: POS\tfeats: _\nword: scene\tupos: NOUN\txpos: NN\tfeats: Number=Sing\nword: a\tupos: DET\txpos: DT\tfeats: Definite=Ind|PronType=Art\nword: canvas\tupos: NOUN\txpos: NN\tfeats: Number=Sing\nword: in\tupos: ADP\txpos: IN\tfeats: _\nword: your\tupos: PRON\txpos: PRP$\tfeats: Person=2|Poss=Yes|PronType=Prs\nword: hand\tupos: NOUN\txpos: NN\tfeats: Number=Sing\nword: .\tupos: PUNCT\txpos: .\tfeats: _\nword: you\tupos: PRON\txpos: PRP\tfeats: Case=Nom|Person=2|PronType=Prs\nword: better\tupos: ADV\txpos: RBR\tfeats: Degree=Cmp\nword: call\tupos: VERB\txpos: VB\tfeats: VerbForm=Inf\nword: your\tupos: PRON\txpos: PRP$\tfeats: Person=2|Poss=Yes|PronType=Prs\nword: mom\tupos: NOUN\txpos: NN\tfeats: Number=Sing\nword: she\tupos: PRON\txpos: PRP\tfeats: Case=Nom|Gender=Fem|Number=Sing|Person=3|PronType=Prs\nword: 's\tupos: AUX\txpos: VBZ\tfeats: Mood=Ind|Number=Sing|Person=3|Tense=Pres|VerbForm=Fin\nword: out\tupos: ADV\txpos: RB\tfeats: _\nword: looking\tupos: VERB\txpos: VBG\tfeats: VerbForm=Ger\nword: for\tupos: ADP\txpos: IN\tfeats: _\nword: you\tupos: PRON\txpos: PRP\tfeats: Case=Acc|Person=2|PronType=Prs\nword: .\tupos: PUNCT\txpos: .\tfeats: _\nword: in\tupos: ADP\txpos: IN\tfeats: _\nword: the\tupos: DET\txpos: DT\tfeats: Definite=Def|PronType=Art\nword: jail\tupos: NOUN\txpos: NN\tfeats: Number=Sing\nword: and\tupos: CCONJ\txpos: CC\tfeats: _\nword: the\tupos: DET\txpos: DT\tfeats: Definite=Def|PronType=Art\nword: army\tupos: NOUN\txpos: NN\tfeats: Number=Sing\nword: and\tupos: CCONJ\txpos: CC\tfeats: _\nword: the\tupos: DET\txpos: DT\tfeats: Definite=Def|PronType=Art\nword: hospital\tupos: NOUN\txpos: NN\tfeats: Number=Sing\nword: too\tupos: ADV\txpos: RB\tfeats: _\nword: .\tupos: PUNCT\txpos: .\tfeats: _\nword: but\tupos: CCONJ\txpos: CC\tfeats: _\nword: those\tupos: DET\txpos: DT\tfeats: Number=Plur|PronType=Dem\nword: people\tupos: NOUN\txpos: NNS\tfeats: Number=Plur\nword: there\tupos: PRON\txpos: EX\tfeats: _\nword: could\tupos: AUX\txpos: MD\tfeats: VerbForm=Fin\nword: n't\tupos: PART\txpos: RB\tfeats: _\nword: do\tupos: VERB\txpos: VB\tfeats: VerbForm=Inf\nword: anything\tupos: PRON\txpos: NN\tfeats: Number=Sing\nword: for\tupos: ADP\txpos: IN\tfeats: _\nword: you\tupos: PRON\txpos: PRP\tfeats: Case=Acc|Person=2|PronType=Prs\nword: .\tupos: PUNCT\txpos: .\tfeats: _\nword: help\tupos: VERB\txpos: VB\tfeats: Mood=Imp|VerbForm=Fin\nword: me\tupos: PRON\txpos: PRP\tfeats: Case=Acc|Number=Sing|Person=1|PronType=Prs\nword: kill\tupos: VERB\txpos: VB\tfeats: VerbForm=Inf\nword: my\tupos: PRON\txpos: PRP$\tfeats: Number=Sing|Person=1|Poss=Yes|PronType=Prs\nword: time\tupos: NOUN\txpos: NN\tfeats: Number=Sing\nword: .\tupos: PUNCT\txpos: .\tfeats: _\nword: '\tupos: PUNCT\txpos: ``\tfeats: _\nword: cause\tupos: SCONJ\txpos: IN\tfeats: _\nword: I\tupos: PRON\txpos: PRP\tfeats: Case=Nom|Number=Sing|Person=1|PronType=Prs\nword: 'll\tupos: AUX\txpos: MD\tfeats: VerbForm=Fin\nword: never\tupos: ADV\txpos: RB\tfeats: _\nword: be\tupos: AUX\txpos: VB\tfeats: VerbForm=Inf\nword: fine\tupos: ADJ\txpos: JJ\tfeats: Degree=Pos\nword: .\tupos: PUNCT\txpos: .\tfeats: _\nword: help\tupos: VERB\txpos: VB\tfeats: Mood=Imp|VerbForm=Fin\nword: me\tupos: PRON\txpos: PRP\tfeats: Case=Acc|Number=Sing|Person=1|PronType=Prs\nword: kill\tupos: VERB\txpos: VB\tfeats: VerbForm=Inf\nword: my\tupos: PRON\txpos: PRP$\tfeats: Number=Sing|Person=1|Poss=Yes|PronType=Prs\nword: time\tupos: NOUN\txpos: NN\tfeats: Number=Sing\nword: .\tupos: PUNCT\txpos: .\tfeats: _\nword: help\tupos: VERB\txpos: VB\tfeats: Mood=Imp|VerbForm=Fin\nword: me\tupos: PRON\txpos: PRP\tfeats: Case=Acc|Number=Sing|Person=1|PronType=Prs\nword: kill\tupos: VERB\txpos: VB\tfeats: VerbForm=Inf\nword: my\tupos: PRON\txpos: PRP$\tfeats: Number=Sing|Person=1|Poss=Yes|PronType=Prs\nword: time\tupos: NOUN\txpos: NN\tfeats: Number=Sing\nword: .\tupos: PUNCT\txpos: .\tfeats: _\nword: help\tupos: VERB\txpos: VB\tfeats: Mood=Imp|VerbForm=Fin\nword: me\tupos: PRON\txpos: PRP\tfeats: Case=Acc|Number=Sing|Person=1|PronType=Prs\nword: kill\tupos: VERB\txpos: VB\tfeats: VerbForm=Inf\nword: my\tupos: PRON\txpos: PRP$\tfeats: Number=Sing|Person=1|Poss=Yes|PronType=Prs\nword: time\tupos: NOUN\txpos: NN\tfeats: Number=Sing\nword: .\tupos: PUNCT\txpos: .\tfeats: _\nword: '\tupos: PUNCT\txpos: ``\tfeats: _\nword: cause\tupos: SCONJ\txpos: IN\tfeats: _\nword: I\tupos: PRON\txpos: PRP\tfeats: Case=Nom|Number=Sing|Person=1|PronType=Prs\nword: 'll\tupos: AUX\txpos: MD\tfeats: VerbForm=Fin\nword: never\tupos: ADV\txpos: RB\tfeats: _\nword: be\tupos: AUX\txpos: VB\tfeats: VerbForm=Inf\nword: fine\tupos: ADJ\txpos: JJ\tfeats: Degree=Pos\nword: .\tupos: PUNCT\txpos: .\tfeats: _\nword: help\tupos: VERB\txpos: VB\tfeats: Mood=Imp|VerbForm=Fin\nword: me\tupos: PRON\txpos: PRP\tfeats: Case=Acc|Number=Sing|Person=1|PronType=Prs\nword: kill\tupos: VERB\txpos: VB\tfeats: VerbForm=Inf\nword: my\tupos: PRON\txpos: PRP$\tfeats: Number=Sing|Person=1|Poss=Yes|PronType=Prs\nword: time\tupos: NOUN\txpos: NN\tfeats: Number=Sing\n"
     ]
    }
   ],
   "source": [
    "doc = pos_tagger(lines)\n",
    "print(*[f'word: {word.text}\\tupos: {word.upos}\\txpos: {word.xpos}\\tfeats: {word.feats if word.feats else \"_\"}' for sent in doc.sentences for word in sent.words], sep='\\n')"
   ]
  },
  {
   "cell_type": "code",
   "execution_count": 91,
   "metadata": {},
   "outputs": [
    {
     "output_type": "execute_result",
     "data": {
      "text/plain": [
       "25"
      ]
     },
     "metadata": {},
     "execution_count": 91
    }
   ],
   "source": [
    "len(doc.sentences)"
   ]
  },
  {
   "cell_type": "code",
   "execution_count": 94,
   "metadata": {},
   "outputs": [
    {
     "output_type": "stream",
     "name": "stdout",
     "text": [
      "it's a junkie dream makes you so uptight\nyeah it's halloween tonight and every night\nsee you scratch (see it on) your skin\nyour sandpaper throat\nyou're a symphony, man, with one fucking note\nhow they beat you up week after week\nand when you grow up you're going to be a freak\nwant a violent girl who's not scared of anything\nhelp me kill my time\n'cause I'll never be fine\nhelp me kill my time\nyou went down to look at old dallas town\nwhere you must be sick just to hang around\nseen it on tv how to kill your man\nthen like gacy's scene a canvas in your hand\nyou better call your mom she's out looking for you\nin the jail and the army and the hospital too\nbut those people there couldn't do anything for you\nhelp me kill my time\n'cause I'll never be fine\nhelp me kill my time\nhelp me kill my time\nhelp me kill my time\n'cause I'll never be fine\nhelp me kill my time\n"
     ]
    }
   ],
   "source": [
    "# Get the max length of the sentence\n",
    "\n",
    "for lyrics in data.lyric:\n",
    "    print(lyrics)\n",
    "    break"
   ]
  },
  {
   "cell_type": "code",
   "execution_count": 93,
   "metadata": {},
   "outputs": [
    {
     "output_type": "stream",
     "name": "stdout",
     "text": [
      "('it', 6, 'nsubj')\n(\"'s\", 5, 'cop')\n('a', 5, 'det')\n('junkie', 5, 'compound')\n('dream', 6, 'nsubj')\n('makes', 0, 'root')\n('you', 6, 'obj')\n('so', 9, 'advmod')\n('uptight', 6, 'xcomp')\n('.', 6, 'punct')\n"
     ]
    }
   ],
   "source": [
    "doc.sentences[0].print_dependencies()"
   ]
  },
  {
   "cell_type": "code",
   "execution_count": 73,
   "metadata": {},
   "outputs": [
    {
     "output_type": "execute_result",
     "data": {
      "text/plain": [
       "25"
      ]
     },
     "metadata": {},
     "execution_count": 73
    }
   ],
   "source": [
    "len(temp.sentences)"
   ]
  },
  {
   "cell_type": "code",
   "execution_count": 102,
   "metadata": {},
   "outputs": [],
   "source": [
    "temp_ln = line_tokenize(data.lyric[0])\n",
    "index = max(range(len(temp_ln)), key=lambda i: len(temp_ln[i]))"
   ]
  },
  {
   "cell_type": "code",
   "execution_count": 107,
   "metadata": {},
   "outputs": [
    {
     "output_type": "execute_result",
     "data": {
      "text/plain": [
       "51"
      ]
     },
     "metadata": {},
     "execution_count": 107
    }
   ],
   "source": [
    "len(temp_ln[index])"
   ]
  },
  {
   "cell_type": "code",
   "execution_count": 106,
   "metadata": {},
   "outputs": [
    {
     "output_type": "execute_result",
     "data": {
      "text/plain": [
       "17"
      ]
     },
     "metadata": {},
     "execution_count": 106
    }
   ],
   "source": [
    "index"
   ]
  },
  {
   "cell_type": "code",
   "execution_count": 32,
   "metadata": {},
   "outputs": [],
   "source": [
    "temp = pos_tagger(line_tokenize(data.lyric[0])[0])"
   ]
  },
  {
   "cell_type": "code",
   "execution_count": 40,
   "metadata": {},
   "outputs": [
    {
     "output_type": "stream",
     "name": "stdout",
     "text": [
      "_dependencies\n_doc\n_ents\n_process_tokens\n_sentiment\n_text\n_tokens\n_words\nadd_property\nbuild_dependencies\nbuild_ents\ndependencies\ndependencies_string\ndoc\nentities\nents\nprint_dependencies\nprint_tokens\nprint_words\nsentiment\ntext\nto_dict\ntokens\ntokens_string\nwords\nwords_string\n"
     ]
    },
    {
     "output_type": "execute_result",
     "data": {
      "text/plain": [
       "[None,\n",
       " None,\n",
       " None,\n",
       " None,\n",
       " None,\n",
       " None,\n",
       " None,\n",
       " None,\n",
       " None,\n",
       " None,\n",
       " None,\n",
       " None,\n",
       " None,\n",
       " None,\n",
       " None,\n",
       " None,\n",
       " None,\n",
       " None,\n",
       " None,\n",
       " None,\n",
       " None,\n",
       " None,\n",
       " None,\n",
       " None,\n",
       " None,\n",
       " None]"
      ]
     },
     "metadata": {},
     "execution_count": 40
    }
   ],
   "source": [
    "[print(k) for k in dir(temp.sentences[0]) if not(k.startswith('__'))]"
   ]
  },
  {
   "cell_type": "code",
   "execution_count": 52,
   "metadata": {},
   "outputs": [
    {
     "output_type": "stream",
     "name": "stdout",
     "text": [
      "Help on method print_dependencies in module stanza.models.common.doc:\n\nprint_dependencies(file=None) method of stanza.models.common.doc.Sentence instance\n    Print the dependencies for this sentence.\n\n"
     ]
    }
   ],
   "source": [
    "help(temp.sentences[0].print_dependencies)"
   ]
  },
  {
   "cell_type": "code",
   "execution_count": 65,
   "metadata": {},
   "outputs": [
    {
     "output_type": "execute_result",
     "data": {
      "text/plain": [
       "\"<Word id=1;text=it;lemma=it;upos=PRON;xpos=PRP;feats=Case=Nom|Gender=Neut|Number=Sing|Person=3|PronType=Prs;head=5;deprel=nsubj>\\n<Word id=2;text='s;lemma=be;upos=AUX;xpos=VBZ;feats=Mood=Ind|Number=Sing|Person=3|Tense=Pres|VerbForm=Fin;head=5;deprel=cop>\\n<Word id=3;text=a;lemma=a;upos=DET;xpos=DT;feats=Definite=Ind|PronType=Art;head=5;deprel=det>\\n<Word id=4;text=junkie;lemma=junkie;upos=NOUN;xpos=NN;feats=Number=Sing;head=5;deprel=compound>\\n<Word id=5;text=dream;lemma=dream;upos=NOUN;xpos=NN;feats=Number=Sing;head=0;deprel=root>\\n<Word id=6;text=makes;lemma=make;upos=VERB;xpos=VBZ;feats=Mood=Ind|Number=Sing|Person=3|Tense=Pres|VerbForm=Fin;head=5;deprel=parataxis>\\n<Word id=7;text=you;lemma=you;upos=PRON;xpos=PRP;feats=Case=Acc|Person=2|PronType=Prs;head=6;deprel=obj>\\n<Word id=8;text=so;lemma=so;upos=ADV;xpos=RB;head=9;deprel=advmod>\\n<Word id=9;text=uptight;lemma=uptight;upos=ADJ;xpos=JJ;feats=Degree=Pos;head=6;deprel=xcomp>\""
      ]
     },
     "metadata": {},
     "execution_count": 65
    }
   ],
   "source": [
    "temp.sentences[0].words_string()"
   ]
  },
  {
   "cell_type": "code",
   "execution_count": 114,
   "metadata": {},
   "outputs": [
    {
     "output_type": "execute_result",
     "data": {
      "text/plain": [
       "[('acute', 0.22487524151802063),\n",
       " ('warnin', 0.21497175097465515),\n",
       " ('mercenary', 0.20753176510334015),\n",
       " ('honeydew', 0.194288432598114),\n",
       " ('wham', 0.1939895898103714),\n",
       " ('lyrics', 0.190873920917511),\n",
       " ('hallway', 0.1885935366153717),\n",
       " ('regretting', 0.18697898089885712),\n",
       " ('chose', 0.18496841192245483),\n",
       " ('interstate', 0.18385101854801178)]"
      ]
     },
     "metadata": {},
     "execution_count": 114
    }
   ],
   "source": [
    "song15kmodel = Word2Vec.load('fifteenklyricswv_w5ns5.model')\n",
    "song15kmodel.wv.similar_by_word('bird')"
   ]
  },
  {
   "cell_type": "code",
   "execution_count": 115,
   "metadata": {},
   "outputs": [
    {
     "output_type": "execute_result",
     "data": {
      "text/plain": [
       "[('wrists', 0.2525196075439453),\n",
       " ('theyre', 0.196501687169075),\n",
       " ('blackburn', 0.19630208611488342),\n",
       " ('their', 0.19494585692882538),\n",
       " ('helter', 0.19020254909992218),\n",
       " ('bogle', 0.1898348033428192),\n",
       " ('coloured', 0.18793581426143646),\n",
       " ('revealing', 0.1860581636428833),\n",
       " ('scaring', 0.18553043901920319),\n",
       " ('coffee', 0.18407416343688965)]"
      ]
     },
     "metadata": {},
     "execution_count": 115
    }
   ],
   "source": [
    "song15kmodel.wv.similar_by_word('paddingkosong')"
   ]
  },
  {
   "cell_type": "code",
   "execution_count": 124,
   "metadata": {},
   "outputs": [
    {
     "output_type": "execute_result",
     "data": {
      "text/plain": [
       "'i'"
      ]
     },
     "metadata": {},
     "execution_count": 124
    }
   ],
   "source": [
    "song15kmodel.wv.index2word[0]"
   ]
  },
  {
   "cell_type": "code",
   "execution_count": 126,
   "metadata": {},
   "outputs": [
    {
     "output_type": "execute_result",
     "data": {
      "text/plain": [
       "torch.Size([17678, 300])"
      ]
     },
     "metadata": {},
     "execution_count": 126
    }
   ],
   "source": [
    "embedding_matrix = torch.FloatTensor(song15kmodel.wv.vectors)\n",
    "embedding_matrix.shape"
   ]
  },
  {
   "cell_type": "code",
   "execution_count": 127,
   "metadata": {},
   "outputs": [
    {
     "output_type": "execute_result",
     "data": {
      "text/plain": [
       "tensor([[ 5.6029e-04,  6.7484e-04, -1.1981e-03,  ...,  1.3301e-03,\n",
       "          3.6637e-04,  4.2053e-04],\n",
       "        [ 1.2134e-03, -5.0414e-04, -1.1669e-03,  ..., -1.2215e-03,\n",
       "          1.0278e-03,  1.1553e-03],\n",
       "        [-4.1564e-04,  1.5681e-03, -3.5766e-05,  ..., -1.4893e-03,\n",
       "         -4.5380e-04, -3.9659e-05],\n",
       "        ...,\n",
       "        [-3.4245e-04,  1.0132e-03, -8.8864e-04,  ..., -7.8351e-04,\n",
       "          1.0947e-03,  1.2806e-03],\n",
       "        [-8.4348e-04, -2.5223e-04,  3.0563e-04,  ...,  6.7783e-04,\n",
       "          1.5668e-03, -7.5886e-04],\n",
       "        [ 7.4834e-04,  8.6166e-04, -1.4375e-03,  ...,  8.2994e-04,\n",
       "          2.1054e-04,  3.0171e-04]])"
      ]
     },
     "metadata": {},
     "execution_count": 127
    }
   ],
   "source": [
    "embedding_matrix"
   ]
  },
  {
   "cell_type": "code",
   "execution_count": 113,
   "metadata": {},
   "outputs": [],
   "source": [
    "def sentence_encoder(text, vocab2index):\n",
    "    tokens = text.lower().split()\n",
    "    temp = np.full(len(vocab2index), vocab2index['paddingkosong'])\n",
    "    sentencoded = np.array([vocab2index.get(word, vocab2index['tidakdiketahui']) for word in tokens])\n",
    "    length = len(sentencoded)\n",
    "    temp[:length] = sentencoded\n",
    "    return temp"
   ]
  },
  {
   "cell_type": "code",
   "execution_count": null,
   "metadata": {},
   "outputs": [],
   "source": [
    "lyrics_pos_tagger = {\n",
    "    'artist':[],\n",
    "    'song_name':[],\n",
    "    'song_id':[],\n",
    "    'word':[],\n",
    "    'POS':[],\n",
    "    'tag':[],\n",
    "}\n",
    "# Inputnya nanti word2idx\n",
    "max_length_sent = 0\n",
    "for lyrics in data.lyric:\n",
    "    print(lyrics)\n",
    "    temp_ln = line_tokenize(lyrics)\n",
    "    # Nanti diganti\n",
    "    index_max = max(range(len(temp_ln)), key=lambda i: len(temp_ln[i]))\n",
    "    curr_max_length = len(temp_ln[index_max])\n",
    "    max_length_sent = max(max_length_sent, curr_max_length)\n"
   ]
  }
 ]
}