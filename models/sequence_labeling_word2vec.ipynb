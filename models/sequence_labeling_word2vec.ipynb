{
 "metadata": {
  "language_info": {
   "codemirror_mode": {
    "name": "ipython",
    "version": 3
   },
   "file_extension": ".py",
   "mimetype": "text/x-python",
   "name": "python",
   "nbconvert_exporter": "python",
   "pygments_lexer": "ipython3",
   "version": "3.8.5-final"
  },
  "orig_nbformat": 2,
  "kernelspec": {
   "name": "python3",
   "display_name": "Python 3.8.5 64-bit ('nlpai': conda)",
   "metadata": {
    "interpreter": {
     "hash": "63f661667cfff4a21b9f1172704ab3c7d831d3612a4dc528cd9d3281904853c9"
    }
   }
  }
 },
 "nbformat": 4,
 "nbformat_minor": 2,
 "cells": [
  {
   "cell_type": "code",
   "execution_count": 1,
   "metadata": {},
   "outputs": [],
   "source": [
    "import nltk\n",
    "import pandas as pd\n",
    "import heapq\n",
    "import pprint\n",
    "\n",
    "from itertools import combinations\n",
    "from nltk.corpus import stopwords\n",
    "from time import time \n",
    "from gensim.models import Word2Vec, KeyedVectors\n",
    "import multiprocessing\n",
    "\n",
    "# Pytorch\n",
    "import torch.nn as nn\n",
    "import torch.nn.functional as F\n",
    "import torch\n",
    "from torch.utils.data import Dataset, DataLoader\n",
    "from torch.nn.utils.rnn import pad_sequence, pack_padded_sequence, pad_packed_sequence\n",
    "from sklearn.model_selection import train_test_split\n",
    "\n",
    "import numpy as np\n",
    "import seaborn as sns\n",
    "import matplotlib.pyplot as plt\n",
    "%matplotlib inline"
   ]
  },
  {
   "cell_type": "code",
   "execution_count": 2,
   "metadata": {},
   "outputs": [],
   "source": [
    "pp = pprint.PrettyPrinter(indent=4)"
   ]
  },
  {
   "cell_type": "code",
   "execution_count": 3,
   "metadata": {},
   "outputs": [],
   "source": [
    "data = pd.read_csv('lyrics_song_genres_15k.csv')"
   ]
  },
  {
   "cell_type": "code",
   "execution_count": 4,
   "metadata": {},
   "outputs": [
    {
     "output_type": "stream",
     "name": "stdout",
     "text": [
      "<class 'pandas.core.frame.DataFrame'>\nRangeIndex: 15000 entries, 0 to 14999\nData columns (total 5 columns):\n #   Column         Non-Null Count  Dtype \n---  ------         --------------  ----- \n 0   artist         15000 non-null  object\n 1   song_name      15000 non-null  object\n 2   closest_genre  15000 non-null  object\n 3   lyric          15000 non-null  object\n 4   length_lyric   15000 non-null  int64 \ndtypes: int64(1), object(4)\nmemory usage: 586.1+ KB\n"
     ]
    }
   ],
   "source": [
    "data.info()"
   ]
  },
  {
   "cell_type": "code",
   "execution_count": 5,
   "metadata": {},
   "outputs": [],
   "source": [
    "wordvecmodel = Word2Vec.load(\"fifteenKlyricswv_withstopwords.model\")"
   ]
  },
  {
   "cell_type": "code",
   "execution_count": 6,
   "metadata": {},
   "outputs": [
    {
     "output_type": "stream",
     "name": "stdout",
     "text": [
      "Help on method n_similarity in module gensim.models.keyedvectors:\n\nn_similarity(ws1, ws2) method of gensim.models.keyedvectors.Word2VecKeyedVectors instance\n    Compute cosine similarity between two sets of words.\n    \n    Parameters\n    ----------\n    ws1 : list of str\n        Sequence of words.\n    ws2: list of str\n        Sequence of words.\n    \n    Returns\n    -------\n    numpy.ndarray\n        Similarities between `ws1` and `ws2`.\n\n"
     ]
    }
   ],
   "source": [
    "help(wordvecmodel.wv.n_similarity)"
   ]
  },
  {
   "cell_type": "code",
   "execution_count": 7,
   "metadata": {},
   "outputs": [
    {
     "output_type": "execute_result",
     "data": {
      "text/plain": [
       "0.012661438"
      ]
     },
     "metadata": {},
     "execution_count": 7
    }
   ],
   "source": [
    "wordvecmodel.wv.n_similarity(['free'], ['bird'])"
   ]
  },
  {
   "cell_type": "code",
   "execution_count": 8,
   "metadata": {},
   "outputs": [
    {
     "output_type": "execute_result",
     "data": {
      "text/plain": [
       "[('vrrm', 0.24073544144630432),\n",
       " ('grime', 0.23964917659759521),\n",
       " ('behindyou', 0.2216598093509674),\n",
       " ('grapefruit', 0.22020861506462097),\n",
       " ('edelite', 0.2029818296432495),\n",
       " ('hendrix', 0.20120185613632202),\n",
       " ('swiss', 0.19700834155082703),\n",
       " ('stuffing', 0.1897301971912384),\n",
       " ('coughing', 0.18902179598808289),\n",
       " ('sobbing', 0.18403658270835876)]"
      ]
     },
     "metadata": {},
     "execution_count": 8
    }
   ],
   "source": [
    "wordvecmodel.wv.similar_by_word('love')"
   ]
  },
  {
   "cell_type": "code",
   "execution_count": 9,
   "metadata": {},
   "outputs": [],
   "source": [
    "# Pretrained word2vec\n",
    "import gensim.downloader as api\n",
    "corpus = api.load('fasttext-wiki-news-subwords-300', return_path=True)\n",
    "pretrainedwvmodel = KeyedVectors.load_word2vec_format(corpus)\n"
   ]
  },
  {
   "cell_type": "code",
   "execution_count": 32,
   "metadata": {},
   "outputs": [
    {
     "output_type": "execute_result",
     "data": {
      "text/plain": [
       "[('birds', 0.8068047761917114),\n",
       " ('humming-bird', 0.7695937156677246),\n",
       " ('non-bird', 0.7675740122795105),\n",
       " ('blackbird', 0.7551830410957336),\n",
       " ('half-bird', 0.7518875598907471),\n",
       " ('birdy', 0.7404177188873291),\n",
       " ('seabird', 0.7341761589050293),\n",
       " ('bird-', 0.7330869436264038),\n",
       " ('mousebird', 0.7304574251174927),\n",
       " ('sea-bird', 0.7291219234466553)]"
      ]
     },
     "metadata": {},
     "execution_count": 32
    }
   ],
   "source": [
    "pretrainedwvmodel.wv.similar_by_word('bird')"
   ]
  },
  {
   "cell_type": "code",
   "execution_count": 12,
   "metadata": {},
   "outputs": [],
   "source": [
    "song15kmodel = Word2Vec.load('fifteenklyricswv_w5ns5.model')"
   ]
  },
  {
   "cell_type": "code",
   "execution_count": 13,
   "metadata": {},
   "outputs": [
    {
     "output_type": "execute_result",
     "data": {
      "text/plain": [
       "[('acute', 0.22487524151802063),\n",
       " ('warnin', 0.21497175097465515),\n",
       " ('mercenary', 0.20753176510334015),\n",
       " ('honeydew', 0.194288432598114),\n",
       " ('wham', 0.1939895898103714),\n",
       " ('lyrics', 0.190873920917511),\n",
       " ('hallway', 0.1885935366153717),\n",
       " ('regretting', 0.18697898089885712),\n",
       " ('chose', 0.18496841192245483),\n",
       " ('interstate', 0.18385101854801178)]"
      ]
     },
     "metadata": {},
     "execution_count": 13
    }
   ],
   "source": [
    "song15kmodel.wv.similar_by_word('bird')"
   ]
  }
 ]
}