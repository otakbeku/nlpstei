{
 "metadata": {
  "language_info": {
   "codemirror_mode": {
    "name": "ipython",
    "version": 3
   },
   "file_extension": ".py",
   "mimetype": "text/x-python",
   "name": "python",
   "nbconvert_exporter": "python",
   "pygments_lexer": "ipython3",
   "version": "3.8.5-final"
  },
  "orig_nbformat": 2,
  "kernelspec": {
   "name": "python3",
   "display_name": "Python 3.8.5 64-bit ('nlpai': conda)",
   "metadata": {
    "interpreter": {
     "hash": "63f661667cfff4a21b9f1172704ab3c7d831d3612a4dc528cd9d3281904853c9"
    }
   }
  }
 },
 "nbformat": 4,
 "nbformat_minor": 2,
 "cells": [
  {
   "cell_type": "code",
   "execution_count": 1,
   "metadata": {},
   "outputs": [],
   "source": [
    "import nltk\n",
    "from tswift import *\n",
    "import random\n",
    "import pandas as pd\n",
    "from langdetect import detect\n",
    "import requests\n",
    "import heapq \n",
    "\n",
    "from nltk.tokenize import wordpunct_tokenize, blankline_tokenize\n",
    "import spacy\n",
    "\n",
    "import statsmodels.api as sm\n",
    "from statsmodels.sandbox.regression.predstd import wls_prediction_std\n",
    "from statsmodels.stats.outliers_influence import variance_inflation_factor\n",
    "from itertools import combinations\n",
    "from nltk.corpus import stopwords\n",
    "from time import time \n",
    "from gensim.models import Word2Vec\n",
    "import multiprocessing\n",
    "\n",
    "import xmltodict\n",
    "import pprint\n",
    "import json\n",
    "import numpy as np\n",
    "import seaborn as sns\n",
    "import matplotlib.pyplot as plt\n",
    "%matplotlib inline"
   ]
  },
  {
   "cell_type": "code",
   "execution_count": 2,
   "metadata": {},
   "outputs": [],
   "source": [
    "import logging  # Setting up the loggings to monitor gensim\n",
    "logging.basicConfig(format=\"%(levelname)s - %(asctime)s: %(message)s\", datefmt= '%H:%M:%S', level=logging.INFO)"
   ]
  },
  {
   "cell_type": "code",
   "execution_count": 3,
   "metadata": {},
   "outputs": [],
   "source": [
    "pp = pprint.PrettyPrinter(indent=4)\n",
    "RANDOM_SEED = 101"
   ]
  },
  {
   "cell_type": "code",
   "execution_count": 4,
   "metadata": {},
   "outputs": [
    {
     "output_type": "stream",
     "name": "stdout",
     "text": [
      "<class 'pandas.core.frame.DataFrame'>\nRangeIndex: 10000 entries, 0 to 9999\nData columns (total 5 columns):\n #   Column         Non-Null Count  Dtype \n---  ------         --------------  ----- \n 0   Unnamed: 0     10000 non-null  int64 \n 1   artist         10000 non-null  object\n 2   song_name      10000 non-null  object\n 3   closest_genre  10000 non-null  object\n 4   lyric          10000 non-null  object\ndtypes: int64(1), object(4)\nmemory usage: 390.8+ KB\n"
     ]
    }
   ],
   "source": [
    "lyrics = pd.read_csv('song_genres_10000_48751.csv')\n",
    "lyrics.info()"
   ]
  },
  {
   "cell_type": "code",
   "execution_count": 5,
   "metadata": {},
   "outputs": [
    {
     "output_type": "execute_result",
     "data": {
      "text/plain": [
       "        Unnamed: 0\n",
       "count  10000.00000\n",
       "mean    4999.50000\n",
       "std     2886.89568\n",
       "min        0.00000\n",
       "25%     2499.75000\n",
       "50%     4999.50000\n",
       "75%     7499.25000\n",
       "max     9999.00000"
      ],
      "text/html": "<div>\n<style scoped>\n    .dataframe tbody tr th:only-of-type {\n        vertical-align: middle;\n    }\n\n    .dataframe tbody tr th {\n        vertical-align: top;\n    }\n\n    .dataframe thead th {\n        text-align: right;\n    }\n</style>\n<table border=\"1\" class=\"dataframe\">\n  <thead>\n    <tr style=\"text-align: right;\">\n      <th></th>\n      <th>Unnamed: 0</th>\n    </tr>\n  </thead>\n  <tbody>\n    <tr>\n      <th>count</th>\n      <td>10000.00000</td>\n    </tr>\n    <tr>\n      <th>mean</th>\n      <td>4999.50000</td>\n    </tr>\n    <tr>\n      <th>std</th>\n      <td>2886.89568</td>\n    </tr>\n    <tr>\n      <th>min</th>\n      <td>0.00000</td>\n    </tr>\n    <tr>\n      <th>25%</th>\n      <td>2499.75000</td>\n    </tr>\n    <tr>\n      <th>50%</th>\n      <td>4999.50000</td>\n    </tr>\n    <tr>\n      <th>75%</th>\n      <td>7499.25000</td>\n    </tr>\n    <tr>\n      <th>max</th>\n      <td>9999.00000</td>\n    </tr>\n  </tbody>\n</table>\n</div>"
     },
     "metadata": {},
     "execution_count": 5
    }
   ],
   "source": [
    "lyrics.describe()"
   ]
  },
  {
   "cell_type": "code",
   "execution_count": 6,
   "metadata": {},
   "outputs": [
    {
     "output_type": "execute_result",
     "data": {
      "text/plain": [
       "<seaborn.axisgrid.FacetGrid at 0x27adfccf4c0>"
      ]
     },
     "metadata": {},
     "execution_count": 6
    },
    {
     "output_type": "display_data",
     "data": {
      "text/plain": "<Figure size 360x360 with 1 Axes>",
      "image/svg+xml": "<?xml version=\"1.0\" encoding=\"utf-8\" standalone=\"no\"?>\r\n<!DOCTYPE svg PUBLIC \"-//W3C//DTD SVG 1.1//EN\"\r\n  \"http://www.w3.org/Graphics/SVG/1.1/DTD/svg11.dtd\">\r\n<!-- Created with matplotlib (https://matplotlib.org/) -->\r\n<svg height=\"366.434375pt\" version=\"1.1\" viewBox=\"0 0 366.778299 366.434375\" width=\"366.778299pt\" xmlns=\"http://www.w3.org/2000/svg\" xmlns:xlink=\"http://www.w3.org/1999/xlink\">\r\n <metadata>\r\n  <rdf:RDF xmlns:cc=\"http://creativecommons.org/ns#\" xmlns:dc=\"http://purl.org/dc/elements/1.1/\" xmlns:rdf=\"http://www.w3.org/1999/02/22-rdf-syntax-ns#\">\r\n   <cc:Work>\r\n    <dc:type rdf:resource=\"http://purl.org/dc/dcmitype/StillImage\"/>\r\n    <dc:date>2021-02-14T14:11:23.419222</dc:date>\r\n    <dc:format>image/svg+xml</dc:format>\r\n    <dc:creator>\r\n     <cc:Agent>\r\n      <dc:title>Matplotlib v3.3.2, https://matplotlib.org/</dc:title>\r\n     </cc:Agent>\r\n    </dc:creator>\r\n   </cc:Work>\r\n  </rdf:RDF>\r\n </metadata>\r\n <defs>\r\n  <style type=\"text/css\">*{stroke-linecap:butt;stroke-linejoin:round;}</style>\r\n </defs>\r\n <g id=\"figure_1\">\r\n  <g id=\"patch_1\">\r\n   <path d=\"M 0 366.434375 \r\nL 366.778299 366.434375 \r\nL 366.778299 0 \r\nL 0 0 \r\nz\r\n\" style=\"fill:none;\"/>\r\n  </g>\r\n  <g id=\"axes_1\">\r\n   <g id=\"patch_2\">\r\n    <path d=\"M 53.328125 328.6 \r\nL 354.450852 328.6 \r\nL 354.450852 7.2 \r\nL 53.328125 7.2 \r\nz\r\n\" style=\"fill:#ffffff;\"/>\r\n   </g>\r\n   <g id=\"patch_3\">\r\n    <path clip-path=\"url(#p5964d727db)\" d=\"M 56.065604 328.6 \r\nL 77.965439 328.6 \r\nL 77.965439 22.504762 \r\nL 56.065604 22.504762 \r\nz\r\n\" style=\"fill:#e1d6c7;\"/>\r\n   </g>\r\n   <g id=\"patch_4\">\r\n    <path clip-path=\"url(#p5964d727db)\" d=\"M 83.440398 328.6 \r\nL 105.340232 328.6 \r\nL 105.340232 312.88938 \r\nL 83.440398 312.88938 \r\nz\r\n\" style=\"fill:#d6c2b2;\"/>\r\n   </g>\r\n   <g id=\"patch_5\">\r\n    <path clip-path=\"url(#p5964d727db)\" d=\"M 110.815191 328.6 \r\nL 132.715026 328.6 \r\nL 132.715026 299.338971 \r\nL 110.815191 299.338971 \r\nz\r\n\" style=\"fill:#ccaea0;\"/>\r\n   </g>\r\n   <g id=\"patch_6\">\r\n    <path clip-path=\"url(#p5964d727db)\" d=\"M 138.189985 328.6 \r\nL 160.089819 328.6 \r\nL 160.089819 274.594745 \r\nL 138.189985 274.594745 \r\nz\r\n\" style=\"fill:#c19a92;\"/>\r\n   </g>\r\n   <g id=\"patch_7\">\r\n    <path clip-path=\"url(#p5964d727db)\" d=\"M 165.564778 328.6 \r\nL 187.464613 328.6 \r\nL 187.464613 263.859155 \r\nL 165.564778 263.859155 \r\nz\r\n\" style=\"fill:#b48686;\"/>\r\n   </g>\r\n   <g id=\"patch_8\">\r\n    <path clip-path=\"url(#p5964d727db)\" d=\"M 192.939571 328.6 \r\nL 214.839406 328.6 \r\nL 214.839406 281.140837 \r\nL 192.939571 281.140837 \r\nz\r\n\" style=\"fill:#a5737b;\"/>\r\n   </g>\r\n   <g id=\"patch_9\">\r\n    <path clip-path=\"url(#p5964d727db)\" d=\"M 220.314365 328.6 \r\nL 242.214199 328.6 \r\nL 242.214199 310.467327 \r\nL 220.314365 310.467327 \r\nz\r\n\" style=\"fill:#92606f;\"/>\r\n   </g>\r\n   <g id=\"patch_10\">\r\n    <path clip-path=\"url(#p5964d727db)\" d=\"M 247.689158 328.6 \r\nL 269.588993 328.6 \r\nL 269.588993 270.536168 \r\nL 247.689158 270.536168 \r\nz\r\n\" style=\"fill:#7d4e63;\"/>\r\n   </g>\r\n   <g id=\"patch_11\">\r\n    <path clip-path=\"url(#p5964d727db)\" d=\"M 275.063951 328.6 \r\nL 296.963786 328.6 \r\nL 296.963786 301.171877 \r\nL 275.063951 301.171877 \r\nz\r\n\" style=\"fill:#663d56;\"/>\r\n   </g>\r\n   <g id=\"patch_12\">\r\n    <path clip-path=\"url(#p5964d727db)\" d=\"M 302.438745 328.6 \r\nL 324.33858 328.6 \r\nL 324.33858 299.666276 \r\nL 302.438745 299.666276 \r\nz\r\n\" style=\"fill:#4d2d46;\"/>\r\n   </g>\r\n   <g id=\"patch_13\">\r\n    <path clip-path=\"url(#p5964d727db)\" d=\"M 329.813538 328.6 \r\nL 351.713373 328.6 \r\nL 351.713373 323.821353 \r\nL 329.813538 323.821353 \r\nz\r\n\" style=\"fill:#331e33;\"/>\r\n   </g>\r\n   <g id=\"matplotlib.axis_1\">\r\n    <g id=\"xtick_1\">\r\n     <g id=\"line2d_1\">\r\n      <defs>\r\n       <path d=\"M 0 0 \r\nL 0 3.5 \r\n\" id=\"mbfecfe18d6\" style=\"stroke:#000000;stroke-width:0.8;\"/>\r\n      </defs>\r\n      <g>\r\n       <use style=\"stroke:#000000;stroke-width:0.8;\" x=\"67.015522\" xlink:href=\"#mbfecfe18d6\" y=\"328.6\"/>\r\n      </g>\r\n     </g>\r\n     <g id=\"text_1\">\r\n      <!-- Rock -->\r\n      <g transform=\"translate(55.062397 343.198437)scale(0.1 -0.1)\">\r\n       <defs>\r\n        <path d=\"M 44.390625 34.1875 \r\nQ 47.5625 33.109375 50.5625 29.59375 \r\nQ 53.5625 26.078125 56.59375 19.921875 \r\nL 66.609375 0 \r\nL 56 0 \r\nL 46.6875 18.703125 \r\nQ 43.0625 26.03125 39.671875 28.421875 \r\nQ 36.28125 30.8125 30.421875 30.8125 \r\nL 19.671875 30.8125 \r\nL 19.671875 0 \r\nL 9.8125 0 \r\nL 9.8125 72.90625 \r\nL 32.078125 72.90625 \r\nQ 44.578125 72.90625 50.734375 67.671875 \r\nQ 56.890625 62.453125 56.890625 51.90625 \r\nQ 56.890625 45.015625 53.6875 40.46875 \r\nQ 50.484375 35.9375 44.390625 34.1875 \r\nz\r\nM 19.671875 64.796875 \r\nL 19.671875 38.921875 \r\nL 32.078125 38.921875 \r\nQ 39.203125 38.921875 42.84375 42.21875 \r\nQ 46.484375 45.515625 46.484375 51.90625 \r\nQ 46.484375 58.296875 42.84375 61.546875 \r\nQ 39.203125 64.796875 32.078125 64.796875 \r\nz\r\n\" id=\"DejaVuSans-82\"/>\r\n        <path d=\"M 30.609375 48.390625 \r\nQ 23.390625 48.390625 19.1875 42.75 \r\nQ 14.984375 37.109375 14.984375 27.296875 \r\nQ 14.984375 17.484375 19.15625 11.84375 \r\nQ 23.34375 6.203125 30.609375 6.203125 \r\nQ 37.796875 6.203125 41.984375 11.859375 \r\nQ 46.1875 17.53125 46.1875 27.296875 \r\nQ 46.1875 37.015625 41.984375 42.703125 \r\nQ 37.796875 48.390625 30.609375 48.390625 \r\nz\r\nM 30.609375 56 \r\nQ 42.328125 56 49.015625 48.375 \r\nQ 55.71875 40.765625 55.71875 27.296875 \r\nQ 55.71875 13.875 49.015625 6.21875 \r\nQ 42.328125 -1.421875 30.609375 -1.421875 \r\nQ 18.84375 -1.421875 12.171875 6.21875 \r\nQ 5.515625 13.875 5.515625 27.296875 \r\nQ 5.515625 40.765625 12.171875 48.375 \r\nQ 18.84375 56 30.609375 56 \r\nz\r\n\" id=\"DejaVuSans-111\"/>\r\n        <path d=\"M 48.78125 52.59375 \r\nL 48.78125 44.1875 \r\nQ 44.96875 46.296875 41.140625 47.34375 \r\nQ 37.3125 48.390625 33.40625 48.390625 \r\nQ 24.65625 48.390625 19.8125 42.84375 \r\nQ 14.984375 37.3125 14.984375 27.296875 \r\nQ 14.984375 17.28125 19.8125 11.734375 \r\nQ 24.65625 6.203125 33.40625 6.203125 \r\nQ 37.3125 6.203125 41.140625 7.25 \r\nQ 44.96875 8.296875 48.78125 10.40625 \r\nL 48.78125 2.09375 \r\nQ 45.015625 0.34375 40.984375 -0.53125 \r\nQ 36.96875 -1.421875 32.421875 -1.421875 \r\nQ 20.0625 -1.421875 12.78125 6.34375 \r\nQ 5.515625 14.109375 5.515625 27.296875 \r\nQ 5.515625 40.671875 12.859375 48.328125 \r\nQ 20.21875 56 33.015625 56 \r\nQ 37.15625 56 41.109375 55.140625 \r\nQ 45.0625 54.296875 48.78125 52.59375 \r\nz\r\n\" id=\"DejaVuSans-99\"/>\r\n        <path d=\"M 9.078125 75.984375 \r\nL 18.109375 75.984375 \r\nL 18.109375 31.109375 \r\nL 44.921875 54.6875 \r\nL 56.390625 54.6875 \r\nL 27.390625 29.109375 \r\nL 57.625 0 \r\nL 45.90625 0 \r\nL 18.109375 26.703125 \r\nL 18.109375 0 \r\nL 9.078125 0 \r\nz\r\n\" id=\"DejaVuSans-107\"/>\r\n       </defs>\r\n       <use xlink:href=\"#DejaVuSans-82\"/>\r\n       <use x=\"64.982422\" xlink:href=\"#DejaVuSans-111\"/>\r\n       <use x=\"126.164062\" xlink:href=\"#DejaVuSans-99\"/>\r\n       <use x=\"181.144531\" xlink:href=\"#DejaVuSans-107\"/>\r\n      </g>\r\n     </g>\r\n    </g>\r\n    <g id=\"xtick_2\">\r\n     <g id=\"line2d_2\">\r\n      <g>\r\n       <use style=\"stroke:#000000;stroke-width:0.8;\" x=\"94.390315\" xlink:href=\"#mbfecfe18d6\" y=\"328.6\"/>\r\n      </g>\r\n     </g>\r\n     <g id=\"text_2\">\r\n      <!-- Metal -->\r\n      <g transform=\"translate(80.586409 343.198437)scale(0.1 -0.1)\">\r\n       <defs>\r\n        <path d=\"M 9.8125 72.90625 \r\nL 24.515625 72.90625 \r\nL 43.109375 23.296875 \r\nL 61.8125 72.90625 \r\nL 76.515625 72.90625 \r\nL 76.515625 0 \r\nL 66.890625 0 \r\nL 66.890625 64.015625 \r\nL 48.09375 14.015625 \r\nL 38.1875 14.015625 \r\nL 19.390625 64.015625 \r\nL 19.390625 0 \r\nL 9.8125 0 \r\nz\r\n\" id=\"DejaVuSans-77\"/>\r\n        <path d=\"M 56.203125 29.59375 \r\nL 56.203125 25.203125 \r\nL 14.890625 25.203125 \r\nQ 15.484375 15.921875 20.484375 11.0625 \r\nQ 25.484375 6.203125 34.421875 6.203125 \r\nQ 39.59375 6.203125 44.453125 7.46875 \r\nQ 49.3125 8.734375 54.109375 11.28125 \r\nL 54.109375 2.78125 \r\nQ 49.265625 0.734375 44.1875 -0.34375 \r\nQ 39.109375 -1.421875 33.890625 -1.421875 \r\nQ 20.796875 -1.421875 13.15625 6.1875 \r\nQ 5.515625 13.8125 5.515625 26.8125 \r\nQ 5.515625 40.234375 12.765625 48.109375 \r\nQ 20.015625 56 32.328125 56 \r\nQ 43.359375 56 49.78125 48.890625 \r\nQ 56.203125 41.796875 56.203125 29.59375 \r\nz\r\nM 47.21875 32.234375 \r\nQ 47.125 39.59375 43.09375 43.984375 \r\nQ 39.0625 48.390625 32.421875 48.390625 \r\nQ 24.90625 48.390625 20.390625 44.140625 \r\nQ 15.875 39.890625 15.1875 32.171875 \r\nz\r\n\" id=\"DejaVuSans-101\"/>\r\n        <path d=\"M 18.3125 70.21875 \r\nL 18.3125 54.6875 \r\nL 36.8125 54.6875 \r\nL 36.8125 47.703125 \r\nL 18.3125 47.703125 \r\nL 18.3125 18.015625 \r\nQ 18.3125 11.328125 20.140625 9.421875 \r\nQ 21.96875 7.515625 27.59375 7.515625 \r\nL 36.8125 7.515625 \r\nL 36.8125 0 \r\nL 27.59375 0 \r\nQ 17.1875 0 13.234375 3.875 \r\nQ 9.28125 7.765625 9.28125 18.015625 \r\nL 9.28125 47.703125 \r\nL 2.6875 47.703125 \r\nL 2.6875 54.6875 \r\nL 9.28125 54.6875 \r\nL 9.28125 70.21875 \r\nz\r\n\" id=\"DejaVuSans-116\"/>\r\n        <path d=\"M 34.28125 27.484375 \r\nQ 23.390625 27.484375 19.1875 25 \r\nQ 14.984375 22.515625 14.984375 16.5 \r\nQ 14.984375 11.71875 18.140625 8.90625 \r\nQ 21.296875 6.109375 26.703125 6.109375 \r\nQ 34.1875 6.109375 38.703125 11.40625 \r\nQ 43.21875 16.703125 43.21875 25.484375 \r\nL 43.21875 27.484375 \r\nz\r\nM 52.203125 31.203125 \r\nL 52.203125 0 \r\nL 43.21875 0 \r\nL 43.21875 8.296875 \r\nQ 40.140625 3.328125 35.546875 0.953125 \r\nQ 30.953125 -1.421875 24.3125 -1.421875 \r\nQ 15.921875 -1.421875 10.953125 3.296875 \r\nQ 6 8.015625 6 15.921875 \r\nQ 6 25.140625 12.171875 29.828125 \r\nQ 18.359375 34.515625 30.609375 34.515625 \r\nL 43.21875 34.515625 \r\nL 43.21875 35.40625 \r\nQ 43.21875 41.609375 39.140625 45 \r\nQ 35.0625 48.390625 27.6875 48.390625 \r\nQ 23 48.390625 18.546875 47.265625 \r\nQ 14.109375 46.140625 10.015625 43.890625 \r\nL 10.015625 52.203125 \r\nQ 14.9375 54.109375 19.578125 55.046875 \r\nQ 24.21875 56 28.609375 56 \r\nQ 40.484375 56 46.34375 49.84375 \r\nQ 52.203125 43.703125 52.203125 31.203125 \r\nz\r\n\" id=\"DejaVuSans-97\"/>\r\n        <path d=\"M 9.421875 75.984375 \r\nL 18.40625 75.984375 \r\nL 18.40625 0 \r\nL 9.421875 0 \r\nz\r\n\" id=\"DejaVuSans-108\"/>\r\n       </defs>\r\n       <use xlink:href=\"#DejaVuSans-77\"/>\r\n       <use x=\"86.279297\" xlink:href=\"#DejaVuSans-101\"/>\r\n       <use x=\"147.802734\" xlink:href=\"#DejaVuSans-116\"/>\r\n       <use x=\"187.011719\" xlink:href=\"#DejaVuSans-97\"/>\r\n       <use x=\"248.291016\" xlink:href=\"#DejaVuSans-108\"/>\r\n      </g>\r\n     </g>\r\n    </g>\r\n    <g id=\"xtick_3\">\r\n     <g id=\"line2d_3\">\r\n      <g>\r\n       <use style=\"stroke:#000000;stroke-width:0.8;\" x=\"121.765108\" xlink:href=\"#mbfecfe18d6\" y=\"328.6\"/>\r\n      </g>\r\n     </g>\r\n     <g id=\"text_3\">\r\n      <!-- Punk -->\r\n      <g transform=\"translate(109.604952 343.198437)scale(0.1 -0.1)\">\r\n       <defs>\r\n        <path d=\"M 19.671875 64.796875 \r\nL 19.671875 37.40625 \r\nL 32.078125 37.40625 \r\nQ 38.96875 37.40625 42.71875 40.96875 \r\nQ 46.484375 44.53125 46.484375 51.125 \r\nQ 46.484375 57.671875 42.71875 61.234375 \r\nQ 38.96875 64.796875 32.078125 64.796875 \r\nz\r\nM 9.8125 72.90625 \r\nL 32.078125 72.90625 \r\nQ 44.34375 72.90625 50.609375 67.359375 \r\nQ 56.890625 61.8125 56.890625 51.125 \r\nQ 56.890625 40.328125 50.609375 34.8125 \r\nQ 44.34375 29.296875 32.078125 29.296875 \r\nL 19.671875 29.296875 \r\nL 19.671875 0 \r\nL 9.8125 0 \r\nz\r\n\" id=\"DejaVuSans-80\"/>\r\n        <path d=\"M 8.5 21.578125 \r\nL 8.5 54.6875 \r\nL 17.484375 54.6875 \r\nL 17.484375 21.921875 \r\nQ 17.484375 14.15625 20.5 10.265625 \r\nQ 23.53125 6.390625 29.59375 6.390625 \r\nQ 36.859375 6.390625 41.078125 11.03125 \r\nQ 45.3125 15.671875 45.3125 23.6875 \r\nL 45.3125 54.6875 \r\nL 54.296875 54.6875 \r\nL 54.296875 0 \r\nL 45.3125 0 \r\nL 45.3125 8.40625 \r\nQ 42.046875 3.421875 37.71875 1 \r\nQ 33.40625 -1.421875 27.6875 -1.421875 \r\nQ 18.265625 -1.421875 13.375 4.4375 \r\nQ 8.5 10.296875 8.5 21.578125 \r\nz\r\nM 31.109375 56 \r\nz\r\n\" id=\"DejaVuSans-117\"/>\r\n        <path d=\"M 54.890625 33.015625 \r\nL 54.890625 0 \r\nL 45.90625 0 \r\nL 45.90625 32.71875 \r\nQ 45.90625 40.484375 42.875 44.328125 \r\nQ 39.84375 48.1875 33.796875 48.1875 \r\nQ 26.515625 48.1875 22.3125 43.546875 \r\nQ 18.109375 38.921875 18.109375 30.90625 \r\nL 18.109375 0 \r\nL 9.078125 0 \r\nL 9.078125 54.6875 \r\nL 18.109375 54.6875 \r\nL 18.109375 46.1875 \r\nQ 21.34375 51.125 25.703125 53.5625 \r\nQ 30.078125 56 35.796875 56 \r\nQ 45.21875 56 50.046875 50.171875 \r\nQ 54.890625 44.34375 54.890625 33.015625 \r\nz\r\n\" id=\"DejaVuSans-110\"/>\r\n       </defs>\r\n       <use xlink:href=\"#DejaVuSans-80\"/>\r\n       <use x=\"58.552734\" xlink:href=\"#DejaVuSans-117\"/>\r\n       <use x=\"121.931641\" xlink:href=\"#DejaVuSans-110\"/>\r\n       <use x=\"185.310547\" xlink:href=\"#DejaVuSans-107\"/>\r\n      </g>\r\n     </g>\r\n    </g>\r\n    <g id=\"xtick_4\">\r\n     <g id=\"line2d_4\">\r\n      <g>\r\n       <use style=\"stroke:#000000;stroke-width:0.8;\" x=\"149.139902\" xlink:href=\"#mbfecfe18d6\" y=\"328.6\"/>\r\n      </g>\r\n     </g>\r\n     <g id=\"text_4\">\r\n      <!-- Hip Hop -->\r\n      <g transform=\"translate(129.233652 343.198437)scale(0.1 -0.1)\">\r\n       <defs>\r\n        <path d=\"M 9.8125 72.90625 \r\nL 19.671875 72.90625 \r\nL 19.671875 43.015625 \r\nL 55.515625 43.015625 \r\nL 55.515625 72.90625 \r\nL 65.375 72.90625 \r\nL 65.375 0 \r\nL 55.515625 0 \r\nL 55.515625 34.71875 \r\nL 19.671875 34.71875 \r\nL 19.671875 0 \r\nL 9.8125 0 \r\nz\r\n\" id=\"DejaVuSans-72\"/>\r\n        <path d=\"M 9.421875 54.6875 \r\nL 18.40625 54.6875 \r\nL 18.40625 0 \r\nL 9.421875 0 \r\nz\r\nM 9.421875 75.984375 \r\nL 18.40625 75.984375 \r\nL 18.40625 64.59375 \r\nL 9.421875 64.59375 \r\nz\r\n\" id=\"DejaVuSans-105\"/>\r\n        <path d=\"M 18.109375 8.203125 \r\nL 18.109375 -20.796875 \r\nL 9.078125 -20.796875 \r\nL 9.078125 54.6875 \r\nL 18.109375 54.6875 \r\nL 18.109375 46.390625 \r\nQ 20.953125 51.265625 25.265625 53.625 \r\nQ 29.59375 56 35.59375 56 \r\nQ 45.5625 56 51.78125 48.09375 \r\nQ 58.015625 40.1875 58.015625 27.296875 \r\nQ 58.015625 14.40625 51.78125 6.484375 \r\nQ 45.5625 -1.421875 35.59375 -1.421875 \r\nQ 29.59375 -1.421875 25.265625 0.953125 \r\nQ 20.953125 3.328125 18.109375 8.203125 \r\nz\r\nM 48.6875 27.296875 \r\nQ 48.6875 37.203125 44.609375 42.84375 \r\nQ 40.53125 48.484375 33.40625 48.484375 \r\nQ 26.265625 48.484375 22.1875 42.84375 \r\nQ 18.109375 37.203125 18.109375 27.296875 \r\nQ 18.109375 17.390625 22.1875 11.75 \r\nQ 26.265625 6.109375 33.40625 6.109375 \r\nQ 40.53125 6.109375 44.609375 11.75 \r\nQ 48.6875 17.390625 48.6875 27.296875 \r\nz\r\n\" id=\"DejaVuSans-112\"/>\r\n        <path id=\"DejaVuSans-32\"/>\r\n       </defs>\r\n       <use xlink:href=\"#DejaVuSans-72\"/>\r\n       <use x=\"75.195312\" xlink:href=\"#DejaVuSans-105\"/>\r\n       <use x=\"102.978516\" xlink:href=\"#DejaVuSans-112\"/>\r\n       <use x=\"166.455078\" xlink:href=\"#DejaVuSans-32\"/>\r\n       <use x=\"198.242188\" xlink:href=\"#DejaVuSans-72\"/>\r\n       <use x=\"273.4375\" xlink:href=\"#DejaVuSans-111\"/>\r\n       <use x=\"334.619141\" xlink:href=\"#DejaVuSans-112\"/>\r\n      </g>\r\n     </g>\r\n    </g>\r\n    <g id=\"xtick_5\">\r\n     <g id=\"line2d_5\">\r\n      <g>\r\n       <use style=\"stroke:#000000;stroke-width:0.8;\" x=\"176.514695\" xlink:href=\"#mbfecfe18d6\" y=\"328.6\"/>\r\n      </g>\r\n     </g>\r\n     <g id=\"text_5\">\r\n      <!-- Jazz -->\r\n      <g transform=\"translate(166.727195 343.198437)scale(0.1 -0.1)\">\r\n       <defs>\r\n        <path d=\"M 9.8125 72.90625 \r\nL 19.671875 72.90625 \r\nL 19.671875 5.078125 \r\nQ 19.671875 -8.109375 14.671875 -14.0625 \r\nQ 9.671875 -20.015625 -1.421875 -20.015625 \r\nL -5.171875 -20.015625 \r\nL -5.171875 -11.71875 \r\nL -2.09375 -11.71875 \r\nQ 4.4375 -11.71875 7.125 -8.046875 \r\nQ 9.8125 -4.390625 9.8125 5.078125 \r\nz\r\n\" id=\"DejaVuSans-74\"/>\r\n        <path d=\"M 5.515625 54.6875 \r\nL 48.1875 54.6875 \r\nL 48.1875 46.484375 \r\nL 14.40625 7.171875 \r\nL 48.1875 7.171875 \r\nL 48.1875 0 \r\nL 4.296875 0 \r\nL 4.296875 8.203125 \r\nL 38.09375 47.515625 \r\nL 5.515625 47.515625 \r\nz\r\n\" id=\"DejaVuSans-122\"/>\r\n       </defs>\r\n       <use xlink:href=\"#DejaVuSans-74\"/>\r\n       <use x=\"29.492188\" xlink:href=\"#DejaVuSans-97\"/>\r\n       <use x=\"90.771484\" xlink:href=\"#DejaVuSans-122\"/>\r\n       <use x=\"143.261719\" xlink:href=\"#DejaVuSans-122\"/>\r\n      </g>\r\n     </g>\r\n    </g>\r\n    <g id=\"xtick_6\">\r\n     <g id=\"line2d_6\">\r\n      <g>\r\n       <use style=\"stroke:#000000;stroke-width:0.8;\" x=\"203.889489\" xlink:href=\"#mbfecfe18d6\" y=\"328.6\"/>\r\n      </g>\r\n     </g>\r\n     <g id=\"text_6\">\r\n      <!-- Pop -->\r\n      <g transform=\"translate(194.822301 343.198437)scale(0.1 -0.1)\">\r\n       <use xlink:href=\"#DejaVuSans-80\"/>\r\n       <use x=\"56.677734\" xlink:href=\"#DejaVuSans-111\"/>\r\n       <use x=\"117.859375\" xlink:href=\"#DejaVuSans-112\"/>\r\n      </g>\r\n     </g>\r\n    </g>\r\n    <g id=\"xtick_7\">\r\n     <g id=\"line2d_7\">\r\n      <g>\r\n       <use style=\"stroke:#000000;stroke-width:0.8;\" x=\"231.264282\" xlink:href=\"#mbfecfe18d6\" y=\"328.6\"/>\r\n      </g>\r\n     </g>\r\n     <g id=\"text_7\">\r\n      <!-- Electronic -->\r\n      <g transform=\"translate(206.620532 343.198437)scale(0.1 -0.1)\">\r\n       <defs>\r\n        <path d=\"M 9.8125 72.90625 \r\nL 55.90625 72.90625 \r\nL 55.90625 64.59375 \r\nL 19.671875 64.59375 \r\nL 19.671875 43.015625 \r\nL 54.390625 43.015625 \r\nL 54.390625 34.71875 \r\nL 19.671875 34.71875 \r\nL 19.671875 8.296875 \r\nL 56.78125 8.296875 \r\nL 56.78125 0 \r\nL 9.8125 0 \r\nz\r\n\" id=\"DejaVuSans-69\"/>\r\n        <path d=\"M 41.109375 46.296875 \r\nQ 39.59375 47.171875 37.8125 47.578125 \r\nQ 36.03125 48 33.890625 48 \r\nQ 26.265625 48 22.1875 43.046875 \r\nQ 18.109375 38.09375 18.109375 28.8125 \r\nL 18.109375 0 \r\nL 9.078125 0 \r\nL 9.078125 54.6875 \r\nL 18.109375 54.6875 \r\nL 18.109375 46.1875 \r\nQ 20.953125 51.171875 25.484375 53.578125 \r\nQ 30.03125 56 36.53125 56 \r\nQ 37.453125 56 38.578125 55.875 \r\nQ 39.703125 55.765625 41.0625 55.515625 \r\nz\r\n\" id=\"DejaVuSans-114\"/>\r\n       </defs>\r\n       <use xlink:href=\"#DejaVuSans-69\"/>\r\n       <use x=\"63.183594\" xlink:href=\"#DejaVuSans-108\"/>\r\n       <use x=\"90.966797\" xlink:href=\"#DejaVuSans-101\"/>\r\n       <use x=\"152.490234\" xlink:href=\"#DejaVuSans-99\"/>\r\n       <use x=\"207.470703\" xlink:href=\"#DejaVuSans-116\"/>\r\n       <use x=\"246.679688\" xlink:href=\"#DejaVuSans-114\"/>\r\n       <use x=\"285.542969\" xlink:href=\"#DejaVuSans-111\"/>\r\n       <use x=\"346.724609\" xlink:href=\"#DejaVuSans-110\"/>\r\n       <use x=\"410.103516\" xlink:href=\"#DejaVuSans-105\"/>\r\n       <use x=\"437.886719\" xlink:href=\"#DejaVuSans-99\"/>\r\n      </g>\r\n     </g>\r\n    </g>\r\n    <g id=\"xtick_8\">\r\n     <g id=\"line2d_8\">\r\n      <g>\r\n       <use style=\"stroke:#000000;stroke-width:0.8;\" x=\"258.639075\" xlink:href=\"#mbfecfe18d6\" y=\"328.6\"/>\r\n      </g>\r\n     </g>\r\n     <g id=\"text_8\">\r\n      <!-- Blues -->\r\n      <g transform=\"translate(244.969544 343.198437)scale(0.1 -0.1)\">\r\n       <defs>\r\n        <path d=\"M 19.671875 34.8125 \r\nL 19.671875 8.109375 \r\nL 35.5 8.109375 \r\nQ 43.453125 8.109375 47.28125 11.40625 \r\nQ 51.125 14.703125 51.125 21.484375 \r\nQ 51.125 28.328125 47.28125 31.5625 \r\nQ 43.453125 34.8125 35.5 34.8125 \r\nz\r\nM 19.671875 64.796875 \r\nL 19.671875 42.828125 \r\nL 34.28125 42.828125 \r\nQ 41.5 42.828125 45.03125 45.53125 \r\nQ 48.578125 48.25 48.578125 53.8125 \r\nQ 48.578125 59.328125 45.03125 62.0625 \r\nQ 41.5 64.796875 34.28125 64.796875 \r\nz\r\nM 9.8125 72.90625 \r\nL 35.015625 72.90625 \r\nQ 46.296875 72.90625 52.390625 68.21875 \r\nQ 58.5 63.53125 58.5 54.890625 \r\nQ 58.5 48.1875 55.375 44.234375 \r\nQ 52.25 40.28125 46.1875 39.3125 \r\nQ 53.46875 37.75 57.5 32.78125 \r\nQ 61.53125 27.828125 61.53125 20.40625 \r\nQ 61.53125 10.640625 54.890625 5.3125 \r\nQ 48.25 0 35.984375 0 \r\nL 9.8125 0 \r\nz\r\n\" id=\"DejaVuSans-66\"/>\r\n        <path d=\"M 44.28125 53.078125 \r\nL 44.28125 44.578125 \r\nQ 40.484375 46.53125 36.375 47.5 \r\nQ 32.28125 48.484375 27.875 48.484375 \r\nQ 21.1875 48.484375 17.84375 46.4375 \r\nQ 14.5 44.390625 14.5 40.28125 \r\nQ 14.5 37.15625 16.890625 35.375 \r\nQ 19.28125 33.59375 26.515625 31.984375 \r\nL 29.59375 31.296875 \r\nQ 39.15625 29.25 43.1875 25.515625 \r\nQ 47.21875 21.78125 47.21875 15.09375 \r\nQ 47.21875 7.46875 41.1875 3.015625 \r\nQ 35.15625 -1.421875 24.609375 -1.421875 \r\nQ 20.21875 -1.421875 15.453125 -0.5625 \r\nQ 10.6875 0.296875 5.421875 2 \r\nL 5.421875 11.28125 \r\nQ 10.40625 8.6875 15.234375 7.390625 \r\nQ 20.0625 6.109375 24.8125 6.109375 \r\nQ 31.15625 6.109375 34.5625 8.28125 \r\nQ 37.984375 10.453125 37.984375 14.40625 \r\nQ 37.984375 18.0625 35.515625 20.015625 \r\nQ 33.0625 21.96875 24.703125 23.78125 \r\nL 21.578125 24.515625 \r\nQ 13.234375 26.265625 9.515625 29.90625 \r\nQ 5.8125 33.546875 5.8125 39.890625 \r\nQ 5.8125 47.609375 11.28125 51.796875 \r\nQ 16.75 56 26.8125 56 \r\nQ 31.78125 56 36.171875 55.265625 \r\nQ 40.578125 54.546875 44.28125 53.078125 \r\nz\r\n\" id=\"DejaVuSans-115\"/>\r\n       </defs>\r\n       <use xlink:href=\"#DejaVuSans-66\"/>\r\n       <use x=\"68.603516\" xlink:href=\"#DejaVuSans-108\"/>\r\n       <use x=\"96.386719\" xlink:href=\"#DejaVuSans-117\"/>\r\n       <use x=\"159.765625\" xlink:href=\"#DejaVuSans-101\"/>\r\n       <use x=\"221.289062\" xlink:href=\"#DejaVuSans-115\"/>\r\n      </g>\r\n     </g>\r\n    </g>\r\n    <g id=\"xtick_9\">\r\n     <g id=\"line2d_9\">\r\n      <g>\r\n       <use style=\"stroke:#000000;stroke-width:0.8;\" x=\"286.013869\" xlink:href=\"#mbfecfe18d6\" y=\"328.6\"/>\r\n      </g>\r\n     </g>\r\n     <g id=\"text_9\">\r\n      <!-- Country -->\r\n      <g transform=\"translate(266.150588 343.198437)scale(0.1 -0.1)\">\r\n       <defs>\r\n        <path d=\"M 64.40625 67.28125 \r\nL 64.40625 56.890625 \r\nQ 59.421875 61.53125 53.78125 63.8125 \r\nQ 48.140625 66.109375 41.796875 66.109375 \r\nQ 29.296875 66.109375 22.65625 58.46875 \r\nQ 16.015625 50.828125 16.015625 36.375 \r\nQ 16.015625 21.96875 22.65625 14.328125 \r\nQ 29.296875 6.6875 41.796875 6.6875 \r\nQ 48.140625 6.6875 53.78125 8.984375 \r\nQ 59.421875 11.28125 64.40625 15.921875 \r\nL 64.40625 5.609375 \r\nQ 59.234375 2.09375 53.4375 0.328125 \r\nQ 47.65625 -1.421875 41.21875 -1.421875 \r\nQ 24.65625 -1.421875 15.125 8.703125 \r\nQ 5.609375 18.84375 5.609375 36.375 \r\nQ 5.609375 53.953125 15.125 64.078125 \r\nQ 24.65625 74.21875 41.21875 74.21875 \r\nQ 47.75 74.21875 53.53125 72.484375 \r\nQ 59.328125 70.75 64.40625 67.28125 \r\nz\r\n\" id=\"DejaVuSans-67\"/>\r\n        <path d=\"M 32.171875 -5.078125 \r\nQ 28.375 -14.84375 24.75 -17.8125 \r\nQ 21.140625 -20.796875 15.09375 -20.796875 \r\nL 7.90625 -20.796875 \r\nL 7.90625 -13.28125 \r\nL 13.1875 -13.28125 \r\nQ 16.890625 -13.28125 18.9375 -11.515625 \r\nQ 21 -9.765625 23.484375 -3.21875 \r\nL 25.09375 0.875 \r\nL 2.984375 54.6875 \r\nL 12.5 54.6875 \r\nL 29.59375 11.921875 \r\nL 46.6875 54.6875 \r\nL 56.203125 54.6875 \r\nz\r\n\" id=\"DejaVuSans-121\"/>\r\n       </defs>\r\n       <use xlink:href=\"#DejaVuSans-67\"/>\r\n       <use x=\"69.824219\" xlink:href=\"#DejaVuSans-111\"/>\r\n       <use x=\"131.005859\" xlink:href=\"#DejaVuSans-117\"/>\r\n       <use x=\"194.384766\" xlink:href=\"#DejaVuSans-110\"/>\r\n       <use x=\"257.763672\" xlink:href=\"#DejaVuSans-116\"/>\r\n       <use x=\"296.972656\" xlink:href=\"#DejaVuSans-114\"/>\r\n       <use x=\"338.085938\" xlink:href=\"#DejaVuSans-121\"/>\r\n      </g>\r\n     </g>\r\n    </g>\r\n    <g id=\"xtick_10\">\r\n     <g id=\"line2d_10\">\r\n      <g>\r\n       <use style=\"stroke:#000000;stroke-width:0.8;\" x=\"313.388662\" xlink:href=\"#mbfecfe18d6\" y=\"328.6\"/>\r\n      </g>\r\n     </g>\r\n     <g id=\"text_10\">\r\n      <!-- Folk -->\r\n      <g transform=\"translate(303.350381 343.198437)scale(0.1 -0.1)\">\r\n       <defs>\r\n        <path d=\"M 9.8125 72.90625 \r\nL 51.703125 72.90625 \r\nL 51.703125 64.59375 \r\nL 19.671875 64.59375 \r\nL 19.671875 43.109375 \r\nL 48.578125 43.109375 \r\nL 48.578125 34.8125 \r\nL 19.671875 34.8125 \r\nL 19.671875 0 \r\nL 9.8125 0 \r\nz\r\n\" id=\"DejaVuSans-70\"/>\r\n       </defs>\r\n       <use xlink:href=\"#DejaVuSans-70\"/>\r\n       <use x=\"53.894531\" xlink:href=\"#DejaVuSans-111\"/>\r\n       <use x=\"115.076172\" xlink:href=\"#DejaVuSans-108\"/>\r\n       <use x=\"142.859375\" xlink:href=\"#DejaVuSans-107\"/>\r\n      </g>\r\n     </g>\r\n    </g>\r\n    <g id=\"xtick_11\">\r\n     <g id=\"line2d_11\">\r\n      <g>\r\n       <use style=\"stroke:#000000;stroke-width:0.8;\" x=\"340.763456\" xlink:href=\"#mbfecfe18d6\" y=\"328.6\"/>\r\n      </g>\r\n     </g>\r\n     <g id=\"text_11\">\r\n      <!-- Reggae -->\r\n      <g transform=\"translate(321.948612 343.198437)scale(0.1 -0.1)\">\r\n       <defs>\r\n        <path d=\"M 45.40625 27.984375 \r\nQ 45.40625 37.75 41.375 43.109375 \r\nQ 37.359375 48.484375 30.078125 48.484375 \r\nQ 22.859375 48.484375 18.828125 43.109375 \r\nQ 14.796875 37.75 14.796875 27.984375 \r\nQ 14.796875 18.265625 18.828125 12.890625 \r\nQ 22.859375 7.515625 30.078125 7.515625 \r\nQ 37.359375 7.515625 41.375 12.890625 \r\nQ 45.40625 18.265625 45.40625 27.984375 \r\nz\r\nM 54.390625 6.78125 \r\nQ 54.390625 -7.171875 48.1875 -13.984375 \r\nQ 42 -20.796875 29.203125 -20.796875 \r\nQ 24.46875 -20.796875 20.265625 -20.09375 \r\nQ 16.0625 -19.390625 12.109375 -17.921875 \r\nL 12.109375 -9.1875 \r\nQ 16.0625 -11.328125 19.921875 -12.34375 \r\nQ 23.78125 -13.375 27.78125 -13.375 \r\nQ 36.625 -13.375 41.015625 -8.765625 \r\nQ 45.40625 -4.15625 45.40625 5.171875 \r\nL 45.40625 9.625 \r\nQ 42.625 4.78125 38.28125 2.390625 \r\nQ 33.9375 0 27.875 0 \r\nQ 17.828125 0 11.671875 7.65625 \r\nQ 5.515625 15.328125 5.515625 27.984375 \r\nQ 5.515625 40.671875 11.671875 48.328125 \r\nQ 17.828125 56 27.875 56 \r\nQ 33.9375 56 38.28125 53.609375 \r\nQ 42.625 51.21875 45.40625 46.390625 \r\nL 45.40625 54.6875 \r\nL 54.390625 54.6875 \r\nz\r\n\" id=\"DejaVuSans-103\"/>\r\n       </defs>\r\n       <use xlink:href=\"#DejaVuSans-82\"/>\r\n       <use x=\"64.982422\" xlink:href=\"#DejaVuSans-101\"/>\r\n       <use x=\"126.505859\" xlink:href=\"#DejaVuSans-103\"/>\r\n       <use x=\"189.982422\" xlink:href=\"#DejaVuSans-103\"/>\r\n       <use x=\"253.458984\" xlink:href=\"#DejaVuSans-97\"/>\r\n       <use x=\"314.738281\" xlink:href=\"#DejaVuSans-101\"/>\r\n      </g>\r\n     </g>\r\n    </g>\r\n    <g id=\"text_12\">\r\n     <!-- closest_genre -->\r\n     <g transform=\"translate(169.506676 356.876562)scale(0.1 -0.1)\">\r\n      <defs>\r\n       <path d=\"M 50.984375 -16.609375 \r\nL 50.984375 -23.578125 \r\nL -0.984375 -23.578125 \r\nL -0.984375 -16.609375 \r\nz\r\n\" id=\"DejaVuSans-95\"/>\r\n      </defs>\r\n      <use xlink:href=\"#DejaVuSans-99\"/>\r\n      <use x=\"54.980469\" xlink:href=\"#DejaVuSans-108\"/>\r\n      <use x=\"82.763672\" xlink:href=\"#DejaVuSans-111\"/>\r\n      <use x=\"143.945312\" xlink:href=\"#DejaVuSans-115\"/>\r\n      <use x=\"196.044922\" xlink:href=\"#DejaVuSans-101\"/>\r\n      <use x=\"257.568359\" xlink:href=\"#DejaVuSans-115\"/>\r\n      <use x=\"309.667969\" xlink:href=\"#DejaVuSans-116\"/>\r\n      <use x=\"348.876953\" xlink:href=\"#DejaVuSans-95\"/>\r\n      <use x=\"398.876953\" xlink:href=\"#DejaVuSans-103\"/>\r\n      <use x=\"462.353516\" xlink:href=\"#DejaVuSans-101\"/>\r\n      <use x=\"523.876953\" xlink:href=\"#DejaVuSans-110\"/>\r\n      <use x=\"587.255859\" xlink:href=\"#DejaVuSans-114\"/>\r\n      <use x=\"626.119141\" xlink:href=\"#DejaVuSans-101\"/>\r\n     </g>\r\n    </g>\r\n   </g>\r\n   <g id=\"matplotlib.axis_2\">\r\n    <g id=\"ytick_1\">\r\n     <g id=\"line2d_12\">\r\n      <defs>\r\n       <path d=\"M 0 0 \r\nL -3.5 0 \r\n\" id=\"m39e188415c\" style=\"stroke:#000000;stroke-width:0.8;\"/>\r\n      </defs>\r\n      <g>\r\n       <use style=\"stroke:#000000;stroke-width:0.8;\" x=\"53.328125\" xlink:href=\"#m39e188415c\" y=\"328.6\"/>\r\n      </g>\r\n     </g>\r\n     <g id=\"text_13\">\r\n      <!-- 0 -->\r\n      <g transform=\"translate(39.965625 332.399219)scale(0.1 -0.1)\">\r\n       <defs>\r\n        <path d=\"M 31.78125 66.40625 \r\nQ 24.171875 66.40625 20.328125 58.90625 \r\nQ 16.5 51.421875 16.5 36.375 \r\nQ 16.5 21.390625 20.328125 13.890625 \r\nQ 24.171875 6.390625 31.78125 6.390625 \r\nQ 39.453125 6.390625 43.28125 13.890625 \r\nQ 47.125 21.390625 47.125 36.375 \r\nQ 47.125 51.421875 43.28125 58.90625 \r\nQ 39.453125 66.40625 31.78125 66.40625 \r\nz\r\nM 31.78125 74.21875 \r\nQ 44.046875 74.21875 50.515625 64.515625 \r\nQ 56.984375 54.828125 56.984375 36.375 \r\nQ 56.984375 17.96875 50.515625 8.265625 \r\nQ 44.046875 -1.421875 31.78125 -1.421875 \r\nQ 19.53125 -1.421875 13.0625 8.265625 \r\nQ 6.59375 17.96875 6.59375 36.375 \r\nQ 6.59375 54.828125 13.0625 64.515625 \r\nQ 19.53125 74.21875 31.78125 74.21875 \r\nz\r\n\" id=\"DejaVuSans-48\"/>\r\n       </defs>\r\n       <use xlink:href=\"#DejaVuSans-48\"/>\r\n      </g>\r\n     </g>\r\n    </g>\r\n    <g id=\"ytick_2\">\r\n     <g id=\"line2d_13\">\r\n      <g>\r\n       <use style=\"stroke:#000000;stroke-width:0.8;\" x=\"53.328125\" xlink:href=\"#m39e188415c\" y=\"263.139085\"/>\r\n      </g>\r\n     </g>\r\n     <g id=\"text_14\">\r\n      <!-- 1000 -->\r\n      <g transform=\"translate(20.878125 266.938304)scale(0.1 -0.1)\">\r\n       <defs>\r\n        <path d=\"M 12.40625 8.296875 \r\nL 28.515625 8.296875 \r\nL 28.515625 63.921875 \r\nL 10.984375 60.40625 \r\nL 10.984375 69.390625 \r\nL 28.421875 72.90625 \r\nL 38.28125 72.90625 \r\nL 38.28125 8.296875 \r\nL 54.390625 8.296875 \r\nL 54.390625 0 \r\nL 12.40625 0 \r\nz\r\n\" id=\"DejaVuSans-49\"/>\r\n       </defs>\r\n       <use xlink:href=\"#DejaVuSans-49\"/>\r\n       <use x=\"63.623047\" xlink:href=\"#DejaVuSans-48\"/>\r\n       <use x=\"127.246094\" xlink:href=\"#DejaVuSans-48\"/>\r\n       <use x=\"190.869141\" xlink:href=\"#DejaVuSans-48\"/>\r\n      </g>\r\n     </g>\r\n    </g>\r\n    <g id=\"ytick_3\">\r\n     <g id=\"line2d_14\">\r\n      <g>\r\n       <use style=\"stroke:#000000;stroke-width:0.8;\" x=\"53.328125\" xlink:href=\"#m39e188415c\" y=\"197.67817\"/>\r\n      </g>\r\n     </g>\r\n     <g id=\"text_15\">\r\n      <!-- 2000 -->\r\n      <g transform=\"translate(20.878125 201.477389)scale(0.1 -0.1)\">\r\n       <defs>\r\n        <path d=\"M 19.1875 8.296875 \r\nL 53.609375 8.296875 \r\nL 53.609375 0 \r\nL 7.328125 0 \r\nL 7.328125 8.296875 \r\nQ 12.9375 14.109375 22.625 23.890625 \r\nQ 32.328125 33.6875 34.8125 36.53125 \r\nQ 39.546875 41.84375 41.421875 45.53125 \r\nQ 43.3125 49.21875 43.3125 52.78125 \r\nQ 43.3125 58.59375 39.234375 62.25 \r\nQ 35.15625 65.921875 28.609375 65.921875 \r\nQ 23.96875 65.921875 18.8125 64.3125 \r\nQ 13.671875 62.703125 7.8125 59.421875 \r\nL 7.8125 69.390625 \r\nQ 13.765625 71.78125 18.9375 73 \r\nQ 24.125 74.21875 28.421875 74.21875 \r\nQ 39.75 74.21875 46.484375 68.546875 \r\nQ 53.21875 62.890625 53.21875 53.421875 \r\nQ 53.21875 48.921875 51.53125 44.890625 \r\nQ 49.859375 40.875 45.40625 35.40625 \r\nQ 44.1875 33.984375 37.640625 27.21875 \r\nQ 31.109375 20.453125 19.1875 8.296875 \r\nz\r\n\" id=\"DejaVuSans-50\"/>\r\n       </defs>\r\n       <use xlink:href=\"#DejaVuSans-50\"/>\r\n       <use x=\"63.623047\" xlink:href=\"#DejaVuSans-48\"/>\r\n       <use x=\"127.246094\" xlink:href=\"#DejaVuSans-48\"/>\r\n       <use x=\"190.869141\" xlink:href=\"#DejaVuSans-48\"/>\r\n      </g>\r\n     </g>\r\n    </g>\r\n    <g id=\"ytick_4\">\r\n     <g id=\"line2d_15\">\r\n      <g>\r\n       <use style=\"stroke:#000000;stroke-width:0.8;\" x=\"53.328125\" xlink:href=\"#m39e188415c\" y=\"132.217255\"/>\r\n      </g>\r\n     </g>\r\n     <g id=\"text_16\">\r\n      <!-- 3000 -->\r\n      <g transform=\"translate(20.878125 136.016474)scale(0.1 -0.1)\">\r\n       <defs>\r\n        <path d=\"M 40.578125 39.3125 \r\nQ 47.65625 37.796875 51.625 33 \r\nQ 55.609375 28.21875 55.609375 21.1875 \r\nQ 55.609375 10.40625 48.1875 4.484375 \r\nQ 40.765625 -1.421875 27.09375 -1.421875 \r\nQ 22.515625 -1.421875 17.65625 -0.515625 \r\nQ 12.796875 0.390625 7.625 2.203125 \r\nL 7.625 11.71875 \r\nQ 11.71875 9.328125 16.59375 8.109375 \r\nQ 21.484375 6.890625 26.8125 6.890625 \r\nQ 36.078125 6.890625 40.9375 10.546875 \r\nQ 45.796875 14.203125 45.796875 21.1875 \r\nQ 45.796875 27.640625 41.28125 31.265625 \r\nQ 36.765625 34.90625 28.71875 34.90625 \r\nL 20.21875 34.90625 \r\nL 20.21875 43.015625 \r\nL 29.109375 43.015625 \r\nQ 36.375 43.015625 40.234375 45.921875 \r\nQ 44.09375 48.828125 44.09375 54.296875 \r\nQ 44.09375 59.90625 40.109375 62.90625 \r\nQ 36.140625 65.921875 28.71875 65.921875 \r\nQ 24.65625 65.921875 20.015625 65.03125 \r\nQ 15.375 64.15625 9.8125 62.3125 \r\nL 9.8125 71.09375 \r\nQ 15.4375 72.65625 20.34375 73.4375 \r\nQ 25.25 74.21875 29.59375 74.21875 \r\nQ 40.828125 74.21875 47.359375 69.109375 \r\nQ 53.90625 64.015625 53.90625 55.328125 \r\nQ 53.90625 49.265625 50.4375 45.09375 \r\nQ 46.96875 40.921875 40.578125 39.3125 \r\nz\r\n\" id=\"DejaVuSans-51\"/>\r\n       </defs>\r\n       <use xlink:href=\"#DejaVuSans-51\"/>\r\n       <use x=\"63.623047\" xlink:href=\"#DejaVuSans-48\"/>\r\n       <use x=\"127.246094\" xlink:href=\"#DejaVuSans-48\"/>\r\n       <use x=\"190.869141\" xlink:href=\"#DejaVuSans-48\"/>\r\n      </g>\r\n     </g>\r\n    </g>\r\n    <g id=\"ytick_5\">\r\n     <g id=\"line2d_16\">\r\n      <g>\r\n       <use style=\"stroke:#000000;stroke-width:0.8;\" x=\"53.328125\" xlink:href=\"#m39e188415c\" y=\"66.75634\"/>\r\n      </g>\r\n     </g>\r\n     <g id=\"text_17\">\r\n      <!-- 4000 -->\r\n      <g transform=\"translate(20.878125 70.555559)scale(0.1 -0.1)\">\r\n       <defs>\r\n        <path d=\"M 37.796875 64.3125 \r\nL 12.890625 25.390625 \r\nL 37.796875 25.390625 \r\nz\r\nM 35.203125 72.90625 \r\nL 47.609375 72.90625 \r\nL 47.609375 25.390625 \r\nL 58.015625 25.390625 \r\nL 58.015625 17.1875 \r\nL 47.609375 17.1875 \r\nL 47.609375 0 \r\nL 37.796875 0 \r\nL 37.796875 17.1875 \r\nL 4.890625 17.1875 \r\nL 4.890625 26.703125 \r\nz\r\n\" id=\"DejaVuSans-52\"/>\r\n       </defs>\r\n       <use xlink:href=\"#DejaVuSans-52\"/>\r\n       <use x=\"63.623047\" xlink:href=\"#DejaVuSans-48\"/>\r\n       <use x=\"127.246094\" xlink:href=\"#DejaVuSans-48\"/>\r\n       <use x=\"190.869141\" xlink:href=\"#DejaVuSans-48\"/>\r\n      </g>\r\n     </g>\r\n    </g>\r\n    <g id=\"text_18\">\r\n     <!-- count -->\r\n     <g transform=\"translate(14.798438 182.00625)rotate(-90)scale(0.1 -0.1)\">\r\n      <use xlink:href=\"#DejaVuSans-99\"/>\r\n      <use x=\"54.980469\" xlink:href=\"#DejaVuSans-111\"/>\r\n      <use x=\"116.162109\" xlink:href=\"#DejaVuSans-117\"/>\r\n      <use x=\"179.541016\" xlink:href=\"#DejaVuSans-110\"/>\r\n      <use x=\"242.919922\" xlink:href=\"#DejaVuSans-116\"/>\r\n     </g>\r\n    </g>\r\n   </g>\r\n   <g id=\"patch_14\">\r\n    <path d=\"M 53.328125 328.6 \r\nL 53.328125 7.2 \r\n\" style=\"fill:none;stroke:#000000;stroke-linecap:square;stroke-linejoin:miter;stroke-width:0.8;\"/>\r\n   </g>\r\n   <g id=\"patch_15\">\r\n    <path d=\"M 53.328125 328.6 \r\nL 354.450852 328.6 \r\n\" style=\"fill:none;stroke:#000000;stroke-linecap:square;stroke-linejoin:miter;stroke-width:0.8;\"/>\r\n   </g>\r\n  </g>\r\n </g>\r\n <defs>\r\n  <clipPath id=\"p5964d727db\">\r\n   <rect height=\"321.4\" width=\"301.122727\" x=\"53.328125\" y=\"7.2\"/>\r\n  </clipPath>\r\n </defs>\r\n</svg>\r\n",
      "image/png": "[encoded data removed]"
     },
     "metadata": {
      "needs_background": "light"
     }
    }
   ],
   "source": [
    "sns.catplot(x=\"closest_genre\", kind=\"count\", palette=\"ch:.25\", data=lyrics)"
   ]
  },
  {
   "cell_type": "code",
   "execution_count": 7,
   "metadata": {},
   "outputs": [
    {
     "output_type": "execute_result",
     "data": {
      "text/plain": [
       "closest_genre\n",
       "Reggae          72\n",
       "Metal          236\n",
       "Electronic     270\n",
       "Country        394\n",
       "Folk           419\n",
       "Punk           424\n",
       "Pop            652\n",
       "Hip Hop        782\n",
       "Blues          835\n",
       "Jazz           855\n",
       "Rock          4344\n",
       "Name: song_name, dtype: int64"
      ]
     },
     "metadata": {},
     "execution_count": 7
    }
   ],
   "source": [
    "lyrics.groupby('closest_genre')['song_name'].nunique().sort_values()"
   ]
  },
  {
   "cell_type": "code",
   "execution_count": null,
   "metadata": {},
   "outputs": [],
   "source": [
    "lyrics['length_lyric'] = lyrics.lyric.apply(lambda x: len(x.split()))"
   ]
  },
  {
   "cell_type": "code",
   "execution_count": 8,
   "metadata": {},
   "outputs": [],
   "source": [
    "threshold = lyrics.groupby('closest_genre')['song_name'].nunique()['Metal']\n",
    "cleaned_lyrics = lyrics[lyrics.closest_genre!='Reggae']\n",
    "cleaned_lyrics = cleaned_lyrics.groupby('closest_genre').sample(n=threshold, random_state=RANDOM_SEED)"
   ]
  },
  {
   "cell_type": "code",
   "execution_count": 9,
   "metadata": {},
   "outputs": [
    {
     "output_type": "execute_result",
     "data": {
      "text/plain": [
       "closest_genre\n",
       "Blues         233\n",
       "Country       226\n",
       "Electronic    230\n",
       "Folk          229\n",
       "Hip Hop       234\n",
       "Jazz          231\n",
       "Metal         232\n",
       "Pop           223\n",
       "Punk          230\n",
       "Rock          234\n",
       "Name: song_name, dtype: int64"
      ]
     },
     "metadata": {},
     "execution_count": 9
    }
   ],
   "source": [
    "cleaned_lyrics.groupby('closest_genre')['song_name'].nunique()"
   ]
  },
  {
   "cell_type": "code",
   "execution_count": 10,
   "metadata": {},
   "outputs": [
    {
     "output_type": "execute_result",
     "data": {
      "text/plain": [
       "closest_genre\n",
       "Blues         My Baby Made A ChangeGuess WhoDon't Play That ...\n",
       "Country       Texas (When I Die)Is There Life Out ThereFlesh...\n",
       "Electronic    World in My Eyes - 2006 RemasterWe Will Rock Y...\n",
       "Folk          Sunday Mornin' Comin' DownRailroad BillHush-A-...\n",
       "Hip Hop       Rabbit RunLebanese BlondeSing For The MomentMo...\n",
       "Jazz          East of the Sun (West of the Moon)Night Lights...\n",
       "Metal         Inside Four Walls - live at the Zeche Bochum, ...\n",
       "Pop           One Bad AppleGimme Gimme Good Lovin'Andante, A...\n",
       "Punk          100 Years from NowWaiting RoomBro HymnOh Yeah ...\n",
       "Rock          Sure ShotBirth Of The BoogieLady Love - 2007 R...\n",
       "Name: song_name, dtype: object"
      ]
     },
     "metadata": {},
     "execution_count": 10
    }
   ],
   "source": [
    "cleaned_lyrics.groupby('closest_genre')['song_name'].sum()"
   ]
  },
  {
   "cell_type": "code",
   "execution_count": 11,
   "metadata": {},
   "outputs": [],
   "source": [
    "length_of_lyrics_per_genre = {}\n",
    "for i, a in cleaned_lyrics.groupby('closest_genre')['lyric'].sum().iteritems():\n",
    "    length_of_lyrics_per_genre[i] = len(a)"
   ]
  },
  {
   "cell_type": "code",
   "execution_count": 12,
   "metadata": {},
   "outputs": [
    {
     "output_type": "execute_result",
     "data": {
      "text/plain": [
       "{'Blues': 261966,\n",
       " 'Country': 273062,\n",
       " 'Electronic': 275107,\n",
       " 'Folk': 269825,\n",
       " 'Hip Hop': 538538,\n",
       " 'Jazz': 209723,\n",
       " 'Metal': 259959,\n",
       " 'Pop': 304841,\n",
       " 'Punk': 274733,\n",
       " 'Rock': 257901}"
      ]
     },
     "metadata": {},
     "execution_count": 12
    }
   ],
   "source": [
    "length_of_lyrics_per_genre"
   ]
  },
  {
   "cell_type": "code",
   "execution_count": 13,
   "metadata": {},
   "outputs": [
    {
     "output_type": "execute_result",
     "data": {
      "text/plain": [
       "<BarContainer object of 10 artists>"
      ]
     },
     "metadata": {},
     "execution_count": 13
    },
    {
     "output_type": "display_data",
     "data": {
      "text/plain": "<Figure size 432x288 with 1 Axes>",
      "image/svg+xml": "<?xml version=\"1.0\" encoding=\"utf-8\" standalone=\"no\"?>\r\n<!DOCTYPE svg PUBLIC \"-//W3C//DTD SVG 1.1//EN\"\r\n  \"http://www.w3.org/Graphics/SVG/1.1/DTD/svg11.dtd\">\r\n<!-- Created with matplotlib (https://matplotlib.org/) -->\r\n<svg height=\"248.518125pt\" version=\"1.1\" viewBox=\"0 0 394.375 248.518125\" width=\"394.375pt\" xmlns=\"http://www.w3.org/2000/svg\" xmlns:xlink=\"http://www.w3.org/1999/xlink\">\r\n <metadata>\r\n  <rdf:RDF xmlns:cc=\"http://creativecommons.org/ns#\" xmlns:dc=\"http://purl.org/dc/elements/1.1/\" xmlns:rdf=\"http://www.w3.org/1999/02/22-rdf-syntax-ns#\">\r\n   <cc:Work>\r\n    <dc:type rdf:resource=\"http://purl.org/dc/dcmitype/StillImage\"/>\r\n    <dc:date>2021-02-14T10:35:27.217167</dc:date>\r\n    <dc:format>image/svg+xml</dc:format>\r\n    <dc:creator>\r\n     <cc:Agent>\r\n      <dc:title>Matplotlib v3.3.2, https://matplotlib.org/</dc:title>\r\n     </cc:Agent>\r\n    </dc:creator>\r\n   </cc:Work>\r\n  </rdf:RDF>\r\n </metadata>\r\n <defs>\r\n  <style type=\"text/css\">*{stroke-linecap:butt;stroke-linejoin:round;}</style>\r\n </defs>\r\n <g id=\"figure_1\">\r\n  <g id=\"patch_1\">\r\n   <path d=\"M 0 248.518125 \r\nL 394.375 248.518125 \r\nL 394.375 0 \r\nL 0 0 \r\nz\r\n\" style=\"fill:none;\"/>\r\n  </g>\r\n  <g id=\"axes_1\">\r\n   <g id=\"patch_2\">\r\n    <path d=\"M 52.375 224.64 \r\nL 387.175 224.64 \r\nL 387.175 7.2 \r\nL 52.375 7.2 \r\nz\r\n\" style=\"fill:#ffffff;\"/>\r\n   </g>\r\n   <g id=\"patch_3\">\r\n    <path clip-path=\"url(#p1c35082cc4)\" d=\"M 67.593182 224.64 \r\nL 92.439193 224.64 \r\nL 92.439193 123.905388 \r\nL 67.593182 123.905388 \r\nz\r\n\" style=\"fill:#1f77b4;\"/>\r\n   </g>\r\n   <g id=\"patch_4\">\r\n    <path clip-path=\"url(#p1c35082cc4)\" d=\"M 98.650696 224.64 \r\nL 123.496707 224.64 \r\nL 123.496707 119.638609 \r\nL 98.650696 119.638609 \r\nz\r\n\" style=\"fill:#1f77b4;\"/>\r\n   </g>\r\n   <g id=\"patch_5\">\r\n    <path clip-path=\"url(#p1c35082cc4)\" d=\"M 129.70821 224.64 \r\nL 154.554221 224.64 \r\nL 154.554221 118.852238 \r\nL 129.70821 118.852238 \r\nz\r\n\" style=\"fill:#1f77b4;\"/>\r\n   </g>\r\n   <g id=\"patch_6\">\r\n    <path clip-path=\"url(#p1c35082cc4)\" d=\"M 160.765724 224.64 \r\nL 185.611735 224.64 \r\nL 185.611735 120.883342 \r\nL 160.765724 120.883342 \r\nz\r\n\" style=\"fill:#1f77b4;\"/>\r\n   </g>\r\n   <g id=\"patch_7\">\r\n    <path clip-path=\"url(#p1c35082cc4)\" d=\"M 191.823237 224.64 \r\nL 216.669249 224.64 \r\nL 216.669249 17.554286 \r\nL 191.823237 17.554286 \r\nz\r\n\" style=\"fill:#1f77b4;\"/>\r\n   </g>\r\n   <g id=\"patch_8\">\r\n    <path clip-path=\"url(#p1c35082cc4)\" d=\"M 222.880751 224.64 \r\nL 247.726763 224.64 \r\nL 247.726763 143.994554 \r\nL 222.880751 143.994554 \r\nz\r\n\" style=\"fill:#1f77b4;\"/>\r\n   </g>\r\n   <g id=\"patch_9\">\r\n    <path clip-path=\"url(#p1c35082cc4)\" d=\"M 253.938265 224.64 \r\nL 278.784276 224.64 \r\nL 278.784276 124.677146 \r\nL 253.938265 124.677146 \r\nz\r\n\" style=\"fill:#1f77b4;\"/>\r\n   </g>\r\n   <g id=\"patch_10\">\r\n    <path clip-path=\"url(#p1c35082cc4)\" d=\"M 284.995779 224.64 \r\nL 309.84179 224.64 \r\nL 309.84179 107.41853 \r\nL 284.995779 107.41853 \r\nz\r\n\" style=\"fill:#1f77b4;\"/>\r\n   </g>\r\n   <g id=\"patch_11\">\r\n    <path clip-path=\"url(#p1c35082cc4)\" d=\"M 316.053293 224.64 \r\nL 340.899304 224.64 \r\nL 340.899304 118.996054 \r\nL 316.053293 118.996054 \r\nz\r\n\" style=\"fill:#1f77b4;\"/>\r\n   </g>\r\n   <g id=\"patch_12\">\r\n    <path clip-path=\"url(#p1c35082cc4)\" d=\"M 347.110807 224.64 \r\nL 371.956818 224.64 \r\nL 371.956818 125.468516 \r\nL 347.110807 125.468516 \r\nz\r\n\" style=\"fill:#1f77b4;\"/>\r\n   </g>\r\n   <g id=\"matplotlib.axis_1\">\r\n    <g id=\"xtick_1\">\r\n     <g id=\"line2d_1\">\r\n      <defs>\r\n       <path d=\"M 0 0 \r\nL 0 3.5 \r\n\" id=\"m464385c687\" style=\"stroke:#000000;stroke-width:0.8;\"/>\r\n      </defs>\r\n      <g>\r\n       <use style=\"stroke:#000000;stroke-width:0.8;\" x=\"80.016187\" xlink:href=\"#m464385c687\" y=\"224.64\"/>\r\n      </g>\r\n     </g>\r\n     <g id=\"text_1\">\r\n      <!-- Blues -->\r\n      <g transform=\"translate(66.346656 239.238437)scale(0.1 -0.1)\">\r\n       <defs>\r\n        <path d=\"M 19.671875 34.8125 \r\nL 19.671875 8.109375 \r\nL 35.5 8.109375 \r\nQ 43.453125 8.109375 47.28125 11.40625 \r\nQ 51.125 14.703125 51.125 21.484375 \r\nQ 51.125 28.328125 47.28125 31.5625 \r\nQ 43.453125 34.8125 35.5 34.8125 \r\nz\r\nM 19.671875 64.796875 \r\nL 19.671875 42.828125 \r\nL 34.28125 42.828125 \r\nQ 41.5 42.828125 45.03125 45.53125 \r\nQ 48.578125 48.25 48.578125 53.8125 \r\nQ 48.578125 59.328125 45.03125 62.0625 \r\nQ 41.5 64.796875 34.28125 64.796875 \r\nz\r\nM 9.8125 72.90625 \r\nL 35.015625 72.90625 \r\nQ 46.296875 72.90625 52.390625 68.21875 \r\nQ 58.5 63.53125 58.5 54.890625 \r\nQ 58.5 48.1875 55.375 44.234375 \r\nQ 52.25 40.28125 46.1875 39.3125 \r\nQ 53.46875 37.75 57.5 32.78125 \r\nQ 61.53125 27.828125 61.53125 20.40625 \r\nQ 61.53125 10.640625 54.890625 5.3125 \r\nQ 48.25 0 35.984375 0 \r\nL 9.8125 0 \r\nz\r\n\" id=\"DejaVuSans-66\"/>\r\n        <path d=\"M 9.421875 75.984375 \r\nL 18.40625 75.984375 \r\nL 18.40625 0 \r\nL 9.421875 0 \r\nz\r\n\" id=\"DejaVuSans-108\"/>\r\n        <path d=\"M 8.5 21.578125 \r\nL 8.5 54.6875 \r\nL 17.484375 54.6875 \r\nL 17.484375 21.921875 \r\nQ 17.484375 14.15625 20.5 10.265625 \r\nQ 23.53125 6.390625 29.59375 6.390625 \r\nQ 36.859375 6.390625 41.078125 11.03125 \r\nQ 45.3125 15.671875 45.3125 23.6875 \r\nL 45.3125 54.6875 \r\nL 54.296875 54.6875 \r\nL 54.296875 0 \r\nL 45.3125 0 \r\nL 45.3125 8.40625 \r\nQ 42.046875 3.421875 37.71875 1 \r\nQ 33.40625 -1.421875 27.6875 -1.421875 \r\nQ 18.265625 -1.421875 13.375 4.4375 \r\nQ 8.5 10.296875 8.5 21.578125 \r\nz\r\nM 31.109375 56 \r\nz\r\n\" id=\"DejaVuSans-117\"/>\r\n        <path d=\"M 56.203125 29.59375 \r\nL 56.203125 25.203125 \r\nL 14.890625 25.203125 \r\nQ 15.484375 15.921875 20.484375 11.0625 \r\nQ 25.484375 6.203125 34.421875 6.203125 \r\nQ 39.59375 6.203125 44.453125 7.46875 \r\nQ 49.3125 8.734375 54.109375 11.28125 \r\nL 54.109375 2.78125 \r\nQ 49.265625 0.734375 44.1875 -0.34375 \r\nQ 39.109375 -1.421875 33.890625 -1.421875 \r\nQ 20.796875 -1.421875 13.15625 6.1875 \r\nQ 5.515625 13.8125 5.515625 26.8125 \r\nQ 5.515625 40.234375 12.765625 48.109375 \r\nQ 20.015625 56 32.328125 56 \r\nQ 43.359375 56 49.78125 48.890625 \r\nQ 56.203125 41.796875 56.203125 29.59375 \r\nz\r\nM 47.21875 32.234375 \r\nQ 47.125 39.59375 43.09375 43.984375 \r\nQ 39.0625 48.390625 32.421875 48.390625 \r\nQ 24.90625 48.390625 20.390625 44.140625 \r\nQ 15.875 39.890625 15.1875 32.171875 \r\nz\r\n\" id=\"DejaVuSans-101\"/>\r\n        <path d=\"M 44.28125 53.078125 \r\nL 44.28125 44.578125 \r\nQ 40.484375 46.53125 36.375 47.5 \r\nQ 32.28125 48.484375 27.875 48.484375 \r\nQ 21.1875 48.484375 17.84375 46.4375 \r\nQ 14.5 44.390625 14.5 40.28125 \r\nQ 14.5 37.15625 16.890625 35.375 \r\nQ 19.28125 33.59375 26.515625 31.984375 \r\nL 29.59375 31.296875 \r\nQ 39.15625 29.25 43.1875 25.515625 \r\nQ 47.21875 21.78125 47.21875 15.09375 \r\nQ 47.21875 7.46875 41.1875 3.015625 \r\nQ 35.15625 -1.421875 24.609375 -1.421875 \r\nQ 20.21875 -1.421875 15.453125 -0.5625 \r\nQ 10.6875 0.296875 5.421875 2 \r\nL 5.421875 11.28125 \r\nQ 10.40625 8.6875 15.234375 7.390625 \r\nQ 20.0625 6.109375 24.8125 6.109375 \r\nQ 31.15625 6.109375 34.5625 8.28125 \r\nQ 37.984375 10.453125 37.984375 14.40625 \r\nQ 37.984375 18.0625 35.515625 20.015625 \r\nQ 33.0625 21.96875 24.703125 23.78125 \r\nL 21.578125 24.515625 \r\nQ 13.234375 26.265625 9.515625 29.90625 \r\nQ 5.8125 33.546875 5.8125 39.890625 \r\nQ 5.8125 47.609375 11.28125 51.796875 \r\nQ 16.75 56 26.8125 56 \r\nQ 31.78125 56 36.171875 55.265625 \r\nQ 40.578125 54.546875 44.28125 53.078125 \r\nz\r\n\" id=\"DejaVuSans-115\"/>\r\n       </defs>\r\n       <use xlink:href=\"#DejaVuSans-66\"/>\r\n       <use x=\"68.603516\" xlink:href=\"#DejaVuSans-108\"/>\r\n       <use x=\"96.386719\" xlink:href=\"#DejaVuSans-117\"/>\r\n       <use x=\"159.765625\" xlink:href=\"#DejaVuSans-101\"/>\r\n       <use x=\"221.289062\" xlink:href=\"#DejaVuSans-115\"/>\r\n      </g>\r\n     </g>\r\n    </g>\r\n    <g id=\"xtick_2\">\r\n     <g id=\"line2d_2\">\r\n      <g>\r\n       <use style=\"stroke:#000000;stroke-width:0.8;\" x=\"111.073701\" xlink:href=\"#m464385c687\" y=\"224.64\"/>\r\n      </g>\r\n     </g>\r\n     <g id=\"text_2\">\r\n      <!-- Country -->\r\n      <g transform=\"translate(91.21042 239.238437)scale(0.1 -0.1)\">\r\n       <defs>\r\n        <path d=\"M 64.40625 67.28125 \r\nL 64.40625 56.890625 \r\nQ 59.421875 61.53125 53.78125 63.8125 \r\nQ 48.140625 66.109375 41.796875 66.109375 \r\nQ 29.296875 66.109375 22.65625 58.46875 \r\nQ 16.015625 50.828125 16.015625 36.375 \r\nQ 16.015625 21.96875 22.65625 14.328125 \r\nQ 29.296875 6.6875 41.796875 6.6875 \r\nQ 48.140625 6.6875 53.78125 8.984375 \r\nQ 59.421875 11.28125 64.40625 15.921875 \r\nL 64.40625 5.609375 \r\nQ 59.234375 2.09375 53.4375 0.328125 \r\nQ 47.65625 -1.421875 41.21875 -1.421875 \r\nQ 24.65625 -1.421875 15.125 8.703125 \r\nQ 5.609375 18.84375 5.609375 36.375 \r\nQ 5.609375 53.953125 15.125 64.078125 \r\nQ 24.65625 74.21875 41.21875 74.21875 \r\nQ 47.75 74.21875 53.53125 72.484375 \r\nQ 59.328125 70.75 64.40625 67.28125 \r\nz\r\n\" id=\"DejaVuSans-67\"/>\r\n        <path d=\"M 30.609375 48.390625 \r\nQ 23.390625 48.390625 19.1875 42.75 \r\nQ 14.984375 37.109375 14.984375 27.296875 \r\nQ 14.984375 17.484375 19.15625 11.84375 \r\nQ 23.34375 6.203125 30.609375 6.203125 \r\nQ 37.796875 6.203125 41.984375 11.859375 \r\nQ 46.1875 17.53125 46.1875 27.296875 \r\nQ 46.1875 37.015625 41.984375 42.703125 \r\nQ 37.796875 48.390625 30.609375 48.390625 \r\nz\r\nM 30.609375 56 \r\nQ 42.328125 56 49.015625 48.375 \r\nQ 55.71875 40.765625 55.71875 27.296875 \r\nQ 55.71875 13.875 49.015625 6.21875 \r\nQ 42.328125 -1.421875 30.609375 -1.421875 \r\nQ 18.84375 -1.421875 12.171875 6.21875 \r\nQ 5.515625 13.875 5.515625 27.296875 \r\nQ 5.515625 40.765625 12.171875 48.375 \r\nQ 18.84375 56 30.609375 56 \r\nz\r\n\" id=\"DejaVuSans-111\"/>\r\n        <path d=\"M 54.890625 33.015625 \r\nL 54.890625 0 \r\nL 45.90625 0 \r\nL 45.90625 32.71875 \r\nQ 45.90625 40.484375 42.875 44.328125 \r\nQ 39.84375 48.1875 33.796875 48.1875 \r\nQ 26.515625 48.1875 22.3125 43.546875 \r\nQ 18.109375 38.921875 18.109375 30.90625 \r\nL 18.109375 0 \r\nL 9.078125 0 \r\nL 9.078125 54.6875 \r\nL 18.109375 54.6875 \r\nL 18.109375 46.1875 \r\nQ 21.34375 51.125 25.703125 53.5625 \r\nQ 30.078125 56 35.796875 56 \r\nQ 45.21875 56 50.046875 50.171875 \r\nQ 54.890625 44.34375 54.890625 33.015625 \r\nz\r\n\" id=\"DejaVuSans-110\"/>\r\n        <path d=\"M 18.3125 70.21875 \r\nL 18.3125 54.6875 \r\nL 36.8125 54.6875 \r\nL 36.8125 47.703125 \r\nL 18.3125 47.703125 \r\nL 18.3125 18.015625 \r\nQ 18.3125 11.328125 20.140625 9.421875 \r\nQ 21.96875 7.515625 27.59375 7.515625 \r\nL 36.8125 7.515625 \r\nL 36.8125 0 \r\nL 27.59375 0 \r\nQ 17.1875 0 13.234375 3.875 \r\nQ 9.28125 7.765625 9.28125 18.015625 \r\nL 9.28125 47.703125 \r\nL 2.6875 47.703125 \r\nL 2.6875 54.6875 \r\nL 9.28125 54.6875 \r\nL 9.28125 70.21875 \r\nz\r\n\" id=\"DejaVuSans-116\"/>\r\n        <path d=\"M 41.109375 46.296875 \r\nQ 39.59375 47.171875 37.8125 47.578125 \r\nQ 36.03125 48 33.890625 48 \r\nQ 26.265625 48 22.1875 43.046875 \r\nQ 18.109375 38.09375 18.109375 28.8125 \r\nL 18.109375 0 \r\nL 9.078125 0 \r\nL 9.078125 54.6875 \r\nL 18.109375 54.6875 \r\nL 18.109375 46.1875 \r\nQ 20.953125 51.171875 25.484375 53.578125 \r\nQ 30.03125 56 36.53125 56 \r\nQ 37.453125 56 38.578125 55.875 \r\nQ 39.703125 55.765625 41.0625 55.515625 \r\nz\r\n\" id=\"DejaVuSans-114\"/>\r\n        <path d=\"M 32.171875 -5.078125 \r\nQ 28.375 -14.84375 24.75 -17.8125 \r\nQ 21.140625 -20.796875 15.09375 -20.796875 \r\nL 7.90625 -20.796875 \r\nL 7.90625 -13.28125 \r\nL 13.1875 -13.28125 \r\nQ 16.890625 -13.28125 18.9375 -11.515625 \r\nQ 21 -9.765625 23.484375 -3.21875 \r\nL 25.09375 0.875 \r\nL 2.984375 54.6875 \r\nL 12.5 54.6875 \r\nL 29.59375 11.921875 \r\nL 46.6875 54.6875 \r\nL 56.203125 54.6875 \r\nz\r\n\" id=\"DejaVuSans-121\"/>\r\n       </defs>\r\n       <use xlink:href=\"#DejaVuSans-67\"/>\r\n       <use x=\"69.824219\" xlink:href=\"#DejaVuSans-111\"/>\r\n       <use x=\"131.005859\" xlink:href=\"#DejaVuSans-117\"/>\r\n       <use x=\"194.384766\" xlink:href=\"#DejaVuSans-110\"/>\r\n       <use x=\"257.763672\" xlink:href=\"#DejaVuSans-116\"/>\r\n       <use x=\"296.972656\" xlink:href=\"#DejaVuSans-114\"/>\r\n       <use x=\"338.085938\" xlink:href=\"#DejaVuSans-121\"/>\r\n      </g>\r\n     </g>\r\n    </g>\r\n    <g id=\"xtick_3\">\r\n     <g id=\"line2d_3\">\r\n      <g>\r\n       <use style=\"stroke:#000000;stroke-width:0.8;\" x=\"142.131215\" xlink:href=\"#m464385c687\" y=\"224.64\"/>\r\n      </g>\r\n     </g>\r\n     <g id=\"text_3\">\r\n      <!-- Electronic -->\r\n      <g transform=\"translate(117.487465 239.238437)scale(0.1 -0.1)\">\r\n       <defs>\r\n        <path d=\"M 9.8125 72.90625 \r\nL 55.90625 72.90625 \r\nL 55.90625 64.59375 \r\nL 19.671875 64.59375 \r\nL 19.671875 43.015625 \r\nL 54.390625 43.015625 \r\nL 54.390625 34.71875 \r\nL 19.671875 34.71875 \r\nL 19.671875 8.296875 \r\nL 56.78125 8.296875 \r\nL 56.78125 0 \r\nL 9.8125 0 \r\nz\r\n\" id=\"DejaVuSans-69\"/>\r\n        <path d=\"M 48.78125 52.59375 \r\nL 48.78125 44.1875 \r\nQ 44.96875 46.296875 41.140625 47.34375 \r\nQ 37.3125 48.390625 33.40625 48.390625 \r\nQ 24.65625 48.390625 19.8125 42.84375 \r\nQ 14.984375 37.3125 14.984375 27.296875 \r\nQ 14.984375 17.28125 19.8125 11.734375 \r\nQ 24.65625 6.203125 33.40625 6.203125 \r\nQ 37.3125 6.203125 41.140625 7.25 \r\nQ 44.96875 8.296875 48.78125 10.40625 \r\nL 48.78125 2.09375 \r\nQ 45.015625 0.34375 40.984375 -0.53125 \r\nQ 36.96875 -1.421875 32.421875 -1.421875 \r\nQ 20.0625 -1.421875 12.78125 6.34375 \r\nQ 5.515625 14.109375 5.515625 27.296875 \r\nQ 5.515625 40.671875 12.859375 48.328125 \r\nQ 20.21875 56 33.015625 56 \r\nQ 37.15625 56 41.109375 55.140625 \r\nQ 45.0625 54.296875 48.78125 52.59375 \r\nz\r\n\" id=\"DejaVuSans-99\"/>\r\n        <path d=\"M 9.421875 54.6875 \r\nL 18.40625 54.6875 \r\nL 18.40625 0 \r\nL 9.421875 0 \r\nz\r\nM 9.421875 75.984375 \r\nL 18.40625 75.984375 \r\nL 18.40625 64.59375 \r\nL 9.421875 64.59375 \r\nz\r\n\" id=\"DejaVuSans-105\"/>\r\n       </defs>\r\n       <use xlink:href=\"#DejaVuSans-69\"/>\r\n       <use x=\"63.183594\" xlink:href=\"#DejaVuSans-108\"/>\r\n       <use x=\"90.966797\" xlink:href=\"#DejaVuSans-101\"/>\r\n       <use x=\"152.490234\" xlink:href=\"#DejaVuSans-99\"/>\r\n       <use x=\"207.470703\" xlink:href=\"#DejaVuSans-116\"/>\r\n       <use x=\"246.679688\" xlink:href=\"#DejaVuSans-114\"/>\r\n       <use x=\"285.542969\" xlink:href=\"#DejaVuSans-111\"/>\r\n       <use x=\"346.724609\" xlink:href=\"#DejaVuSans-110\"/>\r\n       <use x=\"410.103516\" xlink:href=\"#DejaVuSans-105\"/>\r\n       <use x=\"437.886719\" xlink:href=\"#DejaVuSans-99\"/>\r\n      </g>\r\n     </g>\r\n    </g>\r\n    <g id=\"xtick_4\">\r\n     <g id=\"line2d_4\">\r\n      <g>\r\n       <use style=\"stroke:#000000;stroke-width:0.8;\" x=\"173.188729\" xlink:href=\"#m464385c687\" y=\"224.64\"/>\r\n      </g>\r\n     </g>\r\n     <g id=\"text_4\">\r\n      <!-- Folk -->\r\n      <g transform=\"translate(163.150448 239.238437)scale(0.1 -0.1)\">\r\n       <defs>\r\n        <path d=\"M 9.8125 72.90625 \r\nL 51.703125 72.90625 \r\nL 51.703125 64.59375 \r\nL 19.671875 64.59375 \r\nL 19.671875 43.109375 \r\nL 48.578125 43.109375 \r\nL 48.578125 34.8125 \r\nL 19.671875 34.8125 \r\nL 19.671875 0 \r\nL 9.8125 0 \r\nz\r\n\" id=\"DejaVuSans-70\"/>\r\n        <path d=\"M 9.078125 75.984375 \r\nL 18.109375 75.984375 \r\nL 18.109375 31.109375 \r\nL 44.921875 54.6875 \r\nL 56.390625 54.6875 \r\nL 27.390625 29.109375 \r\nL 57.625 0 \r\nL 45.90625 0 \r\nL 18.109375 26.703125 \r\nL 18.109375 0 \r\nL 9.078125 0 \r\nz\r\n\" id=\"DejaVuSans-107\"/>\r\n       </defs>\r\n       <use xlink:href=\"#DejaVuSans-70\"/>\r\n       <use x=\"53.894531\" xlink:href=\"#DejaVuSans-111\"/>\r\n       <use x=\"115.076172\" xlink:href=\"#DejaVuSans-108\"/>\r\n       <use x=\"142.859375\" xlink:href=\"#DejaVuSans-107\"/>\r\n      </g>\r\n     </g>\r\n    </g>\r\n    <g id=\"xtick_5\">\r\n     <g id=\"line2d_5\">\r\n      <g>\r\n       <use style=\"stroke:#000000;stroke-width:0.8;\" x=\"204.246243\" xlink:href=\"#m464385c687\" y=\"224.64\"/>\r\n      </g>\r\n     </g>\r\n     <g id=\"text_5\">\r\n      <!-- Hip Hop -->\r\n      <g transform=\"translate(184.339993 239.238437)scale(0.1 -0.1)\">\r\n       <defs>\r\n        <path d=\"M 9.8125 72.90625 \r\nL 19.671875 72.90625 \r\nL 19.671875 43.015625 \r\nL 55.515625 43.015625 \r\nL 55.515625 72.90625 \r\nL 65.375 72.90625 \r\nL 65.375 0 \r\nL 55.515625 0 \r\nL 55.515625 34.71875 \r\nL 19.671875 34.71875 \r\nL 19.671875 0 \r\nL 9.8125 0 \r\nz\r\n\" id=\"DejaVuSans-72\"/>\r\n        <path d=\"M 18.109375 8.203125 \r\nL 18.109375 -20.796875 \r\nL 9.078125 -20.796875 \r\nL 9.078125 54.6875 \r\nL 18.109375 54.6875 \r\nL 18.109375 46.390625 \r\nQ 20.953125 51.265625 25.265625 53.625 \r\nQ 29.59375 56 35.59375 56 \r\nQ 45.5625 56 51.78125 48.09375 \r\nQ 58.015625 40.1875 58.015625 27.296875 \r\nQ 58.015625 14.40625 51.78125 6.484375 \r\nQ 45.5625 -1.421875 35.59375 -1.421875 \r\nQ 29.59375 -1.421875 25.265625 0.953125 \r\nQ 20.953125 3.328125 18.109375 8.203125 \r\nz\r\nM 48.6875 27.296875 \r\nQ 48.6875 37.203125 44.609375 42.84375 \r\nQ 40.53125 48.484375 33.40625 48.484375 \r\nQ 26.265625 48.484375 22.1875 42.84375 \r\nQ 18.109375 37.203125 18.109375 27.296875 \r\nQ 18.109375 17.390625 22.1875 11.75 \r\nQ 26.265625 6.109375 33.40625 6.109375 \r\nQ 40.53125 6.109375 44.609375 11.75 \r\nQ 48.6875 17.390625 48.6875 27.296875 \r\nz\r\n\" id=\"DejaVuSans-112\"/>\r\n        <path id=\"DejaVuSans-32\"/>\r\n       </defs>\r\n       <use xlink:href=\"#DejaVuSans-72\"/>\r\n       <use x=\"75.195312\" xlink:href=\"#DejaVuSans-105\"/>\r\n       <use x=\"102.978516\" xlink:href=\"#DejaVuSans-112\"/>\r\n       <use x=\"166.455078\" xlink:href=\"#DejaVuSans-32\"/>\r\n       <use x=\"198.242188\" xlink:href=\"#DejaVuSans-72\"/>\r\n       <use x=\"273.4375\" xlink:href=\"#DejaVuSans-111\"/>\r\n       <use x=\"334.619141\" xlink:href=\"#DejaVuSans-112\"/>\r\n      </g>\r\n     </g>\r\n    </g>\r\n    <g id=\"xtick_6\">\r\n     <g id=\"line2d_6\">\r\n      <g>\r\n       <use style=\"stroke:#000000;stroke-width:0.8;\" x=\"235.303757\" xlink:href=\"#m464385c687\" y=\"224.64\"/>\r\n      </g>\r\n     </g>\r\n     <g id=\"text_6\">\r\n      <!-- Jazz -->\r\n      <g transform=\"translate(225.516257 239.238437)scale(0.1 -0.1)\">\r\n       <defs>\r\n        <path d=\"M 9.8125 72.90625 \r\nL 19.671875 72.90625 \r\nL 19.671875 5.078125 \r\nQ 19.671875 -8.109375 14.671875 -14.0625 \r\nQ 9.671875 -20.015625 -1.421875 -20.015625 \r\nL -5.171875 -20.015625 \r\nL -5.171875 -11.71875 \r\nL -2.09375 -11.71875 \r\nQ 4.4375 -11.71875 7.125 -8.046875 \r\nQ 9.8125 -4.390625 9.8125 5.078125 \r\nz\r\n\" id=\"DejaVuSans-74\"/>\r\n        <path d=\"M 34.28125 27.484375 \r\nQ 23.390625 27.484375 19.1875 25 \r\nQ 14.984375 22.515625 14.984375 16.5 \r\nQ 14.984375 11.71875 18.140625 8.90625 \r\nQ 21.296875 6.109375 26.703125 6.109375 \r\nQ 34.1875 6.109375 38.703125 11.40625 \r\nQ 43.21875 16.703125 43.21875 25.484375 \r\nL 43.21875 27.484375 \r\nz\r\nM 52.203125 31.203125 \r\nL 52.203125 0 \r\nL 43.21875 0 \r\nL 43.21875 8.296875 \r\nQ 40.140625 3.328125 35.546875 0.953125 \r\nQ 30.953125 -1.421875 24.3125 -1.421875 \r\nQ 15.921875 -1.421875 10.953125 3.296875 \r\nQ 6 8.015625 6 15.921875 \r\nQ 6 25.140625 12.171875 29.828125 \r\nQ 18.359375 34.515625 30.609375 34.515625 \r\nL 43.21875 34.515625 \r\nL 43.21875 35.40625 \r\nQ 43.21875 41.609375 39.140625 45 \r\nQ 35.0625 48.390625 27.6875 48.390625 \r\nQ 23 48.390625 18.546875 47.265625 \r\nQ 14.109375 46.140625 10.015625 43.890625 \r\nL 10.015625 52.203125 \r\nQ 14.9375 54.109375 19.578125 55.046875 \r\nQ 24.21875 56 28.609375 56 \r\nQ 40.484375 56 46.34375 49.84375 \r\nQ 52.203125 43.703125 52.203125 31.203125 \r\nz\r\n\" id=\"DejaVuSans-97\"/>\r\n        <path d=\"M 5.515625 54.6875 \r\nL 48.1875 54.6875 \r\nL 48.1875 46.484375 \r\nL 14.40625 7.171875 \r\nL 48.1875 7.171875 \r\nL 48.1875 0 \r\nL 4.296875 0 \r\nL 4.296875 8.203125 \r\nL 38.09375 47.515625 \r\nL 5.515625 47.515625 \r\nz\r\n\" id=\"DejaVuSans-122\"/>\r\n       </defs>\r\n       <use xlink:href=\"#DejaVuSans-74\"/>\r\n       <use x=\"29.492188\" xlink:href=\"#DejaVuSans-97\"/>\r\n       <use x=\"90.771484\" xlink:href=\"#DejaVuSans-122\"/>\r\n       <use x=\"143.261719\" xlink:href=\"#DejaVuSans-122\"/>\r\n      </g>\r\n     </g>\r\n    </g>\r\n    <g id=\"xtick_7\">\r\n     <g id=\"line2d_7\">\r\n      <g>\r\n       <use style=\"stroke:#000000;stroke-width:0.8;\" x=\"266.361271\" xlink:href=\"#m464385c687\" y=\"224.64\"/>\r\n      </g>\r\n     </g>\r\n     <g id=\"text_7\">\r\n      <!-- Metal -->\r\n      <g transform=\"translate(252.557365 239.238437)scale(0.1 -0.1)\">\r\n       <defs>\r\n        <path d=\"M 9.8125 72.90625 \r\nL 24.515625 72.90625 \r\nL 43.109375 23.296875 \r\nL 61.8125 72.90625 \r\nL 76.515625 72.90625 \r\nL 76.515625 0 \r\nL 66.890625 0 \r\nL 66.890625 64.015625 \r\nL 48.09375 14.015625 \r\nL 38.1875 14.015625 \r\nL 19.390625 64.015625 \r\nL 19.390625 0 \r\nL 9.8125 0 \r\nz\r\n\" id=\"DejaVuSans-77\"/>\r\n       </defs>\r\n       <use xlink:href=\"#DejaVuSans-77\"/>\r\n       <use x=\"86.279297\" xlink:href=\"#DejaVuSans-101\"/>\r\n       <use x=\"147.802734\" xlink:href=\"#DejaVuSans-116\"/>\r\n       <use x=\"187.011719\" xlink:href=\"#DejaVuSans-97\"/>\r\n       <use x=\"248.291016\" xlink:href=\"#DejaVuSans-108\"/>\r\n      </g>\r\n     </g>\r\n    </g>\r\n    <g id=\"xtick_8\">\r\n     <g id=\"line2d_8\">\r\n      <g>\r\n       <use style=\"stroke:#000000;stroke-width:0.8;\" x=\"297.418785\" xlink:href=\"#m464385c687\" y=\"224.64\"/>\r\n      </g>\r\n     </g>\r\n     <g id=\"text_8\">\r\n      <!-- Pop -->\r\n      <g transform=\"translate(288.351597 239.238437)scale(0.1 -0.1)\">\r\n       <defs>\r\n        <path d=\"M 19.671875 64.796875 \r\nL 19.671875 37.40625 \r\nL 32.078125 37.40625 \r\nQ 38.96875 37.40625 42.71875 40.96875 \r\nQ 46.484375 44.53125 46.484375 51.125 \r\nQ 46.484375 57.671875 42.71875 61.234375 \r\nQ 38.96875 64.796875 32.078125 64.796875 \r\nz\r\nM 9.8125 72.90625 \r\nL 32.078125 72.90625 \r\nQ 44.34375 72.90625 50.609375 67.359375 \r\nQ 56.890625 61.8125 56.890625 51.125 \r\nQ 56.890625 40.328125 50.609375 34.8125 \r\nQ 44.34375 29.296875 32.078125 29.296875 \r\nL 19.671875 29.296875 \r\nL 19.671875 0 \r\nL 9.8125 0 \r\nz\r\n\" id=\"DejaVuSans-80\"/>\r\n       </defs>\r\n       <use xlink:href=\"#DejaVuSans-80\"/>\r\n       <use x=\"56.677734\" xlink:href=\"#DejaVuSans-111\"/>\r\n       <use x=\"117.859375\" xlink:href=\"#DejaVuSans-112\"/>\r\n      </g>\r\n     </g>\r\n    </g>\r\n    <g id=\"xtick_9\">\r\n     <g id=\"line2d_9\">\r\n      <g>\r\n       <use style=\"stroke:#000000;stroke-width:0.8;\" x=\"328.476299\" xlink:href=\"#m464385c687\" y=\"224.64\"/>\r\n      </g>\r\n     </g>\r\n     <g id=\"text_9\">\r\n      <!-- Punk -->\r\n      <g transform=\"translate(316.316142 239.238437)scale(0.1 -0.1)\">\r\n       <use xlink:href=\"#DejaVuSans-80\"/>\r\n       <use x=\"58.552734\" xlink:href=\"#DejaVuSans-117\"/>\r\n       <use x=\"121.931641\" xlink:href=\"#DejaVuSans-110\"/>\r\n       <use x=\"185.310547\" xlink:href=\"#DejaVuSans-107\"/>\r\n      </g>\r\n     </g>\r\n    </g>\r\n    <g id=\"xtick_10\">\r\n     <g id=\"line2d_10\">\r\n      <g>\r\n       <use style=\"stroke:#000000;stroke-width:0.8;\" x=\"359.533813\" xlink:href=\"#m464385c687\" y=\"224.64\"/>\r\n      </g>\r\n     </g>\r\n     <g id=\"text_10\">\r\n      <!-- Rock -->\r\n      <g transform=\"translate(347.580688 239.238437)scale(0.1 -0.1)\">\r\n       <defs>\r\n        <path d=\"M 44.390625 34.1875 \r\nQ 47.5625 33.109375 50.5625 29.59375 \r\nQ 53.5625 26.078125 56.59375 19.921875 \r\nL 66.609375 0 \r\nL 56 0 \r\nL 46.6875 18.703125 \r\nQ 43.0625 26.03125 39.671875 28.421875 \r\nQ 36.28125 30.8125 30.421875 30.8125 \r\nL 19.671875 30.8125 \r\nL 19.671875 0 \r\nL 9.8125 0 \r\nL 9.8125 72.90625 \r\nL 32.078125 72.90625 \r\nQ 44.578125 72.90625 50.734375 67.671875 \r\nQ 56.890625 62.453125 56.890625 51.90625 \r\nQ 56.890625 45.015625 53.6875 40.46875 \r\nQ 50.484375 35.9375 44.390625 34.1875 \r\nz\r\nM 19.671875 64.796875 \r\nL 19.671875 38.921875 \r\nL 32.078125 38.921875 \r\nQ 39.203125 38.921875 42.84375 42.21875 \r\nQ 46.484375 45.515625 46.484375 51.90625 \r\nQ 46.484375 58.296875 42.84375 61.546875 \r\nQ 39.203125 64.796875 32.078125 64.796875 \r\nz\r\n\" id=\"DejaVuSans-82\"/>\r\n       </defs>\r\n       <use xlink:href=\"#DejaVuSans-82\"/>\r\n       <use x=\"64.982422\" xlink:href=\"#DejaVuSans-111\"/>\r\n       <use x=\"126.164062\" xlink:href=\"#DejaVuSans-99\"/>\r\n       <use x=\"181.144531\" xlink:href=\"#DejaVuSans-107\"/>\r\n      </g>\r\n     </g>\r\n    </g>\r\n   </g>\r\n   <g id=\"matplotlib.axis_2\">\r\n    <g id=\"ytick_1\">\r\n     <g id=\"line2d_11\">\r\n      <defs>\r\n       <path d=\"M 0 0 \r\nL -3.5 0 \r\n\" id=\"m20e60cf567\" style=\"stroke:#000000;stroke-width:0.8;\"/>\r\n      </defs>\r\n      <g>\r\n       <use style=\"stroke:#000000;stroke-width:0.8;\" x=\"52.375\" xlink:href=\"#m20e60cf567\" y=\"224.64\"/>\r\n      </g>\r\n     </g>\r\n     <g id=\"text_11\">\r\n      <!-- 0 -->\r\n      <g transform=\"translate(39.0125 228.439219)scale(0.1 -0.1)\">\r\n       <defs>\r\n        <path d=\"M 31.78125 66.40625 \r\nQ 24.171875 66.40625 20.328125 58.90625 \r\nQ 16.5 51.421875 16.5 36.375 \r\nQ 16.5 21.390625 20.328125 13.890625 \r\nQ 24.171875 6.390625 31.78125 6.390625 \r\nQ 39.453125 6.390625 43.28125 13.890625 \r\nQ 47.125 21.390625 47.125 36.375 \r\nQ 47.125 51.421875 43.28125 58.90625 \r\nQ 39.453125 66.40625 31.78125 66.40625 \r\nz\r\nM 31.78125 74.21875 \r\nQ 44.046875 74.21875 50.515625 64.515625 \r\nQ 56.984375 54.828125 56.984375 36.375 \r\nQ 56.984375 17.96875 50.515625 8.265625 \r\nQ 44.046875 -1.421875 31.78125 -1.421875 \r\nQ 19.53125 -1.421875 13.0625 8.265625 \r\nQ 6.59375 17.96875 6.59375 36.375 \r\nQ 6.59375 54.828125 13.0625 64.515625 \r\nQ 19.53125 74.21875 31.78125 74.21875 \r\nz\r\n\" id=\"DejaVuSans-48\"/>\r\n       </defs>\r\n       <use xlink:href=\"#DejaVuSans-48\"/>\r\n      </g>\r\n     </g>\r\n    </g>\r\n    <g id=\"ytick_2\">\r\n     <g id=\"line2d_12\">\r\n      <g>\r\n       <use style=\"stroke:#000000;stroke-width:0.8;\" x=\"52.375\" xlink:href=\"#m20e60cf567\" y=\"186.186685\"/>\r\n      </g>\r\n     </g>\r\n     <g id=\"text_12\">\r\n      <!-- 100000 -->\r\n      <g transform=\"translate(7.2 189.985904)scale(0.1 -0.1)\">\r\n       <defs>\r\n        <path d=\"M 12.40625 8.296875 \r\nL 28.515625 8.296875 \r\nL 28.515625 63.921875 \r\nL 10.984375 60.40625 \r\nL 10.984375 69.390625 \r\nL 28.421875 72.90625 \r\nL 38.28125 72.90625 \r\nL 38.28125 8.296875 \r\nL 54.390625 8.296875 \r\nL 54.390625 0 \r\nL 12.40625 0 \r\nz\r\n\" id=\"DejaVuSans-49\"/>\r\n       </defs>\r\n       <use xlink:href=\"#DejaVuSans-49\"/>\r\n       <use x=\"63.623047\" xlink:href=\"#DejaVuSans-48\"/>\r\n       <use x=\"127.246094\" xlink:href=\"#DejaVuSans-48\"/>\r\n       <use x=\"190.869141\" xlink:href=\"#DejaVuSans-48\"/>\r\n       <use x=\"254.492188\" xlink:href=\"#DejaVuSans-48\"/>\r\n       <use x=\"318.115234\" xlink:href=\"#DejaVuSans-48\"/>\r\n      </g>\r\n     </g>\r\n    </g>\r\n    <g id=\"ytick_3\">\r\n     <g id=\"line2d_13\">\r\n      <g>\r\n       <use style=\"stroke:#000000;stroke-width:0.8;\" x=\"52.375\" xlink:href=\"#m20e60cf567\" y=\"147.73337\"/>\r\n      </g>\r\n     </g>\r\n     <g id=\"text_13\">\r\n      <!-- 200000 -->\r\n      <g transform=\"translate(7.2 151.532588)scale(0.1 -0.1)\">\r\n       <defs>\r\n        <path d=\"M 19.1875 8.296875 \r\nL 53.609375 8.296875 \r\nL 53.609375 0 \r\nL 7.328125 0 \r\nL 7.328125 8.296875 \r\nQ 12.9375 14.109375 22.625 23.890625 \r\nQ 32.328125 33.6875 34.8125 36.53125 \r\nQ 39.546875 41.84375 41.421875 45.53125 \r\nQ 43.3125 49.21875 43.3125 52.78125 \r\nQ 43.3125 58.59375 39.234375 62.25 \r\nQ 35.15625 65.921875 28.609375 65.921875 \r\nQ 23.96875 65.921875 18.8125 64.3125 \r\nQ 13.671875 62.703125 7.8125 59.421875 \r\nL 7.8125 69.390625 \r\nQ 13.765625 71.78125 18.9375 73 \r\nQ 24.125 74.21875 28.421875 74.21875 \r\nQ 39.75 74.21875 46.484375 68.546875 \r\nQ 53.21875 62.890625 53.21875 53.421875 \r\nQ 53.21875 48.921875 51.53125 44.890625 \r\nQ 49.859375 40.875 45.40625 35.40625 \r\nQ 44.1875 33.984375 37.640625 27.21875 \r\nQ 31.109375 20.453125 19.1875 8.296875 \r\nz\r\n\" id=\"DejaVuSans-50\"/>\r\n       </defs>\r\n       <use xlink:href=\"#DejaVuSans-50\"/>\r\n       <use x=\"63.623047\" xlink:href=\"#DejaVuSans-48\"/>\r\n       <use x=\"127.246094\" xlink:href=\"#DejaVuSans-48\"/>\r\n       <use x=\"190.869141\" xlink:href=\"#DejaVuSans-48\"/>\r\n       <use x=\"254.492188\" xlink:href=\"#DejaVuSans-48\"/>\r\n       <use x=\"318.115234\" xlink:href=\"#DejaVuSans-48\"/>\r\n      </g>\r\n     </g>\r\n    </g>\r\n    <g id=\"ytick_4\">\r\n     <g id=\"line2d_14\">\r\n      <g>\r\n       <use style=\"stroke:#000000;stroke-width:0.8;\" x=\"52.375\" xlink:href=\"#m20e60cf567\" y=\"109.280055\"/>\r\n      </g>\r\n     </g>\r\n     <g id=\"text_14\">\r\n      <!-- 300000 -->\r\n      <g transform=\"translate(7.2 113.079273)scale(0.1 -0.1)\">\r\n       <defs>\r\n        <path d=\"M 40.578125 39.3125 \r\nQ 47.65625 37.796875 51.625 33 \r\nQ 55.609375 28.21875 55.609375 21.1875 \r\nQ 55.609375 10.40625 48.1875 4.484375 \r\nQ 40.765625 -1.421875 27.09375 -1.421875 \r\nQ 22.515625 -1.421875 17.65625 -0.515625 \r\nQ 12.796875 0.390625 7.625 2.203125 \r\nL 7.625 11.71875 \r\nQ 11.71875 9.328125 16.59375 8.109375 \r\nQ 21.484375 6.890625 26.8125 6.890625 \r\nQ 36.078125 6.890625 40.9375 10.546875 \r\nQ 45.796875 14.203125 45.796875 21.1875 \r\nQ 45.796875 27.640625 41.28125 31.265625 \r\nQ 36.765625 34.90625 28.71875 34.90625 \r\nL 20.21875 34.90625 \r\nL 20.21875 43.015625 \r\nL 29.109375 43.015625 \r\nQ 36.375 43.015625 40.234375 45.921875 \r\nQ 44.09375 48.828125 44.09375 54.296875 \r\nQ 44.09375 59.90625 40.109375 62.90625 \r\nQ 36.140625 65.921875 28.71875 65.921875 \r\nQ 24.65625 65.921875 20.015625 65.03125 \r\nQ 15.375 64.15625 9.8125 62.3125 \r\nL 9.8125 71.09375 \r\nQ 15.4375 72.65625 20.34375 73.4375 \r\nQ 25.25 74.21875 29.59375 74.21875 \r\nQ 40.828125 74.21875 47.359375 69.109375 \r\nQ 53.90625 64.015625 53.90625 55.328125 \r\nQ 53.90625 49.265625 50.4375 45.09375 \r\nQ 46.96875 40.921875 40.578125 39.3125 \r\nz\r\n\" id=\"DejaVuSans-51\"/>\r\n       </defs>\r\n       <use xlink:href=\"#DejaVuSans-51\"/>\r\n       <use x=\"63.623047\" xlink:href=\"#DejaVuSans-48\"/>\r\n       <use x=\"127.246094\" xlink:href=\"#DejaVuSans-48\"/>\r\n       <use x=\"190.869141\" xlink:href=\"#DejaVuSans-48\"/>\r\n       <use x=\"254.492188\" xlink:href=\"#DejaVuSans-48\"/>\r\n       <use x=\"318.115234\" xlink:href=\"#DejaVuSans-48\"/>\r\n      </g>\r\n     </g>\r\n    </g>\r\n    <g id=\"ytick_5\">\r\n     <g id=\"line2d_15\">\r\n      <g>\r\n       <use style=\"stroke:#000000;stroke-width:0.8;\" x=\"52.375\" xlink:href=\"#m20e60cf567\" y=\"70.826739\"/>\r\n      </g>\r\n     </g>\r\n     <g id=\"text_15\">\r\n      <!-- 400000 -->\r\n      <g transform=\"translate(7.2 74.625958)scale(0.1 -0.1)\">\r\n       <defs>\r\n        <path d=\"M 37.796875 64.3125 \r\nL 12.890625 25.390625 \r\nL 37.796875 25.390625 \r\nz\r\nM 35.203125 72.90625 \r\nL 47.609375 72.90625 \r\nL 47.609375 25.390625 \r\nL 58.015625 25.390625 \r\nL 58.015625 17.1875 \r\nL 47.609375 17.1875 \r\nL 47.609375 0 \r\nL 37.796875 0 \r\nL 37.796875 17.1875 \r\nL 4.890625 17.1875 \r\nL 4.890625 26.703125 \r\nz\r\n\" id=\"DejaVuSans-52\"/>\r\n       </defs>\r\n       <use xlink:href=\"#DejaVuSans-52\"/>\r\n       <use x=\"63.623047\" xlink:href=\"#DejaVuSans-48\"/>\r\n       <use x=\"127.246094\" xlink:href=\"#DejaVuSans-48\"/>\r\n       <use x=\"190.869141\" xlink:href=\"#DejaVuSans-48\"/>\r\n       <use x=\"254.492188\" xlink:href=\"#DejaVuSans-48\"/>\r\n       <use x=\"318.115234\" xlink:href=\"#DejaVuSans-48\"/>\r\n      </g>\r\n     </g>\r\n    </g>\r\n    <g id=\"ytick_6\">\r\n     <g id=\"line2d_16\">\r\n      <g>\r\n       <use style=\"stroke:#000000;stroke-width:0.8;\" x=\"52.375\" xlink:href=\"#m20e60cf567\" y=\"32.373424\"/>\r\n      </g>\r\n     </g>\r\n     <g id=\"text_16\">\r\n      <!-- 500000 -->\r\n      <g transform=\"translate(7.2 36.172643)scale(0.1 -0.1)\">\r\n       <defs>\r\n        <path d=\"M 10.796875 72.90625 \r\nL 49.515625 72.90625 \r\nL 49.515625 64.59375 \r\nL 19.828125 64.59375 \r\nL 19.828125 46.734375 \r\nQ 21.96875 47.46875 24.109375 47.828125 \r\nQ 26.265625 48.1875 28.421875 48.1875 \r\nQ 40.625 48.1875 47.75 41.5 \r\nQ 54.890625 34.8125 54.890625 23.390625 \r\nQ 54.890625 11.625 47.5625 5.09375 \r\nQ 40.234375 -1.421875 26.90625 -1.421875 \r\nQ 22.3125 -1.421875 17.546875 -0.640625 \r\nQ 12.796875 0.140625 7.71875 1.703125 \r\nL 7.71875 11.625 \r\nQ 12.109375 9.234375 16.796875 8.0625 \r\nQ 21.484375 6.890625 26.703125 6.890625 \r\nQ 35.15625 6.890625 40.078125 11.328125 \r\nQ 45.015625 15.765625 45.015625 23.390625 \r\nQ 45.015625 31 40.078125 35.4375 \r\nQ 35.15625 39.890625 26.703125 39.890625 \r\nQ 22.75 39.890625 18.8125 39.015625 \r\nQ 14.890625 38.140625 10.796875 36.28125 \r\nz\r\n\" id=\"DejaVuSans-53\"/>\r\n       </defs>\r\n       <use xlink:href=\"#DejaVuSans-53\"/>\r\n       <use x=\"63.623047\" xlink:href=\"#DejaVuSans-48\"/>\r\n       <use x=\"127.246094\" xlink:href=\"#DejaVuSans-48\"/>\r\n       <use x=\"190.869141\" xlink:href=\"#DejaVuSans-48\"/>\r\n       <use x=\"254.492188\" xlink:href=\"#DejaVuSans-48\"/>\r\n       <use x=\"318.115234\" xlink:href=\"#DejaVuSans-48\"/>\r\n      </g>\r\n     </g>\r\n    </g>\r\n   </g>\r\n   <g id=\"patch_13\">\r\n    <path d=\"M 52.375 224.64 \r\nL 52.375 7.2 \r\n\" style=\"fill:none;stroke:#000000;stroke-linecap:square;stroke-linejoin:miter;stroke-width:0.8;\"/>\r\n   </g>\r\n   <g id=\"patch_14\">\r\n    <path d=\"M 387.175 224.64 \r\nL 387.175 7.2 \r\n\" style=\"fill:none;stroke:#000000;stroke-linecap:square;stroke-linejoin:miter;stroke-width:0.8;\"/>\r\n   </g>\r\n   <g id=\"patch_15\">\r\n    <path d=\"M 52.375 224.64 \r\nL 387.175 224.64 \r\n\" style=\"fill:none;stroke:#000000;stroke-linecap:square;stroke-linejoin:miter;stroke-width:0.8;\"/>\r\n   </g>\r\n   <g id=\"patch_16\">\r\n    <path d=\"M 52.375 7.2 \r\nL 387.175 7.2 \r\n\" style=\"fill:none;stroke:#000000;stroke-linecap:square;stroke-linejoin:miter;stroke-width:0.8;\"/>\r\n   </g>\r\n  </g>\r\n </g>\r\n <defs>\r\n  <clipPath id=\"p1c35082cc4\">\r\n   <rect height=\"217.44\" width=\"334.8\" x=\"52.375\" y=\"7.2\"/>\r\n  </clipPath>\r\n </defs>\r\n</svg>\r\n",
      "image/png": "[encoded data removed]"
     },
     "metadata": {
      "needs_background": "light"
     }
    }
   ],
   "source": [
    "plt.bar(length_of_lyrics_per_genre.keys(), length_of_lyrics_per_genre.values())"
   ]
  },
  {
   "cell_type": "code",
   "execution_count": 14,
   "metadata": {},
   "outputs": [],
   "source": [
    "unique_words_per_genre = {}\n",
    "length_unique_words_per_genre = {}\n",
    "for genre, lyric in cleaned_lyrics.groupby('closest_genre')['lyric'].sum().iteritems():\n",
    "    text = lyric.lower()\n",
    "    tokens = wordpunct_tokenize(text)\n",
    "    unique_words_per_genre[genre] = set(tokens)\n",
    "    length_unique_words_per_genre[genre] = len(set(tokens))"
   ]
  },
  {
   "cell_type": "code",
   "execution_count": 15,
   "metadata": {},
   "outputs": [
    {
     "output_type": "execute_result",
     "data": {
      "text/plain": [
       "<BarContainer object of 10 artists>"
      ]
     },
     "metadata": {},
     "execution_count": 15
    },
    {
     "output_type": "display_data",
     "data": {
      "text/plain": "<Figure size 432x288 with 1 Axes>",
      "image/svg+xml": "<?xml version=\"1.0\" encoding=\"utf-8\" standalone=\"no\"?>\r\n<!DOCTYPE svg PUBLIC \"-//W3C//DTD SVG 1.1//EN\"\r\n  \"http://www.w3.org/Graphics/SVG/1.1/DTD/svg11.dtd\">\r\n<!-- Created with matplotlib (https://matplotlib.org/) -->\r\n<svg height=\"248.518125pt\" version=\"1.1\" viewBox=\"0 0 381.65 248.518125\" width=\"381.65pt\" xmlns=\"http://www.w3.org/2000/svg\" xmlns:xlink=\"http://www.w3.org/1999/xlink\">\r\n <metadata>\r\n  <rdf:RDF xmlns:cc=\"http://creativecommons.org/ns#\" xmlns:dc=\"http://purl.org/dc/elements/1.1/\" xmlns:rdf=\"http://www.w3.org/1999/02/22-rdf-syntax-ns#\">\r\n   <cc:Work>\r\n    <dc:type rdf:resource=\"http://purl.org/dc/dcmitype/StillImage\"/>\r\n    <dc:date>2021-02-14T10:35:27.811205</dc:date>\r\n    <dc:format>image/svg+xml</dc:format>\r\n    <dc:creator>\r\n     <cc:Agent>\r\n      <dc:title>Matplotlib v3.3.2, https://matplotlib.org/</dc:title>\r\n     </cc:Agent>\r\n    </dc:creator>\r\n   </cc:Work>\r\n  </rdf:RDF>\r\n </metadata>\r\n <defs>\r\n  <style type=\"text/css\">*{stroke-linecap:butt;stroke-linejoin:round;}</style>\r\n </defs>\r\n <g id=\"figure_1\">\r\n  <g id=\"patch_1\">\r\n   <path d=\"M -0 248.518125 \r\nL 381.65 248.518125 \r\nL 381.65 0 \r\nL -0 0 \r\nz\r\n\" style=\"fill:none;\"/>\r\n  </g>\r\n  <g id=\"axes_1\">\r\n   <g id=\"patch_2\">\r\n    <path d=\"M 39.65 224.64 \r\nL 374.45 224.64 \r\nL 374.45 7.2 \r\nL 39.65 7.2 \r\nz\r\n\" style=\"fill:#ffffff;\"/>\r\n   </g>\r\n   <g id=\"patch_3\">\r\n    <path clip-path=\"url(#p33afbe3c46)\" d=\"M 54.868182 224.64 \r\nL 79.714193 224.64 \r\nL 79.714193 143.28407 \r\nL 54.868182 143.28407 \r\nz\r\n\" style=\"fill:#1f77b4;\"/>\r\n   </g>\r\n   <g id=\"patch_4\">\r\n    <path clip-path=\"url(#p33afbe3c46)\" d=\"M 85.925696 224.64 \r\nL 110.771707 224.64 \r\nL 110.771707 127.202893 \r\nL 85.925696 127.202893 \r\nz\r\n\" style=\"fill:#1f77b4;\"/>\r\n   </g>\r\n   <g id=\"patch_5\">\r\n    <path clip-path=\"url(#p33afbe3c46)\" d=\"M 116.98321 224.64 \r\nL 141.829221 224.64 \r\nL 141.829221 126.785802 \r\nL 116.98321 126.785802 \r\nz\r\n\" style=\"fill:#1f77b4;\"/>\r\n   </g>\r\n   <g id=\"patch_6\">\r\n    <path clip-path=\"url(#p33afbe3c46)\" d=\"M 148.040724 224.64 \r\nL 172.886735 224.64 \r\nL 172.886735 109.128946 \r\nL 148.040724 109.128946 \r\nz\r\n\" style=\"fill:#1f77b4;\"/>\r\n   </g>\r\n   <g id=\"patch_7\">\r\n    <path clip-path=\"url(#p33afbe3c46)\" d=\"M 179.098237 224.64 \r\nL 203.944249 224.64 \r\nL 203.944249 17.554286 \r\nL 179.098237 17.554286 \r\nz\r\n\" style=\"fill:#1f77b4;\"/>\r\n   </g>\r\n   <g id=\"patch_8\">\r\n    <path clip-path=\"url(#p33afbe3c46)\" d=\"M 210.155751 224.64 \r\nL 235.001763 224.64 \r\nL 235.001763 142.496232 \r\nL 210.155751 142.496232 \r\nz\r\n\" style=\"fill:#1f77b4;\"/>\r\n   </g>\r\n   <g id=\"patch_9\">\r\n    <path clip-path=\"url(#p33afbe3c46)\" d=\"M 241.213265 224.64 \r\nL 266.059276 224.64 \r\nL 266.059276 117.702485 \r\nL 241.213265 117.702485 \r\nz\r\n\" style=\"fill:#1f77b4;\"/>\r\n   </g>\r\n   <g id=\"patch_10\">\r\n    <path clip-path=\"url(#p33afbe3c46)\" d=\"M 272.270779 224.64 \r\nL 297.11679 224.64 \r\nL 297.11679 129.682267 \r\nL 272.270779 129.682267 \r\nz\r\n\" style=\"fill:#1f77b4;\"/>\r\n   </g>\r\n   <g id=\"patch_11\">\r\n    <path clip-path=\"url(#p33afbe3c46)\" d=\"M 303.328293 224.64 \r\nL 328.174304 224.64 \r\nL 328.174304 110.65828 \r\nL 303.328293 110.65828 \r\nz\r\n\" style=\"fill:#1f77b4;\"/>\r\n   </g>\r\n   <g id=\"patch_12\">\r\n    <path clip-path=\"url(#p33afbe3c46)\" d=\"M 334.385807 224.64 \r\nL 359.231818 224.64 \r\nL 359.231818 122.522204 \r\nL 334.385807 122.522204 \r\nz\r\n\" style=\"fill:#1f77b4;\"/>\r\n   </g>\r\n   <g id=\"matplotlib.axis_1\">\r\n    <g id=\"xtick_1\">\r\n     <g id=\"line2d_1\">\r\n      <defs>\r\n       <path d=\"M 0 0 \r\nL 0 3.5 \r\n\" id=\"m6e86b93377\" style=\"stroke:#000000;stroke-width:0.8;\"/>\r\n      </defs>\r\n      <g>\r\n       <use style=\"stroke:#000000;stroke-width:0.8;\" x=\"67.291187\" xlink:href=\"#m6e86b93377\" y=\"224.64\"/>\r\n      </g>\r\n     </g>\r\n     <g id=\"text_1\">\r\n      <!-- Blues -->\r\n      <g transform=\"translate(53.621656 239.238437)scale(0.1 -0.1)\">\r\n       <defs>\r\n        <path d=\"M 19.671875 34.8125 \r\nL 19.671875 8.109375 \r\nL 35.5 8.109375 \r\nQ 43.453125 8.109375 47.28125 11.40625 \r\nQ 51.125 14.703125 51.125 21.484375 \r\nQ 51.125 28.328125 47.28125 31.5625 \r\nQ 43.453125 34.8125 35.5 34.8125 \r\nz\r\nM 19.671875 64.796875 \r\nL 19.671875 42.828125 \r\nL 34.28125 42.828125 \r\nQ 41.5 42.828125 45.03125 45.53125 \r\nQ 48.578125 48.25 48.578125 53.8125 \r\nQ 48.578125 59.328125 45.03125 62.0625 \r\nQ 41.5 64.796875 34.28125 64.796875 \r\nz\r\nM 9.8125 72.90625 \r\nL 35.015625 72.90625 \r\nQ 46.296875 72.90625 52.390625 68.21875 \r\nQ 58.5 63.53125 58.5 54.890625 \r\nQ 58.5 48.1875 55.375 44.234375 \r\nQ 52.25 40.28125 46.1875 39.3125 \r\nQ 53.46875 37.75 57.5 32.78125 \r\nQ 61.53125 27.828125 61.53125 20.40625 \r\nQ 61.53125 10.640625 54.890625 5.3125 \r\nQ 48.25 0 35.984375 0 \r\nL 9.8125 0 \r\nz\r\n\" id=\"DejaVuSans-66\"/>\r\n        <path d=\"M 9.421875 75.984375 \r\nL 18.40625 75.984375 \r\nL 18.40625 0 \r\nL 9.421875 0 \r\nz\r\n\" id=\"DejaVuSans-108\"/>\r\n        <path d=\"M 8.5 21.578125 \r\nL 8.5 54.6875 \r\nL 17.484375 54.6875 \r\nL 17.484375 21.921875 \r\nQ 17.484375 14.15625 20.5 10.265625 \r\nQ 23.53125 6.390625 29.59375 6.390625 \r\nQ 36.859375 6.390625 41.078125 11.03125 \r\nQ 45.3125 15.671875 45.3125 23.6875 \r\nL 45.3125 54.6875 \r\nL 54.296875 54.6875 \r\nL 54.296875 0 \r\nL 45.3125 0 \r\nL 45.3125 8.40625 \r\nQ 42.046875 3.421875 37.71875 1 \r\nQ 33.40625 -1.421875 27.6875 -1.421875 \r\nQ 18.265625 -1.421875 13.375 4.4375 \r\nQ 8.5 10.296875 8.5 21.578125 \r\nz\r\nM 31.109375 56 \r\nz\r\n\" id=\"DejaVuSans-117\"/>\r\n        <path d=\"M 56.203125 29.59375 \r\nL 56.203125 25.203125 \r\nL 14.890625 25.203125 \r\nQ 15.484375 15.921875 20.484375 11.0625 \r\nQ 25.484375 6.203125 34.421875 6.203125 \r\nQ 39.59375 6.203125 44.453125 7.46875 \r\nQ 49.3125 8.734375 54.109375 11.28125 \r\nL 54.109375 2.78125 \r\nQ 49.265625 0.734375 44.1875 -0.34375 \r\nQ 39.109375 -1.421875 33.890625 -1.421875 \r\nQ 20.796875 -1.421875 13.15625 6.1875 \r\nQ 5.515625 13.8125 5.515625 26.8125 \r\nQ 5.515625 40.234375 12.765625 48.109375 \r\nQ 20.015625 56 32.328125 56 \r\nQ 43.359375 56 49.78125 48.890625 \r\nQ 56.203125 41.796875 56.203125 29.59375 \r\nz\r\nM 47.21875 32.234375 \r\nQ 47.125 39.59375 43.09375 43.984375 \r\nQ 39.0625 48.390625 32.421875 48.390625 \r\nQ 24.90625 48.390625 20.390625 44.140625 \r\nQ 15.875 39.890625 15.1875 32.171875 \r\nz\r\n\" id=\"DejaVuSans-101\"/>\r\n        <path d=\"M 44.28125 53.078125 \r\nL 44.28125 44.578125 \r\nQ 40.484375 46.53125 36.375 47.5 \r\nQ 32.28125 48.484375 27.875 48.484375 \r\nQ 21.1875 48.484375 17.84375 46.4375 \r\nQ 14.5 44.390625 14.5 40.28125 \r\nQ 14.5 37.15625 16.890625 35.375 \r\nQ 19.28125 33.59375 26.515625 31.984375 \r\nL 29.59375 31.296875 \r\nQ 39.15625 29.25 43.1875 25.515625 \r\nQ 47.21875 21.78125 47.21875 15.09375 \r\nQ 47.21875 7.46875 41.1875 3.015625 \r\nQ 35.15625 -1.421875 24.609375 -1.421875 \r\nQ 20.21875 -1.421875 15.453125 -0.5625 \r\nQ 10.6875 0.296875 5.421875 2 \r\nL 5.421875 11.28125 \r\nQ 10.40625 8.6875 15.234375 7.390625 \r\nQ 20.0625 6.109375 24.8125 6.109375 \r\nQ 31.15625 6.109375 34.5625 8.28125 \r\nQ 37.984375 10.453125 37.984375 14.40625 \r\nQ 37.984375 18.0625 35.515625 20.015625 \r\nQ 33.0625 21.96875 24.703125 23.78125 \r\nL 21.578125 24.515625 \r\nQ 13.234375 26.265625 9.515625 29.90625 \r\nQ 5.8125 33.546875 5.8125 39.890625 \r\nQ 5.8125 47.609375 11.28125 51.796875 \r\nQ 16.75 56 26.8125 56 \r\nQ 31.78125 56 36.171875 55.265625 \r\nQ 40.578125 54.546875 44.28125 53.078125 \r\nz\r\n\" id=\"DejaVuSans-115\"/>\r\n       </defs>\r\n       <use xlink:href=\"#DejaVuSans-66\"/>\r\n       <use x=\"68.603516\" xlink:href=\"#DejaVuSans-108\"/>\r\n       <use x=\"96.386719\" xlink:href=\"#DejaVuSans-117\"/>\r\n       <use x=\"159.765625\" xlink:href=\"#DejaVuSans-101\"/>\r\n       <use x=\"221.289062\" xlink:href=\"#DejaVuSans-115\"/>\r\n      </g>\r\n     </g>\r\n    </g>\r\n    <g id=\"xtick_2\">\r\n     <g id=\"line2d_2\">\r\n      <g>\r\n       <use style=\"stroke:#000000;stroke-width:0.8;\" x=\"98.348701\" xlink:href=\"#m6e86b93377\" y=\"224.64\"/>\r\n      </g>\r\n     </g>\r\n     <g id=\"text_2\">\r\n      <!-- Country -->\r\n      <g transform=\"translate(78.48542 239.238437)scale(0.1 -0.1)\">\r\n       <defs>\r\n        <path d=\"M 64.40625 67.28125 \r\nL 64.40625 56.890625 \r\nQ 59.421875 61.53125 53.78125 63.8125 \r\nQ 48.140625 66.109375 41.796875 66.109375 \r\nQ 29.296875 66.109375 22.65625 58.46875 \r\nQ 16.015625 50.828125 16.015625 36.375 \r\nQ 16.015625 21.96875 22.65625 14.328125 \r\nQ 29.296875 6.6875 41.796875 6.6875 \r\nQ 48.140625 6.6875 53.78125 8.984375 \r\nQ 59.421875 11.28125 64.40625 15.921875 \r\nL 64.40625 5.609375 \r\nQ 59.234375 2.09375 53.4375 0.328125 \r\nQ 47.65625 -1.421875 41.21875 -1.421875 \r\nQ 24.65625 -1.421875 15.125 8.703125 \r\nQ 5.609375 18.84375 5.609375 36.375 \r\nQ 5.609375 53.953125 15.125 64.078125 \r\nQ 24.65625 74.21875 41.21875 74.21875 \r\nQ 47.75 74.21875 53.53125 72.484375 \r\nQ 59.328125 70.75 64.40625 67.28125 \r\nz\r\n\" id=\"DejaVuSans-67\"/>\r\n        <path d=\"M 30.609375 48.390625 \r\nQ 23.390625 48.390625 19.1875 42.75 \r\nQ 14.984375 37.109375 14.984375 27.296875 \r\nQ 14.984375 17.484375 19.15625 11.84375 \r\nQ 23.34375 6.203125 30.609375 6.203125 \r\nQ 37.796875 6.203125 41.984375 11.859375 \r\nQ 46.1875 17.53125 46.1875 27.296875 \r\nQ 46.1875 37.015625 41.984375 42.703125 \r\nQ 37.796875 48.390625 30.609375 48.390625 \r\nz\r\nM 30.609375 56 \r\nQ 42.328125 56 49.015625 48.375 \r\nQ 55.71875 40.765625 55.71875 27.296875 \r\nQ 55.71875 13.875 49.015625 6.21875 \r\nQ 42.328125 -1.421875 30.609375 -1.421875 \r\nQ 18.84375 -1.421875 12.171875 6.21875 \r\nQ 5.515625 13.875 5.515625 27.296875 \r\nQ 5.515625 40.765625 12.171875 48.375 \r\nQ 18.84375 56 30.609375 56 \r\nz\r\n\" id=\"DejaVuSans-111\"/>\r\n        <path d=\"M 54.890625 33.015625 \r\nL 54.890625 0 \r\nL 45.90625 0 \r\nL 45.90625 32.71875 \r\nQ 45.90625 40.484375 42.875 44.328125 \r\nQ 39.84375 48.1875 33.796875 48.1875 \r\nQ 26.515625 48.1875 22.3125 43.546875 \r\nQ 18.109375 38.921875 18.109375 30.90625 \r\nL 18.109375 0 \r\nL 9.078125 0 \r\nL 9.078125 54.6875 \r\nL 18.109375 54.6875 \r\nL 18.109375 46.1875 \r\nQ 21.34375 51.125 25.703125 53.5625 \r\nQ 30.078125 56 35.796875 56 \r\nQ 45.21875 56 50.046875 50.171875 \r\nQ 54.890625 44.34375 54.890625 33.015625 \r\nz\r\n\" id=\"DejaVuSans-110\"/>\r\n        <path d=\"M 18.3125 70.21875 \r\nL 18.3125 54.6875 \r\nL 36.8125 54.6875 \r\nL 36.8125 47.703125 \r\nL 18.3125 47.703125 \r\nL 18.3125 18.015625 \r\nQ 18.3125 11.328125 20.140625 9.421875 \r\nQ 21.96875 7.515625 27.59375 7.515625 \r\nL 36.8125 7.515625 \r\nL 36.8125 0 \r\nL 27.59375 0 \r\nQ 17.1875 0 13.234375 3.875 \r\nQ 9.28125 7.765625 9.28125 18.015625 \r\nL 9.28125 47.703125 \r\nL 2.6875 47.703125 \r\nL 2.6875 54.6875 \r\nL 9.28125 54.6875 \r\nL 9.28125 70.21875 \r\nz\r\n\" id=\"DejaVuSans-116\"/>\r\n        <path d=\"M 41.109375 46.296875 \r\nQ 39.59375 47.171875 37.8125 47.578125 \r\nQ 36.03125 48 33.890625 48 \r\nQ 26.265625 48 22.1875 43.046875 \r\nQ 18.109375 38.09375 18.109375 28.8125 \r\nL 18.109375 0 \r\nL 9.078125 0 \r\nL 9.078125 54.6875 \r\nL 18.109375 54.6875 \r\nL 18.109375 46.1875 \r\nQ 20.953125 51.171875 25.484375 53.578125 \r\nQ 30.03125 56 36.53125 56 \r\nQ 37.453125 56 38.578125 55.875 \r\nQ 39.703125 55.765625 41.0625 55.515625 \r\nz\r\n\" id=\"DejaVuSans-114\"/>\r\n        <path d=\"M 32.171875 -5.078125 \r\nQ 28.375 -14.84375 24.75 -17.8125 \r\nQ 21.140625 -20.796875 15.09375 -20.796875 \r\nL 7.90625 -20.796875 \r\nL 7.90625 -13.28125 \r\nL 13.1875 -13.28125 \r\nQ 16.890625 -13.28125 18.9375 -11.515625 \r\nQ 21 -9.765625 23.484375 -3.21875 \r\nL 25.09375 0.875 \r\nL 2.984375 54.6875 \r\nL 12.5 54.6875 \r\nL 29.59375 11.921875 \r\nL 46.6875 54.6875 \r\nL 56.203125 54.6875 \r\nz\r\n\" id=\"DejaVuSans-121\"/>\r\n       </defs>\r\n       <use xlink:href=\"#DejaVuSans-67\"/>\r\n       <use x=\"69.824219\" xlink:href=\"#DejaVuSans-111\"/>\r\n       <use x=\"131.005859\" xlink:href=\"#DejaVuSans-117\"/>\r\n       <use x=\"194.384766\" xlink:href=\"#DejaVuSans-110\"/>\r\n       <use x=\"257.763672\" xlink:href=\"#DejaVuSans-116\"/>\r\n       <use x=\"296.972656\" xlink:href=\"#DejaVuSans-114\"/>\r\n       <use x=\"338.085938\" xlink:href=\"#DejaVuSans-121\"/>\r\n      </g>\r\n     </g>\r\n    </g>\r\n    <g id=\"xtick_3\">\r\n     <g id=\"line2d_3\">\r\n      <g>\r\n       <use style=\"stroke:#000000;stroke-width:0.8;\" x=\"129.406215\" xlink:href=\"#m6e86b93377\" y=\"224.64\"/>\r\n      </g>\r\n     </g>\r\n     <g id=\"text_3\">\r\n      <!-- Electronic -->\r\n      <g transform=\"translate(104.762465 239.238437)scale(0.1 -0.1)\">\r\n       <defs>\r\n        <path d=\"M 9.8125 72.90625 \r\nL 55.90625 72.90625 \r\nL 55.90625 64.59375 \r\nL 19.671875 64.59375 \r\nL 19.671875 43.015625 \r\nL 54.390625 43.015625 \r\nL 54.390625 34.71875 \r\nL 19.671875 34.71875 \r\nL 19.671875 8.296875 \r\nL 56.78125 8.296875 \r\nL 56.78125 0 \r\nL 9.8125 0 \r\nz\r\n\" id=\"DejaVuSans-69\"/>\r\n        <path d=\"M 48.78125 52.59375 \r\nL 48.78125 44.1875 \r\nQ 44.96875 46.296875 41.140625 47.34375 \r\nQ 37.3125 48.390625 33.40625 48.390625 \r\nQ 24.65625 48.390625 19.8125 42.84375 \r\nQ 14.984375 37.3125 14.984375 27.296875 \r\nQ 14.984375 17.28125 19.8125 11.734375 \r\nQ 24.65625 6.203125 33.40625 6.203125 \r\nQ 37.3125 6.203125 41.140625 7.25 \r\nQ 44.96875 8.296875 48.78125 10.40625 \r\nL 48.78125 2.09375 \r\nQ 45.015625 0.34375 40.984375 -0.53125 \r\nQ 36.96875 -1.421875 32.421875 -1.421875 \r\nQ 20.0625 -1.421875 12.78125 6.34375 \r\nQ 5.515625 14.109375 5.515625 27.296875 \r\nQ 5.515625 40.671875 12.859375 48.328125 \r\nQ 20.21875 56 33.015625 56 \r\nQ 37.15625 56 41.109375 55.140625 \r\nQ 45.0625 54.296875 48.78125 52.59375 \r\nz\r\n\" id=\"DejaVuSans-99\"/>\r\n        <path d=\"M 9.421875 54.6875 \r\nL 18.40625 54.6875 \r\nL 18.40625 0 \r\nL 9.421875 0 \r\nz\r\nM 9.421875 75.984375 \r\nL 18.40625 75.984375 \r\nL 18.40625 64.59375 \r\nL 9.421875 64.59375 \r\nz\r\n\" id=\"DejaVuSans-105\"/>\r\n       </defs>\r\n       <use xlink:href=\"#DejaVuSans-69\"/>\r\n       <use x=\"63.183594\" xlink:href=\"#DejaVuSans-108\"/>\r\n       <use x=\"90.966797\" xlink:href=\"#DejaVuSans-101\"/>\r\n       <use x=\"152.490234\" xlink:href=\"#DejaVuSans-99\"/>\r\n       <use x=\"207.470703\" xlink:href=\"#DejaVuSans-116\"/>\r\n       <use x=\"246.679688\" xlink:href=\"#DejaVuSans-114\"/>\r\n       <use x=\"285.542969\" xlink:href=\"#DejaVuSans-111\"/>\r\n       <use x=\"346.724609\" xlink:href=\"#DejaVuSans-110\"/>\r\n       <use x=\"410.103516\" xlink:href=\"#DejaVuSans-105\"/>\r\n       <use x=\"437.886719\" xlink:href=\"#DejaVuSans-99\"/>\r\n      </g>\r\n     </g>\r\n    </g>\r\n    <g id=\"xtick_4\">\r\n     <g id=\"line2d_4\">\r\n      <g>\r\n       <use style=\"stroke:#000000;stroke-width:0.8;\" x=\"160.463729\" xlink:href=\"#m6e86b93377\" y=\"224.64\"/>\r\n      </g>\r\n     </g>\r\n     <g id=\"text_4\">\r\n      <!-- Folk -->\r\n      <g transform=\"translate(150.425448 239.238437)scale(0.1 -0.1)\">\r\n       <defs>\r\n        <path d=\"M 9.8125 72.90625 \r\nL 51.703125 72.90625 \r\nL 51.703125 64.59375 \r\nL 19.671875 64.59375 \r\nL 19.671875 43.109375 \r\nL 48.578125 43.109375 \r\nL 48.578125 34.8125 \r\nL 19.671875 34.8125 \r\nL 19.671875 0 \r\nL 9.8125 0 \r\nz\r\n\" id=\"DejaVuSans-70\"/>\r\n        <path d=\"M 9.078125 75.984375 \r\nL 18.109375 75.984375 \r\nL 18.109375 31.109375 \r\nL 44.921875 54.6875 \r\nL 56.390625 54.6875 \r\nL 27.390625 29.109375 \r\nL 57.625 0 \r\nL 45.90625 0 \r\nL 18.109375 26.703125 \r\nL 18.109375 0 \r\nL 9.078125 0 \r\nz\r\n\" id=\"DejaVuSans-107\"/>\r\n       </defs>\r\n       <use xlink:href=\"#DejaVuSans-70\"/>\r\n       <use x=\"53.894531\" xlink:href=\"#DejaVuSans-111\"/>\r\n       <use x=\"115.076172\" xlink:href=\"#DejaVuSans-108\"/>\r\n       <use x=\"142.859375\" xlink:href=\"#DejaVuSans-107\"/>\r\n      </g>\r\n     </g>\r\n    </g>\r\n    <g id=\"xtick_5\">\r\n     <g id=\"line2d_5\">\r\n      <g>\r\n       <use style=\"stroke:#000000;stroke-width:0.8;\" x=\"191.521243\" xlink:href=\"#m6e86b93377\" y=\"224.64\"/>\r\n      </g>\r\n     </g>\r\n     <g id=\"text_5\">\r\n      <!-- Hip Hop -->\r\n      <g transform=\"translate(171.614993 239.238437)scale(0.1 -0.1)\">\r\n       <defs>\r\n        <path d=\"M 9.8125 72.90625 \r\nL 19.671875 72.90625 \r\nL 19.671875 43.015625 \r\nL 55.515625 43.015625 \r\nL 55.515625 72.90625 \r\nL 65.375 72.90625 \r\nL 65.375 0 \r\nL 55.515625 0 \r\nL 55.515625 34.71875 \r\nL 19.671875 34.71875 \r\nL 19.671875 0 \r\nL 9.8125 0 \r\nz\r\n\" id=\"DejaVuSans-72\"/>\r\n        <path d=\"M 18.109375 8.203125 \r\nL 18.109375 -20.796875 \r\nL 9.078125 -20.796875 \r\nL 9.078125 54.6875 \r\nL 18.109375 54.6875 \r\nL 18.109375 46.390625 \r\nQ 20.953125 51.265625 25.265625 53.625 \r\nQ 29.59375 56 35.59375 56 \r\nQ 45.5625 56 51.78125 48.09375 \r\nQ 58.015625 40.1875 58.015625 27.296875 \r\nQ 58.015625 14.40625 51.78125 6.484375 \r\nQ 45.5625 -1.421875 35.59375 -1.421875 \r\nQ 29.59375 -1.421875 25.265625 0.953125 \r\nQ 20.953125 3.328125 18.109375 8.203125 \r\nz\r\nM 48.6875 27.296875 \r\nQ 48.6875 37.203125 44.609375 42.84375 \r\nQ 40.53125 48.484375 33.40625 48.484375 \r\nQ 26.265625 48.484375 22.1875 42.84375 \r\nQ 18.109375 37.203125 18.109375 27.296875 \r\nQ 18.109375 17.390625 22.1875 11.75 \r\nQ 26.265625 6.109375 33.40625 6.109375 \r\nQ 40.53125 6.109375 44.609375 11.75 \r\nQ 48.6875 17.390625 48.6875 27.296875 \r\nz\r\n\" id=\"DejaVuSans-112\"/>\r\n        <path id=\"DejaVuSans-32\"/>\r\n       </defs>\r\n       <use xlink:href=\"#DejaVuSans-72\"/>\r\n       <use x=\"75.195312\" xlink:href=\"#DejaVuSans-105\"/>\r\n       <use x=\"102.978516\" xlink:href=\"#DejaVuSans-112\"/>\r\n       <use x=\"166.455078\" xlink:href=\"#DejaVuSans-32\"/>\r\n       <use x=\"198.242188\" xlink:href=\"#DejaVuSans-72\"/>\r\n       <use x=\"273.4375\" xlink:href=\"#DejaVuSans-111\"/>\r\n       <use x=\"334.619141\" xlink:href=\"#DejaVuSans-112\"/>\r\n      </g>\r\n     </g>\r\n    </g>\r\n    <g id=\"xtick_6\">\r\n     <g id=\"line2d_6\">\r\n      <g>\r\n       <use style=\"stroke:#000000;stroke-width:0.8;\" x=\"222.578757\" xlink:href=\"#m6e86b93377\" y=\"224.64\"/>\r\n      </g>\r\n     </g>\r\n     <g id=\"text_6\">\r\n      <!-- Jazz -->\r\n      <g transform=\"translate(212.791257 239.238437)scale(0.1 -0.1)\">\r\n       <defs>\r\n        <path d=\"M 9.8125 72.90625 \r\nL 19.671875 72.90625 \r\nL 19.671875 5.078125 \r\nQ 19.671875 -8.109375 14.671875 -14.0625 \r\nQ 9.671875 -20.015625 -1.421875 -20.015625 \r\nL -5.171875 -20.015625 \r\nL -5.171875 -11.71875 \r\nL -2.09375 -11.71875 \r\nQ 4.4375 -11.71875 7.125 -8.046875 \r\nQ 9.8125 -4.390625 9.8125 5.078125 \r\nz\r\n\" id=\"DejaVuSans-74\"/>\r\n        <path d=\"M 34.28125 27.484375 \r\nQ 23.390625 27.484375 19.1875 25 \r\nQ 14.984375 22.515625 14.984375 16.5 \r\nQ 14.984375 11.71875 18.140625 8.90625 \r\nQ 21.296875 6.109375 26.703125 6.109375 \r\nQ 34.1875 6.109375 38.703125 11.40625 \r\nQ 43.21875 16.703125 43.21875 25.484375 \r\nL 43.21875 27.484375 \r\nz\r\nM 52.203125 31.203125 \r\nL 52.203125 0 \r\nL 43.21875 0 \r\nL 43.21875 8.296875 \r\nQ 40.140625 3.328125 35.546875 0.953125 \r\nQ 30.953125 -1.421875 24.3125 -1.421875 \r\nQ 15.921875 -1.421875 10.953125 3.296875 \r\nQ 6 8.015625 6 15.921875 \r\nQ 6 25.140625 12.171875 29.828125 \r\nQ 18.359375 34.515625 30.609375 34.515625 \r\nL 43.21875 34.515625 \r\nL 43.21875 35.40625 \r\nQ 43.21875 41.609375 39.140625 45 \r\nQ 35.0625 48.390625 27.6875 48.390625 \r\nQ 23 48.390625 18.546875 47.265625 \r\nQ 14.109375 46.140625 10.015625 43.890625 \r\nL 10.015625 52.203125 \r\nQ 14.9375 54.109375 19.578125 55.046875 \r\nQ 24.21875 56 28.609375 56 \r\nQ 40.484375 56 46.34375 49.84375 \r\nQ 52.203125 43.703125 52.203125 31.203125 \r\nz\r\n\" id=\"DejaVuSans-97\"/>\r\n        <path d=\"M 5.515625 54.6875 \r\nL 48.1875 54.6875 \r\nL 48.1875 46.484375 \r\nL 14.40625 7.171875 \r\nL 48.1875 7.171875 \r\nL 48.1875 0 \r\nL 4.296875 0 \r\nL 4.296875 8.203125 \r\nL 38.09375 47.515625 \r\nL 5.515625 47.515625 \r\nz\r\n\" id=\"DejaVuSans-122\"/>\r\n       </defs>\r\n       <use xlink:href=\"#DejaVuSans-74\"/>\r\n       <use x=\"29.492188\" xlink:href=\"#DejaVuSans-97\"/>\r\n       <use x=\"90.771484\" xlink:href=\"#DejaVuSans-122\"/>\r\n       <use x=\"143.261719\" xlink:href=\"#DejaVuSans-122\"/>\r\n      </g>\r\n     </g>\r\n    </g>\r\n    <g id=\"xtick_7\">\r\n     <g id=\"line2d_7\">\r\n      <g>\r\n       <use style=\"stroke:#000000;stroke-width:0.8;\" x=\"253.636271\" xlink:href=\"#m6e86b93377\" y=\"224.64\"/>\r\n      </g>\r\n     </g>\r\n     <g id=\"text_7\">\r\n      <!-- Metal -->\r\n      <g transform=\"translate(239.832365 239.238437)scale(0.1 -0.1)\">\r\n       <defs>\r\n        <path d=\"M 9.8125 72.90625 \r\nL 24.515625 72.90625 \r\nL 43.109375 23.296875 \r\nL 61.8125 72.90625 \r\nL 76.515625 72.90625 \r\nL 76.515625 0 \r\nL 66.890625 0 \r\nL 66.890625 64.015625 \r\nL 48.09375 14.015625 \r\nL 38.1875 14.015625 \r\nL 19.390625 64.015625 \r\nL 19.390625 0 \r\nL 9.8125 0 \r\nz\r\n\" id=\"DejaVuSans-77\"/>\r\n       </defs>\r\n       <use xlink:href=\"#DejaVuSans-77\"/>\r\n       <use x=\"86.279297\" xlink:href=\"#DejaVuSans-101\"/>\r\n       <use x=\"147.802734\" xlink:href=\"#DejaVuSans-116\"/>\r\n       <use x=\"187.011719\" xlink:href=\"#DejaVuSans-97\"/>\r\n       <use x=\"248.291016\" xlink:href=\"#DejaVuSans-108\"/>\r\n      </g>\r\n     </g>\r\n    </g>\r\n    <g id=\"xtick_8\">\r\n     <g id=\"line2d_8\">\r\n      <g>\r\n       <use style=\"stroke:#000000;stroke-width:0.8;\" x=\"284.693785\" xlink:href=\"#m6e86b93377\" y=\"224.64\"/>\r\n      </g>\r\n     </g>\r\n     <g id=\"text_8\">\r\n      <!-- Pop -->\r\n      <g transform=\"translate(275.626597 239.238437)scale(0.1 -0.1)\">\r\n       <defs>\r\n        <path d=\"M 19.671875 64.796875 \r\nL 19.671875 37.40625 \r\nL 32.078125 37.40625 \r\nQ 38.96875 37.40625 42.71875 40.96875 \r\nQ 46.484375 44.53125 46.484375 51.125 \r\nQ 46.484375 57.671875 42.71875 61.234375 \r\nQ 38.96875 64.796875 32.078125 64.796875 \r\nz\r\nM 9.8125 72.90625 \r\nL 32.078125 72.90625 \r\nQ 44.34375 72.90625 50.609375 67.359375 \r\nQ 56.890625 61.8125 56.890625 51.125 \r\nQ 56.890625 40.328125 50.609375 34.8125 \r\nQ 44.34375 29.296875 32.078125 29.296875 \r\nL 19.671875 29.296875 \r\nL 19.671875 0 \r\nL 9.8125 0 \r\nz\r\n\" id=\"DejaVuSans-80\"/>\r\n       </defs>\r\n       <use xlink:href=\"#DejaVuSans-80\"/>\r\n       <use x=\"56.677734\" xlink:href=\"#DejaVuSans-111\"/>\r\n       <use x=\"117.859375\" xlink:href=\"#DejaVuSans-112\"/>\r\n      </g>\r\n     </g>\r\n    </g>\r\n    <g id=\"xtick_9\">\r\n     <g id=\"line2d_9\">\r\n      <g>\r\n       <use style=\"stroke:#000000;stroke-width:0.8;\" x=\"315.751299\" xlink:href=\"#m6e86b93377\" y=\"224.64\"/>\r\n      </g>\r\n     </g>\r\n     <g id=\"text_9\">\r\n      <!-- Punk -->\r\n      <g transform=\"translate(303.591142 239.238437)scale(0.1 -0.1)\">\r\n       <use xlink:href=\"#DejaVuSans-80\"/>\r\n       <use x=\"58.552734\" xlink:href=\"#DejaVuSans-117\"/>\r\n       <use x=\"121.931641\" xlink:href=\"#DejaVuSans-110\"/>\r\n       <use x=\"185.310547\" xlink:href=\"#DejaVuSans-107\"/>\r\n      </g>\r\n     </g>\r\n    </g>\r\n    <g id=\"xtick_10\">\r\n     <g id=\"line2d_10\">\r\n      <g>\r\n       <use style=\"stroke:#000000;stroke-width:0.8;\" x=\"346.808813\" xlink:href=\"#m6e86b93377\" y=\"224.64\"/>\r\n      </g>\r\n     </g>\r\n     <g id=\"text_10\">\r\n      <!-- Rock -->\r\n      <g transform=\"translate(334.855688 239.238437)scale(0.1 -0.1)\">\r\n       <defs>\r\n        <path d=\"M 44.390625 34.1875 \r\nQ 47.5625 33.109375 50.5625 29.59375 \r\nQ 53.5625 26.078125 56.59375 19.921875 \r\nL 66.609375 0 \r\nL 56 0 \r\nL 46.6875 18.703125 \r\nQ 43.0625 26.03125 39.671875 28.421875 \r\nQ 36.28125 30.8125 30.421875 30.8125 \r\nL 19.671875 30.8125 \r\nL 19.671875 0 \r\nL 9.8125 0 \r\nL 9.8125 72.90625 \r\nL 32.078125 72.90625 \r\nQ 44.578125 72.90625 50.734375 67.671875 \r\nQ 56.890625 62.453125 56.890625 51.90625 \r\nQ 56.890625 45.015625 53.6875 40.46875 \r\nQ 50.484375 35.9375 44.390625 34.1875 \r\nz\r\nM 19.671875 64.796875 \r\nL 19.671875 38.921875 \r\nL 32.078125 38.921875 \r\nQ 39.203125 38.921875 42.84375 42.21875 \r\nQ 46.484375 45.515625 46.484375 51.90625 \r\nQ 46.484375 58.296875 42.84375 61.546875 \r\nQ 39.203125 64.796875 32.078125 64.796875 \r\nz\r\n\" id=\"DejaVuSans-82\"/>\r\n       </defs>\r\n       <use xlink:href=\"#DejaVuSans-82\"/>\r\n       <use x=\"64.982422\" xlink:href=\"#DejaVuSans-111\"/>\r\n       <use x=\"126.164062\" xlink:href=\"#DejaVuSans-99\"/>\r\n       <use x=\"181.144531\" xlink:href=\"#DejaVuSans-107\"/>\r\n      </g>\r\n     </g>\r\n    </g>\r\n   </g>\r\n   <g id=\"matplotlib.axis_2\">\r\n    <g id=\"ytick_1\">\r\n     <g id=\"line2d_11\">\r\n      <defs>\r\n       <path d=\"M 0 0 \r\nL -3.5 0 \r\n\" id=\"m18742b6089\" style=\"stroke:#000000;stroke-width:0.8;\"/>\r\n      </defs>\r\n      <g>\r\n       <use style=\"stroke:#000000;stroke-width:0.8;\" x=\"39.65\" xlink:href=\"#m18742b6089\" y=\"224.64\"/>\r\n      </g>\r\n     </g>\r\n     <g id=\"text_11\">\r\n      <!-- 0 -->\r\n      <g transform=\"translate(26.2875 228.439219)scale(0.1 -0.1)\">\r\n       <defs>\r\n        <path d=\"M 31.78125 66.40625 \r\nQ 24.171875 66.40625 20.328125 58.90625 \r\nQ 16.5 51.421875 16.5 36.375 \r\nQ 16.5 21.390625 20.328125 13.890625 \r\nQ 24.171875 6.390625 31.78125 6.390625 \r\nQ 39.453125 6.390625 43.28125 13.890625 \r\nQ 47.125 21.390625 47.125 36.375 \r\nQ 47.125 51.421875 43.28125 58.90625 \r\nQ 39.453125 66.40625 31.78125 66.40625 \r\nz\r\nM 31.78125 74.21875 \r\nQ 44.046875 74.21875 50.515625 64.515625 \r\nQ 56.984375 54.828125 56.984375 36.375 \r\nQ 56.984375 17.96875 50.515625 8.265625 \r\nQ 44.046875 -1.421875 31.78125 -1.421875 \r\nQ 19.53125 -1.421875 13.0625 8.265625 \r\nQ 6.59375 17.96875 6.59375 36.375 \r\nQ 6.59375 54.828125 13.0625 64.515625 \r\nQ 19.53125 74.21875 31.78125 74.21875 \r\nz\r\n\" id=\"DejaVuSans-48\"/>\r\n       </defs>\r\n       <use xlink:href=\"#DejaVuSans-48\"/>\r\n      </g>\r\n     </g>\r\n    </g>\r\n    <g id=\"ytick_2\">\r\n     <g id=\"line2d_12\">\r\n      <g>\r\n       <use style=\"stroke:#000000;stroke-width:0.8;\" x=\"39.65\" xlink:href=\"#m18742b6089\" y=\"178.296548\"/>\r\n      </g>\r\n     </g>\r\n     <g id=\"text_12\">\r\n      <!-- 2000 -->\r\n      <g transform=\"translate(7.2 182.095767)scale(0.1 -0.1)\">\r\n       <defs>\r\n        <path d=\"M 19.1875 8.296875 \r\nL 53.609375 8.296875 \r\nL 53.609375 0 \r\nL 7.328125 0 \r\nL 7.328125 8.296875 \r\nQ 12.9375 14.109375 22.625 23.890625 \r\nQ 32.328125 33.6875 34.8125 36.53125 \r\nQ 39.546875 41.84375 41.421875 45.53125 \r\nQ 43.3125 49.21875 43.3125 52.78125 \r\nQ 43.3125 58.59375 39.234375 62.25 \r\nQ 35.15625 65.921875 28.609375 65.921875 \r\nQ 23.96875 65.921875 18.8125 64.3125 \r\nQ 13.671875 62.703125 7.8125 59.421875 \r\nL 7.8125 69.390625 \r\nQ 13.765625 71.78125 18.9375 73 \r\nQ 24.125 74.21875 28.421875 74.21875 \r\nQ 39.75 74.21875 46.484375 68.546875 \r\nQ 53.21875 62.890625 53.21875 53.421875 \r\nQ 53.21875 48.921875 51.53125 44.890625 \r\nQ 49.859375 40.875 45.40625 35.40625 \r\nQ 44.1875 33.984375 37.640625 27.21875 \r\nQ 31.109375 20.453125 19.1875 8.296875 \r\nz\r\n\" id=\"DejaVuSans-50\"/>\r\n       </defs>\r\n       <use xlink:href=\"#DejaVuSans-50\"/>\r\n       <use x=\"63.623047\" xlink:href=\"#DejaVuSans-48\"/>\r\n       <use x=\"127.246094\" xlink:href=\"#DejaVuSans-48\"/>\r\n       <use x=\"190.869141\" xlink:href=\"#DejaVuSans-48\"/>\r\n      </g>\r\n     </g>\r\n    </g>\r\n    <g id=\"ytick_3\">\r\n     <g id=\"line2d_13\">\r\n      <g>\r\n       <use style=\"stroke:#000000;stroke-width:0.8;\" x=\"39.65\" xlink:href=\"#m18742b6089\" y=\"131.953096\"/>\r\n      </g>\r\n     </g>\r\n     <g id=\"text_13\">\r\n      <!-- 4000 -->\r\n      <g transform=\"translate(7.2 135.752315)scale(0.1 -0.1)\">\r\n       <defs>\r\n        <path d=\"M 37.796875 64.3125 \r\nL 12.890625 25.390625 \r\nL 37.796875 25.390625 \r\nz\r\nM 35.203125 72.90625 \r\nL 47.609375 72.90625 \r\nL 47.609375 25.390625 \r\nL 58.015625 25.390625 \r\nL 58.015625 17.1875 \r\nL 47.609375 17.1875 \r\nL 47.609375 0 \r\nL 37.796875 0 \r\nL 37.796875 17.1875 \r\nL 4.890625 17.1875 \r\nL 4.890625 26.703125 \r\nz\r\n\" id=\"DejaVuSans-52\"/>\r\n       </defs>\r\n       <use xlink:href=\"#DejaVuSans-52\"/>\r\n       <use x=\"63.623047\" xlink:href=\"#DejaVuSans-48\"/>\r\n       <use x=\"127.246094\" xlink:href=\"#DejaVuSans-48\"/>\r\n       <use x=\"190.869141\" xlink:href=\"#DejaVuSans-48\"/>\r\n      </g>\r\n     </g>\r\n    </g>\r\n    <g id=\"ytick_4\">\r\n     <g id=\"line2d_14\">\r\n      <g>\r\n       <use style=\"stroke:#000000;stroke-width:0.8;\" x=\"39.65\" xlink:href=\"#m18742b6089\" y=\"85.609645\"/>\r\n      </g>\r\n     </g>\r\n     <g id=\"text_14\">\r\n      <!-- 6000 -->\r\n      <g transform=\"translate(7.2 89.408863)scale(0.1 -0.1)\">\r\n       <defs>\r\n        <path d=\"M 33.015625 40.375 \r\nQ 26.375 40.375 22.484375 35.828125 \r\nQ 18.609375 31.296875 18.609375 23.390625 \r\nQ 18.609375 15.53125 22.484375 10.953125 \r\nQ 26.375 6.390625 33.015625 6.390625 \r\nQ 39.65625 6.390625 43.53125 10.953125 \r\nQ 47.40625 15.53125 47.40625 23.390625 \r\nQ 47.40625 31.296875 43.53125 35.828125 \r\nQ 39.65625 40.375 33.015625 40.375 \r\nz\r\nM 52.59375 71.296875 \r\nL 52.59375 62.3125 \r\nQ 48.875 64.0625 45.09375 64.984375 \r\nQ 41.3125 65.921875 37.59375 65.921875 \r\nQ 27.828125 65.921875 22.671875 59.328125 \r\nQ 17.53125 52.734375 16.796875 39.40625 \r\nQ 19.671875 43.65625 24.015625 45.921875 \r\nQ 28.375 48.1875 33.59375 48.1875 \r\nQ 44.578125 48.1875 50.953125 41.515625 \r\nQ 57.328125 34.859375 57.328125 23.390625 \r\nQ 57.328125 12.15625 50.6875 5.359375 \r\nQ 44.046875 -1.421875 33.015625 -1.421875 \r\nQ 20.359375 -1.421875 13.671875 8.265625 \r\nQ 6.984375 17.96875 6.984375 36.375 \r\nQ 6.984375 53.65625 15.1875 63.9375 \r\nQ 23.390625 74.21875 37.203125 74.21875 \r\nQ 40.921875 74.21875 44.703125 73.484375 \r\nQ 48.484375 72.75 52.59375 71.296875 \r\nz\r\n\" id=\"DejaVuSans-54\"/>\r\n       </defs>\r\n       <use xlink:href=\"#DejaVuSans-54\"/>\r\n       <use x=\"63.623047\" xlink:href=\"#DejaVuSans-48\"/>\r\n       <use x=\"127.246094\" xlink:href=\"#DejaVuSans-48\"/>\r\n       <use x=\"190.869141\" xlink:href=\"#DejaVuSans-48\"/>\r\n      </g>\r\n     </g>\r\n    </g>\r\n    <g id=\"ytick_5\">\r\n     <g id=\"line2d_15\">\r\n      <g>\r\n       <use style=\"stroke:#000000;stroke-width:0.8;\" x=\"39.65\" xlink:href=\"#m18742b6089\" y=\"39.266193\"/>\r\n      </g>\r\n     </g>\r\n     <g id=\"text_15\">\r\n      <!-- 8000 -->\r\n      <g transform=\"translate(7.2 43.065412)scale(0.1 -0.1)\">\r\n       <defs>\r\n        <path d=\"M 31.78125 34.625 \r\nQ 24.75 34.625 20.71875 30.859375 \r\nQ 16.703125 27.09375 16.703125 20.515625 \r\nQ 16.703125 13.921875 20.71875 10.15625 \r\nQ 24.75 6.390625 31.78125 6.390625 \r\nQ 38.8125 6.390625 42.859375 10.171875 \r\nQ 46.921875 13.96875 46.921875 20.515625 \r\nQ 46.921875 27.09375 42.890625 30.859375 \r\nQ 38.875 34.625 31.78125 34.625 \r\nz\r\nM 21.921875 38.8125 \r\nQ 15.578125 40.375 12.03125 44.71875 \r\nQ 8.5 49.078125 8.5 55.328125 \r\nQ 8.5 64.0625 14.71875 69.140625 \r\nQ 20.953125 74.21875 31.78125 74.21875 \r\nQ 42.671875 74.21875 48.875 69.140625 \r\nQ 55.078125 64.0625 55.078125 55.328125 \r\nQ 55.078125 49.078125 51.53125 44.71875 \r\nQ 48 40.375 41.703125 38.8125 \r\nQ 48.828125 37.15625 52.796875 32.3125 \r\nQ 56.78125 27.484375 56.78125 20.515625 \r\nQ 56.78125 9.90625 50.3125 4.234375 \r\nQ 43.84375 -1.421875 31.78125 -1.421875 \r\nQ 19.734375 -1.421875 13.25 4.234375 \r\nQ 6.78125 9.90625 6.78125 20.515625 \r\nQ 6.78125 27.484375 10.78125 32.3125 \r\nQ 14.796875 37.15625 21.921875 38.8125 \r\nz\r\nM 18.3125 54.390625 \r\nQ 18.3125 48.734375 21.84375 45.5625 \r\nQ 25.390625 42.390625 31.78125 42.390625 \r\nQ 38.140625 42.390625 41.71875 45.5625 \r\nQ 45.3125 48.734375 45.3125 54.390625 \r\nQ 45.3125 60.0625 41.71875 63.234375 \r\nQ 38.140625 66.40625 31.78125 66.40625 \r\nQ 25.390625 66.40625 21.84375 63.234375 \r\nQ 18.3125 60.0625 18.3125 54.390625 \r\nz\r\n\" id=\"DejaVuSans-56\"/>\r\n       </defs>\r\n       <use xlink:href=\"#DejaVuSans-56\"/>\r\n       <use x=\"63.623047\" xlink:href=\"#DejaVuSans-48\"/>\r\n       <use x=\"127.246094\" xlink:href=\"#DejaVuSans-48\"/>\r\n       <use x=\"190.869141\" xlink:href=\"#DejaVuSans-48\"/>\r\n      </g>\r\n     </g>\r\n    </g>\r\n   </g>\r\n   <g id=\"patch_13\">\r\n    <path d=\"M 39.65 224.64 \r\nL 39.65 7.2 \r\n\" style=\"fill:none;stroke:#000000;stroke-linecap:square;stroke-linejoin:miter;stroke-width:0.8;\"/>\r\n   </g>\r\n   <g id=\"patch_14\">\r\n    <path d=\"M 374.45 224.64 \r\nL 374.45 7.2 \r\n\" style=\"fill:none;stroke:#000000;stroke-linecap:square;stroke-linejoin:miter;stroke-width:0.8;\"/>\r\n   </g>\r\n   <g id=\"patch_15\">\r\n    <path d=\"M 39.65 224.64 \r\nL 374.45 224.64 \r\n\" style=\"fill:none;stroke:#000000;stroke-linecap:square;stroke-linejoin:miter;stroke-width:0.8;\"/>\r\n   </g>\r\n   <g id=\"patch_16\">\r\n    <path d=\"M 39.65 7.2 \r\nL 374.45 7.2 \r\n\" style=\"fill:none;stroke:#000000;stroke-linecap:square;stroke-linejoin:miter;stroke-width:0.8;\"/>\r\n   </g>\r\n  </g>\r\n </g>\r\n <defs>\r\n  <clipPath id=\"p33afbe3c46\">\r\n   <rect height=\"217.44\" width=\"334.8\" x=\"39.65\" y=\"7.2\"/>\r\n  </clipPath>\r\n </defs>\r\n</svg>\r\n",
      "image/png": "[encoded data removed]"
     },
     "metadata": {
      "needs_background": "light"
     }
    }
   ],
   "source": [
    "plt.bar(length_unique_words_per_genre.keys(), length_unique_words_per_genre.values())"
   ]
  },
  {
   "cell_type": "code",
   "execution_count": 16,
   "metadata": {},
   "outputs": [],
   "source": [
    "freq_unique_words_per_genre = {}\n",
    "stop_words = stopwords.words('english')\n",
    "sentences = []\n",
    "for genre, lyric in cleaned_lyrics.groupby('closest_genre')['lyric'].sum().iteritems():\n",
    "    text = lyric.lower()\n",
    "    tokens = wordpunct_tokenize(text)\n",
    "    filtered_sentence = [w for w in tokens if (not w in stop_words) and (w.isalpha())] \n",
    "    sentences += filtered_sentence\n",
    "    fdist1 = nltk.FreqDist(filtered_sentence)\n",
    "    freq_unique_words_per_genre[genre] = dict((word, freq) for word, freq in fdist1.items() if word.isalpha())\n"
   ]
  },
  {
   "cell_type": "code",
   "execution_count": 17,
   "metadata": {},
   "outputs": [],
   "source": [
    "sentences_1 = [sent.split() for sent in sentences]"
   ]
  },
  {
   "cell_type": "code",
   "execution_count": 18,
   "metadata": {},
   "outputs": [
    {
     "output_type": "execute_result",
     "data": {
      "text/plain": [
       "[['well'],\n",
       " ['building'],\n",
       " ['inside'],\n",
       " ['oh'],\n",
       " ['know'],\n",
       " ['long'],\n",
       " ['know'],\n",
       " ['keep'],\n",
       " ['thinking'],\n",
       " ['something']]"
      ]
     },
     "metadata": {},
     "execution_count": 18
    }
   ],
   "source": [
    "sentences_1[:10]"
   ]
  },
  {
   "cell_type": "code",
   "execution_count": 19,
   "metadata": {},
   "outputs": [],
   "source": [
    "common_terms = []\n",
    "for key in freq_unique_words_per_genre.keys():\n",
    "    common_terms += heapq.nlargest(100, freq_unique_words_per_genre[key], key=freq_unique_words_per_genre[key].get)\n",
    "common_terms = set(common_terms)"
   ]
  },
  {
   "cell_type": "code",
   "execution_count": 20,
   "metadata": {},
   "outputs": [
    {
     "output_type": "execute_result",
     "data": {
      "text/plain": [
       "263"
      ]
     },
     "metadata": {},
     "execution_count": 20
    }
   ],
   "source": [
    "len(common_terms)"
   ]
  },
  {
   "cell_type": "code",
   "execution_count": 21,
   "metadata": {},
   "outputs": [],
   "source": [
    "from gensim.models.phrases import Phrases, Phraser"
   ]
  },
  {
   "cell_type": "code",
   "execution_count": 245,
   "metadata": {},
   "outputs": [
    {
     "output_type": "stream",
     "name": "stderr",
     "text": [
      "INFO - 16:46:39: collecting all words and their counts\n",
      "INFO - 16:46:39: PROGRESS: at sentence #0, processed 0 words and 0 word types\n",
      "INFO - 16:46:39: PROGRESS: at sentence #10000, processed 10000 words and 1653 word types\n",
      "INFO - 16:46:39: PROGRESS: at sentence #20000, processed 20000 words and 2610 word types\n",
      "INFO - 16:46:39: PROGRESS: at sentence #30000, processed 30000 words and 3366 word types\n",
      "INFO - 16:46:39: PROGRESS: at sentence #40000, processed 40000 words and 4361 word types\n",
      "INFO - 16:46:39: PROGRESS: at sentence #50000, processed 50000 words and 5050 word types\n",
      "INFO - 16:46:39: PROGRESS: at sentence #60000, processed 60000 words and 5716 word types\n",
      "INFO - 16:46:39: PROGRESS: at sentence #70000, processed 70000 words and 6316 word types\n",
      "INFO - 16:46:39: PROGRESS: at sentence #80000, processed 80000 words and 7078 word types\n",
      "INFO - 16:46:39: PROGRESS: at sentence #90000, processed 90000 words and 7778 word types\n",
      "INFO - 16:46:39: PROGRESS: at sentence #100000, processed 100000 words and 8675 word types\n",
      "INFO - 16:46:39: PROGRESS: at sentence #110000, processed 110000 words and 9232 word types\n",
      "INFO - 16:46:39: PROGRESS: at sentence #120000, processed 120000 words and 10097 word types\n",
      "INFO - 16:46:39: PROGRESS: at sentence #130000, processed 130000 words and 10938 word types\n",
      "INFO - 16:46:39: PROGRESS: at sentence #140000, processed 140000 words and 11760 word types\n",
      "INFO - 16:46:39: PROGRESS: at sentence #150000, processed 150000 words and 12509 word types\n",
      "INFO - 16:46:39: PROGRESS: at sentence #160000, processed 160000 words and 13218 word types\n",
      "INFO - 16:46:39: PROGRESS: at sentence #170000, processed 170000 words and 13686 word types\n",
      "INFO - 16:46:39: PROGRESS: at sentence #180000, processed 180000 words and 14089 word types\n",
      "INFO - 16:46:39: PROGRESS: at sentence #190000, processed 190000 words and 14519 word types\n",
      "INFO - 16:46:39: PROGRESS: at sentence #200000, processed 200000 words and 15099 word types\n",
      "INFO - 16:46:39: PROGRESS: at sentence #210000, processed 210000 words and 15512 word types\n",
      "INFO - 16:46:39: PROGRESS: at sentence #220000, processed 220000 words and 15816 word types\n",
      "INFO - 16:46:39: PROGRESS: at sentence #230000, processed 230000 words and 16108 word types\n",
      "INFO - 16:46:39: PROGRESS: at sentence #240000, processed 240000 words and 16363 word types\n",
      "INFO - 16:46:39: PROGRESS: at sentence #250000, processed 250000 words and 16783 word types\n",
      "INFO - 16:46:39: PROGRESS: at sentence #260000, processed 260000 words and 17237 word types\n",
      "INFO - 16:46:39: PROGRESS: at sentence #270000, processed 270000 words and 17641 word types\n",
      "INFO - 16:46:39: PROGRESS: at sentence #280000, processed 280000 words and 18005 word types\n",
      "INFO - 16:46:39: PROGRESS: at sentence #290000, processed 290000 words and 18285 word types\n",
      "INFO - 16:46:39: collected 18339 word types from a corpus of 292502 words (unigram + bigrams) and 292502 sentences\n",
      "INFO - 16:46:39: using 18339 counts as vocab in Phrases<0 vocab, min_count=10, threshold=10.0, max_vocab_size=40000000>\n",
      "INFO - 16:46:39: source_vocab length 18339\n",
      "INFO - 16:46:39: Phraser built with 0 phrasegrams\n"
     ]
    }
   ],
   "source": [
    "phrases = Phrases(sentences_1, common_terms=common_terms, min_count=10)\n",
    "ngram = Phraser(phrases)"
   ]
  },
  {
   "cell_type": "code",
   "execution_count": 246,
   "metadata": {},
   "outputs": [],
   "source": [
    "ngrams_sent = list(ngram[sentences_1])"
   ]
  },
  {
   "cell_type": "code",
   "execution_count": 116,
   "metadata": {},
   "outputs": [],
   "source": [
    "# cleaned_lyrics_txt = (re.sub(\"[^A-Za-z']+\", ' ', str(row)).lower() for row in cleaned_lyrics['lyric'])"
   ]
  },
  {
   "cell_type": "code",
   "execution_count": 117,
   "metadata": {},
   "outputs": [],
   "source": [
    "# nlp = spacy.load('en_core_web_sm', disable=['ner', 'parser']) # disabling Named Entity Recognition for speed\n"
   ]
  },
  {
   "cell_type": "code",
   "execution_count": 118,
   "metadata": {},
   "outputs": [],
   "source": [
    "# def cleaning(doc):\n",
    "#     # Lemmatizes and removes stopwords\n",
    "#     # doc needs to be a spacy Doc object\n",
    "#     txt = [token.lemma_ for token in doc if not token.is_stop]\n",
    "#     # Word2Vec uses context words to learn the vector representation of a target word,\n",
    "#     # if a sentence is only one or two words long,\n",
    "#     # the benefit for the training is very small\n",
    "#     if len(txt) > 2:\n",
    "#         return ' '.join(txt)"
   ]
  },
  {
   "cell_type": "code",
   "execution_count": 119,
   "metadata": {},
   "outputs": [
    {
     "output_type": "stream",
     "name": "stdout",
     "text": [
      "Time to clean up everything: 0.71 mins\n"
     ]
    }
   ],
   "source": [
    "# t = time()\n",
    "\n",
    "# txt = [cleaning(doc) for doc in nlp.pipe(cleaned_lyrics, batch_size=50)]\n",
    "\n",
    "# print('Time to clean up everything: {} mins'.format(round((time() - t) / 60, 2)))"
   ]
  },
  {
   "cell_type": "code",
   "execution_count": null,
   "metadata": {},
   "outputs": [],
   "source": [
    "# df_clean = pd.DataFrame({'clean': txt})\n",
    "# df_clean = df_clean.dropna().drop_duplicates()\n",
    "# df_clean.shape"
   ]
  },
  {
   "source": [
    "- min_count = int - Ignores all words with total absolute frequency lower than this - (2, 100)\n",
    "- window = int - The maximum distance between the current and predicted word within a sentence. E.g. window words on the left and window words on the left of our target - (2, 10)\n",
    "- size = int - Dimensionality of the feature vectors. - (50, 300)\n",
    "- sample = float - The threshold for configuring which higher-frequency words are randomly downsampled. Highly influencial. - (0, 1e-5)\n",
    "- alpha = float - The initial learning rate - (0.01, 0.05)\n",
    "- min_alpha = float - Learning rate will linearly drop to min_alpha as training progresses. To - set it: alpha - (min_alpha * epochs) ~ 0.00\n",
    "- negative = int - If > 0, negative sampling will be used, the int for negative specifies how many \"noise words\" should be drown. If set to 0, no negative sampling is used. - (5, 20)\n",
    "- workers = int - Use these many worker threads to train the model (=faster training with multicore machines)"
   ],
   "cell_type": "markdown",
   "metadata": {}
  },
  {
   "cell_type": "code",
   "execution_count": 25,
   "metadata": {},
   "outputs": [],
   "source": [
    "cores = multiprocessing.cpu_count() # Count the number of cores in a computer"
   ]
  },
  {
   "cell_type": "code",
   "execution_count": 26,
   "metadata": {},
   "outputs": [],
   "source": [
    "w2v_model = Word2Vec(min_count=10,\n",
    "                     window=2,\n",
    "                     size=300,\n",
    "                     sample=6e-5, \n",
    "                     alpha=0.03, \n",
    "                     min_alpha=0.0007, \n",
    "                     negative=20,\n",
    "                     workers=cores-1)"
   ]
  },
  {
   "cell_type": "code",
   "execution_count": 248,
   "metadata": {
    "tags": []
   },
   "outputs": [
    {
     "output_type": "stream",
     "name": "stderr",
     "text": [
      "INFO - 16:47:09: collecting all words and their counts\n",
      "INFO - 16:47:09: PROGRESS: at sentence #0, processed 0 words, keeping 0 word types\n",
      "INFO - 16:47:09: PROGRESS: at sentence #1000, processed 1000 words, keeping 368 word types\n",
      "INFO - 16:47:09: PROGRESS: at sentence #2000, processed 2000 words, keeping 647 word types\n",
      "INFO - 16:47:09: PROGRESS: at sentence #3000, processed 3000 words, keeping 877 word types\n",
      "INFO - 16:47:09: PROGRESS: at sentence #4000, processed 4000 words, keeping 1004 word types\n",
      "INFO - 16:47:09: PROGRESS: at sentence #5000, processed 5000 words, keeping 1168 word types\n",
      "INFO - 16:47:09: PROGRESS: at sentence #6000, processed 6000 words, keeping 1363 word types\n",
      "INFO - 16:47:09: PROGRESS: at sentence #7000, processed 7000 words, keeping 1525 word types\n",
      "INFO - 16:47:09: PROGRESS: at sentence #8000, processed 8000 words, keeping 1621 word types\n",
      "INFO - 16:47:09: PROGRESS: at sentence #9000, processed 9000 words, keeping 1743 word types\n",
      "INFO - 16:47:09: PROGRESS: at sentence #10000, processed 10000 words, keeping 1886 word types\n",
      "INFO - 16:47:09: PROGRESS: at sentence #11000, processed 11000 words, keeping 2033 word types\n",
      "INFO - 16:47:09: PROGRESS: at sentence #12000, processed 12000 words, keeping 2137 word types\n",
      "INFO - 16:47:09: PROGRESS: at sentence #13000, processed 13000 words, keeping 2225 word types\n",
      "INFO - 16:47:09: PROGRESS: at sentence #14000, processed 14000 words, keeping 2311 word types\n",
      "INFO - 16:47:09: PROGRESS: at sentence #15000, processed 15000 words, keeping 2399 word types\n",
      "INFO - 16:47:09: PROGRESS: at sentence #16000, processed 16000 words, keeping 2463 word types\n",
      "INFO - 16:47:09: PROGRESS: at sentence #17000, processed 17000 words, keeping 2566 word types\n",
      "INFO - 16:47:09: PROGRESS: at sentence #18000, processed 18000 words, keeping 2671 word types\n",
      "INFO - 16:47:09: PROGRESS: at sentence #19000, processed 19000 words, keeping 2764 word types\n",
      "INFO - 16:47:09: PROGRESS: at sentence #20000, processed 20000 words, keeping 2853 word types\n",
      "INFO - 16:47:09: PROGRESS: at sentence #21000, processed 21000 words, keeping 2907 word types\n",
      "INFO - 16:47:09: PROGRESS: at sentence #22000, processed 22000 words, keeping 2997 word types\n",
      "INFO - 16:47:09: PROGRESS: at sentence #23000, processed 23000 words, keeping 3073 word types\n",
      "INFO - 16:47:09: PROGRESS: at sentence #24000, processed 24000 words, keeping 3153 word types\n",
      "INFO - 16:47:09: PROGRESS: at sentence #25000, processed 25000 words, keeping 3187 word types\n",
      "INFO - 16:47:09: PROGRESS: at sentence #26000, processed 26000 words, keeping 3238 word types\n",
      "INFO - 16:47:09: PROGRESS: at sentence #27000, processed 27000 words, keeping 3306 word types\n",
      "INFO - 16:47:09: PROGRESS: at sentence #28000, processed 28000 words, keeping 3409 word types\n",
      "INFO - 16:47:09: PROGRESS: at sentence #29000, processed 29000 words, keeping 3520 word types\n",
      "INFO - 16:47:09: PROGRESS: at sentence #30000, processed 30000 words, keeping 3614 word types\n",
      "INFO - 16:47:09: PROGRESS: at sentence #31000, processed 31000 words, keeping 3692 word types\n",
      "INFO - 16:47:09: PROGRESS: at sentence #32000, processed 32000 words, keeping 3766 word types\n",
      "INFO - 16:47:09: PROGRESS: at sentence #33000, processed 33000 words, keeping 3915 word types\n",
      "INFO - 16:47:09: PROGRESS: at sentence #34000, processed 34000 words, keeping 4050 word types\n",
      "INFO - 16:47:09: PROGRESS: at sentence #35000, processed 35000 words, keeping 4115 word types\n",
      "INFO - 16:47:09: PROGRESS: at sentence #36000, processed 36000 words, keeping 4216 word types\n",
      "INFO - 16:47:09: PROGRESS: at sentence #37000, processed 37000 words, keeping 4307 word types\n",
      "INFO - 16:47:09: PROGRESS: at sentence #38000, processed 38000 words, keeping 4391 word types\n",
      "INFO - 16:47:09: PROGRESS: at sentence #39000, processed 39000 words, keeping 4478 word types\n",
      "INFO - 16:47:09: PROGRESS: at sentence #40000, processed 40000 words, keeping 4611 word types\n",
      "INFO - 16:47:09: PROGRESS: at sentence #41000, processed 41000 words, keeping 4664 word types\n",
      "INFO - 16:47:10: PROGRESS: at sentence #42000, processed 42000 words, keeping 4737 word types\n",
      "INFO - 16:47:10: PROGRESS: at sentence #43000, processed 43000 words, keeping 4794 word types\n",
      "INFO - 16:47:10: PROGRESS: at sentence #44000, processed 44000 words, keeping 4859 word types\n",
      "INFO - 16:47:10: PROGRESS: at sentence #45000, processed 45000 words, keeping 4935 word types\n",
      "INFO - 16:47:10: PROGRESS: at sentence #46000, processed 46000 words, keeping 5028 word types\n",
      "INFO - 16:47:10: PROGRESS: at sentence #47000, processed 47000 words, keeping 5079 word types\n",
      "INFO - 16:47:10: PROGRESS: at sentence #48000, processed 48000 words, keeping 5146 word types\n",
      "INFO - 16:47:10: PROGRESS: at sentence #49000, processed 49000 words, keeping 5205 word types\n",
      "INFO - 16:47:10: PROGRESS: at sentence #50000, processed 50000 words, keeping 5302 word types\n",
      "INFO - 16:47:10: PROGRESS: at sentence #51000, processed 51000 words, keeping 5341 word types\n",
      "INFO - 16:47:10: PROGRESS: at sentence #52000, processed 52000 words, keeping 5400 word types\n",
      "INFO - 16:47:10: PROGRESS: at sentence #53000, processed 53000 words, keeping 5444 word types\n",
      "INFO - 16:47:10: PROGRESS: at sentence #54000, processed 54000 words, keeping 5533 word types\n",
      "INFO - 16:47:10: PROGRESS: at sentence #55000, processed 55000 words, keeping 5610 word types\n",
      "INFO - 16:47:10: PROGRESS: at sentence #56000, processed 56000 words, keeping 5731 word types\n",
      "INFO - 16:47:10: PROGRESS: at sentence #57000, processed 57000 words, keeping 5772 word types\n",
      "INFO - 16:47:10: PROGRESS: at sentence #58000, processed 58000 words, keeping 5850 word types\n",
      "INFO - 16:47:10: PROGRESS: at sentence #59000, processed 59000 words, keeping 5916 word types\n",
      "INFO - 16:47:10: PROGRESS: at sentence #60000, processed 60000 words, keeping 5970 word types\n",
      "INFO - 16:47:10: PROGRESS: at sentence #61000, processed 61000 words, keeping 6039 word types\n",
      "INFO - 16:47:10: PROGRESS: at sentence #62000, processed 62000 words, keeping 6106 word types\n",
      "INFO - 16:47:10: PROGRESS: at sentence #63000, processed 63000 words, keeping 6175 word types\n",
      "INFO - 16:47:10: PROGRESS: at sentence #64000, processed 64000 words, keeping 6239 word types\n",
      "INFO - 16:47:10: PROGRESS: at sentence #65000, processed 65000 words, keeping 6322 word types\n",
      "INFO - 16:47:10: PROGRESS: at sentence #66000, processed 66000 words, keeping 6365 word types\n",
      "INFO - 16:47:10: PROGRESS: at sentence #67000, processed 67000 words, keeping 6400 word types\n",
      "INFO - 16:47:10: PROGRESS: at sentence #68000, processed 68000 words, keeping 6463 word types\n",
      "INFO - 16:47:10: PROGRESS: at sentence #69000, processed 69000 words, keeping 6499 word types\n",
      "INFO - 16:47:10: PROGRESS: at sentence #70000, processed 70000 words, keeping 6571 word types\n",
      "INFO - 16:47:10: PROGRESS: at sentence #71000, processed 71000 words, keeping 6660 word types\n",
      "INFO - 16:47:10: PROGRESS: at sentence #72000, processed 72000 words, keeping 6705 word types\n",
      "INFO - 16:47:10: PROGRESS: at sentence #73000, processed 73000 words, keeping 6738 word types\n",
      "INFO - 16:47:10: PROGRESS: at sentence #74000, processed 74000 words, keeping 6845 word types\n",
      "INFO - 16:47:10: PROGRESS: at sentence #75000, processed 75000 words, keeping 6948 word types\n",
      "INFO - 16:47:10: PROGRESS: at sentence #76000, processed 76000 words, keeping 6969 word types\n",
      "INFO - 16:47:10: PROGRESS: at sentence #77000, processed 77000 words, keeping 7054 word types\n",
      "INFO - 16:47:10: PROGRESS: at sentence #78000, processed 78000 words, keeping 7114 word types\n",
      "INFO - 16:47:10: PROGRESS: at sentence #79000, processed 79000 words, keeping 7268 word types\n",
      "INFO - 16:47:10: PROGRESS: at sentence #80000, processed 80000 words, keeping 7334 word types\n",
      "INFO - 16:47:10: PROGRESS: at sentence #81000, processed 81000 words, keeping 7363 word types\n",
      "INFO - 16:47:10: PROGRESS: at sentence #82000, processed 82000 words, keeping 7437 word types\n",
      "INFO - 16:47:10: PROGRESS: at sentence #83000, processed 83000 words, keeping 7530 word types\n",
      "INFO - 16:47:10: PROGRESS: at sentence #84000, processed 84000 words, keeping 7600 word types\n",
      "INFO - 16:47:10: PROGRESS: at sentence #85000, processed 85000 words, keeping 7690 word types\n",
      "INFO - 16:47:10: PROGRESS: at sentence #86000, processed 86000 words, keeping 7741 word types\n",
      "INFO - 16:47:10: PROGRESS: at sentence #87000, processed 87000 words, keeping 7793 word types\n",
      "INFO - 16:47:10: PROGRESS: at sentence #88000, processed 88000 words, keeping 7888 word types\n",
      "INFO - 16:47:10: PROGRESS: at sentence #89000, processed 89000 words, keeping 7959 word types\n",
      "INFO - 16:47:10: PROGRESS: at sentence #90000, processed 90000 words, keeping 8037 word types\n",
      "INFO - 16:47:10: PROGRESS: at sentence #91000, processed 91000 words, keeping 8127 word types\n",
      "INFO - 16:47:10: PROGRESS: at sentence #92000, processed 92000 words, keeping 8255 word types\n",
      "INFO - 16:47:10: PROGRESS: at sentence #93000, processed 93000 words, keeping 8280 word types\n",
      "INFO - 16:47:10: PROGRESS: at sentence #94000, processed 94000 words, keeping 8368 word types\n",
      "INFO - 16:47:10: PROGRESS: at sentence #95000, processed 95000 words, keeping 8432 word types\n",
      "INFO - 16:47:10: PROGRESS: at sentence #96000, processed 96000 words, keeping 8538 word types\n",
      "INFO - 16:47:10: PROGRESS: at sentence #97000, processed 97000 words, keeping 8632 word types\n",
      "INFO - 16:47:10: PROGRESS: at sentence #98000, processed 98000 words, keeping 8755 word types\n",
      "INFO - 16:47:10: PROGRESS: at sentence #99000, processed 99000 words, keeping 8825 word types\n",
      "INFO - 16:47:10: PROGRESS: at sentence #100000, processed 100000 words, keeping 8936 word types\n",
      "INFO - 16:47:10: PROGRESS: at sentence #101000, processed 101000 words, keeping 8991 word types\n",
      "INFO - 16:47:10: PROGRESS: at sentence #102000, processed 102000 words, keeping 9002 word types\n",
      "INFO - 16:47:10: PROGRESS: at sentence #103000, processed 103000 words, keeping 9054 word types\n",
      "INFO - 16:47:10: PROGRESS: at sentence #104000, processed 104000 words, keeping 9148 word types\n",
      "INFO - 16:47:10: PROGRESS: at sentence #105000, processed 105000 words, keeping 9180 word types\n",
      "INFO - 16:47:10: PROGRESS: at sentence #106000, processed 106000 words, keeping 9205 word types\n",
      "INFO - 16:47:10: PROGRESS: at sentence #107000, processed 107000 words, keeping 9271 word types\n",
      "INFO - 16:47:10: PROGRESS: at sentence #108000, processed 108000 words, keeping 9309 word types\n",
      "INFO - 16:47:10: PROGRESS: at sentence #109000, processed 109000 words, keeping 9440 word types\n",
      "INFO - 16:47:10: PROGRESS: at sentence #110000, processed 110000 words, keeping 9493 word types\n",
      "INFO - 16:47:10: PROGRESS: at sentence #111000, processed 111000 words, keeping 9574 word types\n",
      "INFO - 16:47:10: PROGRESS: at sentence #112000, processed 112000 words, keeping 9661 word types\n",
      "INFO - 16:47:10: PROGRESS: at sentence #113000, processed 113000 words, keeping 9818 word types\n",
      "INFO - 16:47:10: PROGRESS: at sentence #114000, processed 114000 words, keeping 9867 word types\n",
      "INFO - 16:47:10: PROGRESS: at sentence #115000, processed 115000 words, keeping 9985 word types\n",
      "INFO - 16:47:10: PROGRESS: at sentence #116000, processed 116000 words, keeping 10057 word types\n",
      "INFO - 16:47:10: PROGRESS: at sentence #117000, processed 117000 words, keeping 10136 word types\n",
      "INFO - 16:47:10: PROGRESS: at sentence #118000, processed 118000 words, keeping 10216 word types\n",
      "INFO - 16:47:10: PROGRESS: at sentence #119000, processed 119000 words, keeping 10292 word types\n",
      "INFO - 16:47:10: PROGRESS: at sentence #120000, processed 120000 words, keeping 10359 word types\n",
      "INFO - 16:47:10: PROGRESS: at sentence #121000, processed 121000 words, keeping 10381 word types\n",
      "INFO - 16:47:10: PROGRESS: at sentence #122000, processed 122000 words, keeping 10479 word types\n",
      "INFO - 16:47:10: PROGRESS: at sentence #123000, processed 123000 words, keeping 10571 word types\n",
      "INFO - 16:47:10: PROGRESS: at sentence #124000, processed 124000 words, keeping 10669 word types\n",
      "INFO - 16:47:10: PROGRESS: at sentence #125000, processed 125000 words, keeping 10784 word types\n",
      "INFO - 16:47:10: PROGRESS: at sentence #126000, processed 126000 words, keeping 10893 word types\n",
      "INFO - 16:47:10: PROGRESS: at sentence #127000, processed 127000 words, keeping 10977 word types\n",
      "INFO - 16:47:10: PROGRESS: at sentence #128000, processed 128000 words, keeping 11046 word types\n",
      "INFO - 16:47:10: PROGRESS: at sentence #129000, processed 129000 words, keeping 11142 word types\n",
      "INFO - 16:47:10: PROGRESS: at sentence #130000, processed 130000 words, keeping 11200 word types\n",
      "INFO - 16:47:10: PROGRESS: at sentence #131000, processed 131000 words, keeping 11311 word types\n",
      "INFO - 16:47:10: PROGRESS: at sentence #132000, processed 132000 words, keeping 11390 word types\n",
      "INFO - 16:47:10: PROGRESS: at sentence #133000, processed 133000 words, keeping 11446 word types\n",
      "INFO - 16:47:10: PROGRESS: at sentence #134000, processed 134000 words, keeping 11530 word types\n",
      "INFO - 16:47:10: PROGRESS: at sentence #135000, processed 135000 words, keeping 11592 word types\n",
      "INFO - 16:47:10: PROGRESS: at sentence #136000, processed 136000 words, keeping 11692 word types\n",
      "INFO - 16:47:10: PROGRESS: at sentence #137000, processed 137000 words, keeping 11766 word types\n",
      "INFO - 16:47:10: PROGRESS: at sentence #138000, processed 138000 words, keeping 11824 word types\n",
      "INFO - 16:47:10: PROGRESS: at sentence #139000, processed 139000 words, keeping 11936 word types\n",
      "INFO - 16:47:10: PROGRESS: at sentence #140000, processed 140000 words, keeping 12022 word types\n",
      "INFO - 16:47:10: PROGRESS: at sentence #141000, processed 141000 words, keeping 12139 word types\n",
      "INFO - 16:47:10: PROGRESS: at sentence #142000, processed 142000 words, keeping 12209 word types\n",
      "INFO - 16:47:10: PROGRESS: at sentence #143000, processed 143000 words, keeping 12265 word types\n",
      "INFO - 16:47:10: PROGRESS: at sentence #144000, processed 144000 words, keeping 12352 word types\n",
      "INFO - 16:47:10: PROGRESS: at sentence #145000, processed 145000 words, keeping 12455 word types\n",
      "INFO - 16:47:10: PROGRESS: at sentence #146000, processed 146000 words, keeping 12536 word types\n",
      "INFO - 16:47:10: PROGRESS: at sentence #147000, processed 147000 words, keeping 12632 word types\n",
      "INFO - 16:47:10: PROGRESS: at sentence #148000, processed 148000 words, keeping 12682 word types\n",
      "INFO - 16:47:10: PROGRESS: at sentence #149000, processed 149000 words, keeping 12721 word types\n",
      "INFO - 16:47:10: PROGRESS: at sentence #150000, processed 150000 words, keeping 12771 word types\n",
      "INFO - 16:47:10: PROGRESS: at sentence #151000, processed 151000 words, keeping 12827 word types\n",
      "INFO - 16:47:10: PROGRESS: at sentence #152000, processed 152000 words, keeping 12982 word types\n",
      "INFO - 16:47:10: PROGRESS: at sentence #153000, processed 153000 words, keeping 13039 word types\n",
      "INFO - 16:47:10: PROGRESS: at sentence #154000, processed 154000 words, keeping 13125 word types\n",
      "INFO - 16:47:10: PROGRESS: at sentence #155000, processed 155000 words, keeping 13172 word types\n",
      "INFO - 16:47:10: PROGRESS: at sentence #156000, processed 156000 words, keeping 13216 word types\n",
      "INFO - 16:47:10: PROGRESS: at sentence #157000, processed 157000 words, keeping 13325 word types\n",
      "INFO - 16:47:10: PROGRESS: at sentence #158000, processed 158000 words, keeping 13376 word types\n",
      "INFO - 16:47:10: PROGRESS: at sentence #159000, processed 159000 words, keeping 13459 word types\n",
      "INFO - 16:47:10: PROGRESS: at sentence #160000, processed 160000 words, keeping 13480 word types\n",
      "INFO - 16:47:10: PROGRESS: at sentence #161000, processed 161000 words, keeping 13544 word types\n",
      "INFO - 16:47:10: PROGRESS: at sentence #162000, processed 162000 words, keeping 13599 word types\n",
      "INFO - 16:47:10: PROGRESS: at sentence #163000, processed 163000 words, keeping 13603 word types\n",
      "INFO - 16:47:10: PROGRESS: at sentence #164000, processed 164000 words, keeping 13647 word types\n",
      "INFO - 16:47:10: PROGRESS: at sentence #165000, processed 165000 words, keeping 13718 word types\n",
      "INFO - 16:47:10: PROGRESS: at sentence #166000, processed 166000 words, keeping 13751 word types\n",
      "INFO - 16:47:10: PROGRESS: at sentence #167000, processed 167000 words, keeping 13791 word types\n",
      "INFO - 16:47:10: PROGRESS: at sentence #168000, processed 168000 words, keeping 13852 word types\n",
      "INFO - 16:47:10: PROGRESS: at sentence #169000, processed 169000 words, keeping 13911 word types\n",
      "INFO - 16:47:10: PROGRESS: at sentence #170000, processed 170000 words, keeping 13949 word types\n",
      "INFO - 16:47:10: PROGRESS: at sentence #171000, processed 171000 words, keeping 13989 word types\n",
      "INFO - 16:47:10: PROGRESS: at sentence #172000, processed 172000 words, keeping 14024 word types\n",
      "INFO - 16:47:10: PROGRESS: at sentence #173000, processed 173000 words, keeping 14055 word types\n",
      "INFO - 16:47:10: PROGRESS: at sentence #174000, processed 174000 words, keeping 14091 word types\n",
      "INFO - 16:47:10: PROGRESS: at sentence #175000, processed 175000 words, keeping 14154 word types\n",
      "INFO - 16:47:10: PROGRESS: at sentence #176000, processed 176000 words, keeping 14182 word types\n",
      "INFO - 16:47:10: PROGRESS: at sentence #177000, processed 177000 words, keeping 14208 word types\n",
      "INFO - 16:47:10: PROGRESS: at sentence #178000, processed 178000 words, keeping 14257 word types\n",
      "INFO - 16:47:10: PROGRESS: at sentence #179000, processed 179000 words, keeping 14286 word types\n",
      "INFO - 16:47:10: PROGRESS: at sentence #180000, processed 180000 words, keeping 14352 word types\n",
      "INFO - 16:47:10: PROGRESS: at sentence #181000, processed 181000 words, keeping 14364 word types\n",
      "INFO - 16:47:10: PROGRESS: at sentence #182000, processed 182000 words, keeping 14386 word types\n",
      "INFO - 16:47:10: PROGRESS: at sentence #183000, processed 183000 words, keeping 14417 word types\n",
      "INFO - 16:47:10: PROGRESS: at sentence #184000, processed 184000 words, keeping 14432 word types\n",
      "INFO - 16:47:10: PROGRESS: at sentence #185000, processed 185000 words, keeping 14474 word types\n",
      "INFO - 16:47:10: PROGRESS: at sentence #186000, processed 186000 words, keeping 14534 word types\n",
      "INFO - 16:47:10: PROGRESS: at sentence #187000, processed 187000 words, keeping 14584 word types\n",
      "INFO - 16:47:10: PROGRESS: at sentence #188000, processed 188000 words, keeping 14633 word types\n",
      "INFO - 16:47:10: PROGRESS: at sentence #189000, processed 189000 words, keeping 14717 word types\n",
      "INFO - 16:47:10: PROGRESS: at sentence #190000, processed 190000 words, keeping 14782 word types\n",
      "INFO - 16:47:10: PROGRESS: at sentence #191000, processed 191000 words, keeping 14859 word types\n",
      "INFO - 16:47:10: PROGRESS: at sentence #192000, processed 192000 words, keeping 14911 word types\n",
      "INFO - 16:47:10: PROGRESS: at sentence #193000, processed 193000 words, keeping 14953 word types\n",
      "INFO - 16:47:10: PROGRESS: at sentence #194000, processed 194000 words, keeping 15030 word types\n",
      "INFO - 16:47:10: PROGRESS: at sentence #195000, processed 195000 words, keeping 15089 word types\n",
      "INFO - 16:47:10: PROGRESS: at sentence #196000, processed 196000 words, keeping 15157 word types\n",
      "INFO - 16:47:10: PROGRESS: at sentence #197000, processed 197000 words, keeping 15205 word types\n",
      "INFO - 16:47:10: PROGRESS: at sentence #198000, processed 198000 words, keeping 15254 word types\n",
      "INFO - 16:47:10: PROGRESS: at sentence #199000, processed 199000 words, keeping 15299 word types\n",
      "INFO - 16:47:10: PROGRESS: at sentence #200000, processed 200000 words, keeping 15362 word types\n",
      "INFO - 16:47:10: PROGRESS: at sentence #201000, processed 201000 words, keeping 15411 word types\n",
      "INFO - 16:47:10: PROGRESS: at sentence #202000, processed 202000 words, keeping 15445 word types\n",
      "INFO - 16:47:10: PROGRESS: at sentence #203000, processed 203000 words, keeping 15487 word types\n",
      "INFO - 16:47:10: PROGRESS: at sentence #204000, processed 204000 words, keeping 15537 word types\n",
      "INFO - 16:47:10: PROGRESS: at sentence #205000, processed 205000 words, keeping 15556 word types\n",
      "INFO - 16:47:10: PROGRESS: at sentence #206000, processed 206000 words, keeping 15598 word types\n",
      "INFO - 16:47:10: PROGRESS: at sentence #207000, processed 207000 words, keeping 15652 word types\n",
      "INFO - 16:47:10: PROGRESS: at sentence #208000, processed 208000 words, keeping 15687 word types\n",
      "INFO - 16:47:10: PROGRESS: at sentence #209000, processed 209000 words, keeping 15725 word types\n",
      "INFO - 16:47:10: PROGRESS: at sentence #210000, processed 210000 words, keeping 15775 word types\n",
      "INFO - 16:47:10: PROGRESS: at sentence #211000, processed 211000 words, keeping 15805 word types\n",
      "INFO - 16:47:10: PROGRESS: at sentence #212000, processed 212000 words, keeping 15828 word types\n",
      "INFO - 16:47:10: PROGRESS: at sentence #213000, processed 213000 words, keeping 15871 word types\n",
      "INFO - 16:47:10: PROGRESS: at sentence #214000, processed 214000 words, keeping 15915 word types\n",
      "INFO - 16:47:10: PROGRESS: at sentence #215000, processed 215000 words, keeping 15952 word types\n",
      "INFO - 16:47:10: PROGRESS: at sentence #216000, processed 216000 words, keeping 15965 word types\n",
      "INFO - 16:47:10: PROGRESS: at sentence #217000, processed 217000 words, keeping 15993 word types\n",
      "INFO - 16:47:10: PROGRESS: at sentence #218000, processed 218000 words, keeping 16029 word types\n",
      "INFO - 16:47:10: PROGRESS: at sentence #219000, processed 219000 words, keeping 16045 word types\n",
      "INFO - 16:47:10: PROGRESS: at sentence #220000, processed 220000 words, keeping 16079 word types\n",
      "INFO - 16:47:10: PROGRESS: at sentence #221000, processed 221000 words, keeping 16098 word types\n",
      "INFO - 16:47:10: PROGRESS: at sentence #222000, processed 222000 words, keeping 16131 word types\n",
      "INFO - 16:47:10: PROGRESS: at sentence #223000, processed 223000 words, keeping 16145 word types\n",
      "INFO - 16:47:10: PROGRESS: at sentence #224000, processed 224000 words, keeping 16151 word types\n",
      "INFO - 16:47:10: PROGRESS: at sentence #225000, processed 225000 words, keeping 16220 word types\n",
      "INFO - 16:47:10: PROGRESS: at sentence #226000, processed 226000 words, keeping 16239 word types\n",
      "INFO - 16:47:10: PROGRESS: at sentence #227000, processed 227000 words, keeping 16265 word types\n",
      "INFO - 16:47:10: PROGRESS: at sentence #228000, processed 228000 words, keeping 16288 word types\n",
      "INFO - 16:47:10: PROGRESS: at sentence #229000, processed 229000 words, keeping 16307 word types\n",
      "INFO - 16:47:10: PROGRESS: at sentence #230000, processed 230000 words, keeping 16371 word types\n",
      "INFO - 16:47:10: PROGRESS: at sentence #231000, processed 231000 words, keeping 16412 word types\n",
      "INFO - 16:47:10: PROGRESS: at sentence #232000, processed 232000 words, keeping 16448 word types\n",
      "INFO - 16:47:10: PROGRESS: at sentence #233000, processed 233000 words, keeping 16474 word types\n",
      "INFO - 16:47:10: PROGRESS: at sentence #234000, processed 234000 words, keeping 16489 word types\n",
      "INFO - 16:47:10: PROGRESS: at sentence #235000, processed 235000 words, keeping 16511 word types\n",
      "INFO - 16:47:10: PROGRESS: at sentence #236000, processed 236000 words, keeping 16531 word types\n",
      "INFO - 16:47:10: PROGRESS: at sentence #237000, processed 237000 words, keeping 16558 word types\n",
      "INFO - 16:47:10: PROGRESS: at sentence #238000, processed 238000 words, keeping 16581 word types\n",
      "INFO - 16:47:10: PROGRESS: at sentence #239000, processed 239000 words, keeping 16611 word types\n",
      "INFO - 16:47:10: PROGRESS: at sentence #240000, processed 240000 words, keeping 16626 word types\n",
      "INFO - 16:47:10: PROGRESS: at sentence #241000, processed 241000 words, keeping 16643 word types\n",
      "INFO - 16:47:10: PROGRESS: at sentence #242000, processed 242000 words, keeping 16681 word types\n",
      "INFO - 16:47:10: PROGRESS: at sentence #243000, processed 243000 words, keeping 16712 word types\n",
      "INFO - 16:47:10: PROGRESS: at sentence #244000, processed 244000 words, keeping 16745 word types\n",
      "INFO - 16:47:10: PROGRESS: at sentence #245000, processed 245000 words, keeping 16801 word types\n",
      "INFO - 16:47:10: PROGRESS: at sentence #246000, processed 246000 words, keeping 16861 word types\n",
      "INFO - 16:47:10: PROGRESS: at sentence #247000, processed 247000 words, keeping 16902 word types\n",
      "INFO - 16:47:10: PROGRESS: at sentence #248000, processed 248000 words, keeping 16922 word types\n",
      "INFO - 16:47:10: PROGRESS: at sentence #249000, processed 249000 words, keeping 16981 word types\n",
      "INFO - 16:47:10: PROGRESS: at sentence #250000, processed 250000 words, keeping 17046 word types\n",
      "INFO - 16:47:10: PROGRESS: at sentence #251000, processed 251000 words, keeping 17094 word types\n",
      "INFO - 16:47:10: PROGRESS: at sentence #252000, processed 252000 words, keeping 17129 word types\n",
      "INFO - 16:47:10: PROGRESS: at sentence #253000, processed 253000 words, keeping 17182 word types\n",
      "INFO - 16:47:10: PROGRESS: at sentence #254000, processed 254000 words, keeping 17237 word types\n",
      "INFO - 16:47:10: PROGRESS: at sentence #255000, processed 255000 words, keeping 17273 word types\n",
      "INFO - 16:47:10: PROGRESS: at sentence #256000, processed 256000 words, keeping 17317 word types\n",
      "INFO - 16:47:10: PROGRESS: at sentence #257000, processed 257000 words, keeping 17378 word types\n",
      "INFO - 16:47:10: PROGRESS: at sentence #258000, processed 258000 words, keeping 17402 word types\n",
      "INFO - 16:47:10: PROGRESS: at sentence #259000, processed 259000 words, keeping 17439 word types\n",
      "INFO - 16:47:10: PROGRESS: at sentence #260000, processed 260000 words, keeping 17500 word types\n",
      "INFO - 16:47:10: PROGRESS: at sentence #261000, processed 261000 words, keeping 17534 word types\n",
      "INFO - 16:47:10: PROGRESS: at sentence #262000, processed 262000 words, keeping 17567 word types\n",
      "INFO - 16:47:10: PROGRESS: at sentence #263000, processed 263000 words, keeping 17600 word types\n",
      "INFO - 16:47:10: PROGRESS: at sentence #264000, processed 264000 words, keeping 17646 word types\n",
      "INFO - 16:47:10: PROGRESS: at sentence #265000, processed 265000 words, keeping 17689 word types\n",
      "INFO - 16:47:10: PROGRESS: at sentence #266000, processed 266000 words, keeping 17748 word types\n",
      "INFO - 16:47:10: PROGRESS: at sentence #267000, processed 267000 words, keeping 17782 word types\n",
      "INFO - 16:47:10: PROGRESS: at sentence #268000, processed 268000 words, keeping 17822 word types\n",
      "INFO - 16:47:10: PROGRESS: at sentence #269000, processed 269000 words, keeping 17852 word types\n",
      "INFO - 16:47:10: PROGRESS: at sentence #270000, processed 270000 words, keeping 17904 word types\n",
      "INFO - 16:47:10: PROGRESS: at sentence #271000, processed 271000 words, keeping 17945 word types\n",
      "INFO - 16:47:10: PROGRESS: at sentence #272000, processed 272000 words, keeping 17979 word types\n",
      "INFO - 16:47:10: PROGRESS: at sentence #273000, processed 273000 words, keeping 17998 word types\n",
      "INFO - 16:47:10: PROGRESS: at sentence #274000, processed 274000 words, keeping 18039 word types\n",
      "INFO - 16:47:10: PROGRESS: at sentence #275000, processed 275000 words, keeping 18085 word types\n",
      "INFO - 16:47:10: PROGRESS: at sentence #276000, processed 276000 words, keeping 18131 word types\n",
      "INFO - 16:47:10: PROGRESS: at sentence #277000, processed 277000 words, keeping 18171 word types\n",
      "INFO - 16:47:10: PROGRESS: at sentence #278000, processed 278000 words, keeping 18211 word types\n",
      "INFO - 16:47:10: PROGRESS: at sentence #279000, processed 279000 words, keeping 18245 word types\n",
      "INFO - 16:47:10: PROGRESS: at sentence #280000, processed 280000 words, keeping 18268 word types\n",
      "INFO - 16:47:10: PROGRESS: at sentence #281000, processed 281000 words, keeping 18305 word types\n",
      "INFO - 16:47:10: PROGRESS: at sentence #282000, processed 282000 words, keeping 18327 word types\n",
      "INFO - 16:47:10: PROGRESS: at sentence #283000, processed 283000 words, keeping 18349 word types\n",
      "INFO - 16:47:10: PROGRESS: at sentence #284000, processed 284000 words, keeping 18380 word types\n",
      "INFO - 16:47:10: PROGRESS: at sentence #285000, processed 285000 words, keeping 18402 word types\n",
      "INFO - 16:47:10: PROGRESS: at sentence #286000, processed 286000 words, keeping 18427 word types\n",
      "INFO - 16:47:10: PROGRESS: at sentence #287000, processed 287000 words, keeping 18448 word types\n",
      "INFO - 16:47:10: PROGRESS: at sentence #288000, processed 288000 words, keeping 18489 word types\n",
      "INFO - 16:47:10: PROGRESS: at sentence #289000, processed 289000 words, keeping 18516 word types\n",
      "INFO - 16:47:10: PROGRESS: at sentence #290000, processed 290000 words, keeping 18548 word types\n",
      "INFO - 16:47:10: PROGRESS: at sentence #291000, processed 291000 words, keeping 18567 word types\n",
      "INFO - 16:47:10: PROGRESS: at sentence #292000, processed 292000 words, keeping 18590 word types\n",
      "INFO - 16:47:10: collected 18602 word types from a corpus of 292502 raw words and 292502 sentences\n",
      "INFO - 16:47:10: Loading a fresh vocabulary\n",
      "INFO - 16:47:10: effective_min_count=10 retains 3268 unique words (17% of original 18602, drops 15334)\n",
      "INFO - 16:47:10: effective_min_count=10 leaves 257990 word corpus (88% of original 292502, drops 34512)\n",
      "INFO - 16:47:10: deleting the raw counts dictionary of 18602 items\n",
      "INFO - 16:47:10: sample=6e-05 downsamples 1076 most-common words\n",
      "INFO - 16:47:10: downsampling leaves estimated 110182 word corpus (42.7% of prior 257990)\n",
      "INFO - 16:47:10: estimated required memory for 3268 words and 300 dimensions: 9477200 bytes\n",
      "INFO - 16:47:10: resetting layer weights\n",
      "Time to build vocab: 0.03 mins\n"
     ]
    }
   ],
   "source": [
    "t = time()\n",
    "\n",
    "w2v_model.build_vocab(ngrams_sent, progress_per=1000)\n",
    "\n",
    "print('Time to build vocab: {} mins'.format(round((time() - t) / 60, 2)))"
   ]
  },
  {
   "cell_type": "code",
   "execution_count": 249,
   "metadata": {},
   "outputs": [
    {
     "output_type": "stream",
     "name": "stderr",
     "text": [
      "INFO - 16:47:12: training model with 11 workers on 3268 vocabulary and 300 features, using sg=0 hs=0 sample=6e-05 negative=20 window=2\n",
      "INFO - 16:47:12: worker thread finished; awaiting finish of 10 more threads\n",
      "INFO - 16:47:12: worker thread finished; awaiting finish of 9 more threads\n",
      "INFO - 16:47:12: worker thread finished; awaiting finish of 8 more threads\n",
      "INFO - 16:47:12: worker thread finished; awaiting finish of 7 more threads\n",
      "INFO - 16:47:12: worker thread finished; awaiting finish of 6 more threads\n",
      "INFO - 16:47:12: worker thread finished; awaiting finish of 5 more threads\n",
      "INFO - 16:47:12: worker thread finished; awaiting finish of 4 more threads\n",
      "INFO - 16:47:12: worker thread finished; awaiting finish of 3 more threads\n",
      "INFO - 16:47:12: worker thread finished; awaiting finish of 2 more threads\n",
      "INFO - 16:47:12: worker thread finished; awaiting finish of 1 more threads\n",
      "INFO - 16:47:12: worker thread finished; awaiting finish of 0 more threads\n",
      "INFO - 16:47:12: EPOCH - 1 : training on 292502 raw words (110131 effective words) took 0.5s, 203442 effective words/s\n",
      "INFO - 16:47:13: worker thread finished; awaiting finish of 10 more threads\n",
      "INFO - 16:47:13: worker thread finished; awaiting finish of 9 more threads\n",
      "INFO - 16:47:13: worker thread finished; awaiting finish of 8 more threads\n",
      "INFO - 16:47:13: worker thread finished; awaiting finish of 7 more threads\n",
      "INFO - 16:47:13: worker thread finished; awaiting finish of 6 more threads\n",
      "INFO - 16:47:13: worker thread finished; awaiting finish of 5 more threads\n",
      "INFO - 16:47:13: worker thread finished; awaiting finish of 4 more threads\n",
      "INFO - 16:47:13: worker thread finished; awaiting finish of 3 more threads\n",
      "INFO - 16:47:13: worker thread finished; awaiting finish of 2 more threads\n",
      "INFO - 16:47:13: worker thread finished; awaiting finish of 1 more threads\n",
      "INFO - 16:47:13: worker thread finished; awaiting finish of 0 more threads\n",
      "INFO - 16:47:13: EPOCH - 2 : training on 292502 raw words (110196 effective words) took 0.5s, 223109 effective words/s\n",
      "INFO - 16:47:13: worker thread finished; awaiting finish of 10 more threads\n",
      "INFO - 16:47:13: worker thread finished; awaiting finish of 9 more threads\n",
      "INFO - 16:47:13: worker thread finished; awaiting finish of 8 more threads\n",
      "INFO - 16:47:13: worker thread finished; awaiting finish of 7 more threads\n",
      "INFO - 16:47:13: worker thread finished; awaiting finish of 6 more threads\n",
      "INFO - 16:47:14: worker thread finished; awaiting finish of 5 more threads\n",
      "INFO - 16:47:14: worker thread finished; awaiting finish of 4 more threads\n",
      "INFO - 16:47:14: worker thread finished; awaiting finish of 3 more threads\n",
      "INFO - 16:47:14: worker thread finished; awaiting finish of 2 more threads\n",
      "INFO - 16:47:14: worker thread finished; awaiting finish of 1 more threads\n",
      "INFO - 16:47:14: worker thread finished; awaiting finish of 0 more threads\n",
      "INFO - 16:47:14: EPOCH - 3 : training on 292502 raw words (110021 effective words) took 0.6s, 199983 effective words/s\n",
      "INFO - 16:47:14: worker thread finished; awaiting finish of 10 more threads\n",
      "INFO - 16:47:14: worker thread finished; awaiting finish of 9 more threads\n",
      "INFO - 16:47:14: worker thread finished; awaiting finish of 8 more threads\n",
      "INFO - 16:47:14: worker thread finished; awaiting finish of 7 more threads\n",
      "INFO - 16:47:14: worker thread finished; awaiting finish of 6 more threads\n",
      "INFO - 16:47:14: worker thread finished; awaiting finish of 5 more threads\n",
      "INFO - 16:47:14: worker thread finished; awaiting finish of 4 more threads\n",
      "INFO - 16:47:14: worker thread finished; awaiting finish of 3 more threads\n",
      "INFO - 16:47:14: worker thread finished; awaiting finish of 2 more threads\n",
      "INFO - 16:47:14: worker thread finished; awaiting finish of 1 more threads\n",
      "INFO - 16:47:14: worker thread finished; awaiting finish of 0 more threads\n",
      "INFO - 16:47:14: EPOCH - 4 : training on 292502 raw words (110175 effective words) took 0.5s, 226171 effective words/s\n",
      "INFO - 16:47:15: worker thread finished; awaiting finish of 10 more threads\n",
      "INFO - 16:47:15: worker thread finished; awaiting finish of 9 more threads\n",
      "INFO - 16:47:15: worker thread finished; awaiting finish of 8 more threads\n",
      "INFO - 16:47:15: worker thread finished; awaiting finish of 7 more threads\n",
      "INFO - 16:47:15: worker thread finished; awaiting finish of 6 more threads\n",
      "INFO - 16:47:15: worker thread finished; awaiting finish of 5 more threads\n",
      "INFO - 16:47:15: worker thread finished; awaiting finish of 4 more threads\n",
      "INFO - 16:47:15: worker thread finished; awaiting finish of 3 more threads\n",
      "INFO - 16:47:15: worker thread finished; awaiting finish of 2 more threads\n",
      "INFO - 16:47:15: worker thread finished; awaiting finish of 1 more threads\n",
      "INFO - 16:47:15: worker thread finished; awaiting finish of 0 more threads\n",
      "INFO - 16:47:15: EPOCH - 5 : training on 292502 raw words (110083 effective words) took 0.6s, 183550 effective words/s\n",
      "INFO - 16:47:15: worker thread finished; awaiting finish of 10 more threads\n",
      "INFO - 16:47:16: worker thread finished; awaiting finish of 9 more threads\n",
      "INFO - 16:47:16: worker thread finished; awaiting finish of 8 more threads\n",
      "INFO - 16:47:16: worker thread finished; awaiting finish of 7 more threads\n",
      "INFO - 16:47:16: worker thread finished; awaiting finish of 6 more threads\n",
      "INFO - 16:47:16: worker thread finished; awaiting finish of 5 more threads\n",
      "INFO - 16:47:16: worker thread finished; awaiting finish of 4 more threads\n",
      "INFO - 16:47:16: worker thread finished; awaiting finish of 3 more threads\n",
      "INFO - 16:47:16: worker thread finished; awaiting finish of 2 more threads\n",
      "INFO - 16:47:16: worker thread finished; awaiting finish of 1 more threads\n",
      "INFO - 16:47:16: worker thread finished; awaiting finish of 0 more threads\n",
      "INFO - 16:47:16: EPOCH - 6 : training on 292502 raw words (110289 effective words) took 0.7s, 168562 effective words/s\n",
      "INFO - 16:47:16: worker thread finished; awaiting finish of 10 more threads\n",
      "INFO - 16:47:16: worker thread finished; awaiting finish of 9 more threads\n",
      "INFO - 16:47:16: worker thread finished; awaiting finish of 8 more threads\n",
      "INFO - 16:47:16: worker thread finished; awaiting finish of 7 more threads\n",
      "INFO - 16:47:16: worker thread finished; awaiting finish of 6 more threads\n",
      "INFO - 16:47:16: worker thread finished; awaiting finish of 5 more threads\n",
      "INFO - 16:47:16: worker thread finished; awaiting finish of 4 more threads\n",
      "INFO - 16:47:16: worker thread finished; awaiting finish of 3 more threads\n",
      "INFO - 16:47:16: worker thread finished; awaiting finish of 2 more threads\n",
      "INFO - 16:47:16: worker thread finished; awaiting finish of 1 more threads\n",
      "INFO - 16:47:16: worker thread finished; awaiting finish of 0 more threads\n",
      "INFO - 16:47:16: EPOCH - 7 : training on 292502 raw words (110517 effective words) took 0.7s, 164963 effective words/s\n",
      "INFO - 16:47:17: worker thread finished; awaiting finish of 10 more threads\n",
      "INFO - 16:47:17: worker thread finished; awaiting finish of 9 more threads\n",
      "INFO - 16:47:17: worker thread finished; awaiting finish of 8 more threads\n",
      "INFO - 16:47:17: worker thread finished; awaiting finish of 7 more threads\n",
      "INFO - 16:47:17: worker thread finished; awaiting finish of 6 more threads\n",
      "INFO - 16:47:17: worker thread finished; awaiting finish of 5 more threads\n",
      "INFO - 16:47:17: worker thread finished; awaiting finish of 4 more threads\n",
      "INFO - 16:47:17: worker thread finished; awaiting finish of 3 more threads\n",
      "INFO - 16:47:17: worker thread finished; awaiting finish of 2 more threads\n",
      "INFO - 16:47:17: worker thread finished; awaiting finish of 1 more threads\n",
      "INFO - 16:47:17: worker thread finished; awaiting finish of 0 more threads\n",
      "INFO - 16:47:17: EPOCH - 8 : training on 292502 raw words (110264 effective words) took 0.6s, 182128 effective words/s\n",
      "INFO - 16:47:18: worker thread finished; awaiting finish of 10 more threads\n",
      "INFO - 16:47:18: worker thread finished; awaiting finish of 9 more threads\n",
      "INFO - 16:47:18: worker thread finished; awaiting finish of 8 more threads\n",
      "INFO - 16:47:18: worker thread finished; awaiting finish of 7 more threads\n",
      "INFO - 16:47:18: worker thread finished; awaiting finish of 6 more threads\n",
      "INFO - 16:47:18: worker thread finished; awaiting finish of 5 more threads\n",
      "INFO - 16:47:18: worker thread finished; awaiting finish of 4 more threads\n",
      "INFO - 16:47:18: worker thread finished; awaiting finish of 3 more threads\n",
      "INFO - 16:47:18: worker thread finished; awaiting finish of 2 more threads\n",
      "INFO - 16:47:18: worker thread finished; awaiting finish of 1 more threads\n",
      "INFO - 16:47:18: worker thread finished; awaiting finish of 0 more threads\n",
      "INFO - 16:47:18: EPOCH - 9 : training on 292502 raw words (110212 effective words) took 0.7s, 168541 effective words/s\n",
      "INFO - 16:47:18: worker thread finished; awaiting finish of 10 more threads\n",
      "INFO - 16:47:18: worker thread finished; awaiting finish of 9 more threads\n",
      "INFO - 16:47:18: worker thread finished; awaiting finish of 8 more threads\n",
      "INFO - 16:47:18: worker thread finished; awaiting finish of 7 more threads\n",
      "INFO - 16:47:18: worker thread finished; awaiting finish of 6 more threads\n",
      "INFO - 16:47:18: worker thread finished; awaiting finish of 5 more threads\n",
      "INFO - 16:47:18: worker thread finished; awaiting finish of 4 more threads\n",
      "INFO - 16:47:18: worker thread finished; awaiting finish of 3 more threads\n",
      "INFO - 16:47:18: worker thread finished; awaiting finish of 2 more threads\n",
      "INFO - 16:47:18: worker thread finished; awaiting finish of 1 more threads\n",
      "INFO - 16:47:18: worker thread finished; awaiting finish of 0 more threads\n",
      "INFO - 16:47:18: EPOCH - 10 : training on 292502 raw words (110552 effective words) took 0.6s, 191321 effective words/s\n",
      "INFO - 16:47:19: worker thread finished; awaiting finish of 10 more threads\n",
      "INFO - 16:47:19: worker thread finished; awaiting finish of 9 more threads\n",
      "INFO - 16:47:19: worker thread finished; awaiting finish of 8 more threads\n",
      "INFO - 16:47:19: worker thread finished; awaiting finish of 7 more threads\n",
      "INFO - 16:47:19: worker thread finished; awaiting finish of 6 more threads\n",
      "INFO - 16:47:19: worker thread finished; awaiting finish of 5 more threads\n",
      "INFO - 16:47:19: worker thread finished; awaiting finish of 4 more threads\n",
      "INFO - 16:47:19: worker thread finished; awaiting finish of 3 more threads\n",
      "INFO - 16:47:19: worker thread finished; awaiting finish of 2 more threads\n",
      "INFO - 16:47:19: worker thread finished; awaiting finish of 1 more threads\n",
      "INFO - 16:47:19: worker thread finished; awaiting finish of 0 more threads\n",
      "INFO - 16:47:19: EPOCH - 11 : training on 292502 raw words (109964 effective words) took 0.7s, 163582 effective words/s\n",
      "INFO - 16:47:20: worker thread finished; awaiting finish of 10 more threads\n",
      "INFO - 16:47:20: worker thread finished; awaiting finish of 9 more threads\n",
      "INFO - 16:47:20: worker thread finished; awaiting finish of 8 more threads\n",
      "INFO - 16:47:20: worker thread finished; awaiting finish of 7 more threads\n",
      "INFO - 16:47:20: worker thread finished; awaiting finish of 6 more threads\n",
      "INFO - 16:47:20: worker thread finished; awaiting finish of 5 more threads\n",
      "INFO - 16:47:20: worker thread finished; awaiting finish of 4 more threads\n",
      "INFO - 16:47:20: worker thread finished; awaiting finish of 3 more threads\n",
      "INFO - 16:47:20: worker thread finished; awaiting finish of 2 more threads\n",
      "INFO - 16:47:20: worker thread finished; awaiting finish of 1 more threads\n",
      "INFO - 16:47:20: worker thread finished; awaiting finish of 0 more threads\n",
      "INFO - 16:47:20: EPOCH - 12 : training on 292502 raw words (110208 effective words) took 0.7s, 160094 effective words/s\n",
      "INFO - 16:47:20: worker thread finished; awaiting finish of 10 more threads\n",
      "INFO - 16:47:20: worker thread finished; awaiting finish of 9 more threads\n",
      "INFO - 16:47:20: worker thread finished; awaiting finish of 8 more threads\n",
      "INFO - 16:47:20: worker thread finished; awaiting finish of 7 more threads\n",
      "INFO - 16:47:20: worker thread finished; awaiting finish of 6 more threads\n",
      "INFO - 16:47:20: worker thread finished; awaiting finish of 5 more threads\n",
      "INFO - 16:47:20: worker thread finished; awaiting finish of 4 more threads\n",
      "INFO - 16:47:20: worker thread finished; awaiting finish of 3 more threads\n",
      "INFO - 16:47:20: worker thread finished; awaiting finish of 2 more threads\n",
      "INFO - 16:47:20: worker thread finished; awaiting finish of 1 more threads\n",
      "INFO - 16:47:20: worker thread finished; awaiting finish of 0 more threads\n",
      "INFO - 16:47:20: EPOCH - 13 : training on 292502 raw words (110016 effective words) took 0.8s, 143292 effective words/s\n",
      "INFO - 16:47:21: worker thread finished; awaiting finish of 10 more threads\n",
      "INFO - 16:47:21: worker thread finished; awaiting finish of 9 more threads\n",
      "INFO - 16:47:21: worker thread finished; awaiting finish of 8 more threads\n",
      "INFO - 16:47:21: worker thread finished; awaiting finish of 7 more threads\n",
      "INFO - 16:47:21: worker thread finished; awaiting finish of 6 more threads\n",
      "INFO - 16:47:21: worker thread finished; awaiting finish of 5 more threads\n",
      "INFO - 16:47:21: worker thread finished; awaiting finish of 4 more threads\n",
      "INFO - 16:47:21: worker thread finished; awaiting finish of 3 more threads\n",
      "INFO - 16:47:21: worker thread finished; awaiting finish of 2 more threads\n",
      "INFO - 16:47:21: worker thread finished; awaiting finish of 1 more threads\n",
      "INFO - 16:47:21: worker thread finished; awaiting finish of 0 more threads\n",
      "INFO - 16:47:21: EPOCH - 14 : training on 292502 raw words (109842 effective words) took 0.7s, 151886 effective words/s\n",
      "INFO - 16:47:22: worker thread finished; awaiting finish of 10 more threads\n",
      "INFO - 16:47:22: worker thread finished; awaiting finish of 9 more threads\n",
      "INFO - 16:47:22: worker thread finished; awaiting finish of 8 more threads\n",
      "INFO - 16:47:22: worker thread finished; awaiting finish of 7 more threads\n",
      "INFO - 16:47:22: worker thread finished; awaiting finish of 6 more threads\n",
      "INFO - 16:47:22: worker thread finished; awaiting finish of 5 more threads\n",
      "INFO - 16:47:22: worker thread finished; awaiting finish of 4 more threads\n",
      "INFO - 16:47:22: worker thread finished; awaiting finish of 3 more threads\n",
      "INFO - 16:47:22: worker thread finished; awaiting finish of 2 more threads\n",
      "INFO - 16:47:22: worker thread finished; awaiting finish of 1 more threads\n",
      "INFO - 16:47:22: worker thread finished; awaiting finish of 0 more threads\n",
      "INFO - 16:47:22: EPOCH - 15 : training on 292502 raw words (110221 effective words) took 0.6s, 172627 effective words/s\n",
      "INFO - 16:47:23: worker thread finished; awaiting finish of 10 more threads\n",
      "INFO - 16:47:23: worker thread finished; awaiting finish of 9 more threads\n",
      "INFO - 16:47:23: worker thread finished; awaiting finish of 8 more threads\n",
      "INFO - 16:47:23: worker thread finished; awaiting finish of 7 more threads\n",
      "INFO - 16:47:23: worker thread finished; awaiting finish of 6 more threads\n",
      "INFO - 16:47:23: worker thread finished; awaiting finish of 5 more threads\n",
      "INFO - 16:47:23: worker thread finished; awaiting finish of 4 more threads\n",
      "INFO - 16:47:23: worker thread finished; awaiting finish of 3 more threads\n",
      "INFO - 16:47:23: worker thread finished; awaiting finish of 2 more threads\n",
      "INFO - 16:47:23: worker thread finished; awaiting finish of 1 more threads\n",
      "INFO - 16:47:23: worker thread finished; awaiting finish of 0 more threads\n",
      "INFO - 16:47:23: EPOCH - 16 : training on 292502 raw words (110126 effective words) took 0.7s, 163043 effective words/s\n",
      "INFO - 16:47:23: worker thread finished; awaiting finish of 10 more threads\n",
      "INFO - 16:47:23: worker thread finished; awaiting finish of 9 more threads\n",
      "INFO - 16:47:23: worker thread finished; awaiting finish of 8 more threads\n",
      "INFO - 16:47:23: worker thread finished; awaiting finish of 7 more threads\n",
      "INFO - 16:47:23: worker thread finished; awaiting finish of 6 more threads\n",
      "INFO - 16:47:23: worker thread finished; awaiting finish of 5 more threads\n",
      "INFO - 16:47:23: worker thread finished; awaiting finish of 4 more threads\n",
      "INFO - 16:47:23: worker thread finished; awaiting finish of 3 more threads\n",
      "INFO - 16:47:23: worker thread finished; awaiting finish of 2 more threads\n",
      "INFO - 16:47:23: worker thread finished; awaiting finish of 1 more threads\n",
      "INFO - 16:47:23: worker thread finished; awaiting finish of 0 more threads\n",
      "INFO - 16:47:23: EPOCH - 17 : training on 292502 raw words (110004 effective words) took 0.8s, 143902 effective words/s\n",
      "INFO - 16:47:24: worker thread finished; awaiting finish of 10 more threads\n",
      "INFO - 16:47:24: worker thread finished; awaiting finish of 9 more threads\n",
      "INFO - 16:47:24: worker thread finished; awaiting finish of 8 more threads\n",
      "INFO - 16:47:24: worker thread finished; awaiting finish of 7 more threads\n",
      "INFO - 16:47:24: worker thread finished; awaiting finish of 6 more threads\n",
      "INFO - 16:47:24: worker thread finished; awaiting finish of 5 more threads\n",
      "INFO - 16:47:24: worker thread finished; awaiting finish of 4 more threads\n",
      "INFO - 16:47:24: worker thread finished; awaiting finish of 3 more threads\n",
      "INFO - 16:47:24: worker thread finished; awaiting finish of 2 more threads\n",
      "INFO - 16:47:24: worker thread finished; awaiting finish of 1 more threads\n",
      "INFO - 16:47:24: worker thread finished; awaiting finish of 0 more threads\n",
      "INFO - 16:47:24: EPOCH - 18 : training on 292502 raw words (110054 effective words) took 0.9s, 125718 effective words/s\n",
      "INFO - 16:47:25: worker thread finished; awaiting finish of 10 more threads\n",
      "INFO - 16:47:25: worker thread finished; awaiting finish of 9 more threads\n",
      "INFO - 16:47:25: worker thread finished; awaiting finish of 8 more threads\n",
      "INFO - 16:47:25: worker thread finished; awaiting finish of 7 more threads\n",
      "INFO - 16:47:25: worker thread finished; awaiting finish of 6 more threads\n",
      "INFO - 16:47:25: worker thread finished; awaiting finish of 5 more threads\n",
      "INFO - 16:47:25: worker thread finished; awaiting finish of 4 more threads\n",
      "INFO - 16:47:25: worker thread finished; awaiting finish of 3 more threads\n",
      "INFO - 16:47:25: worker thread finished; awaiting finish of 2 more threads\n",
      "INFO - 16:47:25: worker thread finished; awaiting finish of 1 more threads\n",
      "INFO - 16:47:25: worker thread finished; awaiting finish of 0 more threads\n",
      "INFO - 16:47:25: EPOCH - 19 : training on 292502 raw words (110209 effective words) took 0.6s, 180889 effective words/s\n",
      "INFO - 16:47:25: worker thread finished; awaiting finish of 10 more threads\n",
      "INFO - 16:47:26: worker thread finished; awaiting finish of 9 more threads\n",
      "INFO - 16:47:26: worker thread finished; awaiting finish of 8 more threads\n",
      "INFO - 16:47:26: worker thread finished; awaiting finish of 7 more threads\n",
      "INFO - 16:47:26: worker thread finished; awaiting finish of 6 more threads\n",
      "INFO - 16:47:26: worker thread finished; awaiting finish of 5 more threads\n",
      "INFO - 16:47:26: worker thread finished; awaiting finish of 4 more threads\n",
      "INFO - 16:47:26: worker thread finished; awaiting finish of 3 more threads\n",
      "INFO - 16:47:26: worker thread finished; awaiting finish of 2 more threads\n",
      "INFO - 16:47:26: worker thread finished; awaiting finish of 1 more threads\n",
      "INFO - 16:47:26: worker thread finished; awaiting finish of 0 more threads\n",
      "INFO - 16:47:26: EPOCH - 20 : training on 292502 raw words (110168 effective words) took 0.6s, 191317 effective words/s\n",
      "INFO - 16:47:26: worker thread finished; awaiting finish of 10 more threads\n",
      "INFO - 16:47:26: worker thread finished; awaiting finish of 9 more threads\n",
      "INFO - 16:47:26: worker thread finished; awaiting finish of 8 more threads\n",
      "INFO - 16:47:26: worker thread finished; awaiting finish of 7 more threads\n",
      "INFO - 16:47:26: worker thread finished; awaiting finish of 6 more threads\n",
      "INFO - 16:47:26: worker thread finished; awaiting finish of 5 more threads\n",
      "INFO - 16:47:26: worker thread finished; awaiting finish of 4 more threads\n",
      "INFO - 16:47:26: worker thread finished; awaiting finish of 3 more threads\n",
      "INFO - 16:47:26: worker thread finished; awaiting finish of 2 more threads\n",
      "INFO - 16:47:26: worker thread finished; awaiting finish of 1 more threads\n",
      "INFO - 16:47:26: worker thread finished; awaiting finish of 0 more threads\n",
      "INFO - 16:47:26: EPOCH - 21 : training on 292502 raw words (109957 effective words) took 0.7s, 167963 effective words/s\n",
      "INFO - 16:47:27: worker thread finished; awaiting finish of 10 more threads\n",
      "INFO - 16:47:27: worker thread finished; awaiting finish of 9 more threads\n",
      "INFO - 16:47:27: worker thread finished; awaiting finish of 8 more threads\n",
      "INFO - 16:47:27: worker thread finished; awaiting finish of 7 more threads\n",
      "INFO - 16:47:27: worker thread finished; awaiting finish of 6 more threads\n",
      "INFO - 16:47:27: worker thread finished; awaiting finish of 5 more threads\n",
      "INFO - 16:47:27: worker thread finished; awaiting finish of 4 more threads\n",
      "INFO - 16:47:27: worker thread finished; awaiting finish of 3 more threads\n",
      "INFO - 16:47:27: worker thread finished; awaiting finish of 2 more threads\n",
      "INFO - 16:47:27: worker thread finished; awaiting finish of 1 more threads\n",
      "INFO - 16:47:27: worker thread finished; awaiting finish of 0 more threads\n",
      "INFO - 16:47:27: EPOCH - 22 : training on 292502 raw words (109911 effective words) took 0.6s, 199831 effective words/s\n",
      "INFO - 16:47:27: worker thread finished; awaiting finish of 10 more threads\n",
      "INFO - 16:47:27: worker thread finished; awaiting finish of 9 more threads\n",
      "INFO - 16:47:27: worker thread finished; awaiting finish of 8 more threads\n",
      "INFO - 16:47:27: worker thread finished; awaiting finish of 7 more threads\n",
      "INFO - 16:47:27: worker thread finished; awaiting finish of 6 more threads\n",
      "INFO - 16:47:27: worker thread finished; awaiting finish of 5 more threads\n",
      "INFO - 16:47:27: worker thread finished; awaiting finish of 4 more threads\n",
      "INFO - 16:47:27: worker thread finished; awaiting finish of 3 more threads\n",
      "INFO - 16:47:27: worker thread finished; awaiting finish of 2 more threads\n",
      "INFO - 16:47:27: worker thread finished; awaiting finish of 1 more threads\n",
      "INFO - 16:47:27: worker thread finished; awaiting finish of 0 more threads\n",
      "INFO - 16:47:27: EPOCH - 23 : training on 292502 raw words (110165 effective words) took 0.5s, 235794 effective words/s\n",
      "INFO - 16:47:28: worker thread finished; awaiting finish of 10 more threads\n",
      "INFO - 16:47:28: worker thread finished; awaiting finish of 9 more threads\n",
      "INFO - 16:47:28: worker thread finished; awaiting finish of 8 more threads\n",
      "INFO - 16:47:28: worker thread finished; awaiting finish of 7 more threads\n",
      "INFO - 16:47:28: worker thread finished; awaiting finish of 6 more threads\n",
      "INFO - 16:47:28: worker thread finished; awaiting finish of 5 more threads\n",
      "INFO - 16:47:28: worker thread finished; awaiting finish of 4 more threads\n",
      "INFO - 16:47:28: worker thread finished; awaiting finish of 3 more threads\n",
      "INFO - 16:47:28: worker thread finished; awaiting finish of 2 more threads\n",
      "INFO - 16:47:28: worker thread finished; awaiting finish of 1 more threads\n",
      "INFO - 16:47:28: worker thread finished; awaiting finish of 0 more threads\n",
      "INFO - 16:47:28: EPOCH - 24 : training on 292502 raw words (110218 effective words) took 0.5s, 219929 effective words/s\n",
      "INFO - 16:47:28: worker thread finished; awaiting finish of 10 more threads\n",
      "INFO - 16:47:29: worker thread finished; awaiting finish of 9 more threads\n",
      "INFO - 16:47:29: worker thread finished; awaiting finish of 8 more threads\n",
      "INFO - 16:47:29: worker thread finished; awaiting finish of 7 more threads\n",
      "INFO - 16:47:29: worker thread finished; awaiting finish of 6 more threads\n",
      "INFO - 16:47:29: worker thread finished; awaiting finish of 5 more threads\n",
      "INFO - 16:47:29: worker thread finished; awaiting finish of 4 more threads\n",
      "INFO - 16:47:29: worker thread finished; awaiting finish of 3 more threads\n",
      "INFO - 16:47:29: worker thread finished; awaiting finish of 2 more threads\n",
      "INFO - 16:47:29: worker thread finished; awaiting finish of 1 more threads\n",
      "INFO - 16:47:29: worker thread finished; awaiting finish of 0 more threads\n",
      "INFO - 16:47:29: EPOCH - 25 : training on 292502 raw words (110168 effective words) took 0.6s, 171194 effective words/s\n",
      "INFO - 16:47:29: worker thread finished; awaiting finish of 10 more threads\n",
      "INFO - 16:47:29: worker thread finished; awaiting finish of 9 more threads\n",
      "INFO - 16:47:29: worker thread finished; awaiting finish of 8 more threads\n",
      "INFO - 16:47:29: worker thread finished; awaiting finish of 7 more threads\n",
      "INFO - 16:47:29: worker thread finished; awaiting finish of 6 more threads\n",
      "INFO - 16:47:29: worker thread finished; awaiting finish of 5 more threads\n",
      "INFO - 16:47:29: worker thread finished; awaiting finish of 4 more threads\n",
      "INFO - 16:47:29: worker thread finished; awaiting finish of 3 more threads\n",
      "INFO - 16:47:29: worker thread finished; awaiting finish of 2 more threads\n",
      "INFO - 16:47:29: worker thread finished; awaiting finish of 1 more threads\n",
      "INFO - 16:47:29: worker thread finished; awaiting finish of 0 more threads\n",
      "INFO - 16:47:29: EPOCH - 26 : training on 292502 raw words (110226 effective words) took 0.6s, 170753 effective words/s\n",
      "INFO - 16:47:30: worker thread finished; awaiting finish of 10 more threads\n",
      "INFO - 16:47:30: worker thread finished; awaiting finish of 9 more threads\n",
      "INFO - 16:47:30: worker thread finished; awaiting finish of 8 more threads\n",
      "INFO - 16:47:30: worker thread finished; awaiting finish of 7 more threads\n",
      "INFO - 16:47:30: worker thread finished; awaiting finish of 6 more threads\n",
      "INFO - 16:47:30: worker thread finished; awaiting finish of 5 more threads\n",
      "INFO - 16:47:30: worker thread finished; awaiting finish of 4 more threads\n",
      "INFO - 16:47:30: worker thread finished; awaiting finish of 3 more threads\n",
      "INFO - 16:47:30: worker thread finished; awaiting finish of 2 more threads\n",
      "INFO - 16:47:30: worker thread finished; awaiting finish of 1 more threads\n",
      "INFO - 16:47:30: worker thread finished; awaiting finish of 0 more threads\n",
      "INFO - 16:47:30: EPOCH - 27 : training on 292502 raw words (110109 effective words) took 0.7s, 151035 effective words/s\n",
      "INFO - 16:47:31: worker thread finished; awaiting finish of 10 more threads\n",
      "INFO - 16:47:31: worker thread finished; awaiting finish of 9 more threads\n",
      "INFO - 16:47:31: worker thread finished; awaiting finish of 8 more threads\n",
      "INFO - 16:47:31: worker thread finished; awaiting finish of 7 more threads\n",
      "INFO - 16:47:31: worker thread finished; awaiting finish of 6 more threads\n",
      "INFO - 16:47:31: worker thread finished; awaiting finish of 5 more threads\n",
      "INFO - 16:47:31: worker thread finished; awaiting finish of 4 more threads\n",
      "INFO - 16:47:31: worker thread finished; awaiting finish of 3 more threads\n",
      "INFO - 16:47:31: worker thread finished; awaiting finish of 2 more threads\n",
      "INFO - 16:47:31: worker thread finished; awaiting finish of 1 more threads\n",
      "INFO - 16:47:31: worker thread finished; awaiting finish of 0 more threads\n",
      "INFO - 16:47:31: EPOCH - 28 : training on 292502 raw words (110402 effective words) took 0.8s, 143147 effective words/s\n",
      "INFO - 16:47:31: worker thread finished; awaiting finish of 10 more threads\n",
      "INFO - 16:47:31: worker thread finished; awaiting finish of 9 more threads\n",
      "INFO - 16:47:31: worker thread finished; awaiting finish of 8 more threads\n",
      "INFO - 16:47:31: worker thread finished; awaiting finish of 7 more threads\n",
      "INFO - 16:47:31: worker thread finished; awaiting finish of 6 more threads\n",
      "INFO - 16:47:31: worker thread finished; awaiting finish of 5 more threads\n",
      "INFO - 16:47:31: worker thread finished; awaiting finish of 4 more threads\n",
      "INFO - 16:47:31: worker thread finished; awaiting finish of 3 more threads\n",
      "INFO - 16:47:31: worker thread finished; awaiting finish of 2 more threads\n",
      "INFO - 16:47:32: worker thread finished; awaiting finish of 1 more threads\n",
      "INFO - 16:47:32: worker thread finished; awaiting finish of 0 more threads\n",
      "INFO - 16:47:32: EPOCH - 29 : training on 292502 raw words (109986 effective words) took 0.6s, 199812 effective words/s\n",
      "INFO - 16:47:32: worker thread finished; awaiting finish of 10 more threads\n",
      "INFO - 16:47:32: worker thread finished; awaiting finish of 9 more threads\n",
      "INFO - 16:47:32: worker thread finished; awaiting finish of 8 more threads\n",
      "INFO - 16:47:32: worker thread finished; awaiting finish of 7 more threads\n",
      "INFO - 16:47:32: worker thread finished; awaiting finish of 6 more threads\n",
      "INFO - 16:47:32: worker thread finished; awaiting finish of 5 more threads\n",
      "INFO - 16:47:32: worker thread finished; awaiting finish of 4 more threads\n",
      "INFO - 16:47:32: worker thread finished; awaiting finish of 3 more threads\n",
      "INFO - 16:47:32: worker thread finished; awaiting finish of 2 more threads\n",
      "INFO - 16:47:32: worker thread finished; awaiting finish of 1 more threads\n",
      "INFO - 16:47:32: worker thread finished; awaiting finish of 0 more threads\n",
      "INFO - 16:47:32: EPOCH - 30 : training on 292502 raw words (110481 effective words) took 0.7s, 151774 effective words/s\n",
      "INFO - 16:47:32: training on a 8775060 raw words (3304875 effective words) took 20.4s, 161857 effective words/s\n",
      "Time to train the model: 0.38 mins\n"
     ]
    }
   ],
   "source": [
    "phrasest = time()\n",
    "\n",
    "w2v_model.train(ngrams_sent, total_examples=w2v_model.corpus_count, epochs=30, report_delay=1)\n",
    "\n",
    "print('Time to train the model: {} mins'.format(round((time() - t) / 60, 2)))"
   ]
  },
  {
   "cell_type": "code",
   "execution_count": 29,
   "metadata": {},
   "outputs": [
    {
     "output_type": "stream",
     "name": "stderr",
     "text": [
      "INFO - 10:43:44: precomputing L2-norms of word weight vectors\n"
     ]
    },
    {
     "output_type": "execute_result",
     "data": {
      "text/plain": [
       "[('stops', 0.1837897151708603),\n",
       " ('useless', 0.18139329552650452),\n",
       " ('kokomo', 0.17612582445144653),\n",
       " ('brat', 0.1740562915802002),\n",
       " ('dooda', 0.17127007246017456),\n",
       " ('record', 0.1690666526556015),\n",
       " ('rainy', 0.166599303483963),\n",
       " ('betty', 0.16588854789733887),\n",
       " ('changes', 0.16447213292121887),\n",
       " ('bees', 0.16358034312725067)]"
      ]
     },
     "metadata": {},
     "execution_count": 29
    }
   ],
   "source": [
    "w2v_model.most_similar('bird')"
   ]
  },
  {
   "cell_type": "code",
   "execution_count": 30,
   "metadata": {},
   "outputs": [
    {
     "output_type": "execute_result",
     "data": {
      "text/plain": [
       "300"
      ]
     },
     "metadata": {},
     "execution_count": 30
    }
   ],
   "source": [
    "w2v_model.vector_size"
   ]
  },
  {
   "cell_type": "code",
   "execution_count": 28,
   "metadata": {},
   "outputs": [
    {
     "output_type": "stream",
     "name": "stderr",
     "text": [
      "INFO - 10:43:39: loading Word2Vec object from tenKlyricswv.model\n",
      "INFO - 10:43:40: loading wv recursively from tenKlyricswv.model.wv.* with mmap=None\n",
      "INFO - 10:43:40: setting ignored attribute vectors_norm to None\n",
      "INFO - 10:43:40: loading vocabulary recursively from tenKlyricswv.model.vocabulary.* with mmap=None\n",
      "INFO - 10:43:40: loading trainables recursively from tenKlyricswv.model.trainables.* with mmap=None\n",
      "INFO - 10:43:40: setting ignored attribute cum_table to None\n",
      "INFO - 10:43:40: loaded tenKlyricswv.model\n"
     ]
    }
   ],
   "source": [
    "# w2v_model.save(\"tenKlyricswv.model\")\n",
    "w2v_model = Word2Vec.load(\"tenKlyricswv.model\")"
   ]
  },
  {
   "cell_type": "code",
   "execution_count": 297,
   "metadata": {},
   "outputs": [
    {
     "output_type": "stream",
     "name": "stderr",
     "text": [
      "INFO - 10:12:47: saving Word2VecKeyedVectors object under tenklyricsvocab.kv, separately None\n",
      "INFO - 10:12:47: not storing attribute vectors_norm\n",
      "INFO - 10:12:47: saved tenklyricsvocab.kv\n"
     ]
    }
   ],
   "source": [
    "w2v_model.wv.save('tenklyricsvocab.kv')"
   ]
  },
  {
   "cell_type": "code",
   "execution_count": 31,
   "metadata": {},
   "outputs": [],
   "source": [
    "# Pytorch\n",
    "import torch.nn as nn\n",
    "import torch.nn.functional as f\n",
    "import torch\n",
    "from torch.utils.data import Dataset, DataLoader\n",
    "\n",
    "from sklearn.model_selection import train_test_split"
   ]
  },
  {
   "cell_type": "code",
   "execution_count": 32,
   "metadata": {},
   "outputs": [
    {
     "output_type": "stream",
     "name": "stdout",
     "text": [
      "<class 'pandas.core.frame.DataFrame'>\nInt64Index: 2360 entries, 8501 to 2004\nData columns (total 5 columns):\n #   Column         Non-Null Count  Dtype \n---  ------         --------------  ----- \n 0   Unnamed: 0     2360 non-null   int64 \n 1   artist         2360 non-null   object\n 2   song_name      2360 non-null   object\n 3   closest_genre  2360 non-null   object\n 4   lyric          2360 non-null   object\ndtypes: int64(1), object(4)\nmemory usage: 110.6+ KB\n"
     ]
    }
   ],
   "source": [
    "cleaned_lyrics.info()"
   ]
  },
  {
   "cell_type": "code",
   "execution_count": 45,
   "metadata": {},
   "outputs": [
    {
     "output_type": "execute_result",
     "data": {
      "text/plain": [
       "torch.Size([3268, 300])"
      ]
     },
     "metadata": {},
     "execution_count": 45
    }
   ],
   "source": [
    "embedding_matrix = torch.FloatTensor(w2v_model.wv.vectors)\n",
    "word2idx = {\n",
    "    word:idx for idx, word in enumerate(w2v_model.wv.vocab, start=2)\n",
    "}\n",
    "embedding_matrix.shape"
   ]
  },
  {
   "cell_type": "code",
   "execution_count": 42,
   "metadata": {},
   "outputs": [
    {
     "output_type": "execute_result",
     "data": {
      "text/plain": [
       "(3268, 300)"
      ]
     },
     "metadata": {},
     "execution_count": 42
    }
   ],
   "source": [
    "w2v_model.wv.syn0.shape"
   ]
  },
  {
   "cell_type": "code",
   "execution_count": 34,
   "metadata": {},
   "outputs": [],
   "source": [
    "X = cleaned_lyrics['lyric']\n",
    "y = cleaned_lyrics['closest_genre']"
   ]
  },
  {
   "cell_type": "code",
   "execution_count": 290,
   "metadata": {},
   "outputs": [
    {
     "output_type": "execute_result",
     "data": {
      "text/plain": [
       "      Unnamed: 0                   artist  \\\n",
       "8501        8501   Sonny Boy Williamson I   \n",
       "9993        9993                B.B. King   \n",
       "3415        3415              Ben E. King   \n",
       "9698        9698             Marlena Shaw   \n",
       "4951        4951            Stevie Wonder   \n",
       "...          ...                      ...   \n",
       "4083        4083       The Rolling Stones   \n",
       "4925        4925             James Taylor   \n",
       "8979        8979            Johnny Horton   \n",
       "130          130  The Spencer Davis Group   \n",
       "2004        2004       Something For Kate   \n",
       "\n",
       "                                   song_name  \n",
       "8501                   My Baby Made A Change  \n",
       "9993                               Guess Who  \n",
       "3415  Don't Play That Song (You Lied) - Mono  \n",
       "9698                     Woman Of The Ghetto  \n",
       "4951                             Summer Soft  \n",
       "...                                      ...  \n",
       "4083                            Love In Vain  \n",
       "4925    How Sweet It Is (To Be Loved by You)  \n",
       "8979            I'm Ready, If You're Willing  \n",
       "130                                I'm A Man  \n",
       "2004                Cigarettes and Suitcases  \n",
       "\n",
       "[2360 rows x 3 columns]"
      ],
      "text/html": "<div>\n<style scoped>\n    .dataframe tbody tr th:only-of-type {\n        vertical-align: middle;\n    }\n\n    .dataframe tbody tr th {\n        vertical-align: top;\n    }\n\n    .dataframe thead th {\n        text-align: right;\n    }\n</style>\n<table border=\"1\" class=\"dataframe\">\n  <thead>\n    <tr style=\"text-align: right;\">\n      <th></th>\n      <th>Unnamed: 0</th>\n      <th>artist</th>\n      <th>song_name</th>\n    </tr>\n  </thead>\n  <tbody>\n    <tr>\n      <th>8501</th>\n      <td>8501</td>\n      <td>Sonny Boy Williamson I</td>\n      <td>My Baby Made A Change</td>\n    </tr>\n    <tr>\n      <th>9993</th>\n      <td>9993</td>\n      <td>B.B. King</td>\n      <td>Guess Who</td>\n    </tr>\n    <tr>\n      <th>3415</th>\n      <td>3415</td>\n      <td>Ben E. King</td>\n      <td>Don't Play That Song (You Lied) - Mono</td>\n    </tr>\n    <tr>\n      <th>9698</th>\n      <td>9698</td>\n      <td>Marlena Shaw</td>\n      <td>Woman Of The Ghetto</td>\n    </tr>\n    <tr>\n      <th>4951</th>\n      <td>4951</td>\n      <td>Stevie Wonder</td>\n      <td>Summer Soft</td>\n    </tr>\n    <tr>\n      <th>...</th>\n      <td>...</td>\n      <td>...</td>\n      <td>...</td>\n    </tr>\n    <tr>\n      <th>4083</th>\n      <td>4083</td>\n      <td>The Rolling Stones</td>\n      <td>Love In Vain</td>\n    </tr>\n    <tr>\n      <th>4925</th>\n      <td>4925</td>\n      <td>James Taylor</td>\n      <td>How Sweet It Is (To Be Loved by You)</td>\n    </tr>\n    <tr>\n      <th>8979</th>\n      <td>8979</td>\n      <td>Johnny Horton</td>\n      <td>I'm Ready, If You're Willing</td>\n    </tr>\n    <tr>\n      <th>130</th>\n      <td>130</td>\n      <td>The Spencer Davis Group</td>\n      <td>I'm A Man</td>\n    </tr>\n    <tr>\n      <th>2004</th>\n      <td>2004</td>\n      <td>Something For Kate</td>\n      <td>Cigarettes and Suitcases</td>\n    </tr>\n  </tbody>\n</table>\n<p>2360 rows × 3 columns</p>\n</div>"
     },
     "metadata": {},
     "execution_count": 290
    }
   ],
   "source": [
    "X"
   ]
  },
  {
   "cell_type": "code",
   "execution_count": 44,
   "metadata": {},
   "outputs": [],
   "source": [
    "TEST_SIZE = 0.3\n",
    "X_train, X_test, y_train, y_test = train_test_split(X, y, test_size=TEST_SIZE, random_state=RANDOM_SEED)"
   ]
  },
  {
   "cell_type": "code",
   "execution_count": 82,
   "metadata": {},
   "outputs": [
    {
     "output_type": "execute_result",
     "data": {
      "text/plain": [
       "973"
      ]
     },
     "metadata": {},
     "execution_count": 82
    }
   ],
   "source": [
    "max_sentence_length = X.apply(lambda x: x.split(\" \")).apply(len).max()\n",
    "max_sentence_length"
   ]
  },
  {
   "cell_type": "code",
   "execution_count": 85,
   "metadata": {},
   "outputs": [
    {
     "output_type": "execute_result",
     "data": {
      "text/plain": [
       "4"
      ]
     },
     "metadata": {},
     "execution_count": 85
    }
   ],
   "source": [
    "min_sentence_length = X.apply(lambda x: x.split(\" \")).apply(len).min()\n",
    "min_sentence_length"
   ]
  },
  {
   "cell_type": "code",
   "execution_count": 56,
   "metadata": {},
   "outputs": [
    {
     "output_type": "execute_result",
     "data": {
      "text/plain": [
       "8501    [Well, its, been, building, up, inside, of, me...\n",
       "9993    [Someone, really, loves, you\\nGuess, who\\nSome...\n",
       "3415    [Chestnuts, roasting, on, an, open, fire\\nJack...\n",
       "9698    [(ging,, gi-gi-gi-gi-ging...)\\n(la-la-la-la-la...\n",
       "4951    [I, never, dreamed, you'd, leave, in, summer\\n...\n",
       "                              ...                        \n",
       "4083    [(Russell/Burke/Wexler)\\n\\nSpoken:\\n\\nI'm, so,...\n",
       "4925    [first, recorded, by, writer, Columbo, in, 193...\n",
       "8979    [If, the, good, Lord's, willing, and, the, cre...\n",
       "130     [Well, my, pad, is, very, messy\\nAnd, there's,...\n",
       "2004    [maybe, maybe, nothing, could, prepare, you\\nb...\n",
       "Name: lyric, Length: 2360, dtype: object"
      ]
     },
     "metadata": {},
     "execution_count": 56
    }
   ],
   "source": [
    " [\n",
    "    cleaned_lyrics.lyric.apply(lambda x: x.split(\" \"))\n",
    "][0]"
   ]
  },
  {
   "cell_type": "code",
   "execution_count": 79,
   "metadata": {},
   "outputs": [
    {
     "output_type": "stream",
     "name": "stdout",
     "text": [
      "[1, 1, 1, 1, 1174, 1, 1174, 1, 1, 1, 1, 1174, 1, 1174, 1, 1, 1, 1, 1, 577, 1, 1, 1, 1, 1, 1, 295, 1, 1, 1, 1, 1, 1, 1, 1, 1, 1, 1, 1, 1, 1, 577, 1, 1869, 1869, 1, 1, 577, 1, 1869, 1869, 1, 1, 1, 1, 1, 1, 1, 1, 411, 1, 1, 1, 1, 1, 1, 1, 79, 1, 1, 1, 1, 1, 1, 12, 1, 577, 1, 1869, 1869, 1, 1, 577, 1, 1869, 1869, 1, 1, 1, 1, 1, 1869, 1, 1, 1, 1, 1, 1869, 1, 1, 1, 1, 1, 1174, 1, 1174, 1, 1, 1, 58, 1, 1, 1, 1, 1, 1, 1, 1, 1, 1, 1, 1, 1, 1, 505, 1, 1, 1, 1, 577, 1, 1869, 1869, 1, 1, 577, 1, 1869, 1869, 1, 1, 1, 1]\n"
     ]
    }
   ],
   "source": [
    "X_train_set = (X_train.apply(\n",
    "        lambda x: list(map(lambda word: word2idx[word] if word in word2idx else 1, x.split(\" \")))))\n",
    "print(X_train_set.iloc[0])"
   ]
  },
  {
   "cell_type": "code",
   "execution_count": 80,
   "metadata": {},
   "outputs": [
    {
     "output_type": "execute_result",
     "data": {
      "text/plain": [
       "pandas.core.series.Series"
      ]
     },
     "metadata": {},
     "execution_count": 80
    }
   ],
   "source": []
  },
  {
   "cell_type": "code",
   "execution_count": 74,
   "metadata": {},
   "outputs": [
    {
     "output_type": "error",
     "ename": "TypeError",
     "evalue": "only integer tensors of a single element can be converted to an index",
     "traceback": [
      "\u001b[1;31m---------------------------------------------------------------------------\u001b[0m",
      "\u001b[1;31mTypeError\u001b[0m                                 Traceback (most recent call last)",
      "\u001b[1;32m<ipython-input-74-e06ac49046d5>\u001b[0m in \u001b[0;36m<module>\u001b[1;34m\u001b[0m\n\u001b[0;32m      3\u001b[0m \u001b[1;31m# Ubah ke torch tensor\u001b[0m\u001b[1;33m\u001b[0m\u001b[1;33m\u001b[0m\u001b[1;33m\u001b[0m\u001b[0m\n\u001b[0;32m      4\u001b[0m X_train_set = (\n\u001b[1;32m----> 5\u001b[1;33m     list(\n\u001b[0m\u001b[0;32m      6\u001b[0m         map(\n\u001b[0;32m      7\u001b[0m             \u001b[1;32mlambda\u001b[0m \u001b[0mx\u001b[0m\u001b[1;33m:\u001b[0m \u001b[0mtorch\u001b[0m\u001b[1;33m.\u001b[0m\u001b[0mLongTensor\u001b[0m\u001b[1;33m(\u001b[0m\u001b[0mx\u001b[0m\u001b[1;33m)\u001b[0m\u001b[1;33m,\u001b[0m \u001b[0mX_train_set\u001b[0m\u001b[1;33m\u001b[0m\u001b[1;33m\u001b[0m\u001b[0m\n",
      "\u001b[1;32m<ipython-input-74-e06ac49046d5>\u001b[0m in \u001b[0;36m<lambda>\u001b[1;34m(x)\u001b[0m\n\u001b[0;32m      5\u001b[0m     list(\n\u001b[0;32m      6\u001b[0m         map(\n\u001b[1;32m----> 7\u001b[1;33m             \u001b[1;32mlambda\u001b[0m \u001b[0mx\u001b[0m\u001b[1;33m:\u001b[0m \u001b[0mtorch\u001b[0m\u001b[1;33m.\u001b[0m\u001b[0mLongTensor\u001b[0m\u001b[1;33m(\u001b[0m\u001b[0mx\u001b[0m\u001b[1;33m)\u001b[0m\u001b[1;33m,\u001b[0m \u001b[0mX_train_set\u001b[0m\u001b[1;33m\u001b[0m\u001b[1;33m\u001b[0m\u001b[0m\n\u001b[0m\u001b[0;32m      8\u001b[0m         )\n\u001b[0;32m      9\u001b[0m     )\n",
      "\u001b[1;31mTypeError\u001b[0m: only integer tensors of a single element can be converted to an index"
     ]
    }
   ],
   "source": [
    "# padding sequence\n",
    "# Perlu atau tidak?\n",
    "# Ubah ke torch tensor\n",
    "X_train_set = (\n",
    "    list(\n",
    "        map(\n",
    "            lambda x: torch.LongTensor(x), X_train_set\n",
    "        )\n",
    "    )\n",
    ")"
   ]
  },
  {
   "cell_type": "code",
   "execution_count": 272,
   "metadata": {},
   "outputs": [
    {
     "output_type": "stream",
     "name": "stdout",
     "text": [
      "array(['Blues', 'Country', 'Electronic', 'Folk', 'Hip Hop', 'Jazz',\n       'Metal', 'Pop', 'Punk', 'Rock'], dtype=object)\n"
     ]
    }
   ],
   "source": [
    "classes = cleaned_lyrics.closest_genre.unique()\n",
    "pp.pprint(classes)"
   ]
  },
  {
   "cell_type": "code",
   "execution_count": 265,
   "metadata": {},
   "outputs": [],
   "source": [
    "train_on_gpu = torch.cuda.is_available()\n",
    "lstm_args = {\n",
    "    'batch_size':,\n",
    "    'hidden_dim':,\n",
    "    'lstm_layers':,\n",
    "    'max_words':,\n",
    "}"
   ]
  },
  {
   "cell_type": "code",
   "execution_count": null,
   "metadata": {},
   "outputs": [],
   "source": [
    "# Simple LSTM Model\n",
    "class Simple_LSTM(nn.Module):\n",
    "\tdef __init__(self, args):\n",
    "\t\tsuper(Simple_LSTM, self).__init__()\n",
    "\t\t\n",
    "\t\t# Hyperparameters\n",
    "\t\tself.batch_size = args.batch_size\n",
    "\t\tself.hidden_dim = args.hidden_dim\n",
    "\t\tself.LSTM_layers = args.lstm_layers\n",
    "\t\tself.input_size = args.max_words\n",
    "\t\t\n",
    "\t\tself.dropout = nn.Dropout(0.5)\n",
    "\t\tself.embedding = nn.Embedding(self.input_size, self.hidden_dim, padding_idx=0)\n",
    "\t\tself.lstm = nn.LSTM(input_size=self.hidden_dim, hidden_size=self.hidden_dim, num_layers=self.LSTM_layers, batch_first=True)\n",
    "\t\tself.fc1 = nn.Linear(in_features=self.hidden_dim, out_features=self.hidden_dim*2)\n",
    "\t\tself.fc2 = nn.Linear(self.hidden_dim*2, 1)\n",
    "\t\t\n",
    "\tdef forward(self, x):\n",
    "\t\t\n",
    "\t\t# Hidden and cell state definion\n",
    "\t\th = torch.zeros((self.LSTM_layers, x.size(0), self.hidden_dim))\n",
    "\t\tc = torch.zeros((self.LSTM_layers, x.size(0), self.hidden_dim))\n",
    "\t\t\n",
    "\t\t# Initialization fo hidden and cell states\n",
    "\t\ttorch.nn.init.xavier_normal_(h)\n",
    "\t\ttorch.nn.init.xavier_normal_(c)\n",
    "\n",
    "\t\t# Each sequence \"x\" is passed through an embedding layer\n",
    "\t\tout = self.embedding(x)\n",
    "\t\t# Feed LSTMs\n",
    "\t\tout, (hidden, cell) = self.lstm(out, (h,c))\n",
    "\t\tout = self.dropout(out)\n",
    "\t\t# The last hidden state is taken\n",
    "\t\tout = torch.relu_(self.fc1(out[:,-1,:]))\n",
    "\t\tout = self.dropout(out)\n",
    "\t\tout = torch.sigmoid(self.fc2(out))\n",
    "\n",
    "\t\treturn out"
   ]
  },
  {
   "cell_type": "code",
   "execution_count": null,
   "metadata": {},
   "outputs": [],
   "source": [
    "class DatasetMaper(Dataset):\n",
    "\t'''\n",
    "\tHandles batches of dataset\n",
    "\t'''\n",
    "  \n",
    "\tdef __init__(self, x, y):\n",
    "\t\tself.x = x\n",
    "\t\tself.y = y\n",
    "\t\t\n",
    "\tdef __len__(self):\n",
    "\t\treturn len(self.x)\n",
    "\t\t\n",
    "\tdef __getitem__(self, idx):\n",
    "\t\treturn self.x[idx], self.y[idx]\n",
    "\n",
    "training_set = DatasetMaper(x_train, y_train)\n",
    "test_set = DatasetMaper(x_test, y_test)\n",
    "\t\t\n",
    "loader_training = DataLoader(training_set, batch_size=batch_size)\n",
    "loader_test = DataLoader(test_set)"
   ]
  },
  {
   "cell_type": "code",
   "execution_count": 266,
   "metadata": {},
   "outputs": [],
   "source": [
    "def train_model(model, epochs=10, lr=0.001):\n",
    "    parameters = filter(lambda p: p.requires_grad, model.parameters())\n",
    "    optimizer = torch.optim.Adam(parameters, lr=lr)\n",
    "    for i in range(epochs):\n",
    "        model.train()\n",
    "        sum_loss = 0.0\n",
    "        total = 0\n",
    "        for x, y, l in train_dl:\n",
    "            x = x.long()\n",
    "            y = y.long()\n",
    "            y_pred = model(x, l)\n",
    "            optimizer.zero_grad()\n",
    "            loss = F.cross_entropy(y_pred, y)\n",
    "            loss.backward()\n",
    "            optimizer.step()\n",
    "            sum_loss += loss.item()*y.shape[0]\n",
    "            total += y.shape[0]\n",
    "        val_loss, val_acc, val_rmse = validation_metrics(model, val_dl)\n",
    "        if i % 5 == 1:\n",
    "            print(\"train loss %.3f, val loss %.3f, val accuracy %.3f, and val rmse %.3f\" % (sum_loss/total, val_loss, val_acc, val_rmse))\n"
   ]
  },
  {
   "cell_type": "code",
   "execution_count": 267,
   "metadata": {},
   "outputs": [],
   "source": [
    "def validation_metrics (model, valid_dl):\n",
    "    model.eval()\n",
    "    correct = 0\n",
    "    total = 0\n",
    "    sum_loss = 0.0\n",
    "    sum_rmse = 0.0\n",
    "    for x, y, l in valid_dl:\n",
    "        x = x.long()\n",
    "        y = y.long()\n",
    "        y_hat = model(x, l)\n",
    "        loss = F.cross_entropy(y_hat, y)\n",
    "        pred = torch.max(y_hat, 1)[1]\n",
    "        correct += (pred == y).float().sum()\n",
    "        total += y.shape[0]\n",
    "        sum_loss += loss.item()*y.shape[0]\n",
    "        sum_rmse += np.sqrt(mean_squared_error(pred, y.unsqueeze(-1)))*y.shape[0]\n",
    "    return sum_loss/total, correct/total, sum_rmse/total"
   ]
  },
  {
   "cell_type": "code",
   "execution_count": null,
   "metadata": {},
   "outputs": [],
   "source": [
    "train_model(model, epochs=30, lr=0.01)"
   ]
  },
  {
   "cell_type": "code",
   "execution_count": null,
   "metadata": {},
   "outputs": [],
   "source": []
  }
 ]
}