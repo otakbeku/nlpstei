{
 "metadata": {
  "language_info": {
   "codemirror_mode": {
    "name": "ipython",
    "version": 3
   },
   "file_extension": ".py",
   "mimetype": "text/x-python",
   "name": "python",
   "nbconvert_exporter": "python",
   "pygments_lexer": "ipython3",
   "version": "3.8.5-final"
  },
  "orig_nbformat": 2,
  "kernelspec": {
   "name": "python3",
   "display_name": "Python 3.8.5 64-bit ('nlpai': conda)",
   "metadata": {
    "interpreter": {
     "hash": "63f661667cfff4a21b9f1172704ab3c7d831d3612a4dc528cd9d3281904853c9"
    }
   }
  }
 },
 "nbformat": 4,
 "nbformat_minor": 2,
 "cells": [
  {
   "source": [
    "# Genre Classification using Word2Vec and LSTM\n",
    "\n",
    "## 1. Import Library"
   ],
   "cell_type": "markdown",
   "metadata": {}
  },
  {
   "cell_type": "code",
   "execution_count": 1,
   "metadata": {},
   "outputs": [],
   "source": [
    "import nltk\n",
    "from tswift import *\n",
    "import random\n",
    "import pandas as pd\n",
    "from langdetect import detect\n",
    "import requests\n",
    "import heapq \n",
    "\n",
    "from nltk.tokenize import wordpunct_tokenize, blankline_tokenize\n",
    "import spacy\n",
    "\n",
    "import statsmodels.api as sm\n",
    "from statsmodels.sandbox.regression.predstd import wls_prediction_std\n",
    "from statsmodels.stats.outliers_influence import variance_inflation_factor\n",
    "from itertools import combinations\n",
    "from nltk.corpus import stopwords\n",
    "from time import time \n",
    "from gensim.models import Word2Vec\n",
    "import multiprocessing\n",
    "\n",
    "from collections import namedtuple\n",
    "\n",
    "import xmltodict\n",
    "import pprint\n",
    "import json\n",
    "import numpy as np\n",
    "import seaborn as sns\n",
    "import matplotlib.pyplot as plt\n",
    "%matplotlib inline"
   ]
  },
  {
   "cell_type": "code",
   "execution_count": 2,
   "metadata": {},
   "outputs": [],
   "source": [
    "import logging  # Setting up the loggings to monitor gensim\n",
    "logging.basicConfig(format=\"%(levelname)s - %(asctime)s: %(message)s\", datefmt= '%H:%M:%S', level=logging.INFO)"
   ]
  },
  {
   "source": [
    "Menyimpan random seed"
   ],
   "cell_type": "markdown",
   "metadata": {}
  },
  {
   "cell_type": "code",
   "execution_count": 3,
   "metadata": {},
   "outputs": [],
   "source": [
    "pp = pprint.PrettyPrinter(indent=4)\n",
    "RANDOM_SEED = 101"
   ]
  },
  {
   "cell_type": "code",
   "execution_count": 4,
   "metadata": {},
   "outputs": [
    {
     "output_type": "stream",
     "name": "stdout",
     "text": [
      "<class 'pandas.core.frame.DataFrame'>\nRangeIndex: 15000 entries, 0 to 14999\nData columns (total 5 columns):\n #   Column         Non-Null Count  Dtype \n---  ------         --------------  ----- \n 0   artist         15000 non-null  object\n 1   song_name      15000 non-null  object\n 2   closest_genre  15000 non-null  object\n 3   lyric          15000 non-null  object\n 4   length_lyric   15000 non-null  int64 \ndtypes: int64(1), object(4)\nmemory usage: 586.1+ KB\n"
     ]
    }
   ],
   "source": [
    "lyrics = pd.read_csv('lyrics_song_genres_15k.csv')\n",
    "lyrics.info()"
   ]
  },
  {
   "cell_type": "code",
   "execution_count": 5,
   "metadata": {},
   "outputs": [
    {
     "output_type": "execute_result",
     "data": {
      "text/plain": [
       "       length_lyric\n",
       "count  15000.000000\n",
       "mean     228.412333\n",
       "std      127.623821\n",
       "min        4.000000\n",
       "25%      149.000000\n",
       "50%      204.000000\n",
       "75%      272.000000\n",
       "max     2634.000000"
      ],
      "text/html": "<div>\n<style scoped>\n    .dataframe tbody tr th:only-of-type {\n        vertical-align: middle;\n    }\n\n    .dataframe tbody tr th {\n        vertical-align: top;\n    }\n\n    .dataframe thead th {\n        text-align: right;\n    }\n</style>\n<table border=\"1\" class=\"dataframe\">\n  <thead>\n    <tr style=\"text-align: right;\">\n      <th></th>\n      <th>length_lyric</th>\n    </tr>\n  </thead>\n  <tbody>\n    <tr>\n      <th>count</th>\n      <td>15000.000000</td>\n    </tr>\n    <tr>\n      <th>mean</th>\n      <td>228.412333</td>\n    </tr>\n    <tr>\n      <th>std</th>\n      <td>127.623821</td>\n    </tr>\n    <tr>\n      <th>min</th>\n      <td>4.000000</td>\n    </tr>\n    <tr>\n      <th>25%</th>\n      <td>149.000000</td>\n    </tr>\n    <tr>\n      <th>50%</th>\n      <td>204.000000</td>\n    </tr>\n    <tr>\n      <th>75%</th>\n      <td>272.000000</td>\n    </tr>\n    <tr>\n      <th>max</th>\n      <td>2634.000000</td>\n    </tr>\n  </tbody>\n</table>\n</div>"
     },
     "metadata": {},
     "execution_count": 5
    }
   ],
   "source": [
    "lyrics.describe()"
   ]
  },
  {
   "cell_type": "code",
   "execution_count": 6,
   "metadata": {},
   "outputs": [
    {
     "output_type": "execute_result",
     "data": {
      "text/plain": [
       "<seaborn.axisgrid.FacetGrid at 0x1c283ffd130>"
      ]
     },
     "metadata": {},
     "execution_count": 6
    },
    {
     "output_type": "display_data",
     "data": {
      "text/plain": "<Figure size 360x360 with 1 Axes>",
      "image/svg+xml": "<?xml version=\"1.0\" encoding=\"utf-8\" standalone=\"no\"?>\r\n<!DOCTYPE svg PUBLIC \"-//W3C//DTD SVG 1.1//EN\"\r\n  \"http://www.w3.org/Graphics/SVG/1.1/DTD/svg11.dtd\">\r\n<!-- Created with matplotlib (https://matplotlib.org/) -->\r\n<svg height=\"366.434375pt\" version=\"1.1\" viewBox=\"0 0 366.778299 366.434375\" width=\"366.778299pt\" xmlns=\"http://www.w3.org/2000/svg\" xmlns:xlink=\"http://www.w3.org/1999/xlink\">\r\n <metadata>\r\n  <rdf:RDF xmlns:cc=\"http://creativecommons.org/ns#\" xmlns:dc=\"http://purl.org/dc/elements/1.1/\" xmlns:rdf=\"http://www.w3.org/1999/02/22-rdf-syntax-ns#\">\r\n   <cc:Work>\r\n    <dc:type rdf:resource=\"http://purl.org/dc/dcmitype/StillImage\"/>\r\n    <dc:date>2021-02-14T18:21:36.523812</dc:date>\r\n    <dc:format>image/svg+xml</dc:format>\r\n    <dc:creator>\r\n     <cc:Agent>\r\n      <dc:title>Matplotlib v3.3.2, https://matplotlib.org/</dc:title>\r\n     </cc:Agent>\r\n    </dc:creator>\r\n   </cc:Work>\r\n  </rdf:RDF>\r\n </metadata>\r\n <defs>\r\n  <style type=\"text/css\">*{stroke-linecap:butt;stroke-linejoin:round;}</style>\r\n </defs>\r\n <g id=\"figure_1\">\r\n  <g id=\"patch_1\">\r\n   <path d=\"M 0 366.434375 \r\nL 366.778299 366.434375 \r\nL 366.778299 0 \r\nL 0 0 \r\nz\r\n\" style=\"fill:none;\"/>\r\n  </g>\r\n  <g id=\"axes_1\">\r\n   <g id=\"patch_2\">\r\n    <path d=\"M 53.328125 328.6 \r\nL 354.450852 328.6 \r\nL 354.450852 7.2 \r\nL 53.328125 7.2 \r\nz\r\n\" style=\"fill:#ffffff;\"/>\r\n   </g>\r\n   <g id=\"patch_3\">\r\n    <path clip-path=\"url(#pac26a98ece)\" d=\"M 56.065604 328.6 \r\nL 77.965439 328.6 \r\nL 77.965439 262.804634 \r\nL 56.065604 262.804634 \r\nz\r\n\" style=\"fill:#e1d6c7;\"/>\r\n   </g>\r\n   <g id=\"patch_4\">\r\n    <path clip-path=\"url(#pac26a98ece)\" d=\"M 83.440398 328.6 \r\nL 105.340232 328.6 \r\nL 105.340232 246.571657 \r\nL 83.440398 246.571657 \r\nz\r\n\" style=\"fill:#d6c2b2;\"/>\r\n   </g>\r\n   <g id=\"patch_5\">\r\n    <path clip-path=\"url(#pac26a98ece)\" d=\"M 110.815191 328.6 \r\nL 132.715026 328.6 \r\nL 132.715026 299.458352 \r\nL 110.815191 299.458352 \r\nz\r\n\" style=\"fill:#ccaea0;\"/>\r\n   </g>\r\n   <g id=\"patch_6\">\r\n    <path clip-path=\"url(#pac26a98ece)\" d=\"M 138.189985 328.6 \r\nL 160.089819 328.6 \r\nL 160.089819 288.621976 \r\nL 138.189985 288.621976 \r\nz\r\n\" style=\"fill:#c19a92;\"/>\r\n   </g>\r\n   <g id=\"patch_7\">\r\n    <path clip-path=\"url(#pac26a98ece)\" d=\"M 165.564778 328.6 \r\nL 187.464613 328.6 \r\nL 187.464613 303.646115 \r\nL 165.564778 303.646115 \r\nz\r\n\" style=\"fill:#b48686;\"/>\r\n   </g>\r\n   <g id=\"patch_8\">\r\n    <path clip-path=\"url(#pac26a98ece)\" d=\"M 192.939571 328.6 \r\nL 214.839406 328.6 \r\nL 214.839406 22.504762 \r\nL 192.939571 22.504762 \r\nz\r\n\" style=\"fill:#a5737b;\"/>\r\n   </g>\r\n   <g id=\"patch_9\">\r\n    <path clip-path=\"url(#pac26a98ece)\" d=\"M 220.314365 328.6 \r\nL 242.214199 328.6 \r\nL 242.214199 309.863 \r\nL 220.314365 309.863 \r\nz\r\n\" style=\"fill:#92606f;\"/>\r\n   </g>\r\n   <g id=\"patch_10\">\r\n    <path clip-path=\"url(#pac26a98ece)\" d=\"M 247.689158 328.6 \r\nL 269.588993 328.6 \r\nL 269.588993 304.941299 \r\nL 247.689158 304.941299 \r\nz\r\n\" style=\"fill:#7d4e63;\"/>\r\n   </g>\r\n   <g id=\"patch_11\">\r\n    <path clip-path=\"url(#pac26a98ece)\" d=\"M 275.063951 328.6 \r\nL 296.963786 328.6 \r\nL 296.963786 290.133024 \r\nL 275.063951 290.133024 \r\nz\r\n\" style=\"fill:#663d56;\"/>\r\n   </g>\r\n   <g id=\"patch_12\">\r\n    <path clip-path=\"url(#pac26a98ece)\" d=\"M 302.438745 328.6 \r\nL 324.33858 328.6 \r\nL 324.33858 315.08691 \r\nL 302.438745 315.08691 \r\nz\r\n\" style=\"fill:#4d2d46;\"/>\r\n   </g>\r\n   <g id=\"patch_13\">\r\n    <path clip-path=\"url(#pac26a98ece)\" d=\"M 329.813538 328.6 \r\nL 351.713373 328.6 \r\nL 351.713373 323.37609 \r\nL 329.813538 323.37609 \r\nz\r\n\" style=\"fill:#331e33;\"/>\r\n   </g>\r\n   <g id=\"matplotlib.axis_1\">\r\n    <g id=\"xtick_1\">\r\n     <g id=\"line2d_1\">\r\n      <defs>\r\n       <path d=\"M 0 0 \r\nL 0 3.5 \r\n\" id=\"md31807afa3\" style=\"stroke:#000000;stroke-width:0.8;\"/>\r\n      </defs>\r\n      <g>\r\n       <use style=\"stroke:#000000;stroke-width:0.8;\" x=\"67.015522\" xlink:href=\"#md31807afa3\" y=\"328.6\"/>\r\n      </g>\r\n     </g>\r\n     <g id=\"text_1\">\r\n      <!-- Blues -->\r\n      <g transform=\"translate(53.34599 343.198438)scale(0.1 -0.1)\">\r\n       <defs>\r\n        <path d=\"M 19.671875 34.8125 \r\nL 19.671875 8.109375 \r\nL 35.5 8.109375 \r\nQ 43.453125 8.109375 47.28125 11.40625 \r\nQ 51.125 14.703125 51.125 21.484375 \r\nQ 51.125 28.328125 47.28125 31.5625 \r\nQ 43.453125 34.8125 35.5 34.8125 \r\nz\r\nM 19.671875 64.796875 \r\nL 19.671875 42.828125 \r\nL 34.28125 42.828125 \r\nQ 41.5 42.828125 45.03125 45.53125 \r\nQ 48.578125 48.25 48.578125 53.8125 \r\nQ 48.578125 59.328125 45.03125 62.0625 \r\nQ 41.5 64.796875 34.28125 64.796875 \r\nz\r\nM 9.8125 72.90625 \r\nL 35.015625 72.90625 \r\nQ 46.296875 72.90625 52.390625 68.21875 \r\nQ 58.5 63.53125 58.5 54.890625 \r\nQ 58.5 48.1875 55.375 44.234375 \r\nQ 52.25 40.28125 46.1875 39.3125 \r\nQ 53.46875 37.75 57.5 32.78125 \r\nQ 61.53125 27.828125 61.53125 20.40625 \r\nQ 61.53125 10.640625 54.890625 5.3125 \r\nQ 48.25 0 35.984375 0 \r\nL 9.8125 0 \r\nz\r\n\" id=\"DejaVuSans-66\"/>\r\n        <path d=\"M 9.421875 75.984375 \r\nL 18.40625 75.984375 \r\nL 18.40625 0 \r\nL 9.421875 0 \r\nz\r\n\" id=\"DejaVuSans-108\"/>\r\n        <path d=\"M 8.5 21.578125 \r\nL 8.5 54.6875 \r\nL 17.484375 54.6875 \r\nL 17.484375 21.921875 \r\nQ 17.484375 14.15625 20.5 10.265625 \r\nQ 23.53125 6.390625 29.59375 6.390625 \r\nQ 36.859375 6.390625 41.078125 11.03125 \r\nQ 45.3125 15.671875 45.3125 23.6875 \r\nL 45.3125 54.6875 \r\nL 54.296875 54.6875 \r\nL 54.296875 0 \r\nL 45.3125 0 \r\nL 45.3125 8.40625 \r\nQ 42.046875 3.421875 37.71875 1 \r\nQ 33.40625 -1.421875 27.6875 -1.421875 \r\nQ 18.265625 -1.421875 13.375 4.4375 \r\nQ 8.5 10.296875 8.5 21.578125 \r\nz\r\nM 31.109375 56 \r\nz\r\n\" id=\"DejaVuSans-117\"/>\r\n        <path d=\"M 56.203125 29.59375 \r\nL 56.203125 25.203125 \r\nL 14.890625 25.203125 \r\nQ 15.484375 15.921875 20.484375 11.0625 \r\nQ 25.484375 6.203125 34.421875 6.203125 \r\nQ 39.59375 6.203125 44.453125 7.46875 \r\nQ 49.3125 8.734375 54.109375 11.28125 \r\nL 54.109375 2.78125 \r\nQ 49.265625 0.734375 44.1875 -0.34375 \r\nQ 39.109375 -1.421875 33.890625 -1.421875 \r\nQ 20.796875 -1.421875 13.15625 6.1875 \r\nQ 5.515625 13.8125 5.515625 26.8125 \r\nQ 5.515625 40.234375 12.765625 48.109375 \r\nQ 20.015625 56 32.328125 56 \r\nQ 43.359375 56 49.78125 48.890625 \r\nQ 56.203125 41.796875 56.203125 29.59375 \r\nz\r\nM 47.21875 32.234375 \r\nQ 47.125 39.59375 43.09375 43.984375 \r\nQ 39.0625 48.390625 32.421875 48.390625 \r\nQ 24.90625 48.390625 20.390625 44.140625 \r\nQ 15.875 39.890625 15.1875 32.171875 \r\nz\r\n\" id=\"DejaVuSans-101\"/>\r\n        <path d=\"M 44.28125 53.078125 \r\nL 44.28125 44.578125 \r\nQ 40.484375 46.53125 36.375 47.5 \r\nQ 32.28125 48.484375 27.875 48.484375 \r\nQ 21.1875 48.484375 17.84375 46.4375 \r\nQ 14.5 44.390625 14.5 40.28125 \r\nQ 14.5 37.15625 16.890625 35.375 \r\nQ 19.28125 33.59375 26.515625 31.984375 \r\nL 29.59375 31.296875 \r\nQ 39.15625 29.25 43.1875 25.515625 \r\nQ 47.21875 21.78125 47.21875 15.09375 \r\nQ 47.21875 7.46875 41.1875 3.015625 \r\nQ 35.15625 -1.421875 24.609375 -1.421875 \r\nQ 20.21875 -1.421875 15.453125 -0.5625 \r\nQ 10.6875 0.296875 5.421875 2 \r\nL 5.421875 11.28125 \r\nQ 10.40625 8.6875 15.234375 7.390625 \r\nQ 20.0625 6.109375 24.8125 6.109375 \r\nQ 31.15625 6.109375 34.5625 8.28125 \r\nQ 37.984375 10.453125 37.984375 14.40625 \r\nQ 37.984375 18.0625 35.515625 20.015625 \r\nQ 33.0625 21.96875 24.703125 23.78125 \r\nL 21.578125 24.515625 \r\nQ 13.234375 26.265625 9.515625 29.90625 \r\nQ 5.8125 33.546875 5.8125 39.890625 \r\nQ 5.8125 47.609375 11.28125 51.796875 \r\nQ 16.75 56 26.8125 56 \r\nQ 31.78125 56 36.171875 55.265625 \r\nQ 40.578125 54.546875 44.28125 53.078125 \r\nz\r\n\" id=\"DejaVuSans-115\"/>\r\n       </defs>\r\n       <use xlink:href=\"#DejaVuSans-66\"/>\r\n       <use x=\"68.603516\" xlink:href=\"#DejaVuSans-108\"/>\r\n       <use x=\"96.386719\" xlink:href=\"#DejaVuSans-117\"/>\r\n       <use x=\"159.765625\" xlink:href=\"#DejaVuSans-101\"/>\r\n       <use x=\"221.289062\" xlink:href=\"#DejaVuSans-115\"/>\r\n      </g>\r\n     </g>\r\n    </g>\r\n    <g id=\"xtick_2\">\r\n     <g id=\"line2d_2\">\r\n      <g>\r\n       <use style=\"stroke:#000000;stroke-width:0.8;\" x=\"94.390315\" xlink:href=\"#md31807afa3\" y=\"328.6\"/>\r\n      </g>\r\n     </g>\r\n     <g id=\"text_2\">\r\n      <!-- Jazz -->\r\n      <g transform=\"translate(84.602815 343.198438)scale(0.1 -0.1)\">\r\n       <defs>\r\n        <path d=\"M 9.8125 72.90625 \r\nL 19.671875 72.90625 \r\nL 19.671875 5.078125 \r\nQ 19.671875 -8.109375 14.671875 -14.0625 \r\nQ 9.671875 -20.015625 -1.421875 -20.015625 \r\nL -5.171875 -20.015625 \r\nL -5.171875 -11.71875 \r\nL -2.09375 -11.71875 \r\nQ 4.4375 -11.71875 7.125 -8.046875 \r\nQ 9.8125 -4.390625 9.8125 5.078125 \r\nz\r\n\" id=\"DejaVuSans-74\"/>\r\n        <path d=\"M 34.28125 27.484375 \r\nQ 23.390625 27.484375 19.1875 25 \r\nQ 14.984375 22.515625 14.984375 16.5 \r\nQ 14.984375 11.71875 18.140625 8.90625 \r\nQ 21.296875 6.109375 26.703125 6.109375 \r\nQ 34.1875 6.109375 38.703125 11.40625 \r\nQ 43.21875 16.703125 43.21875 25.484375 \r\nL 43.21875 27.484375 \r\nz\r\nM 52.203125 31.203125 \r\nL 52.203125 0 \r\nL 43.21875 0 \r\nL 43.21875 8.296875 \r\nQ 40.140625 3.328125 35.546875 0.953125 \r\nQ 30.953125 -1.421875 24.3125 -1.421875 \r\nQ 15.921875 -1.421875 10.953125 3.296875 \r\nQ 6 8.015625 6 15.921875 \r\nQ 6 25.140625 12.171875 29.828125 \r\nQ 18.359375 34.515625 30.609375 34.515625 \r\nL 43.21875 34.515625 \r\nL 43.21875 35.40625 \r\nQ 43.21875 41.609375 39.140625 45 \r\nQ 35.0625 48.390625 27.6875 48.390625 \r\nQ 23 48.390625 18.546875 47.265625 \r\nQ 14.109375 46.140625 10.015625 43.890625 \r\nL 10.015625 52.203125 \r\nQ 14.9375 54.109375 19.578125 55.046875 \r\nQ 24.21875 56 28.609375 56 \r\nQ 40.484375 56 46.34375 49.84375 \r\nQ 52.203125 43.703125 52.203125 31.203125 \r\nz\r\n\" id=\"DejaVuSans-97\"/>\r\n        <path d=\"M 5.515625 54.6875 \r\nL 48.1875 54.6875 \r\nL 48.1875 46.484375 \r\nL 14.40625 7.171875 \r\nL 48.1875 7.171875 \r\nL 48.1875 0 \r\nL 4.296875 0 \r\nL 4.296875 8.203125 \r\nL 38.09375 47.515625 \r\nL 5.515625 47.515625 \r\nz\r\n\" id=\"DejaVuSans-122\"/>\r\n       </defs>\r\n       <use xlink:href=\"#DejaVuSans-74\"/>\r\n       <use x=\"29.492188\" xlink:href=\"#DejaVuSans-97\"/>\r\n       <use x=\"90.771484\" xlink:href=\"#DejaVuSans-122\"/>\r\n       <use x=\"143.261719\" xlink:href=\"#DejaVuSans-122\"/>\r\n      </g>\r\n     </g>\r\n    </g>\r\n    <g id=\"xtick_3\">\r\n     <g id=\"line2d_3\">\r\n      <g>\r\n       <use style=\"stroke:#000000;stroke-width:0.8;\" x=\"121.765108\" xlink:href=\"#md31807afa3\" y=\"328.6\"/>\r\n      </g>\r\n     </g>\r\n     <g id=\"text_3\">\r\n      <!-- Folk -->\r\n      <g transform=\"translate(111.726827 343.198438)scale(0.1 -0.1)\">\r\n       <defs>\r\n        <path d=\"M 9.8125 72.90625 \r\nL 51.703125 72.90625 \r\nL 51.703125 64.59375 \r\nL 19.671875 64.59375 \r\nL 19.671875 43.109375 \r\nL 48.578125 43.109375 \r\nL 48.578125 34.8125 \r\nL 19.671875 34.8125 \r\nL 19.671875 0 \r\nL 9.8125 0 \r\nz\r\n\" id=\"DejaVuSans-70\"/>\r\n        <path d=\"M 30.609375 48.390625 \r\nQ 23.390625 48.390625 19.1875 42.75 \r\nQ 14.984375 37.109375 14.984375 27.296875 \r\nQ 14.984375 17.484375 19.15625 11.84375 \r\nQ 23.34375 6.203125 30.609375 6.203125 \r\nQ 37.796875 6.203125 41.984375 11.859375 \r\nQ 46.1875 17.53125 46.1875 27.296875 \r\nQ 46.1875 37.015625 41.984375 42.703125 \r\nQ 37.796875 48.390625 30.609375 48.390625 \r\nz\r\nM 30.609375 56 \r\nQ 42.328125 56 49.015625 48.375 \r\nQ 55.71875 40.765625 55.71875 27.296875 \r\nQ 55.71875 13.875 49.015625 6.21875 \r\nQ 42.328125 -1.421875 30.609375 -1.421875 \r\nQ 18.84375 -1.421875 12.171875 6.21875 \r\nQ 5.515625 13.875 5.515625 27.296875 \r\nQ 5.515625 40.765625 12.171875 48.375 \r\nQ 18.84375 56 30.609375 56 \r\nz\r\n\" id=\"DejaVuSans-111\"/>\r\n        <path d=\"M 9.078125 75.984375 \r\nL 18.109375 75.984375 \r\nL 18.109375 31.109375 \r\nL 44.921875 54.6875 \r\nL 56.390625 54.6875 \r\nL 27.390625 29.109375 \r\nL 57.625 0 \r\nL 45.90625 0 \r\nL 18.109375 26.703125 \r\nL 18.109375 0 \r\nL 9.078125 0 \r\nz\r\n\" id=\"DejaVuSans-107\"/>\r\n       </defs>\r\n       <use xlink:href=\"#DejaVuSans-70\"/>\r\n       <use x=\"53.894531\" xlink:href=\"#DejaVuSans-111\"/>\r\n       <use x=\"115.076172\" xlink:href=\"#DejaVuSans-108\"/>\r\n       <use x=\"142.859375\" xlink:href=\"#DejaVuSans-107\"/>\r\n      </g>\r\n     </g>\r\n    </g>\r\n    <g id=\"xtick_4\">\r\n     <g id=\"line2d_4\">\r\n      <g>\r\n       <use style=\"stroke:#000000;stroke-width:0.8;\" x=\"149.139902\" xlink:href=\"#md31807afa3\" y=\"328.6\"/>\r\n      </g>\r\n     </g>\r\n     <g id=\"text_4\">\r\n      <!-- Pop -->\r\n      <g transform=\"translate(140.072714 343.198438)scale(0.1 -0.1)\">\r\n       <defs>\r\n        <path d=\"M 19.671875 64.796875 \r\nL 19.671875 37.40625 \r\nL 32.078125 37.40625 \r\nQ 38.96875 37.40625 42.71875 40.96875 \r\nQ 46.484375 44.53125 46.484375 51.125 \r\nQ 46.484375 57.671875 42.71875 61.234375 \r\nQ 38.96875 64.796875 32.078125 64.796875 \r\nz\r\nM 9.8125 72.90625 \r\nL 32.078125 72.90625 \r\nQ 44.34375 72.90625 50.609375 67.359375 \r\nQ 56.890625 61.8125 56.890625 51.125 \r\nQ 56.890625 40.328125 50.609375 34.8125 \r\nQ 44.34375 29.296875 32.078125 29.296875 \r\nL 19.671875 29.296875 \r\nL 19.671875 0 \r\nL 9.8125 0 \r\nz\r\n\" id=\"DejaVuSans-80\"/>\r\n        <path d=\"M 18.109375 8.203125 \r\nL 18.109375 -20.796875 \r\nL 9.078125 -20.796875 \r\nL 9.078125 54.6875 \r\nL 18.109375 54.6875 \r\nL 18.109375 46.390625 \r\nQ 20.953125 51.265625 25.265625 53.625 \r\nQ 29.59375 56 35.59375 56 \r\nQ 45.5625 56 51.78125 48.09375 \r\nQ 58.015625 40.1875 58.015625 27.296875 \r\nQ 58.015625 14.40625 51.78125 6.484375 \r\nQ 45.5625 -1.421875 35.59375 -1.421875 \r\nQ 29.59375 -1.421875 25.265625 0.953125 \r\nQ 20.953125 3.328125 18.109375 8.203125 \r\nz\r\nM 48.6875 27.296875 \r\nQ 48.6875 37.203125 44.609375 42.84375 \r\nQ 40.53125 48.484375 33.40625 48.484375 \r\nQ 26.265625 48.484375 22.1875 42.84375 \r\nQ 18.109375 37.203125 18.109375 27.296875 \r\nQ 18.109375 17.390625 22.1875 11.75 \r\nQ 26.265625 6.109375 33.40625 6.109375 \r\nQ 40.53125 6.109375 44.609375 11.75 \r\nQ 48.6875 17.390625 48.6875 27.296875 \r\nz\r\n\" id=\"DejaVuSans-112\"/>\r\n       </defs>\r\n       <use xlink:href=\"#DejaVuSans-80\"/>\r\n       <use x=\"56.677734\" xlink:href=\"#DejaVuSans-111\"/>\r\n       <use x=\"117.859375\" xlink:href=\"#DejaVuSans-112\"/>\r\n      </g>\r\n     </g>\r\n    </g>\r\n    <g id=\"xtick_5\">\r\n     <g id=\"line2d_5\">\r\n      <g>\r\n       <use style=\"stroke:#000000;stroke-width:0.8;\" x=\"176.514695\" xlink:href=\"#md31807afa3\" y=\"328.6\"/>\r\n      </g>\r\n     </g>\r\n     <g id=\"text_5\">\r\n      <!-- Country -->\r\n      <g transform=\"translate(156.651414 343.198438)scale(0.1 -0.1)\">\r\n       <defs>\r\n        <path d=\"M 64.40625 67.28125 \r\nL 64.40625 56.890625 \r\nQ 59.421875 61.53125 53.78125 63.8125 \r\nQ 48.140625 66.109375 41.796875 66.109375 \r\nQ 29.296875 66.109375 22.65625 58.46875 \r\nQ 16.015625 50.828125 16.015625 36.375 \r\nQ 16.015625 21.96875 22.65625 14.328125 \r\nQ 29.296875 6.6875 41.796875 6.6875 \r\nQ 48.140625 6.6875 53.78125 8.984375 \r\nQ 59.421875 11.28125 64.40625 15.921875 \r\nL 64.40625 5.609375 \r\nQ 59.234375 2.09375 53.4375 0.328125 \r\nQ 47.65625 -1.421875 41.21875 -1.421875 \r\nQ 24.65625 -1.421875 15.125 8.703125 \r\nQ 5.609375 18.84375 5.609375 36.375 \r\nQ 5.609375 53.953125 15.125 64.078125 \r\nQ 24.65625 74.21875 41.21875 74.21875 \r\nQ 47.75 74.21875 53.53125 72.484375 \r\nQ 59.328125 70.75 64.40625 67.28125 \r\nz\r\n\" id=\"DejaVuSans-67\"/>\r\n        <path d=\"M 54.890625 33.015625 \r\nL 54.890625 0 \r\nL 45.90625 0 \r\nL 45.90625 32.71875 \r\nQ 45.90625 40.484375 42.875 44.328125 \r\nQ 39.84375 48.1875 33.796875 48.1875 \r\nQ 26.515625 48.1875 22.3125 43.546875 \r\nQ 18.109375 38.921875 18.109375 30.90625 \r\nL 18.109375 0 \r\nL 9.078125 0 \r\nL 9.078125 54.6875 \r\nL 18.109375 54.6875 \r\nL 18.109375 46.1875 \r\nQ 21.34375 51.125 25.703125 53.5625 \r\nQ 30.078125 56 35.796875 56 \r\nQ 45.21875 56 50.046875 50.171875 \r\nQ 54.890625 44.34375 54.890625 33.015625 \r\nz\r\n\" id=\"DejaVuSans-110\"/>\r\n        <path d=\"M 18.3125 70.21875 \r\nL 18.3125 54.6875 \r\nL 36.8125 54.6875 \r\nL 36.8125 47.703125 \r\nL 18.3125 47.703125 \r\nL 18.3125 18.015625 \r\nQ 18.3125 11.328125 20.140625 9.421875 \r\nQ 21.96875 7.515625 27.59375 7.515625 \r\nL 36.8125 7.515625 \r\nL 36.8125 0 \r\nL 27.59375 0 \r\nQ 17.1875 0 13.234375 3.875 \r\nQ 9.28125 7.765625 9.28125 18.015625 \r\nL 9.28125 47.703125 \r\nL 2.6875 47.703125 \r\nL 2.6875 54.6875 \r\nL 9.28125 54.6875 \r\nL 9.28125 70.21875 \r\nz\r\n\" id=\"DejaVuSans-116\"/>\r\n        <path d=\"M 41.109375 46.296875 \r\nQ 39.59375 47.171875 37.8125 47.578125 \r\nQ 36.03125 48 33.890625 48 \r\nQ 26.265625 48 22.1875 43.046875 \r\nQ 18.109375 38.09375 18.109375 28.8125 \r\nL 18.109375 0 \r\nL 9.078125 0 \r\nL 9.078125 54.6875 \r\nL 18.109375 54.6875 \r\nL 18.109375 46.1875 \r\nQ 20.953125 51.171875 25.484375 53.578125 \r\nQ 30.03125 56 36.53125 56 \r\nQ 37.453125 56 38.578125 55.875 \r\nQ 39.703125 55.765625 41.0625 55.515625 \r\nz\r\n\" id=\"DejaVuSans-114\"/>\r\n        <path d=\"M 32.171875 -5.078125 \r\nQ 28.375 -14.84375 24.75 -17.8125 \r\nQ 21.140625 -20.796875 15.09375 -20.796875 \r\nL 7.90625 -20.796875 \r\nL 7.90625 -13.28125 \r\nL 13.1875 -13.28125 \r\nQ 16.890625 -13.28125 18.9375 -11.515625 \r\nQ 21 -9.765625 23.484375 -3.21875 \r\nL 25.09375 0.875 \r\nL 2.984375 54.6875 \r\nL 12.5 54.6875 \r\nL 29.59375 11.921875 \r\nL 46.6875 54.6875 \r\nL 56.203125 54.6875 \r\nz\r\n\" id=\"DejaVuSans-121\"/>\r\n       </defs>\r\n       <use xlink:href=\"#DejaVuSans-67\"/>\r\n       <use x=\"69.824219\" xlink:href=\"#DejaVuSans-111\"/>\r\n       <use x=\"131.005859\" xlink:href=\"#DejaVuSans-117\"/>\r\n       <use x=\"194.384766\" xlink:href=\"#DejaVuSans-110\"/>\r\n       <use x=\"257.763672\" xlink:href=\"#DejaVuSans-116\"/>\r\n       <use x=\"296.972656\" xlink:href=\"#DejaVuSans-114\"/>\r\n       <use x=\"338.085938\" xlink:href=\"#DejaVuSans-121\"/>\r\n      </g>\r\n     </g>\r\n    </g>\r\n    <g id=\"xtick_6\">\r\n     <g id=\"line2d_6\">\r\n      <g>\r\n       <use style=\"stroke:#000000;stroke-width:0.8;\" x=\"203.889489\" xlink:href=\"#md31807afa3\" y=\"328.6\"/>\r\n      </g>\r\n     </g>\r\n     <g id=\"text_6\">\r\n      <!-- Rock -->\r\n      <g transform=\"translate(191.936364 343.198438)scale(0.1 -0.1)\">\r\n       <defs>\r\n        <path d=\"M 44.390625 34.1875 \r\nQ 47.5625 33.109375 50.5625 29.59375 \r\nQ 53.5625 26.078125 56.59375 19.921875 \r\nL 66.609375 0 \r\nL 56 0 \r\nL 46.6875 18.703125 \r\nQ 43.0625 26.03125 39.671875 28.421875 \r\nQ 36.28125 30.8125 30.421875 30.8125 \r\nL 19.671875 30.8125 \r\nL 19.671875 0 \r\nL 9.8125 0 \r\nL 9.8125 72.90625 \r\nL 32.078125 72.90625 \r\nQ 44.578125 72.90625 50.734375 67.671875 \r\nQ 56.890625 62.453125 56.890625 51.90625 \r\nQ 56.890625 45.015625 53.6875 40.46875 \r\nQ 50.484375 35.9375 44.390625 34.1875 \r\nz\r\nM 19.671875 64.796875 \r\nL 19.671875 38.921875 \r\nL 32.078125 38.921875 \r\nQ 39.203125 38.921875 42.84375 42.21875 \r\nQ 46.484375 45.515625 46.484375 51.90625 \r\nQ 46.484375 58.296875 42.84375 61.546875 \r\nQ 39.203125 64.796875 32.078125 64.796875 \r\nz\r\n\" id=\"DejaVuSans-82\"/>\r\n        <path d=\"M 48.78125 52.59375 \r\nL 48.78125 44.1875 \r\nQ 44.96875 46.296875 41.140625 47.34375 \r\nQ 37.3125 48.390625 33.40625 48.390625 \r\nQ 24.65625 48.390625 19.8125 42.84375 \r\nQ 14.984375 37.3125 14.984375 27.296875 \r\nQ 14.984375 17.28125 19.8125 11.734375 \r\nQ 24.65625 6.203125 33.40625 6.203125 \r\nQ 37.3125 6.203125 41.140625 7.25 \r\nQ 44.96875 8.296875 48.78125 10.40625 \r\nL 48.78125 2.09375 \r\nQ 45.015625 0.34375 40.984375 -0.53125 \r\nQ 36.96875 -1.421875 32.421875 -1.421875 \r\nQ 20.0625 -1.421875 12.78125 6.34375 \r\nQ 5.515625 14.109375 5.515625 27.296875 \r\nQ 5.515625 40.671875 12.859375 48.328125 \r\nQ 20.21875 56 33.015625 56 \r\nQ 37.15625 56 41.109375 55.140625 \r\nQ 45.0625 54.296875 48.78125 52.59375 \r\nz\r\n\" id=\"DejaVuSans-99\"/>\r\n       </defs>\r\n       <use xlink:href=\"#DejaVuSans-82\"/>\r\n       <use x=\"64.982422\" xlink:href=\"#DejaVuSans-111\"/>\r\n       <use x=\"126.164062\" xlink:href=\"#DejaVuSans-99\"/>\r\n       <use x=\"181.144531\" xlink:href=\"#DejaVuSans-107\"/>\r\n      </g>\r\n     </g>\r\n    </g>\r\n    <g id=\"xtick_7\">\r\n     <g id=\"line2d_7\">\r\n      <g>\r\n       <use style=\"stroke:#000000;stroke-width:0.8;\" x=\"231.264282\" xlink:href=\"#md31807afa3\" y=\"328.6\"/>\r\n      </g>\r\n     </g>\r\n     <g id=\"text_7\">\r\n      <!-- Electronic -->\r\n      <g transform=\"translate(206.620532 343.198438)scale(0.1 -0.1)\">\r\n       <defs>\r\n        <path d=\"M 9.8125 72.90625 \r\nL 55.90625 72.90625 \r\nL 55.90625 64.59375 \r\nL 19.671875 64.59375 \r\nL 19.671875 43.015625 \r\nL 54.390625 43.015625 \r\nL 54.390625 34.71875 \r\nL 19.671875 34.71875 \r\nL 19.671875 8.296875 \r\nL 56.78125 8.296875 \r\nL 56.78125 0 \r\nL 9.8125 0 \r\nz\r\n\" id=\"DejaVuSans-69\"/>\r\n        <path d=\"M 9.421875 54.6875 \r\nL 18.40625 54.6875 \r\nL 18.40625 0 \r\nL 9.421875 0 \r\nz\r\nM 9.421875 75.984375 \r\nL 18.40625 75.984375 \r\nL 18.40625 64.59375 \r\nL 9.421875 64.59375 \r\nz\r\n\" id=\"DejaVuSans-105\"/>\r\n       </defs>\r\n       <use xlink:href=\"#DejaVuSans-69\"/>\r\n       <use x=\"63.183594\" xlink:href=\"#DejaVuSans-108\"/>\r\n       <use x=\"90.966797\" xlink:href=\"#DejaVuSans-101\"/>\r\n       <use x=\"152.490234\" xlink:href=\"#DejaVuSans-99\"/>\r\n       <use x=\"207.470703\" xlink:href=\"#DejaVuSans-116\"/>\r\n       <use x=\"246.679688\" xlink:href=\"#DejaVuSans-114\"/>\r\n       <use x=\"285.542969\" xlink:href=\"#DejaVuSans-111\"/>\r\n       <use x=\"346.724609\" xlink:href=\"#DejaVuSans-110\"/>\r\n       <use x=\"410.103516\" xlink:href=\"#DejaVuSans-105\"/>\r\n       <use x=\"437.886719\" xlink:href=\"#DejaVuSans-99\"/>\r\n      </g>\r\n     </g>\r\n    </g>\r\n    <g id=\"xtick_8\">\r\n     <g id=\"line2d_8\">\r\n      <g>\r\n       <use style=\"stroke:#000000;stroke-width:0.8;\" x=\"258.639075\" xlink:href=\"#md31807afa3\" y=\"328.6\"/>\r\n      </g>\r\n     </g>\r\n     <g id=\"text_8\">\r\n      <!-- Punk -->\r\n      <g transform=\"translate(246.478919 343.198438)scale(0.1 -0.1)\">\r\n       <use xlink:href=\"#DejaVuSans-80\"/>\r\n       <use x=\"58.552734\" xlink:href=\"#DejaVuSans-117\"/>\r\n       <use x=\"121.931641\" xlink:href=\"#DejaVuSans-110\"/>\r\n       <use x=\"185.310547\" xlink:href=\"#DejaVuSans-107\"/>\r\n      </g>\r\n     </g>\r\n    </g>\r\n    <g id=\"xtick_9\">\r\n     <g id=\"line2d_9\">\r\n      <g>\r\n       <use style=\"stroke:#000000;stroke-width:0.8;\" x=\"286.013869\" xlink:href=\"#md31807afa3\" y=\"328.6\"/>\r\n      </g>\r\n     </g>\r\n     <g id=\"text_9\">\r\n      <!-- Hip Hop -->\r\n      <g transform=\"translate(266.107619 343.198438)scale(0.1 -0.1)\">\r\n       <defs>\r\n        <path d=\"M 9.8125 72.90625 \r\nL 19.671875 72.90625 \r\nL 19.671875 43.015625 \r\nL 55.515625 43.015625 \r\nL 55.515625 72.90625 \r\nL 65.375 72.90625 \r\nL 65.375 0 \r\nL 55.515625 0 \r\nL 55.515625 34.71875 \r\nL 19.671875 34.71875 \r\nL 19.671875 0 \r\nL 9.8125 0 \r\nz\r\n\" id=\"DejaVuSans-72\"/>\r\n        <path id=\"DejaVuSans-32\"/>\r\n       </defs>\r\n       <use xlink:href=\"#DejaVuSans-72\"/>\r\n       <use x=\"75.195312\" xlink:href=\"#DejaVuSans-105\"/>\r\n       <use x=\"102.978516\" xlink:href=\"#DejaVuSans-112\"/>\r\n       <use x=\"166.455078\" xlink:href=\"#DejaVuSans-32\"/>\r\n       <use x=\"198.242188\" xlink:href=\"#DejaVuSans-72\"/>\r\n       <use x=\"273.4375\" xlink:href=\"#DejaVuSans-111\"/>\r\n       <use x=\"334.619141\" xlink:href=\"#DejaVuSans-112\"/>\r\n      </g>\r\n     </g>\r\n    </g>\r\n    <g id=\"xtick_10\">\r\n     <g id=\"line2d_10\">\r\n      <g>\r\n       <use style=\"stroke:#000000;stroke-width:0.8;\" x=\"313.388662\" xlink:href=\"#md31807afa3\" y=\"328.6\"/>\r\n      </g>\r\n     </g>\r\n     <g id=\"text_10\">\r\n      <!-- Metal -->\r\n      <g transform=\"translate(299.584756 343.198438)scale(0.1 -0.1)\">\r\n       <defs>\r\n        <path d=\"M 9.8125 72.90625 \r\nL 24.515625 72.90625 \r\nL 43.109375 23.296875 \r\nL 61.8125 72.90625 \r\nL 76.515625 72.90625 \r\nL 76.515625 0 \r\nL 66.890625 0 \r\nL 66.890625 64.015625 \r\nL 48.09375 14.015625 \r\nL 38.1875 14.015625 \r\nL 19.390625 64.015625 \r\nL 19.390625 0 \r\nL 9.8125 0 \r\nz\r\n\" id=\"DejaVuSans-77\"/>\r\n       </defs>\r\n       <use xlink:href=\"#DejaVuSans-77\"/>\r\n       <use x=\"86.279297\" xlink:href=\"#DejaVuSans-101\"/>\r\n       <use x=\"147.802734\" xlink:href=\"#DejaVuSans-116\"/>\r\n       <use x=\"187.011719\" xlink:href=\"#DejaVuSans-97\"/>\r\n       <use x=\"248.291016\" xlink:href=\"#DejaVuSans-108\"/>\r\n      </g>\r\n     </g>\r\n    </g>\r\n    <g id=\"xtick_11\">\r\n     <g id=\"line2d_11\">\r\n      <g>\r\n       <use style=\"stroke:#000000;stroke-width:0.8;\" x=\"340.763456\" xlink:href=\"#md31807afa3\" y=\"328.6\"/>\r\n      </g>\r\n     </g>\r\n     <g id=\"text_11\">\r\n      <!-- Reggae -->\r\n      <g transform=\"translate(321.948612 343.198438)scale(0.1 -0.1)\">\r\n       <defs>\r\n        <path d=\"M 45.40625 27.984375 \r\nQ 45.40625 37.75 41.375 43.109375 \r\nQ 37.359375 48.484375 30.078125 48.484375 \r\nQ 22.859375 48.484375 18.828125 43.109375 \r\nQ 14.796875 37.75 14.796875 27.984375 \r\nQ 14.796875 18.265625 18.828125 12.890625 \r\nQ 22.859375 7.515625 30.078125 7.515625 \r\nQ 37.359375 7.515625 41.375 12.890625 \r\nQ 45.40625 18.265625 45.40625 27.984375 \r\nz\r\nM 54.390625 6.78125 \r\nQ 54.390625 -7.171875 48.1875 -13.984375 \r\nQ 42 -20.796875 29.203125 -20.796875 \r\nQ 24.46875 -20.796875 20.265625 -20.09375 \r\nQ 16.0625 -19.390625 12.109375 -17.921875 \r\nL 12.109375 -9.1875 \r\nQ 16.0625 -11.328125 19.921875 -12.34375 \r\nQ 23.78125 -13.375 27.78125 -13.375 \r\nQ 36.625 -13.375 41.015625 -8.765625 \r\nQ 45.40625 -4.15625 45.40625 5.171875 \r\nL 45.40625 9.625 \r\nQ 42.625 4.78125 38.28125 2.390625 \r\nQ 33.9375 0 27.875 0 \r\nQ 17.828125 0 11.671875 7.65625 \r\nQ 5.515625 15.328125 5.515625 27.984375 \r\nQ 5.515625 40.671875 11.671875 48.328125 \r\nQ 17.828125 56 27.875 56 \r\nQ 33.9375 56 38.28125 53.609375 \r\nQ 42.625 51.21875 45.40625 46.390625 \r\nL 45.40625 54.6875 \r\nL 54.390625 54.6875 \r\nz\r\n\" id=\"DejaVuSans-103\"/>\r\n       </defs>\r\n       <use xlink:href=\"#DejaVuSans-82\"/>\r\n       <use x=\"64.982422\" xlink:href=\"#DejaVuSans-101\"/>\r\n       <use x=\"126.505859\" xlink:href=\"#DejaVuSans-103\"/>\r\n       <use x=\"189.982422\" xlink:href=\"#DejaVuSans-103\"/>\r\n       <use x=\"253.458984\" xlink:href=\"#DejaVuSans-97\"/>\r\n       <use x=\"314.738281\" xlink:href=\"#DejaVuSans-101\"/>\r\n      </g>\r\n     </g>\r\n    </g>\r\n    <g id=\"text_12\">\r\n     <!-- closest_genre -->\r\n     <g transform=\"translate(169.506676 356.876562)scale(0.1 -0.1)\">\r\n      <defs>\r\n       <path d=\"M 50.984375 -16.609375 \r\nL 50.984375 -23.578125 \r\nL -0.984375 -23.578125 \r\nL -0.984375 -16.609375 \r\nz\r\n\" id=\"DejaVuSans-95\"/>\r\n      </defs>\r\n      <use xlink:href=\"#DejaVuSans-99\"/>\r\n      <use x=\"54.980469\" xlink:href=\"#DejaVuSans-108\"/>\r\n      <use x=\"82.763672\" xlink:href=\"#DejaVuSans-111\"/>\r\n      <use x=\"143.945312\" xlink:href=\"#DejaVuSans-115\"/>\r\n      <use x=\"196.044922\" xlink:href=\"#DejaVuSans-101\"/>\r\n      <use x=\"257.568359\" xlink:href=\"#DejaVuSans-115\"/>\r\n      <use x=\"309.667969\" xlink:href=\"#DejaVuSans-116\"/>\r\n      <use x=\"348.876953\" xlink:href=\"#DejaVuSans-95\"/>\r\n      <use x=\"398.876953\" xlink:href=\"#DejaVuSans-103\"/>\r\n      <use x=\"462.353516\" xlink:href=\"#DejaVuSans-101\"/>\r\n      <use x=\"523.876953\" xlink:href=\"#DejaVuSans-110\"/>\r\n      <use x=\"587.255859\" xlink:href=\"#DejaVuSans-114\"/>\r\n      <use x=\"626.119141\" xlink:href=\"#DejaVuSans-101\"/>\r\n     </g>\r\n    </g>\r\n   </g>\r\n   <g id=\"matplotlib.axis_2\">\r\n    <g id=\"ytick_1\">\r\n     <g id=\"line2d_12\">\r\n      <defs>\r\n       <path d=\"M 0 0 \r\nL -3.5 0 \r\n\" id=\"m8215a1cb5d\" style=\"stroke:#000000;stroke-width:0.8;\"/>\r\n      </defs>\r\n      <g>\r\n       <use style=\"stroke:#000000;stroke-width:0.8;\" x=\"53.328125\" xlink:href=\"#m8215a1cb5d\" y=\"328.6\"/>\r\n      </g>\r\n     </g>\r\n     <g id=\"text_13\">\r\n      <!-- 0 -->\r\n      <g transform=\"translate(39.965625 332.399219)scale(0.1 -0.1)\">\r\n       <defs>\r\n        <path d=\"M 31.78125 66.40625 \r\nQ 24.171875 66.40625 20.328125 58.90625 \r\nQ 16.5 51.421875 16.5 36.375 \r\nQ 16.5 21.390625 20.328125 13.890625 \r\nQ 24.171875 6.390625 31.78125 6.390625 \r\nQ 39.453125 6.390625 43.28125 13.890625 \r\nQ 47.125 21.390625 47.125 36.375 \r\nQ 47.125 51.421875 43.28125 58.90625 \r\nQ 39.453125 66.40625 31.78125 66.40625 \r\nz\r\nM 31.78125 74.21875 \r\nQ 44.046875 74.21875 50.515625 64.515625 \r\nQ 56.984375 54.828125 56.984375 36.375 \r\nQ 56.984375 17.96875 50.515625 8.265625 \r\nQ 44.046875 -1.421875 31.78125 -1.421875 \r\nQ 19.53125 -1.421875 13.0625 8.265625 \r\nQ 6.59375 17.96875 6.59375 36.375 \r\nQ 6.59375 54.828125 13.0625 64.515625 \r\nQ 19.53125 74.21875 31.78125 74.21875 \r\nz\r\n\" id=\"DejaVuSans-48\"/>\r\n       </defs>\r\n       <use xlink:href=\"#DejaVuSans-48\"/>\r\n      </g>\r\n     </g>\r\n    </g>\r\n    <g id=\"ytick_2\">\r\n     <g id=\"line2d_13\">\r\n      <g>\r\n       <use style=\"stroke:#000000;stroke-width:0.8;\" x=\"53.328125\" xlink:href=\"#m8215a1cb5d\" y=\"285.427188\"/>\r\n      </g>\r\n     </g>\r\n     <g id=\"text_14\">\r\n      <!-- 1000 -->\r\n      <g transform=\"translate(20.878125 289.226407)scale(0.1 -0.1)\">\r\n       <defs>\r\n        <path d=\"M 12.40625 8.296875 \r\nL 28.515625 8.296875 \r\nL 28.515625 63.921875 \r\nL 10.984375 60.40625 \r\nL 10.984375 69.390625 \r\nL 28.421875 72.90625 \r\nL 38.28125 72.90625 \r\nL 38.28125 8.296875 \r\nL 54.390625 8.296875 \r\nL 54.390625 0 \r\nL 12.40625 0 \r\nz\r\n\" id=\"DejaVuSans-49\"/>\r\n       </defs>\r\n       <use xlink:href=\"#DejaVuSans-49\"/>\r\n       <use x=\"63.623047\" xlink:href=\"#DejaVuSans-48\"/>\r\n       <use x=\"127.246094\" xlink:href=\"#DejaVuSans-48\"/>\r\n       <use x=\"190.869141\" xlink:href=\"#DejaVuSans-48\"/>\r\n      </g>\r\n     </g>\r\n    </g>\r\n    <g id=\"ytick_3\">\r\n     <g id=\"line2d_14\">\r\n      <g>\r\n       <use style=\"stroke:#000000;stroke-width:0.8;\" x=\"53.328125\" xlink:href=\"#m8215a1cb5d\" y=\"242.254376\"/>\r\n      </g>\r\n     </g>\r\n     <g id=\"text_15\">\r\n      <!-- 2000 -->\r\n      <g transform=\"translate(20.878125 246.053594)scale(0.1 -0.1)\">\r\n       <defs>\r\n        <path d=\"M 19.1875 8.296875 \r\nL 53.609375 8.296875 \r\nL 53.609375 0 \r\nL 7.328125 0 \r\nL 7.328125 8.296875 \r\nQ 12.9375 14.109375 22.625 23.890625 \r\nQ 32.328125 33.6875 34.8125 36.53125 \r\nQ 39.546875 41.84375 41.421875 45.53125 \r\nQ 43.3125 49.21875 43.3125 52.78125 \r\nQ 43.3125 58.59375 39.234375 62.25 \r\nQ 35.15625 65.921875 28.609375 65.921875 \r\nQ 23.96875 65.921875 18.8125 64.3125 \r\nQ 13.671875 62.703125 7.8125 59.421875 \r\nL 7.8125 69.390625 \r\nQ 13.765625 71.78125 18.9375 73 \r\nQ 24.125 74.21875 28.421875 74.21875 \r\nQ 39.75 74.21875 46.484375 68.546875 \r\nQ 53.21875 62.890625 53.21875 53.421875 \r\nQ 53.21875 48.921875 51.53125 44.890625 \r\nQ 49.859375 40.875 45.40625 35.40625 \r\nQ 44.1875 33.984375 37.640625 27.21875 \r\nQ 31.109375 20.453125 19.1875 8.296875 \r\nz\r\n\" id=\"DejaVuSans-50\"/>\r\n       </defs>\r\n       <use xlink:href=\"#DejaVuSans-50\"/>\r\n       <use x=\"63.623047\" xlink:href=\"#DejaVuSans-48\"/>\r\n       <use x=\"127.246094\" xlink:href=\"#DejaVuSans-48\"/>\r\n       <use x=\"190.869141\" xlink:href=\"#DejaVuSans-48\"/>\r\n      </g>\r\n     </g>\r\n    </g>\r\n    <g id=\"ytick_4\">\r\n     <g id=\"line2d_15\">\r\n      <g>\r\n       <use style=\"stroke:#000000;stroke-width:0.8;\" x=\"53.328125\" xlink:href=\"#m8215a1cb5d\" y=\"199.081564\"/>\r\n      </g>\r\n     </g>\r\n     <g id=\"text_16\">\r\n      <!-- 3000 -->\r\n      <g transform=\"translate(20.878125 202.880782)scale(0.1 -0.1)\">\r\n       <defs>\r\n        <path d=\"M 40.578125 39.3125 \r\nQ 47.65625 37.796875 51.625 33 \r\nQ 55.609375 28.21875 55.609375 21.1875 \r\nQ 55.609375 10.40625 48.1875 4.484375 \r\nQ 40.765625 -1.421875 27.09375 -1.421875 \r\nQ 22.515625 -1.421875 17.65625 -0.515625 \r\nQ 12.796875 0.390625 7.625 2.203125 \r\nL 7.625 11.71875 \r\nQ 11.71875 9.328125 16.59375 8.109375 \r\nQ 21.484375 6.890625 26.8125 6.890625 \r\nQ 36.078125 6.890625 40.9375 10.546875 \r\nQ 45.796875 14.203125 45.796875 21.1875 \r\nQ 45.796875 27.640625 41.28125 31.265625 \r\nQ 36.765625 34.90625 28.71875 34.90625 \r\nL 20.21875 34.90625 \r\nL 20.21875 43.015625 \r\nL 29.109375 43.015625 \r\nQ 36.375 43.015625 40.234375 45.921875 \r\nQ 44.09375 48.828125 44.09375 54.296875 \r\nQ 44.09375 59.90625 40.109375 62.90625 \r\nQ 36.140625 65.921875 28.71875 65.921875 \r\nQ 24.65625 65.921875 20.015625 65.03125 \r\nQ 15.375 64.15625 9.8125 62.3125 \r\nL 9.8125 71.09375 \r\nQ 15.4375 72.65625 20.34375 73.4375 \r\nQ 25.25 74.21875 29.59375 74.21875 \r\nQ 40.828125 74.21875 47.359375 69.109375 \r\nQ 53.90625 64.015625 53.90625 55.328125 \r\nQ 53.90625 49.265625 50.4375 45.09375 \r\nQ 46.96875 40.921875 40.578125 39.3125 \r\nz\r\n\" id=\"DejaVuSans-51\"/>\r\n       </defs>\r\n       <use xlink:href=\"#DejaVuSans-51\"/>\r\n       <use x=\"63.623047\" xlink:href=\"#DejaVuSans-48\"/>\r\n       <use x=\"127.246094\" xlink:href=\"#DejaVuSans-48\"/>\r\n       <use x=\"190.869141\" xlink:href=\"#DejaVuSans-48\"/>\r\n      </g>\r\n     </g>\r\n    </g>\r\n    <g id=\"ytick_5\">\r\n     <g id=\"line2d_16\">\r\n      <g>\r\n       <use style=\"stroke:#000000;stroke-width:0.8;\" x=\"53.328125\" xlink:href=\"#m8215a1cb5d\" y=\"155.908751\"/>\r\n      </g>\r\n     </g>\r\n     <g id=\"text_17\">\r\n      <!-- 4000 -->\r\n      <g transform=\"translate(20.878125 159.70797)scale(0.1 -0.1)\">\r\n       <defs>\r\n        <path d=\"M 37.796875 64.3125 \r\nL 12.890625 25.390625 \r\nL 37.796875 25.390625 \r\nz\r\nM 35.203125 72.90625 \r\nL 47.609375 72.90625 \r\nL 47.609375 25.390625 \r\nL 58.015625 25.390625 \r\nL 58.015625 17.1875 \r\nL 47.609375 17.1875 \r\nL 47.609375 0 \r\nL 37.796875 0 \r\nL 37.796875 17.1875 \r\nL 4.890625 17.1875 \r\nL 4.890625 26.703125 \r\nz\r\n\" id=\"DejaVuSans-52\"/>\r\n       </defs>\r\n       <use xlink:href=\"#DejaVuSans-52\"/>\r\n       <use x=\"63.623047\" xlink:href=\"#DejaVuSans-48\"/>\r\n       <use x=\"127.246094\" xlink:href=\"#DejaVuSans-48\"/>\r\n       <use x=\"190.869141\" xlink:href=\"#DejaVuSans-48\"/>\r\n      </g>\r\n     </g>\r\n    </g>\r\n    <g id=\"ytick_6\">\r\n     <g id=\"line2d_17\">\r\n      <g>\r\n       <use style=\"stroke:#000000;stroke-width:0.8;\" x=\"53.328125\" xlink:href=\"#m8215a1cb5d\" y=\"112.735939\"/>\r\n      </g>\r\n     </g>\r\n     <g id=\"text_18\">\r\n      <!-- 5000 -->\r\n      <g transform=\"translate(20.878125 116.535158)scale(0.1 -0.1)\">\r\n       <defs>\r\n        <path d=\"M 10.796875 72.90625 \r\nL 49.515625 72.90625 \r\nL 49.515625 64.59375 \r\nL 19.828125 64.59375 \r\nL 19.828125 46.734375 \r\nQ 21.96875 47.46875 24.109375 47.828125 \r\nQ 26.265625 48.1875 28.421875 48.1875 \r\nQ 40.625 48.1875 47.75 41.5 \r\nQ 54.890625 34.8125 54.890625 23.390625 \r\nQ 54.890625 11.625 47.5625 5.09375 \r\nQ 40.234375 -1.421875 26.90625 -1.421875 \r\nQ 22.3125 -1.421875 17.546875 -0.640625 \r\nQ 12.796875 0.140625 7.71875 1.703125 \r\nL 7.71875 11.625 \r\nQ 12.109375 9.234375 16.796875 8.0625 \r\nQ 21.484375 6.890625 26.703125 6.890625 \r\nQ 35.15625 6.890625 40.078125 11.328125 \r\nQ 45.015625 15.765625 45.015625 23.390625 \r\nQ 45.015625 31 40.078125 35.4375 \r\nQ 35.15625 39.890625 26.703125 39.890625 \r\nQ 22.75 39.890625 18.8125 39.015625 \r\nQ 14.890625 38.140625 10.796875 36.28125 \r\nz\r\n\" id=\"DejaVuSans-53\"/>\r\n       </defs>\r\n       <use xlink:href=\"#DejaVuSans-53\"/>\r\n       <use x=\"63.623047\" xlink:href=\"#DejaVuSans-48\"/>\r\n       <use x=\"127.246094\" xlink:href=\"#DejaVuSans-48\"/>\r\n       <use x=\"190.869141\" xlink:href=\"#DejaVuSans-48\"/>\r\n      </g>\r\n     </g>\r\n    </g>\r\n    <g id=\"ytick_7\">\r\n     <g id=\"line2d_18\">\r\n      <g>\r\n       <use style=\"stroke:#000000;stroke-width:0.8;\" x=\"53.328125\" xlink:href=\"#m8215a1cb5d\" y=\"69.563127\"/>\r\n      </g>\r\n     </g>\r\n     <g id=\"text_19\">\r\n      <!-- 6000 -->\r\n      <g transform=\"translate(20.878125 73.362346)scale(0.1 -0.1)\">\r\n       <defs>\r\n        <path d=\"M 33.015625 40.375 \r\nQ 26.375 40.375 22.484375 35.828125 \r\nQ 18.609375 31.296875 18.609375 23.390625 \r\nQ 18.609375 15.53125 22.484375 10.953125 \r\nQ 26.375 6.390625 33.015625 6.390625 \r\nQ 39.65625 6.390625 43.53125 10.953125 \r\nQ 47.40625 15.53125 47.40625 23.390625 \r\nQ 47.40625 31.296875 43.53125 35.828125 \r\nQ 39.65625 40.375 33.015625 40.375 \r\nz\r\nM 52.59375 71.296875 \r\nL 52.59375 62.3125 \r\nQ 48.875 64.0625 45.09375 64.984375 \r\nQ 41.3125 65.921875 37.59375 65.921875 \r\nQ 27.828125 65.921875 22.671875 59.328125 \r\nQ 17.53125 52.734375 16.796875 39.40625 \r\nQ 19.671875 43.65625 24.015625 45.921875 \r\nQ 28.375 48.1875 33.59375 48.1875 \r\nQ 44.578125 48.1875 50.953125 41.515625 \r\nQ 57.328125 34.859375 57.328125 23.390625 \r\nQ 57.328125 12.15625 50.6875 5.359375 \r\nQ 44.046875 -1.421875 33.015625 -1.421875 \r\nQ 20.359375 -1.421875 13.671875 8.265625 \r\nQ 6.984375 17.96875 6.984375 36.375 \r\nQ 6.984375 53.65625 15.1875 63.9375 \r\nQ 23.390625 74.21875 37.203125 74.21875 \r\nQ 40.921875 74.21875 44.703125 73.484375 \r\nQ 48.484375 72.75 52.59375 71.296875 \r\nz\r\n\" id=\"DejaVuSans-54\"/>\r\n       </defs>\r\n       <use xlink:href=\"#DejaVuSans-54\"/>\r\n       <use x=\"63.623047\" xlink:href=\"#DejaVuSans-48\"/>\r\n       <use x=\"127.246094\" xlink:href=\"#DejaVuSans-48\"/>\r\n       <use x=\"190.869141\" xlink:href=\"#DejaVuSans-48\"/>\r\n      </g>\r\n     </g>\r\n    </g>\r\n    <g id=\"ytick_8\">\r\n     <g id=\"line2d_19\">\r\n      <g>\r\n       <use style=\"stroke:#000000;stroke-width:0.8;\" x=\"53.328125\" xlink:href=\"#m8215a1cb5d\" y=\"26.390315\"/>\r\n      </g>\r\n     </g>\r\n     <g id=\"text_20\">\r\n      <!-- 7000 -->\r\n      <g transform=\"translate(20.878125 30.189534)scale(0.1 -0.1)\">\r\n       <defs>\r\n        <path d=\"M 8.203125 72.90625 \r\nL 55.078125 72.90625 \r\nL 55.078125 68.703125 \r\nL 28.609375 0 \r\nL 18.3125 0 \r\nL 43.21875 64.59375 \r\nL 8.203125 64.59375 \r\nz\r\n\" id=\"DejaVuSans-55\"/>\r\n       </defs>\r\n       <use xlink:href=\"#DejaVuSans-55\"/>\r\n       <use x=\"63.623047\" xlink:href=\"#DejaVuSans-48\"/>\r\n       <use x=\"127.246094\" xlink:href=\"#DejaVuSans-48\"/>\r\n       <use x=\"190.869141\" xlink:href=\"#DejaVuSans-48\"/>\r\n      </g>\r\n     </g>\r\n    </g>\r\n    <g id=\"text_21\">\r\n     <!-- count -->\r\n     <g transform=\"translate(14.798438 182.00625)rotate(-90)scale(0.1 -0.1)\">\r\n      <use xlink:href=\"#DejaVuSans-99\"/>\r\n      <use x=\"54.980469\" xlink:href=\"#DejaVuSans-111\"/>\r\n      <use x=\"116.162109\" xlink:href=\"#DejaVuSans-117\"/>\r\n      <use x=\"179.541016\" xlink:href=\"#DejaVuSans-110\"/>\r\n      <use x=\"242.919922\" xlink:href=\"#DejaVuSans-116\"/>\r\n     </g>\r\n    </g>\r\n   </g>\r\n   <g id=\"patch_14\">\r\n    <path d=\"M 53.328125 328.6 \r\nL 53.328125 7.2 \r\n\" style=\"fill:none;stroke:#000000;stroke-linecap:square;stroke-linejoin:miter;stroke-width:0.8;\"/>\r\n   </g>\r\n   <g id=\"patch_15\">\r\n    <path d=\"M 53.328125 328.6 \r\nL 354.450852 328.6 \r\n\" style=\"fill:none;stroke:#000000;stroke-linecap:square;stroke-linejoin:miter;stroke-width:0.8;\"/>\r\n   </g>\r\n  </g>\r\n </g>\r\n <defs>\r\n  <clipPath id=\"pac26a98ece\">\r\n   <rect height=\"321.4\" width=\"301.122727\" x=\"53.328125\" y=\"7.2\"/>\r\n  </clipPath>\r\n </defs>\r\n</svg>\r\n",
      "image/png": "[encoded data removed]"
     },
     "metadata": {
      "needs_background": "light"
     }
    }
   ],
   "source": [
    "sns.catplot(x=\"closest_genre\", kind=\"count\", palette=\"ch:.25\", data=lyrics)"
   ]
  },
  {
   "cell_type": "code",
   "execution_count": 7,
   "metadata": {},
   "outputs": [
    {
     "output_type": "execute_result",
     "data": {
      "text/plain": [
       "closest_genre\n",
       "Reggae         102\n",
       "Metal          283\n",
       "Electronic     398\n",
       "Country        506\n",
       "Punk           519\n",
       "Folk           619\n",
       "Pop            824\n",
       "Hip Hop        841\n",
       "Blues         1326\n",
       "Jazz          1423\n",
       "Rock          6306\n",
       "Name: song_name, dtype: int64"
      ]
     },
     "metadata": {},
     "execution_count": 7
    }
   ],
   "source": [
    "lyrics.groupby('closest_genre')['song_name'].nunique().sort_values()"
   ]
  },
  {
   "cell_type": "code",
   "execution_count": 8,
   "metadata": {},
   "outputs": [
    {
     "output_type": "execute_result",
     "data": {
      "text/plain": [
       "closest_genre\n",
       "Electronic     600\n",
       "Reggae         722\n",
       "Punk           724\n",
       "Metal          809\n",
       "Blues          845\n",
       "Jazz           857\n",
       "Country        923\n",
       "Pop           1003\n",
       "Rock          1451\n",
       "Hip Hop       1543\n",
       "Folk          2634\n",
       "Name: length_lyric, dtype: int64"
      ]
     },
     "metadata": {},
     "execution_count": 8
    }
   ],
   "source": [
    "lyrics.groupby('closest_genre')['length_lyric'].max().sort_values()"
   ]
  },
  {
   "cell_type": "code",
   "execution_count": 9,
   "metadata": {},
   "outputs": [
    {
     "output_type": "execute_result",
     "data": {
      "text/plain": [
       "closest_genre\n",
       "Blues          4\n",
       "Jazz           4\n",
       "Electronic     5\n",
       "Hip Hop        6\n",
       "Punk           6\n",
       "Rock           6\n",
       "Pop            7\n",
       "Folk          25\n",
       "Metal         33\n",
       "Country       57\n",
       "Reggae        71\n",
       "Name: length_lyric, dtype: int64"
      ]
     },
     "metadata": {},
     "execution_count": 9
    }
   ],
   "source": [
    "lyrics.groupby('closest_genre')['length_lyric'].min().sort_values()"
   ]
  },
  {
   "cell_type": "code",
   "execution_count": 10,
   "metadata": {},
   "outputs": [
    {
     "output_type": "execute_result",
     "data": {
      "text/plain": [
       "                count        mean         std   min    25%    50%    75%  \\\n",
       "closest_genre                                                              \n",
       "Blues          1524.0  224.795276  109.517494   4.0  154.0  204.0  271.0   \n",
       "Country         578.0  225.060554  104.462633  57.0  160.0  203.0  264.0   \n",
       "Electronic      434.0  234.119816   92.921256   5.0  165.5  226.5  286.0   \n",
       "Folk            675.0  233.680000  156.363937  25.0  157.0  206.0  268.5   \n",
       "Hip Hop         891.0  440.120090  231.989433   6.0  252.0  417.0  611.0   \n",
       "Jazz           1900.0  174.035263   91.202391   4.0  114.0  152.0  214.0   \n",
       "Metal           313.0  208.738019   93.930220  33.0  147.0  195.0  245.0   \n",
       "Pop             926.0  256.767819  119.436031   7.0  178.0  233.5  313.0   \n",
       "Punk            548.0  219.016423  103.923232   6.0  144.0  205.0  273.0   \n",
       "Reggae          121.0  254.272727  117.861006  71.0  176.0  219.0  313.0   \n",
       "Rock           7090.0  214.029055   95.186119   6.0  150.0  202.0  261.0   \n",
       "\n",
       "                  max  \n",
       "closest_genre          \n",
       "Blues           845.0  \n",
       "Country         923.0  \n",
       "Electronic      600.0  \n",
       "Folk           2634.0  \n",
       "Hip Hop        1543.0  \n",
       "Jazz            857.0  \n",
       "Metal           809.0  \n",
       "Pop            1003.0  \n",
       "Punk            724.0  \n",
       "Reggae          722.0  \n",
       "Rock           1451.0  "
      ],
      "text/html": "<div>\n<style scoped>\n    .dataframe tbody tr th:only-of-type {\n        vertical-align: middle;\n    }\n\n    .dataframe tbody tr th {\n        vertical-align: top;\n    }\n\n    .dataframe thead th {\n        text-align: right;\n    }\n</style>\n<table border=\"1\" class=\"dataframe\">\n  <thead>\n    <tr style=\"text-align: right;\">\n      <th></th>\n      <th>count</th>\n      <th>mean</th>\n      <th>std</th>\n      <th>min</th>\n      <th>25%</th>\n      <th>50%</th>\n      <th>75%</th>\n      <th>max</th>\n    </tr>\n    <tr>\n      <th>closest_genre</th>\n      <th></th>\n      <th></th>\n      <th></th>\n      <th></th>\n      <th></th>\n      <th></th>\n      <th></th>\n      <th></th>\n    </tr>\n  </thead>\n  <tbody>\n    <tr>\n      <th>Blues</th>\n      <td>1524.0</td>\n      <td>224.795276</td>\n      <td>109.517494</td>\n      <td>4.0</td>\n      <td>154.0</td>\n      <td>204.0</td>\n      <td>271.0</td>\n      <td>845.0</td>\n    </tr>\n    <tr>\n      <th>Country</th>\n      <td>578.0</td>\n      <td>225.060554</td>\n      <td>104.462633</td>\n      <td>57.0</td>\n      <td>160.0</td>\n      <td>203.0</td>\n      <td>264.0</td>\n      <td>923.0</td>\n    </tr>\n    <tr>\n      <th>Electronic</th>\n      <td>434.0</td>\n      <td>234.119816</td>\n      <td>92.921256</td>\n      <td>5.0</td>\n      <td>165.5</td>\n      <td>226.5</td>\n      <td>286.0</td>\n      <td>600.0</td>\n    </tr>\n    <tr>\n      <th>Folk</th>\n      <td>675.0</td>\n      <td>233.680000</td>\n      <td>156.363937</td>\n      <td>25.0</td>\n      <td>157.0</td>\n      <td>206.0</td>\n      <td>268.5</td>\n      <td>2634.0</td>\n    </tr>\n    <tr>\n      <th>Hip Hop</th>\n      <td>891.0</td>\n      <td>440.120090</td>\n      <td>231.989433</td>\n      <td>6.0</td>\n      <td>252.0</td>\n      <td>417.0</td>\n      <td>611.0</td>\n      <td>1543.0</td>\n    </tr>\n    <tr>\n      <th>Jazz</th>\n      <td>1900.0</td>\n      <td>174.035263</td>\n      <td>91.202391</td>\n      <td>4.0</td>\n      <td>114.0</td>\n      <td>152.0</td>\n      <td>214.0</td>\n      <td>857.0</td>\n    </tr>\n    <tr>\n      <th>Metal</th>\n      <td>313.0</td>\n      <td>208.738019</td>\n      <td>93.930220</td>\n      <td>33.0</td>\n      <td>147.0</td>\n      <td>195.0</td>\n      <td>245.0</td>\n      <td>809.0</td>\n    </tr>\n    <tr>\n      <th>Pop</th>\n      <td>926.0</td>\n      <td>256.767819</td>\n      <td>119.436031</td>\n      <td>7.0</td>\n      <td>178.0</td>\n      <td>233.5</td>\n      <td>313.0</td>\n      <td>1003.0</td>\n    </tr>\n    <tr>\n      <th>Punk</th>\n      <td>548.0</td>\n      <td>219.016423</td>\n      <td>103.923232</td>\n      <td>6.0</td>\n      <td>144.0</td>\n      <td>205.0</td>\n      <td>273.0</td>\n      <td>724.0</td>\n    </tr>\n    <tr>\n      <th>Reggae</th>\n      <td>121.0</td>\n      <td>254.272727</td>\n      <td>117.861006</td>\n      <td>71.0</td>\n      <td>176.0</td>\n      <td>219.0</td>\n      <td>313.0</td>\n      <td>722.0</td>\n    </tr>\n    <tr>\n      <th>Rock</th>\n      <td>7090.0</td>\n      <td>214.029055</td>\n      <td>95.186119</td>\n      <td>6.0</td>\n      <td>150.0</td>\n      <td>202.0</td>\n      <td>261.0</td>\n      <td>1451.0</td>\n    </tr>\n  </tbody>\n</table>\n</div>"
     },
     "metadata": {},
     "execution_count": 10
    }
   ],
   "source": [
    "lyrics.groupby('closest_genre')['length_lyric'].describe()"
   ]
  },
  {
   "source": [
    "Keterangan sebaran dari ukuran panjang lirik dari masing-masing genre"
   ],
   "cell_type": "markdown",
   "metadata": {}
  },
  {
   "cell_type": "code",
   "execution_count": 11,
   "metadata": {},
   "outputs": [
    {
     "output_type": "execute_result",
     "data": {
      "text/plain": [
       "Blues              AxesSubplot(0.1,0.736957;0.235294x0.163043)\n",
       "Country       AxesSubplot(0.382353,0.736957;0.235294x0.163043)\n",
       "Electronic    AxesSubplot(0.664706,0.736957;0.235294x0.163043)\n",
       "Folk               AxesSubplot(0.1,0.541304;0.235294x0.163043)\n",
       "Hip Hop       AxesSubplot(0.382353,0.541304;0.235294x0.163043)\n",
       "Jazz          AxesSubplot(0.664706,0.541304;0.235294x0.163043)\n",
       "Metal              AxesSubplot(0.1,0.345652;0.235294x0.163043)\n",
       "Pop           AxesSubplot(0.382353,0.345652;0.235294x0.163043)\n",
       "Punk          AxesSubplot(0.664706,0.345652;0.235294x0.163043)\n",
       "Reggae                 AxesSubplot(0.1,0.15;0.235294x0.163043)\n",
       "Rock              AxesSubplot(0.382353,0.15;0.235294x0.163043)\n",
       "dtype: object"
      ]
     },
     "metadata": {},
     "execution_count": 11
    },
    {
     "output_type": "display_data",
     "data": {
      "text/plain": "<Figure size 1296x1440 with 12 Axes>",
      "image/svg+xml": "<?xml version=\"1.0\" encoding=\"utf-8\" standalone=\"no\"?>\r\n<!DOCTYPE svg PUBLIC \"-//W3C//DTD SVG 1.1//EN\"\r\n  \"http://www.w3.org/Graphics/SVG/1.1/DTD/svg11.dtd\">\r\n<!-- Created with matplotlib (https://matplotlib.org/) -->\r\n<svg height=\"1126.474375pt\" version=\"1.1\" viewBox=\"0 0 1083.65 1126.474375\" width=\"1083.65pt\" xmlns=\"http://www.w3.org/2000/svg\" xmlns:xlink=\"http://www.w3.org/1999/xlink\">\r\n <metadata>\r\n  <rdf:RDF xmlns:cc=\"http://creativecommons.org/ns#\" xmlns:dc=\"http://purl.org/dc/elements/1.1/\" xmlns:rdf=\"http://www.w3.org/1999/02/22-rdf-syntax-ns#\">\r\n   <cc:Work>\r\n    <dc:type rdf:resource=\"http://purl.org/dc/dcmitype/StillImage\"/>\r\n    <dc:date>2021-02-14T18:21:40.298312</dc:date>\r\n    <dc:format>image/svg+xml</dc:format>\r\n    <dc:creator>\r\n     <cc:Agent>\r\n      <dc:title>Matplotlib v3.3.2, https://matplotlib.org/</dc:title>\r\n     </cc:Agent>\r\n    </dc:creator>\r\n   </cc:Work>\r\n  </rdf:RDF>\r\n </metadata>\r\n <defs>\r\n  <style type=\"text/css\">*{stroke-linecap:butt;stroke-linejoin:round;}</style>\r\n </defs>\r\n <g id=\"figure_1\">\r\n  <g id=\"patch_1\">\r\n   <path d=\"M 0 1126.474375 \r\nL 1083.65 1126.474375 \r\nL 1083.65 0 \r\nL 0 0 \r\nz\r\n\" style=\"fill:none;\"/>\r\n  </g>\r\n  <g id=\"axes_1\">\r\n   <g id=\"patch_2\">\r\n    <path d=\"M 39.65 257.100734 \r\nL 344.591176 257.100734 \r\nL 344.591176 22.318125 \r\nL 39.65 22.318125 \r\nz\r\n\" style=\"fill:#ffffff;\"/>\r\n   </g>\r\n   <g id=\"matplotlib.axis_1\">\r\n    <g id=\"xtick_1\">\r\n     <g id=\"line2d_1\">\r\n      <path clip-path=\"url(#p34c5865a43)\" d=\"M 192.120588 257.100734 \r\nL 192.120588 22.318125 \r\n\" style=\"fill:none;stroke:#b0b0b0;stroke-linecap:square;stroke-width:0.8;\"/>\r\n     </g>\r\n     <g id=\"line2d_2\">\r\n      <defs>\r\n       <path d=\"M 0 0 \r\nL 0 3.5 \r\n\" id=\"m38de8124e7\" style=\"stroke:#000000;stroke-width:0.8;\"/>\r\n      </defs>\r\n      <g>\r\n       <use style=\"stroke:#000000;stroke-width:0.8;\" x=\"192.120588\" xlink:href=\"#m38de8124e7\" y=\"257.100734\"/>\r\n      </g>\r\n     </g>\r\n     <g id=\"text_1\">\r\n      <!-- length_lyric -->\r\n      <g transform=\"translate(163.140901 271.699171)scale(0.1 -0.1)\">\r\n       <defs>\r\n        <path d=\"M 9.421875 75.984375 \r\nL 18.40625 75.984375 \r\nL 18.40625 0 \r\nL 9.421875 0 \r\nz\r\n\" id=\"DejaVuSans-108\"/>\r\n        <path d=\"M 56.203125 29.59375 \r\nL 56.203125 25.203125 \r\nL 14.890625 25.203125 \r\nQ 15.484375 15.921875 20.484375 11.0625 \r\nQ 25.484375 6.203125 34.421875 6.203125 \r\nQ 39.59375 6.203125 44.453125 7.46875 \r\nQ 49.3125 8.734375 54.109375 11.28125 \r\nL 54.109375 2.78125 \r\nQ 49.265625 0.734375 44.1875 -0.34375 \r\nQ 39.109375 -1.421875 33.890625 -1.421875 \r\nQ 20.796875 -1.421875 13.15625 6.1875 \r\nQ 5.515625 13.8125 5.515625 26.8125 \r\nQ 5.515625 40.234375 12.765625 48.109375 \r\nQ 20.015625 56 32.328125 56 \r\nQ 43.359375 56 49.78125 48.890625 \r\nQ 56.203125 41.796875 56.203125 29.59375 \r\nz\r\nM 47.21875 32.234375 \r\nQ 47.125 39.59375 43.09375 43.984375 \r\nQ 39.0625 48.390625 32.421875 48.390625 \r\nQ 24.90625 48.390625 20.390625 44.140625 \r\nQ 15.875 39.890625 15.1875 32.171875 \r\nz\r\n\" id=\"DejaVuSans-101\"/>\r\n        <path d=\"M 54.890625 33.015625 \r\nL 54.890625 0 \r\nL 45.90625 0 \r\nL 45.90625 32.71875 \r\nQ 45.90625 40.484375 42.875 44.328125 \r\nQ 39.84375 48.1875 33.796875 48.1875 \r\nQ 26.515625 48.1875 22.3125 43.546875 \r\nQ 18.109375 38.921875 18.109375 30.90625 \r\nL 18.109375 0 \r\nL 9.078125 0 \r\nL 9.078125 54.6875 \r\nL 18.109375 54.6875 \r\nL 18.109375 46.1875 \r\nQ 21.34375 51.125 25.703125 53.5625 \r\nQ 30.078125 56 35.796875 56 \r\nQ 45.21875 56 50.046875 50.171875 \r\nQ 54.890625 44.34375 54.890625 33.015625 \r\nz\r\n\" id=\"DejaVuSans-110\"/>\r\n        <path d=\"M 45.40625 27.984375 \r\nQ 45.40625 37.75 41.375 43.109375 \r\nQ 37.359375 48.484375 30.078125 48.484375 \r\nQ 22.859375 48.484375 18.828125 43.109375 \r\nQ 14.796875 37.75 14.796875 27.984375 \r\nQ 14.796875 18.265625 18.828125 12.890625 \r\nQ 22.859375 7.515625 30.078125 7.515625 \r\nQ 37.359375 7.515625 41.375 12.890625 \r\nQ 45.40625 18.265625 45.40625 27.984375 \r\nz\r\nM 54.390625 6.78125 \r\nQ 54.390625 -7.171875 48.1875 -13.984375 \r\nQ 42 -20.796875 29.203125 -20.796875 \r\nQ 24.46875 -20.796875 20.265625 -20.09375 \r\nQ 16.0625 -19.390625 12.109375 -17.921875 \r\nL 12.109375 -9.1875 \r\nQ 16.0625 -11.328125 19.921875 -12.34375 \r\nQ 23.78125 -13.375 27.78125 -13.375 \r\nQ 36.625 -13.375 41.015625 -8.765625 \r\nQ 45.40625 -4.15625 45.40625 5.171875 \r\nL 45.40625 9.625 \r\nQ 42.625 4.78125 38.28125 2.390625 \r\nQ 33.9375 0 27.875 0 \r\nQ 17.828125 0 11.671875 7.65625 \r\nQ 5.515625 15.328125 5.515625 27.984375 \r\nQ 5.515625 40.671875 11.671875 48.328125 \r\nQ 17.828125 56 27.875 56 \r\nQ 33.9375 56 38.28125 53.609375 \r\nQ 42.625 51.21875 45.40625 46.390625 \r\nL 45.40625 54.6875 \r\nL 54.390625 54.6875 \r\nz\r\n\" id=\"DejaVuSans-103\"/>\r\n        <path d=\"M 18.3125 70.21875 \r\nL 18.3125 54.6875 \r\nL 36.8125 54.6875 \r\nL 36.8125 47.703125 \r\nL 18.3125 47.703125 \r\nL 18.3125 18.015625 \r\nQ 18.3125 11.328125 20.140625 9.421875 \r\nQ 21.96875 7.515625 27.59375 7.515625 \r\nL 36.8125 7.515625 \r\nL 36.8125 0 \r\nL 27.59375 0 \r\nQ 17.1875 0 13.234375 3.875 \r\nQ 9.28125 7.765625 9.28125 18.015625 \r\nL 9.28125 47.703125 \r\nL 2.6875 47.703125 \r\nL 2.6875 54.6875 \r\nL 9.28125 54.6875 \r\nL 9.28125 70.21875 \r\nz\r\n\" id=\"DejaVuSans-116\"/>\r\n        <path d=\"M 54.890625 33.015625 \r\nL 54.890625 0 \r\nL 45.90625 0 \r\nL 45.90625 32.71875 \r\nQ 45.90625 40.484375 42.875 44.328125 \r\nQ 39.84375 48.1875 33.796875 48.1875 \r\nQ 26.515625 48.1875 22.3125 43.546875 \r\nQ 18.109375 38.921875 18.109375 30.90625 \r\nL 18.109375 0 \r\nL 9.078125 0 \r\nL 9.078125 75.984375 \r\nL 18.109375 75.984375 \r\nL 18.109375 46.1875 \r\nQ 21.34375 51.125 25.703125 53.5625 \r\nQ 30.078125 56 35.796875 56 \r\nQ 45.21875 56 50.046875 50.171875 \r\nQ 54.890625 44.34375 54.890625 33.015625 \r\nz\r\n\" id=\"DejaVuSans-104\"/>\r\n        <path d=\"M 50.984375 -16.609375 \r\nL 50.984375 -23.578125 \r\nL -0.984375 -23.578125 \r\nL -0.984375 -16.609375 \r\nz\r\n\" id=\"DejaVuSans-95\"/>\r\n        <path d=\"M 32.171875 -5.078125 \r\nQ 28.375 -14.84375 24.75 -17.8125 \r\nQ 21.140625 -20.796875 15.09375 -20.796875 \r\nL 7.90625 -20.796875 \r\nL 7.90625 -13.28125 \r\nL 13.1875 -13.28125 \r\nQ 16.890625 -13.28125 18.9375 -11.515625 \r\nQ 21 -9.765625 23.484375 -3.21875 \r\nL 25.09375 0.875 \r\nL 2.984375 54.6875 \r\nL 12.5 54.6875 \r\nL 29.59375 11.921875 \r\nL 46.6875 54.6875 \r\nL 56.203125 54.6875 \r\nz\r\n\" id=\"DejaVuSans-121\"/>\r\n        <path d=\"M 41.109375 46.296875 \r\nQ 39.59375 47.171875 37.8125 47.578125 \r\nQ 36.03125 48 33.890625 48 \r\nQ 26.265625 48 22.1875 43.046875 \r\nQ 18.109375 38.09375 18.109375 28.8125 \r\nL 18.109375 0 \r\nL 9.078125 0 \r\nL 9.078125 54.6875 \r\nL 18.109375 54.6875 \r\nL 18.109375 46.1875 \r\nQ 20.953125 51.171875 25.484375 53.578125 \r\nQ 30.03125 56 36.53125 56 \r\nQ 37.453125 56 38.578125 55.875 \r\nQ 39.703125 55.765625 41.0625 55.515625 \r\nz\r\n\" id=\"DejaVuSans-114\"/>\r\n        <path d=\"M 9.421875 54.6875 \r\nL 18.40625 54.6875 \r\nL 18.40625 0 \r\nL 9.421875 0 \r\nz\r\nM 9.421875 75.984375 \r\nL 18.40625 75.984375 \r\nL 18.40625 64.59375 \r\nL 9.421875 64.59375 \r\nz\r\n\" id=\"DejaVuSans-105\"/>\r\n        <path d=\"M 48.78125 52.59375 \r\nL 48.78125 44.1875 \r\nQ 44.96875 46.296875 41.140625 47.34375 \r\nQ 37.3125 48.390625 33.40625 48.390625 \r\nQ 24.65625 48.390625 19.8125 42.84375 \r\nQ 14.984375 37.3125 14.984375 27.296875 \r\nQ 14.984375 17.28125 19.8125 11.734375 \r\nQ 24.65625 6.203125 33.40625 6.203125 \r\nQ 37.3125 6.203125 41.140625 7.25 \r\nQ 44.96875 8.296875 48.78125 10.40625 \r\nL 48.78125 2.09375 \r\nQ 45.015625 0.34375 40.984375 -0.53125 \r\nQ 36.96875 -1.421875 32.421875 -1.421875 \r\nQ 20.0625 -1.421875 12.78125 6.34375 \r\nQ 5.515625 14.109375 5.515625 27.296875 \r\nQ 5.515625 40.671875 12.859375 48.328125 \r\nQ 20.21875 56 33.015625 56 \r\nQ 37.15625 56 41.109375 55.140625 \r\nQ 45.0625 54.296875 48.78125 52.59375 \r\nz\r\n\" id=\"DejaVuSans-99\"/>\r\n       </defs>\r\n       <use xlink:href=\"#DejaVuSans-108\"/>\r\n       <use x=\"27.783203\" xlink:href=\"#DejaVuSans-101\"/>\r\n       <use x=\"89.306641\" xlink:href=\"#DejaVuSans-110\"/>\r\n       <use x=\"152.685547\" xlink:href=\"#DejaVuSans-103\"/>\r\n       <use x=\"216.162109\" xlink:href=\"#DejaVuSans-116\"/>\r\n       <use x=\"255.371094\" xlink:href=\"#DejaVuSans-104\"/>\r\n       <use x=\"318.75\" xlink:href=\"#DejaVuSans-95\"/>\r\n       <use x=\"368.75\" xlink:href=\"#DejaVuSans-108\"/>\r\n       <use x=\"396.533203\" xlink:href=\"#DejaVuSans-121\"/>\r\n       <use x=\"455.712891\" xlink:href=\"#DejaVuSans-114\"/>\r\n       <use x=\"496.826172\" xlink:href=\"#DejaVuSans-105\"/>\r\n       <use x=\"524.609375\" xlink:href=\"#DejaVuSans-99\"/>\r\n      </g>\r\n     </g>\r\n    </g>\r\n   </g>\r\n   <g id=\"matplotlib.axis_2\">\r\n    <g id=\"ytick_1\">\r\n     <g id=\"line2d_3\">\r\n      <path clip-path=\"url(#p34c5865a43)\" d=\"M 39.65 246.753419 \r\nL 344.591176 246.753419 \r\n\" style=\"fill:none;stroke:#b0b0b0;stroke-linecap:square;stroke-width:0.8;\"/>\r\n     </g>\r\n     <g id=\"line2d_4\">\r\n      <defs>\r\n       <path d=\"M 0 0 \r\nL -3.5 0 \r\n\" id=\"ma85e649b5b\" style=\"stroke:#000000;stroke-width:0.8;\"/>\r\n      </defs>\r\n      <g>\r\n       <use style=\"stroke:#000000;stroke-width:0.8;\" x=\"39.65\" xlink:href=\"#ma85e649b5b\" y=\"246.753419\"/>\r\n      </g>\r\n     </g>\r\n     <g id=\"text_2\">\r\n      <!-- 0 -->\r\n      <g transform=\"translate(26.2875 250.552637)scale(0.1 -0.1)\">\r\n       <defs>\r\n        <path d=\"M 31.78125 66.40625 \r\nQ 24.171875 66.40625 20.328125 58.90625 \r\nQ 16.5 51.421875 16.5 36.375 \r\nQ 16.5 21.390625 20.328125 13.890625 \r\nQ 24.171875 6.390625 31.78125 6.390625 \r\nQ 39.453125 6.390625 43.28125 13.890625 \r\nQ 47.125 21.390625 47.125 36.375 \r\nQ 47.125 51.421875 43.28125 58.90625 \r\nQ 39.453125 66.40625 31.78125 66.40625 \r\nz\r\nM 31.78125 74.21875 \r\nQ 44.046875 74.21875 50.515625 64.515625 \r\nQ 56.984375 54.828125 56.984375 36.375 \r\nQ 56.984375 17.96875 50.515625 8.265625 \r\nQ 44.046875 -1.421875 31.78125 -1.421875 \r\nQ 19.53125 -1.421875 13.0625 8.265625 \r\nQ 6.59375 17.96875 6.59375 36.375 \r\nQ 6.59375 54.828125 13.0625 64.515625 \r\nQ 19.53125 74.21875 31.78125 74.21875 \r\nz\r\n\" id=\"DejaVuSans-48\"/>\r\n       </defs>\r\n       <use xlink:href=\"#DejaVuSans-48\"/>\r\n      </g>\r\n     </g>\r\n    </g>\r\n    <g id=\"ytick_2\">\r\n     <g id=\"line2d_5\">\r\n      <path clip-path=\"url(#p34c5865a43)\" d=\"M 39.65 206.175712 \r\nL 344.591176 206.175712 \r\n\" style=\"fill:none;stroke:#b0b0b0;stroke-linecap:square;stroke-width:0.8;\"/>\r\n     </g>\r\n     <g id=\"line2d_6\">\r\n      <g>\r\n       <use style=\"stroke:#000000;stroke-width:0.8;\" x=\"39.65\" xlink:href=\"#ma85e649b5b\" y=\"206.175712\"/>\r\n      </g>\r\n     </g>\r\n     <g id=\"text_3\">\r\n      <!-- 500 -->\r\n      <g transform=\"translate(13.5625 209.974931)scale(0.1 -0.1)\">\r\n       <defs>\r\n        <path d=\"M 10.796875 72.90625 \r\nL 49.515625 72.90625 \r\nL 49.515625 64.59375 \r\nL 19.828125 64.59375 \r\nL 19.828125 46.734375 \r\nQ 21.96875 47.46875 24.109375 47.828125 \r\nQ 26.265625 48.1875 28.421875 48.1875 \r\nQ 40.625 48.1875 47.75 41.5 \r\nQ 54.890625 34.8125 54.890625 23.390625 \r\nQ 54.890625 11.625 47.5625 5.09375 \r\nQ 40.234375 -1.421875 26.90625 -1.421875 \r\nQ 22.3125 -1.421875 17.546875 -0.640625 \r\nQ 12.796875 0.140625 7.71875 1.703125 \r\nL 7.71875 11.625 \r\nQ 12.109375 9.234375 16.796875 8.0625 \r\nQ 21.484375 6.890625 26.703125 6.890625 \r\nQ 35.15625 6.890625 40.078125 11.328125 \r\nQ 45.015625 15.765625 45.015625 23.390625 \r\nQ 45.015625 31 40.078125 35.4375 \r\nQ 35.15625 39.890625 26.703125 39.890625 \r\nQ 22.75 39.890625 18.8125 39.015625 \r\nQ 14.890625 38.140625 10.796875 36.28125 \r\nz\r\n\" id=\"DejaVuSans-53\"/>\r\n       </defs>\r\n       <use xlink:href=\"#DejaVuSans-53\"/>\r\n       <use x=\"63.623047\" xlink:href=\"#DejaVuSans-48\"/>\r\n       <use x=\"127.246094\" xlink:href=\"#DejaVuSans-48\"/>\r\n      </g>\r\n     </g>\r\n    </g>\r\n    <g id=\"ytick_3\">\r\n     <g id=\"line2d_7\">\r\n      <path clip-path=\"url(#p34c5865a43)\" d=\"M 39.65 165.598006 \r\nL 344.591176 165.598006 \r\n\" style=\"fill:none;stroke:#b0b0b0;stroke-linecap:square;stroke-width:0.8;\"/>\r\n     </g>\r\n     <g id=\"line2d_8\">\r\n      <g>\r\n       <use style=\"stroke:#000000;stroke-width:0.8;\" x=\"39.65\" xlink:href=\"#ma85e649b5b\" y=\"165.598006\"/>\r\n      </g>\r\n     </g>\r\n     <g id=\"text_4\">\r\n      <!-- 1000 -->\r\n      <g transform=\"translate(7.2 169.397225)scale(0.1 -0.1)\">\r\n       <defs>\r\n        <path d=\"M 12.40625 8.296875 \r\nL 28.515625 8.296875 \r\nL 28.515625 63.921875 \r\nL 10.984375 60.40625 \r\nL 10.984375 69.390625 \r\nL 28.421875 72.90625 \r\nL 38.28125 72.90625 \r\nL 38.28125 8.296875 \r\nL 54.390625 8.296875 \r\nL 54.390625 0 \r\nL 12.40625 0 \r\nz\r\n\" id=\"DejaVuSans-49\"/>\r\n       </defs>\r\n       <use xlink:href=\"#DejaVuSans-49\"/>\r\n       <use x=\"63.623047\" xlink:href=\"#DejaVuSans-48\"/>\r\n       <use x=\"127.246094\" xlink:href=\"#DejaVuSans-48\"/>\r\n       <use x=\"190.869141\" xlink:href=\"#DejaVuSans-48\"/>\r\n      </g>\r\n     </g>\r\n    </g>\r\n    <g id=\"ytick_4\">\r\n     <g id=\"line2d_9\">\r\n      <path clip-path=\"url(#p34c5865a43)\" d=\"M 39.65 125.0203 \r\nL 344.591176 125.0203 \r\n\" style=\"fill:none;stroke:#b0b0b0;stroke-linecap:square;stroke-width:0.8;\"/>\r\n     </g>\r\n     <g id=\"line2d_10\">\r\n      <g>\r\n       <use style=\"stroke:#000000;stroke-width:0.8;\" x=\"39.65\" xlink:href=\"#ma85e649b5b\" y=\"125.0203\"/>\r\n      </g>\r\n     </g>\r\n     <g id=\"text_5\">\r\n      <!-- 1500 -->\r\n      <g transform=\"translate(7.2 128.819518)scale(0.1 -0.1)\">\r\n       <use xlink:href=\"#DejaVuSans-49\"/>\r\n       <use x=\"63.623047\" xlink:href=\"#DejaVuSans-53\"/>\r\n       <use x=\"127.246094\" xlink:href=\"#DejaVuSans-48\"/>\r\n       <use x=\"190.869141\" xlink:href=\"#DejaVuSans-48\"/>\r\n      </g>\r\n     </g>\r\n    </g>\r\n    <g id=\"ytick_5\">\r\n     <g id=\"line2d_11\">\r\n      <path clip-path=\"url(#p34c5865a43)\" d=\"M 39.65 84.442593 \r\nL 344.591176 84.442593 \r\n\" style=\"fill:none;stroke:#b0b0b0;stroke-linecap:square;stroke-width:0.8;\"/>\r\n     </g>\r\n     <g id=\"line2d_12\">\r\n      <g>\r\n       <use style=\"stroke:#000000;stroke-width:0.8;\" x=\"39.65\" xlink:href=\"#ma85e649b5b\" y=\"84.442593\"/>\r\n      </g>\r\n     </g>\r\n     <g id=\"text_6\">\r\n      <!-- 2000 -->\r\n      <g transform=\"translate(7.2 88.241812)scale(0.1 -0.1)\">\r\n       <defs>\r\n        <path d=\"M 19.1875 8.296875 \r\nL 53.609375 8.296875 \r\nL 53.609375 0 \r\nL 7.328125 0 \r\nL 7.328125 8.296875 \r\nQ 12.9375 14.109375 22.625 23.890625 \r\nQ 32.328125 33.6875 34.8125 36.53125 \r\nQ 39.546875 41.84375 41.421875 45.53125 \r\nQ 43.3125 49.21875 43.3125 52.78125 \r\nQ 43.3125 58.59375 39.234375 62.25 \r\nQ 35.15625 65.921875 28.609375 65.921875 \r\nQ 23.96875 65.921875 18.8125 64.3125 \r\nQ 13.671875 62.703125 7.8125 59.421875 \r\nL 7.8125 69.390625 \r\nQ 13.765625 71.78125 18.9375 73 \r\nQ 24.125 74.21875 28.421875 74.21875 \r\nQ 39.75 74.21875 46.484375 68.546875 \r\nQ 53.21875 62.890625 53.21875 53.421875 \r\nQ 53.21875 48.921875 51.53125 44.890625 \r\nQ 49.859375 40.875 45.40625 35.40625 \r\nQ 44.1875 33.984375 37.640625 27.21875 \r\nQ 31.109375 20.453125 19.1875 8.296875 \r\nz\r\n\" id=\"DejaVuSans-50\"/>\r\n       </defs>\r\n       <use xlink:href=\"#DejaVuSans-50\"/>\r\n       <use x=\"63.623047\" xlink:href=\"#DejaVuSans-48\"/>\r\n       <use x=\"127.246094\" xlink:href=\"#DejaVuSans-48\"/>\r\n       <use x=\"190.869141\" xlink:href=\"#DejaVuSans-48\"/>\r\n      </g>\r\n     </g>\r\n    </g>\r\n    <g id=\"ytick_6\">\r\n     <g id=\"line2d_13\">\r\n      <path clip-path=\"url(#p34c5865a43)\" d=\"M 39.65 43.864887 \r\nL 344.591176 43.864887 \r\n\" style=\"fill:none;stroke:#b0b0b0;stroke-linecap:square;stroke-width:0.8;\"/>\r\n     </g>\r\n     <g id=\"line2d_14\">\r\n      <g>\r\n       <use style=\"stroke:#000000;stroke-width:0.8;\" x=\"39.65\" xlink:href=\"#ma85e649b5b\" y=\"43.864887\"/>\r\n      </g>\r\n     </g>\r\n     <g id=\"text_7\">\r\n      <!-- 2500 -->\r\n      <g transform=\"translate(7.2 47.664106)scale(0.1 -0.1)\">\r\n       <use xlink:href=\"#DejaVuSans-50\"/>\r\n       <use x=\"63.623047\" xlink:href=\"#DejaVuSans-53\"/>\r\n       <use x=\"127.246094\" xlink:href=\"#DejaVuSans-48\"/>\r\n       <use x=\"190.869141\" xlink:href=\"#DejaVuSans-48\"/>\r\n      </g>\r\n     </g>\r\n    </g>\r\n   </g>\r\n   <g id=\"line2d_15\">\r\n    <path clip-path=\"url(#p34c5865a43)\" d=\"M 169.25 234.255485 \r\nL 214.991176 234.255485 \r\nL 214.991176 224.760302 \r\nL 169.25 224.760302 \r\nL 169.25 234.255485 \r\n\" style=\"fill:none;stroke:#1f77b4;stroke-linecap:square;\"/>\r\n   </g>\r\n   <g id=\"line2d_16\">\r\n    <path clip-path=\"url(#p34c5865a43)\" d=\"M 192.120588 234.255485 \r\nL 192.120588 246.428797 \r\n\" style=\"fill:none;stroke:#1f77b4;stroke-linecap:square;\"/>\r\n   </g>\r\n   <g id=\"line2d_17\">\r\n    <path clip-path=\"url(#p34c5865a43)\" d=\"M 192.120588 224.760302 \r\nL 192.120588 210.801571 \r\n\" style=\"fill:none;stroke:#1f77b4;stroke-linecap:square;\"/>\r\n   </g>\r\n   <g id=\"line2d_18\">\r\n    <path clip-path=\"url(#p34c5865a43)\" d=\"M 180.685294 246.428797 \r\nL 203.555882 246.428797 \r\n\" style=\"fill:none;stroke:#000000;stroke-linecap:square;\"/>\r\n   </g>\r\n   <g id=\"line2d_19\">\r\n    <path clip-path=\"url(#p34c5865a43)\" d=\"M 180.685294 210.801571 \r\nL 203.555882 210.801571 \r\n\" style=\"fill:none;stroke:#000000;stroke-linecap:square;\"/>\r\n   </g>\r\n   <g id=\"line2d_20\">\r\n    <defs>\r\n     <path d=\"M 0 3 \r\nC 0.795609 3 1.55874 2.683901 2.12132 2.12132 \r\nC 2.683901 1.55874 3 0.795609 3 0 \r\nC 3 -0.795609 2.683901 -1.55874 2.12132 -2.12132 \r\nC 1.55874 -2.683901 0.795609 -3 0 -3 \r\nC -0.795609 -3 -1.55874 -2.683901 -2.12132 -2.12132 \r\nC -2.683901 -1.55874 -3 -0.795609 -3 0 \r\nC -3 0.795609 -2.683901 1.55874 -2.12132 2.12132 \r\nC -1.55874 2.683901 -0.795609 3 0 3 \r\nz\r\n\" id=\"m607eb35c44\" style=\"stroke:#000000;\"/>\r\n    </defs>\r\n    <g clip-path=\"url(#p34c5865a43)\">\r\n     <use style=\"fill-opacity:0;stroke:#000000;\" x=\"192.120588\" xlink:href=\"#m607eb35c44\" y=\"193.84009\"/>\r\n     <use style=\"fill-opacity:0;stroke:#000000;\" x=\"192.120588\" xlink:href=\"#m607eb35c44\" y=\"199.277502\"/>\r\n     <use style=\"fill-opacity:0;stroke:#000000;\" x=\"192.120588\" xlink:href=\"#m607eb35c44\" y=\"206.987266\"/>\r\n     <use style=\"fill-opacity:0;stroke:#000000;\" x=\"192.120588\" xlink:href=\"#m607eb35c44\" y=\"208.853841\"/>\r\n     <use style=\"fill-opacity:0;stroke:#000000;\" x=\"192.120588\" xlink:href=\"#m607eb35c44\" y=\"205.039537\"/>\r\n     <use style=\"fill-opacity:0;stroke:#000000;\" x=\"192.120588\" xlink:href=\"#m607eb35c44\" y=\"203.822205\"/>\r\n     <use style=\"fill-opacity:0;stroke:#000000;\" x=\"192.120588\" xlink:href=\"#m607eb35c44\" y=\"206.987266\"/>\r\n     <use style=\"fill-opacity:0;stroke:#000000;\" x=\"192.120588\" xlink:href=\"#m607eb35c44\" y=\"208.529219\"/>\r\n     <use style=\"fill-opacity:0;stroke:#000000;\" x=\"192.120588\" xlink:href=\"#m607eb35c44\" y=\"210.152327\"/>\r\n     <use style=\"fill-opacity:0;stroke:#000000;\" x=\"192.120588\" xlink:href=\"#m607eb35c44\" y=\"195.463198\"/>\r\n     <use style=\"fill-opacity:0;stroke:#000000;\" x=\"192.120588\" xlink:href=\"#m607eb35c44\" y=\"209.74655\"/>\r\n     <use style=\"fill-opacity:0;stroke:#000000;\" x=\"192.120588\" xlink:href=\"#m607eb35c44\" y=\"187.509967\"/>\r\n     <use style=\"fill-opacity:0;stroke:#000000;\" x=\"192.120588\" xlink:href=\"#m607eb35c44\" y=\"209.74655\"/>\r\n     <use style=\"fill-opacity:0;stroke:#000000;\" x=\"192.120588\" xlink:href=\"#m607eb35c44\" y=\"187.509967\"/>\r\n     <use style=\"fill-opacity:0;stroke:#000000;\" x=\"192.120588\" xlink:href=\"#m607eb35c44\" y=\"205.851091\"/>\r\n     <use style=\"fill-opacity:0;stroke:#000000;\" x=\"192.120588\" xlink:href=\"#m607eb35c44\" y=\"202.604874\"/>\r\n     <use style=\"fill-opacity:0;stroke:#000000;\" x=\"192.120588\" xlink:href=\"#m607eb35c44\" y=\"205.201847\"/>\r\n     <use style=\"fill-opacity:0;stroke:#000000;\" x=\"192.120588\" xlink:href=\"#m607eb35c44\" y=\"185.237616\"/>\r\n     <use style=\"fill-opacity:0;stroke:#000000;\" x=\"192.120588\" xlink:href=\"#m607eb35c44\" y=\"185.237616\"/>\r\n     <use style=\"fill-opacity:0;stroke:#000000;\" x=\"192.120588\" xlink:href=\"#m607eb35c44\" y=\"208.366908\"/>\r\n     <use style=\"fill-opacity:0;stroke:#000000;\" x=\"192.120588\" xlink:href=\"#m607eb35c44\" y=\"208.366908\"/>\r\n     <use style=\"fill-opacity:0;stroke:#000000;\" x=\"192.120588\" xlink:href=\"#m607eb35c44\" y=\"185.237616\"/>\r\n     <use style=\"fill-opacity:0;stroke:#000000;\" x=\"192.120588\" xlink:href=\"#m607eb35c44\" y=\"206.256868\"/>\r\n     <use style=\"fill-opacity:0;stroke:#000000;\" x=\"192.120588\" xlink:href=\"#m607eb35c44\" y=\"195.463198\"/>\r\n     <use style=\"fill-opacity:0;stroke:#000000;\" x=\"192.120588\" xlink:href=\"#m607eb35c44\" y=\"204.065672\"/>\r\n     <use style=\"fill-opacity:0;stroke:#000000;\" x=\"192.120588\" xlink:href=\"#m607eb35c44\" y=\"178.177095\"/>\r\n     <use style=\"fill-opacity:0;stroke:#000000;\" x=\"192.120588\" xlink:href=\"#m607eb35c44\" y=\"208.042287\"/>\r\n     <use style=\"fill-opacity:0;stroke:#000000;\" x=\"192.120588\" xlink:href=\"#m607eb35c44\" y=\"207.63651\"/>\r\n     <use style=\"fill-opacity:0;stroke:#000000;\" x=\"192.120588\" xlink:href=\"#m607eb35c44\" y=\"199.196347\"/>\r\n     <use style=\"fill-opacity:0;stroke:#000000;\" x=\"192.120588\" xlink:href=\"#m607eb35c44\" y=\"210.395794\"/>\r\n     <use style=\"fill-opacity:0;stroke:#000000;\" x=\"192.120588\" xlink:href=\"#m607eb35c44\" y=\"207.961131\"/>\r\n     <use style=\"fill-opacity:0;stroke:#000000;\" x=\"192.120588\" xlink:href=\"#m607eb35c44\" y=\"187.509967\"/>\r\n     <use style=\"fill-opacity:0;stroke:#000000;\" x=\"192.120588\" xlink:href=\"#m607eb35c44\" y=\"193.84009\"/>\r\n     <use style=\"fill-opacity:0;stroke:#000000;\" x=\"192.120588\" xlink:href=\"#m607eb35c44\" y=\"203.822205\"/>\r\n     <use style=\"fill-opacity:0;stroke:#000000;\" x=\"192.120588\" xlink:href=\"#m607eb35c44\" y=\"178.907494\"/>\r\n     <use style=\"fill-opacity:0;stroke:#000000;\" x=\"192.120588\" xlink:href=\"#m607eb35c44\" y=\"209.990017\"/>\r\n     <use style=\"fill-opacity:0;stroke:#000000;\" x=\"192.120588\" xlink:href=\"#m607eb35c44\" y=\"205.364158\"/>\r\n     <use style=\"fill-opacity:0;stroke:#000000;\" x=\"192.120588\" xlink:href=\"#m607eb35c44\" y=\"179.15096\"/>\r\n     <use style=\"fill-opacity:0;stroke:#000000;\" x=\"192.120588\" xlink:href=\"#m607eb35c44\" y=\"209.665395\"/>\r\n     <use style=\"fill-opacity:0;stroke:#000000;\" x=\"192.120588\" xlink:href=\"#m607eb35c44\" y=\"202.604874\"/>\r\n     <use style=\"fill-opacity:0;stroke:#000000;\" x=\"192.120588\" xlink:href=\"#m607eb35c44\" y=\"197.89786\"/>\r\n     <use style=\"fill-opacity:0;stroke:#000000;\" x=\"192.120588\" xlink:href=\"#m607eb35c44\" y=\"187.509967\"/>\r\n     <use style=\"fill-opacity:0;stroke:#000000;\" x=\"192.120588\" xlink:href=\"#m607eb35c44\" y=\"205.851091\"/>\r\n     <use style=\"fill-opacity:0;stroke:#000000;\" x=\"192.120588\" xlink:href=\"#m607eb35c44\" y=\"205.201847\"/>\r\n     <use style=\"fill-opacity:0;stroke:#000000;\" x=\"192.120588\" xlink:href=\"#m607eb35c44\" y=\"202.604874\"/>\r\n     <use style=\"fill-opacity:0;stroke:#000000;\" x=\"192.120588\" xlink:href=\"#m607eb35c44\" y=\"185.805704\"/>\r\n     <use style=\"fill-opacity:0;stroke:#000000;\" x=\"192.120588\" xlink:href=\"#m607eb35c44\" y=\"210.395794\"/>\r\n     <use style=\"fill-opacity:0;stroke:#000000;\" x=\"192.120588\" xlink:href=\"#m607eb35c44\" y=\"205.607624\"/>\r\n     <use style=\"fill-opacity:0;stroke:#000000;\" x=\"192.120588\" xlink:href=\"#m607eb35c44\" y=\"191.730049\"/>\r\n     <use style=\"fill-opacity:0;stroke:#000000;\" x=\"192.120588\" xlink:href=\"#m607eb35c44\" y=\"191.730049\"/>\r\n     <use style=\"fill-opacity:0;stroke:#000000;\" x=\"192.120588\" xlink:href=\"#m607eb35c44\" y=\"202.604874\"/>\r\n     <use style=\"fill-opacity:0;stroke:#000000;\" x=\"192.120588\" xlink:href=\"#m607eb35c44\" y=\"205.201847\"/>\r\n     <use style=\"fill-opacity:0;stroke:#000000;\" x=\"192.120588\" xlink:href=\"#m607eb35c44\" y=\"178.177095\"/>\r\n     <use style=\"fill-opacity:0;stroke:#000000;\" x=\"192.120588\" xlink:href=\"#m607eb35c44\" y=\"204.065672\"/>\r\n     <use style=\"fill-opacity:0;stroke:#000000;\" x=\"192.120588\" xlink:href=\"#m607eb35c44\" y=\"194.0024\"/>\r\n     <use style=\"fill-opacity:0;stroke:#000000;\" x=\"192.120588\" xlink:href=\"#m607eb35c44\" y=\"194.0024\"/>\r\n     <use style=\"fill-opacity:0;stroke:#000000;\" x=\"192.120588\" xlink:href=\"#m607eb35c44\" y=\"196.923995\"/>\r\n     <use style=\"fill-opacity:0;stroke:#000000;\" x=\"192.120588\" xlink:href=\"#m607eb35c44\" y=\"208.042287\"/>\r\n     <use style=\"fill-opacity:0;stroke:#000000;\" x=\"192.120588\" xlink:href=\"#m607eb35c44\" y=\"201.712165\"/>\r\n     <use style=\"fill-opacity:0;stroke:#000000;\" x=\"192.120588\" xlink:href=\"#m607eb35c44\" y=\"208.448064\"/>\r\n     <use style=\"fill-opacity:0;stroke:#000000;\" x=\"192.120588\" xlink:href=\"#m607eb35c44\" y=\"198.060171\"/>\r\n     <use style=\"fill-opacity:0;stroke:#000000;\" x=\"192.120588\" xlink:href=\"#m607eb35c44\" y=\"204.79607\"/>\r\n     <use style=\"fill-opacity:0;stroke:#000000;\" x=\"192.120588\" xlink:href=\"#m607eb35c44\" y=\"207.63651\"/>\r\n    </g>\r\n   </g>\r\n   <g id=\"line2d_21\">\r\n    <path clip-path=\"url(#p34c5865a43)\" d=\"M 169.25 230.197714 \r\nL 214.991176 230.197714 \r\n\" style=\"fill:none;stroke:#2ca02c;stroke-linecap:square;\"/>\r\n   </g>\r\n   <g id=\"patch_3\">\r\n    <path d=\"M 39.65 257.100734 \r\nL 39.65 22.318125 \r\n\" style=\"fill:none;stroke:#000000;stroke-linecap:square;stroke-linejoin:miter;stroke-width:0.8;\"/>\r\n   </g>\r\n   <g id=\"patch_4\">\r\n    <path d=\"M 344.591176 257.100734 \r\nL 344.591176 22.318125 \r\n\" style=\"fill:none;stroke:#000000;stroke-linecap:square;stroke-linejoin:miter;stroke-width:0.8;\"/>\r\n   </g>\r\n   <g id=\"patch_5\">\r\n    <path d=\"M 39.65 257.100734 \r\nL 344.591176 257.100734 \r\n\" style=\"fill:none;stroke:#000000;stroke-linecap:square;stroke-linejoin:miter;stroke-width:0.8;\"/>\r\n   </g>\r\n   <g id=\"patch_6\">\r\n    <path d=\"M 39.65 22.318125 \r\nL 344.591176 22.318125 \r\n\" style=\"fill:none;stroke:#000000;stroke-linecap:square;stroke-linejoin:miter;stroke-width:0.8;\"/>\r\n   </g>\r\n   <g id=\"text_8\">\r\n    <!-- Blues -->\r\n    <g transform=\"translate(175.717151 16.318125)scale(0.12 -0.12)\">\r\n     <defs>\r\n      <path d=\"M 19.671875 34.8125 \r\nL 19.671875 8.109375 \r\nL 35.5 8.109375 \r\nQ 43.453125 8.109375 47.28125 11.40625 \r\nQ 51.125 14.703125 51.125 21.484375 \r\nQ 51.125 28.328125 47.28125 31.5625 \r\nQ 43.453125 34.8125 35.5 34.8125 \r\nz\r\nM 19.671875 64.796875 \r\nL 19.671875 42.828125 \r\nL 34.28125 42.828125 \r\nQ 41.5 42.828125 45.03125 45.53125 \r\nQ 48.578125 48.25 48.578125 53.8125 \r\nQ 48.578125 59.328125 45.03125 62.0625 \r\nQ 41.5 64.796875 34.28125 64.796875 \r\nz\r\nM 9.8125 72.90625 \r\nL 35.015625 72.90625 \r\nQ 46.296875 72.90625 52.390625 68.21875 \r\nQ 58.5 63.53125 58.5 54.890625 \r\nQ 58.5 48.1875 55.375 44.234375 \r\nQ 52.25 40.28125 46.1875 39.3125 \r\nQ 53.46875 37.75 57.5 32.78125 \r\nQ 61.53125 27.828125 61.53125 20.40625 \r\nQ 61.53125 10.640625 54.890625 5.3125 \r\nQ 48.25 0 35.984375 0 \r\nL 9.8125 0 \r\nz\r\n\" id=\"DejaVuSans-66\"/>\r\n      <path d=\"M 8.5 21.578125 \r\nL 8.5 54.6875 \r\nL 17.484375 54.6875 \r\nL 17.484375 21.921875 \r\nQ 17.484375 14.15625 20.5 10.265625 \r\nQ 23.53125 6.390625 29.59375 6.390625 \r\nQ 36.859375 6.390625 41.078125 11.03125 \r\nQ 45.3125 15.671875 45.3125 23.6875 \r\nL 45.3125 54.6875 \r\nL 54.296875 54.6875 \r\nL 54.296875 0 \r\nL 45.3125 0 \r\nL 45.3125 8.40625 \r\nQ 42.046875 3.421875 37.71875 1 \r\nQ 33.40625 -1.421875 27.6875 -1.421875 \r\nQ 18.265625 -1.421875 13.375 4.4375 \r\nQ 8.5 10.296875 8.5 21.578125 \r\nz\r\nM 31.109375 56 \r\nz\r\n\" id=\"DejaVuSans-117\"/>\r\n      <path d=\"M 44.28125 53.078125 \r\nL 44.28125 44.578125 \r\nQ 40.484375 46.53125 36.375 47.5 \r\nQ 32.28125 48.484375 27.875 48.484375 \r\nQ 21.1875 48.484375 17.84375 46.4375 \r\nQ 14.5 44.390625 14.5 40.28125 \r\nQ 14.5 37.15625 16.890625 35.375 \r\nQ 19.28125 33.59375 26.515625 31.984375 \r\nL 29.59375 31.296875 \r\nQ 39.15625 29.25 43.1875 25.515625 \r\nQ 47.21875 21.78125 47.21875 15.09375 \r\nQ 47.21875 7.46875 41.1875 3.015625 \r\nQ 35.15625 -1.421875 24.609375 -1.421875 \r\nQ 20.21875 -1.421875 15.453125 -0.5625 \r\nQ 10.6875 0.296875 5.421875 2 \r\nL 5.421875 11.28125 \r\nQ 10.40625 8.6875 15.234375 7.390625 \r\nQ 20.0625 6.109375 24.8125 6.109375 \r\nQ 31.15625 6.109375 34.5625 8.28125 \r\nQ 37.984375 10.453125 37.984375 14.40625 \r\nQ 37.984375 18.0625 35.515625 20.015625 \r\nQ 33.0625 21.96875 24.703125 23.78125 \r\nL 21.578125 24.515625 \r\nQ 13.234375 26.265625 9.515625 29.90625 \r\nQ 5.8125 33.546875 5.8125 39.890625 \r\nQ 5.8125 47.609375 11.28125 51.796875 \r\nQ 16.75 56 26.8125 56 \r\nQ 31.78125 56 36.171875 55.265625 \r\nQ 40.578125 54.546875 44.28125 53.078125 \r\nz\r\n\" id=\"DejaVuSans-115\"/>\r\n     </defs>\r\n     <use xlink:href=\"#DejaVuSans-66\"/>\r\n     <use x=\"68.603516\" xlink:href=\"#DejaVuSans-108\"/>\r\n     <use x=\"96.386719\" xlink:href=\"#DejaVuSans-117\"/>\r\n     <use x=\"159.765625\" xlink:href=\"#DejaVuSans-101\"/>\r\n     <use x=\"221.289062\" xlink:href=\"#DejaVuSans-115\"/>\r\n    </g>\r\n   </g>\r\n  </g>\r\n  <g id=\"axes_2\">\r\n   <g id=\"patch_7\">\r\n    <path d=\"M 405.579412 257.100734 \r\nL 710.520588 257.100734 \r\nL 710.520588 22.318125 \r\nL 405.579412 22.318125 \r\nz\r\n\" style=\"fill:#ffffff;\"/>\r\n   </g>\r\n   <g id=\"matplotlib.axis_3\">\r\n    <g id=\"xtick_2\">\r\n     <g id=\"line2d_22\">\r\n      <path clip-path=\"url(#pb0517038cc)\" d=\"M 558.05 257.100734 \r\nL 558.05 22.318125 \r\n\" style=\"fill:none;stroke:#b0b0b0;stroke-linecap:square;stroke-width:0.8;\"/>\r\n     </g>\r\n     <g id=\"line2d_23\">\r\n      <g>\r\n       <use style=\"stroke:#000000;stroke-width:0.8;\" x=\"558.05\" xlink:href=\"#m38de8124e7\" y=\"257.100734\"/>\r\n      </g>\r\n     </g>\r\n     <g id=\"text_9\">\r\n      <!-- length_lyric -->\r\n      <g transform=\"translate(529.070313 271.699171)scale(0.1 -0.1)\">\r\n       <use xlink:href=\"#DejaVuSans-108\"/>\r\n       <use x=\"27.783203\" xlink:href=\"#DejaVuSans-101\"/>\r\n       <use x=\"89.306641\" xlink:href=\"#DejaVuSans-110\"/>\r\n       <use x=\"152.685547\" xlink:href=\"#DejaVuSans-103\"/>\r\n       <use x=\"216.162109\" xlink:href=\"#DejaVuSans-116\"/>\r\n       <use x=\"255.371094\" xlink:href=\"#DejaVuSans-104\"/>\r\n       <use x=\"318.75\" xlink:href=\"#DejaVuSans-95\"/>\r\n       <use x=\"368.75\" xlink:href=\"#DejaVuSans-108\"/>\r\n       <use x=\"396.533203\" xlink:href=\"#DejaVuSans-121\"/>\r\n       <use x=\"455.712891\" xlink:href=\"#DejaVuSans-114\"/>\r\n       <use x=\"496.826172\" xlink:href=\"#DejaVuSans-105\"/>\r\n       <use x=\"524.609375\" xlink:href=\"#DejaVuSans-99\"/>\r\n      </g>\r\n     </g>\r\n    </g>\r\n   </g>\r\n   <g id=\"matplotlib.axis_4\">\r\n    <g id=\"ytick_7\">\r\n     <g id=\"line2d_24\">\r\n      <path clip-path=\"url(#pb0517038cc)\" d=\"M 405.579412 246.753419 \r\nL 710.520588 246.753419 \r\n\" style=\"fill:none;stroke:#b0b0b0;stroke-linecap:square;stroke-width:0.8;\"/>\r\n     </g>\r\n     <g id=\"line2d_25\">\r\n      <g>\r\n       <use style=\"stroke:#000000;stroke-width:0.8;\" x=\"405.579412\" xlink:href=\"#ma85e649b5b\" y=\"246.753419\"/>\r\n      </g>\r\n     </g>\r\n    </g>\r\n    <g id=\"ytick_8\">\r\n     <g id=\"line2d_26\">\r\n      <path clip-path=\"url(#pb0517038cc)\" d=\"M 405.579412 206.175712 \r\nL 710.520588 206.175712 \r\n\" style=\"fill:none;stroke:#b0b0b0;stroke-linecap:square;stroke-width:0.8;\"/>\r\n     </g>\r\n     <g id=\"line2d_27\">\r\n      <g>\r\n       <use style=\"stroke:#000000;stroke-width:0.8;\" x=\"405.579412\" xlink:href=\"#ma85e649b5b\" y=\"206.175712\"/>\r\n      </g>\r\n     </g>\r\n    </g>\r\n    <g id=\"ytick_9\">\r\n     <g id=\"line2d_28\">\r\n      <path clip-path=\"url(#pb0517038cc)\" d=\"M 405.579412 165.598006 \r\nL 710.520588 165.598006 \r\n\" style=\"fill:none;stroke:#b0b0b0;stroke-linecap:square;stroke-width:0.8;\"/>\r\n     </g>\r\n     <g id=\"line2d_29\">\r\n      <g>\r\n       <use style=\"stroke:#000000;stroke-width:0.8;\" x=\"405.579412\" xlink:href=\"#ma85e649b5b\" y=\"165.598006\"/>\r\n      </g>\r\n     </g>\r\n    </g>\r\n    <g id=\"ytick_10\">\r\n     <g id=\"line2d_30\">\r\n      <path clip-path=\"url(#pb0517038cc)\" d=\"M 405.579412 125.0203 \r\nL 710.520588 125.0203 \r\n\" style=\"fill:none;stroke:#b0b0b0;stroke-linecap:square;stroke-width:0.8;\"/>\r\n     </g>\r\n     <g id=\"line2d_31\">\r\n      <g>\r\n       <use style=\"stroke:#000000;stroke-width:0.8;\" x=\"405.579412\" xlink:href=\"#ma85e649b5b\" y=\"125.0203\"/>\r\n      </g>\r\n     </g>\r\n    </g>\r\n    <g id=\"ytick_11\">\r\n     <g id=\"line2d_32\">\r\n      <path clip-path=\"url(#pb0517038cc)\" d=\"M 405.579412 84.442593 \r\nL 710.520588 84.442593 \r\n\" style=\"fill:none;stroke:#b0b0b0;stroke-linecap:square;stroke-width:0.8;\"/>\r\n     </g>\r\n     <g id=\"line2d_33\">\r\n      <g>\r\n       <use style=\"stroke:#000000;stroke-width:0.8;\" x=\"405.579412\" xlink:href=\"#ma85e649b5b\" y=\"84.442593\"/>\r\n      </g>\r\n     </g>\r\n    </g>\r\n    <g id=\"ytick_12\">\r\n     <g id=\"line2d_34\">\r\n      <path clip-path=\"url(#pb0517038cc)\" d=\"M 405.579412 43.864887 \r\nL 710.520588 43.864887 \r\n\" style=\"fill:none;stroke:#b0b0b0;stroke-linecap:square;stroke-width:0.8;\"/>\r\n     </g>\r\n     <g id=\"line2d_35\">\r\n      <g>\r\n       <use style=\"stroke:#000000;stroke-width:0.8;\" x=\"405.579412\" xlink:href=\"#ma85e649b5b\" y=\"43.864887\"/>\r\n      </g>\r\n     </g>\r\n    </g>\r\n   </g>\r\n   <g id=\"line2d_36\">\r\n    <path clip-path=\"url(#pb0517038cc)\" d=\"M 535.179412 233.768553 \r\nL 580.920588 233.768553 \r\nL 580.920588 225.32839 \r\nL 535.179412 225.32839 \r\nL 535.179412 233.768553 \r\n\" style=\"fill:none;stroke:#1f77b4;stroke-linecap:square;\"/>\r\n   </g>\r\n   <g id=\"line2d_37\">\r\n    <path clip-path=\"url(#pb0517038cc)\" d=\"M 558.05 233.768553 \r\nL 558.05 242.12756 \r\n\" style=\"fill:none;stroke:#1f77b4;stroke-linecap:square;\"/>\r\n   </g>\r\n   <g id=\"line2d_38\">\r\n    <path clip-path=\"url(#pb0517038cc)\" d=\"M 558.05 225.32839 \r\nL 558.05 213.398544 \r\n\" style=\"fill:none;stroke:#1f77b4;stroke-linecap:square;\"/>\r\n   </g>\r\n   <g id=\"line2d_39\">\r\n    <path clip-path=\"url(#pb0517038cc)\" d=\"M 546.614706 242.12756 \r\nL 569.485294 242.12756 \r\n\" style=\"fill:none;stroke:#000000;stroke-linecap:square;\"/>\r\n   </g>\r\n   <g id=\"line2d_40\">\r\n    <path clip-path=\"url(#pb0517038cc)\" d=\"M 546.614706 213.398544 \r\nL 569.485294 213.398544 \r\n\" style=\"fill:none;stroke:#000000;stroke-linecap:square;\"/>\r\n   </g>\r\n   <g id=\"line2d_41\">\r\n    <g clip-path=\"url(#pb0517038cc)\">\r\n     <use style=\"fill-opacity:0;stroke:#000000;\" x=\"558.05\" xlink:href=\"#m607eb35c44\" y=\"197.492083\"/>\r\n     <use style=\"fill-opacity:0;stroke:#000000;\" x=\"558.05\" xlink:href=\"#m607eb35c44\" y=\"197.492083\"/>\r\n     <use style=\"fill-opacity:0;stroke:#000000;\" x=\"558.05\" xlink:href=\"#m607eb35c44\" y=\"197.492083\"/>\r\n     <use style=\"fill-opacity:0;stroke:#000000;\" x=\"558.05\" xlink:href=\"#m607eb35c44\" y=\"209.665395\"/>\r\n     <use style=\"fill-opacity:0;stroke:#000000;\" x=\"558.05\" xlink:href=\"#m607eb35c44\" y=\"201.79332\"/>\r\n     <use style=\"fill-opacity:0;stroke:#000000;\" x=\"558.05\" xlink:href=\"#m607eb35c44\" y=\"210.558105\"/>\r\n     <use style=\"fill-opacity:0;stroke:#000000;\" x=\"558.05\" xlink:href=\"#m607eb35c44\" y=\"195.868975\"/>\r\n     <use style=\"fill-opacity:0;stroke:#000000;\" x=\"558.05\" xlink:href=\"#m607eb35c44\" y=\"193.190846\"/>\r\n     <use style=\"fill-opacity:0;stroke:#000000;\" x=\"558.05\" xlink:href=\"#m607eb35c44\" y=\"207.149577\"/>\r\n     <use style=\"fill-opacity:0;stroke:#000000;\" x=\"558.05\" xlink:href=\"#m607eb35c44\" y=\"192.94738\"/>\r\n     <use style=\"fill-opacity:0;stroke:#000000;\" x=\"558.05\" xlink:href=\"#m607eb35c44\" y=\"209.259618\"/>\r\n     <use style=\"fill-opacity:0;stroke:#000000;\" x=\"558.05\" xlink:href=\"#m607eb35c44\" y=\"196.193597\"/>\r\n     <use style=\"fill-opacity:0;stroke:#000000;\" x=\"558.05\" xlink:href=\"#m607eb35c44\" y=\"197.492083\"/>\r\n     <use style=\"fill-opacity:0;stroke:#000000;\" x=\"558.05\" xlink:href=\"#m607eb35c44\" y=\"195.95013\"/>\r\n     <use style=\"fill-opacity:0;stroke:#000000;\" x=\"558.05\" xlink:href=\"#m607eb35c44\" y=\"171.846973\"/>\r\n     <use style=\"fill-opacity:0;stroke:#000000;\" x=\"558.05\" xlink:href=\"#m607eb35c44\" y=\"208.123442\"/>\r\n     <use style=\"fill-opacity:0;stroke:#000000;\" x=\"558.05\" xlink:href=\"#m607eb35c44\" y=\"203.903361\"/>\r\n     <use style=\"fill-opacity:0;stroke:#000000;\" x=\"558.05\" xlink:href=\"#m607eb35c44\" y=\"208.934996\"/>\r\n     <use style=\"fill-opacity:0;stroke:#000000;\" x=\"558.05\" xlink:href=\"#m607eb35c44\" y=\"185.237616\"/>\r\n     <use style=\"fill-opacity:0;stroke:#000000;\" x=\"558.05\" xlink:href=\"#m607eb35c44\" y=\"209.259618\"/>\r\n     <use style=\"fill-opacity:0;stroke:#000000;\" x=\"558.05\" xlink:href=\"#m607eb35c44\" y=\"201.79332\"/>\r\n     <use style=\"fill-opacity:0;stroke:#000000;\" x=\"558.05\" xlink:href=\"#m607eb35c44\" y=\"198.222482\"/>\r\n     <use style=\"fill-opacity:0;stroke:#000000;\" x=\"558.05\" xlink:href=\"#m607eb35c44\" y=\"195.95013\"/>\r\n    </g>\r\n   </g>\r\n   <g id=\"line2d_42\">\r\n    <path clip-path=\"url(#pb0517038cc)\" d=\"M 535.179412 230.27887 \r\nL 580.920588 230.27887 \r\n\" style=\"fill:none;stroke:#2ca02c;stroke-linecap:square;\"/>\r\n   </g>\r\n   <g id=\"patch_8\">\r\n    <path d=\"M 405.579412 257.100734 \r\nL 405.579412 22.318125 \r\n\" style=\"fill:none;stroke:#000000;stroke-linecap:square;stroke-linejoin:miter;stroke-width:0.8;\"/>\r\n   </g>\r\n   <g id=\"patch_9\">\r\n    <path d=\"M 710.520588 257.100734 \r\nL 710.520588 22.318125 \r\n\" style=\"fill:none;stroke:#000000;stroke-linecap:square;stroke-linejoin:miter;stroke-width:0.8;\"/>\r\n   </g>\r\n   <g id=\"patch_10\">\r\n    <path d=\"M 405.579412 257.100734 \r\nL 710.520588 257.100734 \r\n\" style=\"fill:none;stroke:#000000;stroke-linecap:square;stroke-linejoin:miter;stroke-width:0.8;\"/>\r\n   </g>\r\n   <g id=\"patch_11\">\r\n    <path d=\"M 405.579412 22.318125 \r\nL 710.520588 22.318125 \r\n\" style=\"fill:none;stroke:#000000;stroke-linecap:square;stroke-linejoin:miter;stroke-width:0.8;\"/>\r\n   </g>\r\n   <g id=\"text_10\">\r\n    <!-- Country -->\r\n    <g transform=\"translate(534.214063 16.318125)scale(0.12 -0.12)\">\r\n     <defs>\r\n      <path d=\"M 64.40625 67.28125 \r\nL 64.40625 56.890625 \r\nQ 59.421875 61.53125 53.78125 63.8125 \r\nQ 48.140625 66.109375 41.796875 66.109375 \r\nQ 29.296875 66.109375 22.65625 58.46875 \r\nQ 16.015625 50.828125 16.015625 36.375 \r\nQ 16.015625 21.96875 22.65625 14.328125 \r\nQ 29.296875 6.6875 41.796875 6.6875 \r\nQ 48.140625 6.6875 53.78125 8.984375 \r\nQ 59.421875 11.28125 64.40625 15.921875 \r\nL 64.40625 5.609375 \r\nQ 59.234375 2.09375 53.4375 0.328125 \r\nQ 47.65625 -1.421875 41.21875 -1.421875 \r\nQ 24.65625 -1.421875 15.125 8.703125 \r\nQ 5.609375 18.84375 5.609375 36.375 \r\nQ 5.609375 53.953125 15.125 64.078125 \r\nQ 24.65625 74.21875 41.21875 74.21875 \r\nQ 47.75 74.21875 53.53125 72.484375 \r\nQ 59.328125 70.75 64.40625 67.28125 \r\nz\r\n\" id=\"DejaVuSans-67\"/>\r\n      <path d=\"M 30.609375 48.390625 \r\nQ 23.390625 48.390625 19.1875 42.75 \r\nQ 14.984375 37.109375 14.984375 27.296875 \r\nQ 14.984375 17.484375 19.15625 11.84375 \r\nQ 23.34375 6.203125 30.609375 6.203125 \r\nQ 37.796875 6.203125 41.984375 11.859375 \r\nQ 46.1875 17.53125 46.1875 27.296875 \r\nQ 46.1875 37.015625 41.984375 42.703125 \r\nQ 37.796875 48.390625 30.609375 48.390625 \r\nz\r\nM 30.609375 56 \r\nQ 42.328125 56 49.015625 48.375 \r\nQ 55.71875 40.765625 55.71875 27.296875 \r\nQ 55.71875 13.875 49.015625 6.21875 \r\nQ 42.328125 -1.421875 30.609375 -1.421875 \r\nQ 18.84375 -1.421875 12.171875 6.21875 \r\nQ 5.515625 13.875 5.515625 27.296875 \r\nQ 5.515625 40.765625 12.171875 48.375 \r\nQ 18.84375 56 30.609375 56 \r\nz\r\n\" id=\"DejaVuSans-111\"/>\r\n     </defs>\r\n     <use xlink:href=\"#DejaVuSans-67\"/>\r\n     <use x=\"69.824219\" xlink:href=\"#DejaVuSans-111\"/>\r\n     <use x=\"131.005859\" xlink:href=\"#DejaVuSans-117\"/>\r\n     <use x=\"194.384766\" xlink:href=\"#DejaVuSans-110\"/>\r\n     <use x=\"257.763672\" xlink:href=\"#DejaVuSans-116\"/>\r\n     <use x=\"296.972656\" xlink:href=\"#DejaVuSans-114\"/>\r\n     <use x=\"338.085938\" xlink:href=\"#DejaVuSans-121\"/>\r\n    </g>\r\n   </g>\r\n  </g>\r\n  <g id=\"axes_3\">\r\n   <g id=\"patch_12\">\r\n    <path d=\"M 771.508824 257.100734 \r\nL 1076.45 257.100734 \r\nL 1076.45 22.318125 \r\nL 771.508824 22.318125 \r\nz\r\n\" style=\"fill:#ffffff;\"/>\r\n   </g>\r\n   <g id=\"matplotlib.axis_5\">\r\n    <g id=\"xtick_3\">\r\n     <g id=\"line2d_43\">\r\n      <path clip-path=\"url(#p34187f80bf)\" d=\"M 923.979412 257.100734 \r\nL 923.979412 22.318125 \r\n\" style=\"fill:none;stroke:#b0b0b0;stroke-linecap:square;stroke-width:0.8;\"/>\r\n     </g>\r\n     <g id=\"line2d_44\">\r\n      <g>\r\n       <use style=\"stroke:#000000;stroke-width:0.8;\" x=\"923.979412\" xlink:href=\"#m38de8124e7\" y=\"257.100734\"/>\r\n      </g>\r\n     </g>\r\n     <g id=\"text_11\">\r\n      <!-- length_lyric -->\r\n      <g transform=\"translate(894.999724 271.699171)scale(0.1 -0.1)\">\r\n       <use xlink:href=\"#DejaVuSans-108\"/>\r\n       <use x=\"27.783203\" xlink:href=\"#DejaVuSans-101\"/>\r\n       <use x=\"89.306641\" xlink:href=\"#DejaVuSans-110\"/>\r\n       <use x=\"152.685547\" xlink:href=\"#DejaVuSans-103\"/>\r\n       <use x=\"216.162109\" xlink:href=\"#DejaVuSans-116\"/>\r\n       <use x=\"255.371094\" xlink:href=\"#DejaVuSans-104\"/>\r\n       <use x=\"318.75\" xlink:href=\"#DejaVuSans-95\"/>\r\n       <use x=\"368.75\" xlink:href=\"#DejaVuSans-108\"/>\r\n       <use x=\"396.533203\" xlink:href=\"#DejaVuSans-121\"/>\r\n       <use x=\"455.712891\" xlink:href=\"#DejaVuSans-114\"/>\r\n       <use x=\"496.826172\" xlink:href=\"#DejaVuSans-105\"/>\r\n       <use x=\"524.609375\" xlink:href=\"#DejaVuSans-99\"/>\r\n      </g>\r\n     </g>\r\n    </g>\r\n   </g>\r\n   <g id=\"matplotlib.axis_6\">\r\n    <g id=\"ytick_13\">\r\n     <g id=\"line2d_45\">\r\n      <path clip-path=\"url(#p34187f80bf)\" d=\"M 771.508824 246.753419 \r\nL 1076.45 246.753419 \r\n\" style=\"fill:none;stroke:#b0b0b0;stroke-linecap:square;stroke-width:0.8;\"/>\r\n     </g>\r\n     <g id=\"line2d_46\">\r\n      <g>\r\n       <use style=\"stroke:#000000;stroke-width:0.8;\" x=\"771.508824\" xlink:href=\"#ma85e649b5b\" y=\"246.753419\"/>\r\n      </g>\r\n     </g>\r\n    </g>\r\n    <g id=\"ytick_14\">\r\n     <g id=\"line2d_47\">\r\n      <path clip-path=\"url(#p34187f80bf)\" d=\"M 771.508824 206.175712 \r\nL 1076.45 206.175712 \r\n\" style=\"fill:none;stroke:#b0b0b0;stroke-linecap:square;stroke-width:0.8;\"/>\r\n     </g>\r\n     <g id=\"line2d_48\">\r\n      <g>\r\n       <use style=\"stroke:#000000;stroke-width:0.8;\" x=\"771.508824\" xlink:href=\"#ma85e649b5b\" y=\"206.175712\"/>\r\n      </g>\r\n     </g>\r\n    </g>\r\n    <g id=\"ytick_15\">\r\n     <g id=\"line2d_49\">\r\n      <path clip-path=\"url(#p34187f80bf)\" d=\"M 771.508824 165.598006 \r\nL 1076.45 165.598006 \r\n\" style=\"fill:none;stroke:#b0b0b0;stroke-linecap:square;stroke-width:0.8;\"/>\r\n     </g>\r\n     <g id=\"line2d_50\">\r\n      <g>\r\n       <use style=\"stroke:#000000;stroke-width:0.8;\" x=\"771.508824\" xlink:href=\"#ma85e649b5b\" y=\"165.598006\"/>\r\n      </g>\r\n     </g>\r\n    </g>\r\n    <g id=\"ytick_16\">\r\n     <g id=\"line2d_51\">\r\n      <path clip-path=\"url(#p34187f80bf)\" d=\"M 771.508824 125.0203 \r\nL 1076.45 125.0203 \r\n\" style=\"fill:none;stroke:#b0b0b0;stroke-linecap:square;stroke-width:0.8;\"/>\r\n     </g>\r\n     <g id=\"line2d_52\">\r\n      <g>\r\n       <use style=\"stroke:#000000;stroke-width:0.8;\" x=\"771.508824\" xlink:href=\"#ma85e649b5b\" y=\"125.0203\"/>\r\n      </g>\r\n     </g>\r\n    </g>\r\n    <g id=\"ytick_17\">\r\n     <g id=\"line2d_53\">\r\n      <path clip-path=\"url(#p34187f80bf)\" d=\"M 771.508824 84.442593 \r\nL 1076.45 84.442593 \r\n\" style=\"fill:none;stroke:#b0b0b0;stroke-linecap:square;stroke-width:0.8;\"/>\r\n     </g>\r\n     <g id=\"line2d_54\">\r\n      <g>\r\n       <use style=\"stroke:#000000;stroke-width:0.8;\" x=\"771.508824\" xlink:href=\"#ma85e649b5b\" y=\"84.442593\"/>\r\n      </g>\r\n     </g>\r\n    </g>\r\n    <g id=\"ytick_18\">\r\n     <g id=\"line2d_55\">\r\n      <path clip-path=\"url(#p34187f80bf)\" d=\"M 771.508824 43.864887 \r\nL 1076.45 43.864887 \r\n\" style=\"fill:none;stroke:#b0b0b0;stroke-linecap:square;stroke-width:0.8;\"/>\r\n     </g>\r\n     <g id=\"line2d_56\">\r\n      <g>\r\n       <use style=\"stroke:#000000;stroke-width:0.8;\" x=\"771.508824\" xlink:href=\"#ma85e649b5b\" y=\"43.864887\"/>\r\n      </g>\r\n     </g>\r\n    </g>\r\n   </g>\r\n   <g id=\"line2d_57\">\r\n    <path clip-path=\"url(#p34187f80bf)\" d=\"M 901.108824 233.322198 \r\nL 946.85 233.322198 \r\nL 946.85 223.542971 \r\nL 901.108824 223.542971 \r\nL 901.108824 233.322198 \r\n\" style=\"fill:none;stroke:#1f77b4;stroke-linecap:square;\"/>\r\n   </g>\r\n   <g id=\"line2d_58\">\r\n    <path clip-path=\"url(#p34187f80bf)\" d=\"M 923.979412 233.322198 \r\nL 923.979412 246.347642 \r\n\" style=\"fill:none;stroke:#1f77b4;stroke-linecap:square;\"/>\r\n   </g>\r\n   <g id=\"line2d_59\">\r\n    <path clip-path=\"url(#p34187f80bf)\" d=\"M 923.979412 223.542971 \r\nL 923.979412 209.178463 \r\n\" style=\"fill:none;stroke:#1f77b4;stroke-linecap:square;\"/>\r\n   </g>\r\n   <g id=\"line2d_60\">\r\n    <path clip-path=\"url(#p34187f80bf)\" d=\"M 912.544118 246.347642 \r\nL 935.414706 246.347642 \r\n\" style=\"fill:none;stroke:#000000;stroke-linecap:square;\"/>\r\n   </g>\r\n   <g id=\"line2d_61\">\r\n    <path clip-path=\"url(#p34187f80bf)\" d=\"M 912.544118 209.178463 \r\nL 935.414706 209.178463 \r\n\" style=\"fill:none;stroke:#000000;stroke-linecap:square;\"/>\r\n   </g>\r\n   <g id=\"line2d_62\">\r\n    <g clip-path=\"url(#p34187f80bf)\">\r\n     <use style=\"fill-opacity:0;stroke:#000000;\" x=\"923.979412\" xlink:href=\"#m607eb35c44\" y=\"204.714915\"/>\r\n     <use style=\"fill-opacity:0;stroke:#000000;\" x=\"923.979412\" xlink:href=\"#m607eb35c44\" y=\"206.338023\"/>\r\n     <use style=\"fill-opacity:0;stroke:#000000;\" x=\"923.979412\" xlink:href=\"#m607eb35c44\" y=\"207.879976\"/>\r\n     <use style=\"fill-opacity:0;stroke:#000000;\" x=\"923.979412\" xlink:href=\"#m607eb35c44\" y=\"198.952881\"/>\r\n     <use style=\"fill-opacity:0;stroke:#000000;\" x=\"923.979412\" xlink:href=\"#m607eb35c44\" y=\"207.393043\"/>\r\n     <use style=\"fill-opacity:0;stroke:#000000;\" x=\"923.979412\" xlink:href=\"#m607eb35c44\" y=\"201.549854\"/>\r\n     <use style=\"fill-opacity:0;stroke:#000000;\" x=\"923.979412\" xlink:href=\"#m607eb35c44\" y=\"198.060171\"/>\r\n    </g>\r\n   </g>\r\n   <g id=\"line2d_63\">\r\n    <path clip-path=\"url(#p34187f80bf)\" d=\"M 901.108824 228.371718 \r\nL 946.85 228.371718 \r\n\" style=\"fill:none;stroke:#2ca02c;stroke-linecap:square;\"/>\r\n   </g>\r\n   <g id=\"patch_13\">\r\n    <path d=\"M 771.508824 257.100734 \r\nL 771.508824 22.318125 \r\n\" style=\"fill:none;stroke:#000000;stroke-linecap:square;stroke-linejoin:miter;stroke-width:0.8;\"/>\r\n   </g>\r\n   <g id=\"patch_14\">\r\n    <path d=\"M 1076.45 257.100734 \r\nL 1076.45 22.318125 \r\n\" style=\"fill:none;stroke:#000000;stroke-linecap:square;stroke-linejoin:miter;stroke-width:0.8;\"/>\r\n   </g>\r\n   <g id=\"patch_15\">\r\n    <path d=\"M 771.508824 257.100734 \r\nL 1076.45 257.100734 \r\n\" style=\"fill:none;stroke:#000000;stroke-linecap:square;stroke-linejoin:miter;stroke-width:0.8;\"/>\r\n   </g>\r\n   <g id=\"patch_16\">\r\n    <path d=\"M 771.508824 22.318125 \r\nL 1076.45 22.318125 \r\n\" style=\"fill:none;stroke:#000000;stroke-linecap:square;stroke-linejoin:miter;stroke-width:0.8;\"/>\r\n   </g>\r\n   <g id=\"text_12\">\r\n    <!-- Electronic -->\r\n    <g transform=\"translate(894.406912 16.318125)scale(0.12 -0.12)\">\r\n     <defs>\r\n      <path d=\"M 9.8125 72.90625 \r\nL 55.90625 72.90625 \r\nL 55.90625 64.59375 \r\nL 19.671875 64.59375 \r\nL 19.671875 43.015625 \r\nL 54.390625 43.015625 \r\nL 54.390625 34.71875 \r\nL 19.671875 34.71875 \r\nL 19.671875 8.296875 \r\nL 56.78125 8.296875 \r\nL 56.78125 0 \r\nL 9.8125 0 \r\nz\r\n\" id=\"DejaVuSans-69\"/>\r\n     </defs>\r\n     <use xlink:href=\"#DejaVuSans-69\"/>\r\n     <use x=\"63.183594\" xlink:href=\"#DejaVuSans-108\"/>\r\n     <use x=\"90.966797\" xlink:href=\"#DejaVuSans-101\"/>\r\n     <use x=\"152.490234\" xlink:href=\"#DejaVuSans-99\"/>\r\n     <use x=\"207.470703\" xlink:href=\"#DejaVuSans-116\"/>\r\n     <use x=\"246.679688\" xlink:href=\"#DejaVuSans-114\"/>\r\n     <use x=\"285.542969\" xlink:href=\"#DejaVuSans-111\"/>\r\n     <use x=\"346.724609\" xlink:href=\"#DejaVuSans-110\"/>\r\n     <use x=\"410.103516\" xlink:href=\"#DejaVuSans-105\"/>\r\n     <use x=\"437.886719\" xlink:href=\"#DejaVuSans-99\"/>\r\n    </g>\r\n   </g>\r\n  </g>\r\n  <g id=\"axes_4\">\r\n   <g id=\"patch_17\">\r\n    <path d=\"M 39.65 538.839864 \r\nL 344.591176 538.839864 \r\nL 344.591176 304.057255 \r\nL 39.65 304.057255 \r\nz\r\n\" style=\"fill:#ffffff;\"/>\r\n   </g>\r\n   <g id=\"matplotlib.axis_7\">\r\n    <g id=\"xtick_4\">\r\n     <g id=\"line2d_64\">\r\n      <path clip-path=\"url(#pa2ca99f410)\" d=\"M 192.120588 538.839864 \r\nL 192.120588 304.057255 \r\n\" style=\"fill:none;stroke:#b0b0b0;stroke-linecap:square;stroke-width:0.8;\"/>\r\n     </g>\r\n     <g id=\"line2d_65\">\r\n      <g>\r\n       <use style=\"stroke:#000000;stroke-width:0.8;\" x=\"192.120588\" xlink:href=\"#m38de8124e7\" y=\"538.839864\"/>\r\n      </g>\r\n     </g>\r\n     <g id=\"text_13\">\r\n      <!-- length_lyric -->\r\n      <g transform=\"translate(163.140901 553.438302)scale(0.1 -0.1)\">\r\n       <use xlink:href=\"#DejaVuSans-108\"/>\r\n       <use x=\"27.783203\" xlink:href=\"#DejaVuSans-101\"/>\r\n       <use x=\"89.306641\" xlink:href=\"#DejaVuSans-110\"/>\r\n       <use x=\"152.685547\" xlink:href=\"#DejaVuSans-103\"/>\r\n       <use x=\"216.162109\" xlink:href=\"#DejaVuSans-116\"/>\r\n       <use x=\"255.371094\" xlink:href=\"#DejaVuSans-104\"/>\r\n       <use x=\"318.75\" xlink:href=\"#DejaVuSans-95\"/>\r\n       <use x=\"368.75\" xlink:href=\"#DejaVuSans-108\"/>\r\n       <use x=\"396.533203\" xlink:href=\"#DejaVuSans-121\"/>\r\n       <use x=\"455.712891\" xlink:href=\"#DejaVuSans-114\"/>\r\n       <use x=\"496.826172\" xlink:href=\"#DejaVuSans-105\"/>\r\n       <use x=\"524.609375\" xlink:href=\"#DejaVuSans-99\"/>\r\n      </g>\r\n     </g>\r\n    </g>\r\n   </g>\r\n   <g id=\"matplotlib.axis_8\">\r\n    <g id=\"ytick_19\">\r\n     <g id=\"line2d_66\">\r\n      <path clip-path=\"url(#pa2ca99f410)\" d=\"M 39.65 528.492549 \r\nL 344.591176 528.492549 \r\n\" style=\"fill:none;stroke:#b0b0b0;stroke-linecap:square;stroke-width:0.8;\"/>\r\n     </g>\r\n     <g id=\"line2d_67\">\r\n      <g>\r\n       <use style=\"stroke:#000000;stroke-width:0.8;\" x=\"39.65\" xlink:href=\"#ma85e649b5b\" y=\"528.492549\"/>\r\n      </g>\r\n     </g>\r\n     <g id=\"text_14\">\r\n      <!-- 0 -->\r\n      <g transform=\"translate(26.2875 532.291768)scale(0.1 -0.1)\">\r\n       <use xlink:href=\"#DejaVuSans-48\"/>\r\n      </g>\r\n     </g>\r\n    </g>\r\n    <g id=\"ytick_20\">\r\n     <g id=\"line2d_68\">\r\n      <path clip-path=\"url(#pa2ca99f410)\" d=\"M 39.65 487.914843 \r\nL 344.591176 487.914843 \r\n\" style=\"fill:none;stroke:#b0b0b0;stroke-linecap:square;stroke-width:0.8;\"/>\r\n     </g>\r\n     <g id=\"line2d_69\">\r\n      <g>\r\n       <use style=\"stroke:#000000;stroke-width:0.8;\" x=\"39.65\" xlink:href=\"#ma85e649b5b\" y=\"487.914843\"/>\r\n      </g>\r\n     </g>\r\n     <g id=\"text_15\">\r\n      <!-- 500 -->\r\n      <g transform=\"translate(13.5625 491.714061)scale(0.1 -0.1)\">\r\n       <use xlink:href=\"#DejaVuSans-53\"/>\r\n       <use x=\"63.623047\" xlink:href=\"#DejaVuSans-48\"/>\r\n       <use x=\"127.246094\" xlink:href=\"#DejaVuSans-48\"/>\r\n      </g>\r\n     </g>\r\n    </g>\r\n    <g id=\"ytick_21\">\r\n     <g id=\"line2d_70\">\r\n      <path clip-path=\"url(#pa2ca99f410)\" d=\"M 39.65 447.337136 \r\nL 344.591176 447.337136 \r\n\" style=\"fill:none;stroke:#b0b0b0;stroke-linecap:square;stroke-width:0.8;\"/>\r\n     </g>\r\n     <g id=\"line2d_71\">\r\n      <g>\r\n       <use style=\"stroke:#000000;stroke-width:0.8;\" x=\"39.65\" xlink:href=\"#ma85e649b5b\" y=\"447.337136\"/>\r\n      </g>\r\n     </g>\r\n     <g id=\"text_16\">\r\n      <!-- 1000 -->\r\n      <g transform=\"translate(7.2 451.136355)scale(0.1 -0.1)\">\r\n       <use xlink:href=\"#DejaVuSans-49\"/>\r\n       <use x=\"63.623047\" xlink:href=\"#DejaVuSans-48\"/>\r\n       <use x=\"127.246094\" xlink:href=\"#DejaVuSans-48\"/>\r\n       <use x=\"190.869141\" xlink:href=\"#DejaVuSans-48\"/>\r\n      </g>\r\n     </g>\r\n    </g>\r\n    <g id=\"ytick_22\">\r\n     <g id=\"line2d_72\">\r\n      <path clip-path=\"url(#pa2ca99f410)\" d=\"M 39.65 406.75943 \r\nL 344.591176 406.75943 \r\n\" style=\"fill:none;stroke:#b0b0b0;stroke-linecap:square;stroke-width:0.8;\"/>\r\n     </g>\r\n     <g id=\"line2d_73\">\r\n      <g>\r\n       <use style=\"stroke:#000000;stroke-width:0.8;\" x=\"39.65\" xlink:href=\"#ma85e649b5b\" y=\"406.75943\"/>\r\n      </g>\r\n     </g>\r\n     <g id=\"text_17\">\r\n      <!-- 1500 -->\r\n      <g transform=\"translate(7.2 410.558649)scale(0.1 -0.1)\">\r\n       <use xlink:href=\"#DejaVuSans-49\"/>\r\n       <use x=\"63.623047\" xlink:href=\"#DejaVuSans-53\"/>\r\n       <use x=\"127.246094\" xlink:href=\"#DejaVuSans-48\"/>\r\n       <use x=\"190.869141\" xlink:href=\"#DejaVuSans-48\"/>\r\n      </g>\r\n     </g>\r\n    </g>\r\n    <g id=\"ytick_23\">\r\n     <g id=\"line2d_74\">\r\n      <path clip-path=\"url(#pa2ca99f410)\" d=\"M 39.65 366.181724 \r\nL 344.591176 366.181724 \r\n\" style=\"fill:none;stroke:#b0b0b0;stroke-linecap:square;stroke-width:0.8;\"/>\r\n     </g>\r\n     <g id=\"line2d_75\">\r\n      <g>\r\n       <use style=\"stroke:#000000;stroke-width:0.8;\" x=\"39.65\" xlink:href=\"#ma85e649b5b\" y=\"366.181724\"/>\r\n      </g>\r\n     </g>\r\n     <g id=\"text_18\">\r\n      <!-- 2000 -->\r\n      <g transform=\"translate(7.2 369.980943)scale(0.1 -0.1)\">\r\n       <use xlink:href=\"#DejaVuSans-50\"/>\r\n       <use x=\"63.623047\" xlink:href=\"#DejaVuSans-48\"/>\r\n       <use x=\"127.246094\" xlink:href=\"#DejaVuSans-48\"/>\r\n       <use x=\"190.869141\" xlink:href=\"#DejaVuSans-48\"/>\r\n      </g>\r\n     </g>\r\n    </g>\r\n    <g id=\"ytick_24\">\r\n     <g id=\"line2d_76\">\r\n      <path clip-path=\"url(#pa2ca99f410)\" d=\"M 39.65 325.604017 \r\nL 344.591176 325.604017 \r\n\" style=\"fill:none;stroke:#b0b0b0;stroke-linecap:square;stroke-width:0.8;\"/>\r\n     </g>\r\n     <g id=\"line2d_77\">\r\n      <g>\r\n       <use style=\"stroke:#000000;stroke-width:0.8;\" x=\"39.65\" xlink:href=\"#ma85e649b5b\" y=\"325.604017\"/>\r\n      </g>\r\n     </g>\r\n     <g id=\"text_19\">\r\n      <!-- 2500 -->\r\n      <g transform=\"translate(7.2 329.403236)scale(0.1 -0.1)\">\r\n       <use xlink:href=\"#DejaVuSans-50\"/>\r\n       <use x=\"63.623047\" xlink:href=\"#DejaVuSans-53\"/>\r\n       <use x=\"127.246094\" xlink:href=\"#DejaVuSans-48\"/>\r\n       <use x=\"190.869141\" xlink:href=\"#DejaVuSans-48\"/>\r\n      </g>\r\n     </g>\r\n    </g>\r\n   </g>\r\n   <g id=\"line2d_78\">\r\n    <path clip-path=\"url(#pa2ca99f410)\" d=\"M 169.25 515.751149 \r\nL 214.991176 515.751149 \r\nL 214.991176 506.702321 \r\nL 169.25 506.702321 \r\nL 169.25 515.751149 \r\n\" style=\"fill:none;stroke:#1f77b4;stroke-linecap:square;\"/>\r\n   </g>\r\n   <g id=\"line2d_79\">\r\n    <path clip-path=\"url(#pa2ca99f410)\" d=\"M 192.120588 515.751149 \r\nL 192.120588 526.463664 \r\n\" style=\"fill:none;stroke:#1f77b4;stroke-linecap:square;\"/>\r\n   </g>\r\n   <g id=\"line2d_80\">\r\n    <path clip-path=\"url(#pa2ca99f410)\" d=\"M 192.120588 506.702321 \r\nL 192.120588 494.32612 \r\n\" style=\"fill:none;stroke:#1f77b4;stroke-linecap:square;\"/>\r\n   </g>\r\n   <g id=\"line2d_81\">\r\n    <path clip-path=\"url(#pa2ca99f410)\" d=\"M 180.685294 526.463664 \r\nL 203.555882 526.463664 \r\n\" style=\"fill:none;stroke:#000000;stroke-linecap:square;\"/>\r\n   </g>\r\n   <g id=\"line2d_82\">\r\n    <path clip-path=\"url(#pa2ca99f410)\" d=\"M 180.685294 494.32612 \r\nL 203.555882 494.32612 \r\n\" style=\"fill:none;stroke:#000000;stroke-linecap:square;\"/>\r\n   </g>\r\n   <g id=\"line2d_83\">\r\n    <g clip-path=\"url(#pa2ca99f410)\">\r\n     <use style=\"fill-opacity:0;stroke:#000000;\" x=\"192.120588\" xlink:href=\"#m607eb35c44\" y=\"471.764916\"/>\r\n     <use style=\"fill-opacity:0;stroke:#000000;\" x=\"192.120588\" xlink:href=\"#m607eb35c44\" y=\"450.09642\"/>\r\n     <use style=\"fill-opacity:0;stroke:#000000;\" x=\"192.120588\" xlink:href=\"#m607eb35c44\" y=\"488.564086\"/>\r\n     <use style=\"fill-opacity:0;stroke:#000000;\" x=\"192.120588\" xlink:href=\"#m607eb35c44\" y=\"314.729192\"/>\r\n     <use style=\"fill-opacity:0;stroke:#000000;\" x=\"192.120588\" xlink:href=\"#m607eb35c44\" y=\"457.319252\"/>\r\n     <use style=\"fill-opacity:0;stroke:#000000;\" x=\"192.120588\" xlink:href=\"#m607eb35c44\" y=\"483.126673\"/>\r\n     <use style=\"fill-opacity:0;stroke:#000000;\" x=\"192.120588\" xlink:href=\"#m607eb35c44\" y=\"491.161059\"/>\r\n     <use style=\"fill-opacity:0;stroke:#000000;\" x=\"192.120588\" xlink:href=\"#m607eb35c44\" y=\"492.946478\"/>\r\n     <use style=\"fill-opacity:0;stroke:#000000;\" x=\"192.120588\" xlink:href=\"#m607eb35c44\" y=\"492.946478\"/>\r\n     <use style=\"fill-opacity:0;stroke:#000000;\" x=\"192.120588\" xlink:href=\"#m607eb35c44\" y=\"491.242215\"/>\r\n     <use style=\"fill-opacity:0;stroke:#000000;\" x=\"192.120588\" xlink:href=\"#m607eb35c44\" y=\"490.024883\"/>\r\n     <use style=\"fill-opacity:0;stroke:#000000;\" x=\"192.120588\" xlink:href=\"#m607eb35c44\" y=\"480.5297\"/>\r\n     <use style=\"fill-opacity:0;stroke:#000000;\" x=\"192.120588\" xlink:href=\"#m607eb35c44\" y=\"457.319252\"/>\r\n     <use style=\"fill-opacity:0;stroke:#000000;\" x=\"192.120588\" xlink:href=\"#m607eb35c44\" y=\"462.675509\"/>\r\n     <use style=\"fill-opacity:0;stroke:#000000;\" x=\"192.120588\" xlink:href=\"#m607eb35c44\" y=\"462.675509\"/>\r\n     <use style=\"fill-opacity:0;stroke:#000000;\" x=\"192.120588\" xlink:href=\"#m607eb35c44\" y=\"458.130806\"/>\r\n     <use style=\"fill-opacity:0;stroke:#000000;\" x=\"192.120588\" xlink:href=\"#m607eb35c44\" y=\"458.130806\"/>\r\n     <use style=\"fill-opacity:0;stroke:#000000;\" x=\"192.120588\" xlink:href=\"#m607eb35c44\" y=\"477.689261\"/>\r\n     <use style=\"fill-opacity:0;stroke:#000000;\" x=\"192.120588\" xlink:href=\"#m607eb35c44\" y=\"478.825437\"/>\r\n     <use style=\"fill-opacity:0;stroke:#000000;\" x=\"192.120588\" xlink:href=\"#m607eb35c44\" y=\"482.47743\"/>\r\n     <use style=\"fill-opacity:0;stroke:#000000;\" x=\"192.120588\" xlink:href=\"#m607eb35c44\" y=\"487.42791\"/>\r\n     <use style=\"fill-opacity:0;stroke:#000000;\" x=\"192.120588\" xlink:href=\"#m607eb35c44\" y=\"481.747031\"/>\r\n     <use style=\"fill-opacity:0;stroke:#000000;\" x=\"192.120588\" xlink:href=\"#m607eb35c44\" y=\"487.671376\"/>\r\n     <use style=\"fill-opacity:0;stroke:#000000;\" x=\"192.120588\" xlink:href=\"#m607eb35c44\" y=\"471.764916\"/>\r\n     <use style=\"fill-opacity:0;stroke:#000000;\" x=\"192.120588\" xlink:href=\"#m607eb35c44\" y=\"450.09642\"/>\r\n     <use style=\"fill-opacity:0;stroke:#000000;\" x=\"192.120588\" xlink:href=\"#m607eb35c44\" y=\"484.912092\"/>\r\n     <use style=\"fill-opacity:0;stroke:#000000;\" x=\"192.120588\" xlink:href=\"#m607eb35c44\" y=\"488.077154\"/>\r\n     <use style=\"fill-opacity:0;stroke:#000000;\" x=\"192.120588\" xlink:href=\"#m607eb35c44\" y=\"476.63424\"/>\r\n     <use style=\"fill-opacity:0;stroke:#000000;\" x=\"192.120588\" xlink:href=\"#m607eb35c44\" y=\"491.079904\"/>\r\n     <use style=\"fill-opacity:0;stroke:#000000;\" x=\"192.120588\" xlink:href=\"#m607eb35c44\" y=\"491.242215\"/>\r\n     <use style=\"fill-opacity:0;stroke:#000000;\" x=\"192.120588\" xlink:href=\"#m607eb35c44\" y=\"492.134924\"/>\r\n     <use style=\"fill-opacity:0;stroke:#000000;\" x=\"192.120588\" xlink:href=\"#m607eb35c44\" y=\"492.37839\"/>\r\n     <use style=\"fill-opacity:0;stroke:#000000;\" x=\"192.120588\" xlink:href=\"#m607eb35c44\" y=\"476.066152\"/>\r\n     <use style=\"fill-opacity:0;stroke:#000000;\" x=\"192.120588\" xlink:href=\"#m607eb35c44\" y=\"468.031767\"/>\r\n     <use style=\"fill-opacity:0;stroke:#000000;\" x=\"192.120588\" xlink:href=\"#m607eb35c44\" y=\"471.196828\"/>\r\n     <use style=\"fill-opacity:0;stroke:#000000;\" x=\"192.120588\" xlink:href=\"#m607eb35c44\" y=\"484.181694\"/>\r\n     <use style=\"fill-opacity:0;stroke:#000000;\" x=\"192.120588\" xlink:href=\"#m607eb35c44\" y=\"482.639741\"/>\r\n     <use style=\"fill-opacity:0;stroke:#000000;\" x=\"192.120588\" xlink:href=\"#m607eb35c44\" y=\"476.066152\"/>\r\n     <use style=\"fill-opacity:0;stroke:#000000;\" x=\"192.120588\" xlink:href=\"#m607eb35c44\" y=\"457.319252\"/>\r\n    </g>\r\n   </g>\r\n   <g id=\"line2d_84\">\r\n    <path clip-path=\"url(#pa2ca99f410)\" d=\"M 169.25 511.774534 \r\nL 214.991176 511.774534 \r\n\" style=\"fill:none;stroke:#2ca02c;stroke-linecap:square;\"/>\r\n   </g>\r\n   <g id=\"patch_18\">\r\n    <path d=\"M 39.65 538.839864 \r\nL 39.65 304.057255 \r\n\" style=\"fill:none;stroke:#000000;stroke-linecap:square;stroke-linejoin:miter;stroke-width:0.8;\"/>\r\n   </g>\r\n   <g id=\"patch_19\">\r\n    <path d=\"M 344.591176 538.839864 \r\nL 344.591176 304.057255 \r\n\" style=\"fill:none;stroke:#000000;stroke-linecap:square;stroke-linejoin:miter;stroke-width:0.8;\"/>\r\n   </g>\r\n   <g id=\"patch_20\">\r\n    <path d=\"M 39.65 538.839864 \r\nL 344.591176 538.839864 \r\n\" style=\"fill:none;stroke:#000000;stroke-linecap:square;stroke-linejoin:miter;stroke-width:0.8;\"/>\r\n   </g>\r\n   <g id=\"patch_21\">\r\n    <path d=\"M 39.65 304.057255 \r\nL 344.591176 304.057255 \r\n\" style=\"fill:none;stroke:#000000;stroke-linecap:square;stroke-linejoin:miter;stroke-width:0.8;\"/>\r\n   </g>\r\n   <g id=\"text_20\">\r\n    <!-- Folk -->\r\n    <g transform=\"translate(180.074651 298.057255)scale(0.12 -0.12)\">\r\n     <defs>\r\n      <path d=\"M 9.8125 72.90625 \r\nL 51.703125 72.90625 \r\nL 51.703125 64.59375 \r\nL 19.671875 64.59375 \r\nL 19.671875 43.109375 \r\nL 48.578125 43.109375 \r\nL 48.578125 34.8125 \r\nL 19.671875 34.8125 \r\nL 19.671875 0 \r\nL 9.8125 0 \r\nz\r\n\" id=\"DejaVuSans-70\"/>\r\n      <path d=\"M 9.078125 75.984375 \r\nL 18.109375 75.984375 \r\nL 18.109375 31.109375 \r\nL 44.921875 54.6875 \r\nL 56.390625 54.6875 \r\nL 27.390625 29.109375 \r\nL 57.625 0 \r\nL 45.90625 0 \r\nL 18.109375 26.703125 \r\nL 18.109375 0 \r\nL 9.078125 0 \r\nz\r\n\" id=\"DejaVuSans-107\"/>\r\n     </defs>\r\n     <use xlink:href=\"#DejaVuSans-70\"/>\r\n     <use x=\"53.894531\" xlink:href=\"#DejaVuSans-111\"/>\r\n     <use x=\"115.076172\" xlink:href=\"#DejaVuSans-108\"/>\r\n     <use x=\"142.859375\" xlink:href=\"#DejaVuSans-107\"/>\r\n    </g>\r\n   </g>\r\n  </g>\r\n  <g id=\"axes_5\">\r\n   <g id=\"patch_22\">\r\n    <path d=\"M 405.579412 538.839864 \r\nL 710.520588 538.839864 \r\nL 710.520588 304.057255 \r\nL 405.579412 304.057255 \r\nz\r\n\" style=\"fill:#ffffff;\"/>\r\n   </g>\r\n   <g id=\"matplotlib.axis_9\">\r\n    <g id=\"xtick_5\">\r\n     <g id=\"line2d_85\">\r\n      <path clip-path=\"url(#p8b39cd8d57)\" d=\"M 558.05 538.839864 \r\nL 558.05 304.057255 \r\n\" style=\"fill:none;stroke:#b0b0b0;stroke-linecap:square;stroke-width:0.8;\"/>\r\n     </g>\r\n     <g id=\"line2d_86\">\r\n      <g>\r\n       <use style=\"stroke:#000000;stroke-width:0.8;\" x=\"558.05\" xlink:href=\"#m38de8124e7\" y=\"538.839864\"/>\r\n      </g>\r\n     </g>\r\n     <g id=\"text_21\">\r\n      <!-- length_lyric -->\r\n      <g transform=\"translate(529.070313 553.438302)scale(0.1 -0.1)\">\r\n       <use xlink:href=\"#DejaVuSans-108\"/>\r\n       <use x=\"27.783203\" xlink:href=\"#DejaVuSans-101\"/>\r\n       <use x=\"89.306641\" xlink:href=\"#DejaVuSans-110\"/>\r\n       <use x=\"152.685547\" xlink:href=\"#DejaVuSans-103\"/>\r\n       <use x=\"216.162109\" xlink:href=\"#DejaVuSans-116\"/>\r\n       <use x=\"255.371094\" xlink:href=\"#DejaVuSans-104\"/>\r\n       <use x=\"318.75\" xlink:href=\"#DejaVuSans-95\"/>\r\n       <use x=\"368.75\" xlink:href=\"#DejaVuSans-108\"/>\r\n       <use x=\"396.533203\" xlink:href=\"#DejaVuSans-121\"/>\r\n       <use x=\"455.712891\" xlink:href=\"#DejaVuSans-114\"/>\r\n       <use x=\"496.826172\" xlink:href=\"#DejaVuSans-105\"/>\r\n       <use x=\"524.609375\" xlink:href=\"#DejaVuSans-99\"/>\r\n      </g>\r\n     </g>\r\n    </g>\r\n   </g>\r\n   <g id=\"matplotlib.axis_10\">\r\n    <g id=\"ytick_25\">\r\n     <g id=\"line2d_87\">\r\n      <path clip-path=\"url(#p8b39cd8d57)\" d=\"M 405.579412 528.492549 \r\nL 710.520588 528.492549 \r\n\" style=\"fill:none;stroke:#b0b0b0;stroke-linecap:square;stroke-width:0.8;\"/>\r\n     </g>\r\n     <g id=\"line2d_88\">\r\n      <g>\r\n       <use style=\"stroke:#000000;stroke-width:0.8;\" x=\"405.579412\" xlink:href=\"#ma85e649b5b\" y=\"528.492549\"/>\r\n      </g>\r\n     </g>\r\n    </g>\r\n    <g id=\"ytick_26\">\r\n     <g id=\"line2d_89\">\r\n      <path clip-path=\"url(#p8b39cd8d57)\" d=\"M 405.579412 487.914843 \r\nL 710.520588 487.914843 \r\n\" style=\"fill:none;stroke:#b0b0b0;stroke-linecap:square;stroke-width:0.8;\"/>\r\n     </g>\r\n     <g id=\"line2d_90\">\r\n      <g>\r\n       <use style=\"stroke:#000000;stroke-width:0.8;\" x=\"405.579412\" xlink:href=\"#ma85e649b5b\" y=\"487.914843\"/>\r\n      </g>\r\n     </g>\r\n    </g>\r\n    <g id=\"ytick_27\">\r\n     <g id=\"line2d_91\">\r\n      <path clip-path=\"url(#p8b39cd8d57)\" d=\"M 405.579412 447.337136 \r\nL 710.520588 447.337136 \r\n\" style=\"fill:none;stroke:#b0b0b0;stroke-linecap:square;stroke-width:0.8;\"/>\r\n     </g>\r\n     <g id=\"line2d_92\">\r\n      <g>\r\n       <use style=\"stroke:#000000;stroke-width:0.8;\" x=\"405.579412\" xlink:href=\"#ma85e649b5b\" y=\"447.337136\"/>\r\n      </g>\r\n     </g>\r\n    </g>\r\n    <g id=\"ytick_28\">\r\n     <g id=\"line2d_93\">\r\n      <path clip-path=\"url(#p8b39cd8d57)\" d=\"M 405.579412 406.75943 \r\nL 710.520588 406.75943 \r\n\" style=\"fill:none;stroke:#b0b0b0;stroke-linecap:square;stroke-width:0.8;\"/>\r\n     </g>\r\n     <g id=\"line2d_94\">\r\n      <g>\r\n       <use style=\"stroke:#000000;stroke-width:0.8;\" x=\"405.579412\" xlink:href=\"#ma85e649b5b\" y=\"406.75943\"/>\r\n      </g>\r\n     </g>\r\n    </g>\r\n    <g id=\"ytick_29\">\r\n     <g id=\"line2d_95\">\r\n      <path clip-path=\"url(#p8b39cd8d57)\" d=\"M 405.579412 366.181724 \r\nL 710.520588 366.181724 \r\n\" style=\"fill:none;stroke:#b0b0b0;stroke-linecap:square;stroke-width:0.8;\"/>\r\n     </g>\r\n     <g id=\"line2d_96\">\r\n      <g>\r\n       <use style=\"stroke:#000000;stroke-width:0.8;\" x=\"405.579412\" xlink:href=\"#ma85e649b5b\" y=\"366.181724\"/>\r\n      </g>\r\n     </g>\r\n    </g>\r\n    <g id=\"ytick_30\">\r\n     <g id=\"line2d_97\">\r\n      <path clip-path=\"url(#p8b39cd8d57)\" d=\"M 405.579412 325.604017 \r\nL 710.520588 325.604017 \r\n\" style=\"fill:none;stroke:#b0b0b0;stroke-linecap:square;stroke-width:0.8;\"/>\r\n     </g>\r\n     <g id=\"line2d_98\">\r\n      <g>\r\n       <use style=\"stroke:#000000;stroke-width:0.8;\" x=\"405.579412\" xlink:href=\"#ma85e649b5b\" y=\"325.604017\"/>\r\n      </g>\r\n     </g>\r\n    </g>\r\n   </g>\r\n   <g id=\"line2d_99\">\r\n    <path clip-path=\"url(#p8b39cd8d57)\" d=\"M 535.179412 508.041385 \r\nL 580.920588 508.041385 \r\nL 580.920588 478.906592 \r\nL 535.179412 478.906592 \r\nL 535.179412 508.041385 \r\n\" style=\"fill:none;stroke:#1f77b4;stroke-linecap:square;\"/>\r\n   </g>\r\n   <g id=\"line2d_100\">\r\n    <path clip-path=\"url(#p8b39cd8d57)\" d=\"M 558.05 508.041385 \r\nL 558.05 528.005617 \r\n\" style=\"fill:none;stroke:#1f77b4;stroke-linecap:square;\"/>\r\n   </g>\r\n   <g id=\"line2d_101\">\r\n    <path clip-path=\"url(#p8b39cd8d57)\" d=\"M 558.05 478.906592 \r\nL 558.05 436.705777 \r\n\" style=\"fill:none;stroke:#1f77b4;stroke-linecap:square;\"/>\r\n   </g>\r\n   <g id=\"line2d_102\">\r\n    <path clip-path=\"url(#p8b39cd8d57)\" d=\"M 546.614706 528.005617 \r\nL 569.485294 528.005617 \r\n\" style=\"fill:none;stroke:#000000;stroke-linecap:square;\"/>\r\n   </g>\r\n   <g id=\"line2d_103\">\r\n    <path clip-path=\"url(#p8b39cd8d57)\" d=\"M 546.614706 436.705777 \r\nL 569.485294 436.705777 \r\n\" style=\"fill:none;stroke:#000000;stroke-linecap:square;\"/>\r\n   </g>\r\n   <g id=\"line2d_104\">\r\n    <g clip-path=\"url(#p8b39cd8d57)\">\r\n     <use style=\"fill-opacity:0;stroke:#000000;\" x=\"558.05\" xlink:href=\"#m607eb35c44\" y=\"403.269747\"/>\r\n    </g>\r\n   </g>\r\n   <g id=\"line2d_105\">\r\n    <path clip-path=\"url(#p8b39cd8d57)\" d=\"M 535.179412 494.650742 \r\nL 580.920588 494.650742 \r\n\" style=\"fill:none;stroke:#2ca02c;stroke-linecap:square;\"/>\r\n   </g>\r\n   <g id=\"patch_23\">\r\n    <path d=\"M 405.579412 538.839864 \r\nL 405.579412 304.057255 \r\n\" style=\"fill:none;stroke:#000000;stroke-linecap:square;stroke-linejoin:miter;stroke-width:0.8;\"/>\r\n   </g>\r\n   <g id=\"patch_24\">\r\n    <path d=\"M 710.520588 538.839864 \r\nL 710.520588 304.057255 \r\n\" style=\"fill:none;stroke:#000000;stroke-linecap:square;stroke-linejoin:miter;stroke-width:0.8;\"/>\r\n   </g>\r\n   <g id=\"patch_25\">\r\n    <path d=\"M 405.579412 538.839864 \r\nL 710.520588 538.839864 \r\n\" style=\"fill:none;stroke:#000000;stroke-linecap:square;stroke-linejoin:miter;stroke-width:0.8;\"/>\r\n   </g>\r\n   <g id=\"patch_26\">\r\n    <path d=\"M 405.579412 304.057255 \r\nL 710.520588 304.057255 \r\n\" style=\"fill:none;stroke:#000000;stroke-linecap:square;stroke-linejoin:miter;stroke-width:0.8;\"/>\r\n   </g>\r\n   <g id=\"text_22\">\r\n    <!-- Hip Hop -->\r\n    <g transform=\"translate(534.1625 298.057255)scale(0.12 -0.12)\">\r\n     <defs>\r\n      <path d=\"M 9.8125 72.90625 \r\nL 19.671875 72.90625 \r\nL 19.671875 43.015625 \r\nL 55.515625 43.015625 \r\nL 55.515625 72.90625 \r\nL 65.375 72.90625 \r\nL 65.375 0 \r\nL 55.515625 0 \r\nL 55.515625 34.71875 \r\nL 19.671875 34.71875 \r\nL 19.671875 0 \r\nL 9.8125 0 \r\nz\r\n\" id=\"DejaVuSans-72\"/>\r\n      <path d=\"M 18.109375 8.203125 \r\nL 18.109375 -20.796875 \r\nL 9.078125 -20.796875 \r\nL 9.078125 54.6875 \r\nL 18.109375 54.6875 \r\nL 18.109375 46.390625 \r\nQ 20.953125 51.265625 25.265625 53.625 \r\nQ 29.59375 56 35.59375 56 \r\nQ 45.5625 56 51.78125 48.09375 \r\nQ 58.015625 40.1875 58.015625 27.296875 \r\nQ 58.015625 14.40625 51.78125 6.484375 \r\nQ 45.5625 -1.421875 35.59375 -1.421875 \r\nQ 29.59375 -1.421875 25.265625 0.953125 \r\nQ 20.953125 3.328125 18.109375 8.203125 \r\nz\r\nM 48.6875 27.296875 \r\nQ 48.6875 37.203125 44.609375 42.84375 \r\nQ 40.53125 48.484375 33.40625 48.484375 \r\nQ 26.265625 48.484375 22.1875 42.84375 \r\nQ 18.109375 37.203125 18.109375 27.296875 \r\nQ 18.109375 17.390625 22.1875 11.75 \r\nQ 26.265625 6.109375 33.40625 6.109375 \r\nQ 40.53125 6.109375 44.609375 11.75 \r\nQ 48.6875 17.390625 48.6875 27.296875 \r\nz\r\n\" id=\"DejaVuSans-112\"/>\r\n      <path id=\"DejaVuSans-32\"/>\r\n     </defs>\r\n     <use xlink:href=\"#DejaVuSans-72\"/>\r\n     <use x=\"75.195312\" xlink:href=\"#DejaVuSans-105\"/>\r\n     <use x=\"102.978516\" xlink:href=\"#DejaVuSans-112\"/>\r\n     <use x=\"166.455078\" xlink:href=\"#DejaVuSans-32\"/>\r\n     <use x=\"198.242188\" xlink:href=\"#DejaVuSans-72\"/>\r\n     <use x=\"273.4375\" xlink:href=\"#DejaVuSans-111\"/>\r\n     <use x=\"334.619141\" xlink:href=\"#DejaVuSans-112\"/>\r\n    </g>\r\n   </g>\r\n  </g>\r\n  <g id=\"axes_6\">\r\n   <g id=\"patch_27\">\r\n    <path d=\"M 771.508824 538.839864 \r\nL 1076.45 538.839864 \r\nL 1076.45 304.057255 \r\nL 771.508824 304.057255 \r\nz\r\n\" style=\"fill:#ffffff;\"/>\r\n   </g>\r\n   <g id=\"matplotlib.axis_11\">\r\n    <g id=\"xtick_6\">\r\n     <g id=\"line2d_106\">\r\n      <path clip-path=\"url(#pc0b60364ad)\" d=\"M 923.979412 538.839864 \r\nL 923.979412 304.057255 \r\n\" style=\"fill:none;stroke:#b0b0b0;stroke-linecap:square;stroke-width:0.8;\"/>\r\n     </g>\r\n     <g id=\"line2d_107\">\r\n      <g>\r\n       <use style=\"stroke:#000000;stroke-width:0.8;\" x=\"923.979412\" xlink:href=\"#m38de8124e7\" y=\"538.839864\"/>\r\n      </g>\r\n     </g>\r\n     <g id=\"text_23\">\r\n      <!-- length_lyric -->\r\n      <g transform=\"translate(894.999724 553.438302)scale(0.1 -0.1)\">\r\n       <use xlink:href=\"#DejaVuSans-108\"/>\r\n       <use x=\"27.783203\" xlink:href=\"#DejaVuSans-101\"/>\r\n       <use x=\"89.306641\" xlink:href=\"#DejaVuSans-110\"/>\r\n       <use x=\"152.685547\" xlink:href=\"#DejaVuSans-103\"/>\r\n       <use x=\"216.162109\" xlink:href=\"#DejaVuSans-116\"/>\r\n       <use x=\"255.371094\" xlink:href=\"#DejaVuSans-104\"/>\r\n       <use x=\"318.75\" xlink:href=\"#DejaVuSans-95\"/>\r\n       <use x=\"368.75\" xlink:href=\"#DejaVuSans-108\"/>\r\n       <use x=\"396.533203\" xlink:href=\"#DejaVuSans-121\"/>\r\n       <use x=\"455.712891\" xlink:href=\"#DejaVuSans-114\"/>\r\n       <use x=\"496.826172\" xlink:href=\"#DejaVuSans-105\"/>\r\n       <use x=\"524.609375\" xlink:href=\"#DejaVuSans-99\"/>\r\n      </g>\r\n     </g>\r\n    </g>\r\n   </g>\r\n   <g id=\"matplotlib.axis_12\">\r\n    <g id=\"ytick_31\">\r\n     <g id=\"line2d_108\">\r\n      <path clip-path=\"url(#pc0b60364ad)\" d=\"M 771.508824 528.492549 \r\nL 1076.45 528.492549 \r\n\" style=\"fill:none;stroke:#b0b0b0;stroke-linecap:square;stroke-width:0.8;\"/>\r\n     </g>\r\n     <g id=\"line2d_109\">\r\n      <g>\r\n       <use style=\"stroke:#000000;stroke-width:0.8;\" x=\"771.508824\" xlink:href=\"#ma85e649b5b\" y=\"528.492549\"/>\r\n      </g>\r\n     </g>\r\n    </g>\r\n    <g id=\"ytick_32\">\r\n     <g id=\"line2d_110\">\r\n      <path clip-path=\"url(#pc0b60364ad)\" d=\"M 771.508824 487.914843 \r\nL 1076.45 487.914843 \r\n\" style=\"fill:none;stroke:#b0b0b0;stroke-linecap:square;stroke-width:0.8;\"/>\r\n     </g>\r\n     <g id=\"line2d_111\">\r\n      <g>\r\n       <use style=\"stroke:#000000;stroke-width:0.8;\" x=\"771.508824\" xlink:href=\"#ma85e649b5b\" y=\"487.914843\"/>\r\n      </g>\r\n     </g>\r\n    </g>\r\n    <g id=\"ytick_33\">\r\n     <g id=\"line2d_112\">\r\n      <path clip-path=\"url(#pc0b60364ad)\" d=\"M 771.508824 447.337136 \r\nL 1076.45 447.337136 \r\n\" style=\"fill:none;stroke:#b0b0b0;stroke-linecap:square;stroke-width:0.8;\"/>\r\n     </g>\r\n     <g id=\"line2d_113\">\r\n      <g>\r\n       <use style=\"stroke:#000000;stroke-width:0.8;\" x=\"771.508824\" xlink:href=\"#ma85e649b5b\" y=\"447.337136\"/>\r\n      </g>\r\n     </g>\r\n    </g>\r\n    <g id=\"ytick_34\">\r\n     <g id=\"line2d_114\">\r\n      <path clip-path=\"url(#pc0b60364ad)\" d=\"M 771.508824 406.75943 \r\nL 1076.45 406.75943 \r\n\" style=\"fill:none;stroke:#b0b0b0;stroke-linecap:square;stroke-width:0.8;\"/>\r\n     </g>\r\n     <g id=\"line2d_115\">\r\n      <g>\r\n       <use style=\"stroke:#000000;stroke-width:0.8;\" x=\"771.508824\" xlink:href=\"#ma85e649b5b\" y=\"406.75943\"/>\r\n      </g>\r\n     </g>\r\n    </g>\r\n    <g id=\"ytick_35\">\r\n     <g id=\"line2d_116\">\r\n      <path clip-path=\"url(#pc0b60364ad)\" d=\"M 771.508824 366.181724 \r\nL 1076.45 366.181724 \r\n\" style=\"fill:none;stroke:#b0b0b0;stroke-linecap:square;stroke-width:0.8;\"/>\r\n     </g>\r\n     <g id=\"line2d_117\">\r\n      <g>\r\n       <use style=\"stroke:#000000;stroke-width:0.8;\" x=\"771.508824\" xlink:href=\"#ma85e649b5b\" y=\"366.181724\"/>\r\n      </g>\r\n     </g>\r\n    </g>\r\n    <g id=\"ytick_36\">\r\n     <g id=\"line2d_118\">\r\n      <path clip-path=\"url(#pc0b60364ad)\" d=\"M 771.508824 325.604017 \r\nL 1076.45 325.604017 \r\n\" style=\"fill:none;stroke:#b0b0b0;stroke-linecap:square;stroke-width:0.8;\"/>\r\n     </g>\r\n     <g id=\"line2d_119\">\r\n      <g>\r\n       <use style=\"stroke:#000000;stroke-width:0.8;\" x=\"771.508824\" xlink:href=\"#ma85e649b5b\" y=\"325.604017\"/>\r\n      </g>\r\n     </g>\r\n    </g>\r\n   </g>\r\n   <g id=\"line2d_120\">\r\n    <path clip-path=\"url(#pc0b60364ad)\" d=\"M 901.108824 519.240832 \r\nL 946.85 519.240832 \r\nL 946.85 511.125291 \r\nL 901.108824 511.125291 \r\nL 901.108824 519.240832 \r\n\" style=\"fill:none;stroke:#1f77b4;stroke-linecap:square;\"/>\r\n   </g>\r\n   <g id=\"line2d_121\">\r\n    <path clip-path=\"url(#pc0b60364ad)\" d=\"M 923.979412 519.240832 \r\nL 923.979412 528.167927 \r\n\" style=\"fill:none;stroke:#1f77b4;stroke-linecap:square;\"/>\r\n   </g>\r\n   <g id=\"line2d_122\">\r\n    <path clip-path=\"url(#pc0b60364ad)\" d=\"M 923.979412 511.125291 \r\nL 923.979412 498.951979 \r\n\" style=\"fill:none;stroke:#1f77b4;stroke-linecap:square;\"/>\r\n   </g>\r\n   <g id=\"line2d_123\">\r\n    <path clip-path=\"url(#pc0b60364ad)\" d=\"M 912.544118 528.167927 \r\nL 935.414706 528.167927 \r\n\" style=\"fill:none;stroke:#000000;stroke-linecap:square;\"/>\r\n   </g>\r\n   <g id=\"line2d_124\">\r\n    <path clip-path=\"url(#pc0b60364ad)\" d=\"M 912.544118 498.951979 \r\nL 935.414706 498.951979 \r\n\" style=\"fill:none;stroke:#000000;stroke-linecap:square;\"/>\r\n   </g>\r\n   <g id=\"line2d_125\">\r\n    <g clip-path=\"url(#pc0b60364ad)\">\r\n     <use style=\"fill-opacity:0;stroke:#000000;\" x=\"923.979412\" xlink:href=\"#m607eb35c44\" y=\"486.291734\"/>\r\n     <use style=\"fill-opacity:0;stroke:#000000;\" x=\"923.979412\" xlink:href=\"#m607eb35c44\" y=\"458.94236\"/>\r\n     <use style=\"fill-opacity:0;stroke:#000000;\" x=\"923.979412\" xlink:href=\"#m607eb35c44\" y=\"463.649374\"/>\r\n     <use style=\"fill-opacity:0;stroke:#000000;\" x=\"923.979412\" xlink:href=\"#m607eb35c44\" y=\"476.958862\"/>\r\n     <use style=\"fill-opacity:0;stroke:#000000;\" x=\"923.979412\" xlink:href=\"#m607eb35c44\" y=\"479.880457\"/>\r\n     <use style=\"fill-opacity:0;stroke:#000000;\" x=\"923.979412\" xlink:href=\"#m607eb35c44\" y=\"493.758032\"/>\r\n     <use style=\"fill-opacity:0;stroke:#000000;\" x=\"923.979412\" xlink:href=\"#m607eb35c44\" y=\"494.569587\"/>\r\n     <use style=\"fill-opacity:0;stroke:#000000;\" x=\"923.979412\" xlink:href=\"#m607eb35c44\" y=\"496.355006\"/>\r\n     <use style=\"fill-opacity:0;stroke:#000000;\" x=\"923.979412\" xlink:href=\"#m607eb35c44\" y=\"498.708513\"/>\r\n     <use style=\"fill-opacity:0;stroke:#000000;\" x=\"923.979412\" xlink:href=\"#m607eb35c44\" y=\"497.085404\"/>\r\n     <use style=\"fill-opacity:0;stroke:#000000;\" x=\"923.979412\" xlink:href=\"#m607eb35c44\" y=\"474.68651\"/>\r\n     <use style=\"fill-opacity:0;stroke:#000000;\" x=\"923.979412\" xlink:href=\"#m607eb35c44\" y=\"492.865323\"/>\r\n     <use style=\"fill-opacity:0;stroke:#000000;\" x=\"923.979412\" xlink:href=\"#m607eb35c44\" y=\"496.355006\"/>\r\n     <use style=\"fill-opacity:0;stroke:#000000;\" x=\"923.979412\" xlink:href=\"#m607eb35c44\" y=\"495.705762\"/>\r\n     <use style=\"fill-opacity:0;stroke:#000000;\" x=\"923.979412\" xlink:href=\"#m607eb35c44\" y=\"492.703012\"/>\r\n     <use style=\"fill-opacity:0;stroke:#000000;\" x=\"923.979412\" xlink:href=\"#m607eb35c44\" y=\"466.895591\"/>\r\n     <use style=\"fill-opacity:0;stroke:#000000;\" x=\"923.979412\" xlink:href=\"#m607eb35c44\" y=\"498.302736\"/>\r\n     <use style=\"fill-opacity:0;stroke:#000000;\" x=\"923.979412\" xlink:href=\"#m607eb35c44\" y=\"495.543452\"/>\r\n     <use style=\"fill-opacity:0;stroke:#000000;\" x=\"923.979412\" xlink:href=\"#m607eb35c44\" y=\"493.758032\"/>\r\n     <use style=\"fill-opacity:0;stroke:#000000;\" x=\"923.979412\" xlink:href=\"#m607eb35c44\" y=\"482.802052\"/>\r\n     <use style=\"fill-opacity:0;stroke:#000000;\" x=\"923.979412\" xlink:href=\"#m607eb35c44\" y=\"497.085404\"/>\r\n     <use style=\"fill-opacity:0;stroke:#000000;\" x=\"923.979412\" xlink:href=\"#m607eb35c44\" y=\"492.703012\"/>\r\n     <use style=\"fill-opacity:0;stroke:#000000;\" x=\"923.979412\" xlink:href=\"#m607eb35c44\" y=\"497.572337\"/>\r\n     <use style=\"fill-opacity:0;stroke:#000000;\" x=\"923.979412\" xlink:href=\"#m607eb35c44\" y=\"477.689261\"/>\r\n     <use style=\"fill-opacity:0;stroke:#000000;\" x=\"923.979412\" xlink:href=\"#m607eb35c44\" y=\"495.543452\"/>\r\n     <use style=\"fill-opacity:0;stroke:#000000;\" x=\"923.979412\" xlink:href=\"#m607eb35c44\" y=\"479.880457\"/>\r\n     <use style=\"fill-opacity:0;stroke:#000000;\" x=\"923.979412\" xlink:href=\"#m607eb35c44\" y=\"494.813053\"/>\r\n     <use style=\"fill-opacity:0;stroke:#000000;\" x=\"923.979412\" xlink:href=\"#m607eb35c44\" y=\"497.491181\"/>\r\n     <use style=\"fill-opacity:0;stroke:#000000;\" x=\"923.979412\" xlink:href=\"#m607eb35c44\" y=\"497.085404\"/>\r\n     <use style=\"fill-opacity:0;stroke:#000000;\" x=\"923.979412\" xlink:href=\"#m607eb35c44\" y=\"486.940978\"/>\r\n     <use style=\"fill-opacity:0;stroke:#000000;\" x=\"923.979412\" xlink:href=\"#m607eb35c44\" y=\"496.517316\"/>\r\n     <use style=\"fill-opacity:0;stroke:#000000;\" x=\"923.979412\" xlink:href=\"#m607eb35c44\" y=\"495.705762\"/>\r\n     <use style=\"fill-opacity:0;stroke:#000000;\" x=\"923.979412\" xlink:href=\"#m607eb35c44\" y=\"495.705762\"/>\r\n     <use style=\"fill-opacity:0;stroke:#000000;\" x=\"923.979412\" xlink:href=\"#m607eb35c44\" y=\"494.082654\"/>\r\n     <use style=\"fill-opacity:0;stroke:#000000;\" x=\"923.979412\" xlink:href=\"#m607eb35c44\" y=\"494.407276\"/>\r\n     <use style=\"fill-opacity:0;stroke:#000000;\" x=\"923.979412\" xlink:href=\"#m607eb35c44\" y=\"492.865323\"/>\r\n     <use style=\"fill-opacity:0;stroke:#000000;\" x=\"923.979412\" xlink:href=\"#m607eb35c44\" y=\"460.971246\"/>\r\n     <use style=\"fill-opacity:0;stroke:#000000;\" x=\"923.979412\" xlink:href=\"#m607eb35c44\" y=\"495.705762\"/>\r\n     <use style=\"fill-opacity:0;stroke:#000000;\" x=\"923.979412\" xlink:href=\"#m607eb35c44\" y=\"493.758032\"/>\r\n     <use style=\"fill-opacity:0;stroke:#000000;\" x=\"923.979412\" xlink:href=\"#m607eb35c44\" y=\"477.689261\"/>\r\n     <use style=\"fill-opacity:0;stroke:#000000;\" x=\"923.979412\" xlink:href=\"#m607eb35c44\" y=\"495.543452\"/>\r\n     <use style=\"fill-opacity:0;stroke:#000000;\" x=\"923.979412\" xlink:href=\"#m607eb35c44\" y=\"490.998748\"/>\r\n     <use style=\"fill-opacity:0;stroke:#000000;\" x=\"923.979412\" xlink:href=\"#m607eb35c44\" y=\"497.815803\"/>\r\n     <use style=\"fill-opacity:0;stroke:#000000;\" x=\"923.979412\" xlink:href=\"#m607eb35c44\" y=\"491.404525\"/>\r\n     <use style=\"fill-opacity:0;stroke:#000000;\" x=\"923.979412\" xlink:href=\"#m607eb35c44\" y=\"496.111539\"/>\r\n     <use style=\"fill-opacity:0;stroke:#000000;\" x=\"923.979412\" xlink:href=\"#m607eb35c44\" y=\"492.540701\"/>\r\n     <use style=\"fill-opacity:0;stroke:#000000;\" x=\"923.979412\" xlink:href=\"#m607eb35c44\" y=\"490.674127\"/>\r\n     <use style=\"fill-opacity:0;stroke:#000000;\" x=\"923.979412\" xlink:href=\"#m607eb35c44\" y=\"498.870823\"/>\r\n     <use style=\"fill-opacity:0;stroke:#000000;\" x=\"923.979412\" xlink:href=\"#m607eb35c44\" y=\"468.68101\"/>\r\n     <use style=\"fill-opacity:0;stroke:#000000;\" x=\"923.979412\" xlink:href=\"#m607eb35c44\" y=\"495.705762\"/>\r\n     <use style=\"fill-opacity:0;stroke:#000000;\" x=\"923.979412\" xlink:href=\"#m607eb35c44\" y=\"497.16656\"/>\r\n     <use style=\"fill-opacity:0;stroke:#000000;\" x=\"923.979412\" xlink:href=\"#m607eb35c44\" y=\"466.895591\"/>\r\n     <use style=\"fill-opacity:0;stroke:#000000;\" x=\"923.979412\" xlink:href=\"#m607eb35c44\" y=\"495.543452\"/>\r\n     <use style=\"fill-opacity:0;stroke:#000000;\" x=\"923.979412\" xlink:href=\"#m607eb35c44\" y=\"496.111539\"/>\r\n     <use style=\"fill-opacity:0;stroke:#000000;\" x=\"923.979412\" xlink:href=\"#m607eb35c44\" y=\"472.901091\"/>\r\n     <use style=\"fill-opacity:0;stroke:#000000;\" x=\"923.979412\" xlink:href=\"#m607eb35c44\" y=\"495.21883\"/>\r\n     <use style=\"fill-opacity:0;stroke:#000000;\" x=\"923.979412\" xlink:href=\"#m607eb35c44\" y=\"491.404525\"/>\r\n     <use style=\"fill-opacity:0;stroke:#000000;\" x=\"923.979412\" xlink:href=\"#m607eb35c44\" y=\"483.37014\"/>\r\n     <use style=\"fill-opacity:0;stroke:#000000;\" x=\"923.979412\" xlink:href=\"#m607eb35c44\" y=\"483.451295\"/>\r\n     <use style=\"fill-opacity:0;stroke:#000000;\" x=\"923.979412\" xlink:href=\"#m607eb35c44\" y=\"494.813053\"/>\r\n     <use style=\"fill-opacity:0;stroke:#000000;\" x=\"923.979412\" xlink:href=\"#m607eb35c44\" y=\"492.865323\"/>\r\n     <use style=\"fill-opacity:0;stroke:#000000;\" x=\"923.979412\" xlink:href=\"#m607eb35c44\" y=\"474.68651\"/>\r\n     <use style=\"fill-opacity:0;stroke:#000000;\" x=\"923.979412\" xlink:href=\"#m607eb35c44\" y=\"496.517316\"/>\r\n    </g>\r\n   </g>\r\n   <g id=\"line2d_126\">\r\n    <path clip-path=\"url(#pc0b60364ad)\" d=\"M 901.108824 516.156926 \r\nL 946.85 516.156926 \r\n\" style=\"fill:none;stroke:#2ca02c;stroke-linecap:square;\"/>\r\n   </g>\r\n   <g id=\"patch_28\">\r\n    <path d=\"M 771.508824 538.839864 \r\nL 771.508824 304.057255 \r\n\" style=\"fill:none;stroke:#000000;stroke-linecap:square;stroke-linejoin:miter;stroke-width:0.8;\"/>\r\n   </g>\r\n   <g id=\"patch_29\">\r\n    <path d=\"M 1076.45 538.839864 \r\nL 1076.45 304.057255 \r\n\" style=\"fill:none;stroke:#000000;stroke-linecap:square;stroke-linejoin:miter;stroke-width:0.8;\"/>\r\n   </g>\r\n   <g id=\"patch_30\">\r\n    <path d=\"M 771.508824 538.839864 \r\nL 1076.45 538.839864 \r\n\" style=\"fill:none;stroke:#000000;stroke-linecap:square;stroke-linejoin:miter;stroke-width:0.8;\"/>\r\n   </g>\r\n   <g id=\"patch_31\">\r\n    <path d=\"M 771.508824 304.057255 \r\nL 1076.45 304.057255 \r\n\" style=\"fill:none;stroke:#000000;stroke-linecap:square;stroke-linejoin:miter;stroke-width:0.8;\"/>\r\n   </g>\r\n   <g id=\"text_24\">\r\n    <!-- Jazz -->\r\n    <g transform=\"translate(912.234412 298.057255)scale(0.12 -0.12)\">\r\n     <defs>\r\n      <path d=\"M 9.8125 72.90625 \r\nL 19.671875 72.90625 \r\nL 19.671875 5.078125 \r\nQ 19.671875 -8.109375 14.671875 -14.0625 \r\nQ 9.671875 -20.015625 -1.421875 -20.015625 \r\nL -5.171875 -20.015625 \r\nL -5.171875 -11.71875 \r\nL -2.09375 -11.71875 \r\nQ 4.4375 -11.71875 7.125 -8.046875 \r\nQ 9.8125 -4.390625 9.8125 5.078125 \r\nz\r\n\" id=\"DejaVuSans-74\"/>\r\n      <path d=\"M 34.28125 27.484375 \r\nQ 23.390625 27.484375 19.1875 25 \r\nQ 14.984375 22.515625 14.984375 16.5 \r\nQ 14.984375 11.71875 18.140625 8.90625 \r\nQ 21.296875 6.109375 26.703125 6.109375 \r\nQ 34.1875 6.109375 38.703125 11.40625 \r\nQ 43.21875 16.703125 43.21875 25.484375 \r\nL 43.21875 27.484375 \r\nz\r\nM 52.203125 31.203125 \r\nL 52.203125 0 \r\nL 43.21875 0 \r\nL 43.21875 8.296875 \r\nQ 40.140625 3.328125 35.546875 0.953125 \r\nQ 30.953125 -1.421875 24.3125 -1.421875 \r\nQ 15.921875 -1.421875 10.953125 3.296875 \r\nQ 6 8.015625 6 15.921875 \r\nQ 6 25.140625 12.171875 29.828125 \r\nQ 18.359375 34.515625 30.609375 34.515625 \r\nL 43.21875 34.515625 \r\nL 43.21875 35.40625 \r\nQ 43.21875 41.609375 39.140625 45 \r\nQ 35.0625 48.390625 27.6875 48.390625 \r\nQ 23 48.390625 18.546875 47.265625 \r\nQ 14.109375 46.140625 10.015625 43.890625 \r\nL 10.015625 52.203125 \r\nQ 14.9375 54.109375 19.578125 55.046875 \r\nQ 24.21875 56 28.609375 56 \r\nQ 40.484375 56 46.34375 49.84375 \r\nQ 52.203125 43.703125 52.203125 31.203125 \r\nz\r\n\" id=\"DejaVuSans-97\"/>\r\n      <path d=\"M 5.515625 54.6875 \r\nL 48.1875 54.6875 \r\nL 48.1875 46.484375 \r\nL 14.40625 7.171875 \r\nL 48.1875 7.171875 \r\nL 48.1875 0 \r\nL 4.296875 0 \r\nL 4.296875 8.203125 \r\nL 38.09375 47.515625 \r\nL 5.515625 47.515625 \r\nz\r\n\" id=\"DejaVuSans-122\"/>\r\n     </defs>\r\n     <use xlink:href=\"#DejaVuSans-74\"/>\r\n     <use x=\"29.492188\" xlink:href=\"#DejaVuSans-97\"/>\r\n     <use x=\"90.771484\" xlink:href=\"#DejaVuSans-122\"/>\r\n     <use x=\"143.261719\" xlink:href=\"#DejaVuSans-122\"/>\r\n    </g>\r\n   </g>\r\n  </g>\r\n  <g id=\"axes_7\">\r\n   <g id=\"patch_32\">\r\n    <path d=\"M 39.65 820.578995 \r\nL 344.591176 820.578995 \r\nL 344.591176 585.796386 \r\nL 39.65 585.796386 \r\nz\r\n\" style=\"fill:#ffffff;\"/>\r\n   </g>\r\n   <g id=\"matplotlib.axis_13\">\r\n    <g id=\"xtick_7\">\r\n     <g id=\"line2d_127\">\r\n      <path clip-path=\"url(#p467892ab57)\" d=\"M 192.120588 820.578995 \r\nL 192.120588 585.796386 \r\n\" style=\"fill:none;stroke:#b0b0b0;stroke-linecap:square;stroke-width:0.8;\"/>\r\n     </g>\r\n     <g id=\"line2d_128\">\r\n      <g>\r\n       <use style=\"stroke:#000000;stroke-width:0.8;\" x=\"192.120588\" xlink:href=\"#m38de8124e7\" y=\"820.578995\"/>\r\n      </g>\r\n     </g>\r\n     <g id=\"text_25\">\r\n      <!-- length_lyric -->\r\n      <g transform=\"translate(163.140901 835.177432)scale(0.1 -0.1)\">\r\n       <use xlink:href=\"#DejaVuSans-108\"/>\r\n       <use x=\"27.783203\" xlink:href=\"#DejaVuSans-101\"/>\r\n       <use x=\"89.306641\" xlink:href=\"#DejaVuSans-110\"/>\r\n       <use x=\"152.685547\" xlink:href=\"#DejaVuSans-103\"/>\r\n       <use x=\"216.162109\" xlink:href=\"#DejaVuSans-116\"/>\r\n       <use x=\"255.371094\" xlink:href=\"#DejaVuSans-104\"/>\r\n       <use x=\"318.75\" xlink:href=\"#DejaVuSans-95\"/>\r\n       <use x=\"368.75\" xlink:href=\"#DejaVuSans-108\"/>\r\n       <use x=\"396.533203\" xlink:href=\"#DejaVuSans-121\"/>\r\n       <use x=\"455.712891\" xlink:href=\"#DejaVuSans-114\"/>\r\n       <use x=\"496.826172\" xlink:href=\"#DejaVuSans-105\"/>\r\n       <use x=\"524.609375\" xlink:href=\"#DejaVuSans-99\"/>\r\n      </g>\r\n     </g>\r\n    </g>\r\n   </g>\r\n   <g id=\"matplotlib.axis_14\">\r\n    <g id=\"ytick_37\">\r\n     <g id=\"line2d_129\">\r\n      <path clip-path=\"url(#p467892ab57)\" d=\"M 39.65 810.231679 \r\nL 344.591176 810.231679 \r\n\" style=\"fill:none;stroke:#b0b0b0;stroke-linecap:square;stroke-width:0.8;\"/>\r\n     </g>\r\n     <g id=\"line2d_130\">\r\n      <g>\r\n       <use style=\"stroke:#000000;stroke-width:0.8;\" x=\"39.65\" xlink:href=\"#ma85e649b5b\" y=\"810.231679\"/>\r\n      </g>\r\n     </g>\r\n     <g id=\"text_26\">\r\n      <!-- 0 -->\r\n      <g transform=\"translate(26.2875 814.030898)scale(0.1 -0.1)\">\r\n       <use xlink:href=\"#DejaVuSans-48\"/>\r\n      </g>\r\n     </g>\r\n    </g>\r\n    <g id=\"ytick_38\">\r\n     <g id=\"line2d_131\">\r\n      <path clip-path=\"url(#p467892ab57)\" d=\"M 39.65 769.653973 \r\nL 344.591176 769.653973 \r\n\" style=\"fill:none;stroke:#b0b0b0;stroke-linecap:square;stroke-width:0.8;\"/>\r\n     </g>\r\n     <g id=\"line2d_132\">\r\n      <g>\r\n       <use style=\"stroke:#000000;stroke-width:0.8;\" x=\"39.65\" xlink:href=\"#ma85e649b5b\" y=\"769.653973\"/>\r\n      </g>\r\n     </g>\r\n     <g id=\"text_27\">\r\n      <!-- 500 -->\r\n      <g transform=\"translate(13.5625 773.453192)scale(0.1 -0.1)\">\r\n       <use xlink:href=\"#DejaVuSans-53\"/>\r\n       <use x=\"63.623047\" xlink:href=\"#DejaVuSans-48\"/>\r\n       <use x=\"127.246094\" xlink:href=\"#DejaVuSans-48\"/>\r\n      </g>\r\n     </g>\r\n    </g>\r\n    <g id=\"ytick_39\">\r\n     <g id=\"line2d_133\">\r\n      <path clip-path=\"url(#p467892ab57)\" d=\"M 39.65 729.076267 \r\nL 344.591176 729.076267 \r\n\" style=\"fill:none;stroke:#b0b0b0;stroke-linecap:square;stroke-width:0.8;\"/>\r\n     </g>\r\n     <g id=\"line2d_134\">\r\n      <g>\r\n       <use style=\"stroke:#000000;stroke-width:0.8;\" x=\"39.65\" xlink:href=\"#ma85e649b5b\" y=\"729.076267\"/>\r\n      </g>\r\n     </g>\r\n     <g id=\"text_28\">\r\n      <!-- 1000 -->\r\n      <g transform=\"translate(7.2 732.875486)scale(0.1 -0.1)\">\r\n       <use xlink:href=\"#DejaVuSans-49\"/>\r\n       <use x=\"63.623047\" xlink:href=\"#DejaVuSans-48\"/>\r\n       <use x=\"127.246094\" xlink:href=\"#DejaVuSans-48\"/>\r\n       <use x=\"190.869141\" xlink:href=\"#DejaVuSans-48\"/>\r\n      </g>\r\n     </g>\r\n    </g>\r\n    <g id=\"ytick_40\">\r\n     <g id=\"line2d_135\">\r\n      <path clip-path=\"url(#p467892ab57)\" d=\"M 39.65 688.498561 \r\nL 344.591176 688.498561 \r\n\" style=\"fill:none;stroke:#b0b0b0;stroke-linecap:square;stroke-width:0.8;\"/>\r\n     </g>\r\n     <g id=\"line2d_136\">\r\n      <g>\r\n       <use style=\"stroke:#000000;stroke-width:0.8;\" x=\"39.65\" xlink:href=\"#ma85e649b5b\" y=\"688.498561\"/>\r\n      </g>\r\n     </g>\r\n     <g id=\"text_29\">\r\n      <!-- 1500 -->\r\n      <g transform=\"translate(7.2 692.297779)scale(0.1 -0.1)\">\r\n       <use xlink:href=\"#DejaVuSans-49\"/>\r\n       <use x=\"63.623047\" xlink:href=\"#DejaVuSans-53\"/>\r\n       <use x=\"127.246094\" xlink:href=\"#DejaVuSans-48\"/>\r\n       <use x=\"190.869141\" xlink:href=\"#DejaVuSans-48\"/>\r\n      </g>\r\n     </g>\r\n    </g>\r\n    <g id=\"ytick_41\">\r\n     <g id=\"line2d_137\">\r\n      <path clip-path=\"url(#p467892ab57)\" d=\"M 39.65 647.920854 \r\nL 344.591176 647.920854 \r\n\" style=\"fill:none;stroke:#b0b0b0;stroke-linecap:square;stroke-width:0.8;\"/>\r\n     </g>\r\n     <g id=\"line2d_138\">\r\n      <g>\r\n       <use style=\"stroke:#000000;stroke-width:0.8;\" x=\"39.65\" xlink:href=\"#ma85e649b5b\" y=\"647.920854\"/>\r\n      </g>\r\n     </g>\r\n     <g id=\"text_30\">\r\n      <!-- 2000 -->\r\n      <g transform=\"translate(7.2 651.720073)scale(0.1 -0.1)\">\r\n       <use xlink:href=\"#DejaVuSans-50\"/>\r\n       <use x=\"63.623047\" xlink:href=\"#DejaVuSans-48\"/>\r\n       <use x=\"127.246094\" xlink:href=\"#DejaVuSans-48\"/>\r\n       <use x=\"190.869141\" xlink:href=\"#DejaVuSans-48\"/>\r\n      </g>\r\n     </g>\r\n    </g>\r\n    <g id=\"ytick_42\">\r\n     <g id=\"line2d_139\">\r\n      <path clip-path=\"url(#p467892ab57)\" d=\"M 39.65 607.343148 \r\nL 344.591176 607.343148 \r\n\" style=\"fill:none;stroke:#b0b0b0;stroke-linecap:square;stroke-width:0.8;\"/>\r\n     </g>\r\n     <g id=\"line2d_140\">\r\n      <g>\r\n       <use style=\"stroke:#000000;stroke-width:0.8;\" x=\"39.65\" xlink:href=\"#ma85e649b5b\" y=\"607.343148\"/>\r\n      </g>\r\n     </g>\r\n     <g id=\"text_31\">\r\n      <!-- 2500 -->\r\n      <g transform=\"translate(7.2 611.142367)scale(0.1 -0.1)\">\r\n       <use xlink:href=\"#DejaVuSans-50\"/>\r\n       <use x=\"63.623047\" xlink:href=\"#DejaVuSans-53\"/>\r\n       <use x=\"127.246094\" xlink:href=\"#DejaVuSans-48\"/>\r\n       <use x=\"190.869141\" xlink:href=\"#DejaVuSans-48\"/>\r\n      </g>\r\n     </g>\r\n    </g>\r\n   </g>\r\n   <g id=\"line2d_141\">\r\n    <path clip-path=\"url(#p467892ab57)\" d=\"M 169.25 798.301834 \r\nL 214.991176 798.301834 \r\nL 214.991176 790.348603 \r\nL 169.25 790.348603 \r\nL 169.25 798.301834 \r\n\" style=\"fill:none;stroke:#1f77b4;stroke-linecap:square;\"/>\r\n   </g>\r\n   <g id=\"line2d_142\">\r\n    <path clip-path=\"url(#p467892ab57)\" d=\"M 192.120588 798.301834 \r\nL 192.120588 807.553551 \r\n\" style=\"fill:none;stroke:#1f77b4;stroke-linecap:square;\"/>\r\n   </g>\r\n   <g id=\"line2d_143\">\r\n    <path clip-path=\"url(#p467892ab57)\" d=\"M 192.120588 790.348603 \r\nL 192.120588 779.636089 \r\n\" style=\"fill:none;stroke:#1f77b4;stroke-linecap:square;\"/>\r\n   </g>\r\n   <g id=\"line2d_144\">\r\n    <path clip-path=\"url(#p467892ab57)\" d=\"M 180.685294 807.553551 \r\nL 203.555882 807.553551 \r\n\" style=\"fill:none;stroke:#000000;stroke-linecap:square;\"/>\r\n   </g>\r\n   <g id=\"line2d_145\">\r\n    <path clip-path=\"url(#p467892ab57)\" d=\"M 180.685294 779.636089 \r\nL 203.555882 779.636089 \r\n\" style=\"fill:none;stroke:#000000;stroke-linecap:square;\"/>\r\n   </g>\r\n   <g id=\"line2d_146\">\r\n    <g clip-path=\"url(#p467892ab57)\">\r\n     <use style=\"fill-opacity:0;stroke:#000000;\" x=\"192.120588\" xlink:href=\"#m607eb35c44\" y=\"758.616837\"/>\r\n     <use style=\"fill-opacity:0;stroke:#000000;\" x=\"192.120588\" xlink:href=\"#m607eb35c44\" y=\"744.576951\"/>\r\n     <use style=\"fill-opacity:0;stroke:#000000;\" x=\"192.120588\" xlink:href=\"#m607eb35c44\" y=\"773.305967\"/>\r\n     <use style=\"fill-opacity:0;stroke:#000000;\" x=\"192.120588\" xlink:href=\"#m607eb35c44\" y=\"769.00473\"/>\r\n     <use style=\"fill-opacity:0;stroke:#000000;\" x=\"192.120588\" xlink:href=\"#m607eb35c44\" y=\"776.714494\"/>\r\n     <use style=\"fill-opacity:0;stroke:#000000;\" x=\"192.120588\" xlink:href=\"#m607eb35c44\" y=\"776.795649\"/>\r\n     <use style=\"fill-opacity:0;stroke:#000000;\" x=\"192.120588\" xlink:href=\"#m607eb35c44\" y=\"776.95796\"/>\r\n     <use style=\"fill-opacity:0;stroke:#000000;\" x=\"192.120588\" xlink:href=\"#m607eb35c44\" y=\"774.117521\"/>\r\n     <use style=\"fill-opacity:0;stroke:#000000;\" x=\"192.120588\" xlink:href=\"#m607eb35c44\" y=\"773.792899\"/>\r\n     <use style=\"fill-opacity:0;stroke:#000000;\" x=\"192.120588\" xlink:href=\"#m607eb35c44\" y=\"753.585201\"/>\r\n     <use style=\"fill-opacity:0;stroke:#000000;\" x=\"192.120588\" xlink:href=\"#m607eb35c44\" y=\"777.363737\"/>\r\n    </g>\r\n   </g>\r\n   <g id=\"line2d_147\">\r\n    <path clip-path=\"url(#p467892ab57)\" d=\"M 169.25 794.406374 \r\nL 214.991176 794.406374 \r\n\" style=\"fill:none;stroke:#2ca02c;stroke-linecap:square;\"/>\r\n   </g>\r\n   <g id=\"patch_33\">\r\n    <path d=\"M 39.65 820.578995 \r\nL 39.65 585.796386 \r\n\" style=\"fill:none;stroke:#000000;stroke-linecap:square;stroke-linejoin:miter;stroke-width:0.8;\"/>\r\n   </g>\r\n   <g id=\"patch_34\">\r\n    <path d=\"M 344.591176 820.578995 \r\nL 344.591176 585.796386 \r\n\" style=\"fill:none;stroke:#000000;stroke-linecap:square;stroke-linejoin:miter;stroke-width:0.8;\"/>\r\n   </g>\r\n   <g id=\"patch_35\">\r\n    <path d=\"M 39.65 820.578995 \r\nL 344.591176 820.578995 \r\n\" style=\"fill:none;stroke:#000000;stroke-linecap:square;stroke-linejoin:miter;stroke-width:0.8;\"/>\r\n   </g>\r\n   <g id=\"patch_36\">\r\n    <path d=\"M 39.65 585.796386 \r\nL 344.591176 585.796386 \r\n\" style=\"fill:none;stroke:#000000;stroke-linecap:square;stroke-linejoin:miter;stroke-width:0.8;\"/>\r\n   </g>\r\n   <g id=\"text_32\">\r\n    <!-- Metal -->\r\n    <g transform=\"translate(175.555901 579.796386)scale(0.12 -0.12)\">\r\n     <defs>\r\n      <path d=\"M 9.8125 72.90625 \r\nL 24.515625 72.90625 \r\nL 43.109375 23.296875 \r\nL 61.8125 72.90625 \r\nL 76.515625 72.90625 \r\nL 76.515625 0 \r\nL 66.890625 0 \r\nL 66.890625 64.015625 \r\nL 48.09375 14.015625 \r\nL 38.1875 14.015625 \r\nL 19.390625 64.015625 \r\nL 19.390625 0 \r\nL 9.8125 0 \r\nz\r\n\" id=\"DejaVuSans-77\"/>\r\n     </defs>\r\n     <use xlink:href=\"#DejaVuSans-77\"/>\r\n     <use x=\"86.279297\" xlink:href=\"#DejaVuSans-101\"/>\r\n     <use x=\"147.802734\" xlink:href=\"#DejaVuSans-116\"/>\r\n     <use x=\"187.011719\" xlink:href=\"#DejaVuSans-97\"/>\r\n     <use x=\"248.291016\" xlink:href=\"#DejaVuSans-108\"/>\r\n    </g>\r\n   </g>\r\n  </g>\r\n  <g id=\"axes_8\">\r\n   <g id=\"patch_37\">\r\n    <path d=\"M 405.579412 820.578995 \r\nL 710.520588 820.578995 \r\nL 710.520588 585.796386 \r\nL 405.579412 585.796386 \r\nz\r\n\" style=\"fill:#ffffff;\"/>\r\n   </g>\r\n   <g id=\"matplotlib.axis_15\">\r\n    <g id=\"xtick_8\">\r\n     <g id=\"line2d_148\">\r\n      <path clip-path=\"url(#p1722622b19)\" d=\"M 558.05 820.578995 \r\nL 558.05 585.796386 \r\n\" style=\"fill:none;stroke:#b0b0b0;stroke-linecap:square;stroke-width:0.8;\"/>\r\n     </g>\r\n     <g id=\"line2d_149\">\r\n      <g>\r\n       <use style=\"stroke:#000000;stroke-width:0.8;\" x=\"558.05\" xlink:href=\"#m38de8124e7\" y=\"820.578995\"/>\r\n      </g>\r\n     </g>\r\n     <g id=\"text_33\">\r\n      <!-- length_lyric -->\r\n      <g transform=\"translate(529.070313 835.177432)scale(0.1 -0.1)\">\r\n       <use xlink:href=\"#DejaVuSans-108\"/>\r\n       <use x=\"27.783203\" xlink:href=\"#DejaVuSans-101\"/>\r\n       <use x=\"89.306641\" xlink:href=\"#DejaVuSans-110\"/>\r\n       <use x=\"152.685547\" xlink:href=\"#DejaVuSans-103\"/>\r\n       <use x=\"216.162109\" xlink:href=\"#DejaVuSans-116\"/>\r\n       <use x=\"255.371094\" xlink:href=\"#DejaVuSans-104\"/>\r\n       <use x=\"318.75\" xlink:href=\"#DejaVuSans-95\"/>\r\n       <use x=\"368.75\" xlink:href=\"#DejaVuSans-108\"/>\r\n       <use x=\"396.533203\" xlink:href=\"#DejaVuSans-121\"/>\r\n       <use x=\"455.712891\" xlink:href=\"#DejaVuSans-114\"/>\r\n       <use x=\"496.826172\" xlink:href=\"#DejaVuSans-105\"/>\r\n       <use x=\"524.609375\" xlink:href=\"#DejaVuSans-99\"/>\r\n      </g>\r\n     </g>\r\n    </g>\r\n   </g>\r\n   <g id=\"matplotlib.axis_16\">\r\n    <g id=\"ytick_43\">\r\n     <g id=\"line2d_150\">\r\n      <path clip-path=\"url(#p1722622b19)\" d=\"M 405.579412 810.231679 \r\nL 710.520588 810.231679 \r\n\" style=\"fill:none;stroke:#b0b0b0;stroke-linecap:square;stroke-width:0.8;\"/>\r\n     </g>\r\n     <g id=\"line2d_151\">\r\n      <g>\r\n       <use style=\"stroke:#000000;stroke-width:0.8;\" x=\"405.579412\" xlink:href=\"#ma85e649b5b\" y=\"810.231679\"/>\r\n      </g>\r\n     </g>\r\n    </g>\r\n    <g id=\"ytick_44\">\r\n     <g id=\"line2d_152\">\r\n      <path clip-path=\"url(#p1722622b19)\" d=\"M 405.579412 769.653973 \r\nL 710.520588 769.653973 \r\n\" style=\"fill:none;stroke:#b0b0b0;stroke-linecap:square;stroke-width:0.8;\"/>\r\n     </g>\r\n     <g id=\"line2d_153\">\r\n      <g>\r\n       <use style=\"stroke:#000000;stroke-width:0.8;\" x=\"405.579412\" xlink:href=\"#ma85e649b5b\" y=\"769.653973\"/>\r\n      </g>\r\n     </g>\r\n    </g>\r\n    <g id=\"ytick_45\">\r\n     <g id=\"line2d_154\">\r\n      <path clip-path=\"url(#p1722622b19)\" d=\"M 405.579412 729.076267 \r\nL 710.520588 729.076267 \r\n\" style=\"fill:none;stroke:#b0b0b0;stroke-linecap:square;stroke-width:0.8;\"/>\r\n     </g>\r\n     <g id=\"line2d_155\">\r\n      <g>\r\n       <use style=\"stroke:#000000;stroke-width:0.8;\" x=\"405.579412\" xlink:href=\"#ma85e649b5b\" y=\"729.076267\"/>\r\n      </g>\r\n     </g>\r\n    </g>\r\n    <g id=\"ytick_46\">\r\n     <g id=\"line2d_156\">\r\n      <path clip-path=\"url(#p1722622b19)\" d=\"M 405.579412 688.498561 \r\nL 710.520588 688.498561 \r\n\" style=\"fill:none;stroke:#b0b0b0;stroke-linecap:square;stroke-width:0.8;\"/>\r\n     </g>\r\n     <g id=\"line2d_157\">\r\n      <g>\r\n       <use style=\"stroke:#000000;stroke-width:0.8;\" x=\"405.579412\" xlink:href=\"#ma85e649b5b\" y=\"688.498561\"/>\r\n      </g>\r\n     </g>\r\n    </g>\r\n    <g id=\"ytick_47\">\r\n     <g id=\"line2d_158\">\r\n      <path clip-path=\"url(#p1722622b19)\" d=\"M 405.579412 647.920854 \r\nL 710.520588 647.920854 \r\n\" style=\"fill:none;stroke:#b0b0b0;stroke-linecap:square;stroke-width:0.8;\"/>\r\n     </g>\r\n     <g id=\"line2d_159\">\r\n      <g>\r\n       <use style=\"stroke:#000000;stroke-width:0.8;\" x=\"405.579412\" xlink:href=\"#ma85e649b5b\" y=\"647.920854\"/>\r\n      </g>\r\n     </g>\r\n    </g>\r\n    <g id=\"ytick_48\">\r\n     <g id=\"line2d_160\">\r\n      <path clip-path=\"url(#p1722622b19)\" d=\"M 405.579412 607.343148 \r\nL 710.520588 607.343148 \r\n\" style=\"fill:none;stroke:#b0b0b0;stroke-linecap:square;stroke-width:0.8;\"/>\r\n     </g>\r\n     <g id=\"line2d_161\">\r\n      <g>\r\n       <use style=\"stroke:#000000;stroke-width:0.8;\" x=\"405.579412\" xlink:href=\"#ma85e649b5b\" y=\"607.343148\"/>\r\n      </g>\r\n     </g>\r\n    </g>\r\n   </g>\r\n   <g id=\"line2d_162\">\r\n    <path clip-path=\"url(#p1722622b19)\" d=\"M 535.179412 795.786016 \r\nL 580.920588 795.786016 \r\nL 580.920588 784.830035 \r\nL 535.179412 784.830035 \r\nL 535.179412 795.786016 \r\n\" style=\"fill:none;stroke:#1f77b4;stroke-linecap:square;\"/>\r\n   </g>\r\n   <g id=\"line2d_163\">\r\n    <path clip-path=\"url(#p1722622b19)\" d=\"M 558.05 795.786016 \r\nL 558.05 809.663592 \r\n\" style=\"fill:none;stroke:#1f77b4;stroke-linecap:square;\"/>\r\n   </g>\r\n   <g id=\"line2d_164\">\r\n    <path clip-path=\"url(#p1722622b19)\" d=\"M 558.05 784.830035 \r\nL 558.05 768.598953 \r\n\" style=\"fill:none;stroke:#1f77b4;stroke-linecap:square;\"/>\r\n   </g>\r\n   <g id=\"line2d_165\">\r\n    <path clip-path=\"url(#p1722622b19)\" d=\"M 546.614706 809.663592 \r\nL 569.485294 809.663592 \r\n\" style=\"fill:none;stroke:#000000;stroke-linecap:square;\"/>\r\n   </g>\r\n   <g id=\"line2d_166\">\r\n    <path clip-path=\"url(#p1722622b19)\" d=\"M 546.614706 768.598953 \r\nL 569.485294 768.598953 \r\n\" style=\"fill:none;stroke:#000000;stroke-linecap:square;\"/>\r\n   </g>\r\n   <g id=\"line2d_167\">\r\n    <g clip-path=\"url(#p1722622b19)\">\r\n     <use style=\"fill-opacity:0;stroke:#000000;\" x=\"558.05\" xlink:href=\"#m607eb35c44\" y=\"757.805283\"/>\r\n     <use style=\"fill-opacity:0;stroke:#000000;\" x=\"558.05\" xlink:href=\"#m607eb35c44\" y=\"755.20831\"/>\r\n     <use style=\"fill-opacity:0;stroke:#000000;\" x=\"558.05\" xlink:href=\"#m607eb35c44\" y=\"755.20831\"/>\r\n     <use style=\"fill-opacity:0;stroke:#000000;\" x=\"558.05\" xlink:href=\"#m607eb35c44\" y=\"755.938708\"/>\r\n     <use style=\"fill-opacity:0;stroke:#000000;\" x=\"558.05\" xlink:href=\"#m607eb35c44\" y=\"758.373371\"/>\r\n     <use style=\"fill-opacity:0;stroke:#000000;\" x=\"558.05\" xlink:href=\"#m607eb35c44\" y=\"764.865804\"/>\r\n     <use style=\"fill-opacity:0;stroke:#000000;\" x=\"558.05\" xlink:href=\"#m607eb35c44\" y=\"759.915324\"/>\r\n     <use style=\"fill-opacity:0;stroke:#000000;\" x=\"558.05\" xlink:href=\"#m607eb35c44\" y=\"760.889189\"/>\r\n     <use style=\"fill-opacity:0;stroke:#000000;\" x=\"558.05\" xlink:href=\"#m607eb35c44\" y=\"766.326601\"/>\r\n     <use style=\"fill-opacity:0;stroke:#000000;\" x=\"558.05\" xlink:href=\"#m607eb35c44\" y=\"766.326601\"/>\r\n     <use style=\"fill-opacity:0;stroke:#000000;\" x=\"558.05\" xlink:href=\"#m607eb35c44\" y=\"762.10652\"/>\r\n     <use style=\"fill-opacity:0;stroke:#000000;\" x=\"558.05\" xlink:href=\"#m607eb35c44\" y=\"765.190425\"/>\r\n     <use style=\"fill-opacity:0;stroke:#000000;\" x=\"558.05\" xlink:href=\"#m607eb35c44\" y=\"764.622338\"/>\r\n     <use style=\"fill-opacity:0;stroke:#000000;\" x=\"558.05\" xlink:href=\"#m607eb35c44\" y=\"766.488912\"/>\r\n     <use style=\"fill-opacity:0;stroke:#000000;\" x=\"558.05\" xlink:href=\"#m607eb35c44\" y=\"765.271581\"/>\r\n     <use style=\"fill-opacity:0;stroke:#000000;\" x=\"558.05\" xlink:href=\"#m607eb35c44\" y=\"762.10652\"/>\r\n     <use style=\"fill-opacity:0;stroke:#000000;\" x=\"558.05\" xlink:href=\"#m607eb35c44\" y=\"755.532931\"/>\r\n     <use style=\"fill-opacity:0;stroke:#000000;\" x=\"558.05\" xlink:href=\"#m607eb35c44\" y=\"749.446275\"/>\r\n     <use style=\"fill-opacity:0;stroke:#000000;\" x=\"558.05\" xlink:href=\"#m607eb35c44\" y=\"749.446275\"/>\r\n     <use style=\"fill-opacity:0;stroke:#000000;\" x=\"558.05\" xlink:href=\"#m607eb35c44\" y=\"762.10652\"/>\r\n     <use style=\"fill-opacity:0;stroke:#000000;\" x=\"558.05\" xlink:href=\"#m607eb35c44\" y=\"728.832801\"/>\r\n     <use style=\"fill-opacity:0;stroke:#000000;\" x=\"558.05\" xlink:href=\"#m607eb35c44\" y=\"762.10652\"/>\r\n     <use style=\"fill-opacity:0;stroke:#000000;\" x=\"558.05\" xlink:href=\"#m607eb35c44\" y=\"762.10652\"/>\r\n     <use style=\"fill-opacity:0;stroke:#000000;\" x=\"558.05\" xlink:href=\"#m607eb35c44\" y=\"762.10652\"/>\r\n     <use style=\"fill-opacity:0;stroke:#000000;\" x=\"558.05\" xlink:href=\"#m607eb35c44\" y=\"764.865804\"/>\r\n     <use style=\"fill-opacity:0;stroke:#000000;\" x=\"558.05\" xlink:href=\"#m607eb35c44\" y=\"758.373371\"/>\r\n     <use style=\"fill-opacity:0;stroke:#000000;\" x=\"558.05\" xlink:href=\"#m607eb35c44\" y=\"765.190425\"/>\r\n     <use style=\"fill-opacity:0;stroke:#000000;\" x=\"558.05\" xlink:href=\"#m607eb35c44\" y=\"762.10652\"/>\r\n     <use style=\"fill-opacity:0;stroke:#000000;\" x=\"558.05\" xlink:href=\"#m607eb35c44\" y=\"756.669107\"/>\r\n     <use style=\"fill-opacity:0;stroke:#000000;\" x=\"558.05\" xlink:href=\"#m607eb35c44\" y=\"756.101019\"/>\r\n     <use style=\"fill-opacity:0;stroke:#000000;\" x=\"558.05\" xlink:href=\"#m607eb35c44\" y=\"767.787399\"/>\r\n     <use style=\"fill-opacity:0;stroke:#000000;\" x=\"558.05\" xlink:href=\"#m607eb35c44\" y=\"764.135405\"/>\r\n     <use style=\"fill-opacity:0;stroke:#000000;\" x=\"558.05\" xlink:href=\"#m607eb35c44\" y=\"762.10652\"/>\r\n     <use style=\"fill-opacity:0;stroke:#000000;\" x=\"558.05\" xlink:href=\"#m607eb35c44\" y=\"755.20831\"/>\r\n    </g>\r\n   </g>\r\n   <g id=\"line2d_168\">\r\n    <path clip-path=\"url(#p1722622b19)\" d=\"M 535.179412 791.281891 \r\nL 580.920588 791.281891 \r\n\" style=\"fill:none;stroke:#2ca02c;stroke-linecap:square;\"/>\r\n   </g>\r\n   <g id=\"patch_38\">\r\n    <path d=\"M 405.579412 820.578995 \r\nL 405.579412 585.796386 \r\n\" style=\"fill:none;stroke:#000000;stroke-linecap:square;stroke-linejoin:miter;stroke-width:0.8;\"/>\r\n   </g>\r\n   <g id=\"patch_39\">\r\n    <path d=\"M 710.520588 820.578995 \r\nL 710.520588 585.796386 \r\n\" style=\"fill:none;stroke:#000000;stroke-linecap:square;stroke-linejoin:miter;stroke-width:0.8;\"/>\r\n   </g>\r\n   <g id=\"patch_40\">\r\n    <path d=\"M 405.579412 820.578995 \r\nL 710.520588 820.578995 \r\n\" style=\"fill:none;stroke:#000000;stroke-linecap:square;stroke-linejoin:miter;stroke-width:0.8;\"/>\r\n   </g>\r\n   <g id=\"patch_41\">\r\n    <path d=\"M 405.579412 585.796386 \r\nL 710.520588 585.796386 \r\n\" style=\"fill:none;stroke:#000000;stroke-linecap:square;stroke-linejoin:miter;stroke-width:0.8;\"/>\r\n   </g>\r\n   <g id=\"text_34\">\r\n    <!-- Pop -->\r\n    <g transform=\"translate(547.169375 579.796386)scale(0.12 -0.12)\">\r\n     <defs>\r\n      <path d=\"M 19.671875 64.796875 \r\nL 19.671875 37.40625 \r\nL 32.078125 37.40625 \r\nQ 38.96875 37.40625 42.71875 40.96875 \r\nQ 46.484375 44.53125 46.484375 51.125 \r\nQ 46.484375 57.671875 42.71875 61.234375 \r\nQ 38.96875 64.796875 32.078125 64.796875 \r\nz\r\nM 9.8125 72.90625 \r\nL 32.078125 72.90625 \r\nQ 44.34375 72.90625 50.609375 67.359375 \r\nQ 56.890625 61.8125 56.890625 51.125 \r\nQ 56.890625 40.328125 50.609375 34.8125 \r\nQ 44.34375 29.296875 32.078125 29.296875 \r\nL 19.671875 29.296875 \r\nL 19.671875 0 \r\nL 9.8125 0 \r\nz\r\n\" id=\"DejaVuSans-80\"/>\r\n     </defs>\r\n     <use xlink:href=\"#DejaVuSans-80\"/>\r\n     <use x=\"56.677734\" xlink:href=\"#DejaVuSans-111\"/>\r\n     <use x=\"117.859375\" xlink:href=\"#DejaVuSans-112\"/>\r\n    </g>\r\n   </g>\r\n  </g>\r\n  <g id=\"axes_9\">\r\n   <g id=\"patch_42\">\r\n    <path d=\"M 771.508824 820.578995 \r\nL 1076.45 820.578995 \r\nL 1076.45 585.796386 \r\nL 771.508824 585.796386 \r\nz\r\n\" style=\"fill:#ffffff;\"/>\r\n   </g>\r\n   <g id=\"matplotlib.axis_17\">\r\n    <g id=\"xtick_9\">\r\n     <g id=\"line2d_169\">\r\n      <path clip-path=\"url(#pe65560b789)\" d=\"M 923.979412 820.578995 \r\nL 923.979412 585.796386 \r\n\" style=\"fill:none;stroke:#b0b0b0;stroke-linecap:square;stroke-width:0.8;\"/>\r\n     </g>\r\n     <g id=\"line2d_170\">\r\n      <g>\r\n       <use style=\"stroke:#000000;stroke-width:0.8;\" x=\"923.979412\" xlink:href=\"#m38de8124e7\" y=\"820.578995\"/>\r\n      </g>\r\n     </g>\r\n     <g id=\"text_35\">\r\n      <!-- length_lyric -->\r\n      <g transform=\"translate(894.999724 835.177432)scale(0.1 -0.1)\">\r\n       <use xlink:href=\"#DejaVuSans-108\"/>\r\n       <use x=\"27.783203\" xlink:href=\"#DejaVuSans-101\"/>\r\n       <use x=\"89.306641\" xlink:href=\"#DejaVuSans-110\"/>\r\n       <use x=\"152.685547\" xlink:href=\"#DejaVuSans-103\"/>\r\n       <use x=\"216.162109\" xlink:href=\"#DejaVuSans-116\"/>\r\n       <use x=\"255.371094\" xlink:href=\"#DejaVuSans-104\"/>\r\n       <use x=\"318.75\" xlink:href=\"#DejaVuSans-95\"/>\r\n       <use x=\"368.75\" xlink:href=\"#DejaVuSans-108\"/>\r\n       <use x=\"396.533203\" xlink:href=\"#DejaVuSans-121\"/>\r\n       <use x=\"455.712891\" xlink:href=\"#DejaVuSans-114\"/>\r\n       <use x=\"496.826172\" xlink:href=\"#DejaVuSans-105\"/>\r\n       <use x=\"524.609375\" xlink:href=\"#DejaVuSans-99\"/>\r\n      </g>\r\n     </g>\r\n    </g>\r\n   </g>\r\n   <g id=\"matplotlib.axis_18\">\r\n    <g id=\"ytick_49\">\r\n     <g id=\"line2d_171\">\r\n      <path clip-path=\"url(#pe65560b789)\" d=\"M 771.508824 810.231679 \r\nL 1076.45 810.231679 \r\n\" style=\"fill:none;stroke:#b0b0b0;stroke-linecap:square;stroke-width:0.8;\"/>\r\n     </g>\r\n     <g id=\"line2d_172\">\r\n      <g>\r\n       <use style=\"stroke:#000000;stroke-width:0.8;\" x=\"771.508824\" xlink:href=\"#ma85e649b5b\" y=\"810.231679\"/>\r\n      </g>\r\n     </g>\r\n    </g>\r\n    <g id=\"ytick_50\">\r\n     <g id=\"line2d_173\">\r\n      <path clip-path=\"url(#pe65560b789)\" d=\"M 771.508824 769.653973 \r\nL 1076.45 769.653973 \r\n\" style=\"fill:none;stroke:#b0b0b0;stroke-linecap:square;stroke-width:0.8;\"/>\r\n     </g>\r\n     <g id=\"line2d_174\">\r\n      <g>\r\n       <use style=\"stroke:#000000;stroke-width:0.8;\" x=\"771.508824\" xlink:href=\"#ma85e649b5b\" y=\"769.653973\"/>\r\n      </g>\r\n     </g>\r\n    </g>\r\n    <g id=\"ytick_51\">\r\n     <g id=\"line2d_175\">\r\n      <path clip-path=\"url(#pe65560b789)\" d=\"M 771.508824 729.076267 \r\nL 1076.45 729.076267 \r\n\" style=\"fill:none;stroke:#b0b0b0;stroke-linecap:square;stroke-width:0.8;\"/>\r\n     </g>\r\n     <g id=\"line2d_176\">\r\n      <g>\r\n       <use style=\"stroke:#000000;stroke-width:0.8;\" x=\"771.508824\" xlink:href=\"#ma85e649b5b\" y=\"729.076267\"/>\r\n      </g>\r\n     </g>\r\n    </g>\r\n    <g id=\"ytick_52\">\r\n     <g id=\"line2d_177\">\r\n      <path clip-path=\"url(#pe65560b789)\" d=\"M 771.508824 688.498561 \r\nL 1076.45 688.498561 \r\n\" style=\"fill:none;stroke:#b0b0b0;stroke-linecap:square;stroke-width:0.8;\"/>\r\n     </g>\r\n     <g id=\"line2d_178\">\r\n      <g>\r\n       <use style=\"stroke:#000000;stroke-width:0.8;\" x=\"771.508824\" xlink:href=\"#ma85e649b5b\" y=\"688.498561\"/>\r\n      </g>\r\n     </g>\r\n    </g>\r\n    <g id=\"ytick_53\">\r\n     <g id=\"line2d_179\">\r\n      <path clip-path=\"url(#pe65560b789)\" d=\"M 771.508824 647.920854 \r\nL 1076.45 647.920854 \r\n\" style=\"fill:none;stroke:#b0b0b0;stroke-linecap:square;stroke-width:0.8;\"/>\r\n     </g>\r\n     <g id=\"line2d_180\">\r\n      <g>\r\n       <use style=\"stroke:#000000;stroke-width:0.8;\" x=\"771.508824\" xlink:href=\"#ma85e649b5b\" y=\"647.920854\"/>\r\n      </g>\r\n     </g>\r\n    </g>\r\n    <g id=\"ytick_54\">\r\n     <g id=\"line2d_181\">\r\n      <path clip-path=\"url(#pe65560b789)\" d=\"M 771.508824 607.343148 \r\nL 1076.45 607.343148 \r\n\" style=\"fill:none;stroke:#b0b0b0;stroke-linecap:square;stroke-width:0.8;\"/>\r\n     </g>\r\n     <g id=\"line2d_182\">\r\n      <g>\r\n       <use style=\"stroke:#000000;stroke-width:0.8;\" x=\"771.508824\" xlink:href=\"#ma85e649b5b\" y=\"607.343148\"/>\r\n      </g>\r\n     </g>\r\n    </g>\r\n   </g>\r\n   <g id=\"line2d_183\">\r\n    <path clip-path=\"url(#pe65560b789)\" d=\"M 901.108824 798.5453 \r\nL 946.85 798.5453 \r\nL 946.85 788.076252 \r\nL 901.108824 788.076252 \r\nL 901.108824 798.5453 \r\n\" style=\"fill:none;stroke:#1f77b4;stroke-linecap:square;\"/>\r\n   </g>\r\n   <g id=\"line2d_184\">\r\n    <path clip-path=\"url(#pe65560b789)\" d=\"M 923.979412 798.5453 \r\nL 923.979412 809.744747 \r\n\" style=\"fill:none;stroke:#1f77b4;stroke-linecap:square;\"/>\r\n   </g>\r\n   <g id=\"line2d_185\">\r\n    <path clip-path=\"url(#pe65560b789)\" d=\"M 923.979412 788.076252 \r\nL 923.979412 773.549433 \r\n\" style=\"fill:none;stroke:#1f77b4;stroke-linecap:square;\"/>\r\n   </g>\r\n   <g id=\"line2d_186\">\r\n    <path clip-path=\"url(#pe65560b789)\" d=\"M 912.544118 809.744747 \r\nL 935.414706 809.744747 \r\n\" style=\"fill:none;stroke:#000000;stroke-linecap:square;\"/>\r\n   </g>\r\n   <g id=\"line2d_187\">\r\n    <path clip-path=\"url(#pe65560b789)\" d=\"M 912.544118 773.549433 \r\nL 935.414706 773.549433 \r\n\" style=\"fill:none;stroke:#000000;stroke-linecap:square;\"/>\r\n   </g>\r\n   <g id=\"line2d_188\">\r\n    <g clip-path=\"url(#pe65560b789)\">\r\n     <use style=\"fill-opacity:0;stroke:#000000;\" x=\"923.979412\" xlink:href=\"#m607eb35c44\" y=\"769.735129\"/>\r\n     <use style=\"fill-opacity:0;stroke:#000000;\" x=\"923.979412\" xlink:href=\"#m607eb35c44\" y=\"765.433892\"/>\r\n     <use style=\"fill-opacity:0;stroke:#000000;\" x=\"923.979412\" xlink:href=\"#m607eb35c44\" y=\"751.475161\"/>\r\n     <use style=\"fill-opacity:0;stroke:#000000;\" x=\"923.979412\" xlink:href=\"#m607eb35c44\" y=\"771.601703\"/>\r\n     <use style=\"fill-opacity:0;stroke:#000000;\" x=\"923.979412\" xlink:href=\"#m607eb35c44\" y=\"771.520548\"/>\r\n     <use style=\"fill-opacity:0;stroke:#000000;\" x=\"923.979412\" xlink:href=\"#m607eb35c44\" y=\"770.708994\"/>\r\n     <use style=\"fill-opacity:0;stroke:#000000;\" x=\"923.979412\" xlink:href=\"#m607eb35c44\" y=\"761.619587\"/>\r\n     <use style=\"fill-opacity:0;stroke:#000000;\" x=\"923.979412\" xlink:href=\"#m607eb35c44\" y=\"771.845169\"/>\r\n     <use style=\"fill-opacity:0;stroke:#000000;\" x=\"923.979412\" xlink:href=\"#m607eb35c44\" y=\"770.222061\"/>\r\n     <use style=\"fill-opacity:0;stroke:#000000;\" x=\"923.979412\" xlink:href=\"#m607eb35c44\" y=\"764.865804\"/>\r\n     <use style=\"fill-opacity:0;stroke:#000000;\" x=\"923.979412\" xlink:href=\"#m607eb35c44\" y=\"763.891939\"/>\r\n     <use style=\"fill-opacity:0;stroke:#000000;\" x=\"923.979412\" xlink:href=\"#m607eb35c44\" y=\"764.460027\"/>\r\n     <use style=\"fill-opacity:0;stroke:#000000;\" x=\"923.979412\" xlink:href=\"#m607eb35c44\" y=\"770.222061\"/>\r\n     <use style=\"fill-opacity:0;stroke:#000000;\" x=\"923.979412\" xlink:href=\"#m607eb35c44\" y=\"770.222061\"/>\r\n     <use style=\"fill-opacity:0;stroke:#000000;\" x=\"923.979412\" xlink:href=\"#m607eb35c44\" y=\"756.425641\"/>\r\n     <use style=\"fill-opacity:0;stroke:#000000;\" x=\"923.979412\" xlink:href=\"#m607eb35c44\" y=\"763.810783\"/>\r\n     <use style=\"fill-opacity:0;stroke:#000000;\" x=\"923.979412\" xlink:href=\"#m607eb35c44\" y=\"770.790149\"/>\r\n    </g>\r\n   </g>\r\n   <g id=\"line2d_189\">\r\n    <path clip-path=\"url(#pe65560b789)\" d=\"M 901.108824 793.59482 \r\nL 946.85 793.59482 \r\n\" style=\"fill:none;stroke:#2ca02c;stroke-linecap:square;\"/>\r\n   </g>\r\n   <g id=\"patch_43\">\r\n    <path d=\"M 771.508824 820.578995 \r\nL 771.508824 585.796386 \r\n\" style=\"fill:none;stroke:#000000;stroke-linecap:square;stroke-linejoin:miter;stroke-width:0.8;\"/>\r\n   </g>\r\n   <g id=\"patch_44\">\r\n    <path d=\"M 1076.45 820.578995 \r\nL 1076.45 585.796386 \r\n\" style=\"fill:none;stroke:#000000;stroke-linecap:square;stroke-linejoin:miter;stroke-width:0.8;\"/>\r\n   </g>\r\n   <g id=\"patch_45\">\r\n    <path d=\"M 771.508824 820.578995 \r\nL 1076.45 820.578995 \r\n\" style=\"fill:none;stroke:#000000;stroke-linecap:square;stroke-linejoin:miter;stroke-width:0.8;\"/>\r\n   </g>\r\n   <g id=\"patch_46\">\r\n    <path d=\"M 771.508824 585.796386 \r\nL 1076.45 585.796386 \r\n\" style=\"fill:none;stroke:#000000;stroke-linecap:square;stroke-linejoin:miter;stroke-width:0.8;\"/>\r\n   </g>\r\n   <g id=\"text_36\">\r\n    <!-- Punk -->\r\n    <g transform=\"translate(909.387224 579.796386)scale(0.12 -0.12)\">\r\n     <use xlink:href=\"#DejaVuSans-80\"/>\r\n     <use x=\"58.552734\" xlink:href=\"#DejaVuSans-117\"/>\r\n     <use x=\"121.931641\" xlink:href=\"#DejaVuSans-110\"/>\r\n     <use x=\"185.310547\" xlink:href=\"#DejaVuSans-107\"/>\r\n    </g>\r\n   </g>\r\n  </g>\r\n  <g id=\"axes_10\">\r\n   <g id=\"patch_47\">\r\n    <path d=\"M 39.65 1102.318125 \r\nL 344.591176 1102.318125 \r\nL 344.591176 867.535516 \r\nL 39.65 867.535516 \r\nz\r\n\" style=\"fill:#ffffff;\"/>\r\n   </g>\r\n   <g id=\"matplotlib.axis_19\">\r\n    <g id=\"xtick_10\">\r\n     <g id=\"line2d_190\">\r\n      <path clip-path=\"url(#p6af898b479)\" d=\"M 192.120588 1102.318125 \r\nL 192.120588 867.535516 \r\n\" style=\"fill:none;stroke:#b0b0b0;stroke-linecap:square;stroke-width:0.8;\"/>\r\n     </g>\r\n     <g id=\"line2d_191\">\r\n      <g>\r\n       <use style=\"stroke:#000000;stroke-width:0.8;\" x=\"192.120588\" xlink:href=\"#m38de8124e7\" y=\"1102.318125\"/>\r\n      </g>\r\n     </g>\r\n     <g id=\"text_37\">\r\n      <!-- length_lyric -->\r\n      <g transform=\"translate(163.140901 1116.916563)scale(0.1 -0.1)\">\r\n       <use xlink:href=\"#DejaVuSans-108\"/>\r\n       <use x=\"27.783203\" xlink:href=\"#DejaVuSans-101\"/>\r\n       <use x=\"89.306641\" xlink:href=\"#DejaVuSans-110\"/>\r\n       <use x=\"152.685547\" xlink:href=\"#DejaVuSans-103\"/>\r\n       <use x=\"216.162109\" xlink:href=\"#DejaVuSans-116\"/>\r\n       <use x=\"255.371094\" xlink:href=\"#DejaVuSans-104\"/>\r\n       <use x=\"318.75\" xlink:href=\"#DejaVuSans-95\"/>\r\n       <use x=\"368.75\" xlink:href=\"#DejaVuSans-108\"/>\r\n       <use x=\"396.533203\" xlink:href=\"#DejaVuSans-121\"/>\r\n       <use x=\"455.712891\" xlink:href=\"#DejaVuSans-114\"/>\r\n       <use x=\"496.826172\" xlink:href=\"#DejaVuSans-105\"/>\r\n       <use x=\"524.609375\" xlink:href=\"#DejaVuSans-99\"/>\r\n      </g>\r\n     </g>\r\n    </g>\r\n   </g>\r\n   <g id=\"matplotlib.axis_20\">\r\n    <g id=\"ytick_55\">\r\n     <g id=\"line2d_192\">\r\n      <path clip-path=\"url(#p6af898b479)\" d=\"M 39.65 1091.97081 \r\nL 344.591176 1091.97081 \r\n\" style=\"fill:none;stroke:#b0b0b0;stroke-linecap:square;stroke-width:0.8;\"/>\r\n     </g>\r\n     <g id=\"line2d_193\">\r\n      <g>\r\n       <use style=\"stroke:#000000;stroke-width:0.8;\" x=\"39.65\" xlink:href=\"#ma85e649b5b\" y=\"1091.97081\"/>\r\n      </g>\r\n     </g>\r\n     <g id=\"text_38\">\r\n      <!-- 0 -->\r\n      <g transform=\"translate(26.2875 1095.770029)scale(0.1 -0.1)\">\r\n       <use xlink:href=\"#DejaVuSans-48\"/>\r\n      </g>\r\n     </g>\r\n    </g>\r\n    <g id=\"ytick_56\">\r\n     <g id=\"line2d_194\">\r\n      <path clip-path=\"url(#p6af898b479)\" d=\"M 39.65 1051.393104 \r\nL 344.591176 1051.393104 \r\n\" style=\"fill:none;stroke:#b0b0b0;stroke-linecap:square;stroke-width:0.8;\"/>\r\n     </g>\r\n     <g id=\"line2d_195\">\r\n      <g>\r\n       <use style=\"stroke:#000000;stroke-width:0.8;\" x=\"39.65\" xlink:href=\"#ma85e649b5b\" y=\"1051.393104\"/>\r\n      </g>\r\n     </g>\r\n     <g id=\"text_39\">\r\n      <!-- 500 -->\r\n      <g transform=\"translate(13.5625 1055.192322)scale(0.1 -0.1)\">\r\n       <use xlink:href=\"#DejaVuSans-53\"/>\r\n       <use x=\"63.623047\" xlink:href=\"#DejaVuSans-48\"/>\r\n       <use x=\"127.246094\" xlink:href=\"#DejaVuSans-48\"/>\r\n      </g>\r\n     </g>\r\n    </g>\r\n    <g id=\"ytick_57\">\r\n     <g id=\"line2d_196\">\r\n      <path clip-path=\"url(#p6af898b479)\" d=\"M 39.65 1010.815397 \r\nL 344.591176 1010.815397 \r\n\" style=\"fill:none;stroke:#b0b0b0;stroke-linecap:square;stroke-width:0.8;\"/>\r\n     </g>\r\n     <g id=\"line2d_197\">\r\n      <g>\r\n       <use style=\"stroke:#000000;stroke-width:0.8;\" x=\"39.65\" xlink:href=\"#ma85e649b5b\" y=\"1010.815397\"/>\r\n      </g>\r\n     </g>\r\n     <g id=\"text_40\">\r\n      <!-- 1000 -->\r\n      <g transform=\"translate(7.2 1014.614616)scale(0.1 -0.1)\">\r\n       <use xlink:href=\"#DejaVuSans-49\"/>\r\n       <use x=\"63.623047\" xlink:href=\"#DejaVuSans-48\"/>\r\n       <use x=\"127.246094\" xlink:href=\"#DejaVuSans-48\"/>\r\n       <use x=\"190.869141\" xlink:href=\"#DejaVuSans-48\"/>\r\n      </g>\r\n     </g>\r\n    </g>\r\n    <g id=\"ytick_58\">\r\n     <g id=\"line2d_198\">\r\n      <path clip-path=\"url(#p6af898b479)\" d=\"M 39.65 970.237691 \r\nL 344.591176 970.237691 \r\n\" style=\"fill:none;stroke:#b0b0b0;stroke-linecap:square;stroke-width:0.8;\"/>\r\n     </g>\r\n     <g id=\"line2d_199\">\r\n      <g>\r\n       <use style=\"stroke:#000000;stroke-width:0.8;\" x=\"39.65\" xlink:href=\"#ma85e649b5b\" y=\"970.237691\"/>\r\n      </g>\r\n     </g>\r\n     <g id=\"text_41\">\r\n      <!-- 1500 -->\r\n      <g transform=\"translate(7.2 974.03691)scale(0.1 -0.1)\">\r\n       <use xlink:href=\"#DejaVuSans-49\"/>\r\n       <use x=\"63.623047\" xlink:href=\"#DejaVuSans-53\"/>\r\n       <use x=\"127.246094\" xlink:href=\"#DejaVuSans-48\"/>\r\n       <use x=\"190.869141\" xlink:href=\"#DejaVuSans-48\"/>\r\n      </g>\r\n     </g>\r\n    </g>\r\n    <g id=\"ytick_59\">\r\n     <g id=\"line2d_200\">\r\n      <path clip-path=\"url(#p6af898b479)\" d=\"M 39.65 929.659985 \r\nL 344.591176 929.659985 \r\n\" style=\"fill:none;stroke:#b0b0b0;stroke-linecap:square;stroke-width:0.8;\"/>\r\n     </g>\r\n     <g id=\"line2d_201\">\r\n      <g>\r\n       <use style=\"stroke:#000000;stroke-width:0.8;\" x=\"39.65\" xlink:href=\"#ma85e649b5b\" y=\"929.659985\"/>\r\n      </g>\r\n     </g>\r\n     <g id=\"text_42\">\r\n      <!-- 2000 -->\r\n      <g transform=\"translate(7.2 933.459203)scale(0.1 -0.1)\">\r\n       <use xlink:href=\"#DejaVuSans-50\"/>\r\n       <use x=\"63.623047\" xlink:href=\"#DejaVuSans-48\"/>\r\n       <use x=\"127.246094\" xlink:href=\"#DejaVuSans-48\"/>\r\n       <use x=\"190.869141\" xlink:href=\"#DejaVuSans-48\"/>\r\n      </g>\r\n     </g>\r\n    </g>\r\n    <g id=\"ytick_60\">\r\n     <g id=\"line2d_202\">\r\n      <path clip-path=\"url(#p6af898b479)\" d=\"M 39.65 889.082278 \r\nL 344.591176 889.082278 \r\n\" style=\"fill:none;stroke:#b0b0b0;stroke-linecap:square;stroke-width:0.8;\"/>\r\n     </g>\r\n     <g id=\"line2d_203\">\r\n      <g>\r\n       <use style=\"stroke:#000000;stroke-width:0.8;\" x=\"39.65\" xlink:href=\"#ma85e649b5b\" y=\"889.082278\"/>\r\n      </g>\r\n     </g>\r\n     <g id=\"text_43\">\r\n      <!-- 2500 -->\r\n      <g transform=\"translate(7.2 892.881497)scale(0.1 -0.1)\">\r\n       <use xlink:href=\"#DejaVuSans-50\"/>\r\n       <use x=\"63.623047\" xlink:href=\"#DejaVuSans-53\"/>\r\n       <use x=\"127.246094\" xlink:href=\"#DejaVuSans-48\"/>\r\n       <use x=\"190.869141\" xlink:href=\"#DejaVuSans-48\"/>\r\n      </g>\r\n     </g>\r\n    </g>\r\n   </g>\r\n   <g id=\"line2d_204\">\r\n    <path clip-path=\"url(#p6af898b479)\" d=\"M 169.25 1077.687457 \r\nL 214.991176 1077.687457 \r\nL 214.991176 1066.569166 \r\nL 169.25 1066.569166 \r\nL 169.25 1077.687457 \r\n\" style=\"fill:none;stroke:#1f77b4;stroke-linecap:square;\"/>\r\n   </g>\r\n   <g id=\"line2d_205\">\r\n    <path clip-path=\"url(#p6af898b479)\" d=\"M 192.120588 1077.687457 \r\nL 192.120588 1086.208776 \r\n\" style=\"fill:none;stroke:#1f77b4;stroke-linecap:square;\"/>\r\n   </g>\r\n   <g id=\"line2d_206\">\r\n    <path clip-path=\"url(#p6af898b479)\" d=\"M 192.120588 1066.569166 \r\nL 192.120588 1050.175772 \r\n\" style=\"fill:none;stroke:#1f77b4;stroke-linecap:square;\"/>\r\n   </g>\r\n   <g id=\"line2d_207\">\r\n    <path clip-path=\"url(#p6af898b479)\" d=\"M 180.685294 1086.208776 \r\nL 203.555882 1086.208776 \r\n\" style=\"fill:none;stroke:#000000;stroke-linecap:square;\"/>\r\n   </g>\r\n   <g id=\"line2d_208\">\r\n    <path clip-path=\"url(#p6af898b479)\" d=\"M 180.685294 1050.175772 \r\nL 203.555882 1050.175772 \r\n\" style=\"fill:none;stroke:#000000;stroke-linecap:square;\"/>\r\n   </g>\r\n   <g id=\"line2d_209\">\r\n    <g clip-path=\"url(#p6af898b479)\">\r\n     <use style=\"fill-opacity:0;stroke:#000000;\" x=\"192.120588\" xlink:href=\"#m607eb35c44\" y=\"1033.376602\"/>\r\n     <use style=\"fill-opacity:0;stroke:#000000;\" x=\"192.120588\" xlink:href=\"#m607eb35c44\" y=\"1033.376602\"/>\r\n     <use style=\"fill-opacity:0;stroke:#000000;\" x=\"192.120588\" xlink:href=\"#m607eb35c44\" y=\"1043.764495\"/>\r\n     <use style=\"fill-opacity:0;stroke:#000000;\" x=\"192.120588\" xlink:href=\"#m607eb35c44\" y=\"1047.903421\"/>\r\n     <use style=\"fill-opacity:0;stroke:#000000;\" x=\"192.120588\" xlink:href=\"#m607eb35c44\" y=\"1047.74111\"/>\r\n    </g>\r\n   </g>\r\n   <g id=\"line2d_210\">\r\n    <path clip-path=\"url(#p6af898b479)\" d=\"M 169.25 1074.197775 \r\nL 214.991176 1074.197775 \r\n\" style=\"fill:none;stroke:#2ca02c;stroke-linecap:square;\"/>\r\n   </g>\r\n   <g id=\"patch_48\">\r\n    <path d=\"M 39.65 1102.318125 \r\nL 39.65 867.535516 \r\n\" style=\"fill:none;stroke:#000000;stroke-linecap:square;stroke-linejoin:miter;stroke-width:0.8;\"/>\r\n   </g>\r\n   <g id=\"patch_49\">\r\n    <path d=\"M 344.591176 1102.318125 \r\nL 344.591176 867.535516 \r\n\" style=\"fill:none;stroke:#000000;stroke-linecap:square;stroke-linejoin:miter;stroke-width:0.8;\"/>\r\n   </g>\r\n   <g id=\"patch_50\">\r\n    <path d=\"M 39.65 1102.318125 \r\nL 344.591176 1102.318125 \r\n\" style=\"fill:none;stroke:#000000;stroke-linecap:square;stroke-linejoin:miter;stroke-width:0.8;\"/>\r\n   </g>\r\n   <g id=\"patch_51\">\r\n    <path d=\"M 39.65 867.535516 \r\nL 344.591176 867.535516 \r\n\" style=\"fill:none;stroke:#000000;stroke-linecap:square;stroke-linejoin:miter;stroke-width:0.8;\"/>\r\n   </g>\r\n   <g id=\"text_44\">\r\n    <!-- Reggae -->\r\n    <g transform=\"translate(169.542776 861.535516)scale(0.12 -0.12)\">\r\n     <defs>\r\n      <path d=\"M 44.390625 34.1875 \r\nQ 47.5625 33.109375 50.5625 29.59375 \r\nQ 53.5625 26.078125 56.59375 19.921875 \r\nL 66.609375 0 \r\nL 56 0 \r\nL 46.6875 18.703125 \r\nQ 43.0625 26.03125 39.671875 28.421875 \r\nQ 36.28125 30.8125 30.421875 30.8125 \r\nL 19.671875 30.8125 \r\nL 19.671875 0 \r\nL 9.8125 0 \r\nL 9.8125 72.90625 \r\nL 32.078125 72.90625 \r\nQ 44.578125 72.90625 50.734375 67.671875 \r\nQ 56.890625 62.453125 56.890625 51.90625 \r\nQ 56.890625 45.015625 53.6875 40.46875 \r\nQ 50.484375 35.9375 44.390625 34.1875 \r\nz\r\nM 19.671875 64.796875 \r\nL 19.671875 38.921875 \r\nL 32.078125 38.921875 \r\nQ 39.203125 38.921875 42.84375 42.21875 \r\nQ 46.484375 45.515625 46.484375 51.90625 \r\nQ 46.484375 58.296875 42.84375 61.546875 \r\nQ 39.203125 64.796875 32.078125 64.796875 \r\nz\r\n\" id=\"DejaVuSans-82\"/>\r\n     </defs>\r\n     <use xlink:href=\"#DejaVuSans-82\"/>\r\n     <use x=\"64.982422\" xlink:href=\"#DejaVuSans-101\"/>\r\n     <use x=\"126.505859\" xlink:href=\"#DejaVuSans-103\"/>\r\n     <use x=\"189.982422\" xlink:href=\"#DejaVuSans-103\"/>\r\n     <use x=\"253.458984\" xlink:href=\"#DejaVuSans-97\"/>\r\n     <use x=\"314.738281\" xlink:href=\"#DejaVuSans-101\"/>\r\n    </g>\r\n   </g>\r\n  </g>\r\n  <g id=\"axes_11\">\r\n   <g id=\"patch_52\">\r\n    <path d=\"M 405.579412 1102.318125 \r\nL 710.520588 1102.318125 \r\nL 710.520588 867.535516 \r\nL 405.579412 867.535516 \r\nz\r\n\" style=\"fill:#ffffff;\"/>\r\n   </g>\r\n   <g id=\"matplotlib.axis_21\">\r\n    <g id=\"xtick_11\">\r\n     <g id=\"line2d_211\">\r\n      <path clip-path=\"url(#p58e79e486d)\" d=\"M 558.05 1102.318125 \r\nL 558.05 867.535516 \r\n\" style=\"fill:none;stroke:#b0b0b0;stroke-linecap:square;stroke-width:0.8;\"/>\r\n     </g>\r\n     <g id=\"line2d_212\">\r\n      <g>\r\n       <use style=\"stroke:#000000;stroke-width:0.8;\" x=\"558.05\" xlink:href=\"#m38de8124e7\" y=\"1102.318125\"/>\r\n      </g>\r\n     </g>\r\n     <g id=\"text_45\">\r\n      <!-- length_lyric -->\r\n      <g transform=\"translate(529.070313 1116.916563)scale(0.1 -0.1)\">\r\n       <use xlink:href=\"#DejaVuSans-108\"/>\r\n       <use x=\"27.783203\" xlink:href=\"#DejaVuSans-101\"/>\r\n       <use x=\"89.306641\" xlink:href=\"#DejaVuSans-110\"/>\r\n       <use x=\"152.685547\" xlink:href=\"#DejaVuSans-103\"/>\r\n       <use x=\"216.162109\" xlink:href=\"#DejaVuSans-116\"/>\r\n       <use x=\"255.371094\" xlink:href=\"#DejaVuSans-104\"/>\r\n       <use x=\"318.75\" xlink:href=\"#DejaVuSans-95\"/>\r\n       <use x=\"368.75\" xlink:href=\"#DejaVuSans-108\"/>\r\n       <use x=\"396.533203\" xlink:href=\"#DejaVuSans-121\"/>\r\n       <use x=\"455.712891\" xlink:href=\"#DejaVuSans-114\"/>\r\n       <use x=\"496.826172\" xlink:href=\"#DejaVuSans-105\"/>\r\n       <use x=\"524.609375\" xlink:href=\"#DejaVuSans-99\"/>\r\n      </g>\r\n     </g>\r\n    </g>\r\n   </g>\r\n   <g id=\"matplotlib.axis_22\">\r\n    <g id=\"ytick_61\">\r\n     <g id=\"line2d_213\">\r\n      <path clip-path=\"url(#p58e79e486d)\" d=\"M 405.579412 1091.97081 \r\nL 710.520588 1091.97081 \r\n\" style=\"fill:none;stroke:#b0b0b0;stroke-linecap:square;stroke-width:0.8;\"/>\r\n     </g>\r\n     <g id=\"line2d_214\">\r\n      <g>\r\n       <use style=\"stroke:#000000;stroke-width:0.8;\" x=\"405.579412\" xlink:href=\"#ma85e649b5b\" y=\"1091.97081\"/>\r\n      </g>\r\n     </g>\r\n    </g>\r\n    <g id=\"ytick_62\">\r\n     <g id=\"line2d_215\">\r\n      <path clip-path=\"url(#p58e79e486d)\" d=\"M 405.579412 1051.393104 \r\nL 710.520588 1051.393104 \r\n\" style=\"fill:none;stroke:#b0b0b0;stroke-linecap:square;stroke-width:0.8;\"/>\r\n     </g>\r\n     <g id=\"line2d_216\">\r\n      <g>\r\n       <use style=\"stroke:#000000;stroke-width:0.8;\" x=\"405.579412\" xlink:href=\"#ma85e649b5b\" y=\"1051.393104\"/>\r\n      </g>\r\n     </g>\r\n    </g>\r\n    <g id=\"ytick_63\">\r\n     <g id=\"line2d_217\">\r\n      <path clip-path=\"url(#p58e79e486d)\" d=\"M 405.579412 1010.815397 \r\nL 710.520588 1010.815397 \r\n\" style=\"fill:none;stroke:#b0b0b0;stroke-linecap:square;stroke-width:0.8;\"/>\r\n     </g>\r\n     <g id=\"line2d_218\">\r\n      <g>\r\n       <use style=\"stroke:#000000;stroke-width:0.8;\" x=\"405.579412\" xlink:href=\"#ma85e649b5b\" y=\"1010.815397\"/>\r\n      </g>\r\n     </g>\r\n    </g>\r\n    <g id=\"ytick_64\">\r\n     <g id=\"line2d_219\">\r\n      <path clip-path=\"url(#p58e79e486d)\" d=\"M 405.579412 970.237691 \r\nL 710.520588 970.237691 \r\n\" style=\"fill:none;stroke:#b0b0b0;stroke-linecap:square;stroke-width:0.8;\"/>\r\n     </g>\r\n     <g id=\"line2d_220\">\r\n      <g>\r\n       <use style=\"stroke:#000000;stroke-width:0.8;\" x=\"405.579412\" xlink:href=\"#ma85e649b5b\" y=\"970.237691\"/>\r\n      </g>\r\n     </g>\r\n    </g>\r\n    <g id=\"ytick_65\">\r\n     <g id=\"line2d_221\">\r\n      <path clip-path=\"url(#p58e79e486d)\" d=\"M 405.579412 929.659985 \r\nL 710.520588 929.659985 \r\n\" style=\"fill:none;stroke:#b0b0b0;stroke-linecap:square;stroke-width:0.8;\"/>\r\n     </g>\r\n     <g id=\"line2d_222\">\r\n      <g>\r\n       <use style=\"stroke:#000000;stroke-width:0.8;\" x=\"405.579412\" xlink:href=\"#ma85e649b5b\" y=\"929.659985\"/>\r\n      </g>\r\n     </g>\r\n    </g>\r\n    <g id=\"ytick_66\">\r\n     <g id=\"line2d_223\">\r\n      <path clip-path=\"url(#p58e79e486d)\" d=\"M 405.579412 889.082278 \r\nL 710.520588 889.082278 \r\n\" style=\"fill:none;stroke:#b0b0b0;stroke-linecap:square;stroke-width:0.8;\"/>\r\n     </g>\r\n     <g id=\"line2d_224\">\r\n      <g>\r\n       <use style=\"stroke:#000000;stroke-width:0.8;\" x=\"405.579412\" xlink:href=\"#ma85e649b5b\" y=\"889.082278\"/>\r\n      </g>\r\n     </g>\r\n    </g>\r\n   </g>\r\n   <g id=\"line2d_225\">\r\n    <path clip-path=\"url(#p58e79e486d)\" d=\"M 535.179412 1079.797498 \r\nL 580.920588 1079.797498 \r\nL 580.920588 1070.789247 \r\nL 535.179412 1070.789247 \r\nL 535.179412 1079.797498 \r\n\" style=\"fill:none;stroke:#1f77b4;stroke-linecap:square;\"/>\r\n   </g>\r\n   <g id=\"line2d_226\">\r\n    <path clip-path=\"url(#p58e79e486d)\" d=\"M 558.05 1079.797498 \r\nL 558.05 1091.483877 \r\n\" style=\"fill:none;stroke:#1f77b4;stroke-linecap:square;\"/>\r\n   </g>\r\n   <g id=\"line2d_227\">\r\n    <path clip-path=\"url(#p58e79e486d)\" d=\"M 558.05 1070.789247 \r\nL 558.05 1057.398604 \r\n\" style=\"fill:none;stroke:#1f77b4;stroke-linecap:square;\"/>\r\n   </g>\r\n   <g id=\"line2d_228\">\r\n    <path clip-path=\"url(#p58e79e486d)\" d=\"M 546.614706 1091.483877 \r\nL 569.485294 1091.483877 \r\n\" style=\"fill:none;stroke:#000000;stroke-linecap:square;\"/>\r\n   </g>\r\n   <g id=\"line2d_229\">\r\n    <path clip-path=\"url(#p58e79e486d)\" d=\"M 546.614706 1057.398604 \r\nL 569.485294 1057.398604 \r\n\" style=\"fill:none;stroke:#000000;stroke-linecap:square;\"/>\r\n   </g>\r\n   <g id=\"line2d_230\">\r\n    <g clip-path=\"url(#p58e79e486d)\">\r\n     <use style=\"fill-opacity:0;stroke:#000000;\" x=\"558.05\" xlink:href=\"#m607eb35c44\" y=\"1037.272062\"/>\r\n     <use style=\"fill-opacity:0;stroke:#000000;\" x=\"558.05\" xlink:href=\"#m607eb35c44\" y=\"1041.167522\"/>\r\n     <use style=\"fill-opacity:0;stroke:#000000;\" x=\"558.05\" xlink:href=\"#m607eb35c44\" y=\"1047.903421\"/>\r\n     <use style=\"fill-opacity:0;stroke:#000000;\" x=\"558.05\" xlink:href=\"#m607eb35c44\" y=\"1056.992827\"/>\r\n     <use style=\"fill-opacity:0;stroke:#000000;\" x=\"558.05\" xlink:href=\"#m607eb35c44\" y=\"1052.853901\"/>\r\n     <use style=\"fill-opacity:0;stroke:#000000;\" x=\"558.05\" xlink:href=\"#m607eb35c44\" y=\"1047.091867\"/>\r\n     <use style=\"fill-opacity:0;stroke:#000000;\" x=\"558.05\" xlink:href=\"#m607eb35c44\" y=\"1055.69434\"/>\r\n     <use style=\"fill-opacity:0;stroke:#000000;\" x=\"558.05\" xlink:href=\"#m607eb35c44\" y=\"1055.613185\"/>\r\n     <use style=\"fill-opacity:0;stroke:#000000;\" x=\"558.05\" xlink:href=\"#m607eb35c44\" y=\"1055.53203\"/>\r\n     <use style=\"fill-opacity:0;stroke:#000000;\" x=\"558.05\" xlink:href=\"#m607eb35c44\" y=\"1052.853901\"/>\r\n     <use style=\"fill-opacity:0;stroke:#000000;\" x=\"558.05\" xlink:href=\"#m607eb35c44\" y=\"1052.610435\"/>\r\n     <use style=\"fill-opacity:0;stroke:#000000;\" x=\"558.05\" xlink:href=\"#m607eb35c44\" y=\"1029.643453\"/>\r\n     <use style=\"fill-opacity:0;stroke:#000000;\" x=\"558.05\" xlink:href=\"#m607eb35c44\" y=\"1055.937807\"/>\r\n     <use style=\"fill-opacity:0;stroke:#000000;\" x=\"558.05\" xlink:href=\"#m607eb35c44\" y=\"1055.126253\"/>\r\n     <use style=\"fill-opacity:0;stroke:#000000;\" x=\"558.05\" xlink:href=\"#m607eb35c44\" y=\"1049.283063\"/>\r\n     <use style=\"fill-opacity:0;stroke:#000000;\" x=\"558.05\" xlink:href=\"#m607eb35c44\" y=\"1033.295447\"/>\r\n     <use style=\"fill-opacity:0;stroke:#000000;\" x=\"558.05\" xlink:href=\"#m607eb35c44\" y=\"1002.862167\"/>\r\n     <use style=\"fill-opacity:0;stroke:#000000;\" x=\"558.05\" xlink:href=\"#m607eb35c44\" y=\"1052.529279\"/>\r\n     <use style=\"fill-opacity:0;stroke:#000000;\" x=\"558.05\" xlink:href=\"#m607eb35c44\" y=\"1030.94194\"/>\r\n     <use style=\"fill-opacity:0;stroke:#000000;\" x=\"558.05\" xlink:href=\"#m607eb35c44\" y=\"1049.283063\"/>\r\n     <use style=\"fill-opacity:0;stroke:#000000;\" x=\"558.05\" xlink:href=\"#m607eb35c44\" y=\"1037.84015\"/>\r\n     <use style=\"fill-opacity:0;stroke:#000000;\" x=\"558.05\" xlink:href=\"#m607eb35c44\" y=\"1051.880036\"/>\r\n     <use style=\"fill-opacity:0;stroke:#000000;\" x=\"558.05\" xlink:href=\"#m607eb35c44\" y=\"1054.963942\"/>\r\n     <use style=\"fill-opacity:0;stroke:#000000;\" x=\"558.05\" xlink:href=\"#m607eb35c44\" y=\"1043.358718\"/>\r\n     <use style=\"fill-opacity:0;stroke:#000000;\" x=\"558.05\" xlink:href=\"#m607eb35c44\" y=\"1054.963942\"/>\r\n     <use style=\"fill-opacity:0;stroke:#000000;\" x=\"558.05\" xlink:href=\"#m607eb35c44\" y=\"1053.016212\"/>\r\n     <use style=\"fill-opacity:0;stroke:#000000;\" x=\"558.05\" xlink:href=\"#m607eb35c44\" y=\"1055.613185\"/>\r\n     <use style=\"fill-opacity:0;stroke:#000000;\" x=\"558.05\" xlink:href=\"#m607eb35c44\" y=\"1050.987327\"/>\r\n     <use style=\"fill-opacity:0;stroke:#000000;\" x=\"558.05\" xlink:href=\"#m607eb35c44\" y=\"1036.379352\"/>\r\n     <use style=\"fill-opacity:0;stroke:#000000;\" x=\"558.05\" xlink:href=\"#m607eb35c44\" y=\"1053.178523\"/>\r\n     <use style=\"fill-opacity:0;stroke:#000000;\" x=\"558.05\" xlink:href=\"#m607eb35c44\" y=\"1039.219792\"/>\r\n     <use style=\"fill-opacity:0;stroke:#000000;\" x=\"558.05\" xlink:href=\"#m607eb35c44\" y=\"1053.016212\"/>\r\n     <use style=\"fill-opacity:0;stroke:#000000;\" x=\"558.05\" xlink:href=\"#m607eb35c44\" y=\"1054.963942\"/>\r\n     <use style=\"fill-opacity:0;stroke:#000000;\" x=\"558.05\" xlink:href=\"#m607eb35c44\" y=\"1053.016212\"/>\r\n     <use style=\"fill-opacity:0;stroke:#000000;\" x=\"558.05\" xlink:href=\"#m607eb35c44\" y=\"1045.712225\"/>\r\n     <use style=\"fill-opacity:0;stroke:#000000;\" x=\"558.05\" xlink:href=\"#m607eb35c44\" y=\"1056.343584\"/>\r\n     <use style=\"fill-opacity:0;stroke:#000000;\" x=\"558.05\" xlink:href=\"#m607eb35c44\" y=\"1048.79613\"/>\r\n     <use style=\"fill-opacity:0;stroke:#000000;\" x=\"558.05\" xlink:href=\"#m607eb35c44\" y=\"1051.63657\"/>\r\n     <use style=\"fill-opacity:0;stroke:#000000;\" x=\"558.05\" xlink:href=\"#m607eb35c44\" y=\"1057.236293\"/>\r\n     <use style=\"fill-opacity:0;stroke:#000000;\" x=\"558.05\" xlink:href=\"#m607eb35c44\" y=\"1056.262428\"/>\r\n     <use style=\"fill-opacity:0;stroke:#000000;\" x=\"558.05\" xlink:href=\"#m607eb35c44\" y=\"1053.097367\"/>\r\n     <use style=\"fill-opacity:0;stroke:#000000;\" x=\"558.05\" xlink:href=\"#m607eb35c44\" y=\"1054.395854\"/>\r\n     <use style=\"fill-opacity:0;stroke:#000000;\" x=\"558.05\" xlink:href=\"#m607eb35c44\" y=\"1050.662705\"/>\r\n     <use style=\"fill-opacity:0;stroke:#000000;\" x=\"558.05\" xlink:href=\"#m607eb35c44\" y=\"1056.343584\"/>\r\n     <use style=\"fill-opacity:0;stroke:#000000;\" x=\"558.05\" xlink:href=\"#m607eb35c44\" y=\"1039.95019\"/>\r\n     <use style=\"fill-opacity:0;stroke:#000000;\" x=\"558.05\" xlink:href=\"#m607eb35c44\" y=\"1053.259678\"/>\r\n     <use style=\"fill-opacity:0;stroke:#000000;\" x=\"558.05\" xlink:href=\"#m607eb35c44\" y=\"1056.100118\"/>\r\n     <use style=\"fill-opacity:0;stroke:#000000;\" x=\"558.05\" xlink:href=\"#m607eb35c44\" y=\"1053.016212\"/>\r\n     <use style=\"fill-opacity:0;stroke:#000000;\" x=\"558.05\" xlink:href=\"#m607eb35c44\" y=\"1056.911672\"/>\r\n     <use style=\"fill-opacity:0;stroke:#000000;\" x=\"558.05\" xlink:href=\"#m607eb35c44\" y=\"1055.856651\"/>\r\n     <use style=\"fill-opacity:0;stroke:#000000;\" x=\"558.05\" xlink:href=\"#m607eb35c44\" y=\"1036.379352\"/>\r\n     <use style=\"fill-opacity:0;stroke:#000000;\" x=\"558.05\" xlink:href=\"#m607eb35c44\" y=\"1053.340833\"/>\r\n     <use style=\"fill-opacity:0;stroke:#000000;\" x=\"558.05\" xlink:href=\"#m607eb35c44\" y=\"1053.340833\"/>\r\n     <use style=\"fill-opacity:0;stroke:#000000;\" x=\"558.05\" xlink:href=\"#m607eb35c44\" y=\"1050.825016\"/>\r\n     <use style=\"fill-opacity:0;stroke:#000000;\" x=\"558.05\" xlink:href=\"#m607eb35c44\" y=\"1043.439873\"/>\r\n     <use style=\"fill-opacity:0;stroke:#000000;\" x=\"558.05\" xlink:href=\"#m607eb35c44\" y=\"1054.314698\"/>\r\n     <use style=\"fill-opacity:0;stroke:#000000;\" x=\"558.05\" xlink:href=\"#m607eb35c44\" y=\"1043.439873\"/>\r\n     <use style=\"fill-opacity:0;stroke:#000000;\" x=\"558.05\" xlink:href=\"#m607eb35c44\" y=\"1056.424739\"/>\r\n     <use style=\"fill-opacity:0;stroke:#000000;\" x=\"558.05\" xlink:href=\"#m607eb35c44\" y=\"1055.045097\"/>\r\n     <use style=\"fill-opacity:0;stroke:#000000;\" x=\"558.05\" xlink:href=\"#m607eb35c44\" y=\"1050.987327\"/>\r\n     <use style=\"fill-opacity:0;stroke:#000000;\" x=\"558.05\" xlink:href=\"#m607eb35c44\" y=\"1028.669588\"/>\r\n     <use style=\"fill-opacity:0;stroke:#000000;\" x=\"558.05\" xlink:href=\"#m607eb35c44\" y=\"1041.005211\"/>\r\n     <use style=\"fill-opacity:0;stroke:#000000;\" x=\"558.05\" xlink:href=\"#m607eb35c44\" y=\"1050.825016\"/>\r\n     <use style=\"fill-opacity:0;stroke:#000000;\" x=\"558.05\" xlink:href=\"#m607eb35c44\" y=\"1052.853901\"/>\r\n     <use style=\"fill-opacity:0;stroke:#000000;\" x=\"558.05\" xlink:href=\"#m607eb35c44\" y=\"1052.529279\"/>\r\n     <use style=\"fill-opacity:0;stroke:#000000;\" x=\"558.05\" xlink:href=\"#m607eb35c44\" y=\"1043.84565\"/>\r\n     <use style=\"fill-opacity:0;stroke:#000000;\" x=\"558.05\" xlink:href=\"#m607eb35c44\" y=\"1056.100118\"/>\r\n     <use style=\"fill-opacity:0;stroke:#000000;\" x=\"558.05\" xlink:href=\"#m607eb35c44\" y=\"1042.303697\"/>\r\n     <use style=\"fill-opacity:0;stroke:#000000;\" x=\"558.05\" xlink:href=\"#m607eb35c44\" y=\"1056.181273\"/>\r\n     <use style=\"fill-opacity:0;stroke:#000000;\" x=\"558.05\" xlink:href=\"#m607eb35c44\" y=\"1053.421989\"/>\r\n     <use style=\"fill-opacity:0;stroke:#000000;\" x=\"558.05\" xlink:href=\"#m607eb35c44\" y=\"1053.016212\"/>\r\n     <use style=\"fill-opacity:0;stroke:#000000;\" x=\"558.05\" xlink:href=\"#m607eb35c44\" y=\"1057.236293\"/>\r\n     <use style=\"fill-opacity:0;stroke:#000000;\" x=\"558.05\" xlink:href=\"#m607eb35c44\" y=\"1044.089116\"/>\r\n     <use style=\"fill-opacity:0;stroke:#000000;\" x=\"558.05\" xlink:href=\"#m607eb35c44\" y=\"1046.442623\"/>\r\n     <use style=\"fill-opacity:0;stroke:#000000;\" x=\"558.05\" xlink:href=\"#m607eb35c44\" y=\"1056.424739\"/>\r\n     <use style=\"fill-opacity:0;stroke:#000000;\" x=\"558.05\" xlink:href=\"#m607eb35c44\" y=\"1047.74111\"/>\r\n     <use style=\"fill-opacity:0;stroke:#000000;\" x=\"558.05\" xlink:href=\"#m607eb35c44\" y=\"1036.785129\"/>\r\n     <use style=\"fill-opacity:0;stroke:#000000;\" x=\"558.05\" xlink:href=\"#m607eb35c44\" y=\"1051.717725\"/>\r\n     <use style=\"fill-opacity:0;stroke:#000000;\" x=\"558.05\" xlink:href=\"#m607eb35c44\" y=\"1055.045097\"/>\r\n     <use style=\"fill-opacity:0;stroke:#000000;\" x=\"558.05\" xlink:href=\"#m607eb35c44\" y=\"1049.607685\"/>\r\n     <use style=\"fill-opacity:0;stroke:#000000;\" x=\"558.05\" xlink:href=\"#m607eb35c44\" y=\"1053.746611\"/>\r\n     <use style=\"fill-opacity:0;stroke:#000000;\" x=\"558.05\" xlink:href=\"#m607eb35c44\" y=\"1057.236293\"/>\r\n     <use style=\"fill-opacity:0;stroke:#000000;\" x=\"558.05\" xlink:href=\"#m607eb35c44\" y=\"1052.529279\"/>\r\n     <use style=\"fill-opacity:0;stroke:#000000;\" x=\"558.05\" xlink:href=\"#m607eb35c44\" y=\"1053.097367\"/>\r\n     <use style=\"fill-opacity:0;stroke:#000000;\" x=\"558.05\" xlink:href=\"#m607eb35c44\" y=\"1055.045097\"/>\r\n     <use style=\"fill-opacity:0;stroke:#000000;\" x=\"558.05\" xlink:href=\"#m607eb35c44\" y=\"1041.735609\"/>\r\n     <use style=\"fill-opacity:0;stroke:#000000;\" x=\"558.05\" xlink:href=\"#m607eb35c44\" y=\"1049.68884\"/>\r\n     <use style=\"fill-opacity:0;stroke:#000000;\" x=\"558.05\" xlink:href=\"#m607eb35c44\" y=\"1054.63932\"/>\r\n     <use style=\"fill-opacity:0;stroke:#000000;\" x=\"558.05\" xlink:href=\"#m607eb35c44\" y=\"1055.288563\"/>\r\n     <use style=\"fill-opacity:0;stroke:#000000;\" x=\"558.05\" xlink:href=\"#m607eb35c44\" y=\"1051.880036\"/>\r\n     <use style=\"fill-opacity:0;stroke:#000000;\" x=\"558.05\" xlink:href=\"#m607eb35c44\" y=\"1051.63657\"/>\r\n     <use style=\"fill-opacity:0;stroke:#000000;\" x=\"558.05\" xlink:href=\"#m607eb35c44\" y=\"1051.63657\"/>\r\n     <use style=\"fill-opacity:0;stroke:#000000;\" x=\"558.05\" xlink:href=\"#m607eb35c44\" y=\"1051.63657\"/>\r\n     <use style=\"fill-opacity:0;stroke:#000000;\" x=\"558.05\" xlink:href=\"#m607eb35c44\" y=\"1051.63657\"/>\r\n     <use style=\"fill-opacity:0;stroke:#000000;\" x=\"558.05\" xlink:href=\"#m607eb35c44\" y=\"1054.801631\"/>\r\n     <use style=\"fill-opacity:0;stroke:#000000;\" x=\"558.05\" xlink:href=\"#m607eb35c44\" y=\"1055.613185\"/>\r\n     <use style=\"fill-opacity:0;stroke:#000000;\" x=\"558.05\" xlink:href=\"#m607eb35c44\" y=\"1055.69434\"/>\r\n     <use style=\"fill-opacity:0;stroke:#000000;\" x=\"558.05\" xlink:href=\"#m607eb35c44\" y=\"1056.018962\"/>\r\n     <use style=\"fill-opacity:0;stroke:#000000;\" x=\"558.05\" xlink:href=\"#m607eb35c44\" y=\"1054.63932\"/>\r\n     <use style=\"fill-opacity:0;stroke:#000000;\" x=\"558.05\" xlink:href=\"#m607eb35c44\" y=\"1039.219792\"/>\r\n     <use style=\"fill-opacity:0;stroke:#000000;\" x=\"558.05\" xlink:href=\"#m607eb35c44\" y=\"1046.118002\"/>\r\n     <use style=\"fill-opacity:0;stroke:#000000;\" x=\"558.05\" xlink:href=\"#m607eb35c44\" y=\"1043.196407\"/>\r\n     <use style=\"fill-opacity:0;stroke:#000000;\" x=\"558.05\" xlink:href=\"#m607eb35c44\" y=\"1055.450874\"/>\r\n     <use style=\"fill-opacity:0;stroke:#000000;\" x=\"558.05\" xlink:href=\"#m607eb35c44\" y=\"1055.856651\"/>\r\n     <use style=\"fill-opacity:0;stroke:#000000;\" x=\"558.05\" xlink:href=\"#m607eb35c44\" y=\"1022.582932\"/>\r\n     <use style=\"fill-opacity:0;stroke:#000000;\" x=\"558.05\" xlink:href=\"#m607eb35c44\" y=\"1056.018962\"/>\r\n     <use style=\"fill-opacity:0;stroke:#000000;\" x=\"558.05\" xlink:href=\"#m607eb35c44\" y=\"1054.882786\"/>\r\n     <use style=\"fill-opacity:0;stroke:#000000;\" x=\"558.05\" xlink:href=\"#m607eb35c44\" y=\"1054.477009\"/>\r\n     <use style=\"fill-opacity:0;stroke:#000000;\" x=\"558.05\" xlink:href=\"#m607eb35c44\" y=\"1034.918555\"/>\r\n     <use style=\"fill-opacity:0;stroke:#000000;\" x=\"558.05\" xlink:href=\"#m607eb35c44\" y=\"1054.395854\"/>\r\n     <use style=\"fill-opacity:0;stroke:#000000;\" x=\"558.05\" xlink:href=\"#m607eb35c44\" y=\"1055.126253\"/>\r\n     <use style=\"fill-opacity:0;stroke:#000000;\" x=\"558.05\" xlink:href=\"#m607eb35c44\" y=\"1056.505895\"/>\r\n     <use style=\"fill-opacity:0;stroke:#000000;\" x=\"558.05\" xlink:href=\"#m607eb35c44\" y=\"1052.853901\"/>\r\n     <use style=\"fill-opacity:0;stroke:#000000;\" x=\"558.05\" xlink:href=\"#m607eb35c44\" y=\"1051.880036\"/>\r\n     <use style=\"fill-opacity:0;stroke:#000000;\" x=\"558.05\" xlink:href=\"#m607eb35c44\" y=\"974.214306\"/>\r\n     <use style=\"fill-opacity:0;stroke:#000000;\" x=\"558.05\" xlink:href=\"#m607eb35c44\" y=\"1052.853901\"/>\r\n     <use style=\"fill-opacity:0;stroke:#000000;\" x=\"558.05\" xlink:href=\"#m607eb35c44\" y=\"1019.25556\"/>\r\n     <use style=\"fill-opacity:0;stroke:#000000;\" x=\"558.05\" xlink:href=\"#m607eb35c44\" y=\"1054.963942\"/>\r\n     <use style=\"fill-opacity:0;stroke:#000000;\" x=\"558.05\" xlink:href=\"#m607eb35c44\" y=\"1057.236293\"/>\r\n     <use style=\"fill-opacity:0;stroke:#000000;\" x=\"558.05\" xlink:href=\"#m607eb35c44\" y=\"1051.63657\"/>\r\n     <use style=\"fill-opacity:0;stroke:#000000;\" x=\"558.05\" xlink:href=\"#m607eb35c44\" y=\"1055.69434\"/>\r\n     <use style=\"fill-opacity:0;stroke:#000000;\" x=\"558.05\" xlink:href=\"#m607eb35c44\" y=\"1052.529279\"/>\r\n     <use style=\"fill-opacity:0;stroke:#000000;\" x=\"558.05\" xlink:href=\"#m607eb35c44\" y=\"1046.361468\"/>\r\n     <use style=\"fill-opacity:0;stroke:#000000;\" x=\"558.05\" xlink:href=\"#m607eb35c44\" y=\"1054.882786\"/>\r\n     <use style=\"fill-opacity:0;stroke:#000000;\" x=\"558.05\" xlink:href=\"#m607eb35c44\" y=\"1037.84015\"/>\r\n     <use style=\"fill-opacity:0;stroke:#000000;\" x=\"558.05\" xlink:href=\"#m607eb35c44\" y=\"1053.016212\"/>\r\n     <use style=\"fill-opacity:0;stroke:#000000;\" x=\"558.05\" xlink:href=\"#m607eb35c44\" y=\"1052.285813\"/>\r\n     <use style=\"fill-opacity:0;stroke:#000000;\" x=\"558.05\" xlink:href=\"#m607eb35c44\" y=\"1053.016212\"/>\r\n     <use style=\"fill-opacity:0;stroke:#000000;\" x=\"558.05\" xlink:href=\"#m607eb35c44\" y=\"1043.196407\"/>\r\n     <use style=\"fill-opacity:0;stroke:#000000;\" x=\"558.05\" xlink:href=\"#m607eb35c44\" y=\"1033.295447\"/>\r\n     <use style=\"fill-opacity:0;stroke:#000000;\" x=\"558.05\" xlink:href=\"#m607eb35c44\" y=\"1047.822265\"/>\r\n     <use style=\"fill-opacity:0;stroke:#000000;\" x=\"558.05\" xlink:href=\"#m607eb35c44\" y=\"1051.068482\"/>\r\n     <use style=\"fill-opacity:0;stroke:#000000;\" x=\"558.05\" xlink:href=\"#m607eb35c44\" y=\"1056.911672\"/>\r\n     <use style=\"fill-opacity:0;stroke:#000000;\" x=\"558.05\" xlink:href=\"#m607eb35c44\" y=\"1054.882786\"/>\r\n     <use style=\"fill-opacity:0;stroke:#000000;\" x=\"558.05\" xlink:href=\"#m607eb35c44\" y=\"1040.031346\"/>\r\n     <use style=\"fill-opacity:0;stroke:#000000;\" x=\"558.05\" xlink:href=\"#m607eb35c44\" y=\"1033.295447\"/>\r\n     <use style=\"fill-opacity:0;stroke:#000000;\" x=\"558.05\" xlink:href=\"#m607eb35c44\" y=\"1056.262428\"/>\r\n     <use style=\"fill-opacity:0;stroke:#000000;\" x=\"558.05\" xlink:href=\"#m607eb35c44\" y=\"1050.825016\"/>\r\n     <use style=\"fill-opacity:0;stroke:#000000;\" x=\"558.05\" xlink:href=\"#m607eb35c44\" y=\"1051.63657\"/>\r\n     <use style=\"fill-opacity:0;stroke:#000000;\" x=\"558.05\" xlink:href=\"#m607eb35c44\" y=\"1053.827766\"/>\r\n     <use style=\"fill-opacity:0;stroke:#000000;\" x=\"558.05\" xlink:href=\"#m607eb35c44\" y=\"1048.309198\"/>\r\n     <use style=\"fill-opacity:0;stroke:#000000;\" x=\"558.05\" xlink:href=\"#m607eb35c44\" y=\"1038.489393\"/>\r\n     <use style=\"fill-opacity:0;stroke:#000000;\" x=\"558.05\" xlink:href=\"#m607eb35c44\" y=\"1036.379352\"/>\r\n     <use style=\"fill-opacity:0;stroke:#000000;\" x=\"558.05\" xlink:href=\"#m607eb35c44\" y=\"1050.338083\"/>\r\n     <use style=\"fill-opacity:0;stroke:#000000;\" x=\"558.05\" xlink:href=\"#m607eb35c44\" y=\"1053.016212\"/>\r\n     <use style=\"fill-opacity:0;stroke:#000000;\" x=\"558.05\" xlink:href=\"#m607eb35c44\" y=\"1050.825016\"/>\r\n     <use style=\"fill-opacity:0;stroke:#000000;\" x=\"558.05\" xlink:href=\"#m607eb35c44\" y=\"1047.010711\"/>\r\n     <use style=\"fill-opacity:0;stroke:#000000;\" x=\"558.05\" xlink:href=\"#m607eb35c44\" y=\"1055.856651\"/>\r\n     <use style=\"fill-opacity:0;stroke:#000000;\" x=\"558.05\" xlink:href=\"#m607eb35c44\" y=\"1053.097367\"/>\r\n     <use style=\"fill-opacity:0;stroke:#000000;\" x=\"558.05\" xlink:href=\"#m607eb35c44\" y=\"1054.963942\"/>\r\n     <use style=\"fill-opacity:0;stroke:#000000;\" x=\"558.05\" xlink:href=\"#m607eb35c44\" y=\"1048.309198\"/>\r\n     <use style=\"fill-opacity:0;stroke:#000000;\" x=\"558.05\" xlink:href=\"#m607eb35c44\" y=\"1056.100118\"/>\r\n     <use style=\"fill-opacity:0;stroke:#000000;\" x=\"558.05\" xlink:href=\"#m607eb35c44\" y=\"1053.178523\"/>\r\n     <use style=\"fill-opacity:0;stroke:#000000;\" x=\"558.05\" xlink:href=\"#m607eb35c44\" y=\"1054.882786\"/>\r\n     <use style=\"fill-opacity:0;stroke:#000000;\" x=\"558.05\" xlink:href=\"#m607eb35c44\" y=\"1020.391736\"/>\r\n     <use style=\"fill-opacity:0;stroke:#000000;\" x=\"558.05\" xlink:href=\"#m607eb35c44\" y=\"1026.234926\"/>\r\n     <use style=\"fill-opacity:0;stroke:#000000;\" x=\"558.05\" xlink:href=\"#m607eb35c44\" y=\"1049.526529\"/>\r\n     <use style=\"fill-opacity:0;stroke:#000000;\" x=\"558.05\" xlink:href=\"#m607eb35c44\" y=\"1050.338083\"/>\r\n     <use style=\"fill-opacity:0;stroke:#000000;\" x=\"558.05\" xlink:href=\"#m607eb35c44\" y=\"1055.126253\"/>\r\n     <use style=\"fill-opacity:0;stroke:#000000;\" x=\"558.05\" xlink:href=\"#m607eb35c44\" y=\"1055.045097\"/>\r\n     <use style=\"fill-opacity:0;stroke:#000000;\" x=\"558.05\" xlink:href=\"#m607eb35c44\" y=\"1043.439873\"/>\r\n     <use style=\"fill-opacity:0;stroke:#000000;\" x=\"558.05\" xlink:href=\"#m607eb35c44\" y=\"1018.849783\"/>\r\n     <use style=\"fill-opacity:0;stroke:#000000;\" x=\"558.05\" xlink:href=\"#m607eb35c44\" y=\"1055.613185\"/>\r\n     <use style=\"fill-opacity:0;stroke:#000000;\" x=\"558.05\" xlink:href=\"#m607eb35c44\" y=\"1049.607685\"/>\r\n     <use style=\"fill-opacity:0;stroke:#000000;\" x=\"558.05\" xlink:href=\"#m607eb35c44\" y=\"1044.413738\"/>\r\n     <use style=\"fill-opacity:0;stroke:#000000;\" x=\"558.05\" xlink:href=\"#m607eb35c44\" y=\"1051.63657\"/>\r\n     <use style=\"fill-opacity:0;stroke:#000000;\" x=\"558.05\" xlink:href=\"#m607eb35c44\" y=\"1050.338083\"/>\r\n     <use style=\"fill-opacity:0;stroke:#000000;\" x=\"558.05\" xlink:href=\"#m607eb35c44\" y=\"1050.419239\"/>\r\n     <use style=\"fill-opacity:0;stroke:#000000;\" x=\"558.05\" xlink:href=\"#m607eb35c44\" y=\"1053.178523\"/>\r\n     <use style=\"fill-opacity:0;stroke:#000000;\" x=\"558.05\" xlink:href=\"#m607eb35c44\" y=\"1056.58705\"/>\r\n     <use style=\"fill-opacity:0;stroke:#000000;\" x=\"558.05\" xlink:href=\"#m607eb35c44\" y=\"1055.450874\"/>\r\n     <use style=\"fill-opacity:0;stroke:#000000;\" x=\"558.05\" xlink:href=\"#m607eb35c44\" y=\"1055.288563\"/>\r\n     <use style=\"fill-opacity:0;stroke:#000000;\" x=\"558.05\" xlink:href=\"#m607eb35c44\" y=\"1055.53203\"/>\r\n     <use style=\"fill-opacity:0;stroke:#000000;\" x=\"558.05\" xlink:href=\"#m607eb35c44\" y=\"1050.094617\"/>\r\n     <use style=\"fill-opacity:0;stroke:#000000;\" x=\"558.05\" xlink:href=\"#m607eb35c44\" y=\"1054.801631\"/>\r\n     <use style=\"fill-opacity:0;stroke:#000000;\" x=\"558.05\" xlink:href=\"#m607eb35c44\" y=\"1052.204658\"/>\r\n     <use style=\"fill-opacity:0;stroke:#000000;\" x=\"558.05\" xlink:href=\"#m607eb35c44\" y=\"1055.288563\"/>\r\n     <use style=\"fill-opacity:0;stroke:#000000;\" x=\"558.05\" xlink:href=\"#m607eb35c44\" y=\"1040.680589\"/>\r\n     <use style=\"fill-opacity:0;stroke:#000000;\" x=\"558.05\" xlink:href=\"#m607eb35c44\" y=\"1051.717725\"/>\r\n     <use style=\"fill-opacity:0;stroke:#000000;\" x=\"558.05\" xlink:href=\"#m607eb35c44\" y=\"1048.309198\"/>\r\n     <use style=\"fill-opacity:0;stroke:#000000;\" x=\"558.05\" xlink:href=\"#m607eb35c44\" y=\"1040.112501\"/>\r\n     <use style=\"fill-opacity:0;stroke:#000000;\" x=\"558.05\" xlink:href=\"#m607eb35c44\" y=\"1052.853901\"/>\r\n     <use style=\"fill-opacity:0;stroke:#000000;\" x=\"558.05\" xlink:href=\"#m607eb35c44\" y=\"1052.853901\"/>\r\n     <use style=\"fill-opacity:0;stroke:#000000;\" x=\"558.05\" xlink:href=\"#m607eb35c44\" y=\"1052.853901\"/>\r\n     <use style=\"fill-opacity:0;stroke:#000000;\" x=\"558.05\" xlink:href=\"#m607eb35c44\" y=\"1029.318831\"/>\r\n     <use style=\"fill-opacity:0;stroke:#000000;\" x=\"558.05\" xlink:href=\"#m607eb35c44\" y=\"1029.318831\"/>\r\n     <use style=\"fill-opacity:0;stroke:#000000;\" x=\"558.05\" xlink:href=\"#m607eb35c44\" y=\"1052.853901\"/>\r\n     <use style=\"fill-opacity:0;stroke:#000000;\" x=\"558.05\" xlink:href=\"#m607eb35c44\" y=\"1056.668205\"/>\r\n     <use style=\"fill-opacity:0;stroke:#000000;\" x=\"558.05\" xlink:href=\"#m607eb35c44\" y=\"1056.262428\"/>\r\n     <use style=\"fill-opacity:0;stroke:#000000;\" x=\"558.05\" xlink:href=\"#m607eb35c44\" y=\"1056.505895\"/>\r\n     <use style=\"fill-opacity:0;stroke:#000000;\" x=\"558.05\" xlink:href=\"#m607eb35c44\" y=\"1052.853901\"/>\r\n     <use style=\"fill-opacity:0;stroke:#000000;\" x=\"558.05\" xlink:href=\"#m607eb35c44\" y=\"1052.529279\"/>\r\n     <use style=\"fill-opacity:0;stroke:#000000;\" x=\"558.05\" xlink:href=\"#m607eb35c44\" y=\"1054.801631\"/>\r\n     <use style=\"fill-opacity:0;stroke:#000000;\" x=\"558.05\" xlink:href=\"#m607eb35c44\" y=\"1057.073982\"/>\r\n    </g>\r\n   </g>\r\n   <g id=\"line2d_231\">\r\n    <path clip-path=\"url(#p58e79e486d)\" d=\"M 535.179412 1075.577417 \r\nL 580.920588 1075.577417 \r\n\" style=\"fill:none;stroke:#2ca02c;stroke-linecap:square;\"/>\r\n   </g>\r\n   <g id=\"patch_53\">\r\n    <path d=\"M 405.579412 1102.318125 \r\nL 405.579412 867.535516 \r\n\" style=\"fill:none;stroke:#000000;stroke-linecap:square;stroke-linejoin:miter;stroke-width:0.8;\"/>\r\n   </g>\r\n   <g id=\"patch_54\">\r\n    <path d=\"M 710.520588 1102.318125 \r\nL 710.520588 867.535516 \r\n\" style=\"fill:none;stroke:#000000;stroke-linecap:square;stroke-linejoin:miter;stroke-width:0.8;\"/>\r\n   </g>\r\n   <g id=\"patch_55\">\r\n    <path d=\"M 405.579412 1102.318125 \r\nL 710.520588 1102.318125 \r\n\" style=\"fill:none;stroke:#000000;stroke-linecap:square;stroke-linejoin:miter;stroke-width:0.8;\"/>\r\n   </g>\r\n   <g id=\"patch_56\">\r\n    <path d=\"M 405.579412 867.535516 \r\nL 710.520588 867.535516 \r\n\" style=\"fill:none;stroke:#000000;stroke-linecap:square;stroke-linejoin:miter;stroke-width:0.8;\"/>\r\n   </g>\r\n   <g id=\"text_46\">\r\n    <!-- Rock -->\r\n    <g transform=\"translate(543.70625 861.535516)scale(0.12 -0.12)\">\r\n     <use xlink:href=\"#DejaVuSans-82\"/>\r\n     <use x=\"64.982422\" xlink:href=\"#DejaVuSans-111\"/>\r\n     <use x=\"126.164062\" xlink:href=\"#DejaVuSans-99\"/>\r\n     <use x=\"181.144531\" xlink:href=\"#DejaVuSans-107\"/>\r\n    </g>\r\n   </g>\r\n  </g>\r\n </g>\r\n <defs>\r\n  <clipPath id=\"p34c5865a43\">\r\n   <rect height=\"234.782609\" width=\"304.941176\" x=\"39.65\" y=\"22.318125\"/>\r\n  </clipPath>\r\n  <clipPath id=\"pb0517038cc\">\r\n   <rect height=\"234.782609\" width=\"304.941176\" x=\"405.579412\" y=\"22.318125\"/>\r\n  </clipPath>\r\n  <clipPath id=\"p34187f80bf\">\r\n   <rect height=\"234.782609\" width=\"304.941176\" x=\"771.508824\" y=\"22.318125\"/>\r\n  </clipPath>\r\n  <clipPath id=\"pa2ca99f410\">\r\n   <rect height=\"234.782609\" width=\"304.941176\" x=\"39.65\" y=\"304.057255\"/>\r\n  </clipPath>\r\n  <clipPath id=\"p8b39cd8d57\">\r\n   <rect height=\"234.782609\" width=\"304.941176\" x=\"405.579412\" y=\"304.057255\"/>\r\n  </clipPath>\r\n  <clipPath id=\"pc0b60364ad\">\r\n   <rect height=\"234.782609\" width=\"304.941176\" x=\"771.508824\" y=\"304.057255\"/>\r\n  </clipPath>\r\n  <clipPath id=\"p467892ab57\">\r\n   <rect height=\"234.782609\" width=\"304.941176\" x=\"39.65\" y=\"585.796386\"/>\r\n  </clipPath>\r\n  <clipPath id=\"p1722622b19\">\r\n   <rect height=\"234.782609\" width=\"304.941176\" x=\"405.579412\" y=\"585.796386\"/>\r\n  </clipPath>\r\n  <clipPath id=\"pe65560b789\">\r\n   <rect height=\"234.782609\" width=\"304.941176\" x=\"771.508824\" y=\"585.796386\"/>\r\n  </clipPath>\r\n  <clipPath id=\"p6af898b479\">\r\n   <rect height=\"234.782609\" width=\"304.941176\" x=\"39.65\" y=\"867.535516\"/>\r\n  </clipPath>\r\n  <clipPath id=\"p58e79e486d\">\r\n   <rect height=\"234.782609\" width=\"304.941176\" x=\"405.579412\" y=\"867.535516\"/>\r\n  </clipPath>\r\n </defs>\r\n</svg>\r\n",
      "image/png": "[encoded data removed]"
     },
     "metadata": {
      "needs_background": "light"
     }
    }
   ],
   "source": [
    "lyrics.groupby('closest_genre').boxplot(figsize=(18,20))"
   ]
  },
  {
   "cell_type": "code",
   "execution_count": 12,
   "metadata": {},
   "outputs": [
    {
     "output_type": "execute_result",
     "data": {
      "text/plain": [
       "4"
      ]
     },
     "metadata": {},
     "execution_count": 12
    }
   ],
   "source": [
    "min_sentence_length = lyrics.lyric.apply(lambda x: x.split()).apply(len).min()\n",
    "min_sentence_length"
   ]
  },
  {
   "cell_type": "code",
   "execution_count": 13,
   "metadata": {},
   "outputs": [
    {
     "output_type": "execute_result",
     "data": {
      "text/plain": [
       "2634"
      ]
     },
     "metadata": {},
     "execution_count": 13
    }
   ],
   "source": [
    "max_sentence_length = lyrics.lyric.apply(lambda x: x.split()).apply(len).max()\n",
    "max_sentence_length"
   ]
  },
  {
   "cell_type": "code",
   "execution_count": 14,
   "metadata": {},
   "outputs": [
    {
     "output_type": "execute_result",
     "data": {
      "text/plain": [
       "149.0"
      ]
     },
     "metadata": {},
     "execution_count": 14
    }
   ],
   "source": [
    "lyrics_length_threshold = lyrics.lyric.apply(lambda x: x.split()).apply(len).quantile(0.25)\n",
    "lyrics_length_threshold"
   ]
  },
  {
   "cell_type": "code",
   "execution_count": 15,
   "metadata": {},
   "outputs": [],
   "source": [
    "cleaned_lyrics = lyrics[(lyrics.length_lyric>=lyrics_length_threshold)]\n",
    "threshold = cleaned_lyrics.groupby('closest_genre')['song_name'].nunique()['Metal']\n",
    "cleaned_lyrics = cleaned_lyrics[cleaned_lyrics.closest_genre!='Reggae']\n",
    "cleaned_lyrics = cleaned_lyrics.groupby('closest_genre').sample(n=threshold, random_state=RANDOM_SEED)"
   ]
  },
  {
   "cell_type": "code",
   "execution_count": 16,
   "metadata": {},
   "outputs": [
    {
     "output_type": "execute_result",
     "data": {
      "text/plain": [
       "closest_genre\n",
       "Metal         193\n",
       "Country       195\n",
       "Electronic    196\n",
       "Jazz          196\n",
       "Folk          198\n",
       "Blues         199\n",
       "Pop           200\n",
       "Hip Hop       204\n",
       "Punk          204\n",
       "Rock          207\n",
       "Name: song_name, dtype: int64"
      ]
     },
     "metadata": {},
     "execution_count": 16
    }
   ],
   "source": [
    "cleaned_lyrics.groupby('closest_genre')['song_name'].nunique().sort_values()"
   ]
  },
  {
   "cell_type": "code",
   "execution_count": 17,
   "metadata": {},
   "outputs": [
    {
     "output_type": "execute_result",
     "data": {
      "text/plain": [
       "closest_genre\n",
       "Blues         199\n",
       "Country       195\n",
       "Electronic    196\n",
       "Folk          198\n",
       "Hip Hop       204\n",
       "Jazz          196\n",
       "Metal         193\n",
       "Pop           200\n",
       "Punk          204\n",
       "Rock          207\n",
       "Name: song_name, dtype: int64"
      ]
     },
     "metadata": {},
     "execution_count": 17
    }
   ],
   "source": [
    "cleaned_lyrics.groupby('closest_genre')['song_name'].nunique()"
   ]
  },
  {
   "cell_type": "code",
   "execution_count": 18,
   "metadata": {},
   "outputs": [
    {
     "output_type": "execute_result",
     "data": {
      "text/plain": [
       "closest_genre\n",
       "Blues         Tears Dry On Their OwnPsychedelic ShackI'm You...\n",
       "Country       I Want Your Love - 2018 RemasterNext in LineMe...\n",
       "Electronic    Cool Cat - Remastered 2011Cool CatBohemian Rha...\n",
       "Folk          All My TrialsCopperhead RoadDeath Letter Blues...\n",
       "Hip Hop       Rebirth Of Slick (Cool Like Dat)RosesLoserNo T...\n",
       "Jazz          Recipe For LoveThese Boots Are Made For Walkin...\n",
       "Metal         Narcosynthesis - live at the Zeche Bochum, Ger...\n",
       "Pop           Whenever, WhereverI've Got the Music in MeLet ...\n",
       "Punk          Vampires Will Never Hurt YouPersonality Crisis...\n",
       "Rock          She Will Be Loved - Radio MixDaisy JaneAshes t...\n",
       "Name: song_name, dtype: object"
      ]
     },
     "metadata": {},
     "execution_count": 18
    }
   ],
   "source": [
    "cleaned_lyrics.groupby('closest_genre')['song_name'].sum()"
   ]
  },
  {
   "cell_type": "code",
   "execution_count": 19,
   "metadata": {},
   "outputs": [],
   "source": [
    "length_of_lyrics_per_genre = {}\n",
    "for i, a in cleaned_lyrics.groupby('closest_genre')['lyric'].sum().iteritems():\n",
    "    length_of_lyrics_per_genre[i] = len(a)"
   ]
  },
  {
   "cell_type": "code",
   "execution_count": 20,
   "metadata": {},
   "outputs": [
    {
     "output_type": "execute_result",
     "data": {
      "text/plain": [
       "{'Blues': 262897,\n",
       " 'Country': 256713,\n",
       " 'Electronic': 265913,\n",
       " 'Folk': 279209,\n",
       " 'Hip Hop': 498608,\n",
       " 'Jazz': 244479,\n",
       " 'Metal': 264776,\n",
       " 'Pop': 289343,\n",
       " 'Punk': 273657,\n",
       " 'Rock': 250262}"
      ]
     },
     "metadata": {},
     "execution_count": 20
    }
   ],
   "source": [
    "length_of_lyrics_per_genre"
   ]
  },
  {
   "cell_type": "code",
   "execution_count": 21,
   "metadata": {},
   "outputs": [
    {
     "output_type": "execute_result",
     "data": {
      "text/plain": [
       "<BarContainer object of 10 artists>"
      ]
     },
     "metadata": {},
     "execution_count": 21
    },
    {
     "output_type": "display_data",
     "data": {
      "text/plain": "<Figure size 432x288 with 1 Axes>",
      "image/svg+xml": "<?xml version=\"1.0\" encoding=\"utf-8\" standalone=\"no\"?>\r\n<!DOCTYPE svg PUBLIC \"-//W3C//DTD SVG 1.1//EN\"\r\n  \"http://www.w3.org/Graphics/SVG/1.1/DTD/svg11.dtd\">\r\n<!-- Created with matplotlib (https://matplotlib.org/) -->\r\n<svg height=\"248.518125pt\" version=\"1.1\" viewBox=\"0 0 394.375 248.518125\" width=\"394.375pt\" xmlns=\"http://www.w3.org/2000/svg\" xmlns:xlink=\"http://www.w3.org/1999/xlink\">\r\n <metadata>\r\n  <rdf:RDF xmlns:cc=\"http://creativecommons.org/ns#\" xmlns:dc=\"http://purl.org/dc/elements/1.1/\" xmlns:rdf=\"http://www.w3.org/1999/02/22-rdf-syntax-ns#\">\r\n   <cc:Work>\r\n    <dc:type rdf:resource=\"http://purl.org/dc/dcmitype/StillImage\"/>\r\n    <dc:date>2021-02-14T18:21:48.309812</dc:date>\r\n    <dc:format>image/svg+xml</dc:format>\r\n    <dc:creator>\r\n     <cc:Agent>\r\n      <dc:title>Matplotlib v3.3.2, https://matplotlib.org/</dc:title>\r\n     </cc:Agent>\r\n    </dc:creator>\r\n   </cc:Work>\r\n  </rdf:RDF>\r\n </metadata>\r\n <defs>\r\n  <style type=\"text/css\">*{stroke-linecap:butt;stroke-linejoin:round;}</style>\r\n </defs>\r\n <g id=\"figure_1\">\r\n  <g id=\"patch_1\">\r\n   <path d=\"M 0 248.518125 \r\nL 394.375 248.518125 \r\nL 394.375 0 \r\nL 0 0 \r\nz\r\n\" style=\"fill:none;\"/>\r\n  </g>\r\n  <g id=\"axes_1\">\r\n   <g id=\"patch_2\">\r\n    <path d=\"M 52.375 224.64 \r\nL 387.175 224.64 \r\nL 387.175 7.2 \r\nL 52.375 7.2 \r\nz\r\n\" style=\"fill:#ffffff;\"/>\r\n   </g>\r\n   <g id=\"patch_3\">\r\n    <path clip-path=\"url(#p463defb9e8)\" d=\"M 67.593182 224.64 \r\nL 92.439193 224.64 \r\nL 92.439193 115.451593 \r\nL 67.593182 115.451593 \r\nz\r\n\" style=\"fill:#1f77b4;\"/>\r\n   </g>\r\n   <g id=\"patch_4\">\r\n    <path clip-path=\"url(#p463defb9e8)\" d=\"M 98.650696 224.64 \r\nL 123.496707 224.64 \r\nL 123.496707 118.01998 \r\nL 98.650696 118.01998 \r\nz\r\n\" style=\"fill:#1f77b4;\"/>\r\n   </g>\r\n   <g id=\"patch_5\">\r\n    <path clip-path=\"url(#p463defb9e8)\" d=\"M 129.70821 224.64 \r\nL 154.554221 224.64 \r\nL 154.554221 114.198965 \r\nL 129.70821 114.198965 \r\nz\r\n\" style=\"fill:#1f77b4;\"/>\r\n   </g>\r\n   <g id=\"patch_6\">\r\n    <path clip-path=\"url(#p463defb9e8)\" d=\"M 160.765724 224.64 \r\nL 185.611735 224.64 \r\nL 185.611735 108.676768 \r\nL 160.765724 108.676768 \r\nz\r\n\" style=\"fill:#1f77b4;\"/>\r\n   </g>\r\n   <g id=\"patch_7\">\r\n    <path clip-path=\"url(#p463defb9e8)\" d=\"M 191.823237 224.64 \r\nL 216.669249 224.64 \r\nL 216.669249 17.554286 \r\nL 191.823237 17.554286 \r\nz\r\n\" style=\"fill:#1f77b4;\"/>\r\n   </g>\r\n   <g id=\"patch_8\">\r\n    <path clip-path=\"url(#p463defb9e8)\" d=\"M 222.880751 224.64 \r\nL 247.726763 224.64 \r\nL 247.726763 123.101099 \r\nL 222.880751 123.101099 \r\nz\r\n\" style=\"fill:#1f77b4;\"/>\r\n   </g>\r\n   <g id=\"patch_9\">\r\n    <path clip-path=\"url(#p463defb9e8)\" d=\"M 253.938265 224.64 \r\nL 278.784276 224.64 \r\nL 278.784276 114.671193 \r\nL 253.938265 114.671193 \r\nz\r\n\" style=\"fill:#1f77b4;\"/>\r\n   </g>\r\n   <g id=\"patch_10\">\r\n    <path clip-path=\"url(#p463defb9e8)\" d=\"M 284.995779 224.64 \r\nL 309.84179 224.64 \r\nL 309.84179 104.467837 \r\nL 284.995779 104.467837 \r\nz\r\n\" style=\"fill:#1f77b4;\"/>\r\n   </g>\r\n   <g id=\"patch_11\">\r\n    <path clip-path=\"url(#p463defb9e8)\" d=\"M 316.053293 224.64 \r\nL 340.899304 224.64 \r\nL 340.899304 110.982667 \r\nL 316.053293 110.982667 \r\nz\r\n\" style=\"fill:#1f77b4;\"/>\r\n   </g>\r\n   <g id=\"patch_12\">\r\n    <path clip-path=\"url(#p463defb9e8)\" d=\"M 347.110807 224.64 \r\nL 371.956818 224.64 \r\nL 371.956818 120.699259 \r\nL 347.110807 120.699259 \r\nz\r\n\" style=\"fill:#1f77b4;\"/>\r\n   </g>\r\n   <g id=\"matplotlib.axis_1\">\r\n    <g id=\"xtick_1\">\r\n     <g id=\"line2d_1\">\r\n      <defs>\r\n       <path d=\"M 0 0 \r\nL 0 3.5 \r\n\" id=\"m1f469090e9\" style=\"stroke:#000000;stroke-width:0.8;\"/>\r\n      </defs>\r\n      <g>\r\n       <use style=\"stroke:#000000;stroke-width:0.8;\" x=\"80.016187\" xlink:href=\"#m1f469090e9\" y=\"224.64\"/>\r\n      </g>\r\n     </g>\r\n     <g id=\"text_1\">\r\n      <!-- Blues -->\r\n      <g transform=\"translate(66.346656 239.238438)scale(0.1 -0.1)\">\r\n       <defs>\r\n        <path d=\"M 19.671875 34.8125 \r\nL 19.671875 8.109375 \r\nL 35.5 8.109375 \r\nQ 43.453125 8.109375 47.28125 11.40625 \r\nQ 51.125 14.703125 51.125 21.484375 \r\nQ 51.125 28.328125 47.28125 31.5625 \r\nQ 43.453125 34.8125 35.5 34.8125 \r\nz\r\nM 19.671875 64.796875 \r\nL 19.671875 42.828125 \r\nL 34.28125 42.828125 \r\nQ 41.5 42.828125 45.03125 45.53125 \r\nQ 48.578125 48.25 48.578125 53.8125 \r\nQ 48.578125 59.328125 45.03125 62.0625 \r\nQ 41.5 64.796875 34.28125 64.796875 \r\nz\r\nM 9.8125 72.90625 \r\nL 35.015625 72.90625 \r\nQ 46.296875 72.90625 52.390625 68.21875 \r\nQ 58.5 63.53125 58.5 54.890625 \r\nQ 58.5 48.1875 55.375 44.234375 \r\nQ 52.25 40.28125 46.1875 39.3125 \r\nQ 53.46875 37.75 57.5 32.78125 \r\nQ 61.53125 27.828125 61.53125 20.40625 \r\nQ 61.53125 10.640625 54.890625 5.3125 \r\nQ 48.25 0 35.984375 0 \r\nL 9.8125 0 \r\nz\r\n\" id=\"DejaVuSans-66\"/>\r\n        <path d=\"M 9.421875 75.984375 \r\nL 18.40625 75.984375 \r\nL 18.40625 0 \r\nL 9.421875 0 \r\nz\r\n\" id=\"DejaVuSans-108\"/>\r\n        <path d=\"M 8.5 21.578125 \r\nL 8.5 54.6875 \r\nL 17.484375 54.6875 \r\nL 17.484375 21.921875 \r\nQ 17.484375 14.15625 20.5 10.265625 \r\nQ 23.53125 6.390625 29.59375 6.390625 \r\nQ 36.859375 6.390625 41.078125 11.03125 \r\nQ 45.3125 15.671875 45.3125 23.6875 \r\nL 45.3125 54.6875 \r\nL 54.296875 54.6875 \r\nL 54.296875 0 \r\nL 45.3125 0 \r\nL 45.3125 8.40625 \r\nQ 42.046875 3.421875 37.71875 1 \r\nQ 33.40625 -1.421875 27.6875 -1.421875 \r\nQ 18.265625 -1.421875 13.375 4.4375 \r\nQ 8.5 10.296875 8.5 21.578125 \r\nz\r\nM 31.109375 56 \r\nz\r\n\" id=\"DejaVuSans-117\"/>\r\n        <path d=\"M 56.203125 29.59375 \r\nL 56.203125 25.203125 \r\nL 14.890625 25.203125 \r\nQ 15.484375 15.921875 20.484375 11.0625 \r\nQ 25.484375 6.203125 34.421875 6.203125 \r\nQ 39.59375 6.203125 44.453125 7.46875 \r\nQ 49.3125 8.734375 54.109375 11.28125 \r\nL 54.109375 2.78125 \r\nQ 49.265625 0.734375 44.1875 -0.34375 \r\nQ 39.109375 -1.421875 33.890625 -1.421875 \r\nQ 20.796875 -1.421875 13.15625 6.1875 \r\nQ 5.515625 13.8125 5.515625 26.8125 \r\nQ 5.515625 40.234375 12.765625 48.109375 \r\nQ 20.015625 56 32.328125 56 \r\nQ 43.359375 56 49.78125 48.890625 \r\nQ 56.203125 41.796875 56.203125 29.59375 \r\nz\r\nM 47.21875 32.234375 \r\nQ 47.125 39.59375 43.09375 43.984375 \r\nQ 39.0625 48.390625 32.421875 48.390625 \r\nQ 24.90625 48.390625 20.390625 44.140625 \r\nQ 15.875 39.890625 15.1875 32.171875 \r\nz\r\n\" id=\"DejaVuSans-101\"/>\r\n        <path d=\"M 44.28125 53.078125 \r\nL 44.28125 44.578125 \r\nQ 40.484375 46.53125 36.375 47.5 \r\nQ 32.28125 48.484375 27.875 48.484375 \r\nQ 21.1875 48.484375 17.84375 46.4375 \r\nQ 14.5 44.390625 14.5 40.28125 \r\nQ 14.5 37.15625 16.890625 35.375 \r\nQ 19.28125 33.59375 26.515625 31.984375 \r\nL 29.59375 31.296875 \r\nQ 39.15625 29.25 43.1875 25.515625 \r\nQ 47.21875 21.78125 47.21875 15.09375 \r\nQ 47.21875 7.46875 41.1875 3.015625 \r\nQ 35.15625 -1.421875 24.609375 -1.421875 \r\nQ 20.21875 -1.421875 15.453125 -0.5625 \r\nQ 10.6875 0.296875 5.421875 2 \r\nL 5.421875 11.28125 \r\nQ 10.40625 8.6875 15.234375 7.390625 \r\nQ 20.0625 6.109375 24.8125 6.109375 \r\nQ 31.15625 6.109375 34.5625 8.28125 \r\nQ 37.984375 10.453125 37.984375 14.40625 \r\nQ 37.984375 18.0625 35.515625 20.015625 \r\nQ 33.0625 21.96875 24.703125 23.78125 \r\nL 21.578125 24.515625 \r\nQ 13.234375 26.265625 9.515625 29.90625 \r\nQ 5.8125 33.546875 5.8125 39.890625 \r\nQ 5.8125 47.609375 11.28125 51.796875 \r\nQ 16.75 56 26.8125 56 \r\nQ 31.78125 56 36.171875 55.265625 \r\nQ 40.578125 54.546875 44.28125 53.078125 \r\nz\r\n\" id=\"DejaVuSans-115\"/>\r\n       </defs>\r\n       <use xlink:href=\"#DejaVuSans-66\"/>\r\n       <use x=\"68.603516\" xlink:href=\"#DejaVuSans-108\"/>\r\n       <use x=\"96.386719\" xlink:href=\"#DejaVuSans-117\"/>\r\n       <use x=\"159.765625\" xlink:href=\"#DejaVuSans-101\"/>\r\n       <use x=\"221.289062\" xlink:href=\"#DejaVuSans-115\"/>\r\n      </g>\r\n     </g>\r\n    </g>\r\n    <g id=\"xtick_2\">\r\n     <g id=\"line2d_2\">\r\n      <g>\r\n       <use style=\"stroke:#000000;stroke-width:0.8;\" x=\"111.073701\" xlink:href=\"#m1f469090e9\" y=\"224.64\"/>\r\n      </g>\r\n     </g>\r\n     <g id=\"text_2\">\r\n      <!-- Country -->\r\n      <g transform=\"translate(91.21042 239.238438)scale(0.1 -0.1)\">\r\n       <defs>\r\n        <path d=\"M 64.40625 67.28125 \r\nL 64.40625 56.890625 \r\nQ 59.421875 61.53125 53.78125 63.8125 \r\nQ 48.140625 66.109375 41.796875 66.109375 \r\nQ 29.296875 66.109375 22.65625 58.46875 \r\nQ 16.015625 50.828125 16.015625 36.375 \r\nQ 16.015625 21.96875 22.65625 14.328125 \r\nQ 29.296875 6.6875 41.796875 6.6875 \r\nQ 48.140625 6.6875 53.78125 8.984375 \r\nQ 59.421875 11.28125 64.40625 15.921875 \r\nL 64.40625 5.609375 \r\nQ 59.234375 2.09375 53.4375 0.328125 \r\nQ 47.65625 -1.421875 41.21875 -1.421875 \r\nQ 24.65625 -1.421875 15.125 8.703125 \r\nQ 5.609375 18.84375 5.609375 36.375 \r\nQ 5.609375 53.953125 15.125 64.078125 \r\nQ 24.65625 74.21875 41.21875 74.21875 \r\nQ 47.75 74.21875 53.53125 72.484375 \r\nQ 59.328125 70.75 64.40625 67.28125 \r\nz\r\n\" id=\"DejaVuSans-67\"/>\r\n        <path d=\"M 30.609375 48.390625 \r\nQ 23.390625 48.390625 19.1875 42.75 \r\nQ 14.984375 37.109375 14.984375 27.296875 \r\nQ 14.984375 17.484375 19.15625 11.84375 \r\nQ 23.34375 6.203125 30.609375 6.203125 \r\nQ 37.796875 6.203125 41.984375 11.859375 \r\nQ 46.1875 17.53125 46.1875 27.296875 \r\nQ 46.1875 37.015625 41.984375 42.703125 \r\nQ 37.796875 48.390625 30.609375 48.390625 \r\nz\r\nM 30.609375 56 \r\nQ 42.328125 56 49.015625 48.375 \r\nQ 55.71875 40.765625 55.71875 27.296875 \r\nQ 55.71875 13.875 49.015625 6.21875 \r\nQ 42.328125 -1.421875 30.609375 -1.421875 \r\nQ 18.84375 -1.421875 12.171875 6.21875 \r\nQ 5.515625 13.875 5.515625 27.296875 \r\nQ 5.515625 40.765625 12.171875 48.375 \r\nQ 18.84375 56 30.609375 56 \r\nz\r\n\" id=\"DejaVuSans-111\"/>\r\n        <path d=\"M 54.890625 33.015625 \r\nL 54.890625 0 \r\nL 45.90625 0 \r\nL 45.90625 32.71875 \r\nQ 45.90625 40.484375 42.875 44.328125 \r\nQ 39.84375 48.1875 33.796875 48.1875 \r\nQ 26.515625 48.1875 22.3125 43.546875 \r\nQ 18.109375 38.921875 18.109375 30.90625 \r\nL 18.109375 0 \r\nL 9.078125 0 \r\nL 9.078125 54.6875 \r\nL 18.109375 54.6875 \r\nL 18.109375 46.1875 \r\nQ 21.34375 51.125 25.703125 53.5625 \r\nQ 30.078125 56 35.796875 56 \r\nQ 45.21875 56 50.046875 50.171875 \r\nQ 54.890625 44.34375 54.890625 33.015625 \r\nz\r\n\" id=\"DejaVuSans-110\"/>\r\n        <path d=\"M 18.3125 70.21875 \r\nL 18.3125 54.6875 \r\nL 36.8125 54.6875 \r\nL 36.8125 47.703125 \r\nL 18.3125 47.703125 \r\nL 18.3125 18.015625 \r\nQ 18.3125 11.328125 20.140625 9.421875 \r\nQ 21.96875 7.515625 27.59375 7.515625 \r\nL 36.8125 7.515625 \r\nL 36.8125 0 \r\nL 27.59375 0 \r\nQ 17.1875 0 13.234375 3.875 \r\nQ 9.28125 7.765625 9.28125 18.015625 \r\nL 9.28125 47.703125 \r\nL 2.6875 47.703125 \r\nL 2.6875 54.6875 \r\nL 9.28125 54.6875 \r\nL 9.28125 70.21875 \r\nz\r\n\" id=\"DejaVuSans-116\"/>\r\n        <path d=\"M 41.109375 46.296875 \r\nQ 39.59375 47.171875 37.8125 47.578125 \r\nQ 36.03125 48 33.890625 48 \r\nQ 26.265625 48 22.1875 43.046875 \r\nQ 18.109375 38.09375 18.109375 28.8125 \r\nL 18.109375 0 \r\nL 9.078125 0 \r\nL 9.078125 54.6875 \r\nL 18.109375 54.6875 \r\nL 18.109375 46.1875 \r\nQ 20.953125 51.171875 25.484375 53.578125 \r\nQ 30.03125 56 36.53125 56 \r\nQ 37.453125 56 38.578125 55.875 \r\nQ 39.703125 55.765625 41.0625 55.515625 \r\nz\r\n\" id=\"DejaVuSans-114\"/>\r\n        <path d=\"M 32.171875 -5.078125 \r\nQ 28.375 -14.84375 24.75 -17.8125 \r\nQ 21.140625 -20.796875 15.09375 -20.796875 \r\nL 7.90625 -20.796875 \r\nL 7.90625 -13.28125 \r\nL 13.1875 -13.28125 \r\nQ 16.890625 -13.28125 18.9375 -11.515625 \r\nQ 21 -9.765625 23.484375 -3.21875 \r\nL 25.09375 0.875 \r\nL 2.984375 54.6875 \r\nL 12.5 54.6875 \r\nL 29.59375 11.921875 \r\nL 46.6875 54.6875 \r\nL 56.203125 54.6875 \r\nz\r\n\" id=\"DejaVuSans-121\"/>\r\n       </defs>\r\n       <use xlink:href=\"#DejaVuSans-67\"/>\r\n       <use x=\"69.824219\" xlink:href=\"#DejaVuSans-111\"/>\r\n       <use x=\"131.005859\" xlink:href=\"#DejaVuSans-117\"/>\r\n       <use x=\"194.384766\" xlink:href=\"#DejaVuSans-110\"/>\r\n       <use x=\"257.763672\" xlink:href=\"#DejaVuSans-116\"/>\r\n       <use x=\"296.972656\" xlink:href=\"#DejaVuSans-114\"/>\r\n       <use x=\"338.085938\" xlink:href=\"#DejaVuSans-121\"/>\r\n      </g>\r\n     </g>\r\n    </g>\r\n    <g id=\"xtick_3\">\r\n     <g id=\"line2d_3\">\r\n      <g>\r\n       <use style=\"stroke:#000000;stroke-width:0.8;\" x=\"142.131215\" xlink:href=\"#m1f469090e9\" y=\"224.64\"/>\r\n      </g>\r\n     </g>\r\n     <g id=\"text_3\">\r\n      <!-- Electronic -->\r\n      <g transform=\"translate(117.487465 239.238438)scale(0.1 -0.1)\">\r\n       <defs>\r\n        <path d=\"M 9.8125 72.90625 \r\nL 55.90625 72.90625 \r\nL 55.90625 64.59375 \r\nL 19.671875 64.59375 \r\nL 19.671875 43.015625 \r\nL 54.390625 43.015625 \r\nL 54.390625 34.71875 \r\nL 19.671875 34.71875 \r\nL 19.671875 8.296875 \r\nL 56.78125 8.296875 \r\nL 56.78125 0 \r\nL 9.8125 0 \r\nz\r\n\" id=\"DejaVuSans-69\"/>\r\n        <path d=\"M 48.78125 52.59375 \r\nL 48.78125 44.1875 \r\nQ 44.96875 46.296875 41.140625 47.34375 \r\nQ 37.3125 48.390625 33.40625 48.390625 \r\nQ 24.65625 48.390625 19.8125 42.84375 \r\nQ 14.984375 37.3125 14.984375 27.296875 \r\nQ 14.984375 17.28125 19.8125 11.734375 \r\nQ 24.65625 6.203125 33.40625 6.203125 \r\nQ 37.3125 6.203125 41.140625 7.25 \r\nQ 44.96875 8.296875 48.78125 10.40625 \r\nL 48.78125 2.09375 \r\nQ 45.015625 0.34375 40.984375 -0.53125 \r\nQ 36.96875 -1.421875 32.421875 -1.421875 \r\nQ 20.0625 -1.421875 12.78125 6.34375 \r\nQ 5.515625 14.109375 5.515625 27.296875 \r\nQ 5.515625 40.671875 12.859375 48.328125 \r\nQ 20.21875 56 33.015625 56 \r\nQ 37.15625 56 41.109375 55.140625 \r\nQ 45.0625 54.296875 48.78125 52.59375 \r\nz\r\n\" id=\"DejaVuSans-99\"/>\r\n        <path d=\"M 9.421875 54.6875 \r\nL 18.40625 54.6875 \r\nL 18.40625 0 \r\nL 9.421875 0 \r\nz\r\nM 9.421875 75.984375 \r\nL 18.40625 75.984375 \r\nL 18.40625 64.59375 \r\nL 9.421875 64.59375 \r\nz\r\n\" id=\"DejaVuSans-105\"/>\r\n       </defs>\r\n       <use xlink:href=\"#DejaVuSans-69\"/>\r\n       <use x=\"63.183594\" xlink:href=\"#DejaVuSans-108\"/>\r\n       <use x=\"90.966797\" xlink:href=\"#DejaVuSans-101\"/>\r\n       <use x=\"152.490234\" xlink:href=\"#DejaVuSans-99\"/>\r\n       <use x=\"207.470703\" xlink:href=\"#DejaVuSans-116\"/>\r\n       <use x=\"246.679688\" xlink:href=\"#DejaVuSans-114\"/>\r\n       <use x=\"285.542969\" xlink:href=\"#DejaVuSans-111\"/>\r\n       <use x=\"346.724609\" xlink:href=\"#DejaVuSans-110\"/>\r\n       <use x=\"410.103516\" xlink:href=\"#DejaVuSans-105\"/>\r\n       <use x=\"437.886719\" xlink:href=\"#DejaVuSans-99\"/>\r\n      </g>\r\n     </g>\r\n    </g>\r\n    <g id=\"xtick_4\">\r\n     <g id=\"line2d_4\">\r\n      <g>\r\n       <use style=\"stroke:#000000;stroke-width:0.8;\" x=\"173.188729\" xlink:href=\"#m1f469090e9\" y=\"224.64\"/>\r\n      </g>\r\n     </g>\r\n     <g id=\"text_4\">\r\n      <!-- Folk -->\r\n      <g transform=\"translate(163.150448 239.238438)scale(0.1 -0.1)\">\r\n       <defs>\r\n        <path d=\"M 9.8125 72.90625 \r\nL 51.703125 72.90625 \r\nL 51.703125 64.59375 \r\nL 19.671875 64.59375 \r\nL 19.671875 43.109375 \r\nL 48.578125 43.109375 \r\nL 48.578125 34.8125 \r\nL 19.671875 34.8125 \r\nL 19.671875 0 \r\nL 9.8125 0 \r\nz\r\n\" id=\"DejaVuSans-70\"/>\r\n        <path d=\"M 9.078125 75.984375 \r\nL 18.109375 75.984375 \r\nL 18.109375 31.109375 \r\nL 44.921875 54.6875 \r\nL 56.390625 54.6875 \r\nL 27.390625 29.109375 \r\nL 57.625 0 \r\nL 45.90625 0 \r\nL 18.109375 26.703125 \r\nL 18.109375 0 \r\nL 9.078125 0 \r\nz\r\n\" id=\"DejaVuSans-107\"/>\r\n       </defs>\r\n       <use xlink:href=\"#DejaVuSans-70\"/>\r\n       <use x=\"53.894531\" xlink:href=\"#DejaVuSans-111\"/>\r\n       <use x=\"115.076172\" xlink:href=\"#DejaVuSans-108\"/>\r\n       <use x=\"142.859375\" xlink:href=\"#DejaVuSans-107\"/>\r\n      </g>\r\n     </g>\r\n    </g>\r\n    <g id=\"xtick_5\">\r\n     <g id=\"line2d_5\">\r\n      <g>\r\n       <use style=\"stroke:#000000;stroke-width:0.8;\" x=\"204.246243\" xlink:href=\"#m1f469090e9\" y=\"224.64\"/>\r\n      </g>\r\n     </g>\r\n     <g id=\"text_5\">\r\n      <!-- Hip Hop -->\r\n      <g transform=\"translate(184.339993 239.238438)scale(0.1 -0.1)\">\r\n       <defs>\r\n        <path d=\"M 9.8125 72.90625 \r\nL 19.671875 72.90625 \r\nL 19.671875 43.015625 \r\nL 55.515625 43.015625 \r\nL 55.515625 72.90625 \r\nL 65.375 72.90625 \r\nL 65.375 0 \r\nL 55.515625 0 \r\nL 55.515625 34.71875 \r\nL 19.671875 34.71875 \r\nL 19.671875 0 \r\nL 9.8125 0 \r\nz\r\n\" id=\"DejaVuSans-72\"/>\r\n        <path d=\"M 18.109375 8.203125 \r\nL 18.109375 -20.796875 \r\nL 9.078125 -20.796875 \r\nL 9.078125 54.6875 \r\nL 18.109375 54.6875 \r\nL 18.109375 46.390625 \r\nQ 20.953125 51.265625 25.265625 53.625 \r\nQ 29.59375 56 35.59375 56 \r\nQ 45.5625 56 51.78125 48.09375 \r\nQ 58.015625 40.1875 58.015625 27.296875 \r\nQ 58.015625 14.40625 51.78125 6.484375 \r\nQ 45.5625 -1.421875 35.59375 -1.421875 \r\nQ 29.59375 -1.421875 25.265625 0.953125 \r\nQ 20.953125 3.328125 18.109375 8.203125 \r\nz\r\nM 48.6875 27.296875 \r\nQ 48.6875 37.203125 44.609375 42.84375 \r\nQ 40.53125 48.484375 33.40625 48.484375 \r\nQ 26.265625 48.484375 22.1875 42.84375 \r\nQ 18.109375 37.203125 18.109375 27.296875 \r\nQ 18.109375 17.390625 22.1875 11.75 \r\nQ 26.265625 6.109375 33.40625 6.109375 \r\nQ 40.53125 6.109375 44.609375 11.75 \r\nQ 48.6875 17.390625 48.6875 27.296875 \r\nz\r\n\" id=\"DejaVuSans-112\"/>\r\n        <path id=\"DejaVuSans-32\"/>\r\n       </defs>\r\n       <use xlink:href=\"#DejaVuSans-72\"/>\r\n       <use x=\"75.195312\" xlink:href=\"#DejaVuSans-105\"/>\r\n       <use x=\"102.978516\" xlink:href=\"#DejaVuSans-112\"/>\r\n       <use x=\"166.455078\" xlink:href=\"#DejaVuSans-32\"/>\r\n       <use x=\"198.242188\" xlink:href=\"#DejaVuSans-72\"/>\r\n       <use x=\"273.4375\" xlink:href=\"#DejaVuSans-111\"/>\r\n       <use x=\"334.619141\" xlink:href=\"#DejaVuSans-112\"/>\r\n      </g>\r\n     </g>\r\n    </g>\r\n    <g id=\"xtick_6\">\r\n     <g id=\"line2d_6\">\r\n      <g>\r\n       <use style=\"stroke:#000000;stroke-width:0.8;\" x=\"235.303757\" xlink:href=\"#m1f469090e9\" y=\"224.64\"/>\r\n      </g>\r\n     </g>\r\n     <g id=\"text_6\">\r\n      <!-- Jazz -->\r\n      <g transform=\"translate(225.516257 239.238438)scale(0.1 -0.1)\">\r\n       <defs>\r\n        <path d=\"M 9.8125 72.90625 \r\nL 19.671875 72.90625 \r\nL 19.671875 5.078125 \r\nQ 19.671875 -8.109375 14.671875 -14.0625 \r\nQ 9.671875 -20.015625 -1.421875 -20.015625 \r\nL -5.171875 -20.015625 \r\nL -5.171875 -11.71875 \r\nL -2.09375 -11.71875 \r\nQ 4.4375 -11.71875 7.125 -8.046875 \r\nQ 9.8125 -4.390625 9.8125 5.078125 \r\nz\r\n\" id=\"DejaVuSans-74\"/>\r\n        <path d=\"M 34.28125 27.484375 \r\nQ 23.390625 27.484375 19.1875 25 \r\nQ 14.984375 22.515625 14.984375 16.5 \r\nQ 14.984375 11.71875 18.140625 8.90625 \r\nQ 21.296875 6.109375 26.703125 6.109375 \r\nQ 34.1875 6.109375 38.703125 11.40625 \r\nQ 43.21875 16.703125 43.21875 25.484375 \r\nL 43.21875 27.484375 \r\nz\r\nM 52.203125 31.203125 \r\nL 52.203125 0 \r\nL 43.21875 0 \r\nL 43.21875 8.296875 \r\nQ 40.140625 3.328125 35.546875 0.953125 \r\nQ 30.953125 -1.421875 24.3125 -1.421875 \r\nQ 15.921875 -1.421875 10.953125 3.296875 \r\nQ 6 8.015625 6 15.921875 \r\nQ 6 25.140625 12.171875 29.828125 \r\nQ 18.359375 34.515625 30.609375 34.515625 \r\nL 43.21875 34.515625 \r\nL 43.21875 35.40625 \r\nQ 43.21875 41.609375 39.140625 45 \r\nQ 35.0625 48.390625 27.6875 48.390625 \r\nQ 23 48.390625 18.546875 47.265625 \r\nQ 14.109375 46.140625 10.015625 43.890625 \r\nL 10.015625 52.203125 \r\nQ 14.9375 54.109375 19.578125 55.046875 \r\nQ 24.21875 56 28.609375 56 \r\nQ 40.484375 56 46.34375 49.84375 \r\nQ 52.203125 43.703125 52.203125 31.203125 \r\nz\r\n\" id=\"DejaVuSans-97\"/>\r\n        <path d=\"M 5.515625 54.6875 \r\nL 48.1875 54.6875 \r\nL 48.1875 46.484375 \r\nL 14.40625 7.171875 \r\nL 48.1875 7.171875 \r\nL 48.1875 0 \r\nL 4.296875 0 \r\nL 4.296875 8.203125 \r\nL 38.09375 47.515625 \r\nL 5.515625 47.515625 \r\nz\r\n\" id=\"DejaVuSans-122\"/>\r\n       </defs>\r\n       <use xlink:href=\"#DejaVuSans-74\"/>\r\n       <use x=\"29.492188\" xlink:href=\"#DejaVuSans-97\"/>\r\n       <use x=\"90.771484\" xlink:href=\"#DejaVuSans-122\"/>\r\n       <use x=\"143.261719\" xlink:href=\"#DejaVuSans-122\"/>\r\n      </g>\r\n     </g>\r\n    </g>\r\n    <g id=\"xtick_7\">\r\n     <g id=\"line2d_7\">\r\n      <g>\r\n       <use style=\"stroke:#000000;stroke-width:0.8;\" x=\"266.361271\" xlink:href=\"#m1f469090e9\" y=\"224.64\"/>\r\n      </g>\r\n     </g>\r\n     <g id=\"text_7\">\r\n      <!-- Metal -->\r\n      <g transform=\"translate(252.557365 239.238438)scale(0.1 -0.1)\">\r\n       <defs>\r\n        <path d=\"M 9.8125 72.90625 \r\nL 24.515625 72.90625 \r\nL 43.109375 23.296875 \r\nL 61.8125 72.90625 \r\nL 76.515625 72.90625 \r\nL 76.515625 0 \r\nL 66.890625 0 \r\nL 66.890625 64.015625 \r\nL 48.09375 14.015625 \r\nL 38.1875 14.015625 \r\nL 19.390625 64.015625 \r\nL 19.390625 0 \r\nL 9.8125 0 \r\nz\r\n\" id=\"DejaVuSans-77\"/>\r\n       </defs>\r\n       <use xlink:href=\"#DejaVuSans-77\"/>\r\n       <use x=\"86.279297\" xlink:href=\"#DejaVuSans-101\"/>\r\n       <use x=\"147.802734\" xlink:href=\"#DejaVuSans-116\"/>\r\n       <use x=\"187.011719\" xlink:href=\"#DejaVuSans-97\"/>\r\n       <use x=\"248.291016\" xlink:href=\"#DejaVuSans-108\"/>\r\n      </g>\r\n     </g>\r\n    </g>\r\n    <g id=\"xtick_8\">\r\n     <g id=\"line2d_8\">\r\n      <g>\r\n       <use style=\"stroke:#000000;stroke-width:0.8;\" x=\"297.418785\" xlink:href=\"#m1f469090e9\" y=\"224.64\"/>\r\n      </g>\r\n     </g>\r\n     <g id=\"text_8\">\r\n      <!-- Pop -->\r\n      <g transform=\"translate(288.351597 239.238438)scale(0.1 -0.1)\">\r\n       <defs>\r\n        <path d=\"M 19.671875 64.796875 \r\nL 19.671875 37.40625 \r\nL 32.078125 37.40625 \r\nQ 38.96875 37.40625 42.71875 40.96875 \r\nQ 46.484375 44.53125 46.484375 51.125 \r\nQ 46.484375 57.671875 42.71875 61.234375 \r\nQ 38.96875 64.796875 32.078125 64.796875 \r\nz\r\nM 9.8125 72.90625 \r\nL 32.078125 72.90625 \r\nQ 44.34375 72.90625 50.609375 67.359375 \r\nQ 56.890625 61.8125 56.890625 51.125 \r\nQ 56.890625 40.328125 50.609375 34.8125 \r\nQ 44.34375 29.296875 32.078125 29.296875 \r\nL 19.671875 29.296875 \r\nL 19.671875 0 \r\nL 9.8125 0 \r\nz\r\n\" id=\"DejaVuSans-80\"/>\r\n       </defs>\r\n       <use xlink:href=\"#DejaVuSans-80\"/>\r\n       <use x=\"56.677734\" xlink:href=\"#DejaVuSans-111\"/>\r\n       <use x=\"117.859375\" xlink:href=\"#DejaVuSans-112\"/>\r\n      </g>\r\n     </g>\r\n    </g>\r\n    <g id=\"xtick_9\">\r\n     <g id=\"line2d_9\">\r\n      <g>\r\n       <use style=\"stroke:#000000;stroke-width:0.8;\" x=\"328.476299\" xlink:href=\"#m1f469090e9\" y=\"224.64\"/>\r\n      </g>\r\n     </g>\r\n     <g id=\"text_9\">\r\n      <!-- Punk -->\r\n      <g transform=\"translate(316.316142 239.238438)scale(0.1 -0.1)\">\r\n       <use xlink:href=\"#DejaVuSans-80\"/>\r\n       <use x=\"58.552734\" xlink:href=\"#DejaVuSans-117\"/>\r\n       <use x=\"121.931641\" xlink:href=\"#DejaVuSans-110\"/>\r\n       <use x=\"185.310547\" xlink:href=\"#DejaVuSans-107\"/>\r\n      </g>\r\n     </g>\r\n    </g>\r\n    <g id=\"xtick_10\">\r\n     <g id=\"line2d_10\">\r\n      <g>\r\n       <use style=\"stroke:#000000;stroke-width:0.8;\" x=\"359.533813\" xlink:href=\"#m1f469090e9\" y=\"224.64\"/>\r\n      </g>\r\n     </g>\r\n     <g id=\"text_10\">\r\n      <!-- Rock -->\r\n      <g transform=\"translate(347.580688 239.238438)scale(0.1 -0.1)\">\r\n       <defs>\r\n        <path d=\"M 44.390625 34.1875 \r\nQ 47.5625 33.109375 50.5625 29.59375 \r\nQ 53.5625 26.078125 56.59375 19.921875 \r\nL 66.609375 0 \r\nL 56 0 \r\nL 46.6875 18.703125 \r\nQ 43.0625 26.03125 39.671875 28.421875 \r\nQ 36.28125 30.8125 30.421875 30.8125 \r\nL 19.671875 30.8125 \r\nL 19.671875 0 \r\nL 9.8125 0 \r\nL 9.8125 72.90625 \r\nL 32.078125 72.90625 \r\nQ 44.578125 72.90625 50.734375 67.671875 \r\nQ 56.890625 62.453125 56.890625 51.90625 \r\nQ 56.890625 45.015625 53.6875 40.46875 \r\nQ 50.484375 35.9375 44.390625 34.1875 \r\nz\r\nM 19.671875 64.796875 \r\nL 19.671875 38.921875 \r\nL 32.078125 38.921875 \r\nQ 39.203125 38.921875 42.84375 42.21875 \r\nQ 46.484375 45.515625 46.484375 51.90625 \r\nQ 46.484375 58.296875 42.84375 61.546875 \r\nQ 39.203125 64.796875 32.078125 64.796875 \r\nz\r\n\" id=\"DejaVuSans-82\"/>\r\n       </defs>\r\n       <use xlink:href=\"#DejaVuSans-82\"/>\r\n       <use x=\"64.982422\" xlink:href=\"#DejaVuSans-111\"/>\r\n       <use x=\"126.164062\" xlink:href=\"#DejaVuSans-99\"/>\r\n       <use x=\"181.144531\" xlink:href=\"#DejaVuSans-107\"/>\r\n      </g>\r\n     </g>\r\n    </g>\r\n   </g>\r\n   <g id=\"matplotlib.axis_2\">\r\n    <g id=\"ytick_1\">\r\n     <g id=\"line2d_11\">\r\n      <defs>\r\n       <path d=\"M 0 0 \r\nL -3.5 0 \r\n\" id=\"m3b29815bf7\" style=\"stroke:#000000;stroke-width:0.8;\"/>\r\n      </defs>\r\n      <g>\r\n       <use style=\"stroke:#000000;stroke-width:0.8;\" x=\"52.375\" xlink:href=\"#m3b29815bf7\" y=\"224.64\"/>\r\n      </g>\r\n     </g>\r\n     <g id=\"text_11\">\r\n      <!-- 0 -->\r\n      <g transform=\"translate(39.0125 228.439219)scale(0.1 -0.1)\">\r\n       <defs>\r\n        <path d=\"M 31.78125 66.40625 \r\nQ 24.171875 66.40625 20.328125 58.90625 \r\nQ 16.5 51.421875 16.5 36.375 \r\nQ 16.5 21.390625 20.328125 13.890625 \r\nQ 24.171875 6.390625 31.78125 6.390625 \r\nQ 39.453125 6.390625 43.28125 13.890625 \r\nQ 47.125 21.390625 47.125 36.375 \r\nQ 47.125 51.421875 43.28125 58.90625 \r\nQ 39.453125 66.40625 31.78125 66.40625 \r\nz\r\nM 31.78125 74.21875 \r\nQ 44.046875 74.21875 50.515625 64.515625 \r\nQ 56.984375 54.828125 56.984375 36.375 \r\nQ 56.984375 17.96875 50.515625 8.265625 \r\nQ 44.046875 -1.421875 31.78125 -1.421875 \r\nQ 19.53125 -1.421875 13.0625 8.265625 \r\nQ 6.59375 17.96875 6.59375 36.375 \r\nQ 6.59375 54.828125 13.0625 64.515625 \r\nQ 19.53125 74.21875 31.78125 74.21875 \r\nz\r\n\" id=\"DejaVuSans-48\"/>\r\n       </defs>\r\n       <use xlink:href=\"#DejaVuSans-48\"/>\r\n      </g>\r\n     </g>\r\n    </g>\r\n    <g id=\"ytick_2\">\r\n     <g id=\"line2d_12\">\r\n      <g>\r\n       <use style=\"stroke:#000000;stroke-width:0.8;\" x=\"52.375\" xlink:href=\"#m3b29815bf7\" y=\"183.10723\"/>\r\n      </g>\r\n     </g>\r\n     <g id=\"text_12\">\r\n      <!-- 100000 -->\r\n      <g transform=\"translate(7.2 186.906449)scale(0.1 -0.1)\">\r\n       <defs>\r\n        <path d=\"M 12.40625 8.296875 \r\nL 28.515625 8.296875 \r\nL 28.515625 63.921875 \r\nL 10.984375 60.40625 \r\nL 10.984375 69.390625 \r\nL 28.421875 72.90625 \r\nL 38.28125 72.90625 \r\nL 38.28125 8.296875 \r\nL 54.390625 8.296875 \r\nL 54.390625 0 \r\nL 12.40625 0 \r\nz\r\n\" id=\"DejaVuSans-49\"/>\r\n       </defs>\r\n       <use xlink:href=\"#DejaVuSans-49\"/>\r\n       <use x=\"63.623047\" xlink:href=\"#DejaVuSans-48\"/>\r\n       <use x=\"127.246094\" xlink:href=\"#DejaVuSans-48\"/>\r\n       <use x=\"190.869141\" xlink:href=\"#DejaVuSans-48\"/>\r\n       <use x=\"254.492188\" xlink:href=\"#DejaVuSans-48\"/>\r\n       <use x=\"318.115234\" xlink:href=\"#DejaVuSans-48\"/>\r\n      </g>\r\n     </g>\r\n    </g>\r\n    <g id=\"ytick_3\">\r\n     <g id=\"line2d_13\">\r\n      <g>\r\n       <use style=\"stroke:#000000;stroke-width:0.8;\" x=\"52.375\" xlink:href=\"#m3b29815bf7\" y=\"141.57446\"/>\r\n      </g>\r\n     </g>\r\n     <g id=\"text_13\">\r\n      <!-- 200000 -->\r\n      <g transform=\"translate(7.2 145.373679)scale(0.1 -0.1)\">\r\n       <defs>\r\n        <path d=\"M 19.1875 8.296875 \r\nL 53.609375 8.296875 \r\nL 53.609375 0 \r\nL 7.328125 0 \r\nL 7.328125 8.296875 \r\nQ 12.9375 14.109375 22.625 23.890625 \r\nQ 32.328125 33.6875 34.8125 36.53125 \r\nQ 39.546875 41.84375 41.421875 45.53125 \r\nQ 43.3125 49.21875 43.3125 52.78125 \r\nQ 43.3125 58.59375 39.234375 62.25 \r\nQ 35.15625 65.921875 28.609375 65.921875 \r\nQ 23.96875 65.921875 18.8125 64.3125 \r\nQ 13.671875 62.703125 7.8125 59.421875 \r\nL 7.8125 69.390625 \r\nQ 13.765625 71.78125 18.9375 73 \r\nQ 24.125 74.21875 28.421875 74.21875 \r\nQ 39.75 74.21875 46.484375 68.546875 \r\nQ 53.21875 62.890625 53.21875 53.421875 \r\nQ 53.21875 48.921875 51.53125 44.890625 \r\nQ 49.859375 40.875 45.40625 35.40625 \r\nQ 44.1875 33.984375 37.640625 27.21875 \r\nQ 31.109375 20.453125 19.1875 8.296875 \r\nz\r\n\" id=\"DejaVuSans-50\"/>\r\n       </defs>\r\n       <use xlink:href=\"#DejaVuSans-50\"/>\r\n       <use x=\"63.623047\" xlink:href=\"#DejaVuSans-48\"/>\r\n       <use x=\"127.246094\" xlink:href=\"#DejaVuSans-48\"/>\r\n       <use x=\"190.869141\" xlink:href=\"#DejaVuSans-48\"/>\r\n       <use x=\"254.492188\" xlink:href=\"#DejaVuSans-48\"/>\r\n       <use x=\"318.115234\" xlink:href=\"#DejaVuSans-48\"/>\r\n      </g>\r\n     </g>\r\n    </g>\r\n    <g id=\"ytick_4\">\r\n     <g id=\"line2d_14\">\r\n      <g>\r\n       <use style=\"stroke:#000000;stroke-width:0.8;\" x=\"52.375\" xlink:href=\"#m3b29815bf7\" y=\"100.04169\"/>\r\n      </g>\r\n     </g>\r\n     <g id=\"text_14\">\r\n      <!-- 300000 -->\r\n      <g transform=\"translate(7.2 103.840908)scale(0.1 -0.1)\">\r\n       <defs>\r\n        <path d=\"M 40.578125 39.3125 \r\nQ 47.65625 37.796875 51.625 33 \r\nQ 55.609375 28.21875 55.609375 21.1875 \r\nQ 55.609375 10.40625 48.1875 4.484375 \r\nQ 40.765625 -1.421875 27.09375 -1.421875 \r\nQ 22.515625 -1.421875 17.65625 -0.515625 \r\nQ 12.796875 0.390625 7.625 2.203125 \r\nL 7.625 11.71875 \r\nQ 11.71875 9.328125 16.59375 8.109375 \r\nQ 21.484375 6.890625 26.8125 6.890625 \r\nQ 36.078125 6.890625 40.9375 10.546875 \r\nQ 45.796875 14.203125 45.796875 21.1875 \r\nQ 45.796875 27.640625 41.28125 31.265625 \r\nQ 36.765625 34.90625 28.71875 34.90625 \r\nL 20.21875 34.90625 \r\nL 20.21875 43.015625 \r\nL 29.109375 43.015625 \r\nQ 36.375 43.015625 40.234375 45.921875 \r\nQ 44.09375 48.828125 44.09375 54.296875 \r\nQ 44.09375 59.90625 40.109375 62.90625 \r\nQ 36.140625 65.921875 28.71875 65.921875 \r\nQ 24.65625 65.921875 20.015625 65.03125 \r\nQ 15.375 64.15625 9.8125 62.3125 \r\nL 9.8125 71.09375 \r\nQ 15.4375 72.65625 20.34375 73.4375 \r\nQ 25.25 74.21875 29.59375 74.21875 \r\nQ 40.828125 74.21875 47.359375 69.109375 \r\nQ 53.90625 64.015625 53.90625 55.328125 \r\nQ 53.90625 49.265625 50.4375 45.09375 \r\nQ 46.96875 40.921875 40.578125 39.3125 \r\nz\r\n\" id=\"DejaVuSans-51\"/>\r\n       </defs>\r\n       <use xlink:href=\"#DejaVuSans-51\"/>\r\n       <use x=\"63.623047\" xlink:href=\"#DejaVuSans-48\"/>\r\n       <use x=\"127.246094\" xlink:href=\"#DejaVuSans-48\"/>\r\n       <use x=\"190.869141\" xlink:href=\"#DejaVuSans-48\"/>\r\n       <use x=\"254.492188\" xlink:href=\"#DejaVuSans-48\"/>\r\n       <use x=\"318.115234\" xlink:href=\"#DejaVuSans-48\"/>\r\n      </g>\r\n     </g>\r\n    </g>\r\n    <g id=\"ytick_5\">\r\n     <g id=\"line2d_15\">\r\n      <g>\r\n       <use style=\"stroke:#000000;stroke-width:0.8;\" x=\"52.375\" xlink:href=\"#m3b29815bf7\" y=\"58.50892\"/>\r\n      </g>\r\n     </g>\r\n     <g id=\"text_15\">\r\n      <!-- 400000 -->\r\n      <g transform=\"translate(7.2 62.308138)scale(0.1 -0.1)\">\r\n       <defs>\r\n        <path d=\"M 37.796875 64.3125 \r\nL 12.890625 25.390625 \r\nL 37.796875 25.390625 \r\nz\r\nM 35.203125 72.90625 \r\nL 47.609375 72.90625 \r\nL 47.609375 25.390625 \r\nL 58.015625 25.390625 \r\nL 58.015625 17.1875 \r\nL 47.609375 17.1875 \r\nL 47.609375 0 \r\nL 37.796875 0 \r\nL 37.796875 17.1875 \r\nL 4.890625 17.1875 \r\nL 4.890625 26.703125 \r\nz\r\n\" id=\"DejaVuSans-52\"/>\r\n       </defs>\r\n       <use xlink:href=\"#DejaVuSans-52\"/>\r\n       <use x=\"63.623047\" xlink:href=\"#DejaVuSans-48\"/>\r\n       <use x=\"127.246094\" xlink:href=\"#DejaVuSans-48\"/>\r\n       <use x=\"190.869141\" xlink:href=\"#DejaVuSans-48\"/>\r\n       <use x=\"254.492188\" xlink:href=\"#DejaVuSans-48\"/>\r\n       <use x=\"318.115234\" xlink:href=\"#DejaVuSans-48\"/>\r\n      </g>\r\n     </g>\r\n    </g>\r\n    <g id=\"ytick_6\">\r\n     <g id=\"line2d_16\">\r\n      <g>\r\n       <use style=\"stroke:#000000;stroke-width:0.8;\" x=\"52.375\" xlink:href=\"#m3b29815bf7\" y=\"16.97615\"/>\r\n      </g>\r\n     </g>\r\n     <g id=\"text_16\">\r\n      <!-- 500000 -->\r\n      <g transform=\"translate(7.2 20.775368)scale(0.1 -0.1)\">\r\n       <defs>\r\n        <path d=\"M 10.796875 72.90625 \r\nL 49.515625 72.90625 \r\nL 49.515625 64.59375 \r\nL 19.828125 64.59375 \r\nL 19.828125 46.734375 \r\nQ 21.96875 47.46875 24.109375 47.828125 \r\nQ 26.265625 48.1875 28.421875 48.1875 \r\nQ 40.625 48.1875 47.75 41.5 \r\nQ 54.890625 34.8125 54.890625 23.390625 \r\nQ 54.890625 11.625 47.5625 5.09375 \r\nQ 40.234375 -1.421875 26.90625 -1.421875 \r\nQ 22.3125 -1.421875 17.546875 -0.640625 \r\nQ 12.796875 0.140625 7.71875 1.703125 \r\nL 7.71875 11.625 \r\nQ 12.109375 9.234375 16.796875 8.0625 \r\nQ 21.484375 6.890625 26.703125 6.890625 \r\nQ 35.15625 6.890625 40.078125 11.328125 \r\nQ 45.015625 15.765625 45.015625 23.390625 \r\nQ 45.015625 31 40.078125 35.4375 \r\nQ 35.15625 39.890625 26.703125 39.890625 \r\nQ 22.75 39.890625 18.8125 39.015625 \r\nQ 14.890625 38.140625 10.796875 36.28125 \r\nz\r\n\" id=\"DejaVuSans-53\"/>\r\n       </defs>\r\n       <use xlink:href=\"#DejaVuSans-53\"/>\r\n       <use x=\"63.623047\" xlink:href=\"#DejaVuSans-48\"/>\r\n       <use x=\"127.246094\" xlink:href=\"#DejaVuSans-48\"/>\r\n       <use x=\"190.869141\" xlink:href=\"#DejaVuSans-48\"/>\r\n       <use x=\"254.492188\" xlink:href=\"#DejaVuSans-48\"/>\r\n       <use x=\"318.115234\" xlink:href=\"#DejaVuSans-48\"/>\r\n      </g>\r\n     </g>\r\n    </g>\r\n   </g>\r\n   <g id=\"patch_13\">\r\n    <path d=\"M 52.375 224.64 \r\nL 52.375 7.2 \r\n\" style=\"fill:none;stroke:#000000;stroke-linecap:square;stroke-linejoin:miter;stroke-width:0.8;\"/>\r\n   </g>\r\n   <g id=\"patch_14\">\r\n    <path d=\"M 387.175 224.64 \r\nL 387.175 7.2 \r\n\" style=\"fill:none;stroke:#000000;stroke-linecap:square;stroke-linejoin:miter;stroke-width:0.8;\"/>\r\n   </g>\r\n   <g id=\"patch_15\">\r\n    <path d=\"M 52.375 224.64 \r\nL 387.175 224.64 \r\n\" style=\"fill:none;stroke:#000000;stroke-linecap:square;stroke-linejoin:miter;stroke-width:0.8;\"/>\r\n   </g>\r\n   <g id=\"patch_16\">\r\n    <path d=\"M 52.375 7.2 \r\nL 387.175 7.2 \r\n\" style=\"fill:none;stroke:#000000;stroke-linecap:square;stroke-linejoin:miter;stroke-width:0.8;\"/>\r\n   </g>\r\n  </g>\r\n </g>\r\n <defs>\r\n  <clipPath id=\"p463defb9e8\">\r\n   <rect height=\"217.44\" width=\"334.8\" x=\"52.375\" y=\"7.2\"/>\r\n  </clipPath>\r\n </defs>\r\n</svg>\r\n",
      "image/png": "[encoded data removed]"
     },
     "metadata": {
      "needs_background": "light"
     }
    }
   ],
   "source": [
    "plt.bar(length_of_lyrics_per_genre.keys(), length_of_lyrics_per_genre.values())"
   ]
  },
  {
   "cell_type": "code",
   "execution_count": 22,
   "metadata": {},
   "outputs": [],
   "source": [
    "unique_words_per_genre = {}\n",
    "length_unique_words_per_genre = {}\n",
    "for genre, lyric in cleaned_lyrics.groupby('closest_genre')['lyric'].sum().iteritems():\n",
    "    text = lyric.lower()\n",
    "    tokens = wordpunct_tokenize(text)\n",
    "    unique_words_per_genre[genre] = set(tokens)\n",
    "    length_unique_words_per_genre[genre] = len(set(tokens))"
   ]
  },
  {
   "cell_type": "code",
   "execution_count": 23,
   "metadata": {},
   "outputs": [
    {
     "output_type": "execute_result",
     "data": {
      "text/plain": [
       "<BarContainer object of 10 artists>"
      ]
     },
     "metadata": {},
     "execution_count": 23
    },
    {
     "output_type": "display_data",
     "data": {
      "text/plain": "<Figure size 432x288 with 1 Axes>",
      "image/svg+xml": "<?xml version=\"1.0\" encoding=\"utf-8\" standalone=\"no\"?>\r\n<!DOCTYPE svg PUBLIC \"-//W3C//DTD SVG 1.1//EN\"\r\n  \"http://www.w3.org/Graphics/SVG/1.1/DTD/svg11.dtd\">\r\n<!-- Created with matplotlib (https://matplotlib.org/) -->\r\n<svg height=\"248.518125pt\" version=\"1.1\" viewBox=\"0 0 381.65 248.518125\" width=\"381.65pt\" xmlns=\"http://www.w3.org/2000/svg\" xmlns:xlink=\"http://www.w3.org/1999/xlink\">\r\n <metadata>\r\n  <rdf:RDF xmlns:cc=\"http://creativecommons.org/ns#\" xmlns:dc=\"http://purl.org/dc/elements/1.1/\" xmlns:rdf=\"http://www.w3.org/1999/02/22-rdf-syntax-ns#\">\r\n   <cc:Work>\r\n    <dc:type rdf:resource=\"http://purl.org/dc/dcmitype/StillImage\"/>\r\n    <dc:date>2021-02-14T18:21:50.820812</dc:date>\r\n    <dc:format>image/svg+xml</dc:format>\r\n    <dc:creator>\r\n     <cc:Agent>\r\n      <dc:title>Matplotlib v3.3.2, https://matplotlib.org/</dc:title>\r\n     </cc:Agent>\r\n    </dc:creator>\r\n   </cc:Work>\r\n  </rdf:RDF>\r\n </metadata>\r\n <defs>\r\n  <style type=\"text/css\">*{stroke-linecap:butt;stroke-linejoin:round;}</style>\r\n </defs>\r\n <g id=\"figure_1\">\r\n  <g id=\"patch_1\">\r\n   <path d=\"M -0 248.518125 \r\nL 381.65 248.518125 \r\nL 381.65 0 \r\nL -0 0 \r\nz\r\n\" style=\"fill:none;\"/>\r\n  </g>\r\n  <g id=\"axes_1\">\r\n   <g id=\"patch_2\">\r\n    <path d=\"M 39.65 224.64 \r\nL 374.45 224.64 \r\nL 374.45 7.2 \r\nL 39.65 7.2 \r\nz\r\n\" style=\"fill:#ffffff;\"/>\r\n   </g>\r\n   <g id=\"patch_3\">\r\n    <path clip-path=\"url(#p9eb1aba90f)\" d=\"M 54.868182 224.64 \r\nL 79.714193 224.64 \r\nL 79.714193 143.85279 \r\nL 54.868182 143.85279 \r\nz\r\n\" style=\"fill:#1f77b4;\"/>\r\n   </g>\r\n   <g id=\"patch_4\">\r\n    <path clip-path=\"url(#p9eb1aba90f)\" d=\"M 85.925696 224.64 \r\nL 110.771707 224.64 \r\nL 110.771707 130.842902 \r\nL 85.925696 130.842902 \r\nz\r\n\" style=\"fill:#1f77b4;\"/>\r\n   </g>\r\n   <g id=\"patch_5\">\r\n    <path clip-path=\"url(#p9eb1aba90f)\" d=\"M 116.98321 224.64 \r\nL 141.829221 224.64 \r\nL 141.829221 142.826921 \r\nL 116.98321 142.826921 \r\nz\r\n\" style=\"fill:#1f77b4;\"/>\r\n   </g>\r\n   <g id=\"patch_6\">\r\n    <path clip-path=\"url(#p9eb1aba90f)\" d=\"M 148.040724 224.64 \r\nL 172.886735 224.64 \r\nL 172.886735 117.250133 \r\nL 148.040724 117.250133 \r\nz\r\n\" style=\"fill:#1f77b4;\"/>\r\n   </g>\r\n   <g id=\"patch_7\">\r\n    <path clip-path=\"url(#p9eb1aba90f)\" d=\"M 179.098237 224.64 \r\nL 203.944249 224.64 \r\nL 203.944249 17.554286 \r\nL 179.098237 17.554286 \r\nz\r\n\" style=\"fill:#1f77b4;\"/>\r\n   </g>\r\n   <g id=\"patch_8\">\r\n    <path clip-path=\"url(#p9eb1aba90f)\" d=\"M 210.155751 224.64 \r\nL 235.001763 224.64 \r\nL 235.001763 138.257139 \r\nL 210.155751 138.257139 \r\nz\r\n\" style=\"fill:#1f77b4;\"/>\r\n   </g>\r\n   <g id=\"patch_9\">\r\n    <path clip-path=\"url(#p9eb1aba90f)\" d=\"M 241.213265 224.64 \r\nL 266.059276 224.64 \r\nL 266.059276 122.099697 \r\nL 241.213265 122.099697 \r\nz\r\n\" style=\"fill:#1f77b4;\"/>\r\n   </g>\r\n   <g id=\"patch_10\">\r\n    <path clip-path=\"url(#p9eb1aba90f)\" d=\"M 272.270779 224.64 \r\nL 297.11679 224.64 \r\nL 297.11679 126.80937 \r\nL 272.270779 126.80937 \r\nz\r\n\" style=\"fill:#1f77b4;\"/>\r\n   </g>\r\n   <g id=\"patch_11\">\r\n    <path clip-path=\"url(#p9eb1aba90f)\" d=\"M 303.328293 224.64 \r\nL 328.174304 224.64 \r\nL 328.174304 123.54524 \r\nL 303.328293 123.54524 \r\nz\r\n\" style=\"fill:#1f77b4;\"/>\r\n   </g>\r\n   <g id=\"patch_12\">\r\n    <path clip-path=\"url(#p9eb1aba90f)\" d=\"M 334.385807 224.64 \r\nL 359.231818 224.64 \r\nL 359.231818 133.990455 \r\nL 334.385807 133.990455 \r\nz\r\n\" style=\"fill:#1f77b4;\"/>\r\n   </g>\r\n   <g id=\"matplotlib.axis_1\">\r\n    <g id=\"xtick_1\">\r\n     <g id=\"line2d_1\">\r\n      <defs>\r\n       <path d=\"M 0 0 \r\nL 0 3.5 \r\n\" id=\"m64b85c17a9\" style=\"stroke:#000000;stroke-width:0.8;\"/>\r\n      </defs>\r\n      <g>\r\n       <use style=\"stroke:#000000;stroke-width:0.8;\" x=\"67.291187\" xlink:href=\"#m64b85c17a9\" y=\"224.64\"/>\r\n      </g>\r\n     </g>\r\n     <g id=\"text_1\">\r\n      <!-- Blues -->\r\n      <g transform=\"translate(53.621656 239.238437)scale(0.1 -0.1)\">\r\n       <defs>\r\n        <path d=\"M 19.671875 34.8125 \r\nL 19.671875 8.109375 \r\nL 35.5 8.109375 \r\nQ 43.453125 8.109375 47.28125 11.40625 \r\nQ 51.125 14.703125 51.125 21.484375 \r\nQ 51.125 28.328125 47.28125 31.5625 \r\nQ 43.453125 34.8125 35.5 34.8125 \r\nz\r\nM 19.671875 64.796875 \r\nL 19.671875 42.828125 \r\nL 34.28125 42.828125 \r\nQ 41.5 42.828125 45.03125 45.53125 \r\nQ 48.578125 48.25 48.578125 53.8125 \r\nQ 48.578125 59.328125 45.03125 62.0625 \r\nQ 41.5 64.796875 34.28125 64.796875 \r\nz\r\nM 9.8125 72.90625 \r\nL 35.015625 72.90625 \r\nQ 46.296875 72.90625 52.390625 68.21875 \r\nQ 58.5 63.53125 58.5 54.890625 \r\nQ 58.5 48.1875 55.375 44.234375 \r\nQ 52.25 40.28125 46.1875 39.3125 \r\nQ 53.46875 37.75 57.5 32.78125 \r\nQ 61.53125 27.828125 61.53125 20.40625 \r\nQ 61.53125 10.640625 54.890625 5.3125 \r\nQ 48.25 0 35.984375 0 \r\nL 9.8125 0 \r\nz\r\n\" id=\"DejaVuSans-66\"/>\r\n        <path d=\"M 9.421875 75.984375 \r\nL 18.40625 75.984375 \r\nL 18.40625 0 \r\nL 9.421875 0 \r\nz\r\n\" id=\"DejaVuSans-108\"/>\r\n        <path d=\"M 8.5 21.578125 \r\nL 8.5 54.6875 \r\nL 17.484375 54.6875 \r\nL 17.484375 21.921875 \r\nQ 17.484375 14.15625 20.5 10.265625 \r\nQ 23.53125 6.390625 29.59375 6.390625 \r\nQ 36.859375 6.390625 41.078125 11.03125 \r\nQ 45.3125 15.671875 45.3125 23.6875 \r\nL 45.3125 54.6875 \r\nL 54.296875 54.6875 \r\nL 54.296875 0 \r\nL 45.3125 0 \r\nL 45.3125 8.40625 \r\nQ 42.046875 3.421875 37.71875 1 \r\nQ 33.40625 -1.421875 27.6875 -1.421875 \r\nQ 18.265625 -1.421875 13.375 4.4375 \r\nQ 8.5 10.296875 8.5 21.578125 \r\nz\r\nM 31.109375 56 \r\nz\r\n\" id=\"DejaVuSans-117\"/>\r\n        <path d=\"M 56.203125 29.59375 \r\nL 56.203125 25.203125 \r\nL 14.890625 25.203125 \r\nQ 15.484375 15.921875 20.484375 11.0625 \r\nQ 25.484375 6.203125 34.421875 6.203125 \r\nQ 39.59375 6.203125 44.453125 7.46875 \r\nQ 49.3125 8.734375 54.109375 11.28125 \r\nL 54.109375 2.78125 \r\nQ 49.265625 0.734375 44.1875 -0.34375 \r\nQ 39.109375 -1.421875 33.890625 -1.421875 \r\nQ 20.796875 -1.421875 13.15625 6.1875 \r\nQ 5.515625 13.8125 5.515625 26.8125 \r\nQ 5.515625 40.234375 12.765625 48.109375 \r\nQ 20.015625 56 32.328125 56 \r\nQ 43.359375 56 49.78125 48.890625 \r\nQ 56.203125 41.796875 56.203125 29.59375 \r\nz\r\nM 47.21875 32.234375 \r\nQ 47.125 39.59375 43.09375 43.984375 \r\nQ 39.0625 48.390625 32.421875 48.390625 \r\nQ 24.90625 48.390625 20.390625 44.140625 \r\nQ 15.875 39.890625 15.1875 32.171875 \r\nz\r\n\" id=\"DejaVuSans-101\"/>\r\n        <path d=\"M 44.28125 53.078125 \r\nL 44.28125 44.578125 \r\nQ 40.484375 46.53125 36.375 47.5 \r\nQ 32.28125 48.484375 27.875 48.484375 \r\nQ 21.1875 48.484375 17.84375 46.4375 \r\nQ 14.5 44.390625 14.5 40.28125 \r\nQ 14.5 37.15625 16.890625 35.375 \r\nQ 19.28125 33.59375 26.515625 31.984375 \r\nL 29.59375 31.296875 \r\nQ 39.15625 29.25 43.1875 25.515625 \r\nQ 47.21875 21.78125 47.21875 15.09375 \r\nQ 47.21875 7.46875 41.1875 3.015625 \r\nQ 35.15625 -1.421875 24.609375 -1.421875 \r\nQ 20.21875 -1.421875 15.453125 -0.5625 \r\nQ 10.6875 0.296875 5.421875 2 \r\nL 5.421875 11.28125 \r\nQ 10.40625 8.6875 15.234375 7.390625 \r\nQ 20.0625 6.109375 24.8125 6.109375 \r\nQ 31.15625 6.109375 34.5625 8.28125 \r\nQ 37.984375 10.453125 37.984375 14.40625 \r\nQ 37.984375 18.0625 35.515625 20.015625 \r\nQ 33.0625 21.96875 24.703125 23.78125 \r\nL 21.578125 24.515625 \r\nQ 13.234375 26.265625 9.515625 29.90625 \r\nQ 5.8125 33.546875 5.8125 39.890625 \r\nQ 5.8125 47.609375 11.28125 51.796875 \r\nQ 16.75 56 26.8125 56 \r\nQ 31.78125 56 36.171875 55.265625 \r\nQ 40.578125 54.546875 44.28125 53.078125 \r\nz\r\n\" id=\"DejaVuSans-115\"/>\r\n       </defs>\r\n       <use xlink:href=\"#DejaVuSans-66\"/>\r\n       <use x=\"68.603516\" xlink:href=\"#DejaVuSans-108\"/>\r\n       <use x=\"96.386719\" xlink:href=\"#DejaVuSans-117\"/>\r\n       <use x=\"159.765625\" xlink:href=\"#DejaVuSans-101\"/>\r\n       <use x=\"221.289062\" xlink:href=\"#DejaVuSans-115\"/>\r\n      </g>\r\n     </g>\r\n    </g>\r\n    <g id=\"xtick_2\">\r\n     <g id=\"line2d_2\">\r\n      <g>\r\n       <use style=\"stroke:#000000;stroke-width:0.8;\" x=\"98.348701\" xlink:href=\"#m64b85c17a9\" y=\"224.64\"/>\r\n      </g>\r\n     </g>\r\n     <g id=\"text_2\">\r\n      <!-- Country -->\r\n      <g transform=\"translate(78.48542 239.238437)scale(0.1 -0.1)\">\r\n       <defs>\r\n        <path d=\"M 64.40625 67.28125 \r\nL 64.40625 56.890625 \r\nQ 59.421875 61.53125 53.78125 63.8125 \r\nQ 48.140625 66.109375 41.796875 66.109375 \r\nQ 29.296875 66.109375 22.65625 58.46875 \r\nQ 16.015625 50.828125 16.015625 36.375 \r\nQ 16.015625 21.96875 22.65625 14.328125 \r\nQ 29.296875 6.6875 41.796875 6.6875 \r\nQ 48.140625 6.6875 53.78125 8.984375 \r\nQ 59.421875 11.28125 64.40625 15.921875 \r\nL 64.40625 5.609375 \r\nQ 59.234375 2.09375 53.4375 0.328125 \r\nQ 47.65625 -1.421875 41.21875 -1.421875 \r\nQ 24.65625 -1.421875 15.125 8.703125 \r\nQ 5.609375 18.84375 5.609375 36.375 \r\nQ 5.609375 53.953125 15.125 64.078125 \r\nQ 24.65625 74.21875 41.21875 74.21875 \r\nQ 47.75 74.21875 53.53125 72.484375 \r\nQ 59.328125 70.75 64.40625 67.28125 \r\nz\r\n\" id=\"DejaVuSans-67\"/>\r\n        <path d=\"M 30.609375 48.390625 \r\nQ 23.390625 48.390625 19.1875 42.75 \r\nQ 14.984375 37.109375 14.984375 27.296875 \r\nQ 14.984375 17.484375 19.15625 11.84375 \r\nQ 23.34375 6.203125 30.609375 6.203125 \r\nQ 37.796875 6.203125 41.984375 11.859375 \r\nQ 46.1875 17.53125 46.1875 27.296875 \r\nQ 46.1875 37.015625 41.984375 42.703125 \r\nQ 37.796875 48.390625 30.609375 48.390625 \r\nz\r\nM 30.609375 56 \r\nQ 42.328125 56 49.015625 48.375 \r\nQ 55.71875 40.765625 55.71875 27.296875 \r\nQ 55.71875 13.875 49.015625 6.21875 \r\nQ 42.328125 -1.421875 30.609375 -1.421875 \r\nQ 18.84375 -1.421875 12.171875 6.21875 \r\nQ 5.515625 13.875 5.515625 27.296875 \r\nQ 5.515625 40.765625 12.171875 48.375 \r\nQ 18.84375 56 30.609375 56 \r\nz\r\n\" id=\"DejaVuSans-111\"/>\r\n        <path d=\"M 54.890625 33.015625 \r\nL 54.890625 0 \r\nL 45.90625 0 \r\nL 45.90625 32.71875 \r\nQ 45.90625 40.484375 42.875 44.328125 \r\nQ 39.84375 48.1875 33.796875 48.1875 \r\nQ 26.515625 48.1875 22.3125 43.546875 \r\nQ 18.109375 38.921875 18.109375 30.90625 \r\nL 18.109375 0 \r\nL 9.078125 0 \r\nL 9.078125 54.6875 \r\nL 18.109375 54.6875 \r\nL 18.109375 46.1875 \r\nQ 21.34375 51.125 25.703125 53.5625 \r\nQ 30.078125 56 35.796875 56 \r\nQ 45.21875 56 50.046875 50.171875 \r\nQ 54.890625 44.34375 54.890625 33.015625 \r\nz\r\n\" id=\"DejaVuSans-110\"/>\r\n        <path d=\"M 18.3125 70.21875 \r\nL 18.3125 54.6875 \r\nL 36.8125 54.6875 \r\nL 36.8125 47.703125 \r\nL 18.3125 47.703125 \r\nL 18.3125 18.015625 \r\nQ 18.3125 11.328125 20.140625 9.421875 \r\nQ 21.96875 7.515625 27.59375 7.515625 \r\nL 36.8125 7.515625 \r\nL 36.8125 0 \r\nL 27.59375 0 \r\nQ 17.1875 0 13.234375 3.875 \r\nQ 9.28125 7.765625 9.28125 18.015625 \r\nL 9.28125 47.703125 \r\nL 2.6875 47.703125 \r\nL 2.6875 54.6875 \r\nL 9.28125 54.6875 \r\nL 9.28125 70.21875 \r\nz\r\n\" id=\"DejaVuSans-116\"/>\r\n        <path d=\"M 41.109375 46.296875 \r\nQ 39.59375 47.171875 37.8125 47.578125 \r\nQ 36.03125 48 33.890625 48 \r\nQ 26.265625 48 22.1875 43.046875 \r\nQ 18.109375 38.09375 18.109375 28.8125 \r\nL 18.109375 0 \r\nL 9.078125 0 \r\nL 9.078125 54.6875 \r\nL 18.109375 54.6875 \r\nL 18.109375 46.1875 \r\nQ 20.953125 51.171875 25.484375 53.578125 \r\nQ 30.03125 56 36.53125 56 \r\nQ 37.453125 56 38.578125 55.875 \r\nQ 39.703125 55.765625 41.0625 55.515625 \r\nz\r\n\" id=\"DejaVuSans-114\"/>\r\n        <path d=\"M 32.171875 -5.078125 \r\nQ 28.375 -14.84375 24.75 -17.8125 \r\nQ 21.140625 -20.796875 15.09375 -20.796875 \r\nL 7.90625 -20.796875 \r\nL 7.90625 -13.28125 \r\nL 13.1875 -13.28125 \r\nQ 16.890625 -13.28125 18.9375 -11.515625 \r\nQ 21 -9.765625 23.484375 -3.21875 \r\nL 25.09375 0.875 \r\nL 2.984375 54.6875 \r\nL 12.5 54.6875 \r\nL 29.59375 11.921875 \r\nL 46.6875 54.6875 \r\nL 56.203125 54.6875 \r\nz\r\n\" id=\"DejaVuSans-121\"/>\r\n       </defs>\r\n       <use xlink:href=\"#DejaVuSans-67\"/>\r\n       <use x=\"69.824219\" xlink:href=\"#DejaVuSans-111\"/>\r\n       <use x=\"131.005859\" xlink:href=\"#DejaVuSans-117\"/>\r\n       <use x=\"194.384766\" xlink:href=\"#DejaVuSans-110\"/>\r\n       <use x=\"257.763672\" xlink:href=\"#DejaVuSans-116\"/>\r\n       <use x=\"296.972656\" xlink:href=\"#DejaVuSans-114\"/>\r\n       <use x=\"338.085938\" xlink:href=\"#DejaVuSans-121\"/>\r\n      </g>\r\n     </g>\r\n    </g>\r\n    <g id=\"xtick_3\">\r\n     <g id=\"line2d_3\">\r\n      <g>\r\n       <use style=\"stroke:#000000;stroke-width:0.8;\" x=\"129.406215\" xlink:href=\"#m64b85c17a9\" y=\"224.64\"/>\r\n      </g>\r\n     </g>\r\n     <g id=\"text_3\">\r\n      <!-- Electronic -->\r\n      <g transform=\"translate(104.762465 239.238437)scale(0.1 -0.1)\">\r\n       <defs>\r\n        <path d=\"M 9.8125 72.90625 \r\nL 55.90625 72.90625 \r\nL 55.90625 64.59375 \r\nL 19.671875 64.59375 \r\nL 19.671875 43.015625 \r\nL 54.390625 43.015625 \r\nL 54.390625 34.71875 \r\nL 19.671875 34.71875 \r\nL 19.671875 8.296875 \r\nL 56.78125 8.296875 \r\nL 56.78125 0 \r\nL 9.8125 0 \r\nz\r\n\" id=\"DejaVuSans-69\"/>\r\n        <path d=\"M 48.78125 52.59375 \r\nL 48.78125 44.1875 \r\nQ 44.96875 46.296875 41.140625 47.34375 \r\nQ 37.3125 48.390625 33.40625 48.390625 \r\nQ 24.65625 48.390625 19.8125 42.84375 \r\nQ 14.984375 37.3125 14.984375 27.296875 \r\nQ 14.984375 17.28125 19.8125 11.734375 \r\nQ 24.65625 6.203125 33.40625 6.203125 \r\nQ 37.3125 6.203125 41.140625 7.25 \r\nQ 44.96875 8.296875 48.78125 10.40625 \r\nL 48.78125 2.09375 \r\nQ 45.015625 0.34375 40.984375 -0.53125 \r\nQ 36.96875 -1.421875 32.421875 -1.421875 \r\nQ 20.0625 -1.421875 12.78125 6.34375 \r\nQ 5.515625 14.109375 5.515625 27.296875 \r\nQ 5.515625 40.671875 12.859375 48.328125 \r\nQ 20.21875 56 33.015625 56 \r\nQ 37.15625 56 41.109375 55.140625 \r\nQ 45.0625 54.296875 48.78125 52.59375 \r\nz\r\n\" id=\"DejaVuSans-99\"/>\r\n        <path d=\"M 9.421875 54.6875 \r\nL 18.40625 54.6875 \r\nL 18.40625 0 \r\nL 9.421875 0 \r\nz\r\nM 9.421875 75.984375 \r\nL 18.40625 75.984375 \r\nL 18.40625 64.59375 \r\nL 9.421875 64.59375 \r\nz\r\n\" id=\"DejaVuSans-105\"/>\r\n       </defs>\r\n       <use xlink:href=\"#DejaVuSans-69\"/>\r\n       <use x=\"63.183594\" xlink:href=\"#DejaVuSans-108\"/>\r\n       <use x=\"90.966797\" xlink:href=\"#DejaVuSans-101\"/>\r\n       <use x=\"152.490234\" xlink:href=\"#DejaVuSans-99\"/>\r\n       <use x=\"207.470703\" xlink:href=\"#DejaVuSans-116\"/>\r\n       <use x=\"246.679688\" xlink:href=\"#DejaVuSans-114\"/>\r\n       <use x=\"285.542969\" xlink:href=\"#DejaVuSans-111\"/>\r\n       <use x=\"346.724609\" xlink:href=\"#DejaVuSans-110\"/>\r\n       <use x=\"410.103516\" xlink:href=\"#DejaVuSans-105\"/>\r\n       <use x=\"437.886719\" xlink:href=\"#DejaVuSans-99\"/>\r\n      </g>\r\n     </g>\r\n    </g>\r\n    <g id=\"xtick_4\">\r\n     <g id=\"line2d_4\">\r\n      <g>\r\n       <use style=\"stroke:#000000;stroke-width:0.8;\" x=\"160.463729\" xlink:href=\"#m64b85c17a9\" y=\"224.64\"/>\r\n      </g>\r\n     </g>\r\n     <g id=\"text_4\">\r\n      <!-- Folk -->\r\n      <g transform=\"translate(150.425448 239.238437)scale(0.1 -0.1)\">\r\n       <defs>\r\n        <path d=\"M 9.8125 72.90625 \r\nL 51.703125 72.90625 \r\nL 51.703125 64.59375 \r\nL 19.671875 64.59375 \r\nL 19.671875 43.109375 \r\nL 48.578125 43.109375 \r\nL 48.578125 34.8125 \r\nL 19.671875 34.8125 \r\nL 19.671875 0 \r\nL 9.8125 0 \r\nz\r\n\" id=\"DejaVuSans-70\"/>\r\n        <path d=\"M 9.078125 75.984375 \r\nL 18.109375 75.984375 \r\nL 18.109375 31.109375 \r\nL 44.921875 54.6875 \r\nL 56.390625 54.6875 \r\nL 27.390625 29.109375 \r\nL 57.625 0 \r\nL 45.90625 0 \r\nL 18.109375 26.703125 \r\nL 18.109375 0 \r\nL 9.078125 0 \r\nz\r\n\" id=\"DejaVuSans-107\"/>\r\n       </defs>\r\n       <use xlink:href=\"#DejaVuSans-70\"/>\r\n       <use x=\"53.894531\" xlink:href=\"#DejaVuSans-111\"/>\r\n       <use x=\"115.076172\" xlink:href=\"#DejaVuSans-108\"/>\r\n       <use x=\"142.859375\" xlink:href=\"#DejaVuSans-107\"/>\r\n      </g>\r\n     </g>\r\n    </g>\r\n    <g id=\"xtick_5\">\r\n     <g id=\"line2d_5\">\r\n      <g>\r\n       <use style=\"stroke:#000000;stroke-width:0.8;\" x=\"191.521243\" xlink:href=\"#m64b85c17a9\" y=\"224.64\"/>\r\n      </g>\r\n     </g>\r\n     <g id=\"text_5\">\r\n      <!-- Hip Hop -->\r\n      <g transform=\"translate(171.614993 239.238437)scale(0.1 -0.1)\">\r\n       <defs>\r\n        <path d=\"M 9.8125 72.90625 \r\nL 19.671875 72.90625 \r\nL 19.671875 43.015625 \r\nL 55.515625 43.015625 \r\nL 55.515625 72.90625 \r\nL 65.375 72.90625 \r\nL 65.375 0 \r\nL 55.515625 0 \r\nL 55.515625 34.71875 \r\nL 19.671875 34.71875 \r\nL 19.671875 0 \r\nL 9.8125 0 \r\nz\r\n\" id=\"DejaVuSans-72\"/>\r\n        <path d=\"M 18.109375 8.203125 \r\nL 18.109375 -20.796875 \r\nL 9.078125 -20.796875 \r\nL 9.078125 54.6875 \r\nL 18.109375 54.6875 \r\nL 18.109375 46.390625 \r\nQ 20.953125 51.265625 25.265625 53.625 \r\nQ 29.59375 56 35.59375 56 \r\nQ 45.5625 56 51.78125 48.09375 \r\nQ 58.015625 40.1875 58.015625 27.296875 \r\nQ 58.015625 14.40625 51.78125 6.484375 \r\nQ 45.5625 -1.421875 35.59375 -1.421875 \r\nQ 29.59375 -1.421875 25.265625 0.953125 \r\nQ 20.953125 3.328125 18.109375 8.203125 \r\nz\r\nM 48.6875 27.296875 \r\nQ 48.6875 37.203125 44.609375 42.84375 \r\nQ 40.53125 48.484375 33.40625 48.484375 \r\nQ 26.265625 48.484375 22.1875 42.84375 \r\nQ 18.109375 37.203125 18.109375 27.296875 \r\nQ 18.109375 17.390625 22.1875 11.75 \r\nQ 26.265625 6.109375 33.40625 6.109375 \r\nQ 40.53125 6.109375 44.609375 11.75 \r\nQ 48.6875 17.390625 48.6875 27.296875 \r\nz\r\n\" id=\"DejaVuSans-112\"/>\r\n        <path id=\"DejaVuSans-32\"/>\r\n       </defs>\r\n       <use xlink:href=\"#DejaVuSans-72\"/>\r\n       <use x=\"75.195312\" xlink:href=\"#DejaVuSans-105\"/>\r\n       <use x=\"102.978516\" xlink:href=\"#DejaVuSans-112\"/>\r\n       <use x=\"166.455078\" xlink:href=\"#DejaVuSans-32\"/>\r\n       <use x=\"198.242188\" xlink:href=\"#DejaVuSans-72\"/>\r\n       <use x=\"273.4375\" xlink:href=\"#DejaVuSans-111\"/>\r\n       <use x=\"334.619141\" xlink:href=\"#DejaVuSans-112\"/>\r\n      </g>\r\n     </g>\r\n    </g>\r\n    <g id=\"xtick_6\">\r\n     <g id=\"line2d_6\">\r\n      <g>\r\n       <use style=\"stroke:#000000;stroke-width:0.8;\" x=\"222.578757\" xlink:href=\"#m64b85c17a9\" y=\"224.64\"/>\r\n      </g>\r\n     </g>\r\n     <g id=\"text_6\">\r\n      <!-- Jazz -->\r\n      <g transform=\"translate(212.791257 239.238437)scale(0.1 -0.1)\">\r\n       <defs>\r\n        <path d=\"M 9.8125 72.90625 \r\nL 19.671875 72.90625 \r\nL 19.671875 5.078125 \r\nQ 19.671875 -8.109375 14.671875 -14.0625 \r\nQ 9.671875 -20.015625 -1.421875 -20.015625 \r\nL -5.171875 -20.015625 \r\nL -5.171875 -11.71875 \r\nL -2.09375 -11.71875 \r\nQ 4.4375 -11.71875 7.125 -8.046875 \r\nQ 9.8125 -4.390625 9.8125 5.078125 \r\nz\r\n\" id=\"DejaVuSans-74\"/>\r\n        <path d=\"M 34.28125 27.484375 \r\nQ 23.390625 27.484375 19.1875 25 \r\nQ 14.984375 22.515625 14.984375 16.5 \r\nQ 14.984375 11.71875 18.140625 8.90625 \r\nQ 21.296875 6.109375 26.703125 6.109375 \r\nQ 34.1875 6.109375 38.703125 11.40625 \r\nQ 43.21875 16.703125 43.21875 25.484375 \r\nL 43.21875 27.484375 \r\nz\r\nM 52.203125 31.203125 \r\nL 52.203125 0 \r\nL 43.21875 0 \r\nL 43.21875 8.296875 \r\nQ 40.140625 3.328125 35.546875 0.953125 \r\nQ 30.953125 -1.421875 24.3125 -1.421875 \r\nQ 15.921875 -1.421875 10.953125 3.296875 \r\nQ 6 8.015625 6 15.921875 \r\nQ 6 25.140625 12.171875 29.828125 \r\nQ 18.359375 34.515625 30.609375 34.515625 \r\nL 43.21875 34.515625 \r\nL 43.21875 35.40625 \r\nQ 43.21875 41.609375 39.140625 45 \r\nQ 35.0625 48.390625 27.6875 48.390625 \r\nQ 23 48.390625 18.546875 47.265625 \r\nQ 14.109375 46.140625 10.015625 43.890625 \r\nL 10.015625 52.203125 \r\nQ 14.9375 54.109375 19.578125 55.046875 \r\nQ 24.21875 56 28.609375 56 \r\nQ 40.484375 56 46.34375 49.84375 \r\nQ 52.203125 43.703125 52.203125 31.203125 \r\nz\r\n\" id=\"DejaVuSans-97\"/>\r\n        <path d=\"M 5.515625 54.6875 \r\nL 48.1875 54.6875 \r\nL 48.1875 46.484375 \r\nL 14.40625 7.171875 \r\nL 48.1875 7.171875 \r\nL 48.1875 0 \r\nL 4.296875 0 \r\nL 4.296875 8.203125 \r\nL 38.09375 47.515625 \r\nL 5.515625 47.515625 \r\nz\r\n\" id=\"DejaVuSans-122\"/>\r\n       </defs>\r\n       <use xlink:href=\"#DejaVuSans-74\"/>\r\n       <use x=\"29.492188\" xlink:href=\"#DejaVuSans-97\"/>\r\n       <use x=\"90.771484\" xlink:href=\"#DejaVuSans-122\"/>\r\n       <use x=\"143.261719\" xlink:href=\"#DejaVuSans-122\"/>\r\n      </g>\r\n     </g>\r\n    </g>\r\n    <g id=\"xtick_7\">\r\n     <g id=\"line2d_7\">\r\n      <g>\r\n       <use style=\"stroke:#000000;stroke-width:0.8;\" x=\"253.636271\" xlink:href=\"#m64b85c17a9\" y=\"224.64\"/>\r\n      </g>\r\n     </g>\r\n     <g id=\"text_7\">\r\n      <!-- Metal -->\r\n      <g transform=\"translate(239.832365 239.238437)scale(0.1 -0.1)\">\r\n       <defs>\r\n        <path d=\"M 9.8125 72.90625 \r\nL 24.515625 72.90625 \r\nL 43.109375 23.296875 \r\nL 61.8125 72.90625 \r\nL 76.515625 72.90625 \r\nL 76.515625 0 \r\nL 66.890625 0 \r\nL 66.890625 64.015625 \r\nL 48.09375 14.015625 \r\nL 38.1875 14.015625 \r\nL 19.390625 64.015625 \r\nL 19.390625 0 \r\nL 9.8125 0 \r\nz\r\n\" id=\"DejaVuSans-77\"/>\r\n       </defs>\r\n       <use xlink:href=\"#DejaVuSans-77\"/>\r\n       <use x=\"86.279297\" xlink:href=\"#DejaVuSans-101\"/>\r\n       <use x=\"147.802734\" xlink:href=\"#DejaVuSans-116\"/>\r\n       <use x=\"187.011719\" xlink:href=\"#DejaVuSans-97\"/>\r\n       <use x=\"248.291016\" xlink:href=\"#DejaVuSans-108\"/>\r\n      </g>\r\n     </g>\r\n    </g>\r\n    <g id=\"xtick_8\">\r\n     <g id=\"line2d_8\">\r\n      <g>\r\n       <use style=\"stroke:#000000;stroke-width:0.8;\" x=\"284.693785\" xlink:href=\"#m64b85c17a9\" y=\"224.64\"/>\r\n      </g>\r\n     </g>\r\n     <g id=\"text_8\">\r\n      <!-- Pop -->\r\n      <g transform=\"translate(275.626597 239.238437)scale(0.1 -0.1)\">\r\n       <defs>\r\n        <path d=\"M 19.671875 64.796875 \r\nL 19.671875 37.40625 \r\nL 32.078125 37.40625 \r\nQ 38.96875 37.40625 42.71875 40.96875 \r\nQ 46.484375 44.53125 46.484375 51.125 \r\nQ 46.484375 57.671875 42.71875 61.234375 \r\nQ 38.96875 64.796875 32.078125 64.796875 \r\nz\r\nM 9.8125 72.90625 \r\nL 32.078125 72.90625 \r\nQ 44.34375 72.90625 50.609375 67.359375 \r\nQ 56.890625 61.8125 56.890625 51.125 \r\nQ 56.890625 40.328125 50.609375 34.8125 \r\nQ 44.34375 29.296875 32.078125 29.296875 \r\nL 19.671875 29.296875 \r\nL 19.671875 0 \r\nL 9.8125 0 \r\nz\r\n\" id=\"DejaVuSans-80\"/>\r\n       </defs>\r\n       <use xlink:href=\"#DejaVuSans-80\"/>\r\n       <use x=\"56.677734\" xlink:href=\"#DejaVuSans-111\"/>\r\n       <use x=\"117.859375\" xlink:href=\"#DejaVuSans-112\"/>\r\n      </g>\r\n     </g>\r\n    </g>\r\n    <g id=\"xtick_9\">\r\n     <g id=\"line2d_9\">\r\n      <g>\r\n       <use style=\"stroke:#000000;stroke-width:0.8;\" x=\"315.751299\" xlink:href=\"#m64b85c17a9\" y=\"224.64\"/>\r\n      </g>\r\n     </g>\r\n     <g id=\"text_9\">\r\n      <!-- Punk -->\r\n      <g transform=\"translate(303.591142 239.238437)scale(0.1 -0.1)\">\r\n       <use xlink:href=\"#DejaVuSans-80\"/>\r\n       <use x=\"58.552734\" xlink:href=\"#DejaVuSans-117\"/>\r\n       <use x=\"121.931641\" xlink:href=\"#DejaVuSans-110\"/>\r\n       <use x=\"185.310547\" xlink:href=\"#DejaVuSans-107\"/>\r\n      </g>\r\n     </g>\r\n    </g>\r\n    <g id=\"xtick_10\">\r\n     <g id=\"line2d_10\">\r\n      <g>\r\n       <use style=\"stroke:#000000;stroke-width:0.8;\" x=\"346.808813\" xlink:href=\"#m64b85c17a9\" y=\"224.64\"/>\r\n      </g>\r\n     </g>\r\n     <g id=\"text_10\">\r\n      <!-- Rock -->\r\n      <g transform=\"translate(334.855688 239.238437)scale(0.1 -0.1)\">\r\n       <defs>\r\n        <path d=\"M 44.390625 34.1875 \r\nQ 47.5625 33.109375 50.5625 29.59375 \r\nQ 53.5625 26.078125 56.59375 19.921875 \r\nL 66.609375 0 \r\nL 56 0 \r\nL 46.6875 18.703125 \r\nQ 43.0625 26.03125 39.671875 28.421875 \r\nQ 36.28125 30.8125 30.421875 30.8125 \r\nL 19.671875 30.8125 \r\nL 19.671875 0 \r\nL 9.8125 0 \r\nL 9.8125 72.90625 \r\nL 32.078125 72.90625 \r\nQ 44.578125 72.90625 50.734375 67.671875 \r\nQ 56.890625 62.453125 56.890625 51.90625 \r\nQ 56.890625 45.015625 53.6875 40.46875 \r\nQ 50.484375 35.9375 44.390625 34.1875 \r\nz\r\nM 19.671875 64.796875 \r\nL 19.671875 38.921875 \r\nL 32.078125 38.921875 \r\nQ 39.203125 38.921875 42.84375 42.21875 \r\nQ 46.484375 45.515625 46.484375 51.90625 \r\nQ 46.484375 58.296875 42.84375 61.546875 \r\nQ 39.203125 64.796875 32.078125 64.796875 \r\nz\r\n\" id=\"DejaVuSans-82\"/>\r\n       </defs>\r\n       <use xlink:href=\"#DejaVuSans-82\"/>\r\n       <use x=\"64.982422\" xlink:href=\"#DejaVuSans-111\"/>\r\n       <use x=\"126.164062\" xlink:href=\"#DejaVuSans-99\"/>\r\n       <use x=\"181.144531\" xlink:href=\"#DejaVuSans-107\"/>\r\n      </g>\r\n     </g>\r\n    </g>\r\n   </g>\r\n   <g id=\"matplotlib.axis_2\">\r\n    <g id=\"ytick_1\">\r\n     <g id=\"line2d_11\">\r\n      <defs>\r\n       <path d=\"M 0 0 \r\nL -3.5 0 \r\n\" id=\"m8a1fb69941\" style=\"stroke:#000000;stroke-width:0.8;\"/>\r\n      </defs>\r\n      <g>\r\n       <use style=\"stroke:#000000;stroke-width:0.8;\" x=\"39.65\" xlink:href=\"#m8a1fb69941\" y=\"224.64\"/>\r\n      </g>\r\n     </g>\r\n     <g id=\"text_11\">\r\n      <!-- 0 -->\r\n      <g transform=\"translate(26.2875 228.439219)scale(0.1 -0.1)\">\r\n       <defs>\r\n        <path d=\"M 31.78125 66.40625 \r\nQ 24.171875 66.40625 20.328125 58.90625 \r\nQ 16.5 51.421875 16.5 36.375 \r\nQ 16.5 21.390625 20.328125 13.890625 \r\nQ 24.171875 6.390625 31.78125 6.390625 \r\nQ 39.453125 6.390625 43.28125 13.890625 \r\nQ 47.125 21.390625 47.125 36.375 \r\nQ 47.125 51.421875 43.28125 58.90625 \r\nQ 39.453125 66.40625 31.78125 66.40625 \r\nz\r\nM 31.78125 74.21875 \r\nQ 44.046875 74.21875 50.515625 64.515625 \r\nQ 56.984375 54.828125 56.984375 36.375 \r\nQ 56.984375 17.96875 50.515625 8.265625 \r\nQ 44.046875 -1.421875 31.78125 -1.421875 \r\nQ 19.53125 -1.421875 13.0625 8.265625 \r\nQ 6.59375 17.96875 6.59375 36.375 \r\nQ 6.59375 54.828125 13.0625 64.515625 \r\nQ 19.53125 74.21875 31.78125 74.21875 \r\nz\r\n\" id=\"DejaVuSans-48\"/>\r\n       </defs>\r\n       <use xlink:href=\"#DejaVuSans-48\"/>\r\n      </g>\r\n     </g>\r\n    </g>\r\n    <g id=\"ytick_2\">\r\n     <g id=\"line2d_12\">\r\n      <g>\r\n       <use style=\"stroke:#000000;stroke-width:0.8;\" x=\"39.65\" xlink:href=\"#m8a1fb69941\" y=\"178.009576\"/>\r\n      </g>\r\n     </g>\r\n     <g id=\"text_12\">\r\n      <!-- 2000 -->\r\n      <g transform=\"translate(7.2 181.808794)scale(0.1 -0.1)\">\r\n       <defs>\r\n        <path d=\"M 19.1875 8.296875 \r\nL 53.609375 8.296875 \r\nL 53.609375 0 \r\nL 7.328125 0 \r\nL 7.328125 8.296875 \r\nQ 12.9375 14.109375 22.625 23.890625 \r\nQ 32.328125 33.6875 34.8125 36.53125 \r\nQ 39.546875 41.84375 41.421875 45.53125 \r\nQ 43.3125 49.21875 43.3125 52.78125 \r\nQ 43.3125 58.59375 39.234375 62.25 \r\nQ 35.15625 65.921875 28.609375 65.921875 \r\nQ 23.96875 65.921875 18.8125 64.3125 \r\nQ 13.671875 62.703125 7.8125 59.421875 \r\nL 7.8125 69.390625 \r\nQ 13.765625 71.78125 18.9375 73 \r\nQ 24.125 74.21875 28.421875 74.21875 \r\nQ 39.75 74.21875 46.484375 68.546875 \r\nQ 53.21875 62.890625 53.21875 53.421875 \r\nQ 53.21875 48.921875 51.53125 44.890625 \r\nQ 49.859375 40.875 45.40625 35.40625 \r\nQ 44.1875 33.984375 37.640625 27.21875 \r\nQ 31.109375 20.453125 19.1875 8.296875 \r\nz\r\n\" id=\"DejaVuSans-50\"/>\r\n       </defs>\r\n       <use xlink:href=\"#DejaVuSans-50\"/>\r\n       <use x=\"63.623047\" xlink:href=\"#DejaVuSans-48\"/>\r\n       <use x=\"127.246094\" xlink:href=\"#DejaVuSans-48\"/>\r\n       <use x=\"190.869141\" xlink:href=\"#DejaVuSans-48\"/>\r\n      </g>\r\n     </g>\r\n    </g>\r\n    <g id=\"ytick_3\">\r\n     <g id=\"line2d_13\">\r\n      <g>\r\n       <use style=\"stroke:#000000;stroke-width:0.8;\" x=\"39.65\" xlink:href=\"#m8a1fb69941\" y=\"131.379151\"/>\r\n      </g>\r\n     </g>\r\n     <g id=\"text_13\">\r\n      <!-- 4000 -->\r\n      <g transform=\"translate(7.2 135.17837)scale(0.1 -0.1)\">\r\n       <defs>\r\n        <path d=\"M 37.796875 64.3125 \r\nL 12.890625 25.390625 \r\nL 37.796875 25.390625 \r\nz\r\nM 35.203125 72.90625 \r\nL 47.609375 72.90625 \r\nL 47.609375 25.390625 \r\nL 58.015625 25.390625 \r\nL 58.015625 17.1875 \r\nL 47.609375 17.1875 \r\nL 47.609375 0 \r\nL 37.796875 0 \r\nL 37.796875 17.1875 \r\nL 4.890625 17.1875 \r\nL 4.890625 26.703125 \r\nz\r\n\" id=\"DejaVuSans-52\"/>\r\n       </defs>\r\n       <use xlink:href=\"#DejaVuSans-52\"/>\r\n       <use x=\"63.623047\" xlink:href=\"#DejaVuSans-48\"/>\r\n       <use x=\"127.246094\" xlink:href=\"#DejaVuSans-48\"/>\r\n       <use x=\"190.869141\" xlink:href=\"#DejaVuSans-48\"/>\r\n      </g>\r\n     </g>\r\n    </g>\r\n    <g id=\"ytick_4\">\r\n     <g id=\"line2d_14\">\r\n      <g>\r\n       <use style=\"stroke:#000000;stroke-width:0.8;\" x=\"39.65\" xlink:href=\"#m8a1fb69941\" y=\"84.748727\"/>\r\n      </g>\r\n     </g>\r\n     <g id=\"text_14\">\r\n      <!-- 6000 -->\r\n      <g transform=\"translate(7.2 88.547946)scale(0.1 -0.1)\">\r\n       <defs>\r\n        <path d=\"M 33.015625 40.375 \r\nQ 26.375 40.375 22.484375 35.828125 \r\nQ 18.609375 31.296875 18.609375 23.390625 \r\nQ 18.609375 15.53125 22.484375 10.953125 \r\nQ 26.375 6.390625 33.015625 6.390625 \r\nQ 39.65625 6.390625 43.53125 10.953125 \r\nQ 47.40625 15.53125 47.40625 23.390625 \r\nQ 47.40625 31.296875 43.53125 35.828125 \r\nQ 39.65625 40.375 33.015625 40.375 \r\nz\r\nM 52.59375 71.296875 \r\nL 52.59375 62.3125 \r\nQ 48.875 64.0625 45.09375 64.984375 \r\nQ 41.3125 65.921875 37.59375 65.921875 \r\nQ 27.828125 65.921875 22.671875 59.328125 \r\nQ 17.53125 52.734375 16.796875 39.40625 \r\nQ 19.671875 43.65625 24.015625 45.921875 \r\nQ 28.375 48.1875 33.59375 48.1875 \r\nQ 44.578125 48.1875 50.953125 41.515625 \r\nQ 57.328125 34.859375 57.328125 23.390625 \r\nQ 57.328125 12.15625 50.6875 5.359375 \r\nQ 44.046875 -1.421875 33.015625 -1.421875 \r\nQ 20.359375 -1.421875 13.671875 8.265625 \r\nQ 6.984375 17.96875 6.984375 36.375 \r\nQ 6.984375 53.65625 15.1875 63.9375 \r\nQ 23.390625 74.21875 37.203125 74.21875 \r\nQ 40.921875 74.21875 44.703125 73.484375 \r\nQ 48.484375 72.75 52.59375 71.296875 \r\nz\r\n\" id=\"DejaVuSans-54\"/>\r\n       </defs>\r\n       <use xlink:href=\"#DejaVuSans-54\"/>\r\n       <use x=\"63.623047\" xlink:href=\"#DejaVuSans-48\"/>\r\n       <use x=\"127.246094\" xlink:href=\"#DejaVuSans-48\"/>\r\n       <use x=\"190.869141\" xlink:href=\"#DejaVuSans-48\"/>\r\n      </g>\r\n     </g>\r\n    </g>\r\n    <g id=\"ytick_5\">\r\n     <g id=\"line2d_15\">\r\n      <g>\r\n       <use style=\"stroke:#000000;stroke-width:0.8;\" x=\"39.65\" xlink:href=\"#m8a1fb69941\" y=\"38.118303\"/>\r\n      </g>\r\n     </g>\r\n     <g id=\"text_15\">\r\n      <!-- 8000 -->\r\n      <g transform=\"translate(7.2 41.917522)scale(0.1 -0.1)\">\r\n       <defs>\r\n        <path d=\"M 31.78125 34.625 \r\nQ 24.75 34.625 20.71875 30.859375 \r\nQ 16.703125 27.09375 16.703125 20.515625 \r\nQ 16.703125 13.921875 20.71875 10.15625 \r\nQ 24.75 6.390625 31.78125 6.390625 \r\nQ 38.8125 6.390625 42.859375 10.171875 \r\nQ 46.921875 13.96875 46.921875 20.515625 \r\nQ 46.921875 27.09375 42.890625 30.859375 \r\nQ 38.875 34.625 31.78125 34.625 \r\nz\r\nM 21.921875 38.8125 \r\nQ 15.578125 40.375 12.03125 44.71875 \r\nQ 8.5 49.078125 8.5 55.328125 \r\nQ 8.5 64.0625 14.71875 69.140625 \r\nQ 20.953125 74.21875 31.78125 74.21875 \r\nQ 42.671875 74.21875 48.875 69.140625 \r\nQ 55.078125 64.0625 55.078125 55.328125 \r\nQ 55.078125 49.078125 51.53125 44.71875 \r\nQ 48 40.375 41.703125 38.8125 \r\nQ 48.828125 37.15625 52.796875 32.3125 \r\nQ 56.78125 27.484375 56.78125 20.515625 \r\nQ 56.78125 9.90625 50.3125 4.234375 \r\nQ 43.84375 -1.421875 31.78125 -1.421875 \r\nQ 19.734375 -1.421875 13.25 4.234375 \r\nQ 6.78125 9.90625 6.78125 20.515625 \r\nQ 6.78125 27.484375 10.78125 32.3125 \r\nQ 14.796875 37.15625 21.921875 38.8125 \r\nz\r\nM 18.3125 54.390625 \r\nQ 18.3125 48.734375 21.84375 45.5625 \r\nQ 25.390625 42.390625 31.78125 42.390625 \r\nQ 38.140625 42.390625 41.71875 45.5625 \r\nQ 45.3125 48.734375 45.3125 54.390625 \r\nQ 45.3125 60.0625 41.71875 63.234375 \r\nQ 38.140625 66.40625 31.78125 66.40625 \r\nQ 25.390625 66.40625 21.84375 63.234375 \r\nQ 18.3125 60.0625 18.3125 54.390625 \r\nz\r\n\" id=\"DejaVuSans-56\"/>\r\n       </defs>\r\n       <use xlink:href=\"#DejaVuSans-56\"/>\r\n       <use x=\"63.623047\" xlink:href=\"#DejaVuSans-48\"/>\r\n       <use x=\"127.246094\" xlink:href=\"#DejaVuSans-48\"/>\r\n       <use x=\"190.869141\" xlink:href=\"#DejaVuSans-48\"/>\r\n      </g>\r\n     </g>\r\n    </g>\r\n   </g>\r\n   <g id=\"patch_13\">\r\n    <path d=\"M 39.65 224.64 \r\nL 39.65 7.2 \r\n\" style=\"fill:none;stroke:#000000;stroke-linecap:square;stroke-linejoin:miter;stroke-width:0.8;\"/>\r\n   </g>\r\n   <g id=\"patch_14\">\r\n    <path d=\"M 374.45 224.64 \r\nL 374.45 7.2 \r\n\" style=\"fill:none;stroke:#000000;stroke-linecap:square;stroke-linejoin:miter;stroke-width:0.8;\"/>\r\n   </g>\r\n   <g id=\"patch_15\">\r\n    <path d=\"M 39.65 224.64 \r\nL 374.45 224.64 \r\n\" style=\"fill:none;stroke:#000000;stroke-linecap:square;stroke-linejoin:miter;stroke-width:0.8;\"/>\r\n   </g>\r\n   <g id=\"patch_16\">\r\n    <path d=\"M 39.65 7.2 \r\nL 374.45 7.2 \r\n\" style=\"fill:none;stroke:#000000;stroke-linecap:square;stroke-linejoin:miter;stroke-width:0.8;\"/>\r\n   </g>\r\n  </g>\r\n </g>\r\n <defs>\r\n  <clipPath id=\"p9eb1aba90f\">\r\n   <rect height=\"217.44\" width=\"334.8\" x=\"39.65\" y=\"7.2\"/>\r\n  </clipPath>\r\n </defs>\r\n</svg>\r\n",
      "image/png": "[encoded data removed]"
     },
     "metadata": {
      "needs_background": "light"
     }
    }
   ],
   "source": [
    "plt.bar(length_unique_words_per_genre.keys(), length_unique_words_per_genre.values())"
   ]
  },
  {
   "cell_type": "code",
   "execution_count": 24,
   "metadata": {},
   "outputs": [],
   "source": [
    "freq_unique_words_per_genre = {}\n",
    "stop_words = stopwords.words('english')\n",
    "sentences = []\n",
    "for genre, lyric in cleaned_lyrics.groupby('closest_genre')['lyric'].sum().iteritems():\n",
    "    text = lyric.lower()\n",
    "    tokens = wordpunct_tokenize(text)\n",
    "    # filtered_sentence = [w for w in tokens if (not w in stop_words) and (w.isalpha())] \n",
    "    filtered_sentence = [w for w in tokens if (w.isalpha())] \n",
    "    sentences += filtered_sentence\n",
    "    fdist1 = nltk.FreqDist(filtered_sentence)\n",
    "    freq_unique_words_per_genre[genre] = dict((word, freq) for word, freq in fdist1.items() if word.isalpha())\n"
   ]
  },
  {
   "cell_type": "code",
   "execution_count": 25,
   "metadata": {},
   "outputs": [],
   "source": [
    "sentences_1 = [sent.split() for sent in sentences]"
   ]
  },
  {
   "cell_type": "code",
   "execution_count": 26,
   "metadata": {},
   "outputs": [
    {
     "output_type": "execute_result",
     "data": {
      "text/plain": [
       "[['all'],\n",
       " ['i'],\n",
       " ['can'],\n",
       " ['ever'],\n",
       " ['be'],\n",
       " ['to'],\n",
       " ['you'],\n",
       " ['is'],\n",
       " ['a'],\n",
       " ['darkness']]"
      ]
     },
     "metadata": {},
     "execution_count": 26
    }
   ],
   "source": [
    "sentences_1[:10]"
   ]
  },
  {
   "cell_type": "code",
   "execution_count": 27,
   "metadata": {},
   "outputs": [],
   "source": [
    "common_terms = []\n",
    "for key in freq_unique_words_per_genre.keys():\n",
    "    common_terms += heapq.nlargest(1000, freq_unique_words_per_genre[key], key=freq_unique_words_per_genre[key].get)\n",
    "common_terms = set(common_terms)"
   ]
  },
  {
   "cell_type": "code",
   "execution_count": 28,
   "metadata": {},
   "outputs": [
    {
     "output_type": "execute_result",
     "data": {
      "text/plain": [
       "2924"
      ]
     },
     "metadata": {},
     "execution_count": 28
    }
   ],
   "source": [
    "len(common_terms)"
   ]
  },
  {
   "cell_type": "code",
   "execution_count": 290,
   "metadata": {},
   "outputs": [],
   "source": [
    "from gensim.models.phrases import Phrases, Phraser"
   ]
  },
  {
   "cell_type": "code",
   "execution_count": 340,
   "metadata": {},
   "outputs": [
    {
     "output_type": "stream",
     "name": "stderr",
     "text": [
      "INFO - 17:28:34: collecting all words and their counts\n",
      "INFO - 17:28:34: PROGRESS: at sentence #0, processed 0 words and 0 word types\n",
      "INFO - 17:28:34: PROGRESS: at sentence #10000, processed 10000 words and 332 word types\n",
      "INFO - 17:28:35: PROGRESS: at sentence #20000, processed 20000 words and 603 word types\n",
      "INFO - 17:28:35: PROGRESS: at sentence #30000, processed 30000 words and 951 word types\n",
      "INFO - 17:28:35: PROGRESS: at sentence #40000, processed 40000 words and 1182 word types\n",
      "INFO - 17:28:35: PROGRESS: at sentence #50000, processed 50000 words and 1400 word types\n",
      "INFO - 17:28:35: PROGRESS: at sentence #60000, processed 60000 words and 1712 word types\n",
      "INFO - 17:28:35: PROGRESS: at sentence #70000, processed 70000 words and 2020 word types\n",
      "INFO - 17:28:35: PROGRESS: at sentence #80000, processed 80000 words and 2292 word types\n",
      "INFO - 17:28:35: PROGRESS: at sentence #90000, processed 90000 words and 2577 word types\n",
      "INFO - 17:28:35: PROGRESS: at sentence #100000, processed 100000 words and 2933 word types\n",
      "INFO - 17:28:35: PROGRESS: at sentence #110000, processed 110000 words and 3205 word types\n",
      "INFO - 17:28:35: PROGRESS: at sentence #120000, processed 120000 words and 3405 word types\n",
      "INFO - 17:28:35: PROGRESS: at sentence #130000, processed 130000 words and 3712 word types\n",
      "INFO - 17:28:35: PROGRESS: at sentence #140000, processed 140000 words and 3955 word types\n",
      "INFO - 17:28:35: PROGRESS: at sentence #150000, processed 150000 words and 4160 word types\n",
      "INFO - 17:28:35: PROGRESS: at sentence #160000, processed 160000 words and 4307 word types\n",
      "INFO - 17:28:35: PROGRESS: at sentence #170000, processed 170000 words and 4514 word types\n",
      "INFO - 17:28:35: PROGRESS: at sentence #180000, processed 180000 words and 4948 word types\n",
      "INFO - 17:28:35: PROGRESS: at sentence #190000, processed 190000 words and 5232 word types\n",
      "INFO - 17:28:35: PROGRESS: at sentence #200000, processed 200000 words and 5556 word types\n",
      "INFO - 17:28:35: PROGRESS: at sentence #210000, processed 210000 words and 5744 word types\n",
      "INFO - 17:28:35: PROGRESS: at sentence #220000, processed 220000 words and 5968 word types\n",
      "INFO - 17:28:35: PROGRESS: at sentence #230000, processed 230000 words and 6393 word types\n",
      "INFO - 17:28:35: PROGRESS: at sentence #240000, processed 240000 words and 6868 word types\n",
      "INFO - 17:28:35: PROGRESS: at sentence #250000, processed 250000 words and 7279 word types\n",
      "INFO - 17:28:35: PROGRESS: at sentence #260000, processed 260000 words and 7694 word types\n",
      "INFO - 17:28:35: PROGRESS: at sentence #270000, processed 270000 words and 8080 word types\n",
      "INFO - 17:28:35: PROGRESS: at sentence #280000, processed 280000 words and 8540 word types\n",
      "INFO - 17:28:35: PROGRESS: at sentence #290000, processed 290000 words and 9093 word types\n",
      "INFO - 17:28:35: PROGRESS: at sentence #300000, processed 300000 words and 9464 word types\n",
      "INFO - 17:28:35: PROGRESS: at sentence #310000, processed 310000 words and 9884 word types\n",
      "INFO - 17:28:35: PROGRESS: at sentence #320000, processed 320000 words and 10193 word types\n",
      "INFO - 17:28:35: PROGRESS: at sentence #330000, processed 330000 words and 10487 word types\n",
      "INFO - 17:28:35: PROGRESS: at sentence #340000, processed 340000 words and 10632 word types\n",
      "INFO - 17:28:35: PROGRESS: at sentence #350000, processed 350000 words and 10786 word types\n",
      "INFO - 17:28:35: PROGRESS: at sentence #360000, processed 360000 words and 10922 word types\n",
      "INFO - 17:28:35: PROGRESS: at sentence #370000, processed 370000 words and 11093 word types\n",
      "INFO - 17:28:35: PROGRESS: at sentence #380000, processed 380000 words and 11262 word types\n",
      "INFO - 17:28:35: PROGRESS: at sentence #390000, processed 390000 words and 11531 word types\n",
      "INFO - 17:28:35: PROGRESS: at sentence #400000, processed 400000 words and 11748 word types\n",
      "INFO - 17:28:35: PROGRESS: at sentence #410000, processed 410000 words and 11939 word types\n",
      "INFO - 17:28:35: PROGRESS: at sentence #420000, processed 420000 words and 12165 word types\n",
      "INFO - 17:28:35: PROGRESS: at sentence #430000, processed 430000 words and 12390 word types\n",
      "INFO - 17:28:35: PROGRESS: at sentence #440000, processed 440000 words and 12559 word types\n",
      "INFO - 17:28:35: PROGRESS: at sentence #450000, processed 450000 words and 12701 word types\n",
      "INFO - 17:28:35: PROGRESS: at sentence #460000, processed 460000 words and 12795 word types\n",
      "INFO - 17:28:35: PROGRESS: at sentence #470000, processed 470000 words and 12949 word types\n",
      "INFO - 17:28:35: PROGRESS: at sentence #480000, processed 480000 words and 13070 word types\n",
      "INFO - 17:28:35: PROGRESS: at sentence #490000, processed 490000 words and 13216 word types\n",
      "INFO - 17:28:35: PROGRESS: at sentence #500000, processed 500000 words and 13349 word types\n",
      "INFO - 17:28:35: PROGRESS: at sentence #510000, processed 510000 words and 13548 word types\n",
      "INFO - 17:28:35: PROGRESS: at sentence #520000, processed 520000 words and 13651 word types\n",
      "INFO - 17:28:35: PROGRESS: at sentence #530000, processed 530000 words and 13834 word types\n",
      "INFO - 17:28:35: PROGRESS: at sentence #540000, processed 540000 words and 13982 word types\n",
      "INFO - 17:28:35: PROGRESS: at sentence #550000, processed 550000 words and 14163 word types\n",
      "INFO - 17:28:35: PROGRESS: at sentence #560000, processed 560000 words and 14234 word types\n",
      "INFO - 17:28:35: PROGRESS: at sentence #570000, processed 570000 words and 14337 word types\n",
      "INFO - 17:28:35: PROGRESS: at sentence #580000, processed 580000 words and 14464 word types\n",
      "INFO - 17:28:35: PROGRESS: at sentence #590000, processed 590000 words and 14592 word types\n",
      "INFO - 17:28:35: PROGRESS: at sentence #600000, processed 600000 words and 14707 word types\n",
      "INFO - 17:28:35: collected 14752 word types from a corpus of 602790 words (unigram + bigrams) and 602790 sentences\n",
      "INFO - 17:28:35: using 14752 counts as vocab in Phrases<0 vocab, min_count=10, threshold=10.0, max_vocab_size=40000000>\n",
      "INFO - 17:28:35: source_vocab length 14752\n",
      "INFO - 17:28:35: Phraser built with 0 phrasegrams\n"
     ]
    }
   ],
   "source": [
    "phrases = Phrases(sentences_1, common_terms=common_terms, min_count=10)\n",
    "ngram = Phraser(phrases)"
   ]
  },
  {
   "cell_type": "code",
   "execution_count": 341,
   "metadata": {},
   "outputs": [],
   "source": [
    "ngrams_sent = list(ngram[sentences_1])"
   ]
  },
  {
   "cell_type": "code",
   "execution_count": 342,
   "metadata": {},
   "outputs": [],
   "source": [
    "ngrams_sent.append(['paddingkosong'])\n",
    "ngrams_sent.append(['tidakdiketahui'])"
   ]
  },
  {
   "source": [
    "- min_count = int - Ignores all words with total absolute frequency lower than this - (2, 100)\n",
    "- window = int - The maximum distance between the current and predicted word within a sentence. E.g. window words on the left and window words on the left of our target - (2, 10)\n",
    "- size = int - Dimensionality of the feature vectors. - (50, 300)\n",
    "- sample = float - The threshold for configuring which higher-frequency words are randomly downsampled. Highly influencial. - (0, 1e-5)\n",
    "- alpha = float - The initial learning rate - (0.01, 0.05)\n",
    "- min_alpha = float - Learning rate will linearly drop to min_alpha as training progresses. To - set it: alpha - (min_alpha * epochs) ~ 0.00\n",
    "- negative = int - If > 0, negative sampling will be used, the int for negative specifies how many \"noise words\" should be drown. If set to 0, no negative sampling is used. - (5, 20)\n",
    "- workers = int - Use these many worker threads to train the model (=faster training with multicore machines)"
   ],
   "cell_type": "markdown",
   "metadata": {}
  },
  {
   "cell_type": "code",
   "execution_count": 294,
   "metadata": {},
   "outputs": [],
   "source": [
    "cores = multiprocessing.cpu_count() # Count the number of cores in a computer"
   ]
  },
  {
   "cell_type": "code",
   "execution_count": 366,
   "metadata": {},
   "outputs": [],
   "source": [
    "w2v_model = Word2Vec(min_count=1,\n",
    "                     window=2,\n",
    "                     size=300,\n",
    "                     sample=6e-5, \n",
    "                     alpha=0.03, \n",
    "                     min_alpha=0.0007, \n",
    "                     negative=0,\n",
    "                     workers=cores-1)"
   ]
  },
  {
   "cell_type": "code",
   "execution_count": 367,
   "metadata": {
    "tags": []
   },
   "outputs": [
    {
     "output_type": "stream",
     "name": "stderr",
     "text": [
      "INFO - 17:49:53: collecting all words and their counts\n",
      "INFO - 17:49:53: PROGRESS: at sentence #0, processed 0 words, keeping 0 word types\n",
      "INFO - 17:49:53: PROGRESS: at sentence #1000, processed 1000 words, keeping 299 word types\n",
      "INFO - 17:49:53: PROGRESS: at sentence #2000, processed 2000 words, keeping 446 word types\n",
      "INFO - 17:49:53: PROGRESS: at sentence #3000, processed 3000 words, keeping 587 word types\n",
      "INFO - 17:49:53: PROGRESS: at sentence #4000, processed 4000 words, keeping 723 word types\n",
      "INFO - 17:49:53: PROGRESS: at sentence #5000, processed 5000 words, keeping 847 word types\n",
      "INFO - 17:49:53: PROGRESS: at sentence #6000, processed 6000 words, keeping 968 word types\n",
      "INFO - 17:49:53: PROGRESS: at sentence #7000, processed 7000 words, keeping 1052 word types\n",
      "INFO - 17:49:53: PROGRESS: at sentence #8000, processed 8000 words, keeping 1124 word types\n",
      "INFO - 17:49:53: PROGRESS: at sentence #9000, processed 9000 words, keeping 1222 word types\n",
      "INFO - 17:49:53: PROGRESS: at sentence #10000, processed 10000 words, keeping 1274 word types\n",
      "INFO - 17:49:53: PROGRESS: at sentence #11000, processed 11000 words, keeping 1332 word types\n",
      "INFO - 17:49:53: PROGRESS: at sentence #12000, processed 12000 words, keeping 1397 word types\n",
      "INFO - 17:49:53: PROGRESS: at sentence #13000, processed 13000 words, keeping 1501 word types\n",
      "INFO - 17:49:53: PROGRESS: at sentence #14000, processed 14000 words, keeping 1574 word types\n",
      "INFO - 17:49:53: PROGRESS: at sentence #15000, processed 15000 words, keeping 1617 word types\n",
      "INFO - 17:49:53: PROGRESS: at sentence #16000, processed 16000 words, keeping 1704 word types\n",
      "INFO - 17:49:53: PROGRESS: at sentence #17000, processed 17000 words, keeping 1724 word types\n",
      "INFO - 17:49:53: PROGRESS: at sentence #18000, processed 18000 words, keeping 1778 word types\n",
      "INFO - 17:49:53: PROGRESS: at sentence #19000, processed 19000 words, keeping 1845 word types\n",
      "INFO - 17:49:53: PROGRESS: at sentence #20000, processed 20000 words, keeping 1880 word types\n",
      "INFO - 17:49:53: PROGRESS: at sentence #21000, processed 21000 words, keeping 1932 word types\n",
      "INFO - 17:49:53: PROGRESS: at sentence #22000, processed 22000 words, keeping 1977 word types\n",
      "INFO - 17:49:53: PROGRESS: at sentence #23000, processed 23000 words, keeping 2052 word types\n",
      "INFO - 17:49:53: PROGRESS: at sentence #24000, processed 24000 words, keeping 2114 word types\n",
      "INFO - 17:49:53: PROGRESS: at sentence #25000, processed 25000 words, keeping 2161 word types\n",
      "INFO - 17:49:53: PROGRESS: at sentence #26000, processed 26000 words, keeping 2233 word types\n",
      "INFO - 17:49:53: PROGRESS: at sentence #27000, processed 27000 words, keeping 2276 word types\n",
      "INFO - 17:49:53: PROGRESS: at sentence #28000, processed 28000 words, keeping 2333 word types\n",
      "INFO - 17:49:53: PROGRESS: at sentence #29000, processed 29000 words, keeping 2394 word types\n",
      "INFO - 17:49:53: PROGRESS: at sentence #30000, processed 30000 words, keeping 2470 word types\n",
      "INFO - 17:49:53: PROGRESS: at sentence #31000, processed 31000 words, keeping 2520 word types\n",
      "INFO - 17:49:53: PROGRESS: at sentence #32000, processed 32000 words, keeping 2545 word types\n",
      "INFO - 17:49:53: PROGRESS: at sentence #33000, processed 33000 words, keeping 2569 word types\n",
      "INFO - 17:49:53: PROGRESS: at sentence #34000, processed 34000 words, keeping 2603 word types\n",
      "INFO - 17:49:53: PROGRESS: at sentence #35000, processed 35000 words, keeping 2614 word types\n",
      "INFO - 17:49:53: PROGRESS: at sentence #36000, processed 36000 words, keeping 2657 word types\n",
      "INFO - 17:49:53: PROGRESS: at sentence #37000, processed 37000 words, keeping 2690 word types\n",
      "INFO - 17:49:53: PROGRESS: at sentence #38000, processed 38000 words, keeping 2747 word types\n",
      "INFO - 17:49:53: PROGRESS: at sentence #39000, processed 39000 words, keeping 2789 word types\n",
      "INFO - 17:49:53: PROGRESS: at sentence #40000, processed 40000 words, keeping 2828 word types\n",
      "INFO - 17:49:53: PROGRESS: at sentence #41000, processed 41000 words, keeping 2870 word types\n",
      "INFO - 17:49:53: PROGRESS: at sentence #42000, processed 42000 words, keeping 2896 word types\n",
      "INFO - 17:49:53: PROGRESS: at sentence #43000, processed 43000 words, keeping 2913 word types\n",
      "INFO - 17:49:53: PROGRESS: at sentence #44000, processed 44000 words, keeping 2942 word types\n",
      "INFO - 17:49:53: PROGRESS: at sentence #45000, processed 45000 words, keeping 2985 word types\n",
      "INFO - 17:49:53: PROGRESS: at sentence #46000, processed 46000 words, keeping 3015 word types\n",
      "INFO - 17:49:53: PROGRESS: at sentence #47000, processed 47000 words, keeping 3049 word types\n",
      "INFO - 17:49:53: PROGRESS: at sentence #48000, processed 48000 words, keeping 3075 word types\n",
      "INFO - 17:49:53: PROGRESS: at sentence #49000, processed 49000 words, keeping 3098 word types\n",
      "INFO - 17:49:53: PROGRESS: at sentence #50000, processed 50000 words, keeping 3124 word types\n",
      "INFO - 17:49:53: PROGRESS: at sentence #51000, processed 51000 words, keeping 3189 word types\n",
      "INFO - 17:49:53: PROGRESS: at sentence #52000, processed 52000 words, keeping 3216 word types\n",
      "INFO - 17:49:53: PROGRESS: at sentence #53000, processed 53000 words, keeping 3228 word types\n",
      "INFO - 17:49:53: PROGRESS: at sentence #54000, processed 54000 words, keeping 3259 word types\n",
      "INFO - 17:49:53: PROGRESS: at sentence #55000, processed 55000 words, keeping 3311 word types\n",
      "INFO - 17:49:53: PROGRESS: at sentence #56000, processed 56000 words, keeping 3329 word types\n",
      "INFO - 17:49:53: PROGRESS: at sentence #57000, processed 57000 words, keeping 3391 word types\n",
      "INFO - 17:49:53: PROGRESS: at sentence #58000, processed 58000 words, keeping 3425 word types\n",
      "INFO - 17:49:53: PROGRESS: at sentence #59000, processed 59000 words, keeping 3516 word types\n",
      "INFO - 17:49:53: PROGRESS: at sentence #60000, processed 60000 words, keeping 3562 word types\n",
      "INFO - 17:49:53: PROGRESS: at sentence #61000, processed 61000 words, keeping 3623 word types\n",
      "INFO - 17:49:53: PROGRESS: at sentence #62000, processed 62000 words, keeping 3651 word types\n",
      "INFO - 17:49:53: PROGRESS: at sentence #63000, processed 63000 words, keeping 3704 word types\n",
      "INFO - 17:49:53: PROGRESS: at sentence #64000, processed 64000 words, keeping 3776 word types\n",
      "INFO - 17:49:53: PROGRESS: at sentence #65000, processed 65000 words, keeping 3846 word types\n",
      "INFO - 17:49:53: PROGRESS: at sentence #66000, processed 66000 words, keeping 3881 word types\n",
      "INFO - 17:49:53: PROGRESS: at sentence #67000, processed 67000 words, keeping 3929 word types\n",
      "INFO - 17:49:53: PROGRESS: at sentence #68000, processed 68000 words, keeping 3944 word types\n",
      "INFO - 17:49:53: PROGRESS: at sentence #69000, processed 69000 words, keeping 3977 word types\n",
      "INFO - 17:49:53: PROGRESS: at sentence #70000, processed 70000 words, keeping 4008 word types\n",
      "INFO - 17:49:53: PROGRESS: at sentence #71000, processed 71000 words, keeping 4031 word types\n",
      "INFO - 17:49:53: PROGRESS: at sentence #72000, processed 72000 words, keeping 4074 word types\n",
      "INFO - 17:49:53: PROGRESS: at sentence #73000, processed 73000 words, keeping 4113 word types\n",
      "INFO - 17:49:53: PROGRESS: at sentence #74000, processed 74000 words, keeping 4137 word types\n",
      "INFO - 17:49:53: PROGRESS: at sentence #75000, processed 75000 words, keeping 4158 word types\n",
      "INFO - 17:49:53: PROGRESS: at sentence #76000, processed 76000 words, keeping 4232 word types\n",
      "INFO - 17:49:53: PROGRESS: at sentence #77000, processed 77000 words, keeping 4256 word types\n",
      "INFO - 17:49:53: PROGRESS: at sentence #78000, processed 78000 words, keeping 4259 word types\n",
      "INFO - 17:49:53: PROGRESS: at sentence #79000, processed 79000 words, keeping 4313 word types\n",
      "INFO - 17:49:53: PROGRESS: at sentence #80000, processed 80000 words, keeping 4345 word types\n",
      "INFO - 17:49:53: PROGRESS: at sentence #81000, processed 81000 words, keeping 4375 word types\n",
      "INFO - 17:49:53: PROGRESS: at sentence #82000, processed 82000 words, keeping 4400 word types\n",
      "INFO - 17:49:53: PROGRESS: at sentence #83000, processed 83000 words, keeping 4418 word types\n",
      "INFO - 17:49:53: PROGRESS: at sentence #84000, processed 84000 words, keeping 4468 word types\n",
      "INFO - 17:49:53: PROGRESS: at sentence #85000, processed 85000 words, keeping 4532 word types\n",
      "INFO - 17:49:53: PROGRESS: at sentence #86000, processed 86000 words, keeping 4559 word types\n",
      "INFO - 17:49:53: PROGRESS: at sentence #87000, processed 87000 words, keeping 4576 word types\n",
      "INFO - 17:49:53: PROGRESS: at sentence #88000, processed 88000 words, keeping 4600 word types\n",
      "INFO - 17:49:53: PROGRESS: at sentence #89000, processed 89000 words, keeping 4666 word types\n",
      "INFO - 17:49:53: PROGRESS: at sentence #90000, processed 90000 words, keeping 4701 word types\n",
      "INFO - 17:49:53: PROGRESS: at sentence #91000, processed 91000 words, keeping 4732 word types\n",
      "INFO - 17:49:53: PROGRESS: at sentence #92000, processed 92000 words, keeping 4761 word types\n",
      "INFO - 17:49:53: PROGRESS: at sentence #93000, processed 93000 words, keeping 4790 word types\n",
      "INFO - 17:49:53: PROGRESS: at sentence #94000, processed 94000 words, keeping 4823 word types\n",
      "INFO - 17:49:53: PROGRESS: at sentence #95000, processed 95000 words, keeping 4858 word types\n",
      "INFO - 17:49:53: PROGRESS: at sentence #96000, processed 96000 words, keeping 4898 word types\n",
      "INFO - 17:49:53: PROGRESS: at sentence #97000, processed 97000 words, keeping 4951 word types\n",
      "INFO - 17:49:53: PROGRESS: at sentence #98000, processed 98000 words, keeping 4974 word types\n",
      "INFO - 17:49:53: PROGRESS: at sentence #99000, processed 99000 words, keeping 4987 word types\n",
      "INFO - 17:49:53: PROGRESS: at sentence #100000, processed 100000 words, keeping 5107 word types\n",
      "INFO - 17:49:53: PROGRESS: at sentence #101000, processed 101000 words, keeping 5132 word types\n",
      "INFO - 17:49:53: PROGRESS: at sentence #102000, processed 102000 words, keeping 5149 word types\n",
      "INFO - 17:49:53: PROGRESS: at sentence #103000, processed 103000 words, keeping 5180 word types\n",
      "INFO - 17:49:53: PROGRESS: at sentence #104000, processed 104000 words, keeping 5228 word types\n",
      "INFO - 17:49:53: PROGRESS: at sentence #105000, processed 105000 words, keeping 5231 word types\n",
      "INFO - 17:49:53: PROGRESS: at sentence #106000, processed 106000 words, keeping 5261 word types\n",
      "INFO - 17:49:53: PROGRESS: at sentence #107000, processed 107000 words, keeping 5301 word types\n",
      "INFO - 17:49:53: PROGRESS: at sentence #108000, processed 108000 words, keeping 5351 word types\n",
      "INFO - 17:49:53: PROGRESS: at sentence #109000, processed 109000 words, keeping 5397 word types\n",
      "INFO - 17:49:53: PROGRESS: at sentence #110000, processed 110000 words, keeping 5419 word types\n",
      "INFO - 17:49:53: PROGRESS: at sentence #111000, processed 111000 words, keeping 5450 word types\n",
      "INFO - 17:49:53: PROGRESS: at sentence #112000, processed 112000 words, keeping 5508 word types\n",
      "INFO - 17:49:53: PROGRESS: at sentence #113000, processed 113000 words, keeping 5532 word types\n",
      "INFO - 17:49:53: PROGRESS: at sentence #114000, processed 114000 words, keeping 5550 word types\n",
      "INFO - 17:49:53: PROGRESS: at sentence #115000, processed 115000 words, keeping 5563 word types\n",
      "INFO - 17:49:53: PROGRESS: at sentence #116000, processed 116000 words, keeping 5582 word types\n",
      "INFO - 17:49:53: PROGRESS: at sentence #117000, processed 117000 words, keeping 5619 word types\n",
      "INFO - 17:49:53: PROGRESS: at sentence #118000, processed 118000 words, keeping 5639 word types\n",
      "INFO - 17:49:53: PROGRESS: at sentence #119000, processed 119000 words, keeping 5662 word types\n",
      "INFO - 17:49:53: PROGRESS: at sentence #120000, processed 120000 words, keeping 5684 word types\n",
      "INFO - 17:49:53: PROGRESS: at sentence #121000, processed 121000 words, keeping 5712 word types\n",
      "INFO - 17:49:53: PROGRESS: at sentence #122000, processed 122000 words, keeping 5766 word types\n",
      "INFO - 17:49:53: PROGRESS: at sentence #123000, processed 123000 words, keeping 5833 word types\n",
      "INFO - 17:49:53: PROGRESS: at sentence #124000, processed 124000 words, keeping 5839 word types\n",
      "INFO - 17:49:53: PROGRESS: at sentence #125000, processed 125000 words, keeping 5857 word types\n",
      "INFO - 17:49:53: PROGRESS: at sentence #126000, processed 126000 words, keeping 5895 word types\n",
      "INFO - 17:49:53: PROGRESS: at sentence #127000, processed 127000 words, keeping 5930 word types\n",
      "INFO - 17:49:53: PROGRESS: at sentence #128000, processed 128000 words, keeping 5969 word types\n",
      "INFO - 17:49:53: PROGRESS: at sentence #129000, processed 129000 words, keeping 5994 word types\n",
      "INFO - 17:49:53: PROGRESS: at sentence #130000, processed 130000 words, keeping 6035 word types\n",
      "INFO - 17:49:53: PROGRESS: at sentence #131000, processed 131000 words, keeping 6079 word types\n",
      "INFO - 17:49:53: PROGRESS: at sentence #132000, processed 132000 words, keeping 6116 word types\n",
      "INFO - 17:49:53: PROGRESS: at sentence #133000, processed 133000 words, keeping 6133 word types\n",
      "INFO - 17:49:53: PROGRESS: at sentence #134000, processed 134000 words, keeping 6162 word types\n",
      "INFO - 17:49:53: PROGRESS: at sentence #135000, processed 135000 words, keeping 6187 word types\n",
      "INFO - 17:49:53: PROGRESS: at sentence #136000, processed 136000 words, keeping 6203 word types\n",
      "INFO - 17:49:53: PROGRESS: at sentence #137000, processed 137000 words, keeping 6227 word types\n",
      "INFO - 17:49:53: PROGRESS: at sentence #138000, processed 138000 words, keeping 6261 word types\n",
      "INFO - 17:49:53: PROGRESS: at sentence #139000, processed 139000 words, keeping 6296 word types\n",
      "INFO - 17:49:53: PROGRESS: at sentence #140000, processed 140000 words, keeping 6316 word types\n",
      "INFO - 17:49:53: PROGRESS: at sentence #141000, processed 141000 words, keeping 6336 word types\n",
      "INFO - 17:49:53: PROGRESS: at sentence #142000, processed 142000 words, keeping 6386 word types\n",
      "INFO - 17:49:53: PROGRESS: at sentence #143000, processed 143000 words, keeping 6401 word types\n",
      "INFO - 17:49:53: PROGRESS: at sentence #144000, processed 144000 words, keeping 6426 word types\n",
      "INFO - 17:49:53: PROGRESS: at sentence #145000, processed 145000 words, keeping 6447 word types\n",
      "INFO - 17:49:53: PROGRESS: at sentence #146000, processed 146000 words, keeping 6472 word types\n",
      "INFO - 17:49:53: PROGRESS: at sentence #147000, processed 147000 words, keeping 6490 word types\n",
      "INFO - 17:49:53: PROGRESS: at sentence #148000, processed 148000 words, keeping 6524 word types\n",
      "INFO - 17:49:53: PROGRESS: at sentence #149000, processed 149000 words, keeping 6527 word types\n",
      "INFO - 17:49:53: PROGRESS: at sentence #150000, processed 150000 words, keeping 6546 word types\n",
      "INFO - 17:49:53: PROGRESS: at sentence #151000, processed 151000 words, keeping 6555 word types\n",
      "INFO - 17:49:53: PROGRESS: at sentence #152000, processed 152000 words, keeping 6568 word types\n",
      "INFO - 17:49:53: PROGRESS: at sentence #153000, processed 153000 words, keeping 6583 word types\n",
      "INFO - 17:49:53: PROGRESS: at sentence #154000, processed 154000 words, keeping 6596 word types\n",
      "INFO - 17:49:53: PROGRESS: at sentence #155000, processed 155000 words, keeping 6617 word types\n",
      "INFO - 17:49:53: PROGRESS: at sentence #156000, processed 156000 words, keeping 6633 word types\n",
      "INFO - 17:49:53: PROGRESS: at sentence #157000, processed 157000 words, keeping 6650 word types\n",
      "INFO - 17:49:53: PROGRESS: at sentence #158000, processed 158000 words, keeping 6665 word types\n",
      "INFO - 17:49:53: PROGRESS: at sentence #159000, processed 159000 words, keeping 6672 word types\n",
      "INFO - 17:49:53: PROGRESS: at sentence #160000, processed 160000 words, keeping 6714 word types\n",
      "INFO - 17:49:53: PROGRESS: at sentence #161000, processed 161000 words, keeping 6721 word types\n",
      "INFO - 17:49:53: PROGRESS: at sentence #162000, processed 162000 words, keeping 6740 word types\n",
      "INFO - 17:49:53: PROGRESS: at sentence #163000, processed 163000 words, keeping 6751 word types\n",
      "INFO - 17:49:53: PROGRESS: at sentence #164000, processed 164000 words, keeping 6772 word types\n",
      "INFO - 17:49:53: PROGRESS: at sentence #165000, processed 165000 words, keeping 6811 word types\n",
      "INFO - 17:49:53: PROGRESS: at sentence #166000, processed 166000 words, keeping 6831 word types\n",
      "INFO - 17:49:53: PROGRESS: at sentence #167000, processed 167000 words, keeping 6853 word types\n",
      "INFO - 17:49:53: PROGRESS: at sentence #168000, processed 168000 words, keeping 6880 word types\n",
      "INFO - 17:49:53: PROGRESS: at sentence #169000, processed 169000 words, keeping 6918 word types\n",
      "INFO - 17:49:53: PROGRESS: at sentence #170000, processed 170000 words, keeping 6963 word types\n",
      "INFO - 17:49:53: PROGRESS: at sentence #171000, processed 171000 words, keeping 7002 word types\n",
      "INFO - 17:49:53: PROGRESS: at sentence #172000, processed 172000 words, keeping 7031 word types\n",
      "INFO - 17:49:53: PROGRESS: at sentence #173000, processed 173000 words, keeping 7138 word types\n",
      "INFO - 17:49:53: PROGRESS: at sentence #174000, processed 174000 words, keeping 7171 word types\n",
      "INFO - 17:49:53: PROGRESS: at sentence #175000, processed 175000 words, keeping 7190 word types\n",
      "INFO - 17:49:53: PROGRESS: at sentence #176000, processed 176000 words, keeping 7274 word types\n",
      "INFO - 17:49:53: PROGRESS: at sentence #177000, processed 177000 words, keeping 7319 word types\n",
      "INFO - 17:49:53: PROGRESS: at sentence #178000, processed 178000 words, keeping 7362 word types\n",
      "INFO - 17:49:53: PROGRESS: at sentence #179000, processed 179000 words, keeping 7410 word types\n",
      "INFO - 17:49:53: PROGRESS: at sentence #180000, processed 180000 words, keeping 7441 word types\n",
      "INFO - 17:49:53: PROGRESS: at sentence #181000, processed 181000 words, keeping 7469 word types\n",
      "INFO - 17:49:53: PROGRESS: at sentence #182000, processed 182000 words, keeping 7483 word types\n",
      "INFO - 17:49:53: PROGRESS: at sentence #183000, processed 183000 words, keeping 7507 word types\n",
      "INFO - 17:49:53: PROGRESS: at sentence #184000, processed 184000 words, keeping 7551 word types\n",
      "INFO - 17:49:53: PROGRESS: at sentence #185000, processed 185000 words, keeping 7650 word types\n",
      "INFO - 17:49:53: PROGRESS: at sentence #186000, processed 186000 words, keeping 7656 word types\n",
      "INFO - 17:49:53: PROGRESS: at sentence #187000, processed 187000 words, keeping 7673 word types\n",
      "INFO - 17:49:53: PROGRESS: at sentence #188000, processed 188000 words, keeping 7712 word types\n",
      "INFO - 17:49:53: PROGRESS: at sentence #189000, processed 189000 words, keeping 7725 word types\n",
      "INFO - 17:49:53: PROGRESS: at sentence #190000, processed 190000 words, keeping 7753 word types\n",
      "INFO - 17:49:53: PROGRESS: at sentence #191000, processed 191000 words, keeping 7775 word types\n",
      "INFO - 17:49:53: PROGRESS: at sentence #192000, processed 192000 words, keeping 7844 word types\n",
      "INFO - 17:49:53: PROGRESS: at sentence #193000, processed 193000 words, keeping 7870 word types\n",
      "INFO - 17:49:53: PROGRESS: at sentence #194000, processed 194000 words, keeping 7948 word types\n",
      "INFO - 17:49:53: PROGRESS: at sentence #195000, processed 195000 words, keeping 7960 word types\n",
      "INFO - 17:49:53: PROGRESS: at sentence #196000, processed 196000 words, keeping 8017 word types\n",
      "INFO - 17:49:53: PROGRESS: at sentence #197000, processed 197000 words, keeping 8052 word types\n",
      "INFO - 17:49:53: PROGRESS: at sentence #198000, processed 198000 words, keeping 8069 word types\n",
      "INFO - 17:49:53: PROGRESS: at sentence #199000, processed 199000 words, keeping 8089 word types\n",
      "INFO - 17:49:53: PROGRESS: at sentence #200000, processed 200000 words, keeping 8101 word types\n",
      "INFO - 17:49:53: PROGRESS: at sentence #201000, processed 201000 words, keeping 8106 word types\n",
      "INFO - 17:49:53: PROGRESS: at sentence #202000, processed 202000 words, keeping 8106 word types\n",
      "INFO - 17:49:53: PROGRESS: at sentence #203000, processed 203000 words, keeping 8117 word types\n",
      "INFO - 17:49:53: PROGRESS: at sentence #204000, processed 204000 words, keeping 8152 word types\n",
      "INFO - 17:49:53: PROGRESS: at sentence #205000, processed 205000 words, keeping 8172 word types\n",
      "INFO - 17:49:53: PROGRESS: at sentence #206000, processed 206000 words, keeping 8204 word types\n",
      "INFO - 17:49:53: PROGRESS: at sentence #207000, processed 207000 words, keeping 8218 word types\n",
      "INFO - 17:49:53: PROGRESS: at sentence #208000, processed 208000 words, keeping 8247 word types\n",
      "INFO - 17:49:53: PROGRESS: at sentence #209000, processed 209000 words, keeping 8272 word types\n",
      "INFO - 17:49:53: PROGRESS: at sentence #210000, processed 210000 words, keeping 8305 word types\n",
      "INFO - 17:49:53: PROGRESS: at sentence #211000, processed 211000 words, keeping 8329 word types\n",
      "INFO - 17:49:53: PROGRESS: at sentence #212000, processed 212000 words, keeping 8362 word types\n",
      "INFO - 17:49:53: PROGRESS: at sentence #213000, processed 213000 words, keeping 8391 word types\n",
      "INFO - 17:49:53: PROGRESS: at sentence #214000, processed 214000 words, keeping 8409 word types\n",
      "INFO - 17:49:53: PROGRESS: at sentence #215000, processed 215000 words, keeping 8427 word types\n",
      "INFO - 17:49:53: PROGRESS: at sentence #216000, processed 216000 words, keeping 8452 word types\n",
      "INFO - 17:49:53: PROGRESS: at sentence #217000, processed 217000 words, keeping 8475 word types\n",
      "INFO - 17:49:53: PROGRESS: at sentence #218000, processed 218000 words, keeping 8495 word types\n",
      "INFO - 17:49:53: PROGRESS: at sentence #219000, processed 219000 words, keeping 8519 word types\n",
      "INFO - 17:49:53: PROGRESS: at sentence #220000, processed 220000 words, keeping 8546 word types\n",
      "INFO - 17:49:53: PROGRESS: at sentence #221000, processed 221000 words, keeping 8570 word types\n",
      "INFO - 17:49:53: PROGRESS: at sentence #222000, processed 222000 words, keeping 8588 word types\n",
      "INFO - 17:49:53: PROGRESS: at sentence #223000, processed 223000 words, keeping 8606 word types\n",
      "INFO - 17:49:53: PROGRESS: at sentence #224000, processed 224000 words, keeping 8668 word types\n",
      "INFO - 17:49:53: PROGRESS: at sentence #225000, processed 225000 words, keeping 8740 word types\n",
      "INFO - 17:49:53: PROGRESS: at sentence #226000, processed 226000 words, keeping 8800 word types\n",
      "INFO - 17:49:53: PROGRESS: at sentence #227000, processed 227000 words, keeping 8846 word types\n",
      "INFO - 17:49:53: PROGRESS: at sentence #228000, processed 228000 words, keeping 8905 word types\n",
      "INFO - 17:49:53: PROGRESS: at sentence #229000, processed 229000 words, keeping 8944 word types\n",
      "INFO - 17:49:53: PROGRESS: at sentence #230000, processed 230000 words, keeping 9004 word types\n",
      "INFO - 17:49:53: PROGRESS: at sentence #231000, processed 231000 words, keeping 9043 word types\n",
      "INFO - 17:49:53: PROGRESS: at sentence #232000, processed 232000 words, keeping 9092 word types\n",
      "INFO - 17:49:53: PROGRESS: at sentence #233000, processed 233000 words, keeping 9148 word types\n",
      "INFO - 17:49:53: PROGRESS: at sentence #234000, processed 234000 words, keeping 9220 word types\n",
      "INFO - 17:49:53: PROGRESS: at sentence #235000, processed 235000 words, keeping 9264 word types\n",
      "INFO - 17:49:53: PROGRESS: at sentence #236000, processed 236000 words, keeping 9326 word types\n",
      "INFO - 17:49:53: PROGRESS: at sentence #237000, processed 237000 words, keeping 9391 word types\n",
      "INFO - 17:49:53: PROGRESS: at sentence #238000, processed 238000 words, keeping 9430 word types\n",
      "INFO - 17:49:53: PROGRESS: at sentence #239000, processed 239000 words, keeping 9478 word types\n",
      "INFO - 17:49:53: PROGRESS: at sentence #240000, processed 240000 words, keeping 9508 word types\n",
      "INFO - 17:49:53: PROGRESS: at sentence #241000, processed 241000 words, keeping 9527 word types\n",
      "INFO - 17:49:53: PROGRESS: at sentence #242000, processed 242000 words, keeping 9553 word types\n",
      "INFO - 17:49:53: PROGRESS: at sentence #243000, processed 243000 words, keeping 9614 word types\n",
      "INFO - 17:49:53: PROGRESS: at sentence #244000, processed 244000 words, keeping 9661 word types\n",
      "INFO - 17:49:53: PROGRESS: at sentence #245000, processed 245000 words, keeping 9701 word types\n",
      "INFO - 17:49:53: PROGRESS: at sentence #246000, processed 246000 words, keeping 9739 word types\n",
      "INFO - 17:49:53: PROGRESS: at sentence #247000, processed 247000 words, keeping 9772 word types\n",
      "INFO - 17:49:53: PROGRESS: at sentence #248000, processed 248000 words, keeping 9793 word types\n",
      "INFO - 17:49:53: PROGRESS: at sentence #249000, processed 249000 words, keeping 9879 word types\n",
      "INFO - 17:49:53: PROGRESS: at sentence #250000, processed 250000 words, keeping 9930 word types\n",
      "INFO - 17:49:53: PROGRESS: at sentence #251000, processed 251000 words, keeping 9991 word types\n",
      "INFO - 17:49:53: PROGRESS: at sentence #252000, processed 252000 words, keeping 9995 word types\n",
      "INFO - 17:49:53: PROGRESS: at sentence #253000, processed 253000 words, keeping 10045 word types\n",
      "INFO - 17:49:53: PROGRESS: at sentence #254000, processed 254000 words, keeping 10114 word types\n",
      "INFO - 17:49:53: PROGRESS: at sentence #255000, processed 255000 words, keeping 10171 word types\n",
      "INFO - 17:49:53: PROGRESS: at sentence #256000, processed 256000 words, keeping 10217 word types\n",
      "INFO - 17:49:53: PROGRESS: at sentence #257000, processed 257000 words, keeping 10250 word types\n",
      "INFO - 17:49:53: PROGRESS: at sentence #258000, processed 258000 words, keeping 10294 word types\n",
      "INFO - 17:49:53: PROGRESS: at sentence #259000, processed 259000 words, keeping 10328 word types\n",
      "INFO - 17:49:53: PROGRESS: at sentence #260000, processed 260000 words, keeping 10364 word types\n",
      "INFO - 17:49:53: PROGRESS: at sentence #261000, processed 261000 words, keeping 10390 word types\n",
      "INFO - 17:49:53: PROGRESS: at sentence #262000, processed 262000 words, keeping 10435 word types\n",
      "INFO - 17:49:53: PROGRESS: at sentence #263000, processed 263000 words, keeping 10456 word types\n",
      "INFO - 17:49:53: PROGRESS: at sentence #264000, processed 264000 words, keeping 10487 word types\n",
      "INFO - 17:49:53: PROGRESS: at sentence #265000, processed 265000 words, keeping 10507 word types\n",
      "INFO - 17:49:53: PROGRESS: at sentence #266000, processed 266000 words, keeping 10530 word types\n",
      "INFO - 17:49:53: PROGRESS: at sentence #267000, processed 267000 words, keeping 10572 word types\n",
      "INFO - 17:49:53: PROGRESS: at sentence #268000, processed 268000 words, keeping 10642 word types\n",
      "INFO - 17:49:53: PROGRESS: at sentence #269000, processed 269000 words, keeping 10713 word types\n",
      "INFO - 17:49:53: PROGRESS: at sentence #270000, processed 270000 words, keeping 10767 word types\n",
      "INFO - 17:49:53: PROGRESS: at sentence #271000, processed 271000 words, keeping 10826 word types\n",
      "INFO - 17:49:53: PROGRESS: at sentence #272000, processed 272000 words, keeping 10848 word types\n",
      "INFO - 17:49:53: PROGRESS: at sentence #273000, processed 273000 words, keeping 10937 word types\n",
      "INFO - 17:49:53: PROGRESS: at sentence #274000, processed 274000 words, keeping 10994 word types\n",
      "INFO - 17:49:53: PROGRESS: at sentence #275000, processed 275000 words, keeping 11020 word types\n",
      "INFO - 17:49:53: PROGRESS: at sentence #276000, processed 276000 words, keeping 11050 word types\n",
      "INFO - 17:49:53: PROGRESS: at sentence #277000, processed 277000 words, keeping 11079 word types\n",
      "INFO - 17:49:53: PROGRESS: at sentence #278000, processed 278000 words, keeping 11135 word types\n",
      "INFO - 17:49:53: PROGRESS: at sentence #279000, processed 279000 words, keeping 11178 word types\n",
      "INFO - 17:49:53: PROGRESS: at sentence #280000, processed 280000 words, keeping 11230 word types\n",
      "INFO - 17:49:53: PROGRESS: at sentence #281000, processed 281000 words, keeping 11280 word types\n",
      "INFO - 17:49:53: PROGRESS: at sentence #282000, processed 282000 words, keeping 11321 word types\n",
      "INFO - 17:49:53: PROGRESS: at sentence #283000, processed 283000 words, keeping 11351 word types\n",
      "INFO - 17:49:53: PROGRESS: at sentence #284000, processed 284000 words, keeping 11414 word types\n",
      "INFO - 17:49:53: PROGRESS: at sentence #285000, processed 285000 words, keeping 11478 word types\n",
      "INFO - 17:49:53: PROGRESS: at sentence #286000, processed 286000 words, keeping 11516 word types\n",
      "INFO - 17:49:53: PROGRESS: at sentence #287000, processed 287000 words, keeping 11558 word types\n",
      "INFO - 17:49:53: PROGRESS: at sentence #288000, processed 288000 words, keeping 11576 word types\n",
      "INFO - 17:49:53: PROGRESS: at sentence #289000, processed 289000 words, keeping 11745 word types\n",
      "INFO - 17:49:54: PROGRESS: at sentence #290000, processed 290000 words, keeping 11793 word types\n",
      "INFO - 17:49:54: PROGRESS: at sentence #291000, processed 291000 words, keeping 11835 word types\n",
      "INFO - 17:49:54: PROGRESS: at sentence #292000, processed 292000 words, keeping 11877 word types\n",
      "INFO - 17:49:54: PROGRESS: at sentence #293000, processed 293000 words, keeping 11910 word types\n",
      "INFO - 17:49:54: PROGRESS: at sentence #294000, processed 294000 words, keeping 11960 word types\n",
      "INFO - 17:49:54: PROGRESS: at sentence #295000, processed 295000 words, keeping 12000 word types\n",
      "INFO - 17:49:54: PROGRESS: at sentence #296000, processed 296000 words, keeping 12008 word types\n",
      "INFO - 17:49:54: PROGRESS: at sentence #297000, processed 297000 words, keeping 12040 word types\n",
      "INFO - 17:49:54: PROGRESS: at sentence #298000, processed 298000 words, keeping 12086 word types\n",
      "INFO - 17:49:54: PROGRESS: at sentence #299000, processed 299000 words, keeping 12137 word types\n",
      "INFO - 17:49:54: PROGRESS: at sentence #300000, processed 300000 words, keeping 12171 word types\n",
      "INFO - 17:49:54: PROGRESS: at sentence #301000, processed 301000 words, keeping 12211 word types\n",
      "INFO - 17:49:54: PROGRESS: at sentence #302000, processed 302000 words, keeping 12260 word types\n",
      "INFO - 17:49:54: PROGRESS: at sentence #303000, processed 303000 words, keeping 12298 word types\n",
      "INFO - 17:49:54: PROGRESS: at sentence #304000, processed 304000 words, keeping 12373 word types\n",
      "INFO - 17:49:54: PROGRESS: at sentence #305000, processed 305000 words, keeping 12403 word types\n",
      "INFO - 17:49:54: PROGRESS: at sentence #306000, processed 306000 words, keeping 12445 word types\n",
      "INFO - 17:49:54: PROGRESS: at sentence #307000, processed 307000 words, keeping 12508 word types\n",
      "INFO - 17:49:54: PROGRESS: at sentence #308000, processed 308000 words, keeping 12539 word types\n",
      "INFO - 17:49:54: PROGRESS: at sentence #309000, processed 309000 words, keeping 12557 word types\n",
      "INFO - 17:49:54: PROGRESS: at sentence #310000, processed 310000 words, keeping 12595 word types\n",
      "INFO - 17:49:54: PROGRESS: at sentence #311000, processed 311000 words, keeping 12615 word types\n",
      "INFO - 17:49:54: PROGRESS: at sentence #312000, processed 312000 words, keeping 12639 word types\n",
      "INFO - 17:49:54: PROGRESS: at sentence #313000, processed 313000 words, keeping 12680 word types\n",
      "INFO - 17:49:54: PROGRESS: at sentence #314000, processed 314000 words, keeping 12725 word types\n",
      "INFO - 17:49:54: PROGRESS: at sentence #315000, processed 315000 words, keeping 12762 word types\n",
      "INFO - 17:49:54: PROGRESS: at sentence #316000, processed 316000 words, keeping 12796 word types\n",
      "INFO - 17:49:54: PROGRESS: at sentence #317000, processed 317000 words, keeping 12816 word types\n",
      "INFO - 17:49:54: PROGRESS: at sentence #318000, processed 318000 words, keeping 12834 word types\n",
      "INFO - 17:49:54: PROGRESS: at sentence #319000, processed 319000 words, keeping 12885 word types\n",
      "INFO - 17:49:54: PROGRESS: at sentence #320000, processed 320000 words, keeping 12913 word types\n",
      "INFO - 17:49:54: PROGRESS: at sentence #321000, processed 321000 words, keeping 12937 word types\n",
      "INFO - 17:49:54: PROGRESS: at sentence #322000, processed 322000 words, keeping 12963 word types\n",
      "INFO - 17:49:54: PROGRESS: at sentence #323000, processed 323000 words, keeping 12991 word types\n",
      "INFO - 17:49:54: PROGRESS: at sentence #324000, processed 324000 words, keeping 13003 word types\n",
      "INFO - 17:49:54: PROGRESS: at sentence #325000, processed 325000 words, keeping 13056 word types\n",
      "INFO - 17:49:54: PROGRESS: at sentence #326000, processed 326000 words, keeping 13105 word types\n",
      "INFO - 17:49:54: PROGRESS: at sentence #327000, processed 327000 words, keeping 13167 word types\n",
      "INFO - 17:49:54: PROGRESS: at sentence #328000, processed 328000 words, keeping 13185 word types\n",
      "INFO - 17:49:54: PROGRESS: at sentence #329000, processed 329000 words, keeping 13196 word types\n",
      "INFO - 17:49:54: PROGRESS: at sentence #330000, processed 330000 words, keeping 13210 word types\n",
      "INFO - 17:49:54: PROGRESS: at sentence #331000, processed 331000 words, keeping 13231 word types\n",
      "INFO - 17:49:54: PROGRESS: at sentence #332000, processed 332000 words, keeping 13242 word types\n",
      "INFO - 17:49:54: PROGRESS: at sentence #333000, processed 333000 words, keeping 13258 word types\n",
      "INFO - 17:49:54: PROGRESS: at sentence #334000, processed 334000 words, keeping 13271 word types\n",
      "INFO - 17:49:54: PROGRESS: at sentence #335000, processed 335000 words, keeping 13280 word types\n",
      "INFO - 17:49:54: PROGRESS: at sentence #336000, processed 336000 words, keeping 13301 word types\n",
      "INFO - 17:49:54: PROGRESS: at sentence #337000, processed 337000 words, keeping 13311 word types\n",
      "INFO - 17:49:54: PROGRESS: at sentence #338000, processed 338000 words, keeping 13328 word types\n",
      "INFO - 17:49:54: PROGRESS: at sentence #339000, processed 339000 words, keeping 13345 word types\n",
      "INFO - 17:49:54: PROGRESS: at sentence #340000, processed 340000 words, keeping 13368 word types\n",
      "INFO - 17:49:54: PROGRESS: at sentence #341000, processed 341000 words, keeping 13399 word types\n",
      "INFO - 17:49:54: PROGRESS: at sentence #342000, processed 342000 words, keeping 13431 word types\n",
      "INFO - 17:49:54: PROGRESS: at sentence #343000, processed 343000 words, keeping 13435 word types\n",
      "INFO - 17:49:54: PROGRESS: at sentence #344000, processed 344000 words, keeping 13439 word types\n",
      "INFO - 17:49:54: PROGRESS: at sentence #345000, processed 345000 words, keeping 13460 word types\n",
      "INFO - 17:49:54: PROGRESS: at sentence #346000, processed 346000 words, keeping 13466 word types\n",
      "INFO - 17:49:54: PROGRESS: at sentence #347000, processed 347000 words, keeping 13472 word types\n",
      "INFO - 17:49:54: PROGRESS: at sentence #348000, processed 348000 words, keeping 13485 word types\n",
      "INFO - 17:49:54: PROGRESS: at sentence #349000, processed 349000 words, keeping 13520 word types\n",
      "INFO - 17:49:54: PROGRESS: at sentence #350000, processed 350000 words, keeping 13530 word types\n",
      "INFO - 17:49:54: PROGRESS: at sentence #351000, processed 351000 words, keeping 13549 word types\n",
      "INFO - 17:49:54: PROGRESS: at sentence #352000, processed 352000 words, keeping 13559 word types\n",
      "INFO - 17:49:54: PROGRESS: at sentence #353000, processed 353000 words, keeping 13578 word types\n",
      "INFO - 17:49:54: PROGRESS: at sentence #354000, processed 354000 words, keeping 13597 word types\n",
      "INFO - 17:49:54: PROGRESS: at sentence #355000, processed 355000 words, keeping 13606 word types\n",
      "INFO - 17:49:54: PROGRESS: at sentence #356000, processed 356000 words, keeping 13623 word types\n",
      "INFO - 17:49:54: PROGRESS: at sentence #357000, processed 357000 words, keeping 13624 word types\n",
      "INFO - 17:49:54: PROGRESS: at sentence #358000, processed 358000 words, keeping 13638 word types\n",
      "INFO - 17:49:54: PROGRESS: at sentence #359000, processed 359000 words, keeping 13657 word types\n",
      "INFO - 17:49:54: PROGRESS: at sentence #360000, processed 360000 words, keeping 13675 word types\n",
      "INFO - 17:49:54: PROGRESS: at sentence #361000, processed 361000 words, keeping 13718 word types\n",
      "INFO - 17:49:54: PROGRESS: at sentence #362000, processed 362000 words, keeping 13735 word types\n",
      "INFO - 17:49:54: PROGRESS: at sentence #363000, processed 363000 words, keeping 13747 word types\n",
      "INFO - 17:49:54: PROGRESS: at sentence #364000, processed 364000 words, keeping 13759 word types\n",
      "INFO - 17:49:54: PROGRESS: at sentence #365000, processed 365000 words, keeping 13768 word types\n",
      "INFO - 17:49:54: PROGRESS: at sentence #366000, processed 366000 words, keeping 13784 word types\n",
      "INFO - 17:49:54: PROGRESS: at sentence #367000, processed 367000 words, keeping 13806 word types\n",
      "INFO - 17:49:54: PROGRESS: at sentence #368000, processed 368000 words, keeping 13827 word types\n",
      "INFO - 17:49:54: PROGRESS: at sentence #369000, processed 369000 words, keeping 13839 word types\n",
      "INFO - 17:49:54: PROGRESS: at sentence #370000, processed 370000 words, keeping 13856 word types\n",
      "INFO - 17:49:54: PROGRESS: at sentence #371000, processed 371000 words, keeping 13868 word types\n",
      "INFO - 17:49:54: PROGRESS: at sentence #372000, processed 372000 words, keeping 13877 word types\n",
      "INFO - 17:49:54: PROGRESS: at sentence #373000, processed 373000 words, keeping 13921 word types\n",
      "INFO - 17:49:54: PROGRESS: at sentence #374000, processed 374000 words, keeping 13931 word types\n",
      "INFO - 17:49:54: PROGRESS: at sentence #375000, processed 375000 words, keeping 13937 word types\n",
      "INFO - 17:49:54: PROGRESS: at sentence #376000, processed 376000 words, keeping 13944 word types\n",
      "INFO - 17:49:54: PROGRESS: at sentence #377000, processed 377000 words, keeping 13953 word types\n",
      "INFO - 17:49:54: PROGRESS: at sentence #378000, processed 378000 words, keeping 13966 word types\n",
      "INFO - 17:49:54: PROGRESS: at sentence #379000, processed 379000 words, keeping 14008 word types\n",
      "INFO - 17:49:54: PROGRESS: at sentence #380000, processed 380000 words, keeping 14035 word types\n",
      "INFO - 17:49:54: PROGRESS: at sentence #381000, processed 381000 words, keeping 14060 word types\n",
      "INFO - 17:49:54: PROGRESS: at sentence #382000, processed 382000 words, keeping 14092 word types\n",
      "INFO - 17:49:54: PROGRESS: at sentence #383000, processed 383000 words, keeping 14155 word types\n",
      "INFO - 17:49:54: PROGRESS: at sentence #384000, processed 384000 words, keeping 14167 word types\n",
      "INFO - 17:49:54: PROGRESS: at sentence #385000, processed 385000 words, keeping 14184 word types\n",
      "INFO - 17:49:54: PROGRESS: at sentence #386000, processed 386000 words, keeping 14204 word types\n",
      "INFO - 17:49:54: PROGRESS: at sentence #387000, processed 387000 words, keeping 14236 word types\n",
      "INFO - 17:49:54: PROGRESS: at sentence #388000, processed 388000 words, keeping 14281 word types\n",
      "INFO - 17:49:54: PROGRESS: at sentence #389000, processed 389000 words, keeping 14300 word types\n",
      "INFO - 17:49:54: PROGRESS: at sentence #390000, processed 390000 words, keeping 14323 word types\n",
      "INFO - 17:49:54: PROGRESS: at sentence #391000, processed 391000 words, keeping 14354 word types\n",
      "INFO - 17:49:54: PROGRESS: at sentence #392000, processed 392000 words, keeping 14372 word types\n",
      "INFO - 17:49:54: PROGRESS: at sentence #393000, processed 393000 words, keeping 14399 word types\n",
      "INFO - 17:49:54: PROGRESS: at sentence #394000, processed 394000 words, keeping 14421 word types\n",
      "INFO - 17:49:54: PROGRESS: at sentence #395000, processed 395000 words, keeping 14448 word types\n",
      "INFO - 17:49:54: PROGRESS: at sentence #396000, processed 396000 words, keeping 14469 word types\n",
      "INFO - 17:49:54: PROGRESS: at sentence #397000, processed 397000 words, keeping 14481 word types\n",
      "INFO - 17:49:54: PROGRESS: at sentence #398000, processed 398000 words, keeping 14523 word types\n",
      "INFO - 17:49:54: PROGRESS: at sentence #399000, processed 399000 words, keeping 14535 word types\n",
      "INFO - 17:49:54: PROGRESS: at sentence #400000, processed 400000 words, keeping 14550 word types\n",
      "INFO - 17:49:54: PROGRESS: at sentence #401000, processed 401000 words, keeping 14567 word types\n",
      "INFO - 17:49:54: PROGRESS: at sentence #402000, processed 402000 words, keeping 14592 word types\n",
      "INFO - 17:49:54: PROGRESS: at sentence #403000, processed 403000 words, keeping 14601 word types\n",
      "INFO - 17:49:54: PROGRESS: at sentence #404000, processed 404000 words, keeping 14616 word types\n",
      "INFO - 17:49:54: PROGRESS: at sentence #405000, processed 405000 words, keeping 14630 word types\n",
      "INFO - 17:49:54: PROGRESS: at sentence #406000, processed 406000 words, keeping 14652 word types\n",
      "INFO - 17:49:54: PROGRESS: at sentence #407000, processed 407000 words, keeping 14702 word types\n",
      "INFO - 17:49:54: PROGRESS: at sentence #408000, processed 408000 words, keeping 14714 word types\n",
      "INFO - 17:49:54: PROGRESS: at sentence #409000, processed 409000 words, keeping 14724 word types\n",
      "INFO - 17:49:54: PROGRESS: at sentence #410000, processed 410000 words, keeping 14747 word types\n",
      "INFO - 17:49:54: PROGRESS: at sentence #411000, processed 411000 words, keeping 14783 word types\n",
      "INFO - 17:49:54: PROGRESS: at sentence #412000, processed 412000 words, keeping 14797 word types\n",
      "INFO - 17:49:54: PROGRESS: at sentence #413000, processed 413000 words, keeping 14840 word types\n",
      "INFO - 17:49:54: PROGRESS: at sentence #414000, processed 414000 words, keeping 14873 word types\n",
      "INFO - 17:49:54: PROGRESS: at sentence #415000, processed 415000 words, keeping 14886 word types\n",
      "INFO - 17:49:54: PROGRESS: at sentence #416000, processed 416000 words, keeping 14905 word types\n",
      "INFO - 17:49:54: PROGRESS: at sentence #417000, processed 417000 words, keeping 14932 word types\n",
      "INFO - 17:49:54: PROGRESS: at sentence #418000, processed 418000 words, keeping 14939 word types\n",
      "INFO - 17:49:54: PROGRESS: at sentence #419000, processed 419000 words, keeping 14953 word types\n",
      "INFO - 17:49:54: PROGRESS: at sentence #420000, processed 420000 words, keeping 14980 word types\n",
      "INFO - 17:49:54: PROGRESS: at sentence #421000, processed 421000 words, keeping 15007 word types\n",
      "INFO - 17:49:54: PROGRESS: at sentence #422000, processed 422000 words, keeping 15036 word types\n",
      "INFO - 17:49:54: PROGRESS: at sentence #423000, processed 423000 words, keeping 15040 word types\n",
      "INFO - 17:49:54: PROGRESS: at sentence #424000, processed 424000 words, keeping 15078 word types\n",
      "INFO - 17:49:54: PROGRESS: at sentence #425000, processed 425000 words, keeping 15094 word types\n",
      "INFO - 17:49:54: PROGRESS: at sentence #426000, processed 426000 words, keeping 15120 word types\n",
      "INFO - 17:49:54: PROGRESS: at sentence #427000, processed 427000 words, keeping 15125 word types\n",
      "INFO - 17:49:54: PROGRESS: at sentence #428000, processed 428000 words, keeping 15145 word types\n",
      "INFO - 17:49:54: PROGRESS: at sentence #429000, processed 429000 words, keeping 15199 word types\n",
      "INFO - 17:49:54: PROGRESS: at sentence #430000, processed 430000 words, keeping 15210 word types\n",
      "INFO - 17:49:54: PROGRESS: at sentence #431000, processed 431000 words, keeping 15244 word types\n",
      "INFO - 17:49:54: PROGRESS: at sentence #432000, processed 432000 words, keeping 15261 word types\n",
      "INFO - 17:49:54: PROGRESS: at sentence #433000, processed 433000 words, keeping 15277 word types\n",
      "INFO - 17:49:54: PROGRESS: at sentence #434000, processed 434000 words, keeping 15283 word types\n",
      "INFO - 17:49:54: PROGRESS: at sentence #435000, processed 435000 words, keeping 15319 word types\n",
      "INFO - 17:49:54: PROGRESS: at sentence #436000, processed 436000 words, keeping 15332 word types\n",
      "INFO - 17:49:54: PROGRESS: at sentence #437000, processed 437000 words, keeping 15337 word types\n",
      "INFO - 17:49:54: PROGRESS: at sentence #438000, processed 438000 words, keeping 15361 word types\n",
      "INFO - 17:49:54: PROGRESS: at sentence #439000, processed 439000 words, keeping 15376 word types\n",
      "INFO - 17:49:54: PROGRESS: at sentence #440000, processed 440000 words, keeping 15388 word types\n",
      "INFO - 17:49:54: PROGRESS: at sentence #441000, processed 441000 words, keeping 15407 word types\n",
      "INFO - 17:49:54: PROGRESS: at sentence #442000, processed 442000 words, keeping 15426 word types\n",
      "INFO - 17:49:54: PROGRESS: at sentence #443000, processed 443000 words, keeping 15438 word types\n",
      "INFO - 17:49:54: PROGRESS: at sentence #444000, processed 444000 words, keeping 15473 word types\n",
      "INFO - 17:49:54: PROGRESS: at sentence #445000, processed 445000 words, keeping 15488 word types\n",
      "INFO - 17:49:54: PROGRESS: at sentence #446000, processed 446000 words, keeping 15500 word types\n",
      "INFO - 17:49:54: PROGRESS: at sentence #447000, processed 447000 words, keeping 15503 word types\n",
      "INFO - 17:49:54: PROGRESS: at sentence #448000, processed 448000 words, keeping 15514 word types\n",
      "INFO - 17:49:54: PROGRESS: at sentence #449000, processed 449000 words, keeping 15521 word types\n",
      "INFO - 17:49:54: PROGRESS: at sentence #450000, processed 450000 words, keeping 15541 word types\n",
      "INFO - 17:49:54: PROGRESS: at sentence #451000, processed 451000 words, keeping 15548 word types\n",
      "INFO - 17:49:54: PROGRESS: at sentence #452000, processed 452000 words, keeping 15555 word types\n",
      "INFO - 17:49:54: PROGRESS: at sentence #453000, processed 453000 words, keeping 15563 word types\n",
      "INFO - 17:49:54: PROGRESS: at sentence #454000, processed 454000 words, keeping 15569 word types\n",
      "INFO - 17:49:54: PROGRESS: at sentence #455000, processed 455000 words, keeping 15584 word types\n",
      "INFO - 17:49:54: PROGRESS: at sentence #456000, processed 456000 words, keeping 15590 word types\n",
      "INFO - 17:49:54: PROGRESS: at sentence #457000, processed 457000 words, keeping 15606 word types\n",
      "INFO - 17:49:54: PROGRESS: at sentence #458000, processed 458000 words, keeping 15608 word types\n",
      "INFO - 17:49:54: PROGRESS: at sentence #459000, processed 459000 words, keeping 15634 word types\n",
      "INFO - 17:49:54: PROGRESS: at sentence #460000, processed 460000 words, keeping 15647 word types\n",
      "INFO - 17:49:54: PROGRESS: at sentence #461000, processed 461000 words, keeping 15672 word types\n",
      "INFO - 17:49:54: PROGRESS: at sentence #462000, processed 462000 words, keeping 15679 word types\n",
      "INFO - 17:49:54: PROGRESS: at sentence #463000, processed 463000 words, keeping 15684 word types\n",
      "INFO - 17:49:54: PROGRESS: at sentence #464000, processed 464000 words, keeping 15687 word types\n",
      "INFO - 17:49:54: PROGRESS: at sentence #465000, processed 465000 words, keeping 15693 word types\n",
      "INFO - 17:49:54: PROGRESS: at sentence #466000, processed 466000 words, keeping 15721 word types\n",
      "INFO - 17:49:54: PROGRESS: at sentence #467000, processed 467000 words, keeping 15773 word types\n",
      "INFO - 17:49:54: PROGRESS: at sentence #468000, processed 468000 words, keeping 15793 word types\n",
      "INFO - 17:49:54: PROGRESS: at sentence #469000, processed 469000 words, keeping 15798 word types\n",
      "INFO - 17:49:54: PROGRESS: at sentence #470000, processed 470000 words, keeping 15810 word types\n",
      "INFO - 17:49:54: PROGRESS: at sentence #471000, processed 471000 words, keeping 15842 word types\n",
      "INFO - 17:49:54: PROGRESS: at sentence #472000, processed 472000 words, keeping 15850 word types\n",
      "INFO - 17:49:54: PROGRESS: at sentence #473000, processed 473000 words, keeping 15860 word types\n",
      "INFO - 17:49:54: PROGRESS: at sentence #474000, processed 474000 words, keeping 15866 word types\n",
      "INFO - 17:49:54: PROGRESS: at sentence #475000, processed 475000 words, keeping 15877 word types\n",
      "INFO - 17:49:54: PROGRESS: at sentence #476000, processed 476000 words, keeping 15884 word types\n",
      "INFO - 17:49:54: PROGRESS: at sentence #477000, processed 477000 words, keeping 15904 word types\n",
      "INFO - 17:49:54: PROGRESS: at sentence #478000, processed 478000 words, keeping 15909 word types\n",
      "INFO - 17:49:54: PROGRESS: at sentence #479000, processed 479000 words, keeping 15920 word types\n",
      "INFO - 17:49:54: PROGRESS: at sentence #480000, processed 480000 words, keeping 15935 word types\n",
      "INFO - 17:49:54: PROGRESS: at sentence #481000, processed 481000 words, keeping 15956 word types\n",
      "INFO - 17:49:54: PROGRESS: at sentence #482000, processed 482000 words, keeping 15978 word types\n",
      "INFO - 17:49:54: PROGRESS: at sentence #483000, processed 483000 words, keeping 15996 word types\n",
      "INFO - 17:49:54: PROGRESS: at sentence #484000, processed 484000 words, keeping 15997 word types\n",
      "INFO - 17:49:54: PROGRESS: at sentence #485000, processed 485000 words, keeping 16005 word types\n",
      "INFO - 17:49:54: PROGRESS: at sentence #486000, processed 486000 words, keeping 16039 word types\n",
      "INFO - 17:49:54: PROGRESS: at sentence #487000, processed 487000 words, keeping 16042 word types\n",
      "INFO - 17:49:54: PROGRESS: at sentence #488000, processed 488000 words, keeping 16055 word types\n",
      "INFO - 17:49:54: PROGRESS: at sentence #489000, processed 489000 words, keeping 16060 word types\n",
      "INFO - 17:49:54: PROGRESS: at sentence #490000, processed 490000 words, keeping 16085 word types\n",
      "INFO - 17:49:54: PROGRESS: at sentence #491000, processed 491000 words, keeping 16105 word types\n",
      "INFO - 17:49:54: PROGRESS: at sentence #492000, processed 492000 words, keeping 16105 word types\n",
      "INFO - 17:49:54: PROGRESS: at sentence #493000, processed 493000 words, keeping 16120 word types\n",
      "INFO - 17:49:54: PROGRESS: at sentence #494000, processed 494000 words, keeping 16128 word types\n",
      "INFO - 17:49:54: PROGRESS: at sentence #495000, processed 495000 words, keeping 16140 word types\n",
      "INFO - 17:49:54: PROGRESS: at sentence #496000, processed 496000 words, keeping 16150 word types\n",
      "INFO - 17:49:54: PROGRESS: at sentence #497000, processed 497000 words, keeping 16173 word types\n",
      "INFO - 17:49:54: PROGRESS: at sentence #498000, processed 498000 words, keeping 16188 word types\n",
      "INFO - 17:49:54: PROGRESS: at sentence #499000, processed 499000 words, keeping 16213 word types\n",
      "INFO - 17:49:54: PROGRESS: at sentence #500000, processed 500000 words, keeping 16220 word types\n",
      "INFO - 17:49:54: PROGRESS: at sentence #501000, processed 501000 words, keeping 16244 word types\n",
      "INFO - 17:49:54: PROGRESS: at sentence #502000, processed 502000 words, keeping 16266 word types\n",
      "INFO - 17:49:54: PROGRESS: at sentence #503000, processed 503000 words, keeping 16307 word types\n",
      "INFO - 17:49:54: PROGRESS: at sentence #504000, processed 504000 words, keeping 16326 word types\n",
      "INFO - 17:49:54: PROGRESS: at sentence #505000, processed 505000 words, keeping 16346 word types\n",
      "INFO - 17:49:54: PROGRESS: at sentence #506000, processed 506000 words, keeping 16362 word types\n",
      "INFO - 17:49:54: PROGRESS: at sentence #507000, processed 507000 words, keeping 16368 word types\n",
      "INFO - 17:49:54: PROGRESS: at sentence #508000, processed 508000 words, keeping 16391 word types\n",
      "INFO - 17:49:54: PROGRESS: at sentence #509000, processed 509000 words, keeping 16415 word types\n",
      "INFO - 17:49:54: PROGRESS: at sentence #510000, processed 510000 words, keeping 16429 word types\n",
      "INFO - 17:49:54: PROGRESS: at sentence #511000, processed 511000 words, keeping 16439 word types\n",
      "INFO - 17:49:54: PROGRESS: at sentence #512000, processed 512000 words, keeping 16451 word types\n",
      "INFO - 17:49:54: PROGRESS: at sentence #513000, processed 513000 words, keeping 16470 word types\n",
      "INFO - 17:49:54: PROGRESS: at sentence #514000, processed 514000 words, keeping 16475 word types\n",
      "INFO - 17:49:54: PROGRESS: at sentence #515000, processed 515000 words, keeping 16482 word types\n",
      "INFO - 17:49:54: PROGRESS: at sentence #516000, processed 516000 words, keeping 16495 word types\n",
      "INFO - 17:49:54: PROGRESS: at sentence #517000, processed 517000 words, keeping 16501 word types\n",
      "INFO - 17:49:54: PROGRESS: at sentence #518000, processed 518000 words, keeping 16518 word types\n",
      "INFO - 17:49:54: PROGRESS: at sentence #519000, processed 519000 words, keeping 16531 word types\n",
      "INFO - 17:49:54: PROGRESS: at sentence #520000, processed 520000 words, keeping 16539 word types\n",
      "INFO - 17:49:54: PROGRESS: at sentence #521000, processed 521000 words, keeping 16547 word types\n",
      "INFO - 17:49:54: PROGRESS: at sentence #522000, processed 522000 words, keeping 16571 word types\n",
      "INFO - 17:49:54: PROGRESS: at sentence #523000, processed 523000 words, keeping 16582 word types\n",
      "INFO - 17:49:54: PROGRESS: at sentence #524000, processed 524000 words, keeping 16603 word types\n",
      "INFO - 17:49:54: PROGRESS: at sentence #525000, processed 525000 words, keeping 16623 word types\n",
      "INFO - 17:49:54: PROGRESS: at sentence #526000, processed 526000 words, keeping 16643 word types\n",
      "INFO - 17:49:54: PROGRESS: at sentence #527000, processed 527000 words, keeping 16657 word types\n",
      "INFO - 17:49:54: PROGRESS: at sentence #528000, processed 528000 words, keeping 16684 word types\n",
      "INFO - 17:49:54: PROGRESS: at sentence #529000, processed 529000 words, keeping 16708 word types\n",
      "INFO - 17:49:54: PROGRESS: at sentence #530000, processed 530000 words, keeping 16726 word types\n",
      "INFO - 17:49:54: PROGRESS: at sentence #531000, processed 531000 words, keeping 16734 word types\n",
      "INFO - 17:49:54: PROGRESS: at sentence #532000, processed 532000 words, keeping 16747 word types\n",
      "INFO - 17:49:54: PROGRESS: at sentence #533000, processed 533000 words, keeping 16762 word types\n",
      "INFO - 17:49:54: PROGRESS: at sentence #534000, processed 534000 words, keeping 16773 word types\n",
      "INFO - 17:49:54: PROGRESS: at sentence #535000, processed 535000 words, keeping 16786 word types\n",
      "INFO - 17:49:54: PROGRESS: at sentence #536000, processed 536000 words, keeping 16810 word types\n",
      "INFO - 17:49:54: PROGRESS: at sentence #537000, processed 537000 words, keeping 16823 word types\n",
      "INFO - 17:49:54: PROGRESS: at sentence #538000, processed 538000 words, keeping 16844 word types\n",
      "INFO - 17:49:54: PROGRESS: at sentence #539000, processed 539000 words, keeping 16871 word types\n",
      "INFO - 17:49:54: PROGRESS: at sentence #540000, processed 540000 words, keeping 16878 word types\n",
      "INFO - 17:49:54: PROGRESS: at sentence #541000, processed 541000 words, keeping 16886 word types\n",
      "INFO - 17:49:54: PROGRESS: at sentence #542000, processed 542000 words, keeping 16907 word types\n",
      "INFO - 17:49:54: PROGRESS: at sentence #543000, processed 543000 words, keeping 16908 word types\n",
      "INFO - 17:49:54: PROGRESS: at sentence #544000, processed 544000 words, keeping 16920 word types\n",
      "INFO - 17:49:54: PROGRESS: at sentence #545000, processed 545000 words, keeping 16944 word types\n",
      "INFO - 17:49:54: PROGRESS: at sentence #546000, processed 546000 words, keeping 16964 word types\n",
      "INFO - 17:49:54: PROGRESS: at sentence #547000, processed 547000 words, keeping 17032 word types\n",
      "INFO - 17:49:54: PROGRESS: at sentence #548000, processed 548000 words, keeping 17049 word types\n",
      "INFO - 17:49:54: PROGRESS: at sentence #549000, processed 549000 words, keeping 17057 word types\n",
      "INFO - 17:49:54: PROGRESS: at sentence #550000, processed 550000 words, keeping 17062 word types\n",
      "INFO - 17:49:54: PROGRESS: at sentence #551000, processed 551000 words, keeping 17069 word types\n",
      "INFO - 17:49:54: PROGRESS: at sentence #552000, processed 552000 words, keeping 17074 word types\n",
      "INFO - 17:49:54: PROGRESS: at sentence #553000, processed 553000 words, keeping 17081 word types\n",
      "INFO - 17:49:54: PROGRESS: at sentence #554000, processed 554000 words, keeping 17088 word types\n",
      "INFO - 17:49:54: PROGRESS: at sentence #555000, processed 555000 words, keeping 17093 word types\n",
      "INFO - 17:49:54: PROGRESS: at sentence #556000, processed 556000 words, keeping 17099 word types\n",
      "INFO - 17:49:54: PROGRESS: at sentence #557000, processed 557000 words, keeping 17110 word types\n",
      "INFO - 17:49:54: PROGRESS: at sentence #558000, processed 558000 words, keeping 17118 word types\n",
      "INFO - 17:49:54: PROGRESS: at sentence #559000, processed 559000 words, keeping 17125 word types\n",
      "INFO - 17:49:54: PROGRESS: at sentence #560000, processed 560000 words, keeping 17136 word types\n",
      "INFO - 17:49:54: PROGRESS: at sentence #561000, processed 561000 words, keeping 17151 word types\n",
      "INFO - 17:49:54: PROGRESS: at sentence #562000, processed 562000 words, keeping 17165 word types\n",
      "INFO - 17:49:54: PROGRESS: at sentence #563000, processed 563000 words, keeping 17188 word types\n",
      "INFO - 17:49:54: PROGRESS: at sentence #564000, processed 564000 words, keeping 17198 word types\n",
      "INFO - 17:49:54: PROGRESS: at sentence #565000, processed 565000 words, keeping 17204 word types\n",
      "INFO - 17:49:54: PROGRESS: at sentence #566000, processed 566000 words, keeping 17213 word types\n",
      "INFO - 17:49:54: PROGRESS: at sentence #567000, processed 567000 words, keeping 17220 word types\n",
      "INFO - 17:49:54: PROGRESS: at sentence #568000, processed 568000 words, keeping 17231 word types\n",
      "INFO - 17:49:54: PROGRESS: at sentence #569000, processed 569000 words, keeping 17239 word types\n",
      "INFO - 17:49:54: PROGRESS: at sentence #570000, processed 570000 words, keeping 17245 word types\n",
      "INFO - 17:49:54: PROGRESS: at sentence #571000, processed 571000 words, keeping 17252 word types\n",
      "INFO - 17:49:54: PROGRESS: at sentence #572000, processed 572000 words, keeping 17268 word types\n",
      "INFO - 17:49:54: PROGRESS: at sentence #573000, processed 573000 words, keeping 17283 word types\n",
      "INFO - 17:49:54: PROGRESS: at sentence #574000, processed 574000 words, keeping 17296 word types\n",
      "INFO - 17:49:54: PROGRESS: at sentence #575000, processed 575000 words, keeping 17315 word types\n",
      "INFO - 17:49:54: PROGRESS: at sentence #576000, processed 576000 words, keeping 17326 word types\n",
      "INFO - 17:49:54: PROGRESS: at sentence #577000, processed 577000 words, keeping 17340 word types\n",
      "INFO - 17:49:54: PROGRESS: at sentence #578000, processed 578000 words, keeping 17353 word types\n",
      "INFO - 17:49:54: PROGRESS: at sentence #579000, processed 579000 words, keeping 17369 word types\n",
      "INFO - 17:49:54: PROGRESS: at sentence #580000, processed 580000 words, keeping 17379 word types\n",
      "INFO - 17:49:54: PROGRESS: at sentence #581000, processed 581000 words, keeping 17385 word types\n",
      "INFO - 17:49:54: PROGRESS: at sentence #582000, processed 582000 words, keeping 17395 word types\n",
      "INFO - 17:49:54: PROGRESS: at sentence #583000, processed 583000 words, keeping 17409 word types\n",
      "INFO - 17:49:54: PROGRESS: at sentence #584000, processed 584000 words, keeping 17431 word types\n",
      "INFO - 17:49:54: PROGRESS: at sentence #585000, processed 585000 words, keeping 17442 word types\n",
      "INFO - 17:49:54: PROGRESS: at sentence #586000, processed 586000 words, keeping 17457 word types\n",
      "INFO - 17:49:54: PROGRESS: at sentence #587000, processed 587000 words, keeping 17473 word types\n",
      "INFO - 17:49:54: PROGRESS: at sentence #588000, processed 588000 words, keeping 17493 word types\n",
      "INFO - 17:49:54: PROGRESS: at sentence #589000, processed 589000 words, keeping 17499 word types\n",
      "INFO - 17:49:54: PROGRESS: at sentence #590000, processed 590000 words, keeping 17510 word types\n",
      "INFO - 17:49:54: PROGRESS: at sentence #591000, processed 591000 words, keeping 17529 word types\n",
      "INFO - 17:49:54: PROGRESS: at sentence #592000, processed 592000 words, keeping 17542 word types\n",
      "INFO - 17:49:54: PROGRESS: at sentence #593000, processed 593000 words, keeping 17551 word types\n",
      "INFO - 17:49:54: PROGRESS: at sentence #594000, processed 594000 words, keeping 17558 word types\n",
      "INFO - 17:49:54: PROGRESS: at sentence #595000, processed 595000 words, keeping 17570 word types\n",
      "INFO - 17:49:54: PROGRESS: at sentence #596000, processed 596000 words, keeping 17591 word types\n",
      "INFO - 17:49:54: PROGRESS: at sentence #597000, processed 597000 words, keeping 17597 word types\n",
      "INFO - 17:49:54: PROGRESS: at sentence #598000, processed 598000 words, keeping 17609 word types\n",
      "INFO - 17:49:54: PROGRESS: at sentence #599000, processed 599000 words, keeping 17620 word types\n",
      "INFO - 17:49:54: PROGRESS: at sentence #600000, processed 600000 words, keeping 17631 word types\n",
      "INFO - 17:49:54: PROGRESS: at sentence #601000, processed 601000 words, keeping 17648 word types\n",
      "INFO - 17:49:54: PROGRESS: at sentence #602000, processed 602000 words, keeping 17668 word types\n",
      "INFO - 17:49:54: collected 17678 word types from a corpus of 602792 raw words and 602792 sentences\n",
      "INFO - 17:49:54: Loading a fresh vocabulary\n",
      "INFO - 17:49:54: effective_min_count=1 retains 17678 unique words (100% of original 17678, drops 0)\n",
      "INFO - 17:49:54: effective_min_count=1 leaves 602792 word corpus (100% of original 602792, drops 0)\n",
      "INFO - 17:49:54: deleting the raw counts dictionary of 17678 items\n",
      "INFO - 17:49:54: sample=6e-05 downsamples 638 most-common words\n",
      "INFO - 17:49:54: downsampling leaves estimated 214334 word corpus (35.6% of prior 602792)\n",
      "INFO - 17:49:54: estimated required memory for 17678 words and 300 dimensions: 30052600 bytes\n",
      "INFO - 17:49:54: resetting layer weights\n",
      "Time to build vocab: 0.08 mins\n"
     ]
    }
   ],
   "source": [
    "t = time()\n",
    "\n",
    "w2v_model.build_vocab(ngrams_sent, progress_per=1000)\n",
    "\n",
    "print('Time to build vocab: {} mins'.format(round((time() - t) / 60, 2)))"
   ]
  },
  {
   "cell_type": "code",
   "execution_count": 368,
   "metadata": {},
   "outputs": [
    {
     "output_type": "stream",
     "name": "stderr",
     "text": [
      "INFO - 17:49:58: training model with 11 workers on 17678 vocabulary and 300 features, using sg=0 hs=0 sample=6e-05 negative=0 window=2\n",
      "INFO - 17:49:59: worker thread finished; awaiting finish of 10 more threads\n",
      "INFO - 17:49:59: worker thread finished; awaiting finish of 9 more threads\n",
      "INFO - 17:49:59: worker thread finished; awaiting finish of 8 more threads\n",
      "INFO - 17:49:59: worker thread finished; awaiting finish of 7 more threads\n",
      "INFO - 17:49:59: worker thread finished; awaiting finish of 6 more threads\n",
      "INFO - 17:49:59: worker thread finished; awaiting finish of 5 more threads\n",
      "INFO - 17:49:59: worker thread finished; awaiting finish of 4 more threads\n",
      "INFO - 17:49:59: worker thread finished; awaiting finish of 3 more threads\n",
      "INFO - 17:49:59: worker thread finished; awaiting finish of 2 more threads\n",
      "INFO - 17:49:59: worker thread finished; awaiting finish of 1 more threads\n",
      "INFO - 17:49:59: worker thread finished; awaiting finish of 0 more threads\n",
      "INFO - 17:49:59: EPOCH - 1 : training on 602792 raw words (214341 effective words) took 0.6s, 330077 effective words/s\n",
      "INFO - 17:49:59: worker thread finished; awaiting finish of 10 more threads\n",
      "INFO - 17:49:59: worker thread finished; awaiting finish of 9 more threads\n",
      "INFO - 17:49:59: worker thread finished; awaiting finish of 8 more threads\n",
      "INFO - 17:49:59: worker thread finished; awaiting finish of 7 more threads\n",
      "INFO - 17:49:59: worker thread finished; awaiting finish of 6 more threads\n",
      "INFO - 17:49:59: worker thread finished; awaiting finish of 5 more threads\n",
      "INFO - 17:49:59: worker thread finished; awaiting finish of 4 more threads\n",
      "INFO - 17:49:59: worker thread finished; awaiting finish of 3 more threads\n",
      "INFO - 17:49:59: worker thread finished; awaiting finish of 2 more threads\n",
      "INFO - 17:49:59: worker thread finished; awaiting finish of 1 more threads\n",
      "INFO - 17:49:59: worker thread finished; awaiting finish of 0 more threads\n",
      "INFO - 17:49:59: EPOCH - 2 : training on 602792 raw words (214226 effective words) took 0.7s, 325401 effective words/s\n",
      "INFO - 17:50:00: worker thread finished; awaiting finish of 10 more threads\n",
      "INFO - 17:50:00: worker thread finished; awaiting finish of 9 more threads\n",
      "INFO - 17:50:00: worker thread finished; awaiting finish of 8 more threads\n",
      "INFO - 17:50:00: worker thread finished; awaiting finish of 7 more threads\n",
      "INFO - 17:50:00: worker thread finished; awaiting finish of 6 more threads\n",
      "INFO - 17:50:00: worker thread finished; awaiting finish of 5 more threads\n",
      "INFO - 17:50:00: worker thread finished; awaiting finish of 4 more threads\n",
      "INFO - 17:50:00: worker thread finished; awaiting finish of 3 more threads\n",
      "INFO - 17:50:00: worker thread finished; awaiting finish of 2 more threads\n",
      "INFO - 17:50:00: worker thread finished; awaiting finish of 1 more threads\n",
      "INFO - 17:50:00: worker thread finished; awaiting finish of 0 more threads\n",
      "INFO - 17:50:00: EPOCH - 3 : training on 602792 raw words (214129 effective words) took 0.6s, 330068 effective words/s\n",
      "INFO - 17:50:01: worker thread finished; awaiting finish of 10 more threads\n",
      "INFO - 17:50:01: worker thread finished; awaiting finish of 9 more threads\n",
      "INFO - 17:50:01: worker thread finished; awaiting finish of 8 more threads\n",
      "INFO - 17:50:01: worker thread finished; awaiting finish of 7 more threads\n",
      "INFO - 17:50:01: worker thread finished; awaiting finish of 6 more threads\n",
      "INFO - 17:50:01: worker thread finished; awaiting finish of 5 more threads\n",
      "INFO - 17:50:01: worker thread finished; awaiting finish of 4 more threads\n",
      "INFO - 17:50:01: worker thread finished; awaiting finish of 3 more threads\n",
      "INFO - 17:50:01: worker thread finished; awaiting finish of 2 more threads\n",
      "INFO - 17:50:01: worker thread finished; awaiting finish of 1 more threads\n",
      "INFO - 17:50:01: worker thread finished; awaiting finish of 0 more threads\n",
      "INFO - 17:50:01: EPOCH - 4 : training on 602792 raw words (214294 effective words) took 0.6s, 341054 effective words/s\n",
      "INFO - 17:50:01: worker thread finished; awaiting finish of 10 more threads\n",
      "INFO - 17:50:01: worker thread finished; awaiting finish of 9 more threads\n",
      "INFO - 17:50:01: worker thread finished; awaiting finish of 8 more threads\n",
      "INFO - 17:50:01: worker thread finished; awaiting finish of 7 more threads\n",
      "INFO - 17:50:01: worker thread finished; awaiting finish of 6 more threads\n",
      "INFO - 17:50:01: worker thread finished; awaiting finish of 5 more threads\n",
      "INFO - 17:50:01: worker thread finished; awaiting finish of 4 more threads\n",
      "INFO - 17:50:01: worker thread finished; awaiting finish of 3 more threads\n",
      "INFO - 17:50:01: worker thread finished; awaiting finish of 2 more threads\n",
      "INFO - 17:50:01: worker thread finished; awaiting finish of 1 more threads\n",
      "INFO - 17:50:01: worker thread finished; awaiting finish of 0 more threads\n",
      "INFO - 17:50:01: EPOCH - 5 : training on 602792 raw words (214530 effective words) took 0.7s, 315675 effective words/s\n",
      "INFO - 17:50:02: worker thread finished; awaiting finish of 10 more threads\n",
      "INFO - 17:50:02: worker thread finished; awaiting finish of 9 more threads\n",
      "INFO - 17:50:02: worker thread finished; awaiting finish of 8 more threads\n",
      "INFO - 17:50:02: worker thread finished; awaiting finish of 7 more threads\n",
      "INFO - 17:50:02: worker thread finished; awaiting finish of 6 more threads\n",
      "INFO - 17:50:02: worker thread finished; awaiting finish of 5 more threads\n",
      "INFO - 17:50:02: worker thread finished; awaiting finish of 4 more threads\n",
      "INFO - 17:50:02: worker thread finished; awaiting finish of 3 more threads\n",
      "INFO - 17:50:02: worker thread finished; awaiting finish of 2 more threads\n",
      "INFO - 17:50:02: worker thread finished; awaiting finish of 1 more threads\n",
      "INFO - 17:50:02: worker thread finished; awaiting finish of 0 more threads\n",
      "INFO - 17:50:02: EPOCH - 6 : training on 602792 raw words (214020 effective words) took 0.6s, 330765 effective words/s\n",
      "INFO - 17:50:03: worker thread finished; awaiting finish of 10 more threads\n",
      "INFO - 17:50:03: worker thread finished; awaiting finish of 9 more threads\n",
      "INFO - 17:50:03: worker thread finished; awaiting finish of 8 more threads\n",
      "INFO - 17:50:03: worker thread finished; awaiting finish of 7 more threads\n",
      "INFO - 17:50:03: worker thread finished; awaiting finish of 6 more threads\n",
      "INFO - 17:50:03: worker thread finished; awaiting finish of 5 more threads\n",
      "INFO - 17:50:03: worker thread finished; awaiting finish of 4 more threads\n",
      "INFO - 17:50:03: worker thread finished; awaiting finish of 3 more threads\n",
      "INFO - 17:50:03: worker thread finished; awaiting finish of 2 more threads\n",
      "INFO - 17:50:03: worker thread finished; awaiting finish of 1 more threads\n",
      "INFO - 17:50:03: worker thread finished; awaiting finish of 0 more threads\n",
      "INFO - 17:50:03: EPOCH - 7 : training on 602792 raw words (214534 effective words) took 0.7s, 310055 effective words/s\n",
      "INFO - 17:50:03: worker thread finished; awaiting finish of 10 more threads\n",
      "INFO - 17:50:03: worker thread finished; awaiting finish of 9 more threads\n",
      "INFO - 17:50:03: worker thread finished; awaiting finish of 8 more threads\n",
      "INFO - 17:50:03: worker thread finished; awaiting finish of 7 more threads\n",
      "INFO - 17:50:03: worker thread finished; awaiting finish of 6 more threads\n",
      "INFO - 17:50:03: worker thread finished; awaiting finish of 5 more threads\n",
      "INFO - 17:50:03: worker thread finished; awaiting finish of 4 more threads\n",
      "INFO - 17:50:03: worker thread finished; awaiting finish of 3 more threads\n",
      "INFO - 17:50:03: worker thread finished; awaiting finish of 2 more threads\n",
      "INFO - 17:50:03: worker thread finished; awaiting finish of 1 more threads\n",
      "INFO - 17:50:03: worker thread finished; awaiting finish of 0 more threads\n",
      "INFO - 17:50:03: EPOCH - 8 : training on 602792 raw words (214165 effective words) took 0.7s, 315041 effective words/s\n",
      "INFO - 17:50:04: worker thread finished; awaiting finish of 10 more threads\n",
      "INFO - 17:50:04: worker thread finished; awaiting finish of 9 more threads\n",
      "INFO - 17:50:04: worker thread finished; awaiting finish of 8 more threads\n",
      "INFO - 17:50:04: worker thread finished; awaiting finish of 7 more threads\n",
      "INFO - 17:50:04: worker thread finished; awaiting finish of 6 more threads\n",
      "INFO - 17:50:04: worker thread finished; awaiting finish of 5 more threads\n",
      "INFO - 17:50:04: worker thread finished; awaiting finish of 4 more threads\n",
      "INFO - 17:50:04: worker thread finished; awaiting finish of 3 more threads\n",
      "INFO - 17:50:04: worker thread finished; awaiting finish of 2 more threads\n",
      "INFO - 17:50:04: worker thread finished; awaiting finish of 1 more threads\n",
      "INFO - 17:50:04: worker thread finished; awaiting finish of 0 more threads\n",
      "INFO - 17:50:04: EPOCH - 9 : training on 602792 raw words (214420 effective words) took 0.7s, 316003 effective words/s\n",
      "INFO - 17:50:05: worker thread finished; awaiting finish of 10 more threads\n",
      "INFO - 17:50:05: worker thread finished; awaiting finish of 9 more threads\n",
      "INFO - 17:50:05: worker thread finished; awaiting finish of 8 more threads\n",
      "INFO - 17:50:05: worker thread finished; awaiting finish of 7 more threads\n",
      "INFO - 17:50:05: worker thread finished; awaiting finish of 6 more threads\n",
      "INFO - 17:50:05: worker thread finished; awaiting finish of 5 more threads\n",
      "INFO - 17:50:05: worker thread finished; awaiting finish of 4 more threads\n",
      "INFO - 17:50:05: worker thread finished; awaiting finish of 3 more threads\n",
      "INFO - 17:50:05: worker thread finished; awaiting finish of 2 more threads\n",
      "INFO - 17:50:05: worker thread finished; awaiting finish of 1 more threads\n",
      "INFO - 17:50:05: worker thread finished; awaiting finish of 0 more threads\n",
      "INFO - 17:50:05: EPOCH - 10 : training on 602792 raw words (214596 effective words) took 0.7s, 305439 effective words/s\n",
      "INFO - 17:50:05: worker thread finished; awaiting finish of 10 more threads\n",
      "INFO - 17:50:05: worker thread finished; awaiting finish of 9 more threads\n",
      "INFO - 17:50:05: worker thread finished; awaiting finish of 8 more threads\n",
      "INFO - 17:50:05: worker thread finished; awaiting finish of 7 more threads\n",
      "INFO - 17:50:05: worker thread finished; awaiting finish of 6 more threads\n",
      "INFO - 17:50:05: worker thread finished; awaiting finish of 5 more threads\n",
      "INFO - 17:50:05: worker thread finished; awaiting finish of 4 more threads\n",
      "INFO - 17:50:05: worker thread finished; awaiting finish of 3 more threads\n",
      "INFO - 17:50:05: worker thread finished; awaiting finish of 2 more threads\n",
      "INFO - 17:50:05: worker thread finished; awaiting finish of 1 more threads\n",
      "INFO - 17:50:05: worker thread finished; awaiting finish of 0 more threads\n",
      "INFO - 17:50:05: EPOCH - 11 : training on 602792 raw words (214437 effective words) took 0.7s, 327564 effective words/s\n",
      "INFO - 17:50:06: worker thread finished; awaiting finish of 10 more threads\n",
      "INFO - 17:50:06: worker thread finished; awaiting finish of 9 more threads\n",
      "INFO - 17:50:06: worker thread finished; awaiting finish of 8 more threads\n",
      "INFO - 17:50:06: worker thread finished; awaiting finish of 7 more threads\n",
      "INFO - 17:50:06: worker thread finished; awaiting finish of 6 more threads\n",
      "INFO - 17:50:06: worker thread finished; awaiting finish of 5 more threads\n",
      "INFO - 17:50:06: worker thread finished; awaiting finish of 4 more threads\n",
      "INFO - 17:50:06: worker thread finished; awaiting finish of 3 more threads\n",
      "INFO - 17:50:06: worker thread finished; awaiting finish of 2 more threads\n",
      "INFO - 17:50:06: worker thread finished; awaiting finish of 1 more threads\n",
      "INFO - 17:50:06: worker thread finished; awaiting finish of 0 more threads\n",
      "INFO - 17:50:06: EPOCH - 12 : training on 602792 raw words (214526 effective words) took 0.7s, 308799 effective words/s\n",
      "INFO - 17:50:07: worker thread finished; awaiting finish of 10 more threads\n",
      "INFO - 17:50:07: worker thread finished; awaiting finish of 9 more threads\n",
      "INFO - 17:50:07: worker thread finished; awaiting finish of 8 more threads\n",
      "INFO - 17:50:07: worker thread finished; awaiting finish of 7 more threads\n",
      "INFO - 17:50:07: worker thread finished; awaiting finish of 6 more threads\n",
      "INFO - 17:50:07: worker thread finished; awaiting finish of 5 more threads\n",
      "INFO - 17:50:07: worker thread finished; awaiting finish of 4 more threads\n",
      "INFO - 17:50:07: worker thread finished; awaiting finish of 3 more threads\n",
      "INFO - 17:50:07: worker thread finished; awaiting finish of 2 more threads\n",
      "INFO - 17:50:07: worker thread finished; awaiting finish of 1 more threads\n",
      "INFO - 17:50:07: worker thread finished; awaiting finish of 0 more threads\n",
      "INFO - 17:50:07: EPOCH - 13 : training on 602792 raw words (213995 effective words) took 0.7s, 310180 effective words/s\n",
      "INFO - 17:50:08: worker thread finished; awaiting finish of 10 more threads\n",
      "INFO - 17:50:08: worker thread finished; awaiting finish of 9 more threads\n",
      "INFO - 17:50:08: worker thread finished; awaiting finish of 8 more threads\n",
      "INFO - 17:50:08: worker thread finished; awaiting finish of 7 more threads\n",
      "INFO - 17:50:08: worker thread finished; awaiting finish of 6 more threads\n",
      "INFO - 17:50:08: worker thread finished; awaiting finish of 5 more threads\n",
      "INFO - 17:50:08: worker thread finished; awaiting finish of 4 more threads\n",
      "INFO - 17:50:08: worker thread finished; awaiting finish of 3 more threads\n",
      "INFO - 17:50:08: worker thread finished; awaiting finish of 2 more threads\n",
      "INFO - 17:50:08: worker thread finished; awaiting finish of 1 more threads\n",
      "INFO - 17:50:08: worker thread finished; awaiting finish of 0 more threads\n",
      "INFO - 17:50:08: EPOCH - 14 : training on 602792 raw words (214440 effective words) took 0.7s, 299115 effective words/s\n",
      "INFO - 17:50:08: worker thread finished; awaiting finish of 10 more threads\n",
      "INFO - 17:50:08: worker thread finished; awaiting finish of 9 more threads\n",
      "INFO - 17:50:08: worker thread finished; awaiting finish of 8 more threads\n",
      "INFO - 17:50:08: worker thread finished; awaiting finish of 7 more threads\n",
      "INFO - 17:50:08: worker thread finished; awaiting finish of 6 more threads\n",
      "INFO - 17:50:08: worker thread finished; awaiting finish of 5 more threads\n",
      "INFO - 17:50:08: worker thread finished; awaiting finish of 4 more threads\n",
      "INFO - 17:50:08: worker thread finished; awaiting finish of 3 more threads\n",
      "INFO - 17:50:08: worker thread finished; awaiting finish of 2 more threads\n",
      "INFO - 17:50:08: worker thread finished; awaiting finish of 1 more threads\n",
      "INFO - 17:50:08: worker thread finished; awaiting finish of 0 more threads\n",
      "INFO - 17:50:08: EPOCH - 15 : training on 602792 raw words (213758 effective words) took 0.7s, 315929 effective words/s\n",
      "INFO - 17:50:09: worker thread finished; awaiting finish of 10 more threads\n",
      "INFO - 17:50:09: worker thread finished; awaiting finish of 9 more threads\n",
      "INFO - 17:50:09: worker thread finished; awaiting finish of 8 more threads\n",
      "INFO - 17:50:09: worker thread finished; awaiting finish of 7 more threads\n",
      "INFO - 17:50:09: worker thread finished; awaiting finish of 6 more threads\n",
      "INFO - 17:50:09: worker thread finished; awaiting finish of 5 more threads\n",
      "INFO - 17:50:09: worker thread finished; awaiting finish of 4 more threads\n",
      "INFO - 17:50:09: worker thread finished; awaiting finish of 3 more threads\n",
      "INFO - 17:50:09: worker thread finished; awaiting finish of 2 more threads\n",
      "INFO - 17:50:09: worker thread finished; awaiting finish of 1 more threads\n",
      "INFO - 17:50:09: worker thread finished; awaiting finish of 0 more threads\n",
      "INFO - 17:50:09: EPOCH - 16 : training on 602792 raw words (214350 effective words) took 0.6s, 341480 effective words/s\n",
      "INFO - 17:50:10: worker thread finished; awaiting finish of 10 more threads\n",
      "INFO - 17:50:10: worker thread finished; awaiting finish of 9 more threads\n",
      "INFO - 17:50:10: worker thread finished; awaiting finish of 8 more threads\n",
      "INFO - 17:50:10: worker thread finished; awaiting finish of 7 more threads\n",
      "INFO - 17:50:10: worker thread finished; awaiting finish of 6 more threads\n",
      "INFO - 17:50:10: worker thread finished; awaiting finish of 5 more threads\n",
      "INFO - 17:50:10: worker thread finished; awaiting finish of 4 more threads\n",
      "INFO - 17:50:10: worker thread finished; awaiting finish of 3 more threads\n",
      "INFO - 17:50:10: worker thread finished; awaiting finish of 2 more threads\n",
      "INFO - 17:50:10: worker thread finished; awaiting finish of 1 more threads\n",
      "INFO - 17:50:10: worker thread finished; awaiting finish of 0 more threads\n",
      "INFO - 17:50:10: EPOCH - 17 : training on 602792 raw words (214700 effective words) took 0.6s, 331011 effective words/s\n",
      "INFO - 17:50:10: worker thread finished; awaiting finish of 10 more threads\n",
      "INFO - 17:50:10: worker thread finished; awaiting finish of 9 more threads\n",
      "INFO - 17:50:10: worker thread finished; awaiting finish of 8 more threads\n",
      "INFO - 17:50:10: worker thread finished; awaiting finish of 7 more threads\n",
      "INFO - 17:50:10: worker thread finished; awaiting finish of 6 more threads\n",
      "INFO - 17:50:10: worker thread finished; awaiting finish of 5 more threads\n",
      "INFO - 17:50:10: worker thread finished; awaiting finish of 4 more threads\n",
      "INFO - 17:50:10: worker thread finished; awaiting finish of 3 more threads\n",
      "INFO - 17:50:10: worker thread finished; awaiting finish of 2 more threads\n",
      "INFO - 17:50:10: worker thread finished; awaiting finish of 1 more threads\n",
      "INFO - 17:50:10: worker thread finished; awaiting finish of 0 more threads\n",
      "INFO - 17:50:10: EPOCH - 18 : training on 602792 raw words (214685 effective words) took 0.7s, 307086 effective words/s\n",
      "INFO - 17:50:11: worker thread finished; awaiting finish of 10 more threads\n",
      "INFO - 17:50:11: worker thread finished; awaiting finish of 9 more threads\n",
      "INFO - 17:50:11: worker thread finished; awaiting finish of 8 more threads\n",
      "INFO - 17:50:11: worker thread finished; awaiting finish of 7 more threads\n",
      "INFO - 17:50:11: worker thread finished; awaiting finish of 6 more threads\n",
      "INFO - 17:50:11: worker thread finished; awaiting finish of 5 more threads\n",
      "INFO - 17:50:11: worker thread finished; awaiting finish of 4 more threads\n",
      "INFO - 17:50:11: worker thread finished; awaiting finish of 3 more threads\n",
      "INFO - 17:50:11: worker thread finished; awaiting finish of 2 more threads\n",
      "INFO - 17:50:11: worker thread finished; awaiting finish of 1 more threads\n",
      "INFO - 17:50:11: worker thread finished; awaiting finish of 0 more threads\n",
      "INFO - 17:50:11: EPOCH - 19 : training on 602792 raw words (214406 effective words) took 0.7s, 308652 effective words/s\n",
      "INFO - 17:50:12: worker thread finished; awaiting finish of 10 more threads\n",
      "INFO - 17:50:12: worker thread finished; awaiting finish of 9 more threads\n",
      "INFO - 17:50:12: worker thread finished; awaiting finish of 8 more threads\n",
      "INFO - 17:50:12: worker thread finished; awaiting finish of 7 more threads\n",
      "INFO - 17:50:12: worker thread finished; awaiting finish of 6 more threads\n",
      "INFO - 17:50:12: worker thread finished; awaiting finish of 5 more threads\n",
      "INFO - 17:50:12: worker thread finished; awaiting finish of 4 more threads\n",
      "INFO - 17:50:12: worker thread finished; awaiting finish of 3 more threads\n",
      "INFO - 17:50:12: worker thread finished; awaiting finish of 2 more threads\n",
      "INFO - 17:50:12: worker thread finished; awaiting finish of 1 more threads\n",
      "INFO - 17:50:12: worker thread finished; awaiting finish of 0 more threads\n",
      "INFO - 17:50:12: EPOCH - 20 : training on 602792 raw words (214213 effective words) took 0.7s, 293553 effective words/s\n",
      "INFO - 17:50:13: worker thread finished; awaiting finish of 10 more threads\n",
      "INFO - 17:50:13: worker thread finished; awaiting finish of 9 more threads\n",
      "INFO - 17:50:13: worker thread finished; awaiting finish of 8 more threads\n",
      "INFO - 17:50:13: worker thread finished; awaiting finish of 7 more threads\n",
      "INFO - 17:50:13: worker thread finished; awaiting finish of 6 more threads\n",
      "INFO - 17:50:13: worker thread finished; awaiting finish of 5 more threads\n",
      "INFO - 17:50:13: worker thread finished; awaiting finish of 4 more threads\n",
      "INFO - 17:50:13: worker thread finished; awaiting finish of 3 more threads\n",
      "INFO - 17:50:13: worker thread finished; awaiting finish of 2 more threads\n",
      "INFO - 17:50:13: worker thread finished; awaiting finish of 1 more threads\n",
      "INFO - 17:50:13: worker thread finished; awaiting finish of 0 more threads\n",
      "INFO - 17:50:13: EPOCH - 21 : training on 602792 raw words (213992 effective words) took 0.7s, 309074 effective words/s\n",
      "INFO - 17:50:13: worker thread finished; awaiting finish of 10 more threads\n",
      "INFO - 17:50:13: worker thread finished; awaiting finish of 9 more threads\n",
      "INFO - 17:50:13: worker thread finished; awaiting finish of 8 more threads\n",
      "INFO - 17:50:13: worker thread finished; awaiting finish of 7 more threads\n",
      "INFO - 17:50:13: worker thread finished; awaiting finish of 6 more threads\n",
      "INFO - 17:50:13: worker thread finished; awaiting finish of 5 more threads\n",
      "INFO - 17:50:13: worker thread finished; awaiting finish of 4 more threads\n",
      "INFO - 17:50:13: worker thread finished; awaiting finish of 3 more threads\n",
      "INFO - 17:50:13: worker thread finished; awaiting finish of 2 more threads\n",
      "INFO - 17:50:13: worker thread finished; awaiting finish of 1 more threads\n",
      "INFO - 17:50:13: worker thread finished; awaiting finish of 0 more threads\n",
      "INFO - 17:50:13: EPOCH - 22 : training on 602792 raw words (214097 effective words) took 0.7s, 321847 effective words/s\n",
      "INFO - 17:50:14: worker thread finished; awaiting finish of 10 more threads\n",
      "INFO - 17:50:14: worker thread finished; awaiting finish of 9 more threads\n",
      "INFO - 17:50:14: worker thread finished; awaiting finish of 8 more threads\n",
      "INFO - 17:50:14: worker thread finished; awaiting finish of 7 more threads\n",
      "INFO - 17:50:14: worker thread finished; awaiting finish of 6 more threads\n",
      "INFO - 17:50:14: worker thread finished; awaiting finish of 5 more threads\n",
      "INFO - 17:50:14: worker thread finished; awaiting finish of 4 more threads\n",
      "INFO - 17:50:14: worker thread finished; awaiting finish of 3 more threads\n",
      "INFO - 17:50:14: worker thread finished; awaiting finish of 2 more threads\n",
      "INFO - 17:50:14: worker thread finished; awaiting finish of 1 more threads\n",
      "INFO - 17:50:14: worker thread finished; awaiting finish of 0 more threads\n",
      "INFO - 17:50:14: EPOCH - 23 : training on 602792 raw words (214432 effective words) took 0.8s, 280563 effective words/s\n",
      "INFO - 17:50:15: worker thread finished; awaiting finish of 10 more threads\n",
      "INFO - 17:50:15: worker thread finished; awaiting finish of 9 more threads\n",
      "INFO - 17:50:15: worker thread finished; awaiting finish of 8 more threads\n",
      "INFO - 17:50:15: worker thread finished; awaiting finish of 7 more threads\n",
      "INFO - 17:50:15: worker thread finished; awaiting finish of 6 more threads\n",
      "INFO - 17:50:15: worker thread finished; awaiting finish of 5 more threads\n",
      "INFO - 17:50:15: worker thread finished; awaiting finish of 4 more threads\n",
      "INFO - 17:50:15: worker thread finished; awaiting finish of 3 more threads\n",
      "INFO - 17:50:15: worker thread finished; awaiting finish of 2 more threads\n",
      "INFO - 17:50:15: worker thread finished; awaiting finish of 1 more threads\n",
      "INFO - 17:50:15: worker thread finished; awaiting finish of 0 more threads\n",
      "INFO - 17:50:15: EPOCH - 24 : training on 602792 raw words (214826 effective words) took 0.8s, 256879 effective words/s\n",
      "INFO - 17:50:16: worker thread finished; awaiting finish of 10 more threads\n",
      "INFO - 17:50:16: worker thread finished; awaiting finish of 9 more threads\n",
      "INFO - 17:50:16: worker thread finished; awaiting finish of 8 more threads\n",
      "INFO - 17:50:16: worker thread finished; awaiting finish of 7 more threads\n",
      "INFO - 17:50:16: worker thread finished; awaiting finish of 6 more threads\n",
      "INFO - 17:50:16: worker thread finished; awaiting finish of 5 more threads\n",
      "INFO - 17:50:16: worker thread finished; awaiting finish of 4 more threads\n",
      "INFO - 17:50:16: worker thread finished; awaiting finish of 3 more threads\n",
      "INFO - 17:50:16: worker thread finished; awaiting finish of 2 more threads\n",
      "INFO - 17:50:16: worker thread finished; awaiting finish of 1 more threads\n",
      "INFO - 17:50:16: worker thread finished; awaiting finish of 0 more threads\n",
      "INFO - 17:50:16: EPOCH - 25 : training on 602792 raw words (214111 effective words) took 0.8s, 255360 effective words/s\n",
      "INFO - 17:50:17: worker thread finished; awaiting finish of 10 more threads\n",
      "INFO - 17:50:17: worker thread finished; awaiting finish of 9 more threads\n",
      "INFO - 17:50:17: worker thread finished; awaiting finish of 8 more threads\n",
      "INFO - 17:50:17: worker thread finished; awaiting finish of 7 more threads\n",
      "INFO - 17:50:17: worker thread finished; awaiting finish of 6 more threads\n",
      "INFO - 17:50:17: worker thread finished; awaiting finish of 5 more threads\n",
      "INFO - 17:50:17: worker thread finished; awaiting finish of 4 more threads\n",
      "INFO - 17:50:17: worker thread finished; awaiting finish of 3 more threads\n",
      "INFO - 17:50:17: worker thread finished; awaiting finish of 2 more threads\n",
      "INFO - 17:50:17: worker thread finished; awaiting finish of 1 more threads\n",
      "INFO - 17:50:17: worker thread finished; awaiting finish of 0 more threads\n",
      "INFO - 17:50:17: EPOCH - 26 : training on 602792 raw words (214285 effective words) took 0.8s, 284150 effective words/s\n",
      "INFO - 17:50:17: worker thread finished; awaiting finish of 10 more threads\n",
      "INFO - 17:50:17: worker thread finished; awaiting finish of 9 more threads\n",
      "INFO - 17:50:17: worker thread finished; awaiting finish of 8 more threads\n",
      "INFO - 17:50:17: worker thread finished; awaiting finish of 7 more threads\n",
      "INFO - 17:50:17: worker thread finished; awaiting finish of 6 more threads\n",
      "INFO - 17:50:17: worker thread finished; awaiting finish of 5 more threads\n",
      "INFO - 17:50:17: worker thread finished; awaiting finish of 4 more threads\n",
      "INFO - 17:50:17: worker thread finished; awaiting finish of 3 more threads\n",
      "INFO - 17:50:17: worker thread finished; awaiting finish of 2 more threads\n",
      "INFO - 17:50:17: worker thread finished; awaiting finish of 1 more threads\n",
      "INFO - 17:50:17: worker thread finished; awaiting finish of 0 more threads\n",
      "INFO - 17:50:17: EPOCH - 27 : training on 602792 raw words (214627 effective words) took 0.7s, 294587 effective words/s\n",
      "INFO - 17:50:18: worker thread finished; awaiting finish of 10 more threads\n",
      "INFO - 17:50:18: worker thread finished; awaiting finish of 9 more threads\n",
      "INFO - 17:50:18: worker thread finished; awaiting finish of 8 more threads\n",
      "INFO - 17:50:18: worker thread finished; awaiting finish of 7 more threads\n",
      "INFO - 17:50:18: worker thread finished; awaiting finish of 6 more threads\n",
      "INFO - 17:50:18: worker thread finished; awaiting finish of 5 more threads\n",
      "INFO - 17:50:18: worker thread finished; awaiting finish of 4 more threads\n",
      "INFO - 17:50:18: worker thread finished; awaiting finish of 3 more threads\n",
      "INFO - 17:50:18: worker thread finished; awaiting finish of 2 more threads\n",
      "INFO - 17:50:18: worker thread finished; awaiting finish of 1 more threads\n",
      "INFO - 17:50:18: worker thread finished; awaiting finish of 0 more threads\n",
      "INFO - 17:50:18: EPOCH - 28 : training on 602792 raw words (214433 effective words) took 0.7s, 321162 effective words/s\n",
      "INFO - 17:50:19: worker thread finished; awaiting finish of 10 more threads\n",
      "INFO - 17:50:19: worker thread finished; awaiting finish of 9 more threads\n",
      "INFO - 17:50:19: worker thread finished; awaiting finish of 8 more threads\n",
      "INFO - 17:50:19: worker thread finished; awaiting finish of 7 more threads\n",
      "INFO - 17:50:19: worker thread finished; awaiting finish of 6 more threads\n",
      "INFO - 17:50:19: worker thread finished; awaiting finish of 5 more threads\n",
      "INFO - 17:50:19: worker thread finished; awaiting finish of 4 more threads\n",
      "INFO - 17:50:19: worker thread finished; awaiting finish of 3 more threads\n",
      "INFO - 17:50:19: worker thread finished; awaiting finish of 2 more threads\n",
      "INFO - 17:50:19: worker thread finished; awaiting finish of 1 more threads\n",
      "INFO - 17:50:19: worker thread finished; awaiting finish of 0 more threads\n",
      "INFO - 17:50:19: EPOCH - 29 : training on 602792 raw words (214226 effective words) took 0.6s, 330205 effective words/s\n",
      "INFO - 17:50:19: worker thread finished; awaiting finish of 10 more threads\n",
      "INFO - 17:50:19: worker thread finished; awaiting finish of 9 more threads\n",
      "INFO - 17:50:19: worker thread finished; awaiting finish of 8 more threads\n",
      "INFO - 17:50:19: worker thread finished; awaiting finish of 7 more threads\n",
      "INFO - 17:50:19: worker thread finished; awaiting finish of 6 more threads\n",
      "INFO - 17:50:19: worker thread finished; awaiting finish of 5 more threads\n",
      "INFO - 17:50:19: worker thread finished; awaiting finish of 4 more threads\n",
      "INFO - 17:50:19: worker thread finished; awaiting finish of 3 more threads\n",
      "INFO - 17:50:19: worker thread finished; awaiting finish of 2 more threads\n",
      "INFO - 17:50:19: worker thread finished; awaiting finish of 1 more threads\n",
      "INFO - 17:50:19: worker thread finished; awaiting finish of 0 more threads\n",
      "INFO - 17:50:19: EPOCH - 30 : training on 602792 raw words (214432 effective words) took 0.7s, 292661 effective words/s\n",
      "INFO - 17:50:20: worker thread finished; awaiting finish of 10 more threads\n",
      "INFO - 17:50:20: worker thread finished; awaiting finish of 9 more threads\n",
      "INFO - 17:50:20: worker thread finished; awaiting finish of 8 more threads\n",
      "INFO - 17:50:20: worker thread finished; awaiting finish of 7 more threads\n",
      "INFO - 17:50:20: worker thread finished; awaiting finish of 6 more threads\n",
      "INFO - 17:50:20: worker thread finished; awaiting finish of 5 more threads\n",
      "INFO - 17:50:20: worker thread finished; awaiting finish of 4 more threads\n",
      "INFO - 17:50:20: worker thread finished; awaiting finish of 3 more threads\n",
      "INFO - 17:50:20: worker thread finished; awaiting finish of 2 more threads\n",
      "INFO - 17:50:20: worker thread finished; awaiting finish of 1 more threads\n",
      "INFO - 17:50:20: worker thread finished; awaiting finish of 0 more threads\n",
      "INFO - 17:50:20: EPOCH - 31 : training on 602792 raw words (214736 effective words) took 0.6s, 348000 effective words/s\n",
      "INFO - 17:50:21: worker thread finished; awaiting finish of 10 more threads\n",
      "INFO - 17:50:21: worker thread finished; awaiting finish of 9 more threads\n",
      "INFO - 17:50:21: worker thread finished; awaiting finish of 8 more threads\n",
      "INFO - 17:50:21: worker thread finished; awaiting finish of 7 more threads\n",
      "INFO - 17:50:21: worker thread finished; awaiting finish of 6 more threads\n",
      "INFO - 17:50:21: worker thread finished; awaiting finish of 5 more threads\n",
      "INFO - 17:50:21: worker thread finished; awaiting finish of 4 more threads\n",
      "INFO - 17:50:21: worker thread finished; awaiting finish of 3 more threads\n",
      "INFO - 17:50:21: worker thread finished; awaiting finish of 2 more threads\n",
      "INFO - 17:50:21: worker thread finished; awaiting finish of 1 more threads\n",
      "INFO - 17:50:21: worker thread finished; awaiting finish of 0 more threads\n",
      "INFO - 17:50:21: EPOCH - 32 : training on 602792 raw words (214403 effective words) took 0.6s, 342101 effective words/s\n",
      "INFO - 17:50:21: worker thread finished; awaiting finish of 10 more threads\n",
      "INFO - 17:50:21: worker thread finished; awaiting finish of 9 more threads\n",
      "INFO - 17:50:21: worker thread finished; awaiting finish of 8 more threads\n",
      "INFO - 17:50:21: worker thread finished; awaiting finish of 7 more threads\n",
      "INFO - 17:50:21: worker thread finished; awaiting finish of 6 more threads\n",
      "INFO - 17:50:21: worker thread finished; awaiting finish of 5 more threads\n",
      "INFO - 17:50:21: worker thread finished; awaiting finish of 4 more threads\n",
      "INFO - 17:50:21: worker thread finished; awaiting finish of 3 more threads\n",
      "INFO - 17:50:21: worker thread finished; awaiting finish of 2 more threads\n",
      "INFO - 17:50:21: worker thread finished; awaiting finish of 1 more threads\n",
      "INFO - 17:50:21: worker thread finished; awaiting finish of 0 more threads\n",
      "INFO - 17:50:21: EPOCH - 33 : training on 602792 raw words (214192 effective words) took 0.6s, 344278 effective words/s\n",
      "INFO - 17:50:22: worker thread finished; awaiting finish of 10 more threads\n",
      "INFO - 17:50:22: worker thread finished; awaiting finish of 9 more threads\n",
      "INFO - 17:50:22: worker thread finished; awaiting finish of 8 more threads\n",
      "INFO - 17:50:22: worker thread finished; awaiting finish of 7 more threads\n",
      "INFO - 17:50:22: worker thread finished; awaiting finish of 6 more threads\n",
      "INFO - 17:50:22: worker thread finished; awaiting finish of 5 more threads\n",
      "INFO - 17:50:22: worker thread finished; awaiting finish of 4 more threads\n",
      "INFO - 17:50:22: worker thread finished; awaiting finish of 3 more threads\n",
      "INFO - 17:50:22: worker thread finished; awaiting finish of 2 more threads\n",
      "INFO - 17:50:22: worker thread finished; awaiting finish of 1 more threads\n",
      "INFO - 17:50:22: worker thread finished; awaiting finish of 0 more threads\n",
      "INFO - 17:50:22: EPOCH - 34 : training on 602792 raw words (213978 effective words) took 0.6s, 347712 effective words/s\n",
      "INFO - 17:50:23: worker thread finished; awaiting finish of 10 more threads\n",
      "INFO - 17:50:23: worker thread finished; awaiting finish of 9 more threads\n",
      "INFO - 17:50:23: worker thread finished; awaiting finish of 8 more threads\n",
      "INFO - 17:50:23: worker thread finished; awaiting finish of 7 more threads\n",
      "INFO - 17:50:23: worker thread finished; awaiting finish of 6 more threads\n",
      "INFO - 17:50:23: worker thread finished; awaiting finish of 5 more threads\n",
      "INFO - 17:50:23: worker thread finished; awaiting finish of 4 more threads\n",
      "INFO - 17:50:23: worker thread finished; awaiting finish of 3 more threads\n",
      "INFO - 17:50:23: worker thread finished; awaiting finish of 2 more threads\n",
      "INFO - 17:50:23: worker thread finished; awaiting finish of 1 more threads\n",
      "INFO - 17:50:23: worker thread finished; awaiting finish of 0 more threads\n",
      "INFO - 17:50:23: EPOCH - 35 : training on 602792 raw words (214599 effective words) took 0.6s, 332438 effective words/s\n",
      "INFO - 17:50:23: worker thread finished; awaiting finish of 10 more threads\n",
      "INFO - 17:50:23: worker thread finished; awaiting finish of 9 more threads\n",
      "INFO - 17:50:23: worker thread finished; awaiting finish of 8 more threads\n",
      "INFO - 17:50:23: worker thread finished; awaiting finish of 7 more threads\n",
      "INFO - 17:50:23: worker thread finished; awaiting finish of 6 more threads\n",
      "INFO - 17:50:23: worker thread finished; awaiting finish of 5 more threads\n",
      "INFO - 17:50:23: worker thread finished; awaiting finish of 4 more threads\n",
      "INFO - 17:50:23: worker thread finished; awaiting finish of 3 more threads\n",
      "INFO - 17:50:23: worker thread finished; awaiting finish of 2 more threads\n",
      "INFO - 17:50:23: worker thread finished; awaiting finish of 1 more threads\n",
      "INFO - 17:50:23: worker thread finished; awaiting finish of 0 more threads\n",
      "INFO - 17:50:23: EPOCH - 36 : training on 602792 raw words (214233 effective words) took 0.6s, 335315 effective words/s\n",
      "INFO - 17:50:24: worker thread finished; awaiting finish of 10 more threads\n",
      "INFO - 17:50:24: worker thread finished; awaiting finish of 9 more threads\n",
      "INFO - 17:50:24: worker thread finished; awaiting finish of 8 more threads\n",
      "INFO - 17:50:24: worker thread finished; awaiting finish of 7 more threads\n",
      "INFO - 17:50:24: worker thread finished; awaiting finish of 6 more threads\n",
      "INFO - 17:50:24: worker thread finished; awaiting finish of 5 more threads\n",
      "INFO - 17:50:24: worker thread finished; awaiting finish of 4 more threads\n",
      "INFO - 17:50:24: worker thread finished; awaiting finish of 3 more threads\n",
      "INFO - 17:50:24: worker thread finished; awaiting finish of 2 more threads\n",
      "INFO - 17:50:24: worker thread finished; awaiting finish of 1 more threads\n",
      "INFO - 17:50:24: worker thread finished; awaiting finish of 0 more threads\n",
      "INFO - 17:50:24: EPOCH - 37 : training on 602792 raw words (214461 effective words) took 0.6s, 331772 effective words/s\n",
      "INFO - 17:50:25: worker thread finished; awaiting finish of 10 more threads\n",
      "INFO - 17:50:25: worker thread finished; awaiting finish of 9 more threads\n",
      "INFO - 17:50:25: worker thread finished; awaiting finish of 8 more threads\n",
      "INFO - 17:50:25: worker thread finished; awaiting finish of 7 more threads\n",
      "INFO - 17:50:25: worker thread finished; awaiting finish of 6 more threads\n",
      "INFO - 17:50:25: worker thread finished; awaiting finish of 5 more threads\n",
      "INFO - 17:50:25: worker thread finished; awaiting finish of 4 more threads\n",
      "INFO - 17:50:25: worker thread finished; awaiting finish of 3 more threads\n",
      "INFO - 17:50:25: worker thread finished; awaiting finish of 2 more threads\n",
      "INFO - 17:50:25: worker thread finished; awaiting finish of 1 more threads\n",
      "INFO - 17:50:25: worker thread finished; awaiting finish of 0 more threads\n",
      "INFO - 17:50:25: EPOCH - 38 : training on 602792 raw words (214146 effective words) took 0.6s, 344288 effective words/s\n",
      "INFO - 17:50:25: worker thread finished; awaiting finish of 10 more threads\n",
      "INFO - 17:50:25: worker thread finished; awaiting finish of 9 more threads\n",
      "INFO - 17:50:25: worker thread finished; awaiting finish of 8 more threads\n",
      "INFO - 17:50:25: worker thread finished; awaiting finish of 7 more threads\n",
      "INFO - 17:50:25: worker thread finished; awaiting finish of 6 more threads\n",
      "INFO - 17:50:25: worker thread finished; awaiting finish of 5 more threads\n",
      "INFO - 17:50:25: worker thread finished; awaiting finish of 4 more threads\n",
      "INFO - 17:50:25: worker thread finished; awaiting finish of 3 more threads\n",
      "INFO - 17:50:25: worker thread finished; awaiting finish of 2 more threads\n",
      "INFO - 17:50:25: worker thread finished; awaiting finish of 1 more threads\n",
      "INFO - 17:50:25: worker thread finished; awaiting finish of 0 more threads\n",
      "INFO - 17:50:25: EPOCH - 39 : training on 602792 raw words (213754 effective words) took 0.6s, 352210 effective words/s\n",
      "INFO - 17:50:26: worker thread finished; awaiting finish of 10 more threads\n",
      "INFO - 17:50:26: worker thread finished; awaiting finish of 9 more threads\n",
      "INFO - 17:50:26: worker thread finished; awaiting finish of 8 more threads\n",
      "INFO - 17:50:26: worker thread finished; awaiting finish of 7 more threads\n",
      "INFO - 17:50:26: worker thread finished; awaiting finish of 6 more threads\n",
      "INFO - 17:50:26: worker thread finished; awaiting finish of 5 more threads\n",
      "INFO - 17:50:26: worker thread finished; awaiting finish of 4 more threads\n",
      "INFO - 17:50:26: worker thread finished; awaiting finish of 3 more threads\n",
      "INFO - 17:50:26: worker thread finished; awaiting finish of 2 more threads\n",
      "INFO - 17:50:26: worker thread finished; awaiting finish of 1 more threads\n",
      "INFO - 17:50:26: worker thread finished; awaiting finish of 0 more threads\n",
      "INFO - 17:50:26: EPOCH - 40 : training on 602792 raw words (214280 effective words) took 0.7s, 303053 effective words/s\n",
      "INFO - 17:50:27: worker thread finished; awaiting finish of 10 more threads\n",
      "INFO - 17:50:27: worker thread finished; awaiting finish of 9 more threads\n",
      "INFO - 17:50:27: worker thread finished; awaiting finish of 8 more threads\n",
      "INFO - 17:50:27: worker thread finished; awaiting finish of 7 more threads\n",
      "INFO - 17:50:27: worker thread finished; awaiting finish of 6 more threads\n",
      "INFO - 17:50:27: worker thread finished; awaiting finish of 5 more threads\n",
      "INFO - 17:50:27: worker thread finished; awaiting finish of 4 more threads\n",
      "INFO - 17:50:27: worker thread finished; awaiting finish of 3 more threads\n",
      "INFO - 17:50:27: worker thread finished; awaiting finish of 2 more threads\n",
      "INFO - 17:50:27: worker thread finished; awaiting finish of 1 more threads\n",
      "INFO - 17:50:27: worker thread finished; awaiting finish of 0 more threads\n",
      "INFO - 17:50:27: EPOCH - 41 : training on 602792 raw words (214676 effective words) took 0.6s, 336130 effective words/s\n",
      "INFO - 17:50:27: worker thread finished; awaiting finish of 10 more threads\n",
      "INFO - 17:50:27: worker thread finished; awaiting finish of 9 more threads\n",
      "INFO - 17:50:27: worker thread finished; awaiting finish of 8 more threads\n",
      "INFO - 17:50:27: worker thread finished; awaiting finish of 7 more threads\n",
      "INFO - 17:50:27: worker thread finished; awaiting finish of 6 more threads\n",
      "INFO - 17:50:27: worker thread finished; awaiting finish of 5 more threads\n",
      "INFO - 17:50:27: worker thread finished; awaiting finish of 4 more threads\n",
      "INFO - 17:50:27: worker thread finished; awaiting finish of 3 more threads\n",
      "INFO - 17:50:27: worker thread finished; awaiting finish of 2 more threads\n",
      "INFO - 17:50:27: worker thread finished; awaiting finish of 1 more threads\n",
      "INFO - 17:50:27: worker thread finished; awaiting finish of 0 more threads\n",
      "INFO - 17:50:27: EPOCH - 42 : training on 602792 raw words (213847 effective words) took 0.6s, 348164 effective words/s\n",
      "INFO - 17:50:28: worker thread finished; awaiting finish of 10 more threads\n",
      "INFO - 17:50:28: worker thread finished; awaiting finish of 9 more threads\n",
      "INFO - 17:50:28: worker thread finished; awaiting finish of 8 more threads\n",
      "INFO - 17:50:28: worker thread finished; awaiting finish of 7 more threads\n",
      "INFO - 17:50:28: worker thread finished; awaiting finish of 6 more threads\n",
      "INFO - 17:50:28: worker thread finished; awaiting finish of 5 more threads\n",
      "INFO - 17:50:28: worker thread finished; awaiting finish of 4 more threads\n",
      "INFO - 17:50:28: worker thread finished; awaiting finish of 3 more threads\n",
      "INFO - 17:50:28: worker thread finished; awaiting finish of 2 more threads\n",
      "INFO - 17:50:28: worker thread finished; awaiting finish of 1 more threads\n",
      "INFO - 17:50:28: worker thread finished; awaiting finish of 0 more threads\n",
      "INFO - 17:50:28: EPOCH - 43 : training on 602792 raw words (214417 effective words) took 0.6s, 348882 effective words/s\n",
      "INFO - 17:50:29: worker thread finished; awaiting finish of 10 more threads\n",
      "INFO - 17:50:29: worker thread finished; awaiting finish of 9 more threads\n",
      "INFO - 17:50:29: worker thread finished; awaiting finish of 8 more threads\n",
      "INFO - 17:50:29: worker thread finished; awaiting finish of 7 more threads\n",
      "INFO - 17:50:29: worker thread finished; awaiting finish of 6 more threads\n",
      "INFO - 17:50:29: worker thread finished; awaiting finish of 5 more threads\n",
      "INFO - 17:50:29: worker thread finished; awaiting finish of 4 more threads\n",
      "INFO - 17:50:29: worker thread finished; awaiting finish of 3 more threads\n",
      "INFO - 17:50:29: worker thread finished; awaiting finish of 2 more threads\n",
      "INFO - 17:50:29: worker thread finished; awaiting finish of 1 more threads\n",
      "INFO - 17:50:29: worker thread finished; awaiting finish of 0 more threads\n",
      "INFO - 17:50:29: EPOCH - 44 : training on 602792 raw words (213876 effective words) took 0.6s, 331656 effective words/s\n",
      "INFO - 17:50:29: worker thread finished; awaiting finish of 10 more threads\n",
      "INFO - 17:50:29: worker thread finished; awaiting finish of 9 more threads\n",
      "INFO - 17:50:29: worker thread finished; awaiting finish of 8 more threads\n",
      "INFO - 17:50:29: worker thread finished; awaiting finish of 7 more threads\n",
      "INFO - 17:50:29: worker thread finished; awaiting finish of 6 more threads\n",
      "INFO - 17:50:29: worker thread finished; awaiting finish of 5 more threads\n",
      "INFO - 17:50:29: worker thread finished; awaiting finish of 4 more threads\n",
      "INFO - 17:50:29: worker thread finished; awaiting finish of 3 more threads\n",
      "INFO - 17:50:29: worker thread finished; awaiting finish of 2 more threads\n",
      "INFO - 17:50:29: worker thread finished; awaiting finish of 1 more threads\n",
      "INFO - 17:50:29: worker thread finished; awaiting finish of 0 more threads\n",
      "INFO - 17:50:29: EPOCH - 45 : training on 602792 raw words (214059 effective words) took 0.6s, 332025 effective words/s\n",
      "INFO - 17:50:30: worker thread finished; awaiting finish of 10 more threads\n",
      "INFO - 17:50:30: worker thread finished; awaiting finish of 9 more threads\n",
      "INFO - 17:50:30: worker thread finished; awaiting finish of 8 more threads\n",
      "INFO - 17:50:30: worker thread finished; awaiting finish of 7 more threads\n",
      "INFO - 17:50:30: worker thread finished; awaiting finish of 6 more threads\n",
      "INFO - 17:50:30: worker thread finished; awaiting finish of 5 more threads\n",
      "INFO - 17:50:30: worker thread finished; awaiting finish of 4 more threads\n",
      "INFO - 17:50:30: worker thread finished; awaiting finish of 3 more threads\n",
      "INFO - 17:50:30: worker thread finished; awaiting finish of 2 more threads\n",
      "INFO - 17:50:30: worker thread finished; awaiting finish of 1 more threads\n",
      "INFO - 17:50:30: worker thread finished; awaiting finish of 0 more threads\n",
      "INFO - 17:50:30: EPOCH - 46 : training on 602792 raw words (215023 effective words) took 0.6s, 342081 effective words/s\n",
      "INFO - 17:50:31: worker thread finished; awaiting finish of 10 more threads\n",
      "INFO - 17:50:31: worker thread finished; awaiting finish of 9 more threads\n",
      "INFO - 17:50:31: worker thread finished; awaiting finish of 8 more threads\n",
      "INFO - 17:50:31: worker thread finished; awaiting finish of 7 more threads\n",
      "INFO - 17:50:31: worker thread finished; awaiting finish of 6 more threads\n",
      "INFO - 17:50:31: worker thread finished; awaiting finish of 5 more threads\n",
      "INFO - 17:50:31: worker thread finished; awaiting finish of 4 more threads\n",
      "INFO - 17:50:31: worker thread finished; awaiting finish of 3 more threads\n",
      "INFO - 17:50:31: worker thread finished; awaiting finish of 2 more threads\n",
      "INFO - 17:50:31: worker thread finished; awaiting finish of 1 more threads\n",
      "INFO - 17:50:31: worker thread finished; awaiting finish of 0 more threads\n",
      "INFO - 17:50:31: EPOCH - 47 : training on 602792 raw words (214661 effective words) took 0.6s, 347304 effective words/s\n",
      "INFO - 17:50:31: worker thread finished; awaiting finish of 10 more threads\n",
      "INFO - 17:50:31: worker thread finished; awaiting finish of 9 more threads\n",
      "INFO - 17:50:31: worker thread finished; awaiting finish of 8 more threads\n",
      "INFO - 17:50:31: worker thread finished; awaiting finish of 7 more threads\n",
      "INFO - 17:50:31: worker thread finished; awaiting finish of 6 more threads\n",
      "INFO - 17:50:31: worker thread finished; awaiting finish of 5 more threads\n",
      "INFO - 17:50:31: worker thread finished; awaiting finish of 4 more threads\n",
      "INFO - 17:50:31: worker thread finished; awaiting finish of 3 more threads\n",
      "INFO - 17:50:31: worker thread finished; awaiting finish of 2 more threads\n",
      "INFO - 17:50:31: worker thread finished; awaiting finish of 1 more threads\n",
      "INFO - 17:50:31: worker thread finished; awaiting finish of 0 more threads\n",
      "INFO - 17:50:31: EPOCH - 48 : training on 602792 raw words (214916 effective words) took 0.7s, 296071 effective words/s\n",
      "INFO - 17:50:32: worker thread finished; awaiting finish of 10 more threads\n",
      "INFO - 17:50:32: worker thread finished; awaiting finish of 9 more threads\n",
      "INFO - 17:50:32: worker thread finished; awaiting finish of 8 more threads\n",
      "INFO - 17:50:32: worker thread finished; awaiting finish of 7 more threads\n",
      "INFO - 17:50:32: worker thread finished; awaiting finish of 6 more threads\n",
      "INFO - 17:50:32: worker thread finished; awaiting finish of 5 more threads\n",
      "INFO - 17:50:32: worker thread finished; awaiting finish of 4 more threads\n",
      "INFO - 17:50:32: worker thread finished; awaiting finish of 3 more threads\n",
      "INFO - 17:50:32: worker thread finished; awaiting finish of 2 more threads\n",
      "INFO - 17:50:32: worker thread finished; awaiting finish of 1 more threads\n",
      "INFO - 17:50:32: worker thread finished; awaiting finish of 0 more threads\n",
      "INFO - 17:50:32: EPOCH - 49 : training on 602792 raw words (213735 effective words) took 0.6s, 342514 effective words/s\n",
      "INFO - 17:50:33: worker thread finished; awaiting finish of 10 more threads\n",
      "INFO - 17:50:33: worker thread finished; awaiting finish of 9 more threads\n",
      "INFO - 17:50:33: worker thread finished; awaiting finish of 8 more threads\n",
      "INFO - 17:50:33: worker thread finished; awaiting finish of 7 more threads\n",
      "INFO - 17:50:33: worker thread finished; awaiting finish of 6 more threads\n",
      "INFO - 17:50:33: worker thread finished; awaiting finish of 5 more threads\n",
      "INFO - 17:50:33: worker thread finished; awaiting finish of 4 more threads\n",
      "INFO - 17:50:33: worker thread finished; awaiting finish of 3 more threads\n",
      "INFO - 17:50:33: worker thread finished; awaiting finish of 2 more threads\n",
      "INFO - 17:50:33: worker thread finished; awaiting finish of 1 more threads\n",
      "INFO - 17:50:33: worker thread finished; awaiting finish of 0 more threads\n",
      "INFO - 17:50:33: EPOCH - 50 : training on 602792 raw words (214259 effective words) took 0.6s, 341081 effective words/s\n",
      "INFO - 17:50:33: training on a 30139600 raw words (10716477 effective words) took 34.9s, 307109 effective words/s\n",
      "Time to train the model: 0.66 mins\n"
     ]
    }
   ],
   "source": [
    "phrasest = time()\n",
    "\n",
    "w2v_model.train(ngrams_sent, total_examples=w2v_model.corpus_count, epochs=50, report_delay=1)\n",
    "\n",
    "print('Time to train the model: {} mins'.format(round((time() - t) / 60, 2)))"
   ]
  },
  {
   "cell_type": "code",
   "execution_count": 369,
   "metadata": {},
   "outputs": [
    {
     "output_type": "stream",
     "name": "stderr",
     "text": [
      "INFO - 17:50:33: precomputing L2-norms of word weight vectors\n"
     ]
    },
    {
     "output_type": "execute_result",
     "data": {
      "text/plain": [
       "[('hangers', 0.24647101759910583),\n",
       " ('meon', 0.24188756942749023),\n",
       " ('tellin', 0.2213885486125946),\n",
       " ('amas', 0.21655596792697906),\n",
       " ('woman', 0.2043018341064453),\n",
       " ('introduces', 0.20365317165851593),\n",
       " ('names', 0.20222358405590057),\n",
       " ('television', 0.20033210515975952),\n",
       " ('coochie', 0.19856244325637817),\n",
       " ('chatter', 0.19513769447803497)]"
      ]
     },
     "metadata": {},
     "execution_count": 369
    }
   ],
   "source": [
    "w2v_model.most_similar('bird')"
   ]
  },
  {
   "cell_type": "code",
   "execution_count": 370,
   "metadata": {},
   "outputs": [
    {
     "output_type": "execute_result",
     "data": {
      "text/plain": [
       "300"
      ]
     },
     "metadata": {},
     "execution_count": 370
    }
   ],
   "source": [
    "w2v_model.vector_size"
   ]
  },
  {
   "cell_type": "code",
   "execution_count": 29,
   "metadata": {},
   "outputs": [
    {
     "output_type": "stream",
     "name": "stderr",
     "text": [
      "INFO - 18:22:47: loading Word2Vec object from fifteenKlyricswv_withstopwords.model\n",
      "INFO - 18:22:47: loading wv recursively from fifteenKlyricswv_withstopwords.model.wv.* with mmap=None\n",
      "INFO - 18:22:47: setting ignored attribute vectors_norm to None\n",
      "INFO - 18:22:47: loading vocabulary recursively from fifteenKlyricswv_withstopwords.model.vocabulary.* with mmap=None\n",
      "INFO - 18:22:47: loading trainables recursively from fifteenKlyricswv_withstopwords.model.trainables.* with mmap=None\n",
      "INFO - 18:22:47: setting ignored attribute cum_table to None\n",
      "INFO - 18:22:47: loaded fifteenKlyricswv_withstopwords.model\n"
     ]
    }
   ],
   "source": [
    "# w2v_model.save(\"fifteenKlyricswv_withstopwords.model\")\n",
    "w2v_model = Word2Vec.load(\"fifteenKlyricswv_withstopwords.model\")"
   ]
  },
  {
   "cell_type": "code",
   "execution_count": 377,
   "metadata": {},
   "outputs": [
    {
     "output_type": "stream",
     "name": "stderr",
     "text": [
      "INFO - 17:52:18: saving Word2VecKeyedVectors object under fifteenklyricsvocab_withstopwords.kv, separately None\n",
      "INFO - 17:52:18: not storing attribute vectors_norm\n",
      "INFO - 17:52:18: saved fifteenklyricsvocab_withstopwords.kv\n"
     ]
    }
   ],
   "source": [
    "# w2v_model.wv.save('fifteenklyricsvocab_withstopwords.kv')"
   ]
  },
  {
   "cell_type": "code",
   "execution_count": 30,
   "metadata": {},
   "outputs": [],
   "source": [
    "# Pytorch\n",
    "import torch.nn as nn\n",
    "import torch.nn.functional as f\n",
    "import torch\n",
    "from torch.utils.data import Dataset, DataLoader\n",
    "from torch.nn.utils.rnn import pad_sequence, pack_padded_sequence, pad_packed_sequence\n",
    "from sklearn.model_selection import train_test_split"
   ]
  },
  {
   "cell_type": "code",
   "execution_count": 31,
   "metadata": {},
   "outputs": [
    {
     "output_type": "stream",
     "name": "stdout",
     "text": [
      "<class 'pandas.core.frame.DataFrame'>\nInt64Index: 2080 entries, 12869 to 7605\nData columns (total 5 columns):\n #   Column         Non-Null Count  Dtype \n---  ------         --------------  ----- \n 0   artist         2080 non-null   object\n 1   song_name      2080 non-null   object\n 2   closest_genre  2080 non-null   object\n 3   lyric          2080 non-null   object\n 4   length_lyric   2080 non-null   int64 \ndtypes: int64(1), object(4)\nmemory usage: 97.5+ KB\n"
     ]
    }
   ],
   "source": [
    "cleaned_lyrics.info()"
   ]
  },
  {
   "cell_type": "code",
   "execution_count": 33,
   "metadata": {},
   "outputs": [
    {
     "output_type": "execute_result",
     "data": {
      "text/plain": [
       "torch.Size([17678, 300])"
      ]
     },
     "metadata": {},
     "execution_count": 33
    }
   ],
   "source": [
    "embedding_matrix = torch.FloatTensor(w2v_model2.wv.vectors)\n",
    "embedding_matrix.shape"
   ]
  },
  {
   "cell_type": "code",
   "execution_count": 34,
   "metadata": {},
   "outputs": [],
   "source": [
    "word2idx2 = {}\n",
    "for word in w2v_model.wv.index2word:\n",
    "    word2idx2[word] = w2v_model2.wv.vocab[word].index"
   ]
  },
  {
   "cell_type": "code",
   "execution_count": 35,
   "metadata": {},
   "outputs": [
    {
     "output_type": "execute_result",
     "data": {
      "text/plain": [
       "17678"
      ]
     },
     "metadata": {},
     "execution_count": 35
    }
   ],
   "source": [
    "len(w2v_model.wv.vocab)"
   ]
  },
  {
   "cell_type": "code",
   "execution_count": 36,
   "metadata": {},
   "outputs": [
    {
     "output_type": "execute_result",
     "data": {
      "text/plain": [
       "17678"
      ]
     },
     "metadata": {},
     "execution_count": 36
    }
   ],
   "source": [
    "len(word2idx)"
   ]
  },
  {
   "cell_type": "code",
   "execution_count": 37,
   "metadata": {},
   "outputs": [],
   "source": [
    "Xs = cleaned_lyrics['lyric']\n",
    "y = cleaned_lyrics['closest_genre']"
   ]
  },
  {
   "cell_type": "code",
   "execution_count": 38,
   "metadata": {},
   "outputs": [
    {
     "output_type": "execute_result",
     "data": {
      "text/plain": [
       "12869    All I can ever be to you is a darkness that we...\n",
       "9240     Psychedelic shack, that's where it's at\\nPsych...\n",
       "3509     The gypsy woman told my mother\\nBefore I was b...\n",
       "11680    Out of the ruins\\nout from the wreckage\\n\\nCan...\n",
       "2221     I\\nDennis: Can turn a gray sky blue.\\nMelvin: ...\n",
       "                               ...                        \n",
       "14869    She struts into the room\\nWell I don't know he...\n",
       "868      Deep down Louisiana close to New Orleans,\\nWay...\n",
       "10432    Oh-woah-yay-yay\\nI love you more than I can sa...\n",
       "6867     This name I got we all agreed\\nSee could stop ...\n",
       "7605     ''{spoken} Oh my God! What a fabulous room! Ar...\n",
       "Name: lyric, Length: 2080, dtype: object"
      ]
     },
     "metadata": {},
     "execution_count": 38
    }
   ],
   "source": [
    "Xs"
   ]
  },
  {
   "cell_type": "code",
   "execution_count": 39,
   "metadata": {},
   "outputs": [
    {
     "output_type": "execute_result",
     "data": {
      "text/plain": [
       "17678"
      ]
     },
     "metadata": {},
     "execution_count": 39
    }
   ],
   "source": [
    "len(word2idx2)"
   ]
  },
  {
   "cell_type": "code",
   "execution_count": 40,
   "metadata": {},
   "outputs": [
    {
     "output_type": "execute_result",
     "data": {
      "text/plain": [
       "10"
      ]
     },
     "metadata": {},
     "execution_count": 40
    }
   ],
   "source": [
    "word2idx.get('PAD', 10)"
   ]
  },
  {
   "cell_type": "code",
   "execution_count": 41,
   "metadata": {},
   "outputs": [
    {
     "output_type": "execute_result",
     "data": {
      "text/plain": [
       "17676"
      ]
     },
     "metadata": {},
     "execution_count": 41
    }
   ],
   "source": [
    "word2idx['paddingkosong']"
   ]
  },
  {
   "cell_type": "code",
   "execution_count": 42,
   "metadata": {},
   "outputs": [
    {
     "output_type": "execute_result",
     "data": {
      "text/plain": [
       "17677"
      ]
     },
     "metadata": {},
     "execution_count": 42
    }
   ],
   "source": [
    "word2idx['tidakdiketahui']"
   ]
  },
  {
   "cell_type": "code",
   "execution_count": 43,
   "metadata": {},
   "outputs": [],
   "source": [
    "def sentence_encoder(text, vocab2index):\n",
    "    tokens = text.lower().split()\n",
    "    # Unknown = 9999\n",
    "    # Padding = 9998\n",
    "    temp = np.full(len(vocab2index), vocab2index['paddingkosong'])\n",
    "    sentencoded = np.array([vocab2index.get(word, vocab2index['tidakdiketahui']) for word in tokens])\n",
    "    length = len(sentencoded)\n",
    "    temp[:length] = sentencoded\n",
    "    return temp"
   ]
  },
  {
   "cell_type": "code",
   "execution_count": 44,
   "metadata": {},
   "outputs": [
    {
     "output_type": "execute_result",
     "data": {
      "text/plain": [
       "array([17677,     5,  3613, ..., 17676, 17676, 17676])"
      ]
     },
     "metadata": {},
     "execution_count": 44
    }
   ],
   "source": [
    "sentence_encoder(Xs[0], word2idx)"
   ]
  },
  {
   "cell_type": "code",
   "execution_count": 45,
   "metadata": {},
   "outputs": [],
   "source": [
    "X = Xs.apply(lambda x: sentence_encoder(x, word2idx))\n",
    "X = X.to_numpy()"
   ]
  },
  {
   "cell_type": "code",
   "execution_count": 46,
   "metadata": {},
   "outputs": [],
   "source": [
    "TEST_SIZE = 0.3\n",
    "X_train, X_test, y_train, y_test = train_test_split(X, y.to_numpy(), test_size=TEST_SIZE, random_state=RANDOM_SEED)\n",
    "_, X_val, _, y_val = train_test_split(X_train, y_train, test_size=TEST_SIZE, random_state=RANDOM_SEED)"
   ]
  },
  {
   "cell_type": "code",
   "execution_count": 47,
   "metadata": {},
   "outputs": [
    {
     "output_type": "stream",
     "name": "stdout",
     "text": [
      "array(['Blues', 'Country', 'Electronic', 'Folk', 'Hip Hop', 'Jazz',\n       'Metal', 'Pop', 'Punk', 'Rock'], dtype=object)\n"
     ]
    }
   ],
   "source": [
    "classes = cleaned_lyrics.closest_genre.unique()\n",
    "pp.pprint(classes)"
   ]
  },
  {
   "cell_type": "code",
   "execution_count": 49,
   "metadata": {},
   "outputs": [],
   "source": [
    "train_on_gpu = torch.cuda.is_available()\n",
    "lstm_dict = {\n",
    "    'batch_size':24,\n",
    "    'hidden_dim': embedding_matrix.shape[1],\n",
    "    'lstm_layers':3,\n",
    "    'input_size':embedding_matrix.shape[0],\n",
    "    'padding_idx': w2v_model2.wv.vocab['paddingkosong'].index,\n",
    "}\n",
    "lstm_args = namedtuple('lstm_args', lstm_dict.keys())(**lstm_dict)\n"
   ]
  },
  {
   "cell_type": "code",
   "execution_count": 50,
   "metadata": {},
   "outputs": [
    {
     "output_type": "execute_result",
     "data": {
      "text/plain": [
       "torch.Size([17678, 300])"
      ]
     },
     "metadata": {},
     "execution_count": 50
    }
   ],
   "source": [
    "embedding_matrix.shape"
   ]
  },
  {
   "cell_type": "code",
   "execution_count": 51,
   "metadata": {},
   "outputs": [],
   "source": [
    "# Simple LSTM Model\n",
    "# Input size = vocab size = num_embeddings\n",
    "# hidden dim = embedding_dim = \n",
    "class Simple_LSTM(nn.Module):\n",
    "\tdef __init__(self, args):\n",
    "\t\tsuper(Simple_LSTM, self).__init__()\n",
    "\t\t\n",
    "\t\t# Hyperparameters\n",
    "\t\tself.batch_size = args.batch_size\n",
    "\t\tself.hidden_dim = args.hidden_dim\n",
    "\t\tself.LSTM_layers = args.lstm_layers\n",
    "\t\tself.input_size = args.input_size\n",
    "\t\t\n",
    "\t\tself.dropout = nn.Dropout(0.5)\n",
    "\t\t# self.embedding = nn.Embedding(self.input_size, self.hidden_dim, padding_idx=0)\n",
    "\t\tself.embedding = nn.Embedding.from_pretrained(embedding_matrix.cuda(), padding_idx=args.padding_idx, freeze=True)\n",
    "\t\tself.lstm = nn.LSTM(input_size=self.hidden_dim, hidden_size=self.hidden_dim, num_layers=self.LSTM_layers, batch_first=True)\n",
    "\t\tself.fc1 = nn.Linear(in_features=self.hidden_dim, out_features=self.hidden_dim*2)\n",
    "\t\tself.fc2 = nn.Linear(self.hidden_dim*2, 10)\n",
    "\t\t\n",
    "\tdef forward(self, x):\n",
    "\t\t\n",
    "\t\t# Hidden and cell state definion\n",
    "\t\th = torch.zeros((self.LSTM_layers, x.size(0), self.hidden_dim)).cuda()\n",
    "\t\tc = torch.zeros((self.LSTM_layers, x.size(0), self.hidden_dim)).cuda()\n",
    "\t\t\n",
    "\t\t# Initialization fo hidden and cell states\n",
    "\t\ttorch.nn.init.xavier_normal_(h)\n",
    "\t\ttorch.nn.init.xavier_normal_(c)\n",
    "\n",
    "\t\t# Each sequence \"x\" is passed through an embedding layer\n",
    "\t\tout = self.embedding(x)\n",
    "\t\t# Feed LSTMs\n",
    "\t\tout, (hidden, cell) = self.lstm(out, (h,c))\n",
    "\t\tout = self.dropout(out)\n",
    "\t\t# The last hidden state is taken\n",
    "\t\tout = torch.relu_(self.fc1(out[:,-1,:]))\n",
    "\t\tout = self.dropout(out)\n",
    "\t\tout = torch.softmax(self.fc2(out))\n",
    "\n",
    "\t\treturn out"
   ]
  },
  {
   "cell_type": "code",
   "execution_count": 52,
   "metadata": {},
   "outputs": [],
   "source": [
    "class DatasetMaper(Dataset):\n",
    "\t'''\n",
    "\tHandles batches of dataset\n",
    "\t'''\n",
    "  \n",
    "\tdef __init__(self, x, y):\n",
    "\t\tself.x = x\n",
    "\t\tself.y = y\n",
    "\t\t\n",
    "\tdef __len__(self):\n",
    "\t\treturn len(self.x)\n",
    "\t\t\n",
    "\tdef __getitem__(self, idx):\n",
    "\t\treturn self.x[idx], self.y[idx]\n",
    "\n",
    "training_set = DatasetMaper(X_train, y_train)\n",
    "validation_set = DatasetMaper(X_val, y_val)\n",
    "test_set = DatasetMaper(X_test, y_test)\n",
    "\t\t\n",
    "loader_training = DataLoader(training_set, batch_size=lstm_args.batch_size)\n",
    "loader_val = DataLoader(training_set, batch_size=lstm_args.batch_size)\n",
    "loader_test = DataLoader(test_set)"
   ]
  },
  {
   "cell_type": "code",
   "execution_count": 53,
   "metadata": {},
   "outputs": [],
   "source": [
    "WARMUP_STEPS=500\n",
    "WARMUP_FACTOR = 1.0 / 3.0\n",
    "GLOBAL_STEPS=0\n",
    "LR_INIT=0.01\n",
    "def train_model(model, train_dl,val_dl, epochs=10, lr=0.01):\n",
    "    parameters = filter(lambda p: p.requires_grad, model.parameters())\n",
    "    optimizer = torch.optim.SGD(model.parameters(),lr =lr,momentum=0.9,weight_decay=0.0001)\n",
    "    for i in range(epochs):\n",
    "        model.train()\n",
    "        sum_loss = 0.0\n",
    "        total = 0\n",
    "        for x, y in train_dl:\n",
    "            x = torch.tensor(x).to(torch.long).cuda()\n",
    "            y_pred = model(x)\n",
    "            optimizer.zero_grad()\n",
    "            loss = F.cross_entropy(y_pred, y)\n",
    "            loss.backward()\n",
    "            optimizer.step()\n",
    "            sum_loss += loss.item()*y.shape[0]\n",
    "            total += y.shape[0]\n",
    "        val_loss, val_acc, val_rmse = validation_metrics(model, val_dl)\n",
    "        torch.cuda.empty_cache()\n",
    "        if i % 5 == 1:\n",
    "            print(\"train loss %.3f, val loss %.3f, val accuracy %.3f, and val rmse %.3f\" % (sum_loss/total, val_loss, val_acc))\n"
   ]
  },
  {
   "cell_type": "code",
   "execution_count": 54,
   "metadata": {},
   "outputs": [],
   "source": [
    "def validation_metrics (model, valid_dl):\n",
    "    model.eval()\n",
    "    correct = 0\n",
    "    total = 0\n",
    "    sum_loss = 0.0\n",
    "    sum_rmse = 0.0\n",
    "    for x, y in valid_dl:\n",
    "        x = x.cuda()\n",
    "        y_hat = model(x)\n",
    "        loss = F.cross_entropy(y_hat, y)\n",
    "        pred = torch.max(y_hat, 1)[1]\n",
    "        correct += (pred == y).float().sum()\n",
    "        total += y.shape[0]\n",
    "        sum_loss += loss.item()*y.shape[0]\n",
    "        sum_rmse += np.sqrt(mean_squared_error(pred, y.unsqueeze(-1)))*y.shape[0]\n",
    "    torch.cuda.empty_cache()\n",
    "    return sum_loss/total, correct/total, sum_rmse/total"
   ]
  },
  {
   "cell_type": "code",
   "execution_count": 55,
   "metadata": {},
   "outputs": [],
   "source": [
    "model = Simple_LSTM(lstm_args).cuda()"
   ]
  },
  {
   "cell_type": "code",
   "execution_count": 1,
   "metadata": {},
   "outputs": [],
   "source": [
    "train_model(model, loader_training,loader_val, epochs=5, lr=0.01)"
   ]
  },
  {
   "cell_type": "code",
   "execution_count": 459,
   "metadata": {},
   "outputs": [],
   "source": [
    " torch.cuda.empty_cache()"
   ]
  },
  {
   "cell_type": "code",
   "execution_count": null,
   "metadata": {},
   "outputs": [],
   "source": []
  }
 ]
}